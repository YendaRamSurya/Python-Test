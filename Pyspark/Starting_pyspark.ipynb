{
 "cells": [
  {
   "cell_type": "code",
   "execution_count": 2,
   "id": "2dec1877-b1d1-4651-a5cb-7082d3b84457",
   "metadata": {
    "execution": {
     "iopub.execute_input": "2023-03-27T01:55:21.879995Z",
     "iopub.status.busy": "2023-03-27T01:55:21.878840Z",
     "iopub.status.idle": "2023-03-27T01:55:21.885643Z",
     "shell.execute_reply": "2023-03-27T01:55:21.884560Z",
     "shell.execute_reply.started": "2023-03-27T01:55:21.879995Z"
    },
    "tags": []
   },
   "outputs": [],
   "source": [
    "import pyspark as spark"
   ]
  },
  {
   "cell_type": "code",
   "execution_count": null,
   "id": "a5542462-94cd-457a-bbc3-46a7f0bda16c",
   "metadata": {},
   "outputs": [],
   "source": []
  }
 ],
 "metadata": {
  "kernelspec": {
   "display_name": "Python 3",
   "language": "python",
   "name": "python3"
  },
  "language_info": {
   "codemirror_mode": {
    "name": "ipython",
    "version": 3
   },
   "file_extension": ".py",
   "mimetype": "text/x-python",
   "name": "python",
   "nbconvert_exporter": "python",
   "pygments_lexer": "ipython3",
   "version": "3.7.9"
  }
 },
 "nbformat": 4,
 "nbformat_minor": 5
}
