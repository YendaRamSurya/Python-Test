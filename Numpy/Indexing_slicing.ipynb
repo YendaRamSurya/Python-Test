{
 "cells": [
  {
   "cell_type": "markdown",
   "metadata": {},
   "source": [
    " # Index"
   ]
  },
  {
   "cell_type": "markdown",
   "metadata": {},
   "source": [
    "- Concepts we look into\n",
    "  > \n",
    "    - Indexing\n",
    "    - Slicing 1d array\n",
    "    - Slicing 2d array\n",
    "    - Usage of step - such as arrange \n",
    "    - array of ones and zeros \n",
    "    - identity\n",
    "    - Logical functions such as logical_and, logical_or\n",
    "    - vectorization\n",
    "    - broadcasting 2D array with a 1D array"
   ]
  },
  {
   "cell_type": "markdown",
   "metadata": {},
   "source": [
    "# indexing \n"
   ]
  },
  {
   "cell_type": "markdown",
   "metadata": {},
   "source": [
    "We can access the elements of an array using its **index**. Index gives the location of an element of an array. \n",
    "\n",
    "- The first index is '0'.\n",
    "- The second index is '1' and so on.\n",
    "- The second last index is '-2'.\n",
    "- The last index is '-1'.\n",
    "\n",
    "### Indexing in a one-dimensional array\n",
    "\n",
    "A one-dimensional array is indexed just like a list."
   ]
  },
  {
   "cell_type": "code",
   "execution_count": 4,
   "metadata": {
    "execution": {
     "iopub.execute_input": "2021-02-07T06:17:45.885002Z",
     "iopub.status.busy": "2021-02-07T06:17:45.885002Z",
     "iopub.status.idle": "2021-02-07T06:17:46.036451Z",
     "shell.execute_reply": "2021-02-07T06:17:46.035464Z",
     "shell.execute_reply.started": "2021-02-07T06:17:45.885002Z"
    }
   },
   "outputs": [],
   "source": [
    "import numpy as np\n",
    "\n",
    "a = np.array([10,55,23,44,25,89])"
   ]
  },
  {
   "cell_type": "code",
   "execution_count": 5,
   "metadata": {
    "execution": {
     "iopub.execute_input": "2021-02-07T06:17:46.038452Z",
     "iopub.status.busy": "2021-02-07T06:17:46.037458Z",
     "iopub.status.idle": "2021-02-07T06:17:46.051461Z",
     "shell.execute_reply": "2021-02-07T06:17:46.051461Z",
     "shell.execute_reply.started": "2021-02-07T06:17:46.038452Z"
    }
   },
   "outputs": [
    {
     "data": {
      "text/plain": [
       "array([10, 55, 23, 44, 25, 89])"
      ]
     },
     "execution_count": 5,
     "metadata": {},
     "output_type": "execute_result"
    }
   ],
   "source": [
    "a[:]"
   ]
  },
  {
   "cell_type": "code",
   "execution_count": 6,
   "metadata": {
    "execution": {
     "iopub.execute_input": "2021-02-07T06:17:46.053455Z",
     "iopub.status.busy": "2021-02-07T06:17:46.053455Z",
     "iopub.status.idle": "2021-02-07T06:17:46.068458Z",
     "shell.execute_reply": "2021-02-07T06:17:46.067458Z",
     "shell.execute_reply.started": "2021-02-07T06:17:46.053455Z"
    }
   },
   "outputs": [
    {
     "data": {
      "text/plain": [
       "55"
      ]
     },
     "execution_count": 6,
     "metadata": {},
     "output_type": "execute_result"
    }
   ],
   "source": [
    "a[1]"
   ]
  },
  {
   "cell_type": "code",
   "execution_count": 7,
   "metadata": {
    "execution": {
     "iopub.execute_input": "2021-02-07T06:17:46.070462Z",
     "iopub.status.busy": "2021-02-07T06:17:46.069458Z",
     "iopub.status.idle": "2021-02-07T06:17:46.083462Z",
     "shell.execute_reply": "2021-02-07T06:17:46.082462Z",
     "shell.execute_reply.started": "2021-02-07T06:17:46.070462Z"
    }
   },
   "outputs": [
    {
     "data": {
      "text/plain": [
       "89"
      ]
     },
     "execution_count": 7,
     "metadata": {},
     "output_type": "execute_result"
    }
   ],
   "source": [
    "a[-1]"
   ]
  },
  {
   "cell_type": "markdown",
   "metadata": {},
   "source": [
    "## Indexing 2-D array"
   ]
  },
  {
   "cell_type": "code",
   "execution_count": 8,
   "metadata": {
    "execution": {
     "iopub.execute_input": "2021-02-07T06:17:46.084462Z",
     "iopub.status.busy": "2021-02-07T06:17:46.083462Z",
     "iopub.status.idle": "2021-02-07T06:17:46.097465Z",
     "shell.execute_reply": "2021-02-07T06:17:46.097465Z",
     "shell.execute_reply.started": "2021-02-07T06:17:46.084462Z"
    }
   },
   "outputs": [
    {
     "data": {
      "text/plain": [
       "array([[12, 22, 35],\n",
       "       [15, 61, 69],\n",
       "       [78, 55, 64]])"
      ]
     },
     "execution_count": 8,
     "metadata": {},
     "output_type": "execute_result"
    }
   ],
   "source": [
    "a2 =np.array([[12,22,35],[15,61,69],[78,55,64]])\n",
    "a2"
   ]
  },
  {
   "cell_type": "code",
   "execution_count": 9,
   "metadata": {
    "execution": {
     "iopub.execute_input": "2021-02-07T06:17:46.098472Z",
     "iopub.status.busy": "2021-02-07T06:17:46.098472Z",
     "iopub.status.idle": "2021-02-07T06:17:46.113468Z",
     "shell.execute_reply": "2021-02-07T06:17:46.113468Z",
     "shell.execute_reply.started": "2021-02-07T06:17:46.098472Z"
    }
   },
   "outputs": [
    {
     "name": "stdout",
     "output_type": "stream",
     "text": [
      "[[12 22 35]\n",
      " [15 61 69]\n",
      " [78 55 64]]\n"
     ]
    }
   ],
   "source": [
    "print(a2)"
   ]
  },
  {
   "cell_type": "code",
   "execution_count": 10,
   "metadata": {
    "execution": {
     "iopub.execute_input": "2021-02-07T06:17:46.114468Z",
     "iopub.status.busy": "2021-02-07T06:17:46.114468Z",
     "iopub.status.idle": "2021-02-07T06:17:46.130472Z",
     "shell.execute_reply": "2021-02-07T06:17:46.129472Z",
     "shell.execute_reply.started": "2021-02-07T06:17:46.114468Z"
    }
   },
   "outputs": [
    {
     "data": {
      "text/plain": [
       "69"
      ]
     },
     "execution_count": 10,
     "metadata": {},
     "output_type": "execute_result"
    }
   ],
   "source": [
    "a2[1][2]"
   ]
  },
  {
   "cell_type": "code",
   "execution_count": 11,
   "metadata": {
    "execution": {
     "iopub.execute_input": "2021-02-07T06:17:46.132475Z",
     "iopub.status.busy": "2021-02-07T06:17:46.132475Z",
     "iopub.status.idle": "2021-02-07T06:17:46.146475Z",
     "shell.execute_reply": "2021-02-07T06:17:46.145476Z",
     "shell.execute_reply.started": "2021-02-07T06:17:46.132475Z"
    }
   },
   "outputs": [
    {
     "data": {
      "text/plain": [
       "array([15, 61, 69])"
      ]
     },
     "execution_count": 11,
     "metadata": {},
     "output_type": "execute_result"
    }
   ],
   "source": [
    "a2[1]"
   ]
  },
  {
   "cell_type": "code",
   "execution_count": 12,
   "metadata": {
    "execution": {
     "iopub.execute_input": "2021-02-07T06:17:46.147476Z",
     "iopub.status.busy": "2021-02-07T06:17:46.147476Z",
     "iopub.status.idle": "2021-02-07T06:17:46.162499Z",
     "shell.execute_reply": "2021-02-07T06:17:46.161492Z",
     "shell.execute_reply.started": "2021-02-07T06:17:46.147476Z"
    }
   },
   "outputs": [
    {
     "data": {
      "text/plain": [
       "69"
      ]
     },
     "execution_count": 12,
     "metadata": {},
     "output_type": "execute_result"
    }
   ],
   "source": [
    "   a2[1,2]"
   ]
  },
  {
   "cell_type": "markdown",
   "metadata": {},
   "source": [
    "## Slicing\n",
    "Slicing a single dimensional array \n"
   ]
  },
  {
   "cell_type": "code",
   "execution_count": 13,
   "metadata": {
    "execution": {
     "iopub.execute_input": "2021-02-07T06:17:46.163493Z",
     "iopub.status.busy": "2021-02-07T06:17:46.163493Z",
     "iopub.status.idle": "2021-02-07T06:17:46.178492Z",
     "shell.execute_reply": "2021-02-07T06:17:46.177503Z",
     "shell.execute_reply.started": "2021-02-07T06:17:46.163493Z"
    }
   },
   "outputs": [
    {
     "data": {
      "text/plain": [
       "array([10, 55, 23, 44, 25, 89])"
      ]
     },
     "execution_count": 13,
     "metadata": {},
     "output_type": "execute_result"
    }
   ],
   "source": [
    "a[:]"
   ]
  },
  {
   "cell_type": "code",
   "execution_count": 14,
   "metadata": {
    "execution": {
     "iopub.execute_input": "2021-02-07T06:17:46.180490Z",
     "iopub.status.busy": "2021-02-07T06:17:46.179485Z",
     "iopub.status.idle": "2021-02-07T06:17:46.193488Z",
     "shell.execute_reply": "2021-02-07T06:17:46.192505Z",
     "shell.execute_reply.started": "2021-02-07T06:17:46.180490Z"
    }
   },
   "outputs": [
    {
     "data": {
      "text/plain": [
       "array([55, 23, 44, 25, 89])"
      ]
     },
     "execution_count": 14,
     "metadata": {},
     "output_type": "execute_result"
    }
   ],
   "source": [
    "a[1:]\n"
   ]
  },
  {
   "cell_type": "code",
   "execution_count": 15,
   "metadata": {
    "execution": {
     "iopub.execute_input": "2021-02-07T06:17:46.195487Z",
     "iopub.status.busy": "2021-02-07T06:17:46.194486Z",
     "iopub.status.idle": "2021-02-07T06:17:46.208491Z",
     "shell.execute_reply": "2021-02-07T06:17:46.207490Z",
     "shell.execute_reply.started": "2021-02-07T06:17:46.195487Z"
    }
   },
   "outputs": [
    {
     "data": {
      "text/plain": [
       "array([89])"
      ]
     },
     "execution_count": 15,
     "metadata": {},
     "output_type": "execute_result"
    }
   ],
   "source": [
    "a[-1:]"
   ]
  },
  {
   "cell_type": "code",
   "execution_count": 16,
   "metadata": {
    "execution": {
     "iopub.execute_input": "2021-02-07T06:17:46.209491Z",
     "iopub.status.busy": "2021-02-07T06:17:46.209491Z",
     "iopub.status.idle": "2021-02-07T06:17:46.223495Z",
     "shell.execute_reply": "2021-02-07T06:17:46.222493Z",
     "shell.execute_reply.started": "2021-02-07T06:17:46.209491Z"
    }
   },
   "outputs": [
    {
     "data": {
      "text/plain": [
       "array([10, 55, 23, 44, 25])"
      ]
     },
     "execution_count": 16,
     "metadata": {},
     "output_type": "execute_result"
    }
   ],
   "source": [
    "a[:-1]"
   ]
  },
  {
   "cell_type": "code",
   "execution_count": 17,
   "metadata": {
    "execution": {
     "iopub.execute_input": "2021-02-07T06:17:46.224494Z",
     "iopub.status.busy": "2021-02-07T06:17:46.223495Z",
     "iopub.status.idle": "2021-02-07T06:17:46.239498Z",
     "shell.execute_reply": "2021-02-07T06:17:46.238497Z",
     "shell.execute_reply.started": "2021-02-07T06:17:46.224494Z"
    }
   },
   "outputs": [
    {
     "data": {
      "text/plain": [
       "array([23, 44])"
      ]
     },
     "execution_count": 17,
     "metadata": {},
     "output_type": "execute_result"
    }
   ],
   "source": [
    "a[2:4]"
   ]
  },
  {
   "cell_type": "code",
   "execution_count": 18,
   "metadata": {
    "execution": {
     "iopub.execute_input": "2021-02-07T06:17:46.239498Z",
     "iopub.status.busy": "2021-02-07T06:17:46.239498Z",
     "iopub.status.idle": "2021-02-07T06:17:46.254500Z",
     "shell.execute_reply": "2021-02-07T06:17:46.253499Z",
     "shell.execute_reply.started": "2021-02-07T06:17:46.239498Z"
    }
   },
   "outputs": [
    {
     "data": {
      "text/plain": [
       "array([10, 23, 25])"
      ]
     },
     "execution_count": 18,
     "metadata": {},
     "output_type": "execute_result"
    }
   ],
   "source": [
    "a[::2]\n",
    "\n",
    "# \"indexes with multiples of 2\""
   ]
  },
  {
   "cell_type": "code",
   "execution_count": 19,
   "metadata": {
    "execution": {
     "iopub.execute_input": "2021-02-07T06:17:46.255500Z",
     "iopub.status.busy": "2021-02-07T06:17:46.255500Z",
     "iopub.status.idle": "2021-02-07T06:17:46.270524Z",
     "shell.execute_reply": "2021-02-07T06:17:46.269516Z",
     "shell.execute_reply.started": "2021-02-07T06:17:46.255500Z"
    }
   },
   "outputs": [
    {
     "data": {
      "text/plain": [
       "array([10, 44])"
      ]
     },
     "execution_count": 19,
     "metadata": {},
     "output_type": "execute_result"
    }
   ],
   "source": [
    "a[::3]"
   ]
  },
  {
   "cell_type": "markdown",
   "metadata": {},
   "source": [
    "### Slicing a two-dimensional array\n",
    "\n",
    "You can slice a two-dimensional array in various ways:\n",
    "- Print a row or a column\n",
    "- Print multiple rows or columns\n",
    "- Print a section of table for given rows and columns\n",
    "- Print first and/or last rows and/or columns.\n",
    "- Print rows and columns after certain step. \n",
    "\n",
    "Syntax: \n",
    "####  array_name [row start: row stop: row step], [col start, col stop, col step]"
   ]
  },
  {
   "cell_type": "code",
   "execution_count": 51,
   "metadata": {
    "execution": {
     "iopub.execute_input": "2021-02-07T06:18:09.574647Z",
     "iopub.status.busy": "2021-02-07T06:18:09.574647Z",
     "iopub.status.idle": "2021-02-07T06:18:09.591192Z",
     "shell.execute_reply": "2021-02-07T06:18:09.591192Z",
     "shell.execute_reply.started": "2021-02-07T06:18:09.574647Z"
    }
   },
   "outputs": [],
   "source": [
    "A = np.array([\n",
    "[\"00\", \"01\", \"02\", \"03\", \"04\"],\n",
    "[10, 11, 12, 13, 14],\n",
    "[20, 21, 22, 23, 24],\n",
    "[30, 31, 32, 33, 34],\n",
    "[40, 41, 42, 43, 44] \n",
    "])\n"
   ]
  },
  {
   "cell_type": "code",
   "execution_count": 61,
   "metadata": {
    "execution": {
     "iopub.execute_input": "2021-02-07T06:19:36.470237Z",
     "iopub.status.busy": "2021-02-07T06:19:36.470237Z",
     "iopub.status.idle": "2021-02-07T06:19:36.485233Z",
     "shell.execute_reply": "2021-02-07T06:19:36.484245Z",
     "shell.execute_reply.started": "2021-02-07T06:19:36.470237Z"
    }
   },
   "outputs": [
    {
     "data": {
      "text/plain": [
       "array(['10', '11', '12'], dtype='<U2')"
      ]
     },
     "execution_count": 61,
     "metadata": {},
     "output_type": "execute_result"
    }
   ],
   "source": [
    "A[1,:-2] # printing the row \n"
   ]
  },
  {
   "cell_type": "code",
   "execution_count": 22,
   "metadata": {
    "execution": {
     "iopub.execute_input": "2021-02-07T06:17:46.302511Z",
     "iopub.status.busy": "2021-02-07T06:17:46.302511Z",
     "iopub.status.idle": "2021-02-07T06:17:46.316514Z",
     "shell.execute_reply": "2021-02-07T06:17:46.315514Z",
     "shell.execute_reply.started": "2021-02-07T06:17:46.302511Z"
    }
   },
   "outputs": [
    {
     "data": {
      "text/plain": [
       "array(['02', '12', '22', '32', '42'], dtype='<U2')"
      ]
     },
     "execution_count": 22,
     "metadata": {},
     "output_type": "execute_result"
    }
   ],
   "source": [
    "A[:,2] # printing the column "
   ]
  },
  {
   "cell_type": "markdown",
   "metadata": {},
   "source": [
    "Printing Multiple rows or columns \n"
   ]
  },
  {
   "cell_type": "code",
   "execution_count": 23,
   "metadata": {
    "execution": {
     "iopub.execute_input": "2021-02-07T06:17:46.317522Z",
     "iopub.status.busy": "2021-02-07T06:17:46.317522Z",
     "iopub.status.idle": "2021-02-07T06:17:46.332538Z",
     "shell.execute_reply": "2021-02-07T06:17:46.331537Z",
     "shell.execute_reply.started": "2021-02-07T06:17:46.317522Z"
    }
   },
   "outputs": [
    {
     "data": {
      "text/plain": [
       "array([['00', '01', '02', '03', '04'],\n",
       "       ['10', '11', '12', '13', '14']], dtype='<U2')"
      ]
     },
     "execution_count": 23,
     "metadata": {},
     "output_type": "execute_result"
    }
   ],
   "source": [
    "A[:2,]"
   ]
  },
  {
   "cell_type": "code",
   "execution_count": 24,
   "metadata": {
    "execution": {
     "iopub.execute_input": "2021-02-07T06:17:46.333525Z",
     "iopub.status.busy": "2021-02-07T06:17:46.333525Z",
     "iopub.status.idle": "2021-02-07T06:17:46.348521Z",
     "shell.execute_reply": "2021-02-07T06:17:46.347529Z",
     "shell.execute_reply.started": "2021-02-07T06:17:46.333525Z"
    }
   },
   "outputs": [
    {
     "data": {
      "text/plain": [
       "array([['01', '02'],\n",
       "       ['11', '12'],\n",
       "       ['21', '22'],\n",
       "       ['31', '32'],\n",
       "       ['41', '42']], dtype='<U2')"
      ]
     },
     "execution_count": 24,
     "metadata": {},
     "output_type": "execute_result"
    }
   ],
   "source": [
    "A[:,1:3]"
   ]
  },
  {
   "cell_type": "code",
   "execution_count": 25,
   "metadata": {
    "execution": {
     "iopub.execute_input": "2021-02-07T06:17:46.348521Z",
     "iopub.status.busy": "2021-02-07T06:17:46.348521Z",
     "iopub.status.idle": "2021-02-07T06:17:46.363526Z",
     "shell.execute_reply": "2021-02-07T06:17:46.362523Z",
     "shell.execute_reply.started": "2021-02-07T06:17:46.348521Z"
    }
   },
   "outputs": [
    {
     "name": "stdout",
     "output_type": "stream",
     "text": [
      "['00' '01' '02' '03' '04']\n",
      "['04' '14' '24' '34' '44']\n"
     ]
    }
   ],
   "source": [
    "# print first or last rows or columns \n",
    "\n",
    "print(A[0,])\n",
    "print(A[:,-1])"
   ]
  },
  {
   "cell_type": "code",
   "execution_count": 26,
   "metadata": {
    "execution": {
     "iopub.execute_input": "2021-02-07T06:17:46.366526Z",
     "iopub.status.busy": "2021-02-07T06:17:46.366526Z",
     "iopub.status.idle": "2021-02-07T06:17:46.378548Z",
     "shell.execute_reply": "2021-02-07T06:17:46.377535Z",
     "shell.execute_reply.started": "2021-02-07T06:17:46.366526Z"
    }
   },
   "outputs": [
    {
     "name": "stdout",
     "output_type": "stream",
     "text": [
      "['22' '32' '42']\n"
     ]
    }
   ],
   "source": [
    "#Print Selected rows and columns \n",
    "\n",
    "print(A[2:,2]) # print 3 rd row and second column "
   ]
  },
  {
   "cell_type": "code",
   "execution_count": 27,
   "metadata": {
    "execution": {
     "iopub.execute_input": "2021-02-07T06:17:46.380529Z",
     "iopub.status.busy": "2021-02-07T06:17:46.380529Z",
     "iopub.status.idle": "2021-02-07T06:17:46.394540Z",
     "shell.execute_reply": "2021-02-07T06:17:46.393544Z",
     "shell.execute_reply.started": "2021-02-07T06:17:46.380529Z"
    }
   },
   "outputs": [
    {
     "name": "stdout",
     "output_type": "stream",
     "text": [
      "['34' '44']\n"
     ]
    }
   ],
   "source": [
    "print(A[3:,4]) # last column last two cells "
   ]
  },
  {
   "cell_type": "code",
   "execution_count": 28,
   "metadata": {
    "execution": {
     "iopub.execute_input": "2021-02-07T06:17:46.395542Z",
     "iopub.status.busy": "2021-02-07T06:17:46.395542Z",
     "iopub.status.idle": "2021-02-07T06:17:46.409542Z",
     "shell.execute_reply": "2021-02-07T06:17:46.409542Z",
     "shell.execute_reply.started": "2021-02-07T06:17:46.395542Z"
    }
   },
   "outputs": [
    {
     "name": "stdout",
     "output_type": "stream",
     "text": [
      "[['02' '03' '04']\n",
      " ['12' '13' '14']\n",
      " ['22' '23' '24']]\n"
     ]
    }
   ],
   "source": [
    "# 1st three rows for the last three columns\n",
    "\n",
    "print(A[:3,2:])"
   ]
  },
  {
   "cell_type": "code",
   "execution_count": 29,
   "metadata": {
    "execution": {
     "iopub.execute_input": "2021-02-07T06:17:46.410543Z",
     "iopub.status.busy": "2021-02-07T06:17:46.410543Z",
     "iopub.status.idle": "2021-02-07T06:17:46.424539Z",
     "shell.execute_reply": "2021-02-07T06:17:46.424539Z",
     "shell.execute_reply.started": "2021-02-07T06:17:46.410543Z"
    }
   },
   "outputs": [
    {
     "name": "stdout",
     "output_type": "stream",
     "text": [
      "[['22' '23' '24']\n",
      " ['32' '33' '34']\n",
      " ['42' '43' '44']]\n"
     ]
    }
   ],
   "source": [
    " # Array without last three columns\n",
    "\n",
    "print(A[2:,2:])"
   ]
  },
  {
   "cell_type": "code",
   "execution_count": 30,
   "metadata": {
    "execution": {
     "iopub.execute_input": "2021-02-07T06:17:46.425540Z",
     "iopub.status.busy": "2021-02-07T06:17:46.425540Z",
     "iopub.status.idle": "2021-02-07T06:17:46.439542Z",
     "shell.execute_reply": "2021-02-07T06:17:46.439542Z",
     "shell.execute_reply.started": "2021-02-07T06:17:46.425540Z"
    }
   },
   "outputs": [
    {
     "name": "stdout",
     "output_type": "stream",
     "text": [
      "[['00' '01' '02']\n",
      " ['10' '11' '12']\n",
      " ['20' '21' '22']\n",
      " ['30' '31' '32']\n",
      " ['40' '41' '42']]\n"
     ]
    }
   ],
   "source": [
    "# print first without last three columns\n",
    "\n",
    "print(A[:,:-2])"
   ]
  },
  {
   "cell_type": "markdown",
   "metadata": {},
   "source": [
    "## Using Step "
   ]
  },
  {
   "cell_type": "code",
   "execution_count": 31,
   "metadata": {
    "execution": {
     "iopub.execute_input": "2021-02-07T06:17:46.441542Z",
     "iopub.status.busy": "2021-02-07T06:17:46.440544Z",
     "iopub.status.idle": "2021-02-07T06:17:46.455545Z",
     "shell.execute_reply": "2021-02-07T06:17:46.455545Z",
     "shell.execute_reply.started": "2021-02-07T06:17:46.441542Z"
    }
   },
   "outputs": [
    {
     "name": "stdout",
     "output_type": "stream",
     "text": [
      "[[ 0  1  2  3  4]\n",
      " [ 5  6  7  8  9]\n",
      " [10 11 12 13 14]\n",
      " [15 16 17 18 19]\n",
      " [20 21 22 23 24]\n",
      " [25 26 27 28 29]\n",
      " [30 31 32 33 34]\n",
      " [35 36 37 38 39]\n",
      " [40 41 42 43 44]\n",
      " [45 46 47 48 49]]\n"
     ]
    }
   ],
   "source": [
    "# Let us create a new array using the arange method for this exercise\n",
    "\n",
    "# automatically create a 2 dimensional array with defined shape \n",
    "\n",
    "array = np.arange(50)\n",
    "array.shape =(10,5) \n",
    "print(array)"
   ]
  },
  {
   "cell_type": "code",
   "execution_count": 32,
   "metadata": {
    "execution": {
     "iopub.execute_input": "2021-02-07T06:17:46.457547Z",
     "iopub.status.busy": "2021-02-07T06:17:46.457547Z",
     "iopub.status.idle": "2021-02-07T06:17:46.471549Z",
     "shell.execute_reply": "2021-02-07T06:17:46.471549Z",
     "shell.execute_reply.started": "2021-02-07T06:17:46.457547Z"
    }
   },
   "outputs": [
    {
     "data": {
      "text/plain": [
       "array([[ 0,  1,  2,  3,  4,  5,  6,  7,  8,  9],\n",
       "       [10, 11, 12, 13, 14, 15, 16, 17, 18, 19],\n",
       "       [20, 21, 22, 23, 24, 25, 26, 27, 28, 29],\n",
       "       [30, 31, 32, 33, 34, 35, 36, 37, 38, 39],\n",
       "       [40, 41, 42, 43, 44, 45, 46, 47, 48, 49]])"
      ]
     },
     "execution_count": 32,
     "metadata": {},
     "output_type": "execute_result"
    }
   ],
   "source": [
    "array.reshape(5,10)"
   ]
  },
  {
   "cell_type": "code",
   "execution_count": 33,
   "metadata": {
    "execution": {
     "iopub.execute_input": "2021-02-07T06:17:46.472550Z",
     "iopub.status.busy": "2021-02-07T06:17:46.472550Z",
     "iopub.status.idle": "2021-02-07T06:17:46.487560Z",
     "shell.execute_reply": "2021-02-07T06:17:46.487560Z",
     "shell.execute_reply.started": "2021-02-07T06:17:46.472550Z"
    }
   },
   "outputs": [
    {
     "name": "stdout",
     "output_type": "stream",
     "text": [
      "[[ 0  1  2  3  4]\n",
      " [ 5  6  7  8  9]\n",
      " [10 11 12 13 14]\n",
      " [15 16 17 18 19]\n",
      " [20 21 22 23 24]\n",
      " [25 26 27 28 29]\n",
      " [30 31 32 33 34]\n",
      " [35 36 37 38 39]\n",
      " [40 41 42 43 44]\n",
      " [45 46 47 48 49]]\n",
      "[[ 5  6  7  8  9]\n",
      " [15 16 17 18 19]\n",
      " [25 26 27 28 29]\n",
      " [35 36 37 38 39]\n",
      " [45 46 47 48 49]]\n"
     ]
    }
   ],
   "source": [
    "# Using step in slicing\n",
    "print(array)\n",
    "print(array[1::2,]) # Print rows 1, 3, and 5"
   ]
  },
  {
   "cell_type": "code",
   "execution_count": 34,
   "metadata": {
    "execution": {
     "iopub.execute_input": "2021-02-07T06:17:46.488561Z",
     "iopub.status.busy": "2021-02-07T06:17:46.488561Z",
     "iopub.status.idle": "2021-02-07T06:17:46.504564Z",
     "shell.execute_reply": "2021-02-07T06:17:46.503556Z",
     "shell.execute_reply.started": "2021-02-07T06:17:46.488561Z"
    }
   },
   "outputs": [
    {
     "name": "stdout",
     "output_type": "stream",
     "text": [
      "[[ 2  4]\n",
      " [ 7  9]\n",
      " [12 14]\n",
      " [17 19]\n",
      " [22 24]\n",
      " [27 29]\n",
      " [32 34]\n",
      " [37 39]\n",
      " [42 44]\n",
      " [47 49]]\n"
     ]
    }
   ],
   "source": [
    "# Print columns 2 & 4\n",
    "\n",
    "print(array[:,2::2])"
   ]
  },
  {
   "cell_type": "code",
   "execution_count": 35,
   "metadata": {
    "execution": {
     "iopub.execute_input": "2021-02-07T06:17:46.505570Z",
     "iopub.status.busy": "2021-02-07T06:17:46.505570Z",
     "iopub.status.idle": "2021-02-07T06:17:46.519573Z",
     "shell.execute_reply": "2021-02-07T06:17:46.518566Z",
     "shell.execute_reply.started": "2021-02-07T06:17:46.505570Z"
    }
   },
   "outputs": [
    {
     "name": "stdout",
     "output_type": "stream",
     "text": [
      "[[ 0  3]\n",
      " [10 13]\n",
      " [20 23]]\n"
     ]
    }
   ],
   "source": [
    "# This will print an intersection of elements of rows 0, 2, 4 and columns 0, 3\n",
    "\n",
    "print(array[:5:2,:4:3])"
   ]
  },
  {
   "cell_type": "markdown",
   "metadata": {},
   "source": [
    "## Array of ones and zeros\n",
    "\n",
    "We will be initialising arrays which have all the elements either as zeros or one. Such arrays help us while performing arithmetic operations"
   ]
  },
  {
   "cell_type": "code",
   "execution_count": 36,
   "metadata": {
    "execution": {
     "iopub.execute_input": "2021-02-07T06:17:46.520574Z",
     "iopub.status.busy": "2021-02-07T06:17:46.520574Z",
     "iopub.status.idle": "2021-02-07T06:17:46.533571Z",
     "shell.execute_reply": "2021-02-07T06:17:46.533571Z",
     "shell.execute_reply.started": "2021-02-07T06:17:46.520574Z"
    }
   },
   "outputs": [
    {
     "name": "stdout",
     "output_type": "stream",
     "text": [
      "[[1. 1. 1. 1.]\n",
      " [1. 1. 1. 1.]\n",
      " [1. 1. 1. 1.]\n",
      " [1. 1. 1. 1.]]\n"
     ]
    }
   ],
   "source": [
    "o = np.ones((4,4))\n",
    "print(o)"
   ]
  },
  {
   "cell_type": "code",
   "execution_count": 37,
   "metadata": {
    "execution": {
     "iopub.execute_input": "2021-02-07T06:17:46.534571Z",
     "iopub.status.busy": "2021-02-07T06:17:46.534571Z",
     "iopub.status.idle": "2021-02-07T06:17:46.549576Z",
     "shell.execute_reply": "2021-02-07T06:17:46.549576Z",
     "shell.execute_reply.started": "2021-02-07T06:17:46.534571Z"
    }
   },
   "outputs": [
    {
     "name": "stdout",
     "output_type": "stream",
     "text": [
      "[[1 1 1 1 1 1 1 1]\n",
      " [1 1 1 1 1 1 1 1]]\n"
     ]
    }
   ],
   "source": [
    "o = np.ones((4,4),int).reshape(2,8)\n",
    "print(o)"
   ]
  },
  {
   "cell_type": "code",
   "execution_count": 38,
   "metadata": {
    "execution": {
     "iopub.execute_input": "2021-02-07T06:17:46.550575Z",
     "iopub.status.busy": "2021-02-07T06:17:46.550575Z",
     "iopub.status.idle": "2021-02-07T06:17:46.566591Z",
     "shell.execute_reply": "2021-02-07T06:17:46.565583Z",
     "shell.execute_reply.started": "2021-02-07T06:17:46.550575Z"
    }
   },
   "outputs": [
    {
     "name": "stdout",
     "output_type": "stream",
     "text": [
      "[[0. 0. 0. 0.]\n",
      " [0. 0. 0. 0.]\n",
      " [0. 0. 0. 0.]\n",
      " [0. 0. 0. 0.]]\n"
     ]
    }
   ],
   "source": [
    "z = np.zeros((4,4))\n",
    "print(z)"
   ]
  },
  {
   "cell_type": "code",
   "execution_count": 39,
   "metadata": {
    "execution": {
     "iopub.execute_input": "2021-02-07T06:17:46.567584Z",
     "iopub.status.busy": "2021-02-07T06:17:46.567584Z",
     "iopub.status.idle": "2021-02-07T06:17:46.581582Z",
     "shell.execute_reply": "2021-02-07T06:17:46.581582Z",
     "shell.execute_reply.started": "2021-02-07T06:17:46.567584Z"
    }
   },
   "outputs": [
    {
     "name": "stdout",
     "output_type": "stream",
     "text": [
      "[[0 0 0 0 0 0 0 0]\n",
      " [0 0 0 0 0 0 0 0]]\n"
     ]
    }
   ],
   "source": [
    "z = np.zeros((4,4),int).reshape(2,8)\n",
    "print(z)"
   ]
  },
  {
   "cell_type": "markdown",
   "metadata": {},
   "source": [
    "Identity function \n",
    "\n",
    "having the diagnol identical \n",
    "\n"
   ]
  },
  {
   "cell_type": "code",
   "execution_count": 40,
   "metadata": {
    "execution": {
     "iopub.execute_input": "2021-02-07T06:17:46.582581Z",
     "iopub.status.busy": "2021-02-07T06:17:46.582581Z",
     "iopub.status.idle": "2021-02-07T06:17:46.597585Z",
     "shell.execute_reply": "2021-02-07T06:17:46.597585Z",
     "shell.execute_reply.started": "2021-02-07T06:17:46.582581Z"
    }
   },
   "outputs": [
    {
     "name": "stdout",
     "output_type": "stream",
     "text": [
      "[[1. 0. 0. 0.]\n",
      " [0. 1. 0. 0.]\n",
      " [0. 0. 1. 0.]\n",
      " [0. 0. 0. 1.]]\n"
     ]
    }
   ],
   "source": [
    "I = np.identity(4)\n",
    "\n",
    "print (I)"
   ]
  },
  {
   "cell_type": "code",
   "execution_count": 41,
   "metadata": {
    "execution": {
     "iopub.execute_input": "2021-02-07T06:17:46.598586Z",
     "iopub.status.busy": "2021-02-07T06:17:46.598586Z",
     "iopub.status.idle": "2021-02-07T06:17:46.614595Z",
     "shell.execute_reply": "2021-02-07T06:17:46.613594Z",
     "shell.execute_reply.started": "2021-02-07T06:17:46.598586Z"
    }
   },
   "outputs": [
    {
     "name": "stdout",
     "output_type": "stream",
     "text": [
      "[[1 0 0]\n",
      " [0 1 0]\n",
      " [0 0 1]]\n"
     ]
    }
   ],
   "source": [
    "I = np.identity (3, dtype = int)\n",
    "\n",
    "print (I)"
   ]
  },
  {
   "cell_type": "code",
   "execution_count": 42,
   "metadata": {
    "execution": {
     "iopub.execute_input": "2021-02-07T06:17:46.615582Z",
     "iopub.status.busy": "2021-02-07T06:17:46.615582Z",
     "iopub.status.idle": "2021-02-07T06:17:46.629585Z",
     "shell.execute_reply": "2021-02-07T06:17:46.628598Z",
     "shell.execute_reply.started": "2021-02-07T06:17:46.615582Z"
    }
   },
   "outputs": [
    {
     "data": {
      "text/plain": [
       "<ufunc 'equal'>"
      ]
     },
     "execution_count": 42,
     "metadata": {},
     "output_type": "execute_result"
    }
   ],
   "source": [
    "np.logical_and\n",
    "np.logical_or\n",
    "np.newaxis\n",
    "np.equal"
   ]
  },
  {
   "cell_type": "markdown",
   "metadata": {},
   "source": [
    "## Vectorization\n",
    "\n",
    "Vectorization of code helps us write complex codes in a compact way and execute them faster. \n",
    "\n",
    "It allows to **operate** or apply a function on a complex object, like an array, \"at once\" rather than iterating over the individual elements. NumPy supports vectorization in an efficient way."
   ]
  },
  {
   "cell_type": "code",
   "execution_count": 43,
   "metadata": {
    "execution": {
     "iopub.execute_input": "2021-02-07T06:17:46.630586Z",
     "iopub.status.busy": "2021-02-07T06:17:46.630586Z",
     "iopub.status.idle": "2021-02-07T06:17:46.644587Z",
     "shell.execute_reply": "2021-02-07T06:17:46.643614Z",
     "shell.execute_reply.started": "2021-02-07T06:17:46.630586Z"
    }
   },
   "outputs": [
    {
     "name": "stdout",
     "output_type": "stream",
     "text": [
      "[1.    2.    3.    4.    5.5   6.6   7.123 8.456]\n"
     ]
    }
   ],
   "source": [
    "import numpy as np # Start the notebook with importing the package\n",
    "\n",
    "my_list = [1, 2, 3, 4, 5.5, 6.6, 7.123, 8.456]\n",
    "\n",
    "V = np.array(my_list) # Creating a 1D array or vector\n",
    "\n",
    "print (V)"
   ]
  },
  {
   "cell_type": "markdown",
   "metadata": {},
   "source": [
    "#### Vectorization using scalars - addition"
   ]
  },
  {
   "cell_type": "code",
   "execution_count": 44,
   "metadata": {
    "execution": {
     "iopub.execute_input": "2021-02-07T06:17:46.645598Z",
     "iopub.status.busy": "2021-02-07T06:17:46.644587Z",
     "iopub.status.idle": "2021-02-07T06:17:46.659599Z",
     "shell.execute_reply": "2021-02-07T06:17:46.659599Z",
     "shell.execute_reply.started": "2021-02-07T06:17:46.645598Z"
    }
   },
   "outputs": [
    {
     "name": "stdout",
     "output_type": "stream",
     "text": [
      "[ 3.     4.     5.     6.     7.5    8.6    9.123 10.456]\n"
     ]
    }
   ],
   "source": [
    "V_a = V + 2 # Every element is increased by 2.\n",
    "\n",
    "print(V_a)"
   ]
  },
  {
   "cell_type": "markdown",
   "metadata": {},
   "source": [
    "#### Vectorization using scalars - subtraction"
   ]
  },
  {
   "cell_type": "code",
   "execution_count": 45,
   "metadata": {
    "execution": {
     "iopub.execute_input": "2021-02-07T06:17:46.660600Z",
     "iopub.status.busy": "2021-02-07T06:17:46.660600Z",
     "iopub.status.idle": "2021-02-07T06:17:46.676604Z",
     "shell.execute_reply": "2021-02-07T06:17:46.675608Z",
     "shell.execute_reply.started": "2021-02-07T06:17:46.660600Z"
    }
   },
   "outputs": [
    {
     "name": "stdout",
     "output_type": "stream",
     "text": [
      "[-1.4   -0.4    0.6    1.6    3.1    4.2    4.723  6.056]\n"
     ]
    }
   ],
   "source": [
    "V_s = V - 2.4 # Every element is reduced by 2.4.\n",
    "\n",
    "print(V_s)"
   ]
  },
  {
   "cell_type": "markdown",
   "metadata": {},
   "source": [
    "#### Vectorization using scalars - multiplication"
   ]
  },
  {
   "cell_type": "code",
   "execution_count": 46,
   "metadata": {
    "execution": {
     "iopub.execute_input": "2021-02-07T06:17:46.677603Z",
     "iopub.status.busy": "2021-02-07T06:17:46.677603Z",
     "iopub.status.idle": "2021-02-07T06:17:46.692606Z",
     "shell.execute_reply": "2021-02-07T06:17:46.691618Z",
     "shell.execute_reply.started": "2021-02-07T06:17:46.677603Z"
    }
   },
   "outputs": [
    {
     "name": "stdout",
     "output_type": "stream",
     "text": [
      "[[1 2 3]\n",
      " [4 5 6]\n",
      " [7 8 9]]\n",
      "[[10 20 30]\n",
      " [40 50 60]\n",
      " [70 80 90]]\n"
     ]
    }
   ],
   "source": [
    "V2 = np.array([ [1, 2, 3], [4,5,6], [7, 8, 9] ]) # Array of shape 3,3\n",
    "\n",
    "V_m = V2 * 10 # Every element is multiplied by 10.\n",
    "\n",
    "print(V2)\n",
    "print(V_m)"
   ]
  },
  {
   "cell_type": "markdown",
   "metadata": {},
   "source": [
    "### 2D Array operations with another 2D array\n",
    "\n",
    "This is only possible when the shape of the two arrays is same. For example, a (2,2) array can be operated with another (2,2) array. \n"
   ]
  },
  {
   "cell_type": "code",
   "execution_count": 63,
   "metadata": {
    "execution": {
     "iopub.execute_input": "2021-02-07T06:27:39.377870Z",
     "iopub.status.busy": "2021-02-07T06:27:39.376870Z",
     "iopub.status.idle": "2021-02-07T06:27:39.395399Z",
     "shell.execute_reply": "2021-02-07T06:27:39.394412Z",
     "shell.execute_reply.started": "2021-02-07T06:27:39.377870Z"
    }
   },
   "outputs": [
    {
     "name": "stdout",
     "output_type": "stream",
     "text": [
      "[[  1   2   3]\n",
      " [ 11  22  33]\n",
      " [111 222 333]]\n",
      "[[1. 1. 1.]\n",
      " [1. 1. 1.]\n",
      " [1. 1. 1.]]\n",
      "[[1. 1. 1. 1.]\n",
      " [1. 1. 1. 1.]\n",
      " [1. 1. 1. 1.]\n",
      " [1. 1. 1. 1.]]\n"
     ]
    }
   ],
   "source": [
    "A = np.array([ [1, 2, 3], [11, 22, 33], [111, 222, 333] ]) # Array of shape 3,3\n",
    "B = np.ones ((3,3)) # Array of shape 3,3\n",
    "C= np.ones ((4,4)) # Array of shape 4,4\n",
    "print (A)\n",
    "print (B)\n",
    "print (C)"
   ]
  },
  {
   "cell_type": "markdown",
   "metadata": {},
   "source": [
    "#### You can only ADD or SUB array with same dimensions "
   ]
  },
  {
   "cell_type": "code",
   "execution_count": 65,
   "metadata": {
    "execution": {
     "iopub.execute_input": "2021-02-07T06:27:43.931862Z",
     "iopub.status.busy": "2021-02-07T06:27:43.931862Z",
     "iopub.status.idle": "2021-02-07T06:27:43.941386Z",
     "shell.execute_reply": "2021-02-07T06:27:43.940399Z",
     "shell.execute_reply.started": "2021-02-07T06:27:43.931862Z"
    }
   },
   "outputs": [
    {
     "name": "stdout",
     "output_type": "stream",
     "text": [
      "Adding the arrays is element wise: \n",
      "[[  2.   3.   4.]\n",
      " [ 12.  23.  34.]\n",
      " [112. 223. 334.]]\n"
     ]
    }
   ],
   "source": [
    "# Addition of 2 arrays of same dimensions (3, 3)\n",
    "\n",
    "print(\"Adding the arrays is element wise: \")\n",
    "\n",
    "print(A + B)"
   ]
  },
  {
   "cell_type": "code",
   "execution_count": 69,
   "metadata": {
    "execution": {
     "iopub.execute_input": "2021-02-07T06:27:54.979898Z",
     "iopub.status.busy": "2021-02-07T06:27:54.979898Z",
     "iopub.status.idle": "2021-02-07T06:27:54.988894Z",
     "shell.execute_reply": "2021-02-07T06:27:54.987906Z",
     "shell.execute_reply.started": "2021-02-07T06:27:54.979898Z"
    }
   },
   "outputs": [
    {
     "name": "stdout",
     "output_type": "stream",
     "text": [
      "Addition of 2 arrays of different shapes or dimensions will throw a ValueError.\n"
     ]
    },
    {
     "ename": "ValueError",
     "evalue": "operands could not be broadcast together with shapes (3,3) (4,4) ",
     "output_type": "error",
     "traceback": [
      "\u001b[1;31m---------------------------------------------------------------------------\u001b[0m",
      "\u001b[1;31mValueError\u001b[0m                                Traceback (most recent call last)",
      "\u001b[1;32m<ipython-input-69-d8dcfa29218d>\u001b[0m in \u001b[0;36m<module>\u001b[1;34m\u001b[0m\n\u001b[0;32m      3\u001b[0m \u001b[0mprint\u001b[0m\u001b[1;33m(\u001b[0m\u001b[1;34m\"Addition of 2 arrays of different shapes or dimensions will throw a ValueError.\"\u001b[0m\u001b[1;33m)\u001b[0m\u001b[1;33m\u001b[0m\u001b[1;33m\u001b[0m\u001b[0m\n\u001b[0;32m      4\u001b[0m \u001b[1;33m\u001b[0m\u001b[0m\n\u001b[1;32m----> 5\u001b[1;33m \u001b[0mprint\u001b[0m\u001b[1;33m(\u001b[0m\u001b[0mA\u001b[0m \u001b[1;33m+\u001b[0m \u001b[0mC\u001b[0m\u001b[1;33m)\u001b[0m\u001b[1;33m\u001b[0m\u001b[1;33m\u001b[0m\u001b[0m\n\u001b[0m",
      "\u001b[1;31mValueError\u001b[0m: operands could not be broadcast together with shapes (3,3) (4,4) "
     ]
    }
   ],
   "source": [
    "# Addition of 2 arrays of different shapes or dimensions is NOT allowed\n",
    "\n",
    "print(\"Addition of 2 arrays of different shapes or dimensions will throw a ValueError.\")\n",
    "\n",
    "print(A + C)"
   ]
  },
  {
   "cell_type": "code",
   "execution_count": 70,
   "metadata": {
    "execution": {
     "iopub.execute_input": "2021-02-07T06:27:56.467553Z",
     "iopub.status.busy": "2021-02-07T06:27:56.467553Z",
     "iopub.status.idle": "2021-02-07T06:27:56.487087Z",
     "shell.execute_reply": "2021-02-07T06:27:56.486104Z",
     "shell.execute_reply.started": "2021-02-07T06:27:56.467553Z"
    }
   },
   "outputs": [
    {
     "name": "stdout",
     "output_type": "stream",
     "text": [
      "Subtracting array B from A is element wise: \n",
      "[[  0.   1.   2.]\n",
      " [ 10.  21.  32.]\n",
      " [110. 221. 332.]]\n"
     ]
    }
   ],
   "source": [
    "# Subtraction of 2 arrays\n",
    "\n",
    "print(\"Subtracting array B from A is element wise: \")\n",
    "\n",
    "print(A - B)"
   ]
  },
  {
   "cell_type": "code",
   "execution_count": 71,
   "metadata": {
    "execution": {
     "iopub.execute_input": "2021-02-07T06:27:58.606921Z",
     "iopub.status.busy": "2021-02-07T06:27:58.606921Z",
     "iopub.status.idle": "2021-02-07T06:27:58.612916Z",
     "shell.execute_reply": "2021-02-07T06:27:58.612916Z",
     "shell.execute_reply.started": "2021-02-07T06:27:58.606921Z"
    }
   },
   "outputs": [
    {
     "name": "stdout",
     "output_type": "stream",
     "text": [
      "Array 1 [[1 2 3]\n",
      " [4 5 6]]\n",
      "Array 2 [[ 1  0 -1]\n",
      " [ 0  1 -1]]\n",
      "Multiplying two arrays:  [[ 1  0 -3]\n",
      " [ 0  5 -6]]\n",
      "As you can see above, the multiplication happens element by element.\n"
     ]
    }
   ],
   "source": [
    "# Multiplication of 2 arrays  \n",
    "\n",
    "A1 = np.array([ [1, 2, 3], [4, 5, 6] ]) # Array of shape 2,3\n",
    "A2 = np.array([ [1, 0, -1], [0, 1, -1] ]) # Array of shape 2,3\n",
    "\n",
    "print(\"Array 1\", A1)\n",
    "print(\"Array 2\", A2)\n",
    "print(\"Multiplying two arrays: \", A1 * A2)\n",
    "print(\"As you can see above, the multiplication happens element by element.\")"
   ]
  },
  {
   "cell_type": "markdown",
   "metadata": {},
   "source": [
    "Even Multiplication cant be done on different dimensions "
   ]
  },
  {
   "cell_type": "markdown",
   "metadata": {},
   "source": [
    "### Broadcasting allows 2D Array operations with a 1D array or vector\n",
    "\n",
    "NumPy also supports broadcasting. Broadcasting allows us to combine objects of <b>different shapes</b> within a single operation.\n",
    "\n",
    "But, do remember that to perform this operation one of the matrices needs to be a vector with its length equal to one of the dimensions of the other matrix."
   ]
  },
  {
   "cell_type": "code",
   "execution_count": 72,
   "metadata": {
    "execution": {
     "iopub.execute_input": "2021-02-07T06:28:14.405093Z",
     "iopub.status.busy": "2021-02-07T06:28:14.405093Z",
     "iopub.status.idle": "2021-02-07T06:28:14.417416Z",
     "shell.execute_reply": "2021-02-07T06:28:14.416421Z",
     "shell.execute_reply.started": "2021-02-07T06:28:14.405093Z"
    }
   },
   "outputs": [
    {
     "name": "stdout",
     "output_type": "stream",
     "text": [
      "[[  1   2   3]\n",
      " [ 11  22  33]\n",
      " [111 222 333]]\n",
      "[1 2 3]\n"
     ]
    }
   ],
   "source": [
    "import numpy as np\n",
    "\n",
    "A = np.array([ [1, 2, 3], [11, 22, 33], [111, 222, 333] ])\n",
    "B = np.array ([1,2,3])\n",
    "\n",
    "print (A)\n",
    "print (B)"
   ]
  },
  {
   "cell_type": "code",
   "execution_count": 73,
   "metadata": {
    "execution": {
     "iopub.execute_input": "2021-02-07T06:28:34.721099Z",
     "iopub.status.busy": "2021-02-07T06:28:34.720097Z",
     "iopub.status.idle": "2021-02-07T06:28:34.736635Z",
     "shell.execute_reply": "2021-02-07T06:28:34.735654Z",
     "shell.execute_reply.started": "2021-02-07T06:28:34.721099Z"
    }
   },
   "outputs": [
    {
     "name": "stdout",
     "output_type": "stream",
     "text": [
      "Multiplication with broadcasting: \n",
      "[[  1   4   9]\n",
      " [ 11  44  99]\n",
      " [111 444 999]]\n"
     ]
    }
   ],
   "source": [
    "print( \"Multiplication with broadcasting: \" )\n",
    "\n",
    "print (A * B)"
   ]
  },
  {
   "cell_type": "markdown",
   "metadata": {},
   "source": [
    "### Observation = Vectorisation can be done on 2-D and 1-D arrays but not on 2-d and 2-d arrays "
   ]
  },
  {
   "cell_type": "code",
   "execution_count": 75,
   "metadata": {
    "execution": {
     "iopub.execute_input": "2021-02-07T06:28:50.416026Z",
     "iopub.status.busy": "2021-02-07T06:28:50.416026Z",
     "iopub.status.idle": "2021-02-07T06:28:50.429559Z",
     "shell.execute_reply": "2021-02-07T06:28:50.428562Z",
     "shell.execute_reply.started": "2021-02-07T06:28:50.416026Z"
    }
   },
   "outputs": [
    {
     "name": "stdout",
     "output_type": "stream",
     "text": [
      "... and now addition with broadcasting: \n",
      "[[  2   4   6]\n",
      " [ 12  24  36]\n",
      " [112 224 336]]\n"
     ]
    }
   ],
   "source": [
    "print( \"... and now addition with broadcasting: \" )\n",
    "\n",
    "print (A + B)"
   ]
  },
  {
   "cell_type": "code",
   "execution_count": null,
   "metadata": {
    "execution": {
     "iopub.status.busy": "2021-02-07T06:17:46.744611Z",
     "iopub.status.idle": "2021-02-07T06:17:46.744611Z"
    }
   },
   "outputs": [],
   "source": [
    "# Try to understand the difference between the two 'B' arrays\n",
    "\n",
    "B = np.array ([1, 2, 3] * 3)\n",
    "\n",
    "print (B)"
   ]
  },
  {
   "cell_type": "code",
   "execution_count": null,
   "metadata": {
    "execution": {
     "iopub.status.busy": "2021-02-07T06:17:46.745611Z",
     "iopub.status.idle": "2021-02-07T06:17:46.745611Z"
    }
   },
   "outputs": [],
   "source": [
    "B = np.array([[1, 2, 3],] * 3)\n",
    "\n",
    "print(B)\n",
    "\n",
    "# Hint: look at the brackets"
   ]
  },
  {
   "cell_type": "code",
   "execution_count": null,
   "metadata": {
    "execution": {
     "iopub.status.busy": "2021-02-07T06:17:46.745611Z",
     "iopub.status.idle": "2021-02-07T06:17:46.746612Z"
    }
   },
   "outputs": [],
   "source": [
    "# Another example type\n",
    "\n",
    "B = np.array([1, 2, 3])\n",
    "B[:, np.newaxis]\n",
    "\n",
    "# We have changed a row vector into a column vector"
   ]
  },
  {
   "cell_type": "code",
   "execution_count": null,
   "metadata": {
    "execution": {
     "iopub.status.busy": "2021-02-07T06:17:46.746612Z",
     "iopub.status.idle": "2021-02-07T06:17:46.747611Z"
    }
   },
   "outputs": [],
   "source": [
    "A = np.linspace(1,10,50,False).reshape(5,10)\n",
    "\n",
    "A"
   ]
  },
  {
   "cell_type": "code",
   "execution_count": null,
   "metadata": {
    "execution": {
     "iopub.status.busy": "2021-02-07T06:17:46.747611Z",
     "iopub.status.idle": "2021-02-07T06:17:46.747611Z"
    }
   },
   "outputs": [],
   "source": [
    "print(np.shape(A[:,np.newaxis]))\n",
    "np.shape(A)"
   ]
  },
  {
   "cell_type": "code",
   "execution_count": null,
   "metadata": {
    "execution": {
     "iopub.status.busy": "2021-02-07T06:17:46.748611Z",
     "iopub.status.idle": "2021-02-07T06:17:46.748611Z"
    }
   },
   "outputs": [],
   "source": [
    "print(np.shape(B))\n",
    "np.shape(B[:,np.newaxis])"
   ]
  },
  {
   "cell_type": "code",
   "execution_count": null,
   "metadata": {
    "execution": {
     "iopub.status.busy": "2021-02-07T06:17:46.749612Z",
     "iopub.status.idle": "2021-02-07T06:17:46.749612Z"
    }
   },
   "outputs": [],
   "source": [
    "# This example should be self explanatory by now\n",
    "\n",
    "A = np.array([10, 20, 30])\n",
    "B = np.array([1, 2, 3])\n",
    "A[:, np.newaxis]"
   ]
  },
  {
   "cell_type": "code",
   "execution_count": null,
   "metadata": {
    "execution": {
     "iopub.status.busy": "2021-02-07T06:17:46.750614Z",
     "iopub.status.idle": "2021-02-07T06:17:46.750614Z"
    }
   },
   "outputs": [],
   "source": [
    "A[:, np.newaxis] * B"
   ]
  },
  {
   "cell_type": "markdown",
   "metadata": {},
   "source": [
    "### Other operations\n",
    "\n",
    "- Comparison operators: Comparing arrays and the elements of two similar shaped arrays\n",
    "- Logical operators: AND/OR operands"
   ]
  },
  {
   "cell_type": "code",
   "execution_count": null,
   "metadata": {
    "execution": {
     "iopub.status.busy": "2021-02-07T06:17:46.751613Z",
     "iopub.status.idle": "2021-02-07T06:17:46.751613Z"
    }
   },
   "outputs": [],
   "source": [
    "\n",
    "A = np.array([ [11, 12, 13], [21, 22, 23], [31, 32, 33] ])\n",
    "B = np.array([ [11, 102, 13], [201, 22, 203], [31, 32, 303] ])\n",
    "\n",
    "print (A)\n",
    "print (B)"
   ]
  },
  {
   "cell_type": "code",
   "execution_count": null,
   "metadata": {
    "execution": {
     "iopub.status.busy": "2021-02-07T06:17:46.752614Z",
     "iopub.status.idle": "2021-02-07T06:17:46.752614Z"
    }
   },
   "outputs": [],
   "source": [
    "A==B"
   ]
  },
  {
   "cell_type": "code",
   "execution_count": null,
   "metadata": {
    "execution": {
     "iopub.status.busy": "2021-02-07T06:17:46.753613Z",
     "iopub.status.idle": "2021-02-07T06:17:46.753613Z"
    }
   },
   "outputs": [],
   "source": [
    "np.equal(A,B)"
   ]
  },
  {
   "cell_type": "code",
   "execution_count": null,
   "metadata": {
    "execution": {
     "iopub.status.busy": "2021-02-07T06:17:46.754614Z",
     "iopub.status.idle": "2021-02-07T06:17:46.754614Z"
    }
   },
   "outputs": [],
   "source": [
    "np.array_equal(A,B)"
   ]
  },
  {
   "cell_type": "markdown",
   "metadata": {},
   "source": [
    "### Logical operators"
   ]
  },
  {
   "cell_type": "code",
   "execution_count": null,
   "metadata": {
    "execution": {
     "iopub.status.busy": "2021-02-07T06:17:46.754614Z",
     "iopub.status.idle": "2021-02-07T06:17:46.755614Z"
    }
   },
   "outputs": [],
   "source": [
    "# This should be self explanatory by now\n",
    "\n",
    "a = np.array([ [True, True], [False, False]])\n",
    "b = np.array([ [True, False], [True, False]])\n",
    "\n",
    "print(np.logical_or(a, b))"
   ]
  },
  {
   "cell_type": "code",
   "execution_count": null,
   "metadata": {
    "execution": {
     "iopub.status.busy": "2021-02-07T06:17:46.755614Z",
     "iopub.status.idle": "2021-02-07T06:17:46.756615Z"
    }
   },
   "outputs": [],
   "source": [
    "print(np.logical_and(a, b))"
   ]
  },
  {
   "cell_type": "code",
   "execution_count": null,
   "metadata": {
    "execution": {
     "iopub.status.busy": "2021-02-07T06:17:46.756615Z",
     "iopub.status.idle": "2021-02-07T06:17:46.756615Z"
    }
   },
   "outputs": [],
   "source": [
    "print(a & b)\n",
    "print(a | b)"
   ]
  },
  {
   "cell_type": "code",
   "execution_count": null,
   "metadata": {
    "execution": {
     "iopub.status.busy": "2021-02-07T06:17:46.757613Z",
     "iopub.status.idle": "2021-02-07T06:17:46.757613Z"
    }
   },
   "outputs": [],
   "source": [
    "k =np.random.rand(2000,50)\n",
    "print(k)\n",
    "\n",
    "T = k/sum(k)\n",
    "print(np.shape(T))\n",
    "print(sum(T))\n",
    "np.random.randn(2000,50)"
   ]
  },
  {
   "cell_type": "code",
   "execution_count": null,
   "metadata": {},
   "outputs": [],
   "source": []
  }
 ],
 "metadata": {
  "kernelspec": {
   "display_name": "Python 3",
   "language": "python",
   "name": "python3"
  },
  "language_info": {
   "codemirror_mode": {
    "name": "ipython",
    "version": 3
   },
   "file_extension": ".py",
   "mimetype": "text/x-python",
   "name": "python",
   "nbconvert_exporter": "python",
   "pygments_lexer": "ipython3",
   "version": "3.7.6"
  }
 },
 "nbformat": 4,
 "nbformat_minor": 4
}
