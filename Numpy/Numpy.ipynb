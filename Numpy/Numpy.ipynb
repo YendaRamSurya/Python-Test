{
 "cells": [
  {
   "cell_type": "markdown",
   "metadata": {},
   "source": [
    "# Numpy or Numerical python \n",
    "\n",
    "*it is an acronym for numeric python or numerical python *\n",
    "\n",
    "Numpy Provides two main things .\n",
    "\n",
    "- It Providea fast precompiled functions for both mathematical and numerical routines \n",
    "\n",
    "- Powerful data structures such as multidimensional arrays and matrices and perfrom highlevel mathematical operations on them or with them.\n",
    "\n",
    "`**An Array is a list of related values or same data types **`\n",
    "\n",
    "\n"
   ]
  },
  {
   "cell_type": "markdown",
   "metadata": {},
   "source": [
    "#### List of this lecture \n",
    "\n",
    "- np.array()\n",
    "- np.arange()\n",
    "- np.linspace()\n",
    "- np.shape()\n",
    "- array.dtype\n",
    "- array.ndim()\n"
   ]
  },
  {
   "cell_type": "code",
   "execution_count": 3,
   "metadata": {},
   "outputs": [
    {
     "data": {
      "text/plain": [
       "array([[1, 2, 3],\n",
       "       [4, 5, 6]])"
      ]
     },
     "execution_count": 3,
     "metadata": {},
     "output_type": "execute_result"
    }
   ],
   "source": [
    "import numpy as np \n",
    "\n",
    "\n",
    "a = np.array([[1,2,3],[4,5,6]])\n",
    "a"
   ]
  },
  {
   "cell_type": "code",
   "execution_count": 5,
   "metadata": {},
   "outputs": [
    {
     "data": {
      "text/plain": [
       "numpy.ndarray"
      ]
     },
     "execution_count": 5,
     "metadata": {},
     "output_type": "execute_result"
    }
   ],
   "source": [
    "type(a)"
   ]
  },
  {
   "cell_type": "code",
   "execution_count": 6,
   "metadata": {},
   "outputs": [
    {
     "data": {
      "text/plain": [
       "4"
      ]
     },
     "execution_count": 6,
     "metadata": {},
     "output_type": "execute_result"
    }
   ],
   "source": [
    "a[1][0]"
   ]
  },
  {
   "cell_type": "markdown",
   "metadata": {},
   "source": [
    "1) Array Help us to work on fundamental data frames  where in finance we will be using them a lot .\n",
    "\n",
    "2) They also help us to perform operation on array at once rather than iterating over it . This in turn makes our programs very efficient and This is inturn called vectorification.\n",
    "\n",
    "3) Array's help in broadcasting to combine objects of different shapes and within a single operation "
   ]
  },
  {
   "cell_type": "code",
   "execution_count": 7,
   "metadata": {},
   "outputs": [
    {
     "data": {
      "text/plain": [
       "array([[ 2.5,  5. ,  7.5],\n",
       "       [10. , 12.5, 15. ]])"
      ]
     },
     "execution_count": 7,
     "metadata": {},
     "output_type": "execute_result"
    }
   ],
   "source": [
    "a = a*2.5\n",
    "\n",
    "a"
   ]
  },
  {
   "cell_type": "code",
   "execution_count": 8,
   "metadata": {},
   "outputs": [
    {
     "data": {
      "text/plain": [
       "array([[  6.25,  25.  ,  56.25],\n",
       "       [100.  , 156.25, 225.  ]])"
      ]
     },
     "execution_count": 8,
     "metadata": {},
     "output_type": "execute_result"
    }
   ],
   "source": [
    "a * a"
   ]
  },
  {
   "cell_type": "markdown",
   "metadata": {},
   "source": [
    "NumPy is the fundamental package for scientific computing with Python. It is an open source extension module for Python.\n",
    "\n",
    "- A powerful N-dimensional array object\n",
    "- Sophisticated (broadcasting) functions\n",
    "- Useful linear algebra, Fourier transform, and random number capabilities\n",
    "- Besides its obvious scientific uses, NumPy can also be used as an efficient multi-dimensional container of generic data\n",
    "- Arbitrary data-types can be defined. This allows NumPy to seamlessly and speedily integrate with a wide variety of database\n"
   ]
  },
  {
   "cell_type": "markdown",
   "metadata": {},
   "source": [
    "## Converting lists or tuples into arrays "
   ]
  },
  {
   "cell_type": "code",
   "execution_count": 9,
   "metadata": {},
   "outputs": [
    {
     "name": "stdout",
     "output_type": "stream",
     "text": [
      "[10 20 55 66 77]\n"
     ]
    },
    {
     "data": {
      "text/plain": [
       "numpy.ndarray"
      ]
     },
     "execution_count": 9,
     "metadata": {},
     "output_type": "execute_result"
    }
   ],
   "source": [
    "mylist =[10,20,55,66,77]\n",
    "\n",
    "array = np.array(mylist)\n",
    "print(array)\n",
    "type(array)"
   ]
  },
  {
   "cell_type": "code",
   "execution_count": 10,
   "metadata": {},
   "outputs": [
    {
     "name": "stdout",
     "output_type": "stream",
     "text": [
      "['10' 'ram' 'surya' '30']\n"
     ]
    },
    {
     "data": {
      "text/plain": [
       "'Intresting is that different data types list is also converted into array'"
      ]
     },
     "execution_count": 10,
     "metadata": {},
     "output_type": "execute_result"
    }
   ],
   "source": [
    "list2 = [10,\"ram\",\"surya\",30]\n",
    "\n",
    "array2 = np.array(list2)\n",
    "print(array2)\n",
    "type(array2)\n",
    "\n",
    "\"\"\"Intresting is that different data types list is also converted into array\"\"\""
   ]
  },
  {
   "cell_type": "code",
   "execution_count": 11,
   "metadata": {},
   "outputs": [
    {
     "name": "stdout",
     "output_type": "stream",
     "text": [
      "[20.3 25.3 22.7 19.  18.5 21.2 24.5 26.6 23.2 21.2]\n"
     ]
    },
    {
     "data": {
      "text/plain": [
       "numpy.ndarray"
      ]
     },
     "execution_count": 11,
     "metadata": {},
     "output_type": "execute_result"
    }
   ],
   "source": [
    "stockvalues = (20.3, 25.3, 22.7, 19.0, 18.5, 21.2, 24.5, 26.6, 23.2, 21.2) # This is a tuple\n",
    "\n",
    "array3 = np.array(stockvalues)\n",
    "print(array3)\n",
    "type(array3)"
   ]
  },
  {
   "cell_type": "markdown",
   "metadata": {},
   "source": [
    "# Functions to create arrays quickly \n",
    "\n",
    "The above-discussed methods to create arrays require us to manually input the data points. To automatically create data points for an array we use these functions:\n",
    "\n",
    "- arange\n",
    "- linspace\n",
    "\n",
    "**Both these functions create data points lying between two endpoints, starting and ending, so that they are evenly distributed. For example, we can create 50 data points lying between 1 and 10.*\n",
    "\n"
   ]
  },
  {
   "cell_type": "markdown",
   "metadata": {},
   "source": [
    "### **arange**\n",
    "Numpy.arange returns evenly spaced arrays by using a 'given' step or interval by the user.\n",
    "\n",
    "Syntax:\n",
    "####  arange ([start], [stop], [step], [dtype=None])"
   ]
  },
  {
   "cell_type": "code",
   "execution_count": 12,
   "metadata": {},
   "outputs": [
    {
     "data": {
      "text/plain": [
       "array([0, 1, 2, 3, 4, 5, 6, 7, 8, 9])"
      ]
     },
     "execution_count": 12,
     "metadata": {},
     "output_type": "execute_result"
    }
   ],
   "source": [
    "np.arange(10)"
   ]
  },
  {
   "cell_type": "code",
   "execution_count": 13,
   "metadata": {},
   "outputs": [
    {
     "data": {
      "text/plain": [
       "array([ 1,  2,  3,  4,  5,  6,  7,  8,  9, 10, 11, 12, 13, 14, 15, 16, 17,\n",
       "       18, 19])"
      ]
     },
     "execution_count": 13,
     "metadata": {},
     "output_type": "execute_result"
    }
   ],
   "source": [
    "np.arange(1,20)"
   ]
  },
  {
   "cell_type": "code",
   "execution_count": 14,
   "metadata": {},
   "outputs": [
    {
     "data": {
      "text/plain": [
       "array([ 1. ,  1.5,  2. ,  2.5,  3. ,  3.5,  4. ,  4.5,  5. ,  5.5,  6. ,\n",
       "        6.5,  7. ,  7.5,  8. ,  8.5,  9. ,  9.5, 10. , 10.5, 11. , 11.5,\n",
       "       12. , 12.5, 13. , 13.5, 14. , 14.5, 15. , 15.5, 16. , 16.5, 17. ,\n",
       "       17.5, 18. , 18.5, 19. , 19.5])"
      ]
     },
     "execution_count": 14,
     "metadata": {},
     "output_type": "execute_result"
    }
   ],
   "source": [
    "np.arange(1,20,0.5)"
   ]
  },
  {
   "cell_type": "code",
   "execution_count": 4,
   "metadata": {},
   "outputs": [
    {
     "name": "stdout",
     "output_type": "stream",
     "text": [
      "654 ns ± 6.32 ns per loop (mean ± std. dev. of 7 runs, 1000000 loops each)\n"
     ]
    }
   ],
   "source": [
    "%%timeit\n",
    "np.arange(1,20,0.5,int)\n",
    "\n"
   ]
  },
  {
   "cell_type": "code",
   "execution_count": 8,
   "metadata": {},
   "outputs": [
    {
     "name": "stdout",
     "output_type": "stream",
     "text": [
      "[0, 1, 2, 3, 4, 5, 6, 7, 8, 9, 10, 11, 12, 13, 14, 15, 16, 17, 18, 19]\n"
     ]
    },
    {
     "data": {
      "text/plain": [
       "list"
      ]
     },
     "execution_count": 8,
     "metadata": {},
     "output_type": "execute_result"
    }
   ],
   "source": [
    "# timeit\n",
    "a = []\n",
    "for i in range(20):\n",
    "    a.append(i)   \n",
    "print(a)\n",
    "type(a)"
   ]
  },
  {
   "cell_type": "code",
   "execution_count": 17,
   "metadata": {},
   "outputs": [
    {
     "data": {
      "text/plain": [
       "array([ 1,  3,  5,  7,  9, 11, 13, 15, 17, 19, 21])"
      ]
     },
     "execution_count": 17,
     "metadata": {},
     "output_type": "execute_result"
    }
   ],
   "source": [
    "np.arange(1.3,23.3,2.1,int)"
   ]
  },
  {
   "cell_type": "markdown",
   "metadata": {},
   "source": [
    "### linspace\n",
    "\n",
    "This function creates the array automatically just needs the number of elements hence it will create distance automatically which are equidistant .\n",
    "\n"
   ]
  },
  {
   "cell_type": "markdown",
   "metadata": {},
   "source": [
    "Syntax:\n",
    "#### linspace(start, stop, num=50, endpoint=True, retstep=False)\n",
    "\n",
    "The 'start and the 'stop' determines the range of the array. 'num' determines the number of elements in the array. If the 'endpoint' is True, it will include the stop value and if it is false, the array will exclude the stop value.\n",
    "\n",
    "If the optional parameter 'retstep' is set, the function will return the value of the spacing between adjacent values."
   ]
  },
  {
   "cell_type": "code",
   "execution_count": 18,
   "metadata": {},
   "outputs": [
    {
     "data": {
      "text/plain": [
       "array([ 1.        ,  1.18367347,  1.36734694,  1.55102041,  1.73469388,\n",
       "        1.91836735,  2.10204082,  2.28571429,  2.46938776,  2.65306122,\n",
       "        2.83673469,  3.02040816,  3.20408163,  3.3877551 ,  3.57142857,\n",
       "        3.75510204,  3.93877551,  4.12244898,  4.30612245,  4.48979592,\n",
       "        4.67346939,  4.85714286,  5.04081633,  5.2244898 ,  5.40816327,\n",
       "        5.59183673,  5.7755102 ,  5.95918367,  6.14285714,  6.32653061,\n",
       "        6.51020408,  6.69387755,  6.87755102,  7.06122449,  7.24489796,\n",
       "        7.42857143,  7.6122449 ,  7.79591837,  7.97959184,  8.16326531,\n",
       "        8.34693878,  8.53061224,  8.71428571,  8.89795918,  9.08163265,\n",
       "        9.26530612,  9.44897959,  9.63265306,  9.81632653, 10.        ])"
      ]
     },
     "execution_count": 18,
     "metadata": {},
     "output_type": "execute_result"
    }
   ],
   "source": [
    "np.linspace(1,10,50)\n",
    "# np.linspace?"
   ]
  },
  {
   "cell_type": "code",
   "execution_count": 42,
   "metadata": {
    "collapsed": true,
    "jupyter": {
     "outputs_hidden": true
    }
   },
   "outputs": [
    {
     "data": {
      "text/plain": [
       "\u001b[1;31mDocstring:\u001b[0m\n",
       "laplace(loc=0.0, scale=1.0, size=None)\n",
       "\n",
       "Draw samples from the Laplace or double exponential distribution with\n",
       "specified location (or mean) and scale (decay).\n",
       "\n",
       "The Laplace distribution is similar to the Gaussian/normal distribution,\n",
       "but is sharper at the peak and has fatter tails. It represents the\n",
       "difference between two independent, identically distributed exponential\n",
       "random variables.\n",
       "\n",
       ".. note::\n",
       "    New code should use the ``laplace`` method of a ``default_rng()``\n",
       "    instance instead; see `random-quick-start`.\n",
       "\n",
       "Parameters\n",
       "----------\n",
       "loc : float or array_like of floats, optional\n",
       "    The position, :math:`\\mu`, of the distribution peak. Default is 0.\n",
       "scale : float or array_like of floats, optional\n",
       "    :math:`\\lambda`, the exponential decay. Default is 1. Must be non-\n",
       "    negative.\n",
       "size : int or tuple of ints, optional\n",
       "    Output shape.  If the given shape is, e.g., ``(m, n, k)``, then\n",
       "    ``m * n * k`` samples are drawn.  If size is ``None`` (default),\n",
       "    a single value is returned if ``loc`` and ``scale`` are both scalars.\n",
       "    Otherwise, ``np.broadcast(loc, scale).size`` samples are drawn.\n",
       "\n",
       "Returns\n",
       "-------\n",
       "out : ndarray or scalar\n",
       "    Drawn samples from the parameterized Laplace distribution.\n",
       "\n",
       "See Also\n",
       "--------\n",
       "Generator.laplace: which should be used for new code.\n",
       "\n",
       "Notes\n",
       "-----\n",
       "It has the probability density function\n",
       "\n",
       ".. math:: f(x; \\mu, \\lambda) = \\frac{1}{2\\lambda}\n",
       "                               \\exp\\left(-\\frac{|x - \\mu|}{\\lambda}\\right).\n",
       "\n",
       "The first law of Laplace, from 1774, states that the frequency\n",
       "of an error can be expressed as an exponential function of the\n",
       "absolute magnitude of the error, which leads to the Laplace\n",
       "distribution. For many problems in economics and health\n",
       "sciences, this distribution seems to model the data better\n",
       "than the standard Gaussian distribution.\n",
       "\n",
       "References\n",
       "----------\n",
       ".. [1] Abramowitz, M. and Stegun, I. A. (Eds.). \"Handbook of\n",
       "       Mathematical Functions with Formulas, Graphs, and Mathematical\n",
       "       Tables, 9th printing,\" New York: Dover, 1972.\n",
       ".. [2] Kotz, Samuel, et. al. \"The Laplace Distribution and\n",
       "       Generalizations, \" Birkhauser, 2001.\n",
       ".. [3] Weisstein, Eric W. \"Laplace Distribution.\"\n",
       "       From MathWorld--A Wolfram Web Resource.\n",
       "       http://mathworld.wolfram.com/LaplaceDistribution.html\n",
       ".. [4] Wikipedia, \"Laplace distribution\",\n",
       "       https://en.wikipedia.org/wiki/Laplace_distribution\n",
       "\n",
       "Examples\n",
       "--------\n",
       "Draw samples from the distribution\n",
       "\n",
       ">>> loc, scale = 0., 1.\n",
       ">>> s = np.random.laplace(loc, scale, 1000)\n",
       "\n",
       "Display the histogram of the samples, along with\n",
       "the probability density function:\n",
       "\n",
       ">>> import matplotlib.pyplot as plt\n",
       ">>> count, bins, ignored = plt.hist(s, 30, density=True)\n",
       ">>> x = np.arange(-8., 8., .01)\n",
       ">>> pdf = np.exp(-abs(x-loc)/scale)/(2.*scale)\n",
       ">>> plt.plot(x, pdf)\n",
       "\n",
       "Plot Gaussian for comparison:\n",
       "\n",
       ">>> g = (1/(scale * np.sqrt(2 * np.pi)) *\n",
       "...      np.exp(-(x - loc)**2 / (2 * scale**2)))\n",
       ">>> plt.plot(x,g)\n",
       "\u001b[1;31mType:\u001b[0m      builtin_function_or_method\n"
      ]
     },
     "metadata": {},
     "output_type": "display_data"
    }
   ],
   "source": [
    "k = np.linspace(1,10,50,True)\n",
    "np.random.rand?"
   ]
  },
  {
   "cell_type": "code",
   "execution_count": 20,
   "metadata": {},
   "outputs": [
    {
     "data": {
      "text/plain": [
       "array([array([ 1.        ,  1.09090909,  1.18181818,  1.27272727,  1.36363636,\n",
       "        1.45454545,  1.54545455,  1.63636364,  1.72727273,  1.81818182,\n",
       "        1.90909091,  2.        ,  2.09090909,  2.18181818,  2.27272727,\n",
       "        2.36363636,  2.45454545,  2.54545455,  2.63636364,  2.72727273,\n",
       "        2.81818182,  2.90909091,  3.        ,  3.09090909,  3.18181818,\n",
       "        3.27272727,  3.36363636,  3.45454545,  3.54545455,  3.63636364,\n",
       "        3.72727273,  3.81818182,  3.90909091,  4.        ,  4.09090909,\n",
       "        4.18181818,  4.27272727,  4.36363636,  4.45454545,  4.54545455,\n",
       "        4.63636364,  4.72727273,  4.81818182,  4.90909091,  5.        ,\n",
       "        5.09090909,  5.18181818,  5.27272727,  5.36363636,  5.45454545,\n",
       "        5.54545455,  5.63636364,  5.72727273,  5.81818182,  5.90909091,\n",
       "        6.        ,  6.09090909,  6.18181818,  6.27272727,  6.36363636,\n",
       "        6.45454545,  6.54545455,  6.63636364,  6.72727273,  6.81818182,\n",
       "        6.90909091,  7.        ,  7.09090909,  7.18181818,  7.27272727,\n",
       "        7.36363636,  7.45454545,  7.54545455,  7.63636364,  7.72727273,\n",
       "        7.81818182,  7.90909091,  8.        ,  8.09090909,  8.18181818,\n",
       "        8.27272727,  8.36363636,  8.45454545,  8.54545455,  8.63636364,\n",
       "        8.72727273,  8.81818182,  8.90909091,  9.        ,  9.09090909,\n",
       "        9.18181818,  9.27272727,  9.36363636,  9.45454545,  9.54545455,\n",
       "        9.63636364,  9.72727273,  9.81818182,  9.90909091, 10.        ]),\n",
       "       0.09090909090909091], dtype=object)"
      ]
     },
     "execution_count": 20,
     "metadata": {},
     "output_type": "execute_result"
    }
   ],
   "source": [
    "k1 = np.linspace(1,10,100,True,True)\n",
    "\n",
    "type(k1)\n",
    "k1 = np.array(k1)\n",
    "type(k1)\n",
    "k1"
   ]
  },
  {
   "cell_type": "code",
   "execution_count": 21,
   "metadata": {},
   "outputs": [
    {
     "data": {
      "text/plain": [
       "0.09"
      ]
     },
     "execution_count": 21,
     "metadata": {},
     "output_type": "execute_result"
    }
   ],
   "source": [
    "round(k1[1],2)"
   ]
  },
  {
   "cell_type": "code",
   "execution_count": 22,
   "metadata": {},
   "outputs": [
    {
     "data": {
      "text/plain": [
       "array([1.  , 1.18, 1.36, 1.54, 1.72, 1.9 , 2.08, 2.26, 2.44, 2.62, 2.8 ,\n",
       "       2.98, 3.16, 3.34, 3.52, 3.7 , 3.88, 4.06, 4.24, 4.42, 4.6 , 4.78,\n",
       "       4.96, 5.14, 5.32, 5.5 , 5.68, 5.86, 6.04, 6.22, 6.4 , 6.58, 6.76,\n",
       "       6.94, 7.12, 7.3 , 7.48, 7.66, 7.84, 8.02, 8.2 , 8.38, 8.56, 8.74,\n",
       "       8.92, 9.1 , 9.28, 9.46, 9.64, 9.82])"
      ]
     },
     "execution_count": 22,
     "metadata": {},
     "output_type": "execute_result"
    }
   ],
   "source": [
    " np.linspace(1,10,50,False)"
   ]
  },
  {
   "cell_type": "markdown",
   "metadata": {},
   "source": [
    "# dimensionality of arrays \n",
    "\n",
    "### zero dimensional arrays are scalars  \n",
    "\n",
    "The above expamples are 1-D arrays and are also called vectors , currently scalar is only a single value .\n"
   ]
  },
  {
   "cell_type": "code",
   "execution_count": 23,
   "metadata": {},
   "outputs": [
    {
     "name": "stdout",
     "output_type": "stream",
     "text": [
      "P: 50\n",
      "the dimension of a is  1\n"
     ]
    }
   ],
   "source": [
    "p = np.array(50)\n",
    "print(\"P:\",p)\n",
    "\n",
    "print(\"the dimension of a is \",np.ndim(a))"
   ]
  },
  {
   "cell_type": "markdown",
   "metadata": {},
   "source": [
    "### np.ndim(type array ) would return the dimension of an array "
   ]
  },
  {
   "cell_type": "code",
   "execution_count": 24,
   "metadata": {},
   "outputs": [
    {
     "name": "stdout",
     "output_type": "stream",
     "text": [
      "<class 'numpy.ndarray'>\n",
      "int32\n"
     ]
    }
   ],
   "source": [
    "print(type(p))\n",
    "print(p.dtype)"
   ]
  },
  {
   "cell_type": "markdown",
   "metadata": {},
   "source": [
    "ON a class of numpy array **dtype** function will return the datatype of the array "
   ]
  },
  {
   "cell_type": "code",
   "execution_count": 25,
   "metadata": {},
   "outputs": [
    {
     "data": {
      "text/plain": [
       "dtype('<U11')"
      ]
     },
     "execution_count": 25,
     "metadata": {},
     "output_type": "execute_result"
    }
   ],
   "source": [
    "array2.dtype"
   ]
  },
  {
   "cell_type": "code",
   "execution_count": 26,
   "metadata": {},
   "outputs": [
    {
     "data": {
      "text/plain": [
       "dtype('int32')"
      ]
     },
     "execution_count": 26,
     "metadata": {},
     "output_type": "execute_result"
    }
   ],
   "source": [
    "array.dtype"
   ]
  },
  {
   "cell_type": "markdown",
   "metadata": {},
   "source": [
    "## ONE DIMENSIONAL ARRAY\n",
    "\n",
    "One dimensional arrays, are arrays with minimum of two elements in it in a single row."
   ]
  },
  {
   "cell_type": "code",
   "execution_count": 27,
   "metadata": {},
   "outputs": [
    {
     "name": "stdout",
     "output_type": "stream",
     "text": [
      "The dimension of I array is  1\n",
      "The dimension of J array is  1\n",
      "The data type of I array is  int32\n",
      "The data type of J array is  float64\n"
     ]
    }
   ],
   "source": [
    "I = np.array([1, 1, 2, 3, 5, 8, 13, 21]) # Fibonnacci series\n",
    "J = np.array([4.4, 6.6, 8.8, 10.1, 12.12])\n",
    "\n",
    "print(\"The dimension of I array is \",np.ndim(I))\n",
    "print(\"The dimension of J array is \",np.ndim(J))\n",
    "\n",
    "print(\"The data type of I array is \",I.dtype)\n",
    "print(\"The data type of J array is \",J.dtype)\n"
   ]
  },
  {
   "cell_type": "markdown",
   "metadata": {},
   "source": [
    "## Two-dimensional arrays\n",
    "Two-dimensional arrays have more than one row and more than one column."
   ]
  },
  {
   "cell_type": "code",
   "execution_count": 28,
   "metadata": {},
   "outputs": [
    {
     "name": "stdout",
     "output_type": "stream",
     "text": [
      "[['Name' 'Year' 'Marks']\n",
      " ['Bela' '2014' '78.2']\n",
      " ['Joe' '1987' '59.1']\n",
      " ['Sugar' '1990' '70']]\n",
      "Dimension of 'studentdata' : 2\n"
     ]
    }
   ],
   "source": [
    "studentdata = np.array([ [\"Name\", \"Year\", \"Marks\"], \n",
    "               [\"Bela\", 2014, 78.2],\n",
    "                [\"Joe\", 1987, 59.1],\n",
    "               [\"Sugar\", 1990, 70]])\n",
    "\n",
    "print(studentdata)\n",
    "\n",
    "print(\"Dimension of 'studentdata' :\", np.ndim (studentdata))"
   ]
  },
  {
   "cell_type": "markdown",
   "metadata": {},
   "source": [
    "Even though Year and Marks are not string type data, here by default they are considered as string type data. So we can't perform any mathematical operations on these values. In order to perform any calculations, we need to convert the data into integers or float type data.\n",
    "\n",
    "That is where dataframe, which we will study in the next section is very useful. It is a powerful 2-d data structure that can convert the data type with ease and help us perform various operations. \n",
    "\n",
    "For example:"
   ]
  },
  {
   "cell_type": "code",
   "execution_count": 29,
   "metadata": {},
   "outputs": [],
   "source": [
    "import pandas as pd"
   ]
  },
  {
   "cell_type": "code",
   "execution_count": 30,
   "metadata": {},
   "outputs": [
    {
     "data": {
      "text/html": [
       "<div>\n",
       "<style scoped>\n",
       "    .dataframe tbody tr th:only-of-type {\n",
       "        vertical-align: middle;\n",
       "    }\n",
       "\n",
       "    .dataframe tbody tr th {\n",
       "        vertical-align: top;\n",
       "    }\n",
       "\n",
       "    .dataframe thead th {\n",
       "        text-align: right;\n",
       "    }\n",
       "</style>\n",
       "<table border=\"1\" class=\"dataframe\">\n",
       "  <thead>\n",
       "    <tr style=\"text-align: right;\">\n",
       "      <th></th>\n",
       "      <th>0</th>\n",
       "      <th>1</th>\n",
       "      <th>2</th>\n",
       "    </tr>\n",
       "  </thead>\n",
       "  <tbody>\n",
       "    <tr>\n",
       "      <th>0</th>\n",
       "      <td>Name</td>\n",
       "      <td>Year</td>\n",
       "      <td>Marks</td>\n",
       "    </tr>\n",
       "    <tr>\n",
       "      <th>1</th>\n",
       "      <td>Bela</td>\n",
       "      <td>2014</td>\n",
       "      <td>78.2</td>\n",
       "    </tr>\n",
       "    <tr>\n",
       "      <th>2</th>\n",
       "      <td>Joe</td>\n",
       "      <td>1987</td>\n",
       "      <td>59.1</td>\n",
       "    </tr>\n",
       "    <tr>\n",
       "      <th>3</th>\n",
       "      <td>Sugar</td>\n",
       "      <td>1990</td>\n",
       "      <td>70</td>\n",
       "    </tr>\n",
       "  </tbody>\n",
       "</table>\n",
       "</div>"
      ],
      "text/plain": [
       "       0     1      2\n",
       "0   Name  Year  Marks\n",
       "1   Bela  2014   78.2\n",
       "2    Joe  1987   59.1\n",
       "3  Sugar  1990     70"
      ]
     },
     "execution_count": 30,
     "metadata": {},
     "output_type": "execute_result"
    }
   ],
   "source": [
    "studentdata1 = pd.DataFrame(studentdata)\n",
    "\n",
    "studentdata1.head()\n",
    "\n"
   ]
  },
  {
   "cell_type": "code",
   "execution_count": 31,
   "metadata": {},
   "outputs": [
    {
     "data": {
      "text/html": [
       "<div>\n",
       "<style scoped>\n",
       "    .dataframe tbody tr th:only-of-type {\n",
       "        vertical-align: middle;\n",
       "    }\n",
       "\n",
       "    .dataframe tbody tr th {\n",
       "        vertical-align: top;\n",
       "    }\n",
       "\n",
       "    .dataframe thead th {\n",
       "        text-align: right;\n",
       "    }\n",
       "</style>\n",
       "<table border=\"1\" class=\"dataframe\">\n",
       "  <thead>\n",
       "    <tr style=\"text-align: right;\">\n",
       "      <th></th>\n",
       "      <th>Ticker</th>\n",
       "      <th>Date/Time</th>\n",
       "      <th>Open</th>\n",
       "      <th>High</th>\n",
       "      <th>Low</th>\n",
       "      <th>Close</th>\n",
       "      <th>Volume</th>\n",
       "    </tr>\n",
       "  </thead>\n",
       "  <tbody>\n",
       "    <tr>\n",
       "      <th>0</th>\n",
       "      <td>BANKNIFTY20FEBFUT</td>\n",
       "      <td>20-01-02 00:00:00</td>\n",
       "      <td>32444.85</td>\n",
       "      <td>32711.15</td>\n",
       "      <td>32394.0</td>\n",
       "      <td>32685.85</td>\n",
       "      <td>25920</td>\n",
       "    </tr>\n",
       "  </tbody>\n",
       "</table>\n",
       "</div>"
      ],
      "text/plain": [
       "              Ticker          Date/Time      Open      High      Low  \\\n",
       "0  BANKNIFTY20FEBFUT  20-01-02 00:00:00  32444.85  32711.15  32394.0   \n",
       "\n",
       "      Close  Volume  \n",
       "0  32685.85   25920  "
      ]
     },
     "execution_count": 31,
     "metadata": {},
     "output_type": "execute_result"
    }
   ],
   "source": [
    "data = pd.read_csv(r\"C:\\Users\\ramsu\\ltphd\\banknifty_feb Future daily.csv\")\n",
    "\n",
    "data.head(1)"
   ]
  },
  {
   "cell_type": "code",
   "execution_count": 32,
   "metadata": {},
   "outputs": [
    {
     "name": "stdout",
     "output_type": "stream",
     "text": [
      "Dimensions of the data frame is:  2\n",
      "Data type of the data frame is:  object\n"
     ]
    }
   ],
   "source": [
    "array_data = np.array(data)\n",
    "\n",
    "print(\"Dimensions of the data frame is: \",np.ndim(array_data))\n",
    "print(\"Data type of the data frame is: \",array_data.dtype)"
   ]
  },
  {
   "cell_type": "code",
   "execution_count": 33,
   "metadata": {},
   "outputs": [
    {
     "data": {
      "text/plain": [
       "1655735.3846153845"
      ]
     },
     "execution_count": 33,
     "metadata": {},
     "output_type": "execute_result"
    }
   ],
   "source": [
    "np.mean(data[\"Volume\"])\n"
   ]
  },
  {
   "cell_type": "code",
   "execution_count": 34,
   "metadata": {},
   "outputs": [
    {
     "data": {
      "text/plain": [
       "1655735.3846153845"
      ]
     },
     "execution_count": 34,
     "metadata": {},
     "output_type": "execute_result"
    }
   ],
   "source": [
    "data.Volume.mean()"
   ]
  },
  {
   "cell_type": "code",
   "execution_count": 35,
   "metadata": {},
   "outputs": [
    {
     "data": {
      "text/plain": [
       "0           NaN\n",
       "1           NaN\n",
       "2           NaN\n",
       "3           NaN\n",
       "4       52064.0\n",
       "5       59824.0\n",
       "6       62020.0\n",
       "7       55512.0\n",
       "8       52288.0\n",
       "9       49328.0\n",
       "10      47768.0\n",
       "11      54536.0\n",
       "12      68732.0\n",
       "13      82972.0\n",
       "14     112324.0\n",
       "15     148124.0\n",
       "16     177956.0\n",
       "17     245200.0\n",
       "18     342288.0\n",
       "19     447008.0\n",
       "20     717596.0\n",
       "21    1510740.0\n",
       "22    2589356.0\n",
       "23    3306628.0\n",
       "24    4040244.0\n",
       "25    4457352.0\n",
       "26    4484712.0\n",
       "27    3883672.0\n",
       "28    3496032.0\n",
       "29    3115512.0\n",
       "30    2824332.0\n",
       "31    2444752.0\n",
       "32    2687748.0\n",
       "33    2754068.0\n",
       "34    2900044.0\n",
       "35    3013524.0\n",
       "36    3151108.0\n",
       "37    2967768.0\n",
       "38    2842864.0\n",
       "Name: Volume, dtype: float64"
      ]
     },
     "execution_count": 35,
     "metadata": {},
     "output_type": "execute_result"
    }
   ],
   "source": [
    "data.Volume.rolling(window=5).mean()"
   ]
  },
  {
   "cell_type": "code",
   "execution_count": 36,
   "metadata": {},
   "outputs": [
    {
     "name": "stdout",
     "output_type": "stream",
     "text": [
      "[[[111 222]\n",
      "  [333 444]]\n",
      "\n",
      " [[121 212]\n",
      "  [221 222]]\n",
      "\n",
      " [[555 560]\n",
      "  [565 570]]]\n",
      "Dimension of 'b' : 3\n"
     ]
    }
   ],
   "source": [
    "# A 3D array is an 'array of arrays'. Have a quick look at it \n",
    "\n",
    "b = np.array([ [[111, 222], [333, 444]],\n",
    "               [[121, 212], [221, 222]],\n",
    "               [[555, 560], [565, 570]] ])\n",
    "\n",
    "print(b)\n",
    "print(\"Dimension of 'b' :\", np.ndim (b))\n",
    "\n",
    "# In this array, there are three, 2-D arrays"
   ]
  },
  {
   "cell_type": "markdown",
   "metadata": {},
   "source": [
    "## The shape of an array\n",
    "\n",
    "**What it is:** The shape of an array returns the number of rows (axis = 0) and the number of columns (axis = 1)\n",
    "\n",
    "**Why is it important to understand:** It helps you to understand the number of rows and columns in an array \n",
    "\n",
    "**How is it different from Dimensions:** It is not that different from dimensions, just that functions called are different. "
   ]
  },
  {
   "cell_type": "code",
   "execution_count": 37,
   "metadata": {},
   "outputs": [
    {
     "name": "stdout",
     "output_type": "stream",
     "text": [
      "[[11 22 33]\n",
      " [12 24 36]\n",
      " [13 26 39]\n",
      " [14 28 42]\n",
      " [15 30 45]\n",
      " [16 32 48]]\n"
     ]
    },
    {
     "data": {
      "text/plain": [
       "(6, 3)"
      ]
     },
     "execution_count": 37,
     "metadata": {},
     "output_type": "execute_result"
    }
   ],
   "source": [
    "a1 = np.array([ [11, 22, 33],\n",
    "               [12, 24, 36],\n",
    "               [13, 26, 39],\n",
    "               [14, 28, 42],\n",
    "               [15, 30, 45],\n",
    "               [16, 32, 48]])\n",
    "\n",
    "print (a1)\n",
    "np.shape(a1)"
   ]
  },
  {
   "cell_type": "markdown",
   "metadata": {},
   "source": [
    "### We can also change the shape of an array"
   ]
  },
  {
   "cell_type": "code",
   "execution_count": 38,
   "metadata": {},
   "outputs": [
    {
     "name": "stdout",
     "output_type": "stream",
     "text": [
      "[[11 22]\n",
      " [33 12]\n",
      " [24 36]\n",
      " [13 26]\n",
      " [39 14]\n",
      " [28 42]\n",
      " [15 30]\n",
      " [45 16]\n",
      " [32 48]]\n"
     ]
    }
   ],
   "source": [
    "a1.shape = (9,2)\n",
    "print (a1)"
   ]
  },
  {
   "cell_type": "markdown",
   "metadata": {},
   "source": [
    "    You might have guessed by now that the new shape must correspond to the number of elements of the array, i.e. the total size of the new array must be the same as the old one. We will raise an exception if this is not the case."
   ]
  },
  {
   "cell_type": "code",
   "execution_count": 39,
   "metadata": {},
   "outputs": [
    {
     "name": "stdout",
     "output_type": "stream",
     "text": [
      "()\n"
     ]
    }
   ],
   "source": [
    "# Shape of a 1 dimension array or scalar\n",
    "\n",
    "a = np.array(165416113)\n",
    "print(np.shape(a))\n"
   ]
  },
  {
   "cell_type": "code",
   "execution_count": 40,
   "metadata": {},
   "outputs": [
    {
     "name": "stdout",
     "output_type": "stream",
     "text": [
      "[[10 20 30]\n",
      " [11 22 33]\n",
      " [12 24 36]]\n",
      "<class 'numpy.ndarray'>\n"
     ]
    }
   ],
   "source": [
    "my_array = np.array([[10, 20, 30],[11, 22, 33],[12, 24, 36]])\n",
    "print (my_array)\n",
    "print(type(my_array))\n"
   ]
  },
  {
   "cell_type": "code",
   "execution_count": 41,
   "metadata": {},
   "outputs": [
    {
     "name": "stdout",
     "output_type": "stream",
     "text": [
      "(3, 3)\n"
     ]
    }
   ],
   "source": [
    "#Type your code in line 6\n",
    "my_array_shape = np.shape(my_array)\n",
    "print (my_array_shape)"
   ]
  },
  {
   "cell_type": "code",
   "execution_count": null,
   "metadata": {},
   "outputs": [],
   "source": []
  }
 ],
 "metadata": {
  "kernelspec": {
   "display_name": "Python 3",
   "language": "python",
   "name": "python3"
  },
  "language_info": {
   "codemirror_mode": {
    "name": "ipython",
    "version": 3
   },
   "file_extension": ".py",
   "mimetype": "text/x-python",
   "name": "python",
   "nbconvert_exporter": "python",
   "pygments_lexer": "ipython3",
   "version": "3.7.7"
  }
 },
 "nbformat": 4,
 "nbformat_minor": 4
}
