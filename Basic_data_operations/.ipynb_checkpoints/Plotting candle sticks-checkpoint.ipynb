{
 "cells": [
  {
   "cell_type": "markdown",
   "metadata": {},
   "source": [
    "# Reading a CSV File and plotting the candlestics data \n"
   ]
  },
  {
   "cell_type": "code",
   "execution_count": 12,
   "metadata": {},
   "outputs": [
    {
     "data": {
      "text/html": [
       "<div>\n",
       "<style scoped>\n",
       "    .dataframe tbody tr th:only-of-type {\n",
       "        vertical-align: middle;\n",
       "    }\n",
       "\n",
       "    .dataframe tbody tr th {\n",
       "        vertical-align: top;\n",
       "    }\n",
       "\n",
       "    .dataframe thead th {\n",
       "        text-align: right;\n",
       "    }\n",
       "</style>\n",
       "<table border=\"1\" class=\"dataframe\">\n",
       "  <thead>\n",
       "    <tr style=\"text-align: right;\">\n",
       "      <th></th>\n",
       "      <th>Ticker</th>\n",
       "      <th>Date/Time</th>\n",
       "      <th>Open</th>\n",
       "      <th>High</th>\n",
       "      <th>Low</th>\n",
       "      <th>Close</th>\n",
       "      <th>Volume</th>\n",
       "    </tr>\n",
       "  </thead>\n",
       "  <tbody>\n",
       "    <tr>\n",
       "      <th>0</th>\n",
       "      <td>BANKNIFTY20FEBFUT</td>\n",
       "      <td>20-01-02 00:00:00</td>\n",
       "      <td>32444.85</td>\n",
       "      <td>32711.15</td>\n",
       "      <td>32394.00</td>\n",
       "      <td>32685.85</td>\n",
       "      <td>25920</td>\n",
       "    </tr>\n",
       "    <tr>\n",
       "      <th>1</th>\n",
       "      <td>BANKNIFTY20FEBFUT</td>\n",
       "      <td>20-01-03 00:00:00</td>\n",
       "      <td>32510.00</td>\n",
       "      <td>32539.70</td>\n",
       "      <td>32184.40</td>\n",
       "      <td>32266.85</td>\n",
       "      <td>37860</td>\n",
       "    </tr>\n",
       "    <tr>\n",
       "      <th>2</th>\n",
       "      <td>BANKNIFTY20FEBFUT</td>\n",
       "      <td>20-01-06 00:00:00</td>\n",
       "      <td>32080.20</td>\n",
       "      <td>32109.70</td>\n",
       "      <td>31403.95</td>\n",
       "      <td>31474.10</td>\n",
       "      <td>63980</td>\n",
       "    </tr>\n",
       "    <tr>\n",
       "      <th>3</th>\n",
       "      <td>BANKNIFTY20FEBFUT</td>\n",
       "      <td>20-01-07 00:00:00</td>\n",
       "      <td>31740.30</td>\n",
       "      <td>32018.45</td>\n",
       "      <td>31410.00</td>\n",
       "      <td>31598.55</td>\n",
       "      <td>60220</td>\n",
       "    </tr>\n",
       "    <tr>\n",
       "      <th>4</th>\n",
       "      <td>BANKNIFTY20FEBFUT</td>\n",
       "      <td>20-01-08 00:00:00</td>\n",
       "      <td>31191.95</td>\n",
       "      <td>31645.60</td>\n",
       "      <td>31067.15</td>\n",
       "      <td>31559.05</td>\n",
       "      <td>72340</td>\n",
       "    </tr>\n",
       "  </tbody>\n",
       "</table>\n",
       "</div>"
      ],
      "text/plain": [
       "              Ticker          Date/Time      Open      High       Low  \\\n",
       "0  BANKNIFTY20FEBFUT  20-01-02 00:00:00  32444.85  32711.15  32394.00   \n",
       "1  BANKNIFTY20FEBFUT  20-01-03 00:00:00  32510.00  32539.70  32184.40   \n",
       "2  BANKNIFTY20FEBFUT  20-01-06 00:00:00  32080.20  32109.70  31403.95   \n",
       "3  BANKNIFTY20FEBFUT  20-01-07 00:00:00  31740.30  32018.45  31410.00   \n",
       "4  BANKNIFTY20FEBFUT  20-01-08 00:00:00  31191.95  31645.60  31067.15   \n",
       "\n",
       "      Close  Volume  \n",
       "0  32685.85   25920  \n",
       "1  32266.85   37860  \n",
       "2  31474.10   63980  \n",
       "3  31598.55   60220  \n",
       "4  31559.05   72340  "
      ]
     },
     "execution_count": 12,
     "metadata": {},
     "output_type": "execute_result"
    }
   ],
   "source": [
    "    import pandas as pd\n",
    "    \n",
    "    data = pd.read_csv(\"C:/Users/ramsu/ltphd/banknifty_feb Future daily.csv\")\n",
    "    data.head()\n",
    "\n",
    "    "
   ]
  },
  {
   "cell_type": "code",
   "execution_count": 17,
   "metadata": {},
   "outputs": [],
   "source": [
    "import matplotlib.pyplot as plt\n",
    "import mpl_finance as mpf\n",
    "from mpl_finance import candlestick_ohlc\n",
    "from bokeh.plotting import figure,show,output_file\n",
    "\n",
    "data.index = pd.to_datetime(data.index) #indexing the data frame \n",
    "\n",
    "\"\"\"finding red and green candles\"\"\"\n",
    "\n",
    "inc = data.Close>data.Open\n",
    "dec = data.Close<data.Open \n",
    "\n",
    "Tools = \"pan , wheel_zoom , reset ,save , box_zoom\"\n",
    "\n",
    "\n",
    "# Pan: It helps you pan/move the plot\n",
    "\n",
    "# Wheel Zoom: You can zoom in using the wheel of your mouse\n",
    "\n",
    "# Box Zoom: You can zoom in by creating a box on the specific area of the plot. Use the mouse, click and drag to create the box\n",
    "\n",
    "# Reset: If you want to reset the visualisation of the plot\n",
    "\n",
    "# Save: Saving the plot (entire or the part which you want) as an image file\n",
    "\n"
   ]
  },
  {
   "cell_type": "code",
   "execution_count": 18,
   "metadata": {},
   "outputs": [],
   "source": [
    "# passing arguments to bokeh figure \n",
    "\n",
    "p = figure(x_axis_type=\"datetime\", tools= Tools, plot_width=1000, title=\"Bank_nifty_fut\")\n",
    "\n",
    "from math import pi \n",
    "\n",
    "p.xaxis.major_label_orientation = pi/4.\n",
    "\n",
    "# The orientation of major tick labels can be controlled with the major_label_orientation property.\n",
    "# This property accepts the values \"horizontal\" or \"vertical\" or a floating point number that gives\n",
    "# the angle (in radians) to rotate from the horizontal.\n",
    "\n"
   ]
  },
  {
   "cell_type": "code",
   "execution_count": null,
   "metadata": {},
   "outputs": [],
   "source": [
    "# Alpha signifies the floating point between 0 (transparent) and 1 (opaque).\n",
    "# The line specifies the alpha for the grid lines in the plot.\n",
    "\n",
    "p.grid.grid_line_alpha = 0.3\n",
    "\n"
   ]
  },
  {
   "cell_type": "code",
   "execution_count": 20,
   "metadata": {},
   "outputs": [
    {
     "data": {
      "text/html": [
       "<div style=\"display: table;\"><div style=\"display: table-row;\"><div style=\"display: table-cell;\"><b title=\"bokeh.models.renderers.GlyphRenderer\">GlyphRenderer</b>(</div><div style=\"display: table-cell;\">id&nbsp;=&nbsp;'1036', <span id=\"1039\" style=\"cursor: pointer;\">&hellip;)</span></div></div><div class=\"1038\" style=\"display: none;\"><div style=\"display: table-cell;\"></div><div style=\"display: table-cell;\">data_source&nbsp;=&nbsp;ColumnDataSource(id='1033', ...),</div></div><div class=\"1038\" style=\"display: none;\"><div style=\"display: table-cell;\"></div><div style=\"display: table-cell;\">glyph&nbsp;=&nbsp;Segment(id='1034', ...),</div></div><div class=\"1038\" style=\"display: none;\"><div style=\"display: table-cell;\"></div><div style=\"display: table-cell;\">hover_glyph&nbsp;=&nbsp;None,</div></div><div class=\"1038\" style=\"display: none;\"><div style=\"display: table-cell;\"></div><div style=\"display: table-cell;\">js_event_callbacks&nbsp;=&nbsp;{},</div></div><div class=\"1038\" style=\"display: none;\"><div style=\"display: table-cell;\"></div><div style=\"display: table-cell;\">js_property_callbacks&nbsp;=&nbsp;{},</div></div><div class=\"1038\" style=\"display: none;\"><div style=\"display: table-cell;\"></div><div style=\"display: table-cell;\">level&nbsp;=&nbsp;'glyph',</div></div><div class=\"1038\" style=\"display: none;\"><div style=\"display: table-cell;\"></div><div style=\"display: table-cell;\">muted&nbsp;=&nbsp;False,</div></div><div class=\"1038\" style=\"display: none;\"><div style=\"display: table-cell;\"></div><div style=\"display: table-cell;\">muted_glyph&nbsp;=&nbsp;None,</div></div><div class=\"1038\" style=\"display: none;\"><div style=\"display: table-cell;\"></div><div style=\"display: table-cell;\">name&nbsp;=&nbsp;None,</div></div><div class=\"1038\" style=\"display: none;\"><div style=\"display: table-cell;\"></div><div style=\"display: table-cell;\">nonselection_glyph&nbsp;=&nbsp;Segment(id='1035', ...),</div></div><div class=\"1038\" style=\"display: none;\"><div style=\"display: table-cell;\"></div><div style=\"display: table-cell;\">selection_glyph&nbsp;=&nbsp;None,</div></div><div class=\"1038\" style=\"display: none;\"><div style=\"display: table-cell;\"></div><div style=\"display: table-cell;\">subscribed_events&nbsp;=&nbsp;[],</div></div><div class=\"1038\" style=\"display: none;\"><div style=\"display: table-cell;\"></div><div style=\"display: table-cell;\">tags&nbsp;=&nbsp;[],</div></div><div class=\"1038\" style=\"display: none;\"><div style=\"display: table-cell;\"></div><div style=\"display: table-cell;\">view&nbsp;=&nbsp;CDSView(id='1037', ...),</div></div><div class=\"1038\" style=\"display: none;\"><div style=\"display: table-cell;\"></div><div style=\"display: table-cell;\">visible&nbsp;=&nbsp;True,</div></div><div class=\"1038\" style=\"display: none;\"><div style=\"display: table-cell;\"></div><div style=\"display: table-cell;\">x_range_name&nbsp;=&nbsp;'default',</div></div><div class=\"1038\" style=\"display: none;\"><div style=\"display: table-cell;\"></div><div style=\"display: table-cell;\">y_range_name&nbsp;=&nbsp;'default')</div></div></div>\n",
       "<script>\n",
       "(function() {\n",
       "  var expanded = false;\n",
       "  var ellipsis = document.getElementById(\"1039\");\n",
       "  ellipsis.addEventListener(\"click\", function() {\n",
       "    var rows = document.getElementsByClassName(\"1038\");\n",
       "    for (var i = 0; i < rows.length; i++) {\n",
       "      var el = rows[i];\n",
       "      el.style.display = expanded ? \"none\" : \"table-row\";\n",
       "    }\n",
       "    ellipsis.innerHTML = expanded ? \"&hellip;)\" : \"&lsaquo;&lsaquo;&lsaquo;\";\n",
       "    expanded = !expanded;\n",
       "  });\n",
       "})();\n",
       "</script>\n"
      ],
      "text/plain": [
       "GlyphRenderer(id='1036', ...)"
      ]
     },
     "execution_count": 20,
     "metadata": {},
     "output_type": "execute_result"
    }
   ],
   "source": [
    "# Configure and add segment glyphs to the figure\n",
    "\n",
    "p.segment(data.index,data.High,data.index,data.Low,color=\"red\")"
   ]
  },
  {
   "cell_type": "code",
   "execution_count": 22,
   "metadata": {},
   "outputs": [
    {
     "data": {
      "text/html": [
       "<div style=\"display: table;\"><div style=\"display: table-row;\"><div style=\"display: table-cell;\"><b title=\"bokeh.models.renderers.GlyphRenderer\">GlyphRenderer</b>(</div><div style=\"display: table-cell;\">id&nbsp;=&nbsp;'1048', <span id=\"1051\" style=\"cursor: pointer;\">&hellip;)</span></div></div><div class=\"1050\" style=\"display: none;\"><div style=\"display: table-cell;\"></div><div style=\"display: table-cell;\">data_source&nbsp;=&nbsp;ColumnDataSource(id='1045', ...),</div></div><div class=\"1050\" style=\"display: none;\"><div style=\"display: table-cell;\"></div><div style=\"display: table-cell;\">glyph&nbsp;=&nbsp;VBar(id='1046', ...),</div></div><div class=\"1050\" style=\"display: none;\"><div style=\"display: table-cell;\"></div><div style=\"display: table-cell;\">hover_glyph&nbsp;=&nbsp;None,</div></div><div class=\"1050\" style=\"display: none;\"><div style=\"display: table-cell;\"></div><div style=\"display: table-cell;\">js_event_callbacks&nbsp;=&nbsp;{},</div></div><div class=\"1050\" style=\"display: none;\"><div style=\"display: table-cell;\"></div><div style=\"display: table-cell;\">js_property_callbacks&nbsp;=&nbsp;{},</div></div><div class=\"1050\" style=\"display: none;\"><div style=\"display: table-cell;\"></div><div style=\"display: table-cell;\">level&nbsp;=&nbsp;'glyph',</div></div><div class=\"1050\" style=\"display: none;\"><div style=\"display: table-cell;\"></div><div style=\"display: table-cell;\">muted&nbsp;=&nbsp;False,</div></div><div class=\"1050\" style=\"display: none;\"><div style=\"display: table-cell;\"></div><div style=\"display: table-cell;\">muted_glyph&nbsp;=&nbsp;None,</div></div><div class=\"1050\" style=\"display: none;\"><div style=\"display: table-cell;\"></div><div style=\"display: table-cell;\">name&nbsp;=&nbsp;None,</div></div><div class=\"1050\" style=\"display: none;\"><div style=\"display: table-cell;\"></div><div style=\"display: table-cell;\">nonselection_glyph&nbsp;=&nbsp;VBar(id='1047', ...),</div></div><div class=\"1050\" style=\"display: none;\"><div style=\"display: table-cell;\"></div><div style=\"display: table-cell;\">selection_glyph&nbsp;=&nbsp;None,</div></div><div class=\"1050\" style=\"display: none;\"><div style=\"display: table-cell;\"></div><div style=\"display: table-cell;\">subscribed_events&nbsp;=&nbsp;[],</div></div><div class=\"1050\" style=\"display: none;\"><div style=\"display: table-cell;\"></div><div style=\"display: table-cell;\">tags&nbsp;=&nbsp;[],</div></div><div class=\"1050\" style=\"display: none;\"><div style=\"display: table-cell;\"></div><div style=\"display: table-cell;\">view&nbsp;=&nbsp;CDSView(id='1049', ...),</div></div><div class=\"1050\" style=\"display: none;\"><div style=\"display: table-cell;\"></div><div style=\"display: table-cell;\">visible&nbsp;=&nbsp;True,</div></div><div class=\"1050\" style=\"display: none;\"><div style=\"display: table-cell;\"></div><div style=\"display: table-cell;\">x_range_name&nbsp;=&nbsp;'default',</div></div><div class=\"1050\" style=\"display: none;\"><div style=\"display: table-cell;\"></div><div style=\"display: table-cell;\">y_range_name&nbsp;=&nbsp;'default')</div></div></div>\n",
       "<script>\n",
       "(function() {\n",
       "  var expanded = false;\n",
       "  var ellipsis = document.getElementById(\"1051\");\n",
       "  ellipsis.addEventListener(\"click\", function() {\n",
       "    var rows = document.getElementsByClassName(\"1050\");\n",
       "    for (var i = 0; i < rows.length; i++) {\n",
       "      var el = rows[i];\n",
       "      el.style.display = expanded ? \"none\" : \"table-row\";\n",
       "    }\n",
       "    ellipsis.innerHTML = expanded ? \"&hellip;)\" : \"&lsaquo;&lsaquo;&lsaquo;\";\n",
       "    expanded = !expanded;\n",
       "  });\n",
       "})();\n",
       "</script>\n"
      ],
      "text/plain": [
       "GlyphRenderer(id='1048', ...)"
      ]
     },
     "execution_count": 22,
     "metadata": {},
     "output_type": "execute_result"
    }
   ],
   "source": [
    "# Adds vbar glyphs to the Figure\n",
    "\n",
    "w = 12*60*60*1000 # milliseconds of a half day \n",
    "p.vbar(data.index[inc],w,data.Open[inc],data.Close[inc], fill_color=\"#1ED837\",line_color=\"black\")\n",
    "p.vbar(data.index[dec],w,data.Open[dec],data.Close[dec], fill_color=\"#F2583E\",line_color=\"black\")\n",
    "\n"
   ]
  },
  {
   "cell_type": "code",
   "execution_count": 23,
   "metadata": {},
   "outputs": [],
   "source": [
    "output_file(\"candlestick.html\", title=\"candlestick.py example\") "
   ]
  },
  {
   "cell_type": "code",
   "execution_count": 24,
   "metadata": {},
   "outputs": [],
   "source": [
    "show(p)"
   ]
  },
  {
   "cell_type": "markdown",
   "metadata": {},
   "source": [
    "# This is a flop work on it more "
   ]
  },
  {
   "cell_type": "code",
   "execution_count": null,
   "metadata": {},
   "outputs": [],
   "source": []
  }
 ],
 "metadata": {
  "kernelspec": {
   "display_name": "Python 3",
   "language": "python",
   "name": "python3"
  },
  "language_info": {
   "codemirror_mode": {
    "name": "ipython",
    "version": 3
   },
   "file_extension": ".py",
   "mimetype": "text/x-python",
   "name": "python",
   "nbconvert_exporter": "python",
   "pygments_lexer": "ipython3",
   "version": "3.7.6"
  }
 },
 "nbformat": 4,
 "nbformat_minor": 4
}
