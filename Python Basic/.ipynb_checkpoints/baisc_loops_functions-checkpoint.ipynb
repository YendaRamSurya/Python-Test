{
 "cells": [
  {
   "cell_type": "markdown",
   "metadata": {},
   "source": [
    "### Usage of typical break ,Continue flow control \n"
   ]
  },
  {
   "cell_type": "code",
   "execution_count": 1,
   "metadata": {},
   "outputs": [
    {
     "name": "stdout",
     "output_type": "stream",
     "text": [
      "1\n",
      "2\n",
      "i use continue\n",
      "4\n",
      "5\n"
     ]
    }
   ],
   "source": [
    "my_list =[1,2,3,4,5]\n",
    "\n",
    "for i in my_list: \n",
    "\n",
    "    if i ==3:\n",
    "        print(\"i use continue\")\n",
    "        continue\n",
    "    print(i)\n"
   ]
  },
  {
   "cell_type": "markdown",
   "metadata": {},
   "source": [
    "This way i have jumped to the start of comparision "
   ]
  },
  {
   "cell_type": "code",
   "execution_count": 2,
   "metadata": {},
   "outputs": [
    {
     "name": "stdout",
     "output_type": "stream",
     "text": [
      "1\n",
      "2\n",
      "i break from this loop\n"
     ]
    }
   ],
   "source": [
    "for i in my_list:\n",
    "    if i==3:\n",
    "        print(\"i break from this loop\")\n",
    "        break\n",
    "    print(i)"
   ]
  },
  {
   "cell_type": "markdown",
   "metadata": {},
   "source": [
    "### Built in functions \n",
    "\n"
   ]
  },
  {
   "cell_type": "code",
   "execution_count": 3,
   "metadata": {},
   "outputs": [
    {
     "name": "stdout",
     "output_type": "stream",
     "text": [
      "1\n",
      "3\n",
      "9\n",
      "8\n"
     ]
    }
   ],
   "source": [
    "import random \n",
    "\n",
    "print(random.randint(1,20))\n",
    "print(random.randint(1,20))\n",
    "print(random.randint(1,20))\n",
    "print(random.randint(1,20))\n"
   ]
  },
  {
   "cell_type": "code",
   "execution_count": 4,
   "metadata": {},
   "outputs": [],
   "source": [
    "import random , sys ,os,math # importing all in one shot "
   ]
  },
  {
   "cell_type": "code",
   "execution_count": 5,
   "metadata": {},
   "outputs": [
    {
     "data": {
      "text/plain": [
       "7"
      ]
     },
     "execution_count": 5,
     "metadata": {},
     "output_type": "execute_result"
    }
   ],
   "source": [
    "from random import * # which means import evrything of random\n",
    "exit()\n",
    "randint(1,10)"
   ]
  },
  {
   "cell_type": "markdown",
   "metadata": {},
   "source": [
    "- using sys.exit() functin to exit from program to exit it\n",
    "- using pyper.copy and pyper.paste to add and copy things to clipboard\n",
    "---\n",
    "- Deduplicating functions for debugging purposes to keep it simple and short \n",
    "\n",
    "- if function doesnt have a return statement the return variable defaults to none value "
   ]
  },
  {
   "cell_type": "markdown",
   "metadata": {},
   "source": [
    "`**Key Word Arguments and functions that return None**`\n"
   ]
  },
  {
   "cell_type": "code",
   "execution_count": 6,
   "metadata": {},
   "outputs": [
    {
     "name": "stdout",
     "output_type": "stream",
     "text": [
      "Hello\n"
     ]
    },
    {
     "data": {
      "text/plain": [
       "True"
      ]
     },
     "execution_count": 6,
     "metadata": {},
     "output_type": "execute_result"
    }
   ],
   "source": [
    "u = print(\"Hello\")\n",
    "\n",
    "u == None "
   ]
  },
  {
   "cell_type": "code",
   "execution_count": 7,
   "metadata": {},
   "outputs": [
    {
     "name": "stdout",
     "output_type": "stream",
     "text": [
      "hello 5 this is awesome cool\n"
     ]
    }
   ],
   "source": [
    "print(\"hello\", 5, end =\" this is awesome \")\n",
    "print(\"cool\")"
   ]
  },
  {
   "cell_type": "code",
   "execution_count": 8,
   "metadata": {},
   "outputs": [
    {
     "name": "stdout",
     "output_type": "stream",
     "text": [
      "hello*****5 this is awesome cool\n"
     ]
    }
   ],
   "source": [
    "print(\"hello\", 5, end =\" this is awesome \",sep =\"*****\")\n",
    "print(\"cool\")"
   ]
  },
  {
   "cell_type": "markdown",
   "metadata": {},
   "source": [
    "### Global and Local spaces in python "
   ]
  },
  {
   "cell_type": "markdown",
   "metadata": {},
   "source": [
    "- code in global scope cant access the local scope \n",
    "- code in local scope can access the local scope \n",
    "- code in local scope 1 cant access the local scope 2\n",
    "\n",
    "you can declare a glocal variable in local scope by using keyword **global**\n",
    "\n"
   ]
  },
  {
   "cell_type": "code",
   "execution_count": 9,
   "metadata": {},
   "outputs": [
    {
     "ename": "NameError",
     "evalue": "name 'eggs' is not defined",
     "output_type": "error",
     "traceback": [
      "\u001b[1;31m---------------------------------------------------------------------------\u001b[0m",
      "\u001b[1;31mNameError\u001b[0m                                 Traceback (most recent call last)",
      "\u001b[1;32m<ipython-input-9-e4f8e0a31c7f>\u001b[0m in \u001b[0;36m<module>\u001b[1;34m\u001b[0m\n\u001b[0;32m      3\u001b[0m \u001b[1;32mdef\u001b[0m \u001b[0mspam\u001b[0m\u001b[1;33m(\u001b[0m\u001b[1;33m)\u001b[0m\u001b[1;33m:\u001b[0m\u001b[1;33m\u001b[0m\u001b[1;33m\u001b[0m\u001b[0m\n\u001b[0;32m      4\u001b[0m     \u001b[0meggs\u001b[0m \u001b[1;33m=\u001b[0m \u001b[1;36m20\u001b[0m\u001b[1;33m\u001b[0m\u001b[1;33m\u001b[0m\u001b[0m\n\u001b[1;32m----> 5\u001b[1;33m \u001b[0mprint\u001b[0m\u001b[1;33m(\u001b[0m\u001b[0meggs\u001b[0m\u001b[1;33m)\u001b[0m\u001b[1;33m\u001b[0m\u001b[1;33m\u001b[0m\u001b[0m\n\u001b[0m",
      "\u001b[1;31mNameError\u001b[0m: name 'eggs' is not defined"
     ]
    }
   ],
   "source": [
    "# example \n",
    "\n",
    "def spam():\n",
    "    eggs = 20 \n",
    "print(eggs)"
   ]
  },
  {
   "cell_type": "code",
   "execution_count": null,
   "metadata": {},
   "outputs": [],
   "source": [
    "def spam1():\n",
    "    bacon =20 \n",
    "    print(eggs)\n",
    "\n",
    "eggs =40\n",
    "\n",
    "spam1()"
   ]
  },
  {
   "cell_type": "code",
   "execution_count": null,
   "metadata": {},
   "outputs": [],
   "source": [
    "def spam3():\n",
    "    bacon =40\n",
    "    print(bacon)\n",
    "    spam1()\n",
    "    print(bacon)\n",
    "\n",
    "spam3()"
   ]
  },
  {
   "cell_type": "code",
   "execution_count": null,
   "metadata": {},
   "outputs": [],
   "source": [
    "def hello():\n",
    "    global stan\n",
    "    stan =\"awesome\"\n",
    "    print(stan)\n",
    "hello()\n",
    "print(stan)"
   ]
  },
  {
   "cell_type": "markdown",
   "metadata": {},
   "source": [
    "#### Try and Except "
   ]
  },
  {
   "cell_type": "code",
   "execution_count": null,
   "metadata": {},
   "outputs": [],
   "source": [
    "def divideby(divide):\n",
    "    try:\n",
    "        return 42/divide\n",
    "    except ZeroDivisionError:\n",
    "        print(\"please dont dovide by zero\")\n",
    "print(divideby(2))\n",
    "print(divideby(4))\n",
    "print(divideby(0))\n",
    "print(divideby(5))"
   ]
  },
  {
   "cell_type": "code",
   "execution_count": null,
   "metadata": {},
   "outputs": [],
   "source": [
    "#Simple guess the number program\n",
    "\n",
    "from random import *\n",
    "def guess(var):\n",
    "    value=randint(1,10)\n",
    "    if var == value:\n",
    "        return True\n",
    "    else: \n",
    "        return guess(var)\n",
    "value = 10\n",
    "if value<=10 :\n",
    "    boole =guess(value)\n",
    "    print(boole)\n",
    "else:\n",
    "    print(\"please enter number in range 1 to 10\")\n",
    "    "
   ]
  },
  {
   "cell_type": "markdown",
   "metadata": {},
   "source": [
    "### Lists \n",
    "\n",
    "- Slicing \n",
    "- indexing \n",
    "- Multiple assignment and swapping \n",
    "- Augmented assignment\n"
   ]
  },
  {
   "cell_type": "code",
   "execution_count": 3,
   "metadata": {},
   "outputs": [
    {
     "name": "stdout",
     "output_type": "stream",
     "text": [
      "1 2 3 4\n",
      "2 1\n",
      "5\n"
     ]
    }
   ],
   "source": [
    "# multi level assignment \n",
    "\n",
    "list1 = [1,2,3,4]\n",
    "\n",
    "a,b,c,d =list1\n",
    "\n",
    "print(a,b,c,d)\n",
    "\n",
    "# Swapping \n",
    "\n",
    "a,b = b,a\n",
    "\n",
    "print(a,b)\n",
    "\n",
    "# augmented assignement \n",
    "\n",
    "d += 1\n",
    "print(d)"
   ]
  },
  {
   "cell_type": "code",
   "execution_count": 2,
   "metadata": {},
   "outputs": [
    {
     "name": "stdout",
     "output_type": "stream",
     "text": [
      "[10]\n",
      "1980587632712\n",
      "1980587632812\n",
      "[10, [10, 20, 20, 30]]\n",
      "[10, [10, 20, 20, 30], 55]\n",
      "[[10, 20, 20, 30], 55]\n",
      "55\n",
      "[[10, 20, 20, 30]]\n",
      "0\n",
      "[[10, 20, 20, 30], 10, 20, 20]\n"
     ]
    }
   ],
   "source": [
    "my_list = []\n",
    "\n",
    "my_list.append(10)\n",
    "\n",
    "print(my_list)\n",
    "print(id(my_list))\n",
    "print(id(my_list)+100)\n",
    "# print(*my_list+100)\n",
    "\n",
    "my_list.append([10,20,20,30])\n",
    "print(my_list)\n",
    "\n",
    "my_list.insert(10,55)\n",
    "print(my_list)\n",
    "# print(my_list[1])\n",
    "try:\n",
    "    my_list.remove(10)\n",
    "except:\n",
    "    print(\"opps the vale is not found\")    \n",
    "print(my_list)\n",
    "\n",
    "print(my_list.pop())\n",
    "\n",
    "print(my_list)\n",
    "\n",
    "print(my_list.index([10, 20, 20, 30]))\n",
    "my_list.extend([10,20,20])\n",
    "print(my_list)"
   ]
  },
  {
   "cell_type": "code",
   "execution_count": 9,
   "metadata": {},
   "outputs": [
    {
     "name": "stdout",
     "output_type": "stream",
     "text": [
      "[10, 20, 20, [10, 20, 20, 30]]\n"
     ]
    }
   ],
   "source": [
    "list1 = list(\"ramsurya\")\n",
    "print(my_list)"
   ]
  },
  {
   "cell_type": "code",
   "execution_count": 11,
   "metadata": {},
   "outputs": [
    {
     "name": "stdout",
     "output_type": "stream",
     "text": [
      "['a', 'a', 'm', 'r', 'r', 's', 'u', 'y']\n"
     ]
    }
   ],
   "source": [
    "list1.sort()\n",
    "\n",
    "print(list1)"
   ]
  },
  {
   "cell_type": "markdown",
   "metadata": {},
   "source": [
    "#### Similarities between lists and strings \n",
    "\n",
    "where indexing and slicing is possible but strings are immutable \n",
    "\n"
   ]
  },
  {
   "cell_type": "code",
   "execution_count": 16,
   "metadata": {},
   "outputs": [
    {
     "name": "stdout",
     "output_type": "stream",
     "text": [
      "0 : i\n",
      "1 :  \n",
      "2 : a\n",
      "3 : m\n",
      "4 :  \n",
      "5 : s\n",
      "6 : t\n",
      "7 : u\n",
      "8 : p\n",
      "9 : i\n",
      "10 : d\n"
     ]
    }
   ],
   "source": [
    "name = \"i am stupid\" \n",
    "\n",
    "for i in range(len(name)):\n",
    "    print(i ,\":\",name[i])"
   ]
  },
  {
   "cell_type": "code",
   "execution_count": 19,
   "metadata": {},
   "outputs": [
    {
     "data": {
      "text/plain": [
       "'i am the big stupid'"
      ]
     },
     "execution_count": 19,
     "metadata": {},
     "output_type": "execute_result"
    }
   ],
   "source": [
    "\"now a way to change the string is create new string \"\n",
    "\n",
    "newname = name[0:5] + \"the big \" +name[5:]\n",
    "newname"
   ]
  },
  {
   "cell_type": "markdown",
   "metadata": {},
   "source": [
    "When you assign a list to variable it will reference which is different from normal variables\n",
    "\n",
    "\n",
    "immutable values like strings and tuples dont have this problem\n",
    "\n",
    "ALL OTHER DATA TYPES HAVE NO REFERENCING ISSUES OTHER THAN DATA STRUCTURES "
   ]
  },
  {
   "cell_type": "code",
   "execution_count": 26,
   "metadata": {},
   "outputs": [
    {
     "name": "stdout",
     "output_type": "stream",
     "text": [
      "[11, 'change ', 66, 65, 1, 545]\n",
      "[11, 'change ', 66, 65, 1, 545]\n",
      "1980602798792\n",
      "1980602798792\n"
     ]
    },
    {
     "data": {
      "text/plain": [
       "'by changing hen then eggs are also changes as hen is assigned the address of eggs'"
      ]
     },
     "execution_count": 26,
     "metadata": {},
     "output_type": "execute_result"
    }
   ],
   "source": [
    "eggs =[11,22,66,65,1,545]\n",
    "hen = eggs \n",
    "\n",
    "hen[1] = 'change '\n",
    "print(hen)\n",
    "print(eggs)\n",
    "print(id(hen))\n",
    "print(id(eggs))\n",
    "\"by changing hen then eggs are also changes as hen is assigned the address of eggs\"\n"
   ]
  },
  {
   "cell_type": "markdown",
   "metadata": {},
   "source": [
    "Because of referencing we can see pass by reference in this criteria .\n",
    "\n",
    "-- as datastructures are huge we can reference and be efficient."
   ]
  },
  {
   "cell_type": "code",
   "execution_count": 25,
   "metadata": {},
   "outputs": [
    {
     "data": {
      "text/plain": [
       "[1, 2, 3, 'hello']"
      ]
     },
     "execution_count": 25,
     "metadata": {},
     "output_type": "execute_result"
    }
   ],
   "source": [
    "def key (parameter):\n",
    "    return parameter.append(\"hello\")\n",
    "\n",
    "spam = [1,2,3]\n",
    "\n",
    "key(spam)\n",
    "spam\n",
    "\n",
    "# \"\"\" EVEN THUGH THE LOCAL VARIABLE IS DESTROYED AS THE OPERATION IS THROUGH REFERENCING WE WERE ABLE TO CHANGE SPAM \n",
    "\n",
    "# WE WERE ABLE TO CHANGE A GLOBAL SCOPE VARIBLE BEACAUSE OF LOCAL SCOPE \"\"\""
   ]
  },
  {
   "cell_type": "markdown",
   "metadata": {},
   "source": [
    "- if incase you want to make a new copy of list and avoid referencing "
   ]
  },
  {
   "cell_type": "code",
   "execution_count": 32,
   "metadata": {},
   "outputs": [
    {
     "name": "stdout",
     "output_type": "stream",
     "text": [
      "1980602770056\n",
      "1980602681096\n",
      "['r', 'a', 'm', 's', 'u', 'r', 'y', 'a'] \n",
      " ['r', 'a', 'm', 's', 'u', 'r', 'y', 'a', 'crazy']\n"
     ]
    }
   ],
   "source": [
    "import copy as cp \n",
    "spam =list(\"ramsurya\")\n",
    "eggs =cp.deepcopy(spam)\n",
    "print(id(spam))\n",
    "print(id(eggs))\n",
    "eggs.append(\"crazy\")\n",
    "print(spam,'\\n',eggs)\n",
    "# dir(cp)"
   ]
  },
  {
   "cell_type": "markdown",
   "metadata": {},
   "source": [
    "### - Dictionaries "
   ]
  },
  {
   "cell_type": "code",
   "execution_count": 55,
   "metadata": {},
   "outputs": [
    {
     "name": "stdout",
     "output_type": "stream",
     "text": [
      "dict_keys(['size', 'color', 'disposition'])\n",
      "dict_values(['fat', 'gray', 'loud'])\n",
      "dict_items([('size', 'fat'), ('color', 'gray'), ('disposition', 'loud')])\n"
     ]
    },
    {
     "data": {
      "text/plain": [
       "['__class__',\n",
       " '__contains__',\n",
       " '__delattr__',\n",
       " '__delitem__',\n",
       " '__dir__',\n",
       " '__doc__',\n",
       " '__eq__',\n",
       " '__format__',\n",
       " '__ge__',\n",
       " '__getattribute__',\n",
       " '__getitem__',\n",
       " '__gt__',\n",
       " '__hash__',\n",
       " '__init__',\n",
       " '__init_subclass__',\n",
       " '__iter__',\n",
       " '__le__',\n",
       " '__len__',\n",
       " '__lt__',\n",
       " '__ne__',\n",
       " '__new__',\n",
       " '__reduce__',\n",
       " '__reduce_ex__',\n",
       " '__repr__',\n",
       " '__setattr__',\n",
       " '__setitem__',\n",
       " '__sizeof__',\n",
       " '__str__',\n",
       " '__subclasshook__',\n",
       " 'clear',\n",
       " 'copy',\n",
       " 'fromkeys',\n",
       " 'get',\n",
       " 'items',\n",
       " 'keys',\n",
       " 'pop',\n",
       " 'popitem',\n",
       " 'setdefault',\n",
       " 'update',\n",
       " 'values']"
      ]
     },
     "execution_count": 55,
     "metadata": {},
     "output_type": "execute_result"
    }
   ],
   "source": [
    " myCat = {'size': 'fat', 'color': 'gray', 'disposition': 'loud'}\n",
    "\n",
    "myCat['size']\n",
    "print(myCat.keys())\n",
    "print(myCat.values())\n",
    "print(myCat.items())\n",
    "\"These are returning list like data types\"\n",
    "dir(myCat)"
   ]
  },
  {
   "cell_type": "code",
   "execution_count": 48,
   "metadata": {},
   "outputs": [
    {
     "data": {
      "text/plain": [
       "216"
      ]
     },
     "execution_count": 48,
     "metadata": {},
     "output_type": "execute_result"
    }
   ],
   "source": [
    "myCat.__sizeof__()"
   ]
  },
  {
   "cell_type": "code",
   "execution_count": 52,
   "metadata": {},
   "outputs": [
    {
     "data": {
      "text/plain": [
       "True"
      ]
     },
     "execution_count": 52,
     "metadata": {},
     "output_type": "execute_result"
    }
   ],
   "source": [
    "\"Dictionaries are unorders\"\n",
    "\n",
    "eggs = {'name': 'Zophie', 'species': 'cat', 'age': '8'}\n",
    "ham = {'species': 'cat', 'age': '8', 'name': 'Zophie'}\n",
    "eggs == ham"
   ]
  },
  {
   "cell_type": "code",
   "execution_count": 53,
   "metadata": {},
   "outputs": [
    {
     "name": "stdout",
     "output_type": "stream",
     "text": [
      "name : Zophie\n",
      "species : cat\n",
      "age : 8\n"
     ]
    }
   ],
   "source": [
    "for i in eggs:\n",
    "    print(i, \":\",eggs[i])"
   ]
  },
  {
   "cell_type": "code",
   "execution_count": 57,
   "metadata": {
    "collapsed": true,
    "jupyter": {
     "outputs_hidden": true
    }
   },
   "outputs": [
    {
     "data": {
      "text/plain": [
       "['Annotation',\n",
       " 'Arrow',\n",
       " 'Artist',\n",
       " 'AutoLocator',\n",
       " 'Axes',\n",
       " 'Button',\n",
       " 'Circle',\n",
       " 'Figure',\n",
       " 'FigureCanvasBase',\n",
       " 'FixedFormatter',\n",
       " 'FixedLocator',\n",
       " 'FormatStrFormatter',\n",
       " 'Formatter',\n",
       " 'FuncFormatter',\n",
       " 'GridSpec',\n",
       " 'IndexLocator',\n",
       " 'Line2D',\n",
       " 'LinearLocator',\n",
       " 'Locator',\n",
       " 'LogFormatter',\n",
       " 'LogFormatterExponent',\n",
       " 'LogFormatterMathtext',\n",
       " 'LogLocator',\n",
       " 'MaxNLocator',\n",
       " 'MultipleLocator',\n",
       " 'Normalize',\n",
       " 'NullFormatter',\n",
       " 'NullLocator',\n",
       " 'Number',\n",
       " 'PolarAxes',\n",
       " 'Polygon',\n",
       " 'Rectangle',\n",
       " 'ScalarFormatter',\n",
       " 'Slider',\n",
       " 'Subplot',\n",
       " 'SubplotTool',\n",
       " 'Text',\n",
       " 'TickHelper',\n",
       " 'Widget',\n",
       " '_INSTALL_FIG_OBSERVER',\n",
       " '_IP_REGISTERED',\n",
       " '__builtins__',\n",
       " '__cached__',\n",
       " '__doc__',\n",
       " '__file__',\n",
       " '__loader__',\n",
       " '__name__',\n",
       " '__package__',\n",
       " '__spec__',\n",
       " '_auto_draw_if_interactive',\n",
       " '_backend_mod',\n",
       " '_get_running_interactive_framework',\n",
       " '_interactive_bk',\n",
       " '_log',\n",
       " '_pylab_helpers',\n",
       " '_setp',\n",
       " '_setup_pyplot_info_docstrings',\n",
       " '_show',\n",
       " 'acorr',\n",
       " 'angle_spectrum',\n",
       " 'annotate',\n",
       " 'arrow',\n",
       " 'autoscale',\n",
       " 'autumn',\n",
       " 'axes',\n",
       " 'axhline',\n",
       " 'axhspan',\n",
       " 'axis',\n",
       " 'axvline',\n",
       " 'axvspan',\n",
       " 'bar',\n",
       " 'barbs',\n",
       " 'barh',\n",
       " 'bone',\n",
       " 'box',\n",
       " 'boxplot',\n",
       " 'broken_barh',\n",
       " 'cbook',\n",
       " 'cla',\n",
       " 'clabel',\n",
       " 'clf',\n",
       " 'clim',\n",
       " 'close',\n",
       " 'cm',\n",
       " 'cohere',\n",
       " 'colorbar',\n",
       " 'colormaps',\n",
       " 'connect',\n",
       " 'contour',\n",
       " 'contourf',\n",
       " 'cool',\n",
       " 'copper',\n",
       " 'csd',\n",
       " 'cycler',\n",
       " 'dedent',\n",
       " 'delaxes',\n",
       " 'deprecated',\n",
       " 'disconnect',\n",
       " 'docstring',\n",
       " 'draw',\n",
       " 'draw_all',\n",
       " 'draw_if_interactive',\n",
       " 'errorbar',\n",
       " 'eventplot',\n",
       " 'figaspect',\n",
       " 'figimage',\n",
       " 'figlegend',\n",
       " 'fignum_exists',\n",
       " 'figtext',\n",
       " 'figure',\n",
       " 'fill',\n",
       " 'fill_between',\n",
       " 'fill_betweenx',\n",
       " 'findobj',\n",
       " 'flag',\n",
       " 'functools',\n",
       " 'gca',\n",
       " 'gcf',\n",
       " 'gci',\n",
       " 'get',\n",
       " 'get_backend',\n",
       " 'get_cmap',\n",
       " 'get_current_fig_manager',\n",
       " 'get_figlabels',\n",
       " 'get_fignums',\n",
       " 'get_plot_commands',\n",
       " 'get_scale_docs',\n",
       " 'get_scale_names',\n",
       " 'getp',\n",
       " 'ginput',\n",
       " 'gray',\n",
       " 'grid',\n",
       " 'hexbin',\n",
       " 'hist',\n",
       " 'hist2d',\n",
       " 'hlines',\n",
       " 'hot',\n",
       " 'hsv',\n",
       " 'importlib',\n",
       " 'imread',\n",
       " 'imsave',\n",
       " 'imshow',\n",
       " 'inferno',\n",
       " 'inspect',\n",
       " 'install_repl_displayhook',\n",
       " 'interactive',\n",
       " 'ioff',\n",
       " 'ion',\n",
       " 'isinteractive',\n",
       " 'jet',\n",
       " 'legend',\n",
       " 'locator_params',\n",
       " 'logging',\n",
       " 'loglog',\n",
       " 'magma',\n",
       " 'magnitude_spectrum',\n",
       " 'margins',\n",
       " 'matplotlib',\n",
       " 'matshow',\n",
       " 'minorticks_off',\n",
       " 'minorticks_on',\n",
       " 'mlab',\n",
       " 'new_figure_manager',\n",
       " 'nipy_spectral',\n",
       " 'np',\n",
       " 'pause',\n",
       " 'pcolor',\n",
       " 'pcolormesh',\n",
       " 'phase_spectrum',\n",
       " 'pie',\n",
       " 'pink',\n",
       " 'plasma',\n",
       " 'plot',\n",
       " 'plot_date',\n",
       " 'plotfile',\n",
       " 'plotting',\n",
       " 'polar',\n",
       " 'prism',\n",
       " 'psd',\n",
       " 'pylab_setup',\n",
       " 'quiver',\n",
       " 'quiverkey',\n",
       " 'rc',\n",
       " 'rcParams',\n",
       " 'rcParamsDefault',\n",
       " 'rcParamsOrig',\n",
       " 'rc_context',\n",
       " 'rcdefaults',\n",
       " 'rcsetup',\n",
       " 're',\n",
       " 'register_cmap',\n",
       " 'rgrids',\n",
       " 'savefig',\n",
       " 'sca',\n",
       " 'scatter',\n",
       " 'sci',\n",
       " 'semilogx',\n",
       " 'semilogy',\n",
       " 'set_cmap',\n",
       " 'set_loglevel',\n",
       " 'setp',\n",
       " 'show',\n",
       " 'silent_list',\n",
       " 'specgram',\n",
       " 'spring',\n",
       " 'spy',\n",
       " 'stackplot',\n",
       " 'stem',\n",
       " 'step',\n",
       " 'streamplot',\n",
       " 'style',\n",
       " 'subplot',\n",
       " 'subplot2grid',\n",
       " 'subplot_tool',\n",
       " 'subplots',\n",
       " 'subplots_adjust',\n",
       " 'summer',\n",
       " 'suptitle',\n",
       " 'switch_backend',\n",
       " 'sys',\n",
       " 'table',\n",
       " 'text',\n",
       " 'thetagrids',\n",
       " 'tick_params',\n",
       " 'ticklabel_format',\n",
       " 'tight_layout',\n",
       " 'time',\n",
       " 'title',\n",
       " 'tricontour',\n",
       " 'tricontourf',\n",
       " 'tripcolor',\n",
       " 'triplot',\n",
       " 'twinx',\n",
       " 'twiny',\n",
       " 'uninstall_repl_displayhook',\n",
       " 'violinplot',\n",
       " 'viridis',\n",
       " 'vlines',\n",
       " 'waitforbuttonpress',\n",
       " 'warn_deprecated',\n",
       " 'winter',\n",
       " 'xcorr',\n",
       " 'xkcd',\n",
       " 'xlabel',\n",
       " 'xlim',\n",
       " 'xscale',\n",
       " 'xticks',\n",
       " 'ylabel',\n",
       " 'ylim',\n",
       " 'yscale',\n",
       " 'yticks']"
      ]
     },
     "execution_count": 57,
     "metadata": {},
     "output_type": "execute_result"
    }
   ],
   "source": [
    "import matplotlib.pyplot as plt\n",
    "\n",
    "dir (plt)"
   ]
  },
  {
   "cell_type": "code",
   "execution_count": 59,
   "metadata": {},
   "outputs": [
    {
     "name": "stdout",
     "output_type": "stream",
     "text": [
      "cat\n"
     ]
    },
    {
     "data": {
      "text/plain": [
       "0"
      ]
     },
     "execution_count": 59,
     "metadata": {},
     "output_type": "execute_result"
    }
   ],
   "source": [
    "# usage of get function to avoid invalid functions \n",
    "\n",
    "print(eggs.get('species',0))\n",
    "eggs.get('c',0)"
   ]
  },
  {
   "cell_type": "code",
   "execution_count": 61,
   "metadata": {},
   "outputs": [
    {
     "name": "stdout",
     "output_type": "stream",
     "text": [
      "{'name': 'Zophie', 'species': 'cat', 'age': '8', 'color': 'black'}\n"
     ]
    }
   ],
   "source": [
    "eggs.setdefault(\"color\",\"black\")\n",
    "\n",
    "print(eggs)"
   ]
  },
  {
   "cell_type": "code",
   "execution_count": 67,
   "metadata": {},
   "outputs": [
    {
     "name": "stdout",
     "output_type": "stream",
     "text": [
      "{' ': 8, 'i': 4, 'a': 2, 'm': 2, 'w': 1, 'e': 2, 's': 4, 'o': 1, 'b': 1, 'u': 2, 't': 3, 'h': 1, 'p': 1, 'd': 1} \n",
      "\n",
      "{' ': 8,\n",
      " 'a': 2,\n",
      " 'b': 1,\n",
      " 'd': 1,\n",
      " 'e': 2,\n",
      " 'h': 1,\n",
      " 'i': 4,\n",
      " 'm': 2,\n",
      " 'o': 1,\n",
      " 'p': 1,\n",
      " 's': 4,\n",
      " 't': 3,\n",
      " 'u': 2,\n",
      " 'w': 1}\n"
     ]
    }
   ],
   "source": [
    "# counting charecters \n",
    "import pprint \n",
    "string = \" i am awesome but this is stupid \"\n",
    "count ={}\n",
    "for char in string:\n",
    "    count.setdefault(char , 0)\n",
    "    count[char] +=1\n",
    "print(count,\"\\n\")  \n",
    "\n",
    "pprint.pprint(count)"
   ]
  },
  {
   "cell_type": "markdown",
   "metadata": {},
   "source": [
    " ## - data structures \n",
    " \n",
    " - having a list of dictionaries which can be used to model real world things "
   ]
  },
  {
   "cell_type": "code",
   "execution_count": 72,
   "metadata": {},
   "outputs": [
    {
     "name": "stdout",
     "output_type": "stream",
     "text": [
      "[{'name': 'Zophie', 'species': 'cat', 'age': '8', 'color': 'black'}]\n",
      "[{'name': 'Zophie', 'species': 'cat', 'age': '8', 'color': 'black'}, {'name': 'sophie', 'species': 'cat', 'age': '10', 'color': 'blue'}]\n"
     ]
    }
   ],
   "source": [
    "eggs \n",
    "\n",
    "alleggs = []\n",
    "\n",
    "alleggs.append(eggs)\n",
    "\n",
    "print(alleggs)\n",
    "\n",
    "alleggs.append({'name': 'sophie', 'species': 'cat', 'age': '10', 'color': 'blue'})\n",
    "\n",
    "print(alleggs)"
   ]
  },
  {
   "cell_type": "code",
   "execution_count": 73,
   "metadata": {},
   "outputs": [
    {
     "data": {
      "text/plain": [
       "['__add__',\n",
       " '__class__',\n",
       " '__contains__',\n",
       " '__delattr__',\n",
       " '__dir__',\n",
       " '__doc__',\n",
       " '__eq__',\n",
       " '__format__',\n",
       " '__ge__',\n",
       " '__getattribute__',\n",
       " '__getitem__',\n",
       " '__getnewargs__',\n",
       " '__gt__',\n",
       " '__hash__',\n",
       " '__init__',\n",
       " '__init_subclass__',\n",
       " '__iter__',\n",
       " '__le__',\n",
       " '__len__',\n",
       " '__lt__',\n",
       " '__mod__',\n",
       " '__mul__',\n",
       " '__ne__',\n",
       " '__new__',\n",
       " '__reduce__',\n",
       " '__reduce_ex__',\n",
       " '__repr__',\n",
       " '__rmod__',\n",
       " '__rmul__',\n",
       " '__setattr__',\n",
       " '__sizeof__',\n",
       " '__str__',\n",
       " '__subclasshook__',\n",
       " 'capitalize',\n",
       " 'casefold',\n",
       " 'center',\n",
       " 'count',\n",
       " 'encode',\n",
       " 'endswith',\n",
       " 'expandtabs',\n",
       " 'find',\n",
       " 'format',\n",
       " 'format_map',\n",
       " 'index',\n",
       " 'isalnum',\n",
       " 'isalpha',\n",
       " 'isascii',\n",
       " 'isdecimal',\n",
       " 'isdigit',\n",
       " 'isidentifier',\n",
       " 'islower',\n",
       " 'isnumeric',\n",
       " 'isprintable',\n",
       " 'isspace',\n",
       " 'istitle',\n",
       " 'isupper',\n",
       " 'join',\n",
       " 'ljust',\n",
       " 'lower',\n",
       " 'lstrip',\n",
       " 'maketrans',\n",
       " 'partition',\n",
       " 'replace',\n",
       " 'rfind',\n",
       " 'rindex',\n",
       " 'rjust',\n",
       " 'rpartition',\n",
       " 'rsplit',\n",
       " 'rstrip',\n",
       " 'split',\n",
       " 'splitlines',\n",
       " 'startswith',\n",
       " 'strip',\n",
       " 'swapcase',\n",
       " 'title',\n",
       " 'translate',\n",
       " 'upper',\n",
       " 'zfill']"
      ]
     },
     "execution_count": 73,
     "metadata": {},
     "output_type": "execute_result"
    }
   ],
   "source": [
    "dir(str)"
   ]
  },
  {
   "cell_type": "markdown",
   "metadata": {},
   "source": [
    "##### the listed above are the attributes and methods of string \n",
    "Let us work on multiple methods of strings"
   ]
  },
  {
   "cell_type": "code",
   "execution_count": 76,
   "metadata": {},
   "outputs": [
    {
     "name": "stdout",
     "output_type": "stream",
     "text": [
      "HELLO WORLD \n",
      "hello world \n"
     ]
    }
   ],
   "source": [
    "spam = \"hello World \"\n",
    "\n",
    "print(spam.upper())\n",
    "print(spam.lower())# utilised for comparisions and simple stuff \n"
   ]
  },
  {
   "cell_type": "markdown",
   "metadata": {},
   "source": [
    "Some of the simple boolean comparisions methods on strings  \n",
    "'isalnum',\n",
    " 'isalpha',\n",
    " 'isascii',\n",
    " 'isdecimal',\n",
    " 'isdigit',\n",
    " 'isidentifier',\n",
    " 'islower',\n",
    " 'isnumeric',\n",
    " 'isprintable',\n",
    " 'isspace',\n",
    " 'istitle',\n",
    " 'isupper'"
   ]
  },
  {
   "cell_type": "code",
   "execution_count": 77,
   "metadata": {},
   "outputs": [
    {
     "data": {
      "text/plain": [
       "'cat,val,kill'"
      ]
     },
     "execution_count": 77,
     "metadata": {},
     "output_type": "execute_result"
    }
   ],
   "source": [
    "','.join(['cat','val','kill'])"
   ]
  },
  {
   "cell_type": "code",
   "execution_count": 86,
   "metadata": {},
   "outputs": [
    {
     "name": "stdout",
     "output_type": "stream",
     "text": [
      "     hello\n",
      "'hello#####'\n",
      "'#######hello########'\n"
     ]
    }
   ],
   "source": [
    "## usage of justifying method or to justify size\n",
    "\n",
    "print(\"hello\".rjust(10))# adds spaces towards right till the length is 10 \n",
    "print(repr(\"hello\".ljust(10,'#')))# adds spaces towards left till the length is 10\n",
    "print(repr(\"hello\".center(20,'#')))# adds # towards left and right till the length is 10"
   ]
  },
  {
   "cell_type": "code",
   "execution_count": 99,
   "metadata": {},
   "outputs": [
    {
     "name": "stdout",
     "output_type": "stream",
     "text": [
      "'hello#####'\n",
      "hello\n"
     ]
    },
    {
     "data": {
      "text/plain": [
       "'hello'"
      ]
     },
     "execution_count": 99,
     "metadata": {},
     "output_type": "execute_result"
    }
   ],
   "source": [
    "# strip ,rstrip,l strip\n",
    "\n",
    "print(repr(\"hello\".ljust(10,'#').lstrip('#')))\n",
    "print(\"hello\".ljust(10,'#').rstrip('#'))\n",
    "\"hello\".ljust(10,'#').strip('#')"
   ]
  },
  {
   "cell_type": "code",
   "execution_count": 100,
   "metadata": {},
   "outputs": [
    {
     "data": {
      "text/plain": [
       "'hello     '"
      ]
     },
     "execution_count": 100,
     "metadata": {},
     "output_type": "execute_result"
    }
   ],
   "source": [
    "\"hello\".ljust(10,'#').replace('#',' ')"
   ]
  },
  {
   "cell_type": "code",
   "execution_count": 107,
   "metadata": {},
   "outputs": [
    {
     "data": {
      "text/plain": [
       "\"['BOOL', 'CheckedCall', 'DWORD', 'ENCODING', 'EXCEPT_MSG', 'HANDLE', 'HAS_DISPLAY', 'HGLOBAL', 'HINSTANCE', 'HMENU', 'HWND', 'INT', 'LPCSTR', 'LPVOID', 'PY2', 'PyperclipException', 'PyperclipTimeoutException', 'PyperclipWindowsException', 'STR_OR_UNICODE', 'UINT', 'WHICH_CMD', '__all__', '__builtins__', '__cached__', '__doc__', '__file__', '__loader__', '__name__', '__package__', '__path__', '__spec__', '__version__', '_executable_exists', '_stringifyText', 'c_size_t', 'c_wchar', 'c_wchar_p', 'contextlib', 'copy', 'ctypes', 'determine_clipboard', 'get_errno', 'init_dev_clipboard_clipboard', 'init_gtk_clipboard', 'init_klipper_clipboard', 'init_no_clipboard', 'init_osx_pbcopy_clipboard', 'init_osx_pyobjc_clipboard', 'init_qt_clipboard', 'init_windows_clipboard', 'init_wsl_clipboard', 'init_xclip_clipboard', 'init_xsel_clipboard', 'is_available', 'lazy_load_stub_copy', 'lazy_load_stub_paste', 'os', 'paste', 'platform', 'set_clipboard', 'sizeof', 'subprocess', 'sys', 'time', 'waitForNewPaste', 'waitForPaste', 'warnings']\""
      ]
     },
     "execution_count": 107,
     "metadata": {},
     "output_type": "execute_result"
    }
   ],
   "source": [
    "import pyperclip\n",
    "\n",
    "pyperclip.copy(str(dir(pyperclip)))\n",
    "pyperclip.paste()"
   ]
  }
 ],
 "metadata": {
  "kernelspec": {
   "display_name": "Python 3",
   "language": "python",
   "name": "python3"
  },
  "language_info": {
   "codemirror_mode": {
    "name": "ipython",
    "version": 3
   },
   "file_extension": ".py",
   "mimetype": "text/x-python",
   "name": "python",
   "nbconvert_exporter": "python",
   "pygments_lexer": "ipython3",
   "version": "3.7.6"
  }
 },
 "nbformat": 4,
 "nbformat_minor": 4
}
