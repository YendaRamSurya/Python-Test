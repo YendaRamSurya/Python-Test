{
 "cells": [
  {
   "cell_type": "code",
   "execution_count": 17,
   "metadata": {},
   "outputs": [
    {
     "name": "stdout",
     "output_type": "stream",
     "text": [
      "<class 're.Pattern'>\n",
      "['9591329536']\n",
      "['__class__', '__copy__', '__deepcopy__', '__delattr__', '__dir__', '__doc__', '__eq__', '__format__', '__ge__', '__getattribute__', '__getitem__', '__gt__', '__hash__', '__init__', '__init_subclass__', '__le__', '__lt__', '__ne__', '__new__', '__reduce__', '__reduce_ex__', '__repr__', '__setattr__', '__sizeof__', '__str__', '__subclasshook__', 'end', 'endpos', 'expand', 'group', 'groupdict', 'groups', 'lastgroup', 'lastindex', 'pos', 're', 'regs', 'span', 'start', 'string'] \n",
      " **************************************************************************************************** \n",
      "\n",
      "9591329536\n"
     ]
    }
   ],
   "source": [
    "import re\n",
    "\n",
    "\n",
    "message= \"My phone number is equal to 9591329536\"\n",
    "\n",
    "reobj = re.compile(r'(\\d\\d\\d)(\\d\\d\\d)(\\d\\d\\d\\d)')\n",
    "\n",
    "print(type(reobj))\n",
    "\n",
    "print(reobj.findall(message))\n",
    "matchobject=re.search(reobj,message)\n",
    "print(dir(matchobject),'\\n','*'*100,'\\n')\n",
    "matchobject.group()\n",
    "print(matchobject.group(0))\n"
   ]
  },
  {
   "cell_type": "code",
   "execution_count": null,
   "metadata": {},
   "outputs": [],
   "source": []
  }
 ],
 "metadata": {
  "kernelspec": {
   "display_name": "Python 3",
   "language": "python",
   "name": "python3"
  },
  "language_info": {
   "codemirror_mode": {
    "name": "ipython",
    "version": 3
   },
   "file_extension": ".py",
   "mimetype": "text/x-python",
   "name": "python",
   "nbconvert_exporter": "python",
   "pygments_lexer": "ipython3",
   "version": "3.7.6"
  }
 },
 "nbformat": 4,
 "nbformat_minor": 4
}
