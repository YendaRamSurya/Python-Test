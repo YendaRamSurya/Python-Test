{
 "cells": [
  {
   "cell_type": "markdown",
   "metadata": {},
   "source": [
    "## Debugging \n",
    "\n",
    "- raise and assert\n",
    "\n",
    "- try and except usage already used "
   ]
  },
  {
   "cell_type": "code",
   "execution_count": 12,
   "metadata": {},
   "outputs": [
    {
     "name": "stdout",
     "output_type": "stream",
     "text": [
      "**********\n",
      "*        *\n",
      "*        *\n",
      "*        *\n",
      "*        *\n",
      "*        *\n",
      "**********\n"
     ]
    },
    {
     "ename": "Exception",
     "evalue": "This is the error message, please type symbol with length 1",
     "output_type": "error",
     "traceback": [
      "\u001b[1;31m---------------------------------------------------------------------------\u001b[0m",
      "\u001b[1;31mException\u001b[0m                                 Traceback (most recent call last)",
      "\u001b[1;32m<ipython-input-12-ddde53c716be>\u001b[0m in \u001b[0;36m<module>\u001b[1;34m\u001b[0m\n\u001b[0;32m     25\u001b[0m \u001b[1;31m# if the symbol length is less then we will loose the functionality of the box\u001b[0m\u001b[1;33m\u001b[0m\u001b[1;33m\u001b[0m\u001b[1;33m\u001b[0m\u001b[0m\n\u001b[0;32m     26\u001b[0m \u001b[1;33m\u001b[0m\u001b[0m\n\u001b[1;32m---> 27\u001b[1;33m \u001b[0mbox\u001b[0m\u001b[1;33m(\u001b[0m\u001b[1;34m'**'\u001b[0m\u001b[1;33m,\u001b[0m\u001b[1;36m7\u001b[0m\u001b[1;33m,\u001b[0m\u001b[1;36m10\u001b[0m\u001b[1;33m)\u001b[0m \u001b[1;31m# hence we need ot raise an exception for this\u001b[0m\u001b[1;33m\u001b[0m\u001b[1;33m\u001b[0m\u001b[0m\n\u001b[0m",
      "\u001b[1;32m<ipython-input-12-ddde53c716be>\u001b[0m in \u001b[0;36mbox\u001b[1;34m(sym, height, width)\u001b[0m\n\u001b[0;32m     14\u001b[0m \u001b[1;33m\u001b[0m\u001b[0m\n\u001b[0;32m     15\u001b[0m     \u001b[1;32mif\u001b[0m \u001b[0mlen\u001b[0m\u001b[1;33m(\u001b[0m\u001b[0msym\u001b[0m\u001b[1;33m)\u001b[0m\u001b[1;33m!=\u001b[0m\u001b[1;36m1\u001b[0m\u001b[1;33m:\u001b[0m\u001b[1;33m\u001b[0m\u001b[1;33m\u001b[0m\u001b[0m\n\u001b[1;32m---> 16\u001b[1;33m         \u001b[1;32mraise\u001b[0m \u001b[0mException\u001b[0m\u001b[1;33m(\u001b[0m\u001b[1;34m'This is the error message, please type symbol with length 1'\u001b[0m\u001b[1;33m)\u001b[0m\u001b[1;33m\u001b[0m\u001b[1;33m\u001b[0m\u001b[0m\n\u001b[0m\u001b[0;32m     17\u001b[0m \u001b[1;33m\u001b[0m\u001b[0m\n\u001b[0;32m     18\u001b[0m     \u001b[0mprint\u001b[0m\u001b[1;33m(\u001b[0m\u001b[0msym\u001b[0m\u001b[1;33m*\u001b[0m\u001b[0mwidth\u001b[0m\u001b[1;33m)\u001b[0m\u001b[1;33m\u001b[0m\u001b[1;33m\u001b[0m\u001b[0m\n",
      "\u001b[1;31mException\u001b[0m: This is the error message, please type symbol with length 1"
     ]
    }
   ],
   "source": [
    "# printing a box\n",
    "\n",
    "\"\"\"\n",
    "************\n",
    "*          *\n",
    "*          *\n",
    "*          *\n",
    "*          *\n",
    "*          *\n",
    "************\n",
    "\"\"\"\n",
    "\n",
    "def box(sym,height,width):\n",
    "    \n",
    "    if len(sym)!=1:\n",
    "        raise Exception('This is the error message, please type symbol with length 1')  \n",
    "    \n",
    "    print(sym*width)\n",
    "    for i in range(height-2):\n",
    "        print(sym,' '*(width-4),sym)\n",
    "    print(sym*width)    \n",
    "\n",
    "box('*',7,10)\n",
    "     \n",
    "# if the symbol length is less then we will loose the functionality of the box\n",
    "\n",
    "box('**',7,10) # hence we need ot raise an exception for this "
   ]
  },
  {
   "cell_type": "code",
   "execution_count": 19,
   "metadata": {},
   "outputs": [],
   "source": [
    "# USAGE OF TRACEBACK TO NOT END THE PROGRAMMING \n",
    "\n",
    "import traceback\n",
    "\n",
    "try :\n",
    "    raise Exception(\"this is error message\")\n",
    "except:\n",
    "    fileobject = open(\"errorlog.txt\",'a')\n",
    "    fileobject.write(\"there is an exception {}\".format(traceback.format_exc()))\n",
    "    #assert not fileobject ,\"this is an error\"\n",
    "    fileobject.close()\n"
   ]
  },
  {
   "cell_type": "code",
   "execution_count": 17,
   "metadata": {},
   "outputs": [
    {
     "ename": "AssertionError",
     "evalue": "this is awesome ",
     "output_type": "error",
     "traceback": [
      "\u001b[1;31m---------------------------------------------------------------------------\u001b[0m",
      "\u001b[1;31mAssertionError\u001b[0m                            Traceback (most recent call last)",
      "\u001b[1;32m<ipython-input-17-bcacec9d355b>\u001b[0m in \u001b[0;36m<module>\u001b[1;34m\u001b[0m\n\u001b[1;32m----> 1\u001b[1;33m \u001b[1;32massert\u001b[0m \u001b[1;32mFalse\u001b[0m \u001b[1;33m,\u001b[0m \u001b[1;34m\"this is awesome \"\u001b[0m\u001b[1;33m\u001b[0m\u001b[1;33m\u001b[0m\u001b[0m\n\u001b[0m",
      "\u001b[1;31mAssertionError\u001b[0m: this is awesome "
     ]
    }
   ],
   "source": [
    "assert False , \"this is awesome \""
   ]
  },
  {
   "cell_type": "markdown",
   "metadata": {},
   "source": [
    "## Logging"
   ]
  },
  {
   "cell_type": "code",
   "execution_count": 22,
   "metadata": {},
   "outputs": [],
   "source": [
    "import logging \n",
    "\n",
    "logging.basicConfig(filename ='log.txt',level = logging.DEBUG ,format = '%(asctime)s - %(levelname)s -%(message)s')"
   ]
  },
  {
   "cell_type": "code",
   "execution_count": 30,
   "metadata": {},
   "outputs": [
    {
     "name": "stdout",
     "output_type": "stream",
     "text": [
      "<function fac at 0x0000021DA693A0D8>\n"
     ]
    }
   ],
   "source": [
    "\n",
    "def factorial(n):\n",
    "    top =1\n",
    "    if n < 1:\n",
    "        return fac\n",
    "    crazy = top * n\n",
    "    return(factorial(n-1))\n",
    "\n",
    "print(fac(4))"
   ]
  },
  {
   "cell_type": "code",
   "execution_count": null,
   "metadata": {},
   "outputs": [],
   "source": []
  }
 ],
 "metadata": {
  "kernelspec": {
   "display_name": "Python 3",
   "language": "python",
   "name": "python3"
  },
  "language_info": {
   "codemirror_mode": {
    "name": "ipython",
    "version": 3
   },
   "file_extension": ".py",
   "mimetype": "text/x-python",
   "name": "python",
   "nbconvert_exporter": "python",
   "pygments_lexer": "ipython3",
   "version": "3.7.6"
  }
 },
 "nbformat": 4,
 "nbformat_minor": 4
}
