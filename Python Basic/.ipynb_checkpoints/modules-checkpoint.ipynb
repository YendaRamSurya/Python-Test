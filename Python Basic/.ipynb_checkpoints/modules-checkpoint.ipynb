{
 "cells": [
  {
   "cell_type": "markdown",
   "metadata": {},
   "source": [
    "### pyperclip to copy text to clip board third party lib  to copy or paste \n",
    "### pprint to print dictionaries beautifully\n",
    "### random usng randint\n",
    "### Sys to exit or system operation or usage of argv\n",
    "### Math to have various math methods and attributes \n",
    "### import copy module to perform deepcopy() function to copy a list without referencing \n"
   ]
  }
 ],
 "metadata": {
  "kernelspec": {
   "display_name": "Python 3",
   "language": "python",
   "name": "python3"
  },
  "language_info": {
   "codemirror_mode": {
    "name": "ipython",
    "version": 3
   },
   "file_extension": ".py",
   "mimetype": "text/x-python",
   "name": "python",
   "nbconvert_exporter": "python",
   "pygments_lexer": "ipython3",
   "version": "3.7.6"
  }
 },
 "nbformat": 4,
 "nbformat_minor": 4
}
