{
 "cells": [
  {
   "cell_type": "markdown",
   "metadata": {},
   "source": [
    "### pyperclip to copy text to clip board third party lib  to copy or paste \n",
    "### pprint to pprint dictionaries beautifully\n",
    "### random usng randint\n",
    "### Sys to exit or system operation or usage of argv\n",
    "### Math to have various math methods and attributes \n",
    "### import copy module to perform deepcopy() function to copy a list without referencing \n",
    "### importing Re module for searching patterns of regular expressions \n",
    "    - Usage of compile()  to define a pattern\n",
    "    - usage of search () to search a pattern \n",
    "    -match object attributes and methods and usage of group () in it \n",
    "    - usage of findall()\n",
    "### importing OS \n",
    " 1) os.path.isabs\n",
    " 2) os.getcwd\n",
    " 3) os.mkdir\n",
    " 4) os.rmdir\n",
    " 5) os.path.join()\n",
    " 6) os.path.relpath()\n",
    " 7) os.chdir\n",
    " 8) os.walk() to go through directory \n",
    " abs path and relative path \n",
    " etc\n",
    " \n",
    " ### importing shelve file method to maintain dictionaries and lists basically data structures \n",
    " \n",
    "  - shelve.open() shelve[]\n",
    "  \n",
    " ### importing shutil module to perform operations such as move copy and delete the files and path \n",
    " "
   ]
  },
  {
   "cell_type": "code",
   "execution_count": 1,
   "metadata": {},
   "outputs": [],
   "source": [
    "# copying and moving \n",
    "\n",
    "# using shutil module \n",
    "\n",
    "# shutil.copy(file,location)\n",
    "# shutil.copytree(folder,location)\n",
    "# shutil.move(source,destination)\n",
    "# shutil.rmtree(source) # to remove a non empty directory\n",
    "\n",
    "# importing send2trash rather than directly deleting it \n",
    "\n",
    "#send2trash.send2trash(source)\n"
   ]
  },
  {
   "cell_type": "markdown",
   "metadata": {},
   "source": [
    "### import traceback to use the function **traceback.format_exc()**  to note down the exception is used to store the message of an Exception function\n",
    "\n",
    "### Import logging to use the Functions of different loglevels \n",
    "\n",
    "``logging.basicConfig(filename ='log.txt',level = logging.DEBUG ,format = '%(asctime)s - %(levelname)s -%(message)s')\n",
    "\n",
    "logging.debug('this is n %s and this fac %s'%(n,fac))\n",
    "logging.disable(logging.CRITICAL) # this disables all log levels other than critical , lower levels are disbled \n",
    "\n",
    "'CRITICAL', # Highest level\n",
    " 'DEBUG', # lowest Level \n",
    " 'ERROR',\n",
    " 'FATAL',\n",
    " 'INFO',\n",
    " 'WARNING'.``\n",
    "\n"
   ]
  },
  {
   "cell_type": "code",
   "execution_count": null,
   "metadata": {},
   "outputs": [],
   "source": []
  }
 ],
 "metadata": {
  "kernelspec": {
   "display_name": "Python 3",
   "language": "python",
   "name": "python3"
  },
  "language_info": {
   "codemirror_mode": {
    "name": "ipython",
    "version": 3
   },
   "file_extension": ".py",
   "mimetype": "text/x-python",
   "name": "python",
   "nbconvert_exporter": "python",
   "pygments_lexer": "ipython3",
   "version": "3.7.6"
  }
 },
 "nbformat": 4,
 "nbformat_minor": 4
}
