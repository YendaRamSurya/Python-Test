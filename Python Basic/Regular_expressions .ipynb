{
 "cells": [
  {
   "cell_type": "code",
   "execution_count": 1,
   "metadata": {
    "execution": {
     "iopub.execute_input": "2021-03-25T05:09:21.676235Z",
     "iopub.status.busy": "2021-03-25T05:09:21.668382Z",
     "iopub.status.idle": "2021-03-25T05:09:21.700679Z",
     "shell.execute_reply": "2021-03-25T05:09:21.699678Z",
     "shell.execute_reply.started": "2021-03-25T05:09:21.676235Z"
    }
   },
   "outputs": [
    {
     "name": "stdout",
     "output_type": "stream",
     "text": [
      "<class 're.Pattern'>\n",
      "['9591329536']\n",
      "['__class__', '__copy__', '__deepcopy__', '__delattr__', '__dir__', '__doc__', '__eq__', '__format__', '__ge__', '__getattribute__', '__getitem__', '__gt__', '__hash__', '__init__', '__init_subclass__', '__le__', '__lt__', '__ne__', '__new__', '__reduce__', '__reduce_ex__', '__repr__', '__setattr__', '__sizeof__', '__str__', '__subclasshook__', 'end', 'endpos', 'expand', 'group', 'groupdict', 'groups', 'lastgroup', 'lastindex', 'pos', 're', 'regs', 'span', 'start', 'string'] \n",
      " **************************************************************************************************** \n",
      "\n",
      "9591329536\n"
     ]
    }
   ],
   "source": [
    "import re\n",
    "\n",
    "\n",
    "message= \"My phone number is equal to 9591329536\"\n",
    "\n",
    "# designing a pattern to find that in a string we compile the pattern\n",
    "reobj = re.compile(r'\\d\\d\\d\\d\\d\\d\\d\\d\\d\\d')\n",
    "\n",
    "print(type(reobj))\n",
    "\n",
    "print(reobj.findall(message))\n",
    "matchobject=re.search(reobj,message)\n",
    "print(dir(matchobject),'\\n','*'*100,'\\n')\n",
    "\n",
    "print(matchobject.group())\n"
   ]
  },
  {
   "cell_type": "code",
   "execution_count": 8,
   "metadata": {
    "execution": {
     "iopub.execute_input": "2021-03-25T05:14:10.806787Z",
     "iopub.status.busy": "2021-03-25T05:14:10.806787Z",
     "iopub.status.idle": "2021-03-25T05:14:10.823831Z",
     "shell.execute_reply": "2021-03-25T05:14:10.822829Z",
     "shell.execute_reply.started": "2021-03-25T05:14:10.806787Z"
    }
   },
   "outputs": [
    {
     "data": {
      "text/plain": [
       "'##########'"
      ]
     },
     "execution_count": 8,
     "metadata": {},
     "output_type": "execute_result"
    }
   ],
   "source": [
    "message= \"My phone number is equal to 9591329536\"\n",
    "message = re.sub('\\D','',message)\n",
    "message = re.sub('\\d','#',message)\n",
    "message"
   ]
  },
  {
   "cell_type": "markdown",
   "metadata": {},
   "source": [
    "grouping the pattern found to do futher operations \n"
   ]
  },
  {
   "cell_type": "code",
   "execution_count": 24,
   "metadata": {},
   "outputs": [
    {
     "name": "stdout",
     "output_type": "stream",
     "text": [
      "<class 're.Pattern'>\n",
      "[('959', '132', '9536')]\n",
      "['__class__', '__copy__', '__deepcopy__', '__delattr__', '__dir__', '__doc__', '__eq__', '__format__', '__ge__', '__getattribute__', '__getitem__', '__gt__', '__hash__', '__init__', '__init_subclass__', '__le__', '__lt__', '__ne__', '__new__', '__reduce__', '__reduce_ex__', '__repr__', '__setattr__', '__sizeof__', '__str__', '__subclasshook__', 'end', 'endpos', 'expand', 'group', 'groupdict', 'groups', 'lastgroup', 'lastindex', 'pos', 're', 'regs', 'span', 'start', 'string'] \n",
      " **************************************************************************************************** \n",
      "\n",
      "132\n"
     ]
    }
   ],
   "source": [
    "import re\n",
    "\n",
    "\n",
    "message= \"My phone number is equal to 9591329536\"\n",
    "\n",
    "reobj = re.compile(r'(\\d\\d\\d)(\\d\\d\\d)(\\d\\d\\d\\d)')\n",
    "\n",
    "print(type(reobj))\n",
    "\n",
    "print(reobj.findall(message))\n",
    "matchobject=re.search(reobj,message)\n",
    "print(dir(matchobject),'\\n','*'*100,'\\n')\n",
    "\n",
    "print(matchobject.group(2))"
   ]
  },
  {
   "cell_type": "markdown",
   "metadata": {},
   "source": [
    "- finding the email in a string"
   ]
  },
  {
   "cell_type": "code",
   "execution_count": 28,
   "metadata": {},
   "outputs": [
    {
     "name": "stdout",
     "output_type": "stream",
     "text": [
      "@gmail.com\n"
     ]
    },
    {
     "data": {
      "text/plain": [
       "'gmail.com'"
      ]
     },
     "execution_count": 28,
     "metadata": {},
     "output_type": "execute_result"
    }
   ],
   "source": [
    "message = \"my email is ramsurya0917@gmail.com\"\n",
    "\n",
    "emailobj = re.compile(\"\\@(gmail.com|yahoo.com|hotmail.com)\") # usage of pipe operator for multiple groups \n",
    "\n",
    "print(emailobj.search(message).group())\n",
    "emailobj.search(message).group(1) # to find from which group it is "
   ]
  },
  {
   "cell_type": "markdown",
   "metadata": {},
   "source": [
    "- repetition in regex pattern in greedy and non greedy matching \n",
    "\n",
    "this is find the number of times a pattern has occured.\n",
    "\n",
    "- ()? match zero or one time \n",
    "\n",
    "- astericks * match zero or moretimes\n",
    "- usage of + to match one or more times \n",
    "- {} find a specific repetition for specific number of times \n",
    "- {a,b} haing minimum and maximum number of repetitions\n",
    "- {a,b}? does nongreedy match\n"
   ]
  },
  {
   "cell_type": "code",
   "execution_count": 32,
   "metadata": {},
   "outputs": [
    {
     "name": "stdout",
     "output_type": "stream",
     "text": [
      "09591329536\n"
     ]
    },
    {
     "data": {
      "text/plain": [
       "'9591329536'"
      ]
     },
     "execution_count": 32,
     "metadata": {},
     "output_type": "execute_result"
    }
   ],
   "source": [
    "# making phone number optionel \n",
    "\n",
    "# ()? this says that a grouped pattern is optional \n",
    "\n",
    "message = \"my number with local code is 09591329536\"\n",
    "\n",
    "phonere = re.compile('(\\d)?\\d\\d\\d\\d\\d\\d\\d\\d\\d\\d')\n",
    "\n",
    "print(phonere.search(message).group())\n",
    "phonere.search(' my number is 9591329536').group()"
   ]
  },
  {
   "cell_type": "code",
   "execution_count": 48,
   "metadata": {},
   "outputs": [
    {
     "name": "stdout",
     "output_type": "stream",
     "text": [
      "['', 'wo', 'wo', 'car', 'car']\n",
      "batman\n",
      "batwoman\n",
      "batcarcarman\n",
      "batcarman\n",
      "batwowowowowoman\n"
     ]
    }
   ],
   "source": [
    "# making use of * astericks symbol\n",
    "\n",
    "message1 = \"batman batwoman batwowowoman batcarman batcarcarman\"\n",
    "\n",
    "batre = re.compile('bat(wo|car)*man')\n",
    "print(batre.findall(message1))\n",
    "\n",
    "print(batre.search(\"batman\").group())\n",
    "print(batre.search(\"batwoman\").group())\n",
    "print(batre.search(\"batcarcarman\").group())\n",
    "print(batre.search(\"batcarman\").group())\n",
    "print(batre.search(\"batwowowowowoman\").group())"
   ]
  },
  {
   "cell_type": "code",
   "execution_count": 51,
   "metadata": {},
   "outputs": [
    {
     "name": "stdout",
     "output_type": "stream",
     "text": [
      "batwowowowowoman\n",
      "None\n"
     ]
    }
   ],
   "source": [
    "batre = re.compile('bat(wo|car)+man')\n",
    "\n",
    "print(batre.search(\"batwowowowowoman\").group())\n",
    "print(batre.search(\"batman\"))"
   ]
  },
  {
   "cell_type": "code",
   "execution_count": 122,
   "metadata": {},
   "outputs": [
    {
     "data": {
      "text/plain": [
       "'bababa'"
      ]
     },
     "execution_count": 122,
     "metadata": {},
     "output_type": "execute_result"
    }
   ],
   "source": [
    "strinre =re.compile('(ba){3}')\n",
    "strinre.search('i am bababa as fuck').group()"
   ]
  },
  {
   "cell_type": "code",
   "execution_count": 126,
   "metadata": {},
   "outputs": [
    {
     "data": {
      "text/plain": [
       "'ba'"
      ]
     },
     "execution_count": 126,
     "metadata": {},
     "output_type": "execute_result"
    }
   ],
   "source": [
    "strinre =re.compile('(ba){3,5}')\n",
    "strinre.search('i am bababa as babababa fuck').group()\n"
   ]
  },
  {
   "cell_type": "code",
   "execution_count": null,
   "metadata": {},
   "outputs": [],
   "source": []
  }
 ],
 "metadata": {
  "kernelspec": {
   "display_name": "Python 3",
   "language": "python",
   "name": "python3"
  },
  "language_info": {
   "codemirror_mode": {
    "name": "ipython",
    "version": 3
   },
   "file_extension": ".py",
   "mimetype": "text/x-python",
   "name": "python",
   "nbconvert_exporter": "python",
   "pygments_lexer": "ipython3",
   "version": "3.7.9"
  }
 },
 "nbformat": 4,
 "nbformat_minor": 4
}
