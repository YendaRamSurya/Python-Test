{
 "cells": [
  {
   "cell_type": "markdown",
   "metadata": {},
   "source": [
    "### Usage of typical break ,Continue flow control \n"
   ]
  },
  {
   "cell_type": "code",
   "execution_count": 1,
   "metadata": {},
   "outputs": [
    {
     "name": "stdout",
     "output_type": "stream",
     "text": [
      "1\n",
      "2\n",
      "i use continue\n",
      "4\n",
      "5\n"
     ]
    }
   ],
   "source": [
    "my_list =[1,2,3,4,5]\n",
    "\n",
    "for i in my_list: \n",
    "\n",
    "    if i ==3:\n",
    "        print(\"i use continue\")\n",
    "        continue\n",
    "    print(i)\n"
   ]
  },
  {
   "cell_type": "markdown",
   "metadata": {},
   "source": [
    "This way i have jumped to the start of comparision "
   ]
  },
  {
   "cell_type": "code",
   "execution_count": 6,
   "metadata": {},
   "outputs": [
    {
     "name": "stdout",
     "output_type": "stream",
     "text": [
      "1\n",
      "2\n",
      "i break from this loop\n"
     ]
    }
   ],
   "source": [
    "for i in my_list:\n",
    "    if i==3:\n",
    "        print(\"i break from this loop\")\n",
    "        break\n",
    "    print(i)"
   ]
  },
  {
   "cell_type": "markdown",
   "metadata": {},
   "source": [
    "### Built in functions \n",
    "\n"
   ]
  },
  {
   "cell_type": "code",
   "execution_count": 10,
   "metadata": {},
   "outputs": [
    {
     "name": "stdout",
     "output_type": "stream",
     "text": [
      "4\n",
      "20\n",
      "18\n",
      "14\n"
     ]
    }
   ],
   "source": [
    "import random \n",
    "\n",
    "print(random.randint(1,20))\n",
    "print(random.randint(1,20))\n",
    "print(random.randint(1,20))\n",
    "print(random.randint(1,20))\n"
   ]
  },
  {
   "cell_type": "code",
   "execution_count": 11,
   "metadata": {},
   "outputs": [],
   "source": [
    "import random , sys ,os,math # importing all in one shot "
   ]
  },
  {
   "cell_type": "code",
   "execution_count": 16,
   "metadata": {},
   "outputs": [
    {
     "data": {
      "text/plain": [
       "2"
      ]
     },
     "execution_count": 16,
     "metadata": {},
     "output_type": "execute_result"
    }
   ],
   "source": [
    "from random import * # which means import evrything of random\n",
    "exit()\n",
    "randint(1,10)"
   ]
  },
  {
   "cell_type": "markdown",
   "metadata": {},
   "source": [
    "- using sys.exit() functin to exit from program to exit it\n",
    "- using pyper.copy and pyper.paste to add and copy things to clipboard\n",
    "---\n",
    "- Deduplicating functions for debugging purposes to keep it simple and short \n",
    "\n",
    "- if function doesnt have a return statement the return variable defaults to none value "
   ]
  },
  {
   "cell_type": "markdown",
   "metadata": {},
   "source": [
    "`**Key Word Arguments and functions that return None**`\n"
   ]
  },
  {
   "cell_type": "code",
   "execution_count": 3,
   "metadata": {},
   "outputs": [
    {
     "name": "stdout",
     "output_type": "stream",
     "text": [
      "Hello\n"
     ]
    },
    {
     "data": {
      "text/plain": [
       "True"
      ]
     },
     "execution_count": 3,
     "metadata": {},
     "output_type": "execute_result"
    }
   ],
   "source": [
    "u = print(\"Hello\")\n",
    "\n",
    "u == None "
   ]
  },
  {
   "cell_type": "code",
   "execution_count": 5,
   "metadata": {},
   "outputs": [
    {
     "name": "stdout",
     "output_type": "stream",
     "text": [
      "hello 5 this is awesome cool\n"
     ]
    }
   ],
   "source": [
    "print(\"hello\", 5, end =\" this is awesome \")\n",
    "print(\"cool\")"
   ]
  },
  {
   "cell_type": "code",
   "execution_count": 7,
   "metadata": {},
   "outputs": [
    {
     "name": "stdout",
     "output_type": "stream",
     "text": [
      "hello*****5 this is awesome cool\n"
     ]
    }
   ],
   "source": [
    "print(\"hello\", 5, end =\" this is awesome \",sep =\"*****\")\n",
    "print(\"cool\")"
   ]
  },
  {
   "cell_type": "markdown",
   "metadata": {},
   "source": [
    "### Global and Local spaces in python "
   ]
  },
  {
   "cell_type": "markdown",
   "metadata": {},
   "source": [
    "- code in global scope cant access the local scope \n",
    "- code in local scope can access the local scope \n",
    "- code in local scope 1 cant access the local scope 2\n",
    "\n",
    "you can declare a glocal variable in local scope by using keyword **global**\n",
    "\n"
   ]
  },
  {
   "cell_type": "code",
   "execution_count": 8,
   "metadata": {
    "collapsed": true,
    "jupyter": {
     "outputs_hidden": true
    }
   },
   "outputs": [
    {
     "ename": "NameError",
     "evalue": "name 'eggs' is not defined",
     "output_type": "error",
     "traceback": [
      "\u001b[1;31m---------------------------------------------------------------------------\u001b[0m",
      "\u001b[1;31mNameError\u001b[0m                                 Traceback (most recent call last)",
      "\u001b[1;32m<ipython-input-8-e4f8e0a31c7f>\u001b[0m in \u001b[0;36m<module>\u001b[1;34m\u001b[0m\n\u001b[0;32m      3\u001b[0m \u001b[1;32mdef\u001b[0m \u001b[0mspam\u001b[0m\u001b[1;33m(\u001b[0m\u001b[1;33m)\u001b[0m\u001b[1;33m:\u001b[0m\u001b[1;33m\u001b[0m\u001b[1;33m\u001b[0m\u001b[0m\n\u001b[0;32m      4\u001b[0m     \u001b[0meggs\u001b[0m \u001b[1;33m=\u001b[0m \u001b[1;36m20\u001b[0m\u001b[1;33m\u001b[0m\u001b[1;33m\u001b[0m\u001b[0m\n\u001b[1;32m----> 5\u001b[1;33m \u001b[0mprint\u001b[0m\u001b[1;33m(\u001b[0m\u001b[0meggs\u001b[0m\u001b[1;33m)\u001b[0m\u001b[1;33m\u001b[0m\u001b[1;33m\u001b[0m\u001b[0m\n\u001b[0m",
      "\u001b[1;31mNameError\u001b[0m: name 'eggs' is not defined"
     ]
    }
   ],
   "source": [
    "# example \n",
    "\n",
    "def spam():\n",
    "    eggs = 20 \n",
    "print(eggs)"
   ]
  },
  {
   "cell_type": "code",
   "execution_count": 9,
   "metadata": {},
   "outputs": [
    {
     "name": "stdout",
     "output_type": "stream",
     "text": [
      "40\n"
     ]
    }
   ],
   "source": [
    "def spam1():\n",
    "    bacon =20 \n",
    "    print(eggs)\n",
    "\n",
    "eggs =40\n",
    "\n",
    "spam1()"
   ]
  },
  {
   "cell_type": "code",
   "execution_count": 10,
   "metadata": {},
   "outputs": [
    {
     "name": "stdout",
     "output_type": "stream",
     "text": [
      "40\n",
      "40\n",
      "40\n"
     ]
    }
   ],
   "source": [
    "def spam3():\n",
    "    bacon =40\n",
    "    print(bacon)\n",
    "    spam1()\n",
    "    print(bacon)\n",
    "\n",
    "spam3()"
   ]
  },
  {
   "cell_type": "code",
   "execution_count": 16,
   "metadata": {},
   "outputs": [
    {
     "name": "stdout",
     "output_type": "stream",
     "text": [
      "awesome\n",
      "awesome\n"
     ]
    }
   ],
   "source": [
    "def hello():\n",
    "    global stan\n",
    "    stan =\"awesome\"\n",
    "    print(stan)\n",
    "hello()\n",
    "print(stan)"
   ]
  },
  {
   "cell_type": "markdown",
   "metadata": {},
   "source": [
    "#### Try and Except "
   ]
  },
  {
   "cell_type": "code",
   "execution_count": 28,
   "metadata": {},
   "outputs": [
    {
     "name": "stdout",
     "output_type": "stream",
     "text": [
      "21.0\n",
      "10.5\n",
      "please dont dovide by zero\n",
      "None\n",
      "8.4\n"
     ]
    }
   ],
   "source": [
    "def divideby(divide):\n",
    "    try:\n",
    "        return 42/divide\n",
    "    except ZeroDivisionError:\n",
    "        print(\"please dont dovide by zero\")\n",
    "print(divideby(2))\n",
    "print(divideby(4))\n",
    "print(divideby(0))\n",
    "print(divideby(5))"
   ]
  },
  {
   "cell_type": "code",
   "execution_count": 36,
   "metadata": {},
   "outputs": [
    {
     "name": "stdout",
     "output_type": "stream",
     "text": [
      "True\n"
     ]
    }
   ],
   "source": [
    "#Simple guess the number program\n",
    "\n",
    "from random import *\n",
    "def guess(var):\n",
    "    value=randint(1,10)\n",
    "    if var == value:\n",
    "        return True\n",
    "    else: \n",
    "        return guess(var)\n",
    "value = 10\n",
    "if value<=10 :\n",
    "    boole =guess(value)\n",
    "    print(boole)\n",
    "else:\n",
    "    print(\"please enter number in range 1 to 10\")\n",
    "    "
   ]
  },
  {
   "cell_type": "markdown",
   "metadata": {},
   "source": [
    "### Lists \n"
   ]
  },
  {
   "cell_type": "code",
   "execution_count": null,
   "metadata": {},
   "outputs": [],
   "source": []
  }
 ],
 "metadata": {
  "kernelspec": {
   "display_name": "Python 3",
   "language": "python",
   "name": "python3"
  },
  "language_info": {
   "codemirror_mode": {
    "name": "ipython",
    "version": 3
   },
   "file_extension": ".py",
   "mimetype": "text/x-python",
   "name": "python",
   "nbconvert_exporter": "python",
   "pygments_lexer": "ipython3",
   "version": "3.7.6"
  }
 },
 "nbformat": 4,
 "nbformat_minor": 4
}
