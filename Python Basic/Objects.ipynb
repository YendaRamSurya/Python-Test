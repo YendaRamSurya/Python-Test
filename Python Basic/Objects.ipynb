{
 "cells": [
  {
   "cell_type": "markdown",
   "metadata": {},
   "source": [
    "## Objects ,class and module \n",
    "\n",
    "**Creating objects in real world to objects in virtual world**\n",
    "\n",
    "- object in viratual will have data and behaviours : i know somethng and i do something \n",
    "  data is variables or attibutes in class \n",
    "\n",
    "- behaviours are functions and methods in class \n",
    "  \n",
    "  > then why do you need a class : a class will design an object or a blueprint \n",
    "     where it creates a empty object special container with all attributes and methods which can be instatnciated\n",
    "     \n",
    "     >  - a class is a design or a blueprint for objects => where we can manufacture thousands of objects\n",
    "     \n",
    "    >- an object is an instance \n",
    "  \n",
    "  ---"
   ]
  },
  {
   "cell_type": "code",
   "execution_count": 10,
   "metadata": {
    "execution": {
     "iopub.execute_input": "2021-02-11T11:50:00.065271Z",
     "iopub.status.busy": "2021-02-11T11:50:00.065271Z",
     "iopub.status.idle": "2021-02-11T11:50:00.085789Z",
     "shell.execute_reply": "2021-02-11T11:50:00.084801Z",
     "shell.execute_reply.started": "2021-02-11T11:50:00.065271Z"
    }
   },
   "outputs": [
    {
     "name": "stdout",
     "output_type": "stream",
     "text": [
      "<class '__main__.computer'>\n",
      "this is my pc details\n",
      "this is my pc details\n"
     ]
    }
   ],
   "source": [
    "class computer:\n",
    "    \n",
    "    \n",
    "    def configutation(self):\n",
    "        print(\"this is my pc details\")\n",
    "\n",
    "        \n",
    "obj = computer() # this is a constructor which constructs or instanciates the empty container\n",
    "\n",
    "print(type(obj) )\n",
    "\n",
    "obj.configutation()\n",
    "\n",
    "computer.configutation(obj) # this is how a class is linked to an object \n",
    "\n"
   ]
  },
  {
   "cell_type": "markdown",
   "metadata": {
    "execution": {
     "iopub.execute_input": "2021-02-11T11:45:48.275322Z",
     "iopub.status.busy": "2021-02-11T11:45:48.275322Z",
     "iopub.status.idle": "2021-02-11T11:45:48.291326Z",
     "shell.execute_reply": "2021-02-11T11:45:48.290325Z",
     "shell.execute_reply.started": "2021-02-11T11:45:48.275322Z"
    }
   },
   "source": [
    "> - Every time when we instanciate obj.function() then object is passed , \n",
    "\n",
    "> - `Telling that i want to apply this method to so and so object`\n",
    "\n",
    "---\n",
    "\n",
    "## \\__INIT\\__ method\n",
    "\n",
    "1) it is a special dunder method where it is called initially when a object is instantiated"
   ]
  },
  {
   "cell_type": "code",
   "execution_count": 13,
   "metadata": {
    "execution": {
     "iopub.execute_input": "2021-02-11T11:55:51.756944Z",
     "iopub.status.busy": "2021-02-11T11:55:51.756944Z",
     "iopub.status.idle": "2021-02-11T11:55:51.761953Z",
     "shell.execute_reply": "2021-02-11T11:55:51.761953Z",
     "shell.execute_reply.started": "2021-02-11T11:55:51.756944Z"
    }
   },
   "outputs": [
    {
     "name": "stdout",
     "output_type": "stream",
     "text": [
      " i got initialised\n"
     ]
    }
   ],
   "source": [
    "com2 = comp()"
   ]
  },
  {
   "cell_type": "code",
   "execution_count": 12,
   "metadata": {
    "execution": {
     "iopub.execute_input": "2021-02-11T11:55:18.444041Z",
     "iopub.status.busy": "2021-02-11T11:55:18.444041Z",
     "iopub.status.idle": "2021-02-11T11:55:18.449042Z",
     "shell.execute_reply": "2021-02-11T11:55:18.448272Z",
     "shell.execute_reply.started": "2021-02-11T11:55:18.444041Z"
    }
   },
   "outputs": [
    {
     "name": "stdout",
     "output_type": "stream",
     "text": [
      " i got initialised\n",
      "16 gb ddr4 ram and 2 tb hard disk\n",
      "None\n",
      "windows 10\n",
      "<class '__main__.comp'>\n",
      "<class 'str'>\n"
     ]
    }
   ],
   "source": [
    "class comp:\n",
    "    def __init__(self):\n",
    "        self.version = 'windows 10'\n",
    "        self.name = 'This is AMD'\n",
    "        print(\" i got initialised\")\n",
    "        \n",
    "    def configuration(self):\n",
    "        print(\"16 gb ddr4 ram and 2 tb hard disk\")\n",
    "\n",
    "x = comp()\n",
    "\n",
    "print(x.configuration())\n",
    "print(x.version)\n",
    "print(type(x))\n",
    "print(type('i am awesome'))\n"
   ]
  },
  {
   "cell_type": "code",
   "execution_count": 14,
   "metadata": {
    "execution": {
     "iopub.execute_input": "2021-02-11T11:58:19.232327Z",
     "iopub.status.busy": "2021-02-11T11:58:19.231323Z",
     "iopub.status.idle": "2021-02-11T11:58:19.244347Z",
     "shell.execute_reply": "2021-02-11T11:58:19.243344Z",
     "shell.execute_reply.started": "2021-02-11T11:58:19.232327Z"
    }
   },
   "outputs": [
    {
     "name": "stdout",
     "output_type": "stream",
     "text": [
      "i got initialised\n",
      "16 gb ddr4 ram and 2 tb hard disk\n",
      "None\n",
      "16 gb ddr4 ram and 2 tb hard disk\n",
      "None\n",
      "windows 10\n",
      "<class '__main__.comp'>\n",
      "<class 'str'>\n"
     ]
    }
   ],
   "source": [
    "class comp:\n",
    "    def __init__(self):\n",
    "        self.version = 'windows 10'\n",
    "        print(\"i got initialised\")\n",
    "    def configuration(self):\n",
    "        print(\"16 gb ddr4 ram and 2 tb hard disk\")\n",
    "\n",
    "x = comp()\n",
    "\n",
    "print(x.configuration())\n",
    "print(x.configuration())\n",
    "print(x.version)\n",
    "print(type(x))\n",
    "print(type('i am awesome'))"
   ]
  },
  {
   "cell_type": "markdown",
   "metadata": {},
   "source": [
    "Everytime i access a class it will be initialised as it is a local scope for our methods to access the data \n",
    "\n",
    "when you want a class to take input from user usally we will store in it \n",
    "\n",
    "`Last but not least every time you access a method or attribute in a class remember that object will always be passed `"
   ]
  },
  {
   "cell_type": "code",
   "execution_count": 15,
   "metadata": {
    "execution": {
     "iopub.execute_input": "2021-02-11T12:00:05.183961Z",
     "iopub.status.busy": "2021-02-11T12:00:05.183961Z",
     "iopub.status.idle": "2021-02-11T12:00:05.191486Z",
     "shell.execute_reply": "2021-02-11T12:00:05.190961Z",
     "shell.execute_reply.started": "2021-02-11T12:00:05.183961Z"
    }
   },
   "outputs": [
    {
     "name": "stdout",
     "output_type": "stream",
     "text": [
      "16 gb ddr4 ram and 2 tb hard disk with cpu Intel\n",
      "None\n",
      "windows 10\n"
     ]
    }
   ],
   "source": [
    "class comp1:\n",
    "    def __init__(self,cpu,ram):\n",
    "        self.cpu = cpu\n",
    "        self.ram = ram\n",
    "        self.version = 'windows 10'\n",
    "    def configuration(self):\n",
    "        print(f\"{self.ram} gb ddr4 ram and 2 tb hard disk with cpu {self.cpu}\")\n",
    "\n",
    "x = comp1('Intel',16)\n",
    "\n",
    "print(x.configuration())\n",
    "print(x.version)"
   ]
  },
  {
   "cell_type": "markdown",
   "metadata": {},
   "source": [
    "## Self and Constructor\n",
    "\n",
    "- we have a memory called Heap memory where every function  will have memory allocated   \n",
    "- self is a pointer and it is referencing to the object."
   ]
  },
  {
   "cell_type": "code",
   "execution_count": 15,
   "metadata": {},
   "outputs": [
    {
     "name": "stdout",
     "output_type": "stream",
     "text": [
      "2515511741256\n",
      "2515511739016\n"
     ]
    }
   ],
   "source": [
    "class computer():\n",
    "    pass\n",
    "\n",
    "c1 =computer()\n",
    "c2 =computer()\n",
    "print(id(c1))\n",
    "print(id(c2))"
   ]
  },
  {
   "cell_type": "markdown",
   "metadata": {},
   "source": [
    "from the above example we know that two objects are created and instantiated to different address \n",
    "\n",
    "***so conturctor runs internally to decide the size of the object***"
   ]
  },
  {
   "cell_type": "code",
   "execution_count": 17,
   "metadata": {},
   "outputs": [
    {
     "name": "stdout",
     "output_type": "stream",
     "text": [
      "Surya\n",
      "radha\n"
     ]
    }
   ],
   "source": [
    "class computer():\n",
    "    def __init__(self):\n",
    "        self.name = \"radha\"\n",
    "        self.age = 30\n",
    "c1 = computer()\n",
    "c2 = computer()\n",
    "c1.name ='Surya'\n",
    "\n",
    "print(c1.name)\n",
    "print(c2.name)"
   ]
  },
  {
   "cell_type": "markdown",
   "metadata": {},
   "source": [
    "Using the above example by utilizing the self variable we are pointing to the object where we want to change \n",
    "\n",
    "hence with this feature you access any object any time "
   ]
  },
  {
   "cell_type": "code",
   "execution_count": 19,
   "metadata": {
    "execution": {
     "iopub.execute_input": "2021-02-11T12:32:26.434771Z",
     "iopub.status.busy": "2021-02-11T12:32:26.434771Z",
     "iopub.status.idle": "2021-02-11T12:32:26.444457Z",
     "shell.execute_reply": "2021-02-11T12:32:26.444457Z",
     "shell.execute_reply.started": "2021-02-11T12:32:26.434771Z"
    }
   },
   "outputs": [
    {
     "name": "stdout",
     "output_type": "stream",
     "text": [
      "1000\n"
     ]
    },
    {
     "data": {
      "text/plain": [
       "True"
      ]
     },
     "execution_count": 19,
     "metadata": {},
     "output_type": "execute_result"
    }
   ],
   "source": [
    "class computer():\n",
    "    def __init__(self):\n",
    "        self.name = \"radha\"\n",
    "        self.age = 30\n",
    "    def compare(self,other):\n",
    "        this = 10 \n",
    "        if self.name == other.name:\n",
    "            print(this *100)\n",
    "            return True\n",
    "        else: \n",
    "            return False\n",
    "\n",
    "c1 = computer()\n",
    "c2 = computer()\n",
    "\n",
    "c2.compare(c1)\n",
    "            "
   ]
  },
  {
   "cell_type": "markdown",
   "metadata": {},
   "source": [
    "## Variable Types \n",
    "\n",
    "- **Instance Variable** /object variables in namespace \n",
    "- **Static Variable** /class variables in namespace \n",
    "\n",
    "Namespace is a place in memory where we store all the variables\n",
    "it can have object variables , class variables etc.\n",
    "\n",
    "Example :"
   ]
  },
  {
   "cell_type": "code",
   "execution_count": 25,
   "metadata": {},
   "outputs": [
    {
     "name": "stdout",
     "output_type": "stream",
     "text": [
      "BMW BMW 4 4\n"
     ]
    }
   ],
   "source": [
    "class car:\n",
    "    wheels = 4 # class variable\n",
    "    def __init__(self):\n",
    "        self.comp = \"BMW\" # instance variable\n",
    "        self.Ecu =\"Adas\"\n",
    "\n",
    "c1 = car()\n",
    "c2 = car()\n",
    "print(c1.comp,c2.comp,c1.wheels ,car.wheels)# methods to access a class variable"
   ]
  },
  {
   "cell_type": "markdown",
   "metadata": {},
   "source": [
    "## Methods and types of methods\n",
    "\n",
    "- instance methods \n",
    "- class methods \n",
    "- static methods\n",
    "\n",
    "Types of instance methods :\n",
    "\n",
    " Fetching the value we use **accessors** \n",
    " \n",
    " modyfying the values are **mutators**\n",
    " "
   ]
  },
  {
   "cell_type": "code",
   "execution_count": 30,
   "metadata": {},
   "outputs": [
    {
     "name": "stdout",
     "output_type": "stream",
     "text": [
      "20.0 36.666666666666664\n",
      "KKR Gowtham\n",
      "KKR Gowtham\n",
      "there are three subjects\n"
     ]
    }
   ],
   "source": [
    "class student:\n",
    "    \n",
    "    school = \"KKR Gowtham\" # class variable \n",
    "    \n",
    "    def __init__(self,m1,m2,m3): # constructor\n",
    "        \n",
    "        self. m1 = m1\n",
    "        self. m2 = m2\n",
    "        self. m3 = m3\n",
    "        \n",
    "    def average(self): # instance method where we use instance variables\n",
    "        return (self.m1 +self.m2+self.m3)/3\n",
    "    \n",
    "    @classmethod # usage of decorators \n",
    "    def info(cls): # class method where we use class variables\n",
    "        print(cls.school)\n",
    "    @staticmethod # static method decorators\n",
    "    def stat(): # stat method where we dont use either class or instance variables\n",
    "        print(\"there are three subjects\")\n",
    "\n",
    "s1 = student (10,20,30)\n",
    "s2 = student (22,33,55)\n",
    "print(s1.average(),s2.average())\n",
    "s1.info()\n",
    "s2.info()\n",
    "s1.stat()"
   ]
  },
  {
   "cell_type": "markdown",
   "metadata": {},
   "source": [
    "## class inside a class or a composition \n",
    "\n",
    " #### declaring an object for inner class inside the parent class\n",
    " #### way of defining a inner class outside the class"
   ]
  },
  {
   "cell_type": "code",
   "execution_count": 28,
   "metadata": {
    "execution": {
     "iopub.execute_input": "2021-02-11T12:59:43.083293Z",
     "iopub.status.busy": "2021-02-11T12:59:43.082291Z",
     "iopub.status.idle": "2021-02-11T12:59:43.090302Z",
     "shell.execute_reply": "2021-02-11T12:59:43.090302Z",
     "shell.execute_reply.started": "2021-02-11T12:59:43.083293Z"
    }
   },
   "outputs": [
    {
     "name": "stdout",
     "output_type": "stream",
     "text": [
      "dell 16 intel ram python\n",
      "male ram python\n",
      "dell 16 intel ram python\n",
      "male ram python\n",
      "dell 16 intel ram c++\n"
     ]
    }
   ],
   "source": [
    "class student:\n",
    "    \n",
    "    school = \"KKR Gowtham\" # class variable \n",
    "    \n",
    "    def __init__(self): # constructor\n",
    "        self.gender = \"male\"\n",
    "        self.name = \"ram\"\n",
    "        self.course = \"python\"\n",
    "        self.lap =self.laptop(self.name,self.course) # creating an object for inner class inside the parent class \n",
    "        \n",
    "    def show(self):\n",
    "        self.lap.show()\n",
    "        return print(self.gender,self.name,self.course)\n",
    "        \n",
    "        \n",
    "    class laptop:\n",
    "        \n",
    "        def __init__(self,name,course):\n",
    "            self.comp = \"dell\"\n",
    "            self.ram = 16\n",
    "            self.type = \"intel\"\n",
    "            self.name = name\n",
    "            self.course = course\n",
    "        def show(self):\n",
    "            return print(self.comp,self.ram,self.type,self.name,self.course )\n",
    "\n",
    "s1 = student()\n",
    "s2 = student()\n",
    "\n",
    "s1.show()\n",
    "s2.show()\n",
    "\n",
    "s3 =student.laptop('ram','c++') # way of defining a inner class outside the class \n",
    "\n",
    "s3.show()\n",
    "\n",
    "# s1.lap.show()"
   ]
  },
  {
   "cell_type": "markdown",
   "metadata": {},
   "source": [
    "## Inheritance \n",
    "\n",
    "where a class gets the methods and attributes of another class \n",
    "\n",
    "like surya is a child of simha \n",
    "\n",
    "- super class / Parent class Mobile 1\n",
    "- Sub class / Child class  Mobile 2\n",
    "\n",
    "usually in big projects we utilise class developed by multiple people to combine features \n",
    "\n",
    "two types of inheritance \n",
    "\n",
    "- single level inheritence  \n",
    "\n",
    "- multi level inheritence \n",
    "\n"
   ]
  },
  {
   "cell_type": "code",
   "execution_count": 40,
   "metadata": {},
   "outputs": [
    {
     "name": "stdout",
     "output_type": "stream",
     "text": [
      "Feature 1 is working\n",
      "Feature 2 is working\n",
      "Feature 3 is working\n",
      "Feature 4 is working\n",
      "Feature 5 is working\n"
     ]
    }
   ],
   "source": [
    "class Mobile1: # super class \n",
    "    \n",
    "    def feature1(self):\n",
    "        print(\"Feature 1 is working\")\n",
    "    def feature2(self):\n",
    "        print(\"Feature 2 is working\")\n",
    "\"\"\"Single Level inheritance\"\"\"\n",
    "\n",
    "\"\"\"*************************************SUB Class *******************************************\"\"\"\n",
    "class Mobile2(Mobile1): # if mobile2 wants features of mobile 1 also we just inherit in this way \n",
    "    \n",
    "    def feature3(self):\n",
    "        print(\"Feature 3 is working\")\n",
    "    def feature4(self):\n",
    "        print(\"Feature 4 is working\")\n",
    "class Mobile3(Mobile2):         # Multilevel inheritance \n",
    "    def feature5(self):\n",
    "        print(\"Feature 5 is working\")\n",
    "\n",
    "M = Mobile3()\n",
    "\n",
    "M.feature1()\n",
    "M.feature2()\n",
    "M.feature3()\n",
    "M.feature4()\n",
    "M.feature5()        "
   ]
  },
  {
   "cell_type": "markdown",
   "metadata": {},
   "source": [
    "##### Other method of multiple inheritance "
   ]
  },
  {
   "cell_type": "code",
   "execution_count": 41,
   "metadata": {},
   "outputs": [
    {
     "name": "stdout",
     "output_type": "stream",
     "text": [
      "Feature 1 is working\n",
      "Feature 2 is working\n",
      "Feature 3 is working\n",
      "Feature 4 is working\n",
      "Feature 5 is working\n"
     ]
    }
   ],
   "source": [
    "class Mobile1:\n",
    "    \n",
    "    def feature1(self):\n",
    "        print(\"Feature 1 is working\")\n",
    "    def feature2(self):\n",
    "        print(\"Feature 2 is working\")\n",
    "\"\"\"Single Level inheritance\"\"\"\n",
    "class Mobile2(): # if mobile2 wants features of mobile 1 also we just inherit in this way \n",
    "    \n",
    "    def feature3(self):\n",
    "        print(\"Feature 3 is working\")\n",
    "    def feature4(self):\n",
    "        print(\"Feature 4 is working\")\n",
    "class Mobile2(Mobile2,Mobile1):         # Multiple inheritance \n",
    "    def feature5(self):\n",
    "        print(\"Feature 5 is working\")\n",
    "\n",
    "M = Mobile3()\n",
    "\n",
    "M.feature1()\n",
    "M.feature2()\n",
    "M.feature3()\n",
    "M.feature4()\n",
    "M.feature5()    "
   ]
  },
  {
   "cell_type": "markdown",
   "metadata": {},
   "source": [
    "### Constructor in Inheritance \n",
    "\n",
    "### Method Contructor and order - MRO \n",
    "\n",
    "#### super class cannot inherit any feature of sub class "
   ]
  },
  {
   "cell_type": "code",
   "execution_count": 44,
   "metadata": {},
   "outputs": [
    {
     "name": "stdout",
     "output_type": "stream",
     "text": [
      "in the init A\n",
      "Feature 1 is working\n",
      "Feature 2 is working\n"
     ]
    }
   ],
   "source": [
    "class Mobile1:\n",
    "    def __init__(self):\n",
    "        print(\"in the init A\")\n",
    "    def feature1(self):\n",
    "        print(\"Feature 1 is working\")\n",
    "    def feature2(self):\n",
    "        print(\"Feature 2 is working\")\n",
    "\"\"\"Single Level inheritance\"\"\"\n",
    "class Mobile2(Mobile1): # if mobile2 wants features of mobile 1 also we just inherit in this way \n",
    "    \n",
    "    def feature3(self):\n",
    "        print(\"Feature 3 is working\")\n",
    "    def feature4(self):\n",
    "        print(\"Feature 4 is working\")\n",
    "        \n",
    "M = Mobile2()\n",
    "\n",
    "M.feature1()\n",
    "M.feature2()\n",
    "        "
   ]
  },
  {
   "cell_type": "markdown",
   "metadata": {},
   "source": [
    "It is accessing the init of super class "
   ]
  },
  {
   "cell_type": "code",
   "execution_count": 45,
   "metadata": {},
   "outputs": [
    {
     "name": "stdout",
     "output_type": "stream",
     "text": [
      "in the init B\n",
      "Feature 1 is working\n",
      "Feature 2 is working\n"
     ]
    }
   ],
   "source": [
    "class Mobile1:\n",
    "    def __init__(self):\n",
    "        print(\"in the init A\")\n",
    "    def feature1(self):\n",
    "        print(\"Feature 1 is working\")\n",
    "    def feature2(self):\n",
    "        print(\"Feature 2 is working\")\n",
    "\"\"\"Single Level inheritance\"\"\"\n",
    "class Mobile2(Mobile1): # if mobile2 wants features of mobile 1 also we just inherit in this way \n",
    "    def __init__(self):\n",
    "        print(\"in the init B\")\n",
    "    def feature3(self):\n",
    "        print(\"Feature 3 is working\")\n",
    "    def feature4(self):\n",
    "        print(\"Feature 4 is working\")\n",
    "        \n",
    "M = Mobile2()\n",
    "\n",
    "M.feature1()\n",
    "M.feature2()\n",
    "        "
   ]
  },
  {
   "cell_type": "markdown",
   "metadata": {},
   "source": [
    "* Here it is not accesing the Super class init as soon as it finds the init of a \n",
    "\n",
    "* hence we need to use super().__init__()"
   ]
  },
  {
   "cell_type": "code",
   "execution_count": 46,
   "metadata": {},
   "outputs": [
    {
     "name": "stdout",
     "output_type": "stream",
     "text": [
      "in the init B\n",
      "in the init A\n",
      "Feature 1 is working\n",
      "Feature 2 is working\n"
     ]
    }
   ],
   "source": [
    "class Mobile1:\n",
    "    def __init__(self):\n",
    "        print(\"in the init A\")\n",
    "    def feature1(self):\n",
    "        print(\"Feature 1 is working\")\n",
    "    def feature2(self):\n",
    "        print(\"Feature 2 is working\")\n",
    "\"\"\"Single Level inheritance\"\"\"\n",
    "class Mobile2(Mobile1): # if mobile2 wants features of mobile 1 also we just inherit in this way \n",
    "    def __init__(self):\n",
    "        print(\"in the init B\")\n",
    "        super().__init__()\n",
    "    def feature3(self):\n",
    "        print(\"Feature 3 is working\")\n",
    "    def feature4(self):\n",
    "        print(\"Feature 4 is working\")\n",
    "        \n",
    "M = Mobile2()\n",
    "\n",
    "M.feature1()\n",
    "M.feature2()"
   ]
  },
  {
   "cell_type": "markdown",
   "metadata": {},
   "source": [
    "- MRO Follows left to right  => method resolution order\n",
    "\n",
    "A   B\n",
    "\n",
    "\\  /\n",
    "\n",
    "  C\n",
    "  \n",
    "Super will access the left side of c "
   ]
  },
  {
   "cell_type": "code",
   "execution_count": 56,
   "metadata": {},
   "outputs": [
    {
     "name": "stdout",
     "output_type": "stream",
     "text": [
      "in the init A\n",
      "in the init c\n",
      "Feature 1 is working\n"
     ]
    }
   ],
   "source": [
    "class Mobile1:\n",
    "    def __init__(self):\n",
    "        print(\"in the init A\")\n",
    "    def feature1(self):\n",
    "        print(\"Feature 1 is working\")\n",
    "    def feature2(self):\n",
    "        print(\"Feature 2 is working\")\n",
    "\"\"\"Single Level inheritance\"\"\"\n",
    "class Mobile2(): # if mobile2 wants features of mobile 1 also we just inherit in this way \n",
    "    def __init__(self):\n",
    "        print(\"in the init B\")\n",
    "        super().__init__()\n",
    "    def feature3(self):\n",
    "        print(\"Feature 3 is working\")\n",
    "    def feature4(self):\n",
    "        print(\"Feature 4 is working\")\n",
    "class Mobile3(Mobile1,Mobile2):\n",
    "    def __init__(self):\n",
    "        super().__init__()\n",
    "        print(\"in the init c\")\n",
    "    def info(self):\n",
    "        super().feature1()\n",
    "M = Mobile3()\n",
    "M.info()"
   ]
  },
  {
   "cell_type": "markdown",
   "metadata": {},
   "source": [
    "### PolyMorphism\n",
    "\n",
    "Poly = Many and morph is = Forms \n",
    "\n",
    "that means one can have many forms \n",
    "\n",
    "- Duck Typing \n",
    "- Operator Overloading\n",
    "- Method Overloading \n",
    "- Method Overiding \n"
   ]
  },
  {
   "cell_type": "markdown",
   "metadata": {},
   "source": [
    "\n"
   ]
  },
  {
   "cell_type": "code",
   "execution_count": null,
   "metadata": {},
   "outputs": [],
   "source": []
  }
 ],
 "metadata": {
  "kernelspec": {
   "display_name": "Python 3",
   "language": "python",
   "name": "python3"
  },
  "language_info": {
   "codemirror_mode": {
    "name": "ipython",
    "version": 3
   },
   "file_extension": ".py",
   "mimetype": "text/x-python",
   "name": "python",
   "nbconvert_exporter": "python",
   "pygments_lexer": "ipython3",
   "version": "3.7.6"
  }
 },
 "nbformat": 4,
 "nbformat_minor": 4
}
