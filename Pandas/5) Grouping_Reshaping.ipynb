{
 "cells": [
  {
   "cell_type": "markdown",
   "metadata": {},
   "source": [
    "## Pandas 'groupby'\n",
    "\n",
    "Any groupby operation involves one of the following operations on the original dataframe/object. They are:\n",
    "<br>\n",
    "1. <b>Splitting</b> the data into groups based on some criteria.<br>\n",
    "<br>\n",
    "2. <b>Applying</b> a function to each group separately.<br>\n",
    "<br>Any pandas data\n",
    "3. <b>Combining</b> the results into a single dataframe.<br>\n",
    "<br>\n",
    "Splitting the data is pretty straight forward. What adds value to this split is the 'Apply' step. This makes 'Groupby' function interesting. In the apply step, you may wish to do one of the following: <br>\n",
    "<br>\n",
    "a. Aggregation − Computing a summary statistic. Example: Compute group sums or means.<br>\n",
    "<br>\n",
    "b. Transformation − performs some group-specific operation. Example: Standardizing data (computing z-score) within the group.<br> \n",
    "<br>\n",
    "c. Filtration − discarding the data with some condition.<br> \n",
    "<br>\n",
    "Let us now create a dataframe object and perform all the operations on it."
   ]
  },
  {
   "cell_type": "code",
   "execution_count": 1,
   "metadata": {
    "execution": {
     "iopub.execute_input": "2021-02-08T12:40:25.536422Z",
     "iopub.status.busy": "2021-02-08T12:40:25.536422Z",
     "iopub.status.idle": "2021-02-08T12:40:25.971130Z",
     "shell.execute_reply": "2021-02-08T12:40:25.971130Z",
     "shell.execute_reply.started": "2021-02-08T12:40:25.536422Z"
    }
   },
   "outputs": [
    {
     "data": {
      "text/html": [
       "<div>\n",
       "<style scoped>\n",
       "    .dataframe tbody tr th:only-of-type {\n",
       "        vertical-align: middle;\n",
       "    }\n",
       "\n",
       "    .dataframe tbody tr th {\n",
       "        vertical-align: top;\n",
       "    }\n",
       "\n",
       "    .dataframe thead th {\n",
       "        text-align: right;\n",
       "    }\n",
       "</style>\n",
       "<table border=\"1\" class=\"dataframe\">\n",
       "  <thead>\n",
       "    <tr style=\"text-align: right;\">\n",
       "      <th></th>\n",
       "      <th>Sector</th>\n",
       "      <th>Company</th>\n",
       "      <th>MarketCap</th>\n",
       "      <th>Share Price</th>\n",
       "      <th>Amount Invested</th>\n",
       "    </tr>\n",
       "  </thead>\n",
       "  <tbody>\n",
       "    <tr>\n",
       "      <th>0</th>\n",
       "      <td>IT</td>\n",
       "      <td>Infosys</td>\n",
       "      <td>Large Cap</td>\n",
       "      <td>1120</td>\n",
       "      <td>24000</td>\n",
       "    </tr>\n",
       "    <tr>\n",
       "      <th>1</th>\n",
       "      <td>FMCG</td>\n",
       "      <td>Dabur</td>\n",
       "      <td>Large Cap</td>\n",
       "      <td>341</td>\n",
       "      <td>16000</td>\n",
       "    </tr>\n",
       "    <tr>\n",
       "      <th>2</th>\n",
       "      <td>Finance</td>\n",
       "      <td>DHFL</td>\n",
       "      <td>Mid Cap</td>\n",
       "      <td>610</td>\n",
       "      <td>50000</td>\n",
       "    </tr>\n",
       "    <tr>\n",
       "      <th>3</th>\n",
       "      <td>Pharma</td>\n",
       "      <td>Divis Lab</td>\n",
       "      <td>Mid Cap</td>\n",
       "      <td>1123</td>\n",
       "      <td>23000</td>\n",
       "    </tr>\n",
       "    <tr>\n",
       "      <th>4</th>\n",
       "      <td>Pharma</td>\n",
       "      <td>Lupin</td>\n",
       "      <td>Mid Cap</td>\n",
       "      <td>741</td>\n",
       "      <td>45000</td>\n",
       "    </tr>\n",
       "    <tr>\n",
       "      <th>5</th>\n",
       "      <td>FMCG</td>\n",
       "      <td>Ruchira Papers</td>\n",
       "      <td>Small Cap</td>\n",
       "      <td>185</td>\n",
       "      <td>12000</td>\n",
       "    </tr>\n",
       "    <tr>\n",
       "      <th>6</th>\n",
       "      <td>FMCG</td>\n",
       "      <td>Britianna</td>\n",
       "      <td>Mid Cap</td>\n",
       "      <td>5351</td>\n",
       "      <td>52000</td>\n",
       "    </tr>\n",
       "    <tr>\n",
       "      <th>7</th>\n",
       "      <td>IT</td>\n",
       "      <td>Persistent Systems</td>\n",
       "      <td>Small Cap</td>\n",
       "      <td>720</td>\n",
       "      <td>18000</td>\n",
       "    </tr>\n",
       "    <tr>\n",
       "      <th>8</th>\n",
       "      <td>Finance</td>\n",
       "      <td>Bajaj Finance</td>\n",
       "      <td>Large Cap</td>\n",
       "      <td>1937</td>\n",
       "      <td>5000</td>\n",
       "    </tr>\n",
       "    <tr>\n",
       "      <th>9</th>\n",
       "      <td>Real Estate</td>\n",
       "      <td>DLF</td>\n",
       "      <td>Mid Cap</td>\n",
       "      <td>217</td>\n",
       "      <td>3500</td>\n",
       "    </tr>\n",
       "  </tbody>\n",
       "</table>\n",
       "</div>"
      ],
      "text/plain": [
       "        Sector             Company  MarketCap  Share Price  Amount Invested\n",
       "0           IT             Infosys  Large Cap         1120            24000\n",
       "1         FMCG               Dabur  Large Cap          341            16000\n",
       "2      Finance                DHFL    Mid Cap          610            50000\n",
       "3       Pharma           Divis Lab    Mid Cap         1123            23000\n",
       "4       Pharma               Lupin    Mid Cap          741            45000\n",
       "5         FMCG      Ruchira Papers  Small Cap          185            12000\n",
       "6         FMCG           Britianna    Mid Cap         5351            52000\n",
       "7           IT  Persistent Systems  Small Cap          720            18000\n",
       "8      Finance       Bajaj Finance  Large Cap         1937             5000\n",
       "9  Real Estate                 DLF    Mid Cap          217             3500"
      ]
     },
     "execution_count": 1,
     "metadata": {},
     "output_type": "execute_result"
    }
   ],
   "source": [
    "import pandas as pd\n",
    "import numpy as np\n",
    "\n",
    "my_portfolio = {'Sector': ['IT', 'FMCG', 'Finance', 'Pharma', 'Pharma',\n",
    "                          'FMCG', 'FMCG', 'IT', 'Finance', 'Real Estate'],\n",
    "            \n",
    "            'Company':   ['Infosys', 'Dabur', 'DHFL', 'Divis Lab', 'Lupin',\n",
    "                         'Ruchira Papers', 'Britianna','Persistent Systems','Bajaj Finance', 'DLF'],\n",
    "            \n",
    "            'MarketCap': ['Large Cap','Large Cap','Mid Cap','Mid Cap','Mid Cap',\n",
    "                         'Small Cap','Mid Cap','Small Cap','Large Cap','Mid Cap'],\n",
    "            \n",
    "            'Share Price': [1120,341,610,1123,741,185,5351,720,1937,217],\n",
    "                \n",
    "            'Amount Invested': [24000,16000,50000,23000,45000,12000,52000,18000,5000,3500]}\n",
    "\n",
    "mp = pd.DataFrame(my_portfolio)\n",
    "\n",
    "mp"
   ]
  },
  {
   "cell_type": "code",
   "execution_count": 7,
   "metadata": {
    "execution": {
     "iopub.execute_input": "2021-02-08T12:42:05.037071Z",
     "iopub.status.busy": "2021-02-08T12:42:05.037071Z",
     "iopub.status.idle": "2021-02-08T12:42:05.056580Z",
     "shell.execute_reply": "2021-02-08T12:42:05.055578Z",
     "shell.execute_reply.started": "2021-02-08T12:42:05.037071Z"
    }
   },
   "outputs": [
    {
     "data": {
      "text/plain": [
       "{'Large Cap': Int64Index([0, 1, 8], dtype='int64'),\n",
       " 'Mid Cap': Int64Index([2, 3, 4, 6, 9], dtype='int64'),\n",
       " 'Small Cap': Int64Index([5, 7], dtype='int64')}"
      ]
     },
     "execution_count": 7,
     "metadata": {},
     "output_type": "execute_result"
    }
   ],
   "source": [
    "mp.groupby('MarketCap').groups"
   ]
  },
  {
   "cell_type": "code",
   "execution_count": 10,
   "metadata": {
    "execution": {
     "iopub.execute_input": "2021-02-08T12:42:38.850083Z",
     "iopub.status.busy": "2021-02-08T12:42:38.849085Z",
     "iopub.status.idle": "2021-02-08T12:42:38.872591Z",
     "shell.execute_reply": "2021-02-08T12:42:38.872591Z",
     "shell.execute_reply.started": "2021-02-08T12:42:38.850083Z"
    }
   },
   "outputs": [
    {
     "data": {
      "text/html": [
       "<div>\n",
       "<style scoped>\n",
       "    .dataframe tbody tr th:only-of-type {\n",
       "        vertical-align: middle;\n",
       "    }\n",
       "\n",
       "    .dataframe tbody tr th {\n",
       "        vertical-align: top;\n",
       "    }\n",
       "\n",
       "    .dataframe thead th {\n",
       "        text-align: right;\n",
       "    }\n",
       "</style>\n",
       "<table border=\"1\" class=\"dataframe\">\n",
       "  <thead>\n",
       "    <tr style=\"text-align: right;\">\n",
       "      <th></th>\n",
       "      <th>Sector</th>\n",
       "      <th>Company</th>\n",
       "      <th>MarketCap</th>\n",
       "      <th>Share Price</th>\n",
       "      <th>Amount Invested</th>\n",
       "    </tr>\n",
       "  </thead>\n",
       "  <tbody>\n",
       "    <tr>\n",
       "      <th>0</th>\n",
       "      <td>IT</td>\n",
       "      <td>Infosys</td>\n",
       "      <td>Large Cap</td>\n",
       "      <td>1120</td>\n",
       "      <td>24000</td>\n",
       "    </tr>\n",
       "    <tr>\n",
       "      <th>1</th>\n",
       "      <td>FMCG</td>\n",
       "      <td>Dabur</td>\n",
       "      <td>Large Cap</td>\n",
       "      <td>341</td>\n",
       "      <td>16000</td>\n",
       "    </tr>\n",
       "    <tr>\n",
       "      <th>8</th>\n",
       "      <td>Finance</td>\n",
       "      <td>Bajaj Finance</td>\n",
       "      <td>Large Cap</td>\n",
       "      <td>1937</td>\n",
       "      <td>5000</td>\n",
       "    </tr>\n",
       "  </tbody>\n",
       "</table>\n",
       "</div>"
      ],
      "text/plain": [
       "    Sector        Company  MarketCap  Share Price  Amount Invested\n",
       "0       IT        Infosys  Large Cap         1120            24000\n",
       "1     FMCG          Dabur  Large Cap          341            16000\n",
       "8  Finance  Bajaj Finance  Large Cap         1937             5000"
      ]
     },
     "execution_count": 10,
     "metadata": {},
     "output_type": "execute_result"
    }
   ],
   "source": [
    "mp.groupby('MarketCap').get_group('Large Cap')"
   ]
  },
  {
   "cell_type": "markdown",
   "metadata": {},
   "source": [
    "There are 3 Groups formed, if we group it by 'Market Cap'. They are:\n",
    "\n",
    "- Group 1: 'Large Cap' (3 companies at index 0,1,8)\n",
    "\n",
    "- Group 2: 'Mid Cap' (5 companies at index 2,3,4,6,9)\n",
    "\n",
    "- Group 3: 'Small Cap' (2 companies at index 5,7)\n",
    "\n"
   ]
  },
  {
   "cell_type": "code",
   "execution_count": 6,
   "metadata": {},
   "outputs": [
    {
     "data": {
      "text/plain": [
       "{'FMCG': Int64Index([1, 5, 6], dtype='int64'),\n",
       " 'Finance': Int64Index([2, 8], dtype='int64'),\n",
       " 'IT': Int64Index([0, 7], dtype='int64'),\n",
       " 'Pharma': Int64Index([3, 4], dtype='int64'),\n",
       " 'Real Estate': Int64Index([9], dtype='int64')}"
      ]
     },
     "execution_count": 6,
     "metadata": {},
     "output_type": "execute_result"
    }
   ],
   "source": [
    "mp.groupby('Sector').groups"
   ]
  },
  {
   "cell_type": "markdown",
   "metadata": {},
   "source": [
    "There are 5 Groups formed, if we group it by <b>'Sector'</b>. They are:<br>\n",
    "<br>\n",
    "Group 1: 'FMCG' (3 companies at index 1,5,6)<br>\n",
    "Group 2: 'IT' (2 companies at index 0,7)<br>\n",
    "Group 3: 'Pharma' (2 companies at index 3,4)<br>\n",
    "Group 4: 'Finance' (2 companies at index 2,8)<br>\n",
    "Group 5: 'Real Estate' (1 company at index 9)<br>"
   ]
  },
  {
   "cell_type": "code",
   "execution_count": 9,
   "metadata": {},
   "outputs": [
    {
     "data": {
      "text/plain": [
       "{('Large Cap', 'FMCG'): Int64Index([1], dtype='int64'),\n",
       " ('Large Cap', 'Finance'): Int64Index([8], dtype='int64'),\n",
       " ('Large Cap', 'IT'): Int64Index([0], dtype='int64'),\n",
       " ('Mid Cap', 'FMCG'): Int64Index([6], dtype='int64'),\n",
       " ('Mid Cap', 'Finance'): Int64Index([2], dtype='int64'),\n",
       " ('Mid Cap', 'Pharma'): Int64Index([3, 4], dtype='int64'),\n",
       " ('Mid Cap', 'Real Estate'): Int64Index([9], dtype='int64'),\n",
       " ('Small Cap', 'FMCG'): Int64Index([5], dtype='int64'),\n",
       " ('Small Cap', 'IT'): Int64Index([7], dtype='int64')}"
      ]
     },
     "execution_count": 9,
     "metadata": {},
     "output_type": "execute_result"
    }
   ],
   "source": [
    "mp.groupby(['MarketCap','Sector']).groups"
   ]
  },
  {
   "cell_type": "markdown",
   "metadata": {},
   "source": [
    "There are 8 Groups formed, if we group it by <b>'Sector'</b> and <b>'MarketCap'</b>. They are:<br>\n",
    "<br>\n",
    "Group 1: 'Large Cap, FMCG' (1 company at index 1)<br>\n",
    "Group 2: 'Mid Cap, FMCG' (1 company at index 6)<br>\n",
    "Group 3: 'Large Cap, IT' (1 company at index 0)<br>\n",
    "Group 4: 'Small Cap, FMCG' (1 company at index 5)<br>\n",
    "Group 5: 'Mid Cap, Real Estate' (1 company at index 9)<br>\n",
    "Group 6: 'Small Cap, IT' (1 company at index 7)<br>\n",
    "Group 7: 'Mid Cap, Pharma' (2 companies at index 3,4)<br>\n",
    "Group 8: 'Mid Cap, Finance' (1 company at index 2)<br>"
   ]
  },
  {
   "cell_type": "markdown",
   "metadata": {},
   "source": [
    "### Iterating through groups"
   ]
  },
  {
   "cell_type": "code",
   "execution_count": 11,
   "metadata": {
    "execution": {
     "iopub.execute_input": "2021-02-08T12:43:59.600449Z",
     "iopub.status.busy": "2021-02-08T12:43:59.600449Z",
     "iopub.status.idle": "2021-02-08T12:43:59.618452Z",
     "shell.execute_reply": "2021-02-08T12:43:59.617448Z",
     "shell.execute_reply.started": "2021-02-08T12:43:59.600449Z"
    }
   },
   "outputs": [
    {
     "data": {
      "text/html": [
       "<div>\n",
       "<style scoped>\n",
       "    .dataframe tbody tr th:only-of-type {\n",
       "        vertical-align: middle;\n",
       "    }\n",
       "\n",
       "    .dataframe tbody tr th {\n",
       "        vertical-align: top;\n",
       "    }\n",
       "\n",
       "    .dataframe thead th {\n",
       "        text-align: right;\n",
       "    }\n",
       "</style>\n",
       "<table border=\"1\" class=\"dataframe\">\n",
       "  <thead>\n",
       "    <tr style=\"text-align: right;\">\n",
       "      <th></th>\n",
       "      <th>Sector</th>\n",
       "      <th>Company</th>\n",
       "      <th>MarketCap</th>\n",
       "      <th>Share Price</th>\n",
       "      <th>Amount Invested</th>\n",
       "    </tr>\n",
       "  </thead>\n",
       "  <tbody>\n",
       "    <tr>\n",
       "      <th>0</th>\n",
       "      <td>IT</td>\n",
       "      <td>Infosys</td>\n",
       "      <td>Large Cap</td>\n",
       "      <td>1120</td>\n",
       "      <td>24000</td>\n",
       "    </tr>\n",
       "    <tr>\n",
       "      <th>1</th>\n",
       "      <td>FMCG</td>\n",
       "      <td>Dabur</td>\n",
       "      <td>Large Cap</td>\n",
       "      <td>341</td>\n",
       "      <td>16000</td>\n",
       "    </tr>\n",
       "    <tr>\n",
       "      <th>2</th>\n",
       "      <td>Finance</td>\n",
       "      <td>DHFL</td>\n",
       "      <td>Mid Cap</td>\n",
       "      <td>610</td>\n",
       "      <td>50000</td>\n",
       "    </tr>\n",
       "    <tr>\n",
       "      <th>3</th>\n",
       "      <td>Pharma</td>\n",
       "      <td>Divis Lab</td>\n",
       "      <td>Mid Cap</td>\n",
       "      <td>1123</td>\n",
       "      <td>23000</td>\n",
       "    </tr>\n",
       "    <tr>\n",
       "      <th>4</th>\n",
       "      <td>Pharma</td>\n",
       "      <td>Lupin</td>\n",
       "      <td>Mid Cap</td>\n",
       "      <td>741</td>\n",
       "      <td>45000</td>\n",
       "    </tr>\n",
       "  </tbody>\n",
       "</table>\n",
       "</div>"
      ],
      "text/plain": [
       "    Sector    Company  MarketCap  Share Price  Amount Invested\n",
       "0       IT    Infosys  Large Cap         1120            24000\n",
       "1     FMCG      Dabur  Large Cap          341            16000\n",
       "2  Finance       DHFL    Mid Cap          610            50000\n",
       "3   Pharma  Divis Lab    Mid Cap         1123            23000\n",
       "4   Pharma      Lupin    Mid Cap          741            45000"
      ]
     },
     "execution_count": 11,
     "metadata": {},
     "output_type": "execute_result"
    }
   ],
   "source": [
    "mp.head()"
   ]
  },
  {
   "cell_type": "code",
   "execution_count": 12,
   "metadata": {
    "execution": {
     "iopub.execute_input": "2021-02-08T12:44:00.237295Z",
     "iopub.status.busy": "2021-02-08T12:44:00.237295Z",
     "iopub.status.idle": "2021-02-08T12:44:00.264809Z",
     "shell.execute_reply": "2021-02-08T12:44:00.263807Z",
     "shell.execute_reply.started": "2021-02-08T12:44:00.237295Z"
    }
   },
   "outputs": [
    {
     "name": "stdout",
     "output_type": "stream",
     "text": [
      "FMCG\n",
      "  Sector         Company  MarketCap  Share Price  Amount Invested\n",
      "1   FMCG           Dabur  Large Cap          341            16000\n",
      "5   FMCG  Ruchira Papers  Small Cap          185            12000\n",
      "6   FMCG       Britianna    Mid Cap         5351            52000\n",
      "Finance\n",
      "    Sector        Company  MarketCap  Share Price  Amount Invested\n",
      "2  Finance           DHFL    Mid Cap          610            50000\n",
      "8  Finance  Bajaj Finance  Large Cap         1937             5000\n",
      "IT\n",
      "  Sector             Company  MarketCap  Share Price  Amount Invested\n",
      "0     IT             Infosys  Large Cap         1120            24000\n",
      "7     IT  Persistent Systems  Small Cap          720            18000\n",
      "Pharma\n",
      "   Sector    Company MarketCap  Share Price  Amount Invested\n",
      "3  Pharma  Divis Lab   Mid Cap         1123            23000\n",
      "4  Pharma      Lupin   Mid Cap          741            45000\n",
      "Real Estate\n",
      "        Sector Company MarketCap  Share Price  Amount Invested\n",
      "9  Real Estate     DLF   Mid Cap          217             3500\n"
     ]
    }
   ],
   "source": [
    "grouped = mp.groupby('Sector')\n",
    "\n",
    "for name ,group in grouped:\n",
    "    print(name)\n",
    "    print(group)"
   ]
  },
  {
   "cell_type": "code",
   "execution_count": 13,
   "metadata": {
    "execution": {
     "iopub.execute_input": "2021-02-08T12:44:01.401045Z",
     "iopub.status.busy": "2021-02-08T12:44:01.401045Z",
     "iopub.status.idle": "2021-02-08T12:44:01.427049Z",
     "shell.execute_reply": "2021-02-08T12:44:01.427049Z",
     "shell.execute_reply.started": "2021-02-08T12:44:01.401045Z"
    }
   },
   "outputs": [
    {
     "name": "stdout",
     "output_type": "stream",
     "text": [
      "('Large Cap', 'FMCG')\n",
      "  Sector Company  MarketCap  Share Price  Amount Invested\n",
      "1   FMCG   Dabur  Large Cap          341            16000\n",
      "('Large Cap', 'Finance')\n",
      "    Sector        Company  MarketCap  Share Price  Amount Invested\n",
      "8  Finance  Bajaj Finance  Large Cap         1937             5000\n",
      "('Large Cap', 'IT')\n",
      "  Sector  Company  MarketCap  Share Price  Amount Invested\n",
      "0     IT  Infosys  Large Cap         1120            24000\n",
      "('Mid Cap', 'FMCG')\n",
      "  Sector    Company MarketCap  Share Price  Amount Invested\n",
      "6   FMCG  Britianna   Mid Cap         5351            52000\n",
      "('Mid Cap', 'Finance')\n",
      "    Sector Company MarketCap  Share Price  Amount Invested\n",
      "2  Finance    DHFL   Mid Cap          610            50000\n",
      "('Mid Cap', 'Pharma')\n",
      "   Sector    Company MarketCap  Share Price  Amount Invested\n",
      "3  Pharma  Divis Lab   Mid Cap         1123            23000\n",
      "4  Pharma      Lupin   Mid Cap          741            45000\n",
      "('Mid Cap', 'Real Estate')\n",
      "        Sector Company MarketCap  Share Price  Amount Invested\n",
      "9  Real Estate     DLF   Mid Cap          217             3500\n",
      "('Small Cap', 'FMCG')\n",
      "  Sector         Company  MarketCap  Share Price  Amount Invested\n",
      "5   FMCG  Ruchira Papers  Small Cap          185            12000\n",
      "('Small Cap', 'IT')\n",
      "  Sector             Company  MarketCap  Share Price  Amount Invested\n",
      "7     IT  Persistent Systems  Small Cap          720            18000\n"
     ]
    }
   ],
   "source": [
    "grouped = mp.groupby(['MarketCap','Sector'])\n",
    "\n",
    "for name,group in grouped:\n",
    "    print(name)\n",
    "    print(group)"
   ]
  },
  {
   "cell_type": "code",
   "execution_count": 14,
   "metadata": {
    "execution": {
     "iopub.execute_input": "2021-02-08T12:44:02.357388Z",
     "iopub.status.busy": "2021-02-08T12:44:02.357388Z",
     "iopub.status.idle": "2021-02-08T12:44:02.381387Z",
     "shell.execute_reply": "2021-02-08T12:44:02.381387Z",
     "shell.execute_reply.started": "2021-02-08T12:44:02.357388Z"
    }
   },
   "outputs": [
    {
     "data": {
      "text/html": [
       "<div>\n",
       "<style scoped>\n",
       "    .dataframe tbody tr th:only-of-type {\n",
       "        vertical-align: middle;\n",
       "    }\n",
       "\n",
       "    .dataframe tbody tr th {\n",
       "        vertical-align: top;\n",
       "    }\n",
       "\n",
       "    .dataframe thead th {\n",
       "        text-align: right;\n",
       "    }\n",
       "</style>\n",
       "<table border=\"1\" class=\"dataframe\">\n",
       "  <thead>\n",
       "    <tr style=\"text-align: right;\">\n",
       "      <th></th>\n",
       "      <th>Sector</th>\n",
       "      <th>Company</th>\n",
       "      <th>MarketCap</th>\n",
       "      <th>Share Price</th>\n",
       "      <th>Amount Invested</th>\n",
       "    </tr>\n",
       "  </thead>\n",
       "  <tbody>\n",
       "    <tr>\n",
       "      <th>2</th>\n",
       "      <td>Finance</td>\n",
       "      <td>DHFL</td>\n",
       "      <td>Mid Cap</td>\n",
       "      <td>610</td>\n",
       "      <td>50000</td>\n",
       "    </tr>\n",
       "    <tr>\n",
       "      <th>3</th>\n",
       "      <td>Pharma</td>\n",
       "      <td>Divis Lab</td>\n",
       "      <td>Mid Cap</td>\n",
       "      <td>1123</td>\n",
       "      <td>23000</td>\n",
       "    </tr>\n",
       "    <tr>\n",
       "      <th>4</th>\n",
       "      <td>Pharma</td>\n",
       "      <td>Lupin</td>\n",
       "      <td>Mid Cap</td>\n",
       "      <td>741</td>\n",
       "      <td>45000</td>\n",
       "    </tr>\n",
       "    <tr>\n",
       "      <th>6</th>\n",
       "      <td>FMCG</td>\n",
       "      <td>Britianna</td>\n",
       "      <td>Mid Cap</td>\n",
       "      <td>5351</td>\n",
       "      <td>52000</td>\n",
       "    </tr>\n",
       "    <tr>\n",
       "      <th>9</th>\n",
       "      <td>Real Estate</td>\n",
       "      <td>DLF</td>\n",
       "      <td>Mid Cap</td>\n",
       "      <td>217</td>\n",
       "      <td>3500</td>\n",
       "    </tr>\n",
       "  </tbody>\n",
       "</table>\n",
       "</div>"
      ],
      "text/plain": [
       "        Sector    Company MarketCap  Share Price  Amount Invested\n",
       "2      Finance       DHFL   Mid Cap          610            50000\n",
       "3       Pharma  Divis Lab   Mid Cap         1123            23000\n",
       "4       Pharma      Lupin   Mid Cap          741            45000\n",
       "6         FMCG  Britianna   Mid Cap         5351            52000\n",
       "9  Real Estate        DLF   Mid Cap          217             3500"
      ]
     },
     "execution_count": 14,
     "metadata": {},
     "output_type": "execute_result"
    }
   ],
   "source": [
    "grouped = mp.groupby('MarketCap')\n",
    "grouped.get_group('Mid Cap')"
   ]
  },
  {
   "cell_type": "markdown",
   "metadata": {},
   "source": [
    "## Aggregations"
   ]
  },
  {
   "cell_type": "code",
   "execution_count": 15,
   "metadata": {
    "execution": {
     "iopub.execute_input": "2021-02-08T12:44:37.600614Z",
     "iopub.status.busy": "2021-02-08T12:44:37.600614Z",
     "iopub.status.idle": "2021-02-08T12:44:37.618617Z",
     "shell.execute_reply": "2021-02-08T12:44:37.617618Z",
     "shell.execute_reply.started": "2021-02-08T12:44:37.600614Z"
    }
   },
   "outputs": [
    {
     "name": "stdout",
     "output_type": "stream",
     "text": [
      "MarketCap\n",
      "Large Cap    15000\n",
      "Mid Cap      34700\n",
      "Small Cap    15000\n",
      "Name: Amount Invested, dtype: int64\n"
     ]
    }
   ],
   "source": [
    "grouped = mp.groupby('MarketCap')\n",
    "\n",
    "print (grouped['Amount Invested'].agg(np.mean))"
   ]
  },
  {
   "cell_type": "markdown",
   "metadata": {},
   "source": [
    "What does this mean?<br>\n",
    "<br>\n",
    "This means that on an average, we have invested INR 15000 per script in Large Cap, INR 34700 per script in Mid Cap and INR 15000 per script in Small Cap"
   ]
  },
  {
   "cell_type": "code",
   "execution_count": 37,
   "metadata": {},
   "outputs": [
    {
     "name": "stdout",
     "output_type": "stream",
     "text": [
      "           Sector  Company  Share Price  Amount Invested\n",
      "MarketCap                                               \n",
      "Large Cap       3        3            3                3\n",
      "Mid Cap         5        5            5                5\n",
      "Small Cap       2        2            2                2\n"
     ]
    }
   ],
   "source": [
    "print(grouped.agg(np.size))"
   ]
  },
  {
   "cell_type": "code",
   "execution_count": 40,
   "metadata": {},
   "outputs": [
    {
     "name": "stdout",
     "output_type": "stream",
     "text": [
      "           Share Price              Amount Invested              \n",
      "                  mean          std            mean           std\n",
      "MarketCap                                                        \n",
      "Large Cap  1132.666667   798.075393           15000   9539.392014\n",
      "Mid Cap    1608.400000  2117.064430           34700  20915.305401\n",
      "Small Cap   452.500000   378.302128           15000   4242.640687\n"
     ]
    }
   ],
   "source": [
    "print(grouped.agg([np.mean,np.std]))"
   ]
  },
  {
   "cell_type": "code",
   "execution_count": 42,
   "metadata": {},
   "outputs": [
    {
     "name": "stdout",
     "output_type": "stream",
     "text": [
      "            mean           std     sum\n",
      "MarketCap                             \n",
      "Large Cap  15000   9539.392014   45000\n",
      "Mid Cap    34700  20915.305401  173500\n",
      "Small Cap  15000   4242.640687   30000\n"
     ]
    }
   ],
   "source": [
    "print(grouped['Amount Invested'].agg([np.mean,np.std,np.sum]))"
   ]
  },
  {
   "cell_type": "markdown",
   "metadata": {},
   "source": [
    "### Transformations"
   ]
  },
  {
   "cell_type": "code",
   "execution_count": 18,
   "metadata": {
    "execution": {
     "iopub.execute_input": "2021-02-08T12:49:53.010768Z",
     "iopub.status.busy": "2021-02-08T12:49:53.009783Z",
     "iopub.status.idle": "2021-02-08T12:49:53.031771Z",
     "shell.execute_reply": "2021-02-08T12:49:53.031771Z",
     "shell.execute_reply.started": "2021-02-08T12:49:53.010768Z"
    }
   },
   "outputs": [
    {
     "name": "stdout",
     "output_type": "stream",
     "text": [
      "        Sector             Company  MarketCap  Share Price  Amount Invested\n",
      "0           IT             Infosys  Large Cap         1120            24000\n",
      "1         FMCG               Dabur  Large Cap          341            16000\n",
      "2      Finance                DHFL    Mid Cap          610            50000\n",
      "3       Pharma           Divis Lab    Mid Cap         1123            23000\n",
      "4       Pharma               Lupin    Mid Cap          741            45000\n",
      "5         FMCG      Ruchira Papers  Small Cap          185            12000\n",
      "6         FMCG           Britianna    Mid Cap         5351            52000\n",
      "7           IT  Persistent Systems  Small Cap          720            18000\n",
      "8      Finance       Bajaj Finance  Large Cap         1937             5000\n",
      "9  Real Estate                 DLF    Mid Cap          217             3500\n",
      "****************************************************************************************************\n",
      "   Share Price  Amount Invested\n",
      "0    -0.015872         0.943456\n",
      "1    -0.991970         0.104828\n",
      "2    -0.471596         0.731522\n",
      "3    -0.229280        -0.559399\n",
      "4    -0.409718         0.492462\n",
      "5    -0.707107        -0.707107\n",
      "6     1.767825         0.827145\n",
      "7     0.707107         0.707107\n",
      "8     1.007841        -1.048285\n",
      "9    -0.657231        -1.491731\n",
      "   Sector  Company  Share Price  Amount Invested\n",
      "0       3        3            3                3\n",
      "1       3        3            3                3\n",
      "2       5        5            5                5\n",
      "3       5        5            5                5\n",
      "4       5        5            5                5\n",
      "5       2        2            2                2\n",
      "6       5        5            5                5\n",
      "7       2        2            2                2\n",
      "8       3        3            3                3\n",
      "9       5        5            5                5\n"
     ]
    }
   ],
   "source": [
    "mp = pd.DataFrame(my_portfolio)\n",
    "\n",
    "print (mp)\n",
    "\n",
    "grouped = mp.groupby('MarketCap')\n",
    "\n",
    "z_score = lambda x: (x - x.mean()) / x.std()\n",
    "print('*'*100)\n",
    "print (grouped.transform(z_score))\n",
    "print(grouped.transform(lambda x : len(x)))"
   ]
  },
  {
   "cell_type": "code",
   "execution_count": 19,
   "metadata": {
    "execution": {
     "iopub.execute_input": "2021-02-08T12:50:27.607558Z",
     "iopub.status.busy": "2021-02-08T12:50:27.607558Z",
     "iopub.status.idle": "2021-02-08T12:50:27.623662Z",
     "shell.execute_reply": "2021-02-08T12:50:27.623662Z",
     "shell.execute_reply.started": "2021-02-08T12:50:27.607558Z"
    }
   },
   "outputs": [
    {
     "name": "stdout",
     "output_type": "stream",
     "text": [
      "        Sector        Company  MarketCap  Share Price  Amount Invested\n",
      "0           IT        Infosys  Large Cap         1120            24000\n",
      "1         FMCG          Dabur  Large Cap          341            16000\n",
      "2      Finance           DHFL    Mid Cap          610            50000\n",
      "3       Pharma      Divis Lab    Mid Cap         1123            23000\n",
      "4       Pharma          Lupin    Mid Cap          741            45000\n",
      "6         FMCG      Britianna    Mid Cap         5351            52000\n",
      "8      Finance  Bajaj Finance  Large Cap         1937             5000\n",
      "9  Real Estate            DLF    Mid Cap          217             3500\n"
     ]
    }
   ],
   "source": [
    "print (mp.groupby('MarketCap').filter(lambda x: len(x)>= 3))"
   ]
  },
  {
   "cell_type": "markdown",
   "metadata": {},
   "source": [
    "What does this mean?<br>\n",
    "<br>\n",
    "It will filter out the groups that have less than 3 companies in that particular group. "
   ]
  },
  {
   "cell_type": "markdown",
   "metadata": {},
   "source": [
    "### Merging/Joining "
   ]
  },
  {
   "cell_type": "code",
   "execution_count": 22,
   "metadata": {
    "execution": {
     "iopub.execute_input": "2021-02-08T13:10:28.997639Z",
     "iopub.status.busy": "2021-02-08T13:10:28.997639Z",
     "iopub.status.idle": "2021-02-08T13:10:29.017148Z",
     "shell.execute_reply": "2021-02-08T13:10:29.016151Z",
     "shell.execute_reply.started": "2021-02-08T13:10:28.997639Z"
    }
   },
   "outputs": [
    {
     "name": "stdout",
     "output_type": "stream",
     "text": [
      "   id       Company                Sector\n",
      "0   1       Infosys                    IT\n",
      "1   2           SBI                 Banks\n",
      "2   3  Asian Paints  Paints and Varnishes\n",
      "3   4        Maruti                  Auto\n",
      "4   5    Sun Pharma                Pharma\n"
     ]
    }
   ],
   "source": [
    "left_df = pd.DataFrame({\n",
    "         'id':[1,2,3,4,5],\n",
    "         'Company': ['Infosys', 'SBI', 'Asian Paints', 'Maruti', 'Sun Pharma'],\n",
    "         'Sector':['IT','Banks','Paints and Varnishes','Auto','Pharma']})\n",
    "\n",
    "right_df = pd.DataFrame(\n",
    "         {'id':[1,2,3,4,5],\n",
    "         'Company': ['NTPC', 'TCS', 'Lupin', 'ICICI', 'M&M'],\n",
    "         'Sector':['Power','IT','Pharma','Banks','Auto']})\n",
    "\n",
    "print(left_df)"
   ]
  },
  {
   "cell_type": "code",
   "execution_count": 23,
   "metadata": {
    "execution": {
     "iopub.execute_input": "2021-02-08T13:10:29.460166Z",
     "iopub.status.busy": "2021-02-08T13:10:29.460166Z",
     "iopub.status.idle": "2021-02-08T13:10:29.469685Z",
     "shell.execute_reply": "2021-02-08T13:10:29.469685Z",
     "shell.execute_reply.started": "2021-02-08T13:10:29.460166Z"
    }
   },
   "outputs": [
    {
     "name": "stdout",
     "output_type": "stream",
     "text": [
      "   id Company  Sector\n",
      "0   1    NTPC   Power\n",
      "1   2     TCS      IT\n",
      "2   3   Lupin  Pharma\n",
      "3   4   ICICI   Banks\n",
      "4   5     M&M    Auto\n"
     ]
    }
   ],
   "source": [
    "print(right_df)"
   ]
  },
  {
   "cell_type": "code",
   "execution_count": 24,
   "metadata": {
    "execution": {
     "iopub.execute_input": "2021-02-08T13:10:29.649673Z",
     "iopub.status.busy": "2021-02-08T13:10:29.648667Z",
     "iopub.status.idle": "2021-02-08T13:10:29.673673Z",
     "shell.execute_reply": "2021-02-08T13:10:29.672671Z",
     "shell.execute_reply.started": "2021-02-08T13:10:29.649673Z"
    }
   },
   "outputs": [
    {
     "data": {
      "text/html": [
       "<div>\n",
       "<style scoped>\n",
       "    .dataframe tbody tr th:only-of-type {\n",
       "        vertical-align: middle;\n",
       "    }\n",
       "\n",
       "    .dataframe tbody tr th {\n",
       "        vertical-align: top;\n",
       "    }\n",
       "\n",
       "    .dataframe thead th {\n",
       "        text-align: right;\n",
       "    }\n",
       "</style>\n",
       "<table border=\"1\" class=\"dataframe\">\n",
       "  <thead>\n",
       "    <tr style=\"text-align: right;\">\n",
       "      <th></th>\n",
       "      <th>id</th>\n",
       "      <th>Company_x</th>\n",
       "      <th>Sector_x</th>\n",
       "      <th>Company_y</th>\n",
       "      <th>Sector_y</th>\n",
       "    </tr>\n",
       "  </thead>\n",
       "  <tbody>\n",
       "    <tr>\n",
       "      <th>0</th>\n",
       "      <td>1</td>\n",
       "      <td>Infosys</td>\n",
       "      <td>IT</td>\n",
       "      <td>NTPC</td>\n",
       "      <td>Power</td>\n",
       "    </tr>\n",
       "    <tr>\n",
       "      <th>1</th>\n",
       "      <td>2</td>\n",
       "      <td>SBI</td>\n",
       "      <td>Banks</td>\n",
       "      <td>TCS</td>\n",
       "      <td>IT</td>\n",
       "    </tr>\n",
       "    <tr>\n",
       "      <th>2</th>\n",
       "      <td>3</td>\n",
       "      <td>Asian Paints</td>\n",
       "      <td>Paints and Varnishes</td>\n",
       "      <td>Lupin</td>\n",
       "      <td>Pharma</td>\n",
       "    </tr>\n",
       "    <tr>\n",
       "      <th>3</th>\n",
       "      <td>4</td>\n",
       "      <td>Maruti</td>\n",
       "      <td>Auto</td>\n",
       "      <td>ICICI</td>\n",
       "      <td>Banks</td>\n",
       "    </tr>\n",
       "    <tr>\n",
       "      <th>4</th>\n",
       "      <td>5</td>\n",
       "      <td>Sun Pharma</td>\n",
       "      <td>Pharma</td>\n",
       "      <td>M&amp;M</td>\n",
       "      <td>Auto</td>\n",
       "    </tr>\n",
       "  </tbody>\n",
       "</table>\n",
       "</div>"
      ],
      "text/plain": [
       "   id     Company_x              Sector_x Company_y Sector_y\n",
       "0   1       Infosys                    IT      NTPC    Power\n",
       "1   2           SBI                 Banks       TCS       IT\n",
       "2   3  Asian Paints  Paints and Varnishes     Lupin   Pharma\n",
       "3   4        Maruti                  Auto     ICICI    Banks\n",
       "4   5    Sun Pharma                Pharma       M&M     Auto"
      ]
     },
     "execution_count": 24,
     "metadata": {},
     "output_type": "execute_result"
    }
   ],
   "source": [
    "pd.merge(left_df,right_df,on='id')"
   ]
  },
  {
   "cell_type": "code",
   "execution_count": 25,
   "metadata": {
    "execution": {
     "iopub.execute_input": "2021-02-08T13:10:29.823937Z",
     "iopub.status.busy": "2021-02-08T13:10:29.822939Z",
     "iopub.status.idle": "2021-02-08T13:10:29.847945Z",
     "shell.execute_reply": "2021-02-08T13:10:29.846947Z",
     "shell.execute_reply.started": "2021-02-08T13:10:29.822939Z"
    }
   },
   "outputs": [
    {
     "data": {
      "text/html": [
       "<div>\n",
       "<style scoped>\n",
       "    .dataframe tbody tr th:only-of-type {\n",
       "        vertical-align: middle;\n",
       "    }\n",
       "\n",
       "    .dataframe tbody tr th {\n",
       "        vertical-align: top;\n",
       "    }\n",
       "\n",
       "    .dataframe thead th {\n",
       "        text-align: right;\n",
       "    }\n",
       "</style>\n",
       "<table border=\"1\" class=\"dataframe\">\n",
       "  <thead>\n",
       "    <tr style=\"text-align: right;\">\n",
       "      <th></th>\n",
       "      <th>id_x</th>\n",
       "      <th>Company_x</th>\n",
       "      <th>Sector</th>\n",
       "      <th>id_y</th>\n",
       "      <th>Company_y</th>\n",
       "    </tr>\n",
       "  </thead>\n",
       "  <tbody>\n",
       "    <tr>\n",
       "      <th>0</th>\n",
       "      <td>1</td>\n",
       "      <td>Infosys</td>\n",
       "      <td>IT</td>\n",
       "      <td>2</td>\n",
       "      <td>TCS</td>\n",
       "    </tr>\n",
       "    <tr>\n",
       "      <th>1</th>\n",
       "      <td>2</td>\n",
       "      <td>SBI</td>\n",
       "      <td>Banks</td>\n",
       "      <td>4</td>\n",
       "      <td>ICICI</td>\n",
       "    </tr>\n",
       "    <tr>\n",
       "      <th>2</th>\n",
       "      <td>4</td>\n",
       "      <td>Maruti</td>\n",
       "      <td>Auto</td>\n",
       "      <td>5</td>\n",
       "      <td>M&amp;M</td>\n",
       "    </tr>\n",
       "    <tr>\n",
       "      <th>3</th>\n",
       "      <td>5</td>\n",
       "      <td>Sun Pharma</td>\n",
       "      <td>Pharma</td>\n",
       "      <td>3</td>\n",
       "      <td>Lupin</td>\n",
       "    </tr>\n",
       "  </tbody>\n",
       "</table>\n",
       "</div>"
      ],
      "text/plain": [
       "   id_x   Company_x  Sector  id_y Company_y\n",
       "0     1     Infosys      IT     2       TCS\n",
       "1     2         SBI   Banks     4     ICICI\n",
       "2     4      Maruti    Auto     5       M&M\n",
       "3     5  Sun Pharma  Pharma     3     Lupin"
      ]
     },
     "execution_count": 25,
     "metadata": {},
     "output_type": "execute_result"
    }
   ],
   "source": [
    "pd.merge(left_df,right_df,on='Sector')"
   ]
  },
  {
   "cell_type": "code",
   "execution_count": 26,
   "metadata": {
    "execution": {
     "iopub.execute_input": "2021-02-08T13:10:30.006470Z",
     "iopub.status.busy": "2021-02-08T13:10:30.005470Z",
     "iopub.status.idle": "2021-02-08T13:10:30.022475Z",
     "shell.execute_reply": "2021-02-08T13:10:30.021472Z",
     "shell.execute_reply.started": "2021-02-08T13:10:30.005470Z"
    }
   },
   "outputs": [
    {
     "name": "stdout",
     "output_type": "stream",
     "text": [
      "Empty DataFrame\n",
      "Columns: [id_x, Company, Sector, id_y]\n",
      "Index: []\n"
     ]
    }
   ],
   "source": [
    "# Merge 2 dataframes on multiple keys\n",
    "\n",
    "print (pd.merge(left_df,right_df,on=['Sector','Company']))"
   ]
  },
  {
   "cell_type": "code",
   "execution_count": 27,
   "metadata": {
    "execution": {
     "iopub.execute_input": "2021-02-08T13:10:30.182031Z",
     "iopub.status.busy": "2021-02-08T13:10:30.181026Z",
     "iopub.status.idle": "2021-02-08T13:10:30.194028Z",
     "shell.execute_reply": "2021-02-08T13:10:30.194028Z",
     "shell.execute_reply.started": "2021-02-08T13:10:30.182031Z"
    }
   },
   "outputs": [
    {
     "name": "stdout",
     "output_type": "stream",
     "text": [
      "   id_x   Company_x  Sector  id_y Company_y\n",
      "0   1.0     Infosys      IT     2       TCS\n",
      "1   2.0         SBI   Banks     4     ICICI\n",
      "2   4.0      Maruti    Auto     5       M&M\n",
      "3   5.0  Sun Pharma  Pharma     3     Lupin\n",
      "4   NaN         NaN   Power     1      NTPC\n"
     ]
    }
   ],
   "source": [
    "# Merge using 'how' argument\n",
    "\n",
    "# Left join\n",
    "\n",
    "print (pd.merge(left_df, right_df, on='Sector', how='right'))"
   ]
  },
  {
   "cell_type": "code",
   "execution_count": 28,
   "metadata": {
    "execution": {
     "iopub.execute_input": "2021-02-08T13:10:30.358067Z",
     "iopub.status.busy": "2021-02-08T13:10:30.358067Z",
     "iopub.status.idle": "2021-02-08T13:10:30.370067Z",
     "shell.execute_reply": "2021-02-08T13:10:30.370067Z",
     "shell.execute_reply.started": "2021-02-08T13:10:30.358067Z"
    }
   },
   "outputs": [
    {
     "name": "stdout",
     "output_type": "stream",
     "text": [
      "   id_x     Company_x                Sector  id_y Company_y\n",
      "0     1       Infosys                    IT   2.0       TCS\n",
      "1     2           SBI                 Banks   4.0     ICICI\n",
      "2     3  Asian Paints  Paints and Varnishes   NaN       NaN\n",
      "3     4        Maruti                  Auto   5.0       M&M\n",
      "4     5    Sun Pharma                Pharma   3.0     Lupin\n"
     ]
    }
   ],
   "source": [
    "# Merge using 'how' argument\n",
    "\n",
    "# Left join\n",
    "\n",
    "print (pd.merge(left_df, right_df, on='Sector', how='left'))"
   ]
  },
  {
   "cell_type": "code",
   "execution_count": 29,
   "metadata": {
    "execution": {
     "iopub.execute_input": "2021-02-08T13:10:30.945058Z",
     "iopub.status.busy": "2021-02-08T13:10:30.945058Z",
     "iopub.status.idle": "2021-02-08T13:10:30.959578Z",
     "shell.execute_reply": "2021-02-08T13:10:30.959578Z",
     "shell.execute_reply.started": "2021-02-08T13:10:30.945058Z"
    }
   },
   "outputs": [
    {
     "name": "stdout",
     "output_type": "stream",
     "text": [
      "   id_x     Company_x                Sector  id_y Company_y\n",
      "0   1.0       Infosys                    IT   2.0       TCS\n",
      "1   2.0           SBI                 Banks   4.0     ICICI\n",
      "2   3.0  Asian Paints  Paints and Varnishes   NaN       NaN\n",
      "3   4.0        Maruti                  Auto   5.0       M&M\n",
      "4   5.0    Sun Pharma                Pharma   3.0     Lupin\n",
      "5   NaN           NaN                 Power   1.0      NTPC\n"
     ]
    }
   ],
   "source": [
    "# Outer join\n",
    "\n",
    "print (pd.merge(left_df, right_df, on='Sector', how='outer'))"
   ]
  },
  {
   "cell_type": "code",
   "execution_count": 30,
   "metadata": {
    "execution": {
     "iopub.execute_input": "2021-02-08T13:10:31.481937Z",
     "iopub.status.busy": "2021-02-08T13:10:31.481937Z",
     "iopub.status.idle": "2021-02-08T13:10:31.497445Z",
     "shell.execute_reply": "2021-02-08T13:10:31.497445Z",
     "shell.execute_reply.started": "2021-02-08T13:10:31.481937Z"
    }
   },
   "outputs": [
    {
     "name": "stdout",
     "output_type": "stream",
     "text": [
      "   id_x   Company_x  Sector  id_y Company_y\n",
      "0     1     Infosys      IT     2       TCS\n",
      "1     2         SBI   Banks     4     ICICI\n",
      "2     4      Maruti    Auto     5       M&M\n",
      "3     5  Sun Pharma  Pharma     3     Lupin\n"
     ]
    }
   ],
   "source": [
    "# Inner join\n",
    "\n",
    "print (pd.merge(left_df, right_df, on='Sector', how='inner'))"
   ]
  },
  {
   "cell_type": "code",
   "execution_count": 31,
   "metadata": {
    "execution": {
     "iopub.execute_input": "2021-02-08T13:10:31.983696Z",
     "iopub.status.busy": "2021-02-08T13:10:31.983696Z",
     "iopub.status.idle": "2021-02-08T13:10:32.003250Z",
     "shell.execute_reply": "2021-02-08T13:10:32.002250Z",
     "shell.execute_reply.started": "2021-02-08T13:10:31.983696Z"
    },
    "scrolled": true
   },
   "outputs": [
    {
     "data": {
      "text/plain": [
       "\u001b[1;31mSignature:\u001b[0m\n",
       "\u001b[0mpd\u001b[0m\u001b[1;33m.\u001b[0m\u001b[0mmerge\u001b[0m\u001b[1;33m(\u001b[0m\u001b[1;33m\n",
       "\u001b[0m    \u001b[0mleft\u001b[0m\u001b[1;33m,\u001b[0m\u001b[1;33m\n",
       "\u001b[0m    \u001b[0mright\u001b[0m\u001b[1;33m,\u001b[0m\u001b[1;33m\n",
       "\u001b[0m    \u001b[0mhow\u001b[0m\u001b[1;33m:\u001b[0m \u001b[0mstr\u001b[0m \u001b[1;33m=\u001b[0m \u001b[1;34m'inner'\u001b[0m\u001b[1;33m,\u001b[0m\u001b[1;33m\n",
       "\u001b[0m    \u001b[0mon\u001b[0m\u001b[1;33m=\u001b[0m\u001b[1;32mNone\u001b[0m\u001b[1;33m,\u001b[0m\u001b[1;33m\n",
       "\u001b[0m    \u001b[0mleft_on\u001b[0m\u001b[1;33m=\u001b[0m\u001b[1;32mNone\u001b[0m\u001b[1;33m,\u001b[0m\u001b[1;33m\n",
       "\u001b[0m    \u001b[0mright_on\u001b[0m\u001b[1;33m=\u001b[0m\u001b[1;32mNone\u001b[0m\u001b[1;33m,\u001b[0m\u001b[1;33m\n",
       "\u001b[0m    \u001b[0mleft_index\u001b[0m\u001b[1;33m:\u001b[0m \u001b[0mbool\u001b[0m \u001b[1;33m=\u001b[0m \u001b[1;32mFalse\u001b[0m\u001b[1;33m,\u001b[0m\u001b[1;33m\n",
       "\u001b[0m    \u001b[0mright_index\u001b[0m\u001b[1;33m:\u001b[0m \u001b[0mbool\u001b[0m \u001b[1;33m=\u001b[0m \u001b[1;32mFalse\u001b[0m\u001b[1;33m,\u001b[0m\u001b[1;33m\n",
       "\u001b[0m    \u001b[0msort\u001b[0m\u001b[1;33m:\u001b[0m \u001b[0mbool\u001b[0m \u001b[1;33m=\u001b[0m \u001b[1;32mFalse\u001b[0m\u001b[1;33m,\u001b[0m\u001b[1;33m\n",
       "\u001b[0m    \u001b[0msuffixes\u001b[0m\u001b[1;33m=\u001b[0m\u001b[1;33m(\u001b[0m\u001b[1;34m'_x'\u001b[0m\u001b[1;33m,\u001b[0m \u001b[1;34m'_y'\u001b[0m\u001b[1;33m)\u001b[0m\u001b[1;33m,\u001b[0m\u001b[1;33m\n",
       "\u001b[0m    \u001b[0mcopy\u001b[0m\u001b[1;33m:\u001b[0m \u001b[0mbool\u001b[0m \u001b[1;33m=\u001b[0m \u001b[1;32mTrue\u001b[0m\u001b[1;33m,\u001b[0m\u001b[1;33m\n",
       "\u001b[0m    \u001b[0mindicator\u001b[0m\u001b[1;33m:\u001b[0m \u001b[0mbool\u001b[0m \u001b[1;33m=\u001b[0m \u001b[1;32mFalse\u001b[0m\u001b[1;33m,\u001b[0m\u001b[1;33m\n",
       "\u001b[0m    \u001b[0mvalidate\u001b[0m\u001b[1;33m=\u001b[0m\u001b[1;32mNone\u001b[0m\u001b[1;33m,\u001b[0m\u001b[1;33m\n",
       "\u001b[0m\u001b[1;33m)\u001b[0m \u001b[1;33m->\u001b[0m \u001b[1;34m'DataFrame'\u001b[0m\u001b[1;33m\u001b[0m\u001b[1;33m\u001b[0m\u001b[0m\n",
       "\u001b[1;31mDocstring:\u001b[0m\n",
       "Merge DataFrame or named Series objects with a database-style join.\n",
       "\n",
       "The join is done on columns or indexes. If joining columns on\n",
       "columns, the DataFrame indexes *will be ignored*. Otherwise if joining indexes\n",
       "on indexes or indexes on a column or columns, the index will be passed on.\n",
       "\n",
       "Parameters\n",
       "----------\n",
       "left : DataFrame\n",
       "right : DataFrame or named Series\n",
       "    Object to merge with.\n",
       "how : {'left', 'right', 'outer', 'inner'}, default 'inner'\n",
       "    Type of merge to be performed.\n",
       "\n",
       "    * left: use only keys from left frame, similar to a SQL left outer join;\n",
       "      preserve key order.\n",
       "    * right: use only keys from right frame, similar to a SQL right outer join;\n",
       "      preserve key order.\n",
       "    * outer: use union of keys from both frames, similar to a SQL full outer\n",
       "      join; sort keys lexicographically.\n",
       "    * inner: use intersection of keys from both frames, similar to a SQL inner\n",
       "      join; preserve the order of the left keys.\n",
       "on : label or list\n",
       "    Column or index level names to join on. These must be found in both\n",
       "    DataFrames. If `on` is None and not merging on indexes then this defaults\n",
       "    to the intersection of the columns in both DataFrames.\n",
       "left_on : label or list, or array-like\n",
       "    Column or index level names to join on in the left DataFrame. Can also\n",
       "    be an array or list of arrays of the length of the left DataFrame.\n",
       "    These arrays are treated as if they are columns.\n",
       "right_on : label or list, or array-like\n",
       "    Column or index level names to join on in the right DataFrame. Can also\n",
       "    be an array or list of arrays of the length of the right DataFrame.\n",
       "    These arrays are treated as if they are columns.\n",
       "left_index : bool, default False\n",
       "    Use the index from the left DataFrame as the join key(s). If it is a\n",
       "    MultiIndex, the number of keys in the other DataFrame (either the index\n",
       "    or a number of columns) must match the number of levels.\n",
       "right_index : bool, default False\n",
       "    Use the index from the right DataFrame as the join key. Same caveats as\n",
       "    left_index.\n",
       "sort : bool, default False\n",
       "    Sort the join keys lexicographically in the result DataFrame. If False,\n",
       "    the order of the join keys depends on the join type (how keyword).\n",
       "suffixes : tuple of (str, str), default ('_x', '_y')\n",
       "    Suffix to apply to overlapping column names in the left and right\n",
       "    side, respectively. To raise an exception on overlapping columns use\n",
       "    (False, False).\n",
       "copy : bool, default True\n",
       "    If False, avoid copy if possible.\n",
       "indicator : bool or str, default False\n",
       "    If True, adds a column to output DataFrame called \"_merge\" with\n",
       "    information on the source of each row.\n",
       "    If string, column with information on source of each row will be added to\n",
       "    output DataFrame, and column will be named value of string.\n",
       "    Information column is Categorical-type and takes on a value of \"left_only\"\n",
       "    for observations whose merge key only appears in 'left' DataFrame,\n",
       "    \"right_only\" for observations whose merge key only appears in 'right'\n",
       "    DataFrame, and \"both\" if the observation's merge key is found in both.\n",
       "\n",
       "validate : str, optional\n",
       "    If specified, checks if merge is of specified type.\n",
       "\n",
       "    * \"one_to_one\" or \"1:1\": check if merge keys are unique in both\n",
       "      left and right datasets.\n",
       "    * \"one_to_many\" or \"1:m\": check if merge keys are unique in left\n",
       "      dataset.\n",
       "    * \"many_to_one\" or \"m:1\": check if merge keys are unique in right\n",
       "      dataset.\n",
       "    * \"many_to_many\" or \"m:m\": allowed, but does not result in checks.\n",
       "\n",
       "    .. versionadded:: 0.21.0\n",
       "\n",
       "Returns\n",
       "-------\n",
       "DataFrame\n",
       "    A DataFrame of the two merged objects.\n",
       "\n",
       "See Also\n",
       "--------\n",
       "merge_ordered : Merge with optional filling/interpolation.\n",
       "merge_asof : Merge on nearest keys.\n",
       "DataFrame.join : Similar method using indices.\n",
       "\n",
       "Notes\n",
       "-----\n",
       "Support for specifying index levels as the `on`, `left_on`, and\n",
       "`right_on` parameters was added in version 0.23.0\n",
       "Support for merging named Series objects was added in version 0.24.0\n",
       "\n",
       "Examples\n",
       "--------\n",
       "\n",
       ">>> df1 = pd.DataFrame({'lkey': ['foo', 'bar', 'baz', 'foo'],\n",
       "...                     'value': [1, 2, 3, 5]})\n",
       ">>> df2 = pd.DataFrame({'rkey': ['foo', 'bar', 'baz', 'foo'],\n",
       "...                     'value': [5, 6, 7, 8]})\n",
       ">>> df1\n",
       "    lkey value\n",
       "0   foo      1\n",
       "1   bar      2\n",
       "2   baz      3\n",
       "3   foo      5\n",
       ">>> df2\n",
       "    rkey value\n",
       "0   foo      5\n",
       "1   bar      6\n",
       "2   baz      7\n",
       "3   foo      8\n",
       "\n",
       "Merge df1 and df2 on the lkey and rkey columns. The value columns have\n",
       "the default suffixes, _x and _y, appended.\n",
       "\n",
       ">>> df1.merge(df2, left_on='lkey', right_on='rkey')\n",
       "  lkey  value_x rkey  value_y\n",
       "0  foo        1  foo        5\n",
       "1  foo        1  foo        8\n",
       "2  foo        5  foo        5\n",
       "3  foo        5  foo        8\n",
       "4  bar        2  bar        6\n",
       "5  baz        3  baz        7\n",
       "\n",
       "Merge DataFrames df1 and df2 with specified left and right suffixes\n",
       "appended to any overlapping columns.\n",
       "\n",
       ">>> df1.merge(df2, left_on='lkey', right_on='rkey',\n",
       "...           suffixes=('_left', '_right'))\n",
       "  lkey  value_left rkey  value_right\n",
       "0  foo           1  foo            5\n",
       "1  foo           1  foo            8\n",
       "2  foo           5  foo            5\n",
       "3  foo           5  foo            8\n",
       "4  bar           2  bar            6\n",
       "5  baz           3  baz            7\n",
       "\n",
       "Merge DataFrames df1 and df2, but raise an exception if the DataFrames have\n",
       "any overlapping columns.\n",
       "\n",
       ">>> df1.merge(df2, left_on='lkey', right_on='rkey', suffixes=(False, False))\n",
       "Traceback (most recent call last):\n",
       "...\n",
       "ValueError: columns overlap but no suffix specified:\n",
       "    Index(['value'], dtype='object')\n",
       "\u001b[1;31mFile:\u001b[0m      c:\\users\\ramsu\\anaconda3\\lib\\site-packages\\pandas\\core\\reshape\\merge.py\n",
       "\u001b[1;31mType:\u001b[0m      function\n"
      ]
     },
     "metadata": {},
     "output_type": "display_data"
    }
   ],
   "source": [
    "pd.merge?"
   ]
  },
  {
   "cell_type": "markdown",
   "metadata": {},
   "source": [
    "## Concatenation "
   ]
  },
  {
   "cell_type": "code",
   "execution_count": 32,
   "metadata": {
    "execution": {
     "iopub.execute_input": "2021-02-08T13:10:33.978497Z",
     "iopub.status.busy": "2021-02-08T13:10:33.978497Z",
     "iopub.status.idle": "2021-02-08T13:10:34.002008Z",
     "shell.execute_reply": "2021-02-08T13:10:34.001009Z",
     "shell.execute_reply.started": "2021-02-08T13:10:33.978497Z"
    },
    "scrolled": true
   },
   "outputs": [
    {
     "name": "stdout",
     "output_type": "stream",
     "text": [
      "   id       Company                Sector\n",
      "0   1       Infosys                    IT\n",
      "1   2           SBI                 Banks\n",
      "2   3  Asian Paints  Paints and Varnishes\n",
      "3   4        Maruti                  Auto\n",
      "4   5    Sun Pharma                Pharma\n",
      "0   1          NTPC                 Power\n",
      "1   2           TCS                    IT\n",
      "2   3         Lupin                Pharma\n",
      "3   4         ICICI                 Banks\n",
      "4   5           M&M                  Auto\n"
     ]
    },
    {
     "data": {
      "text/plain": [
       "\u001b[1;31mSignature:\u001b[0m\n",
       "\u001b[0mpd\u001b[0m\u001b[1;33m.\u001b[0m\u001b[0mconcat\u001b[0m\u001b[1;33m(\u001b[0m\u001b[1;33m\n",
       "\u001b[0m    \u001b[0mobjs\u001b[0m\u001b[1;33m:\u001b[0m \u001b[0mUnion\u001b[0m\u001b[1;33m[\u001b[0m\u001b[0mIterable\u001b[0m\u001b[1;33m[\u001b[0m\u001b[0mUnion\u001b[0m\u001b[1;33m[\u001b[0m\u001b[0mForwardRef\u001b[0m\u001b[1;33m(\u001b[0m\u001b[1;34m'DataFrame'\u001b[0m\u001b[1;33m)\u001b[0m\u001b[1;33m,\u001b[0m \u001b[0mForwardRef\u001b[0m\u001b[1;33m(\u001b[0m\u001b[1;34m'Series'\u001b[0m\u001b[1;33m)\u001b[0m\u001b[1;33m]\u001b[0m\u001b[1;33m]\u001b[0m\u001b[1;33m,\u001b[0m \u001b[0mMapping\u001b[0m\u001b[1;33m[\u001b[0m\u001b[0mUnion\u001b[0m\u001b[1;33m[\u001b[0m\u001b[0mHashable\u001b[0m\u001b[1;33m,\u001b[0m \u001b[0mNoneType\u001b[0m\u001b[1;33m]\u001b[0m\u001b[1;33m,\u001b[0m \u001b[0mUnion\u001b[0m\u001b[1;33m[\u001b[0m\u001b[0mForwardRef\u001b[0m\u001b[1;33m(\u001b[0m\u001b[1;34m'DataFrame'\u001b[0m\u001b[1;33m)\u001b[0m\u001b[1;33m,\u001b[0m \u001b[0mForwardRef\u001b[0m\u001b[1;33m(\u001b[0m\u001b[1;34m'Series'\u001b[0m\u001b[1;33m)\u001b[0m\u001b[1;33m]\u001b[0m\u001b[1;33m]\u001b[0m\u001b[1;33m]\u001b[0m\u001b[1;33m,\u001b[0m\u001b[1;33m\n",
       "\u001b[0m    \u001b[0maxis\u001b[0m\u001b[1;33m=\u001b[0m\u001b[1;36m0\u001b[0m\u001b[1;33m,\u001b[0m\u001b[1;33m\n",
       "\u001b[0m    \u001b[0mjoin\u001b[0m\u001b[1;33m=\u001b[0m\u001b[1;34m'outer'\u001b[0m\u001b[1;33m,\u001b[0m\u001b[1;33m\n",
       "\u001b[0m    \u001b[0mignore_index\u001b[0m\u001b[1;33m:\u001b[0m \u001b[0mbool\u001b[0m \u001b[1;33m=\u001b[0m \u001b[1;32mFalse\u001b[0m\u001b[1;33m,\u001b[0m\u001b[1;33m\n",
       "\u001b[0m    \u001b[0mkeys\u001b[0m\u001b[1;33m=\u001b[0m\u001b[1;32mNone\u001b[0m\u001b[1;33m,\u001b[0m\u001b[1;33m\n",
       "\u001b[0m    \u001b[0mlevels\u001b[0m\u001b[1;33m=\u001b[0m\u001b[1;32mNone\u001b[0m\u001b[1;33m,\u001b[0m\u001b[1;33m\n",
       "\u001b[0m    \u001b[0mnames\u001b[0m\u001b[1;33m=\u001b[0m\u001b[1;32mNone\u001b[0m\u001b[1;33m,\u001b[0m\u001b[1;33m\n",
       "\u001b[0m    \u001b[0mverify_integrity\u001b[0m\u001b[1;33m:\u001b[0m \u001b[0mbool\u001b[0m \u001b[1;33m=\u001b[0m \u001b[1;32mFalse\u001b[0m\u001b[1;33m,\u001b[0m\u001b[1;33m\n",
       "\u001b[0m    \u001b[0msort\u001b[0m\u001b[1;33m:\u001b[0m \u001b[0mbool\u001b[0m \u001b[1;33m=\u001b[0m \u001b[1;32mFalse\u001b[0m\u001b[1;33m,\u001b[0m\u001b[1;33m\n",
       "\u001b[0m    \u001b[0mcopy\u001b[0m\u001b[1;33m:\u001b[0m \u001b[0mbool\u001b[0m \u001b[1;33m=\u001b[0m \u001b[1;32mTrue\u001b[0m\u001b[1;33m,\u001b[0m\u001b[1;33m\n",
       "\u001b[0m\u001b[1;33m)\u001b[0m \u001b[1;33m->\u001b[0m \u001b[0mUnion\u001b[0m\u001b[1;33m[\u001b[0m\u001b[0mForwardRef\u001b[0m\u001b[1;33m(\u001b[0m\u001b[1;34m'DataFrame'\u001b[0m\u001b[1;33m)\u001b[0m\u001b[1;33m,\u001b[0m \u001b[0mForwardRef\u001b[0m\u001b[1;33m(\u001b[0m\u001b[1;34m'Series'\u001b[0m\u001b[1;33m)\u001b[0m\u001b[1;33m]\u001b[0m\u001b[1;33m\u001b[0m\u001b[1;33m\u001b[0m\u001b[0m\n",
       "\u001b[1;31mDocstring:\u001b[0m\n",
       "Concatenate pandas objects along a particular axis with optional set logic\n",
       "along the other axes.\n",
       "\n",
       "Can also add a layer of hierarchical indexing on the concatenation axis,\n",
       "which may be useful if the labels are the same (or overlapping) on\n",
       "the passed axis number.\n",
       "\n",
       "Parameters\n",
       "----------\n",
       "objs : a sequence or mapping of Series or DataFrame objects\n",
       "    If a dict is passed, the sorted keys will be used as the `keys`\n",
       "    argument, unless it is passed, in which case the values will be\n",
       "    selected (see below). Any None objects will be dropped silently unless\n",
       "    they are all None in which case a ValueError will be raised.\n",
       "axis : {0/'index', 1/'columns'}, default 0\n",
       "    The axis to concatenate along.\n",
       "join : {'inner', 'outer'}, default 'outer'\n",
       "    How to handle indexes on other axis (or axes).\n",
       "ignore_index : bool, default False\n",
       "    If True, do not use the index values along the concatenation axis. The\n",
       "    resulting axis will be labeled 0, ..., n - 1. This is useful if you are\n",
       "    concatenating objects where the concatenation axis does not have\n",
       "    meaningful indexing information. Note the index values on the other\n",
       "    axes are still respected in the join.\n",
       "keys : sequence, default None\n",
       "    If multiple levels passed, should contain tuples. Construct\n",
       "    hierarchical index using the passed keys as the outermost level.\n",
       "levels : list of sequences, default None\n",
       "    Specific levels (unique values) to use for constructing a\n",
       "    MultiIndex. Otherwise they will be inferred from the keys.\n",
       "names : list, default None\n",
       "    Names for the levels in the resulting hierarchical index.\n",
       "verify_integrity : bool, default False\n",
       "    Check whether the new concatenated axis contains duplicates. This can\n",
       "    be very expensive relative to the actual data concatenation.\n",
       "sort : bool, default False\n",
       "    Sort non-concatenation axis if it is not already aligned when `join`\n",
       "    is 'outer'.\n",
       "    This has no effect when ``join='inner'``, which already preserves\n",
       "    the order of the non-concatenation axis.\n",
       "\n",
       "    .. versionadded:: 0.23.0\n",
       "    .. versionchanged:: 1.0.0\n",
       "\n",
       "       Changed to not sort by default.\n",
       "\n",
       "copy : bool, default True\n",
       "    If False, do not copy data unnecessarily.\n",
       "\n",
       "Returns\n",
       "-------\n",
       "object, type of objs\n",
       "    When concatenating all ``Series`` along the index (axis=0), a\n",
       "    ``Series`` is returned. When ``objs`` contains at least one\n",
       "    ``DataFrame``, a ``DataFrame`` is returned. When concatenating along\n",
       "    the columns (axis=1), a ``DataFrame`` is returned.\n",
       "\n",
       "See Also\n",
       "--------\n",
       "Series.append : Concatenate Series.\n",
       "DataFrame.append : Concatenate DataFrames.\n",
       "DataFrame.join : Join DataFrames using indexes.\n",
       "DataFrame.merge : Merge DataFrames by indexes or columns.\n",
       "\n",
       "Notes\n",
       "-----\n",
       "The keys, levels, and names arguments are all optional.\n",
       "\n",
       "A walkthrough of how this method fits in with other tools for combining\n",
       "pandas objects can be found `here\n",
       "<https://pandas.pydata.org/pandas-docs/stable/user_guide/merging.html>`__.\n",
       "\n",
       "Examples\n",
       "--------\n",
       "Combine two ``Series``.\n",
       "\n",
       ">>> s1 = pd.Series(['a', 'b'])\n",
       ">>> s2 = pd.Series(['c', 'd'])\n",
       ">>> pd.concat([s1, s2])\n",
       "0    a\n",
       "1    b\n",
       "0    c\n",
       "1    d\n",
       "dtype: object\n",
       "\n",
       "Clear the existing index and reset it in the result\n",
       "by setting the ``ignore_index`` option to ``True``.\n",
       "\n",
       ">>> pd.concat([s1, s2], ignore_index=True)\n",
       "0    a\n",
       "1    b\n",
       "2    c\n",
       "3    d\n",
       "dtype: object\n",
       "\n",
       "Add a hierarchical index at the outermost level of\n",
       "the data with the ``keys`` option.\n",
       "\n",
       ">>> pd.concat([s1, s2], keys=['s1', 's2'])\n",
       "s1  0    a\n",
       "    1    b\n",
       "s2  0    c\n",
       "    1    d\n",
       "dtype: object\n",
       "\n",
       "Label the index keys you create with the ``names`` option.\n",
       "\n",
       ">>> pd.concat([s1, s2], keys=['s1', 's2'],\n",
       "...           names=['Series name', 'Row ID'])\n",
       "Series name  Row ID\n",
       "s1           0         a\n",
       "             1         b\n",
       "s2           0         c\n",
       "             1         d\n",
       "dtype: object\n",
       "\n",
       "Combine two ``DataFrame`` objects with identical columns.\n",
       "\n",
       ">>> df1 = pd.DataFrame([['a', 1], ['b', 2]],\n",
       "...                    columns=['letter', 'number'])\n",
       ">>> df1\n",
       "  letter  number\n",
       "0      a       1\n",
       "1      b       2\n",
       ">>> df2 = pd.DataFrame([['c', 3], ['d', 4]],\n",
       "...                    columns=['letter', 'number'])\n",
       ">>> df2\n",
       "  letter  number\n",
       "0      c       3\n",
       "1      d       4\n",
       ">>> pd.concat([df1, df2])\n",
       "  letter  number\n",
       "0      a       1\n",
       "1      b       2\n",
       "0      c       3\n",
       "1      d       4\n",
       "\n",
       "Combine ``DataFrame`` objects with overlapping columns\n",
       "and return everything. Columns outside the intersection will\n",
       "be filled with ``NaN`` values.\n",
       "\n",
       ">>> df3 = pd.DataFrame([['c', 3, 'cat'], ['d', 4, 'dog']],\n",
       "...                    columns=['letter', 'number', 'animal'])\n",
       ">>> df3\n",
       "  letter  number animal\n",
       "0      c       3    cat\n",
       "1      d       4    dog\n",
       ">>> pd.concat([df1, df3], sort=False)\n",
       "  letter  number animal\n",
       "0      a       1    NaN\n",
       "1      b       2    NaN\n",
       "0      c       3    cat\n",
       "1      d       4    dog\n",
       "\n",
       "Combine ``DataFrame`` objects with overlapping columns\n",
       "and return only those that are shared by passing ``inner`` to\n",
       "the ``join`` keyword argument.\n",
       "\n",
       ">>> pd.concat([df1, df3], join=\"inner\")\n",
       "  letter  number\n",
       "0      a       1\n",
       "1      b       2\n",
       "0      c       3\n",
       "1      d       4\n",
       "\n",
       "Combine ``DataFrame`` objects horizontally along the x axis by\n",
       "passing in ``axis=1``.\n",
       "\n",
       ">>> df4 = pd.DataFrame([['bird', 'polly'], ['monkey', 'george']],\n",
       "...                    columns=['animal', 'name'])\n",
       ">>> pd.concat([df1, df4], axis=1)\n",
       "  letter  number  animal    name\n",
       "0      a       1    bird   polly\n",
       "1      b       2  monkey  george\n",
       "\n",
       "Prevent the result from including duplicate index values with the\n",
       "``verify_integrity`` option.\n",
       "\n",
       ">>> df5 = pd.DataFrame([1], index=['a'])\n",
       ">>> df5\n",
       "   0\n",
       "a  1\n",
       ">>> df6 = pd.DataFrame([2], index=['a'])\n",
       ">>> df6\n",
       "   0\n",
       "a  2\n",
       ">>> pd.concat([df5, df6], verify_integrity=True)\n",
       "Traceback (most recent call last):\n",
       "    ...\n",
       "ValueError: Indexes have overlapping values: ['a']\n",
       "\u001b[1;31mFile:\u001b[0m      c:\\users\\ramsu\\anaconda3\\lib\\site-packages\\pandas\\core\\reshape\\concat.py\n",
       "\u001b[1;31mType:\u001b[0m      function\n"
      ]
     },
     "metadata": {},
     "output_type": "display_data"
    }
   ],
   "source": [
    "print (pd.concat([left_df,right_df]))\n",
    "pd.concat?"
   ]
  },
  {
   "cell_type": "code",
   "execution_count": 67,
   "metadata": {},
   "outputs": [
    {
     "name": "stdout",
     "output_type": "stream",
     "text": [
      "     id       Company                Sector\n",
      "x 0   1       Infosys                    IT\n",
      "  1   2           SBI                 Banks\n",
      "  2   3  Asian Paints  Paints and Varnishes\n",
      "  3   4        Maruti                  Auto\n",
      "  4   5    Sun Pharma                Pharma\n",
      "y 0   1          NTPC                 Power\n",
      "  1   2           TCS                    IT\n",
      "  2   3         Lupin                Pharma\n",
      "  3   4         ICICI                 Banks\n",
      "  4   5           M&M                  Auto\n"
     ]
    }
   ],
   "source": [
    "print (pd.concat([left_df, right_df],keys=['x','y']))"
   ]
  },
  {
   "cell_type": "code",
   "execution_count": 68,
   "metadata": {},
   "outputs": [
    {
     "name": "stdout",
     "output_type": "stream",
     "text": [
      "   id       Company                Sector\n",
      "0   1       Infosys                    IT\n",
      "1   2           SBI                 Banks\n",
      "2   3  Asian Paints  Paints and Varnishes\n",
      "3   4        Maruti                  Auto\n",
      "4   5    Sun Pharma                Pharma\n",
      "5   1          NTPC                 Power\n",
      "6   2           TCS                    IT\n",
      "7   3         Lupin                Pharma\n",
      "8   4         ICICI                 Banks\n",
      "9   5           M&M                  Auto\n"
     ]
    }
   ],
   "source": [
    "print (pd.concat([left_df, right_df],keys=['x','y'],ignore_index = True))"
   ]
  },
  {
   "cell_type": "code",
   "execution_count": 69,
   "metadata": {},
   "outputs": [
    {
     "name": "stdout",
     "output_type": "stream",
     "text": [
      "   x                                      y                \n",
      "  id       Company                Sector id Company  Sector\n",
      "0  1       Infosys                    IT  1    NTPC   Power\n",
      "1  2           SBI                 Banks  2     TCS      IT\n",
      "2  3  Asian Paints  Paints and Varnishes  3   Lupin  Pharma\n",
      "3  4        Maruti                  Auto  4   ICICI   Banks\n",
      "4  5    Sun Pharma                Pharma  5     M&M    Auto\n"
     ]
    }
   ],
   "source": [
    "print (pd.concat([left_df, right_df],keys=['x','y'],axis =1))"
   ]
  },
  {
   "cell_type": "code",
   "execution_count": 70,
   "metadata": {},
   "outputs": [
    {
     "name": "stdout",
     "output_type": "stream",
     "text": [
      "   id       Company                Sector\n",
      "0   1       Infosys                    IT\n",
      "1   2           SBI                 Banks\n",
      "2   3  Asian Paints  Paints and Varnishes\n",
      "3   4        Maruti                  Auto\n",
      "4   5    Sun Pharma                Pharma\n",
      "0   1          NTPC                 Power\n",
      "1   2           TCS                    IT\n",
      "2   3         Lupin                Pharma\n",
      "3   4         ICICI                 Banks\n",
      "4   5           M&M                  Auto\n"
     ]
    }
   ],
   "source": [
    "# Concatenating using append\n",
    "\n",
    "print (left_df.append(right_df))"
   ]
  },
  {
   "cell_type": "code",
   "execution_count": 71,
   "metadata": {},
   "outputs": [
    {
     "name": "stdout",
     "output_type": "stream",
     "text": [
      "   id       Company                Sector\n",
      "0   1       Infosys                    IT\n",
      "1   2           SBI                 Banks\n",
      "2   3  Asian Paints  Paints and Varnishes\n",
      "3   4        Maruti                  Auto\n",
      "4   5    Sun Pharma                Pharma\n",
      "0   1          NTPC                 Power\n",
      "1   2           TCS                    IT\n",
      "2   3         Lupin                Pharma\n",
      "3   4         ICICI                 Banks\n",
      "4   5           M&M                  Auto\n",
      "0   1       Infosys                    IT\n",
      "1   2           SBI                 Banks\n",
      "2   3  Asian Paints  Paints and Varnishes\n",
      "3   4        Maruti                  Auto\n",
      "4   5    Sun Pharma                Pharma\n",
      "0   1          NTPC                 Power\n",
      "1   2           TCS                    IT\n",
      "2   3         Lupin                Pharma\n",
      "3   4         ICICI                 Banks\n",
      "4   5           M&M                  Auto\n"
     ]
    }
   ],
   "source": [
    "print (left_df.append([right_df,left_df, right_df]))"
   ]
  },
  {
   "cell_type": "code",
   "execution_count": null,
   "metadata": {},
   "outputs": [],
   "source": []
  }
 ],
 "metadata": {
  "kernelspec": {
   "display_name": "Python 3",
   "language": "python",
   "name": "python3"
  },
  "language_info": {
   "codemirror_mode": {
    "name": "ipython",
    "version": 3
   },
   "file_extension": ".py",
   "mimetype": "text/x-python",
   "name": "python",
   "nbconvert_exporter": "python",
   "pygments_lexer": "ipython3",
   "version": "3.7.6"
  }
 },
 "nbformat": 4,
 "nbformat_minor": 4
}
