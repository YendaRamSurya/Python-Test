{
 "cells": [
  {
   "cell_type": "markdown",
   "metadata": {},
   "source": [
    "##### <span style=\"color:green\">1. Create dataframes </span>\n",
    "##### <span style=\"color:green\">2. Customize index of a dataframe</span>\n",
    "#####  <span style=\"color:green\">3. Rearrange the columns in a dataframe</span>\n",
    "##### <span style=\"color:green\">4. Use an existing column as the index of a dataframe</span>\n",
    "##### <span style=\"color:green\">5. Access a column in a dataframe</span>\n",
    "##### <span style=\"color:green\">6. Load financial market data </span>\n",
    "##### <span style=\"color:green\">7. Dropping rows and/or columns</span>\n",
    "##### <span style=\"color:green\">8. Rename columns</span>\n",
    "##### <span style=\"color:green\">9. Sort a dataframe using a column</span>\n",
    "##### <span style=\"color:green\">10. Just for fun</span>"
   ]
  },
  {
   "cell_type": "markdown",
   "metadata": {},
   "source": [
    "# Create dataframes \n",
    "\n",
    "The underlying idea of a dataframe is based on 'spreadsheets'. In other words, dataframes store data in discrete rows and columns, where each column can be named (something that is not possible in Arrays but is possible in Series). There are also multiple columns in a dataframe (as opposed to Series, where there can be only one discrete indexed column).<br>\n",
    "<br>\n",
    "The constructor for a dataframe is <font color=red>pandas.DataFrame(data=None, index=None)</font> or if you are using 'pd' as an alias for pandas, then it would be <font color=red>pd.DataFrame(data=None, index=None)</font><br>\n",
    "<br>\n",
    "Let us have a look at the following example."
   ]
  },
  {
   "cell_type": "code",
   "execution_count": 1,
   "metadata": {},
   "outputs": [
    {
     "data": {
      "text/html": [
       "<div>\n",
       "<style scoped>\n",
       "    .dataframe tbody tr th:only-of-type {\n",
       "        vertical-align: middle;\n",
       "    }\n",
       "\n",
       "    .dataframe tbody tr th {\n",
       "        vertical-align: top;\n",
       "    }\n",
       "\n",
       "    .dataframe thead th {\n",
       "        text-align: right;\n",
       "    }\n",
       "</style>\n",
       "<table border=\"1\" class=\"dataframe\">\n",
       "  <thead>\n",
       "    <tr style=\"text-align: right;\">\n",
       "      <th></th>\n",
       "      <th>stock_name</th>\n",
       "      <th>quantity_owned</th>\n",
       "      <th>average_buy_price</th>\n",
       "    </tr>\n",
       "  </thead>\n",
       "  <tbody>\n",
       "    <tr>\n",
       "      <th>0</th>\n",
       "      <td>Alphabet</td>\n",
       "      <td>1564</td>\n",
       "      <td>$950</td>\n",
       "    </tr>\n",
       "    <tr>\n",
       "      <th>1</th>\n",
       "      <td>Facebook</td>\n",
       "      <td>6546</td>\n",
       "      <td>$160</td>\n",
       "    </tr>\n",
       "    <tr>\n",
       "      <th>2</th>\n",
       "      <td>Apple</td>\n",
       "      <td>5464</td>\n",
       "      <td>$120</td>\n",
       "    </tr>\n",
       "    <tr>\n",
       "      <th>3</th>\n",
       "      <td>Tesla</td>\n",
       "      <td>6513</td>\n",
       "      <td>$270</td>\n",
       "    </tr>\n",
       "    <tr>\n",
       "      <th>4</th>\n",
       "      <td>Infosys</td>\n",
       "      <td>4155</td>\n",
       "      <td>$15</td>\n",
       "    </tr>\n",
       "  </tbody>\n",
       "</table>\n",
       "</div>"
      ],
      "text/plain": [
       "  stock_name  quantity_owned average_buy_price\n",
       "0   Alphabet            1564              $950\n",
       "1   Facebook            6546              $160\n",
       "2      Apple            5464              $120\n",
       "3      Tesla            6513              $270\n",
       "4    Infosys            4155               $15"
      ]
     },
     "execution_count": 1,
     "metadata": {},
     "output_type": "execute_result"
    }
   ],
   "source": [
    "import numpy as np\n",
    "import pandas as pd \n",
    "\n",
    "my_portfolio = {\n",
    "                \"stock_name\": [\"Alphabet\", \"Facebook\", \"Apple\", \"Tesla\", \"Infosys\"],\n",
    "                \"quantity_owned\": [1564, 6546, 5464, 6513, 4155],\n",
    "                \"average_buy_price\": [\"$950\", \"$160\", \"$120\", \"$270\", \"$15\"]\n",
    "               } \n",
    "\n",
    "df = pd.DataFrame(my_portfolio)\n",
    "df.head()"
   ]
  },
  {
   "cell_type": "code",
   "execution_count": 2,
   "metadata": {},
   "outputs": [
    {
     "data": {
      "text/plain": [
       "True"
      ]
     },
     "execution_count": 2,
     "metadata": {},
     "output_type": "execute_result"
    }
   ],
   "source": [
    "np.array_equal(df[\"stock_name\"],df[\"stock_name\"])"
   ]
  },
  {
   "cell_type": "code",
   "execution_count": 3,
   "metadata": {},
   "outputs": [
    {
     "name": "stdout",
     "output_type": "stream",
     "text": [
      "       stock_name  quantity_owned average_buy_price\n",
      "first    Alphabet            1564              $950\n",
      "second   Facebook            6546              $160\n",
      "third       Apple            5464              $120\n",
      "fourth      Tesla            6513              $270\n",
      "fifth     Infosys            4155               $15\n"
     ]
    },
    {
     "data": {
      "text/plain": [
       "2343337296392"
      ]
     },
     "execution_count": 3,
     "metadata": {},
     "output_type": "execute_result"
    }
   ],
   "source": [
    "# customizing ndex of the data frame \n",
    "\n",
    "originals =[\"first\",\"second\",\"third\",'fourth','fifth']\n",
    "\n",
    "df = pd.DataFrame(my_portfolio,originals)\n",
    "\n",
    "print(df.head())\n",
    "\n",
    "id(df)"
   ]
  },
  {
   "cell_type": "markdown",
   "metadata": {},
   "source": [
    "## Rearrange the columns in a dataframe \n",
    "\n",
    "We can also define or change the order of columns."
   ]
  },
  {
   "cell_type": "code",
   "execution_count": 4,
   "metadata": {},
   "outputs": [
    {
     "data": {
      "text/html": [
       "<div>\n",
       "<style scoped>\n",
       "    .dataframe tbody tr th:only-of-type {\n",
       "        vertical-align: middle;\n",
       "    }\n",
       "\n",
       "    .dataframe tbody tr th {\n",
       "        vertical-align: top;\n",
       "    }\n",
       "\n",
       "    .dataframe thead th {\n",
       "        text-align: right;\n",
       "    }\n",
       "</style>\n",
       "<table border=\"1\" class=\"dataframe\">\n",
       "  <thead>\n",
       "    <tr style=\"text-align: right;\">\n",
       "      <th></th>\n",
       "      <th>stock_name</th>\n",
       "      <th>average_buy_price</th>\n",
       "      <th>quantity_owned</th>\n",
       "    </tr>\n",
       "  </thead>\n",
       "  <tbody>\n",
       "    <tr>\n",
       "      <th>first</th>\n",
       "      <td>Alphabet</td>\n",
       "      <td>$950</td>\n",
       "      <td>1564</td>\n",
       "    </tr>\n",
       "    <tr>\n",
       "      <th>second</th>\n",
       "      <td>Facebook</td>\n",
       "      <td>$160</td>\n",
       "      <td>6546</td>\n",
       "    </tr>\n",
       "    <tr>\n",
       "      <th>third</th>\n",
       "      <td>Apple</td>\n",
       "      <td>$120</td>\n",
       "      <td>5464</td>\n",
       "    </tr>\n",
       "    <tr>\n",
       "      <th>fourth</th>\n",
       "      <td>Tesla</td>\n",
       "      <td>$270</td>\n",
       "      <td>6513</td>\n",
       "    </tr>\n",
       "    <tr>\n",
       "      <th>fifth</th>\n",
       "      <td>Infosys</td>\n",
       "      <td>$15</td>\n",
       "      <td>4155</td>\n",
       "    </tr>\n",
       "  </tbody>\n",
       "</table>\n",
       "</div>"
      ],
      "text/plain": [
       "       stock_name average_buy_price  quantity_owned\n",
       "first    Alphabet              $950            1564\n",
       "second   Facebook              $160            6546\n",
       "third       Apple              $120            5464\n",
       "fourth      Tesla              $270            6513\n",
       "fifth     Infosys               $15            4155"
      ]
     },
     "execution_count": 4,
     "metadata": {},
     "output_type": "execute_result"
    }
   ],
   "source": [
    "df = pd.DataFrame(my_portfolio , originals,columns =[\"stock_name\",\"average_buy_price\",\"quantity_owned\"])\n",
    "df.head()"
   ]
  },
  {
   "cell_type": "markdown",
   "metadata": {},
   "source": [
    "## Use an existing column as an index of a dataframe\n",
    "\n",
    "We will use the column 'stock_name' as the index of the dataframe."
   ]
  },
  {
   "cell_type": "code",
   "execution_count": 5,
   "metadata": {},
   "outputs": [
    {
     "name": "stdout",
     "output_type": "stream",
     "text": [
      "       stock_name average_buy_price  quantity_owned\n",
      "first    Alphabet              $950            1564\n",
      "second   Facebook              $160            6546\n",
      "third       Apple              $120            5464\n",
      "fourth      Tesla              $270            6513\n",
      "fifth     Infosys               $15            4155\n"
     ]
    },
    {
     "data": {
      "text/html": [
       "<div>\n",
       "<style scoped>\n",
       "    .dataframe tbody tr th:only-of-type {\n",
       "        vertical-align: middle;\n",
       "    }\n",
       "\n",
       "    .dataframe tbody tr th {\n",
       "        vertical-align: top;\n",
       "    }\n",
       "\n",
       "    .dataframe thead th {\n",
       "        text-align: right;\n",
       "    }\n",
       "</style>\n",
       "<table border=\"1\" class=\"dataframe\">\n",
       "  <thead>\n",
       "    <tr style=\"text-align: right;\">\n",
       "      <th></th>\n",
       "      <th>quantity_owned</th>\n",
       "      <th>average_buy_price</th>\n",
       "    </tr>\n",
       "  </thead>\n",
       "  <tbody>\n",
       "    <tr>\n",
       "      <th>Alphabet</th>\n",
       "      <td>1564</td>\n",
       "      <td>$950</td>\n",
       "    </tr>\n",
       "    <tr>\n",
       "      <th>Facebook</th>\n",
       "      <td>6546</td>\n",
       "      <td>$160</td>\n",
       "    </tr>\n",
       "    <tr>\n",
       "      <th>Apple</th>\n",
       "      <td>5464</td>\n",
       "      <td>$120</td>\n",
       "    </tr>\n",
       "    <tr>\n",
       "      <th>Tesla</th>\n",
       "      <td>6513</td>\n",
       "      <td>$270</td>\n",
       "    </tr>\n",
       "    <tr>\n",
       "      <th>Infosys</th>\n",
       "      <td>4155</td>\n",
       "      <td>$15</td>\n",
       "    </tr>\n",
       "  </tbody>\n",
       "</table>\n",
       "</div>"
      ],
      "text/plain": [
       "          quantity_owned average_buy_price\n",
       "Alphabet            1564              $950\n",
       "Facebook            6546              $160\n",
       "Apple               5464              $120\n",
       "Tesla               6513              $270\n",
       "Infosys             4155               $15"
      ]
     },
     "execution_count": 5,
     "metadata": {},
     "output_type": "execute_result"
    }
   ],
   "source": [
    "my_portfolio_frame = pd.DataFrame (my_portfolio, \n",
    "                                   columns = [\"quantity_owned\",\"average_buy_price\"],\n",
    "                                   index = my_portfolio [\"stock_name\"])\n",
    "print(df.head())\n",
    "my_portfolio_frame"
   ]
  },
  {
   "cell_type": "markdown",
   "metadata": {},
   "source": [
    "## Access a column in a dataframe \n",
    "\n",
    "You can access or retrieve a single or multiple columns by their names or by their location. "
   ]
  },
  {
   "cell_type": "code",
   "execution_count": 6,
   "metadata": {},
   "outputs": [
    {
     "name": "stdout",
     "output_type": "stream",
     "text": [
      "first     1564\n",
      "second    6546\n",
      "third     5464\n",
      "fourth    6513\n",
      "fifth     4155\n",
      "Name: quantity_owned, dtype: int64\n",
      "first     1564\n",
      "second    6546\n",
      "third     5464\n",
      "fourth    6513\n",
      "fifth     4155\n",
      "Name: quantity_owned, dtype: int64\n"
     ]
    }
   ],
   "source": [
    "print(df[\"quantity_owned\"])\n",
    "print(df.quantity_owned)"
   ]
  },
  {
   "cell_type": "markdown",
   "metadata": {},
   "source": [
    "## Load financial market data\n",
    "\n",
    "This is a recap from the section 'Importing Data and Data Visualisation'. We have done this in a <b>pd.read_csv()</b> iPython notebook."
   ]
  },
  {
   "cell_type": "code",
   "execution_count": 7,
   "metadata": {},
   "outputs": [
    {
     "name": "stdout",
     "output_type": "stream",
     "text": [
      "              Ticker          Date/Time      Open      High       Low  \\\n",
      "0  BANKNIFTY20FEBFUT  20-01-02 00:00:00  32444.85  32711.15  32394.00   \n",
      "1  BANKNIFTY20FEBFUT  20-01-03 00:00:00  32510.00  32539.70  32184.40   \n",
      "2  BANKNIFTY20FEBFUT  20-01-06 00:00:00  32080.20  32109.70  31403.95   \n",
      "3  BANKNIFTY20FEBFUT  20-01-07 00:00:00  31740.30  32018.45  31410.00   \n",
      "4  BANKNIFTY20FEBFUT  20-01-08 00:00:00  31191.95  31645.60  31067.15   \n",
      "\n",
      "      Close  Volume  \n",
      "0  32685.85   25920  \n",
      "1  32266.85   37860  \n",
      "2  31474.10   63980  \n",
      "3  31598.55   60220  \n",
      "4  31559.05   72340  \n",
      "               Ticker          Date/Time      Open      High       Low  \\\n",
      "34  BANKNIFTY20FEBFUT  20-02-18 00:00:00  30655.85  30707.15  30282.55   \n",
      "35  BANKNIFTY20FEBFUT  20-02-19 00:00:00  30875.00  30940.00  30652.00   \n",
      "36  BANKNIFTY20FEBFUT  20-02-20 00:00:00  30784.00  31098.40  30698.60   \n",
      "37  BANKNIFTY20FEBFUT  20-02-24 00:00:00  30615.00  30688.80  30393.35   \n",
      "38  BANKNIFTY20FEBFUT  20-02-25 00:00:00  30500.05  30631.10  30365.00   \n",
      "\n",
      "      Close   Volume  \n",
      "34  30581.4  3223260  \n",
      "35  30856.4  2785900  \n",
      "36  30938.7  3124380  \n",
      "37  30423.0  3124800  \n",
      "38  30479.6  1955980  \n"
     ]
    },
    {
     "data": {
      "text/plain": [
       "pandas.core.frame.DataFrame"
      ]
     },
     "execution_count": 7,
     "metadata": {},
     "output_type": "execute_result"
    }
   ],
   "source": [
    "bk = pd.read_csv(r\"C:\\Users\\ramsu\\ltphd\\banknifty_feb Future daily.csv\")\n",
    "\n",
    "print(bk.head())\n",
    "print(bk.tail())\n",
    "type(bk)"
   ]
  },
  {
   "cell_type": "markdown",
   "metadata": {},
   "source": [
    "## Dropping rows and/or columns \n",
    "\n",
    "In the above Infosys stock data, it is not necessary that you need all the columns which are present in the .csv file. Hence, to make your dataframe more understandable, you may drop the columns that you do not need using drop function.<br>\n",
    "<br>\n",
    "General Syntax for dropping columns:<br>\n",
    "<pre>DataFrame.drop(['Column_name'])</pre>\n",
    "General Syntax for dropping rows:<br>\n",
    "<pre>DataFrame.drop(DataFrame.index[[x,y,z...]]</pre>\n",
    "where x,y,z are row index values"
   ]
  },
  {
   "cell_type": "code",
   "execution_count": 8,
   "metadata": {},
   "outputs": [
    {
     "data": {
      "text/html": [
       "<div>\n",
       "<style scoped>\n",
       "    .dataframe tbody tr th:only-of-type {\n",
       "        vertical-align: middle;\n",
       "    }\n",
       "\n",
       "    .dataframe tbody tr th {\n",
       "        vertical-align: top;\n",
       "    }\n",
       "\n",
       "    .dataframe thead th {\n",
       "        text-align: right;\n",
       "    }\n",
       "</style>\n",
       "<table border=\"1\" class=\"dataframe\">\n",
       "  <thead>\n",
       "    <tr style=\"text-align: right;\">\n",
       "      <th></th>\n",
       "      <th>Ticker</th>\n",
       "      <th>Date/Time</th>\n",
       "      <th>Open</th>\n",
       "      <th>High</th>\n",
       "      <th>Low</th>\n",
       "      <th>Close</th>\n",
       "    </tr>\n",
       "  </thead>\n",
       "  <tbody>\n",
       "    <tr>\n",
       "      <th>0</th>\n",
       "      <td>BANKNIFTY20FEBFUT</td>\n",
       "      <td>20-01-02 00:00:00</td>\n",
       "      <td>32444.85</td>\n",
       "      <td>32711.15</td>\n",
       "      <td>32394.00</td>\n",
       "      <td>32685.85</td>\n",
       "    </tr>\n",
       "    <tr>\n",
       "      <th>1</th>\n",
       "      <td>BANKNIFTY20FEBFUT</td>\n",
       "      <td>20-01-03 00:00:00</td>\n",
       "      <td>32510.00</td>\n",
       "      <td>32539.70</td>\n",
       "      <td>32184.40</td>\n",
       "      <td>32266.85</td>\n",
       "    </tr>\n",
       "    <tr>\n",
       "      <th>2</th>\n",
       "      <td>BANKNIFTY20FEBFUT</td>\n",
       "      <td>20-01-06 00:00:00</td>\n",
       "      <td>32080.20</td>\n",
       "      <td>32109.70</td>\n",
       "      <td>31403.95</td>\n",
       "      <td>31474.10</td>\n",
       "    </tr>\n",
       "    <tr>\n",
       "      <th>3</th>\n",
       "      <td>BANKNIFTY20FEBFUT</td>\n",
       "      <td>20-01-07 00:00:00</td>\n",
       "      <td>31740.30</td>\n",
       "      <td>32018.45</td>\n",
       "      <td>31410.00</td>\n",
       "      <td>31598.55</td>\n",
       "    </tr>\n",
       "    <tr>\n",
       "      <th>4</th>\n",
       "      <td>BANKNIFTY20FEBFUT</td>\n",
       "      <td>20-01-08 00:00:00</td>\n",
       "      <td>31191.95</td>\n",
       "      <td>31645.60</td>\n",
       "      <td>31067.15</td>\n",
       "      <td>31559.05</td>\n",
       "    </tr>\n",
       "  </tbody>\n",
       "</table>\n",
       "</div>"
      ],
      "text/plain": [
       "              Ticker          Date/Time      Open      High       Low  \\\n",
       "0  BANKNIFTY20FEBFUT  20-01-02 00:00:00  32444.85  32711.15  32394.00   \n",
       "1  BANKNIFTY20FEBFUT  20-01-03 00:00:00  32510.00  32539.70  32184.40   \n",
       "2  BANKNIFTY20FEBFUT  20-01-06 00:00:00  32080.20  32109.70  31403.95   \n",
       "3  BANKNIFTY20FEBFUT  20-01-07 00:00:00  31740.30  32018.45  31410.00   \n",
       "4  BANKNIFTY20FEBFUT  20-01-08 00:00:00  31191.95  31645.60  31067.15   \n",
       "\n",
       "      Close  \n",
       "0  32685.85  \n",
       "1  32266.85  \n",
       "2  31474.10  \n",
       "3  31598.55  \n",
       "4  31559.05  "
      ]
     },
     "execution_count": 8,
     "metadata": {},
     "output_type": "execute_result"
    }
   ],
   "source": [
    "bk_new=bk.drop(columns = ['Volume'])\n",
    "bk_new.head()"
   ]
  },
  {
   "cell_type": "code",
   "execution_count": 9,
   "metadata": {},
   "outputs": [
    {
     "data": {
      "text/html": [
       "<div>\n",
       "<style scoped>\n",
       "    .dataframe tbody tr th:only-of-type {\n",
       "        vertical-align: middle;\n",
       "    }\n",
       "\n",
       "    .dataframe tbody tr th {\n",
       "        vertical-align: top;\n",
       "    }\n",
       "\n",
       "    .dataframe thead th {\n",
       "        text-align: right;\n",
       "    }\n",
       "</style>\n",
       "<table border=\"1\" class=\"dataframe\">\n",
       "  <thead>\n",
       "    <tr style=\"text-align: right;\">\n",
       "      <th></th>\n",
       "      <th>Ticker</th>\n",
       "      <th>Date/Time</th>\n",
       "      <th>Open</th>\n",
       "      <th>High</th>\n",
       "      <th>Low</th>\n",
       "      <th>Close</th>\n",
       "    </tr>\n",
       "  </thead>\n",
       "  <tbody>\n",
       "    <tr>\n",
       "      <th>0</th>\n",
       "      <td>BANKNIFTY20FEBFUT</td>\n",
       "      <td>20-01-02 00:00:00</td>\n",
       "      <td>32444.85</td>\n",
       "      <td>32711.15</td>\n",
       "      <td>32394.0</td>\n",
       "      <td>32685.85</td>\n",
       "    </tr>\n",
       "    <tr>\n",
       "      <th>1</th>\n",
       "      <td>BANKNIFTY20FEBFUT</td>\n",
       "      <td>20-01-03 00:00:00</td>\n",
       "      <td>32510.00</td>\n",
       "      <td>32539.70</td>\n",
       "      <td>32184.4</td>\n",
       "      <td>32266.85</td>\n",
       "    </tr>\n",
       "    <tr>\n",
       "      <th>5</th>\n",
       "      <td>BANKNIFTY20FEBFUT</td>\n",
       "      <td>20-01-09 00:00:00</td>\n",
       "      <td>31874.10</td>\n",
       "      <td>32307.00</td>\n",
       "      <td>31874.1</td>\n",
       "      <td>32265.90</td>\n",
       "    </tr>\n",
       "    <tr>\n",
       "      <th>6</th>\n",
       "      <td>BANKNIFTY20FEBFUT</td>\n",
       "      <td>20-01-10 00:00:00</td>\n",
       "      <td>32313.30</td>\n",
       "      <td>32489.55</td>\n",
       "      <td>32100.0</td>\n",
       "      <td>32231.90</td>\n",
       "    </tr>\n",
       "    <tr>\n",
       "      <th>7</th>\n",
       "      <td>BANKNIFTY20FEBFUT</td>\n",
       "      <td>20-01-13 00:00:00</td>\n",
       "      <td>32313.25</td>\n",
       "      <td>32490.00</td>\n",
       "      <td>32245.0</td>\n",
       "      <td>32354.95</td>\n",
       "    </tr>\n",
       "  </tbody>\n",
       "</table>\n",
       "</div>"
      ],
      "text/plain": [
       "              Ticker          Date/Time      Open      High      Low     Close\n",
       "0  BANKNIFTY20FEBFUT  20-01-02 00:00:00  32444.85  32711.15  32394.0  32685.85\n",
       "1  BANKNIFTY20FEBFUT  20-01-03 00:00:00  32510.00  32539.70  32184.4  32266.85\n",
       "5  BANKNIFTY20FEBFUT  20-01-09 00:00:00  31874.10  32307.00  31874.1  32265.90\n",
       "6  BANKNIFTY20FEBFUT  20-01-10 00:00:00  32313.30  32489.55  32100.0  32231.90\n",
       "7  BANKNIFTY20FEBFUT  20-01-13 00:00:00  32313.25  32490.00  32245.0  32354.95"
      ]
     },
     "execution_count": 9,
     "metadata": {},
     "output_type": "execute_result"
    }
   ],
   "source": [
    "bk_new.drop(bk_new.index[[2,3,4]]).head()"
   ]
  },
  {
   "cell_type": "markdown",
   "metadata": {},
   "source": [
    "## Rename columns\n",
    " \n",
    "If we want to rename the column names, while dealing with the dataframe we need to use the rename function. "
   ]
  },
  {
   "cell_type": "code",
   "execution_count": 10,
   "metadata": {},
   "outputs": [
    {
     "data": {
      "text/html": [
       "<div>\n",
       "<style scoped>\n",
       "    .dataframe tbody tr th:only-of-type {\n",
       "        vertical-align: middle;\n",
       "    }\n",
       "\n",
       "    .dataframe tbody tr th {\n",
       "        vertical-align: top;\n",
       "    }\n",
       "\n",
       "    .dataframe thead th {\n",
       "        text-align: right;\n",
       "    }\n",
       "</style>\n",
       "<table border=\"1\" class=\"dataframe\">\n",
       "  <thead>\n",
       "    <tr style=\"text-align: right;\">\n",
       "      <th></th>\n",
       "      <th>Ticker</th>\n",
       "      <th>DT</th>\n",
       "      <th>Open</th>\n",
       "      <th>High</th>\n",
       "      <th>Low</th>\n",
       "      <th>Close</th>\n",
       "    </tr>\n",
       "  </thead>\n",
       "  <tbody>\n",
       "    <tr>\n",
       "      <th>0</th>\n",
       "      <td>BANKNIFTY20FEBFUT</td>\n",
       "      <td>20-01-02 00:00:00</td>\n",
       "      <td>32444.85</td>\n",
       "      <td>32711.15</td>\n",
       "      <td>32394.00</td>\n",
       "      <td>32685.85</td>\n",
       "    </tr>\n",
       "    <tr>\n",
       "      <th>1</th>\n",
       "      <td>BANKNIFTY20FEBFUT</td>\n",
       "      <td>20-01-03 00:00:00</td>\n",
       "      <td>32510.00</td>\n",
       "      <td>32539.70</td>\n",
       "      <td>32184.40</td>\n",
       "      <td>32266.85</td>\n",
       "    </tr>\n",
       "    <tr>\n",
       "      <th>2</th>\n",
       "      <td>BANKNIFTY20FEBFUT</td>\n",
       "      <td>20-01-06 00:00:00</td>\n",
       "      <td>32080.20</td>\n",
       "      <td>32109.70</td>\n",
       "      <td>31403.95</td>\n",
       "      <td>31474.10</td>\n",
       "    </tr>\n",
       "    <tr>\n",
       "      <th>3</th>\n",
       "      <td>BANKNIFTY20FEBFUT</td>\n",
       "      <td>20-01-07 00:00:00</td>\n",
       "      <td>31740.30</td>\n",
       "      <td>32018.45</td>\n",
       "      <td>31410.00</td>\n",
       "      <td>31598.55</td>\n",
       "    </tr>\n",
       "    <tr>\n",
       "      <th>4</th>\n",
       "      <td>BANKNIFTY20FEBFUT</td>\n",
       "      <td>20-01-08 00:00:00</td>\n",
       "      <td>31191.95</td>\n",
       "      <td>31645.60</td>\n",
       "      <td>31067.15</td>\n",
       "      <td>31559.05</td>\n",
       "    </tr>\n",
       "  </tbody>\n",
       "</table>\n",
       "</div>"
      ],
      "text/plain": [
       "              Ticker                 DT      Open      High       Low  \\\n",
       "0  BANKNIFTY20FEBFUT  20-01-02 00:00:00  32444.85  32711.15  32394.00   \n",
       "1  BANKNIFTY20FEBFUT  20-01-03 00:00:00  32510.00  32539.70  32184.40   \n",
       "2  BANKNIFTY20FEBFUT  20-01-06 00:00:00  32080.20  32109.70  31403.95   \n",
       "3  BANKNIFTY20FEBFUT  20-01-07 00:00:00  31740.30  32018.45  31410.00   \n",
       "4  BANKNIFTY20FEBFUT  20-01-08 00:00:00  31191.95  31645.60  31067.15   \n",
       "\n",
       "      Close  \n",
       "0  32685.85  \n",
       "1  32266.85  \n",
       "2  31474.10  \n",
       "3  31598.55  \n",
       "4  31559.05  "
      ]
     },
     "execution_count": 10,
     "metadata": {},
     "output_type": "execute_result"
    }
   ],
   "source": [
    "bk_new.rename(columns = { \"Date/Time\" : \"DT\"}).head()"
   ]
  },
  {
   "cell_type": "markdown",
   "metadata": {},
   "source": [
    "## Sort a dataframe using a column \n",
    "\n",
    "Sometimes it becomes necessary to sort a stock price dataframe, based on the 'Closing Price'."
   ]
  },
  {
   "cell_type": "code",
   "execution_count": 11,
   "metadata": {},
   "outputs": [
    {
     "data": {
      "text/html": [
       "<div>\n",
       "<style scoped>\n",
       "    .dataframe tbody tr th:only-of-type {\n",
       "        vertical-align: middle;\n",
       "    }\n",
       "\n",
       "    .dataframe tbody tr th {\n",
       "        vertical-align: top;\n",
       "    }\n",
       "\n",
       "    .dataframe thead th {\n",
       "        text-align: right;\n",
       "    }\n",
       "</style>\n",
       "<table border=\"1\" class=\"dataframe\">\n",
       "  <thead>\n",
       "    <tr style=\"text-align: right;\">\n",
       "      <th></th>\n",
       "      <th>Ticker</th>\n",
       "      <th>Date/Time</th>\n",
       "      <th>Open</th>\n",
       "      <th>High</th>\n",
       "      <th>Low</th>\n",
       "      <th>Close</th>\n",
       "    </tr>\n",
       "  </thead>\n",
       "  <tbody>\n",
       "    <tr>\n",
       "      <th>0</th>\n",
       "      <td>BANKNIFTY20FEBFUT</td>\n",
       "      <td>20-01-02 00:00:00</td>\n",
       "      <td>32444.85</td>\n",
       "      <td>32711.15</td>\n",
       "      <td>32394.00</td>\n",
       "      <td>32685.85</td>\n",
       "    </tr>\n",
       "    <tr>\n",
       "      <th>1</th>\n",
       "      <td>BANKNIFTY20FEBFUT</td>\n",
       "      <td>20-01-03 00:00:00</td>\n",
       "      <td>32510.00</td>\n",
       "      <td>32539.70</td>\n",
       "      <td>32184.40</td>\n",
       "      <td>32266.85</td>\n",
       "    </tr>\n",
       "    <tr>\n",
       "      <th>2</th>\n",
       "      <td>BANKNIFTY20FEBFUT</td>\n",
       "      <td>20-01-06 00:00:00</td>\n",
       "      <td>32080.20</td>\n",
       "      <td>32109.70</td>\n",
       "      <td>31403.95</td>\n",
       "      <td>31474.10</td>\n",
       "    </tr>\n",
       "    <tr>\n",
       "      <th>3</th>\n",
       "      <td>BANKNIFTY20FEBFUT</td>\n",
       "      <td>20-01-07 00:00:00</td>\n",
       "      <td>31740.30</td>\n",
       "      <td>32018.45</td>\n",
       "      <td>31410.00</td>\n",
       "      <td>31598.55</td>\n",
       "    </tr>\n",
       "    <tr>\n",
       "      <th>4</th>\n",
       "      <td>BANKNIFTY20FEBFUT</td>\n",
       "      <td>20-01-08 00:00:00</td>\n",
       "      <td>31191.95</td>\n",
       "      <td>31645.60</td>\n",
       "      <td>31067.15</td>\n",
       "      <td>31559.05</td>\n",
       "    </tr>\n",
       "  </tbody>\n",
       "</table>\n",
       "</div>"
      ],
      "text/plain": [
       "              Ticker          Date/Time      Open      High       Low  \\\n",
       "0  BANKNIFTY20FEBFUT  20-01-02 00:00:00  32444.85  32711.15  32394.00   \n",
       "1  BANKNIFTY20FEBFUT  20-01-03 00:00:00  32510.00  32539.70  32184.40   \n",
       "2  BANKNIFTY20FEBFUT  20-01-06 00:00:00  32080.20  32109.70  31403.95   \n",
       "3  BANKNIFTY20FEBFUT  20-01-07 00:00:00  31740.30  32018.45  31410.00   \n",
       "4  BANKNIFTY20FEBFUT  20-01-08 00:00:00  31191.95  31645.60  31067.15   \n",
       "\n",
       "      Close  \n",
       "0  32685.85  \n",
       "1  32266.85  \n",
       "2  31474.10  \n",
       "3  31598.55  \n",
       "4  31559.05  "
      ]
     },
     "execution_count": 11,
     "metadata": {},
     "output_type": "execute_result"
    }
   ],
   "source": [
    "#bk_new.Close=np.sort(bk_new.Close)\n",
    "\n",
    "# print(bk_new.Close.head())\n",
    "# bk_new.head(20)\n",
    "\n",
    "# \"\"\"I have corruped the data doing this \"\"\"\n",
    "\n",
    "bk_new.head()"
   ]
  },
  {
   "cell_type": "code",
   "execution_count": 12,
   "metadata": {},
   "outputs": [
    {
     "name": "stdout",
     "output_type": "stream",
     "text": [
      "              Ticker          Date/Time      Open      High      Low     Close\n",
      "0  BANKNIFTY20FEBFUT  20-01-02 00:00:00  32444.85  32711.15  32394.0  32685.85\n",
      "7  BANKNIFTY20FEBFUT  20-01-13 00:00:00  32313.25  32490.00  32245.0  32354.95\n",
      "8  BANKNIFTY20FEBFUT  20-01-14 00:00:00  32307.75  32363.25  32154.8  32282.80\n",
      "1  BANKNIFTY20FEBFUT  20-01-03 00:00:00  32510.00  32539.70  32184.4  32266.85\n",
      "5  BANKNIFTY20FEBFUT  20-01-09 00:00:00  31874.10  32307.00  31874.1  32265.90\n"
     ]
    },
    {
     "data": {
      "text/plain": [
       "'Data is not corrupted'"
      ]
     },
     "execution_count": 12,
     "metadata": {},
     "output_type": "execute_result"
    }
   ],
   "source": [
    "bk_new = bk_new.sort_values(by= \"Close\",ascending = False)\n",
    "print(bk_new.head())\n",
    "\n",
    "\"Data is not corrupted\" "
   ]
  },
  {
   "cell_type": "code",
   "execution_count": 13,
   "metadata": {},
   "outputs": [
    {
     "data": {
      "text/html": [
       "<div>\n",
       "<style scoped>\n",
       "    .dataframe tbody tr th:only-of-type {\n",
       "        vertical-align: middle;\n",
       "    }\n",
       "\n",
       "    .dataframe tbody tr th {\n",
       "        vertical-align: top;\n",
       "    }\n",
       "\n",
       "    .dataframe thead th {\n",
       "        text-align: right;\n",
       "    }\n",
       "</style>\n",
       "<table border=\"1\" class=\"dataframe\">\n",
       "  <thead>\n",
       "    <tr style=\"text-align: right;\">\n",
       "      <th></th>\n",
       "      <th>Jay</th>\n",
       "      <th>Varun</th>\n",
       "      <th>Devang</th>\n",
       "      <th>Ishan</th>\n",
       "      <th>Vibhu</th>\n",
       "    </tr>\n",
       "  </thead>\n",
       "  <tbody>\n",
       "    <tr>\n",
       "      <th>January</th>\n",
       "      <td>87.391348</td>\n",
       "      <td>-3539.928946</td>\n",
       "      <td>-19045.217959</td>\n",
       "      <td>-3124.391999</td>\n",
       "      <td>7169.691272</td>\n",
       "    </tr>\n",
       "    <tr>\n",
       "      <th>February</th>\n",
       "      <td>8575.612982</td>\n",
       "      <td>-7029.204992</td>\n",
       "      <td>11441.185341</td>\n",
       "      <td>2978.403243</td>\n",
       "      <td>4061.119422</td>\n",
       "    </tr>\n",
       "    <tr>\n",
       "      <th>March</th>\n",
       "      <td>-3216.217931</td>\n",
       "      <td>15306.868386</td>\n",
       "      <td>12303.092593</td>\n",
       "      <td>4134.097096</td>\n",
       "      <td>-9883.118718</td>\n",
       "    </tr>\n",
       "    <tr>\n",
       "      <th>April</th>\n",
       "      <td>-1817.626771</td>\n",
       "      <td>-21713.043825</td>\n",
       "      <td>-13594.449913</td>\n",
       "      <td>938.960751</td>\n",
       "      <td>3387.526484</td>\n",
       "    </tr>\n",
       "    <tr>\n",
       "      <th>May</th>\n",
       "      <td>-9262.073810</td>\n",
       "      <td>5380.278223</td>\n",
       "      <td>12968.006264</td>\n",
       "      <td>-8470.150093</td>\n",
       "      <td>464.573809</td>\n",
       "    </tr>\n",
       "  </tbody>\n",
       "</table>\n",
       "</div>"
      ],
      "text/plain": [
       "                  Jay         Varun        Devang        Ishan        Vibhu\n",
       "January     87.391348  -3539.928946 -19045.217959 -3124.391999  7169.691272\n",
       "February  8575.612982  -7029.204992  11441.185341  2978.403243  4061.119422\n",
       "March    -3216.217931  15306.868386  12303.092593  4134.097096 -9883.118718\n",
       "April    -1817.626771 -21713.043825 -13594.449913   938.960751  3387.526484\n",
       "May      -9262.073810   5380.278223  12968.006264 -8470.150093   464.573809"
      ]
     },
     "execution_count": 13,
     "metadata": {},
     "output_type": "execute_result"
    }
   ],
   "source": [
    "names = ['Jay', 'Varun', 'Devang', 'Ishan', 'Vibhu']\n",
    "\n",
    "months = [\"January\", \"February\", \"March\",\n",
    "         \"April\", \"May\", \"June\",\n",
    "         \"July\", \"August\", \"September\",\n",
    "         \"October\", \"November\", \"December\"]\n",
    "\n",
    "df = pd.DataFrame(np.random.randn (12, 5)*10000, columns = names, index = months)\n",
    "\n",
    "df.head()"
   ]
  },
  {
   "cell_type": "code",
   "execution_count": null,
   "metadata": {},
   "outputs": [],
   "source": []
  }
 ],
 "metadata": {
  "kernelspec": {
   "display_name": "Python 3",
   "language": "python",
   "name": "python3"
  },
  "language_info": {
   "codemirror_mode": {
    "name": "ipython",
    "version": 3
   },
   "file_extension": ".py",
   "mimetype": "text/x-python",
   "name": "python",
   "nbconvert_exporter": "python",
   "pygments_lexer": "ipython3",
   "version": "3.7.6"
  }
 },
 "nbformat": 4,
 "nbformat_minor": 4
}
