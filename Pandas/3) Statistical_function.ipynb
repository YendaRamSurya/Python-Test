{
 "cells": [
  {
   "cell_type": "markdown",
   "metadata": {},
   "source": [
    "# Notebook Contents\n",
    "\n",
    "In this particular notebook, we will have a look at the different descriptive statistical functions available in Pandas. \n",
    "\n",
    "##### <span style=\"color:green\">1. DataFrame.count()</span>\n",
    "##### <span style=\"color:green\">2. DataFrame.min()</span> \n",
    "#####  <span style=\"color:green\">3. DataFrame.max()</span>\n",
    "##### <span style=\"color:green\">4. DataFrame.mean()</span>\n",
    "##### <span style=\"color:green\">5. DataFrame.median</span>\n",
    "##### <span style=\"color:green\">6. DataFrame.mode()</span>\n",
    "##### <span style=\"color:green\">7. DataFrame.sum()</span>\n",
    "##### <span style=\"color:green\">8. DataFrame.diff()</span>\n",
    "##### <span style=\"color:green\">9. DataFrame.pct_change()</span>\n",
    "##### <span style=\"color:green\">10. DataFrame.var()</span>\n",
    "##### <span style=\"color:green\">11. DataFrame.std()</span>\n",
    "##### <span style=\"color:green\">12. DataFrame.rolling(window=).mean()</span>\n",
    "##### <span style=\"color:green\">13. DataFrame.expanding(min_periods=).mean()</span>\n",
    "##### <span style=\"color:green\">14. DataFrame.cov()</span>\n",
    "##### <span style=\"color:green\">15. DataFrame.cor()</span>\n",
    "##### <span style=\"color:green\">16. DataFrame.kur()</span>\n",
    "##### <span style=\"color:green\">17. DataFrame.skew()</span>"
   ]
  },
  {
   "cell_type": "code",
   "execution_count": 7,
   "metadata": {},
   "outputs": [
    {
     "data": {
      "text/html": [
       "<div>\n",
       "<style scoped>\n",
       "    .dataframe tbody tr th:only-of-type {\n",
       "        vertical-align: middle;\n",
       "    }\n",
       "\n",
       "    .dataframe tbody tr th {\n",
       "        vertical-align: top;\n",
       "    }\n",
       "\n",
       "    .dataframe thead th {\n",
       "        text-align: right;\n",
       "    }\n",
       "</style>\n",
       "<table border=\"1\" class=\"dataframe\">\n",
       "  <thead>\n",
       "    <tr style=\"text-align: right;\">\n",
       "      <th></th>\n",
       "      <th>Ticker</th>\n",
       "      <th>Date/Time</th>\n",
       "      <th>Open</th>\n",
       "      <th>High</th>\n",
       "      <th>Low</th>\n",
       "      <th>Close</th>\n",
       "      <th>Volume</th>\n",
       "    </tr>\n",
       "  </thead>\n",
       "  <tbody>\n",
       "    <tr>\n",
       "      <th>0</th>\n",
       "      <td>BANKNIFTY20FEBFUT</td>\n",
       "      <td>20-01-02 00:00:00</td>\n",
       "      <td>32444.85</td>\n",
       "      <td>32711.15</td>\n",
       "      <td>32394.00</td>\n",
       "      <td>32685.85</td>\n",
       "      <td>25920</td>\n",
       "    </tr>\n",
       "    <tr>\n",
       "      <th>1</th>\n",
       "      <td>BANKNIFTY20FEBFUT</td>\n",
       "      <td>20-01-03 00:00:00</td>\n",
       "      <td>32510.00</td>\n",
       "      <td>32539.70</td>\n",
       "      <td>32184.40</td>\n",
       "      <td>32266.85</td>\n",
       "      <td>37860</td>\n",
       "    </tr>\n",
       "    <tr>\n",
       "      <th>2</th>\n",
       "      <td>BANKNIFTY20FEBFUT</td>\n",
       "      <td>20-01-06 00:00:00</td>\n",
       "      <td>32080.20</td>\n",
       "      <td>32109.70</td>\n",
       "      <td>31403.95</td>\n",
       "      <td>31474.10</td>\n",
       "      <td>63980</td>\n",
       "    </tr>\n",
       "    <tr>\n",
       "      <th>3</th>\n",
       "      <td>BANKNIFTY20FEBFUT</td>\n",
       "      <td>20-01-07 00:00:00</td>\n",
       "      <td>31740.30</td>\n",
       "      <td>32018.45</td>\n",
       "      <td>31410.00</td>\n",
       "      <td>31598.55</td>\n",
       "      <td>60220</td>\n",
       "    </tr>\n",
       "    <tr>\n",
       "      <th>4</th>\n",
       "      <td>BANKNIFTY20FEBFUT</td>\n",
       "      <td>20-01-08 00:00:00</td>\n",
       "      <td>31191.95</td>\n",
       "      <td>31645.60</td>\n",
       "      <td>31067.15</td>\n",
       "      <td>31559.05</td>\n",
       "      <td>72340</td>\n",
       "    </tr>\n",
       "  </tbody>\n",
       "</table>\n",
       "</div>"
      ],
      "text/plain": [
       "              Ticker          Date/Time      Open      High       Low  \\\n",
       "0  BANKNIFTY20FEBFUT  20-01-02 00:00:00  32444.85  32711.15  32394.00   \n",
       "1  BANKNIFTY20FEBFUT  20-01-03 00:00:00  32510.00  32539.70  32184.40   \n",
       "2  BANKNIFTY20FEBFUT  20-01-06 00:00:00  32080.20  32109.70  31403.95   \n",
       "3  BANKNIFTY20FEBFUT  20-01-07 00:00:00  31740.30  32018.45  31410.00   \n",
       "4  BANKNIFTY20FEBFUT  20-01-08 00:00:00  31191.95  31645.60  31067.15   \n",
       "\n",
       "      Close  Volume  \n",
       "0  32685.85   25920  \n",
       "1  32266.85   37860  \n",
       "2  31474.10   63980  \n",
       "3  31598.55   60220  \n",
       "4  31559.05   72340  "
      ]
     },
     "execution_count": 7,
     "metadata": {},
     "output_type": "execute_result"
    }
   ],
   "source": [
    "# Loading and viewing data\n",
    "\n",
    "# We have stored an 'infy.csv' file\n",
    "\n",
    "import numpy as np\n",
    "import pandas as pd\n",
    "\n",
    "bk = pd.read_csv (r\"C:\\Users\\ramsu\\ltphd\\banknifty_feb Future daily.csv\")\n",
    "bk.head()"
   ]
  },
  {
   "cell_type": "markdown",
   "metadata": {},
   "source": [
    "### DataFrame.count()\n",
    "\n",
    "This method returns the number of non-null observations over the requested observations.\n"
   ]
  },
  {
   "cell_type": "code",
   "execution_count": 8,
   "metadata": {},
   "outputs": [
    {
     "data": {
      "text/plain": [
       "Ticker       39\n",
       "Date/Time    39\n",
       "Open         39\n",
       "High         39\n",
       "Low          39\n",
       "Close        39\n",
       "Volume       39\n",
       "dtype: int64"
      ]
     },
     "execution_count": 8,
     "metadata": {},
     "output_type": "execute_result"
    }
   ],
   "source": [
    "bk.count()"
   ]
  },
  {
   "cell_type": "code",
   "execution_count": 10,
   "metadata": {},
   "outputs": [
    {
     "data": {
      "text/plain": [
       "39"
      ]
     },
     "execution_count": 10,
     "metadata": {},
     "output_type": "execute_result"
    }
   ],
   "source": [
    "bk.Close.count()"
   ]
  },
  {
   "cell_type": "markdown",
   "metadata": {},
   "source": [
    "### DataFrame.min()\n",
    "\n",
    "This method returns the minimum value over the requested observations."
   ]
  },
  {
   "cell_type": "code",
   "execution_count": 11,
   "metadata": {},
   "outputs": [
    {
     "data": {
      "text/plain": [
       "Ticker       BANKNIFTY20FEBFUT\n",
       "Date/Time    20-01-02 00:00:00\n",
       "Open                   29729.9\n",
       "High                     30110\n",
       "Low                      29530\n",
       "Close                  29873.4\n",
       "Volume                   25920\n",
       "dtype: object"
      ]
     },
     "execution_count": 11,
     "metadata": {},
     "output_type": "execute_result"
    }
   ],
   "source": [
    "bk.min()"
   ]
  },
  {
   "cell_type": "code",
   "execution_count": 12,
   "metadata": {},
   "outputs": [
    {
     "data": {
      "text/plain": [
       "29873.4"
      ]
     },
     "execution_count": 12,
     "metadata": {},
     "output_type": "execute_result"
    }
   ],
   "source": [
    "bk.Close.min()"
   ]
  },
  {
   "cell_type": "markdown",
   "metadata": {},
   "source": [
    "<b>Please Note</b>: All these functions are applied to the entire dataframe and not just a single column. Refer to the DataFrame.count() example if you want to apply these methods to the entire dataframe."
   ]
  },
  {
   "cell_type": "markdown",
   "metadata": {},
   "source": [
    "### DataFrame.max()\n",
    "\n",
    "This method returns the maximum value over the requested observations.\n"
   ]
  },
  {
   "cell_type": "code",
   "execution_count": 13,
   "metadata": {},
   "outputs": [
    {
     "data": {
      "text/plain": [
       "Ticker       BANKNIFTY20FEBFUT\n",
       "Date/Time    20-02-25 00:00:00\n",
       "Open                     32510\n",
       "High                   32711.2\n",
       "Low                      32394\n",
       "Close                  32685.8\n",
       "Volume                 5831720\n",
       "dtype: object"
      ]
     },
     "execution_count": 13,
     "metadata": {},
     "output_type": "execute_result"
    }
   ],
   "source": [
    "bk.max()"
   ]
  },
  {
   "cell_type": "code",
   "execution_count": 14,
   "metadata": {},
   "outputs": [
    {
     "data": {
      "text/plain": [
       "32685.85"
      ]
     },
     "execution_count": 14,
     "metadata": {},
     "output_type": "execute_result"
    }
   ],
   "source": [
    "bk.Close.max()"
   ]
  },
  {
   "cell_type": "markdown",
   "metadata": {},
   "source": [
    "### DataFrame.mean()\n",
    "\n",
    "This method returns the mean of the requested observations."
   ]
  },
  {
   "cell_type": "code",
   "execution_count": 16,
   "metadata": {},
   "outputs": [
    {
     "data": {
      "text/plain": [
       "Open      3.133611e+04\n",
       "High      3.150833e+04\n",
       "Low       3.108262e+04\n",
       "Close     3.127602e+04\n",
       "Volume    1.655735e+06\n",
       "dtype: float64"
      ]
     },
     "execution_count": 16,
     "metadata": {},
     "output_type": "execute_result"
    }
   ],
   "source": [
    "bk.mean() # strings are automatically neglected "
   ]
  },
  {
   "cell_type": "code",
   "execution_count": 17,
   "metadata": {},
   "outputs": [
    {
     "data": {
      "text/plain": [
       "31276.023076923073"
      ]
     },
     "execution_count": 17,
     "metadata": {},
     "output_type": "execute_result"
    }
   ],
   "source": [
    "bk.Close.mean()"
   ]
  },
  {
   "cell_type": "markdown",
   "metadata": {},
   "source": [
    "### DataFrame.median()\n",
    "\n",
    "This method returns the median of the requested observations."
   ]
  },
  {
   "cell_type": "code",
   "execution_count": 20,
   "metadata": {},
   "outputs": [
    {
     "name": "stdout",
     "output_type": "stream",
     "text": [
      "31211.35\n"
     ]
    }
   ],
   "source": [
    "print(bk[\"Close\"].median())"
   ]
  },
  {
   "cell_type": "code",
   "execution_count": 21,
   "metadata": {},
   "outputs": [
    {
     "data": {
      "text/plain": [
       "Open       31255.20\n",
       "High       31377.70\n",
       "Low        31003.90\n",
       "Close      31211.35\n",
       "Volume    727900.00\n",
       "dtype: float64"
      ]
     },
     "execution_count": 21,
     "metadata": {},
     "output_type": "execute_result"
    }
   ],
   "source": [
    "bk.median()"
   ]
  },
  {
   "cell_type": "markdown",
   "metadata": {},
   "source": [
    "### DataFrame.mode()\n",
    "\n",
    "This method returns the mode of the requested observations."
   ]
  },
  {
   "cell_type": "code",
   "execution_count": 24,
   "metadata": {},
   "outputs": [],
   "source": [
    "bk.Ticker = bk.Ticker.fillna(method=\"ffill\")"
   ]
  },
  {
   "cell_type": "code",
   "execution_count": 25,
   "metadata": {},
   "outputs": [
    {
     "data": {
      "text/plain": [
       "0     29873.40\n",
       "1     30032.15\n",
       "2     30423.00\n",
       "3     30479.60\n",
       "4     30581.40\n",
       "5     30718.45\n",
       "6     30768.40\n",
       "7     30776.35\n",
       "8     30856.40\n",
       "9     30883.05\n",
       "10    30902.10\n",
       "11    30917.60\n",
       "12    30937.30\n",
       "13    30938.70\n",
       "14    30978.65\n",
       "15    30994.90\n",
       "16    31050.35\n",
       "17    31109.85\n",
       "18    31162.60\n",
       "19    31211.35\n",
       "20    31231.35\n",
       "21    31240.40\n",
       "22    31300.65\n",
       "23    31332.85\n",
       "24    31383.30\n",
       "25    31448.15\n",
       "26    31474.10\n",
       "27    31559.05\n",
       "28    31566.90\n",
       "29    31598.55\n",
       "30    31843.55\n",
       "31    32048.85\n",
       "32    32053.35\n",
       "33    32231.90\n",
       "34    32265.90\n",
       "35    32266.85\n",
       "36    32282.80\n",
       "37    32354.95\n",
       "38    32685.85\n",
       "dtype: float64"
      ]
     },
     "execution_count": 25,
     "metadata": {},
     "output_type": "execute_result"
    }
   ],
   "source": [
    "bk.Close.mode()"
   ]
  },
  {
   "cell_type": "markdown",
   "metadata": {},
   "source": [
    "### DataFrame.sum()\n",
    "\n",
    "This method returns the sum of all the values of the requested observations."
   ]
  },
  {
   "cell_type": "code",
   "execution_count": 26,
   "metadata": {},
   "outputs": [
    {
     "name": "stdout",
     "output_type": "stream",
     "text": [
      "1219764.9\n"
     ]
    }
   ],
   "source": [
    "print (bk[\"Close\"].sum())  # If someone just wants to know the sheer amount of Infosys stocks traded over 2 years"
   ]
  },
  {
   "cell_type": "markdown",
   "metadata": {},
   "source": [
    "### DataFrame.diff()\n",
    "This method returns the 'difference' between the current observation and the previous observation."
   ]
  },
  {
   "cell_type": "code",
   "execution_count": 27,
   "metadata": {},
   "outputs": [
    {
     "data": {
      "text/plain": [
       "0         NaN\n",
       "1     -419.00\n",
       "2     -792.75\n",
       "3      124.45\n",
       "4      -39.50\n",
       "5      706.85\n",
       "6      -34.00\n",
       "7      123.05\n",
       "8      -72.15\n",
       "9     -229.45\n",
       "10      -4.50\n",
       "11    -205.30\n",
       "12    -542.90\n",
       "13    -138.05\n",
       "14    -245.00\n",
       "15     293.75\n",
       "16     236.80\n",
       "17    -453.25\n",
       "18    -111.85\n",
       "19      95.60\n",
       "20    -210.25\n",
       "21     168.90\n",
       "22   -1063.90\n",
       "23     158.75\n",
       "24     686.30\n",
       "25     331.90\n",
       "26     282.50\n",
       "27     -92.45\n",
       "28    -130.55\n",
       "29     273.45\n",
       "30     183.60\n",
       "31    -335.55\n",
       "32    -329.25\n",
       "33    -125.75\n",
       "34    -194.95\n",
       "35     275.00\n",
       "36      82.30\n",
       "37    -515.70\n",
       "38      56.60\n",
       "Name: Close, dtype: float64"
      ]
     },
     "execution_count": 27,
     "metadata": {},
     "output_type": "execute_result"
    }
   ],
   "source": [
    "bk.Close.diff()"
   ]
  },
  {
   "cell_type": "markdown",
   "metadata": {},
   "source": [
    "### DataFrame.pct_change()]\n",
    "\n",
    "This method returns the percentage change of the current observation with the previous observation."
   ]
  },
  {
   "cell_type": "code",
   "execution_count": 28,
   "metadata": {},
   "outputs": [
    {
     "data": {
      "text/plain": [
       "0          NaN\n",
       "1    -0.012819\n",
       "2    -0.024569\n",
       "3     0.003954\n",
       "4    -0.001250\n",
       "5     0.022398\n",
       "6    -0.001054\n",
       "7     0.003818\n",
       "8    -0.002230\n",
       "9    -0.007107\n",
       "10   -0.000140\n",
       "11   -0.006406\n",
       "12   -0.017049\n",
       "13   -0.004410\n",
       "14   -0.007862\n",
       "15    0.009501\n",
       "16    0.007587\n",
       "17   -0.014413\n",
       "18   -0.003609\n",
       "19    0.003096\n",
       "20   -0.006787\n",
       "21    0.005489\n",
       "22   -0.034389\n",
       "23    0.005314\n",
       "24    0.022852\n",
       "25    0.010805\n",
       "26    0.009098\n",
       "27   -0.002951\n",
       "28   -0.004179\n",
       "29    0.008790\n",
       "30    0.005850\n",
       "31   -0.010630\n",
       "32   -0.010542\n",
       "33   -0.004069\n",
       "34   -0.006334\n",
       "35    0.008992\n",
       "36    0.002667\n",
       "37   -0.016668\n",
       "38    0.001860\n",
       "Name: Close, dtype: float64"
      ]
     },
     "execution_count": 28,
     "metadata": {},
     "output_type": "execute_result"
    }
   ],
   "source": [
    "bk.Close.pct_change()"
   ]
  },
  {
   "cell_type": "code",
   "execution_count": 29,
   "metadata": {},
   "outputs": [
    {
     "data": {
      "image/png": "[encoded data removed]",
      "text/plain": [
       "<Figure size 720x360 with 1 Axes>"
      ]
     },
     "metadata": {},
     "output_type": "display_data"
    }
   ],
   "source": [
    "import matplotlib.pyplot as plt\n",
    "%matplotlib inline\n",
    "plt.style.use('seaborn-darkgrid') # a package for better visualisation\n",
    "\n",
    "plt.figure(figsize = (10,5))\n",
    "plt.ylabel('Daily returns of Banknifty')\n",
    "bk[\"Close\"].pct_change().plot()\n",
    "plt.show()"
   ]
  },
  {
   "cell_type": "markdown",
   "metadata": {},
   "source": [
    "### DataFrame.var()\n",
    "\n",
    "This method returns the variance of the requested observations."
   ]
  },
  {
   "cell_type": "code",
   "execution_count": 30,
   "metadata": {},
   "outputs": [
    {
     "data": {
      "text/plain": [
       "426000.10682186193"
      ]
     },
     "execution_count": 30,
     "metadata": {},
     "output_type": "execute_result"
    }
   ],
   "source": [
    "bk.Close.var()"
   ]
  },
  {
   "cell_type": "markdown",
   "metadata": {},
   "source": [
    "### DataFrame.std()\n",
    "\n",
    "This method returns the standard deviation of the requested observation"
   ]
  },
  {
   "cell_type": "code",
   "execution_count": 31,
   "metadata": {},
   "outputs": [
    {
     "data": {
      "text/plain": [
       "652.686836715635"
      ]
     },
     "execution_count": 31,
     "metadata": {},
     "output_type": "execute_result"
    }
   ],
   "source": [
    "bk.Close.std()"
   ]
  },
  {
   "cell_type": "markdown",
   "metadata": {},
   "source": [
    "### DataFrame.rolling(window=).mean()\n",
    "\n",
    "This method helps us to calculate the moving average of the observations. "
   ]
  },
  {
   "cell_type": "code",
   "execution_count": 36,
   "metadata": {},
   "outputs": [
    {
     "data": {
      "text/plain": [
       "<matplotlib.axes._subplots.AxesSubplot at 0x1bff020ae88>"
      ]
     },
     "execution_count": 36,
     "metadata": {},
     "output_type": "execute_result"
    },
    {
     "data": {
      "image/png": "[encoded data removed]",
      "text/plain": [
       "<Figure size 720x360 with 1 Axes>"
      ]
     },
     "metadata": {},
     "output_type": "display_data"
    }
   ],
   "source": [
    "# SMA\n",
    "plt.figure(figsize =(10,5))\n",
    "bk.Close.rolling(window = 5).mean().plot()\n",
    "bk.Close.plot()"
   ]
  },
  {
   "cell_type": "markdown",
   "metadata": {},
   "source": [
    "### DataFrame.expanding(min_periods=).mean()\n",
    "\n",
    "This method returns the 'expanding' mean of the requested observations.\n",
    "\n",
    "A common alternative to rolling mean is to use an expanding window mean, which returns the value of the mean with <b>all the observations avaliable up to that point in time.</b>"
   ]
  },
  {
   "cell_type": "code",
   "execution_count": 38,
   "metadata": {},
   "outputs": [
    {
     "data": {
      "text/plain": [
       "<matplotlib.axes._subplots.AxesSubplot at 0x1bff027b408>"
      ]
     },
     "execution_count": 38,
     "metadata": {},
     "output_type": "execute_result"
    },
    {
     "data": {
      "image/png": "[encoded data removed]",
      "text/plain": [
       "<Figure size 432x288 with 1 Axes>"
      ]
     },
     "metadata": {},
     "output_type": "display_data"
    }
   ],
   "source": [
    "bk.Close.expanding(5).mean().plot()"
   ]
  },
  {
   "cell_type": "code",
   "execution_count": 1,
   "metadata": {
    "execution": {
     "iopub.execute_input": "2021-02-08T11:39:40.481957Z",
     "iopub.status.busy": "2021-02-08T11:39:40.481957Z",
     "iopub.status.idle": "2021-02-08T11:39:42.818957Z",
     "shell.execute_reply": "2021-02-08T11:39:42.818957Z",
     "shell.execute_reply.started": "2021-02-08T11:39:40.481957Z"
    }
   },
   "outputs": [
    {
     "name": "stderr",
     "output_type": "stream",
     "text": [
      "C:\\Users\\ramsu\\Anaconda3\\lib\\site-packages\\pandas_datareader\\compat\\__init__.py:7: FutureWarning: pandas.util.testing is deprecated. Use the functions in the public API at pandas.testing instead.\n",
      "  from pandas.util.testing import assert_frame_equal\n"
     ]
    },
    {
     "data": {
      "text/plain": [
       "High         502\n",
       "Low          502\n",
       "Open         502\n",
       "Close        502\n",
       "Volume       502\n",
       "Adj Close    502\n",
       "dtype: int64"
      ]
     },
     "execution_count": 1,
     "metadata": {},
     "output_type": "execute_result"
    }
   ],
   "source": [
    "import pandas_datareader as data \n",
    "import datetime as dt\n",
    "\n",
    "start = dt.datetime(2017,1,1)\n",
    "end =dt.datetime(2019,1,1)\n",
    "\n",
    "TCS = data.get_data_yahoo(\"TCS\",start,end)\n",
    "\n",
    "TCS.count()"
   ]
  },
  {
   "cell_type": "code",
   "execution_count": 61,
   "metadata": {},
   "outputs": [
    {
     "data": {
      "text/html": [
       "<div>\n",
       "<style scoped>\n",
       "    .dataframe tbody tr th:only-of-type {\n",
       "        vertical-align: middle;\n",
       "    }\n",
       "\n",
       "    .dataframe tbody tr th {\n",
       "        vertical-align: top;\n",
       "    }\n",
       "\n",
       "    .dataframe thead th {\n",
       "        text-align: right;\n",
       "    }\n",
       "</style>\n",
       "<table border=\"1\" class=\"dataframe\">\n",
       "  <thead>\n",
       "    <tr style=\"text-align: right;\">\n",
       "      <th></th>\n",
       "      <th>High</th>\n",
       "      <th>Low</th>\n",
       "      <th>Open</th>\n",
       "      <th>Close</th>\n",
       "      <th>Volume</th>\n",
       "      <th>Adj Close</th>\n",
       "    </tr>\n",
       "    <tr>\n",
       "      <th>Date</th>\n",
       "      <th></th>\n",
       "      <th></th>\n",
       "      <th></th>\n",
       "      <th></th>\n",
       "      <th></th>\n",
       "      <th></th>\n",
       "    </tr>\n",
       "  </thead>\n",
       "  <tbody>\n",
       "    <tr>\n",
       "      <th>2017-01-03</th>\n",
       "      <td>6.60</td>\n",
       "      <td>6.30</td>\n",
       "      <td>6.36</td>\n",
       "      <td>6.49</td>\n",
       "      <td>272200</td>\n",
       "      <td>6.066739</td>\n",
       "    </tr>\n",
       "    <tr>\n",
       "      <th>2017-01-04</th>\n",
       "      <td>6.74</td>\n",
       "      <td>6.50</td>\n",
       "      <td>6.51</td>\n",
       "      <td>6.69</td>\n",
       "      <td>193200</td>\n",
       "      <td>6.253696</td>\n",
       "    </tr>\n",
       "    <tr>\n",
       "      <th>2017-01-05</th>\n",
       "      <td>6.60</td>\n",
       "      <td>6.22</td>\n",
       "      <td>6.60</td>\n",
       "      <td>6.29</td>\n",
       "      <td>288000</td>\n",
       "      <td>5.879783</td>\n",
       "    </tr>\n",
       "    <tr>\n",
       "      <th>2017-01-06</th>\n",
       "      <td>6.29</td>\n",
       "      <td>5.82</td>\n",
       "      <td>6.29</td>\n",
       "      <td>5.83</td>\n",
       "      <td>548300</td>\n",
       "      <td>5.449783</td>\n",
       "    </tr>\n",
       "    <tr>\n",
       "      <th>2017-01-09</th>\n",
       "      <td>5.89</td>\n",
       "      <td>5.66</td>\n",
       "      <td>5.85</td>\n",
       "      <td>5.73</td>\n",
       "      <td>262500</td>\n",
       "      <td>5.356305</td>\n",
       "    </tr>\n",
       "  </tbody>\n",
       "</table>\n",
       "</div>"
      ],
      "text/plain": [
       "            High   Low  Open  Close  Volume  Adj Close\n",
       "Date                                                  \n",
       "2017-01-03  6.60  6.30  6.36   6.49  272200   6.066739\n",
       "2017-01-04  6.74  6.50  6.51   6.69  193200   6.253696\n",
       "2017-01-05  6.60  6.22  6.60   6.29  288000   5.879783\n",
       "2017-01-06  6.29  5.82  6.29   5.83  548300   5.449783\n",
       "2017-01-09  5.89  5.66  5.85   5.73  262500   5.356305"
      ]
     },
     "execution_count": 61,
     "metadata": {},
     "output_type": "execute_result"
    }
   ],
   "source": [
    "TCS = TCS.drop(TCS.index[39:])\n",
    "TCS.head()"
   ]
  },
  {
   "cell_type": "markdown",
   "metadata": {},
   "source": [
    "### DataFrame.cov()\n",
    "\n",
    "This method returns the covariance between the closing price of the Infosys stock with the closing price of the TCS stock."
   ]
  },
  {
   "cell_type": "code",
   "execution_count": 68,
   "metadata": {},
   "outputs": [
    {
     "name": "stdout",
     "output_type": "stream",
     "text": [
      "39\n",
      "39\n"
     ]
    },
    {
     "data": {
      "text/plain": [
       "nan"
      ]
     },
     "execution_count": 68,
     "metadata": {},
     "output_type": "execute_result"
    }
   ],
   "source": [
    "\n",
    "\n",
    "print(bk.Close.count())\n",
    "print(TCS.Close.count())\n",
    "\n",
    "bk.Close.cov(TCS.Close)"
   ]
  },
  {
   "cell_type": "code",
   "execution_count": 69,
   "metadata": {},
   "outputs": [
    {
     "data": {
      "text/plain": [
       "nan"
      ]
     },
     "execution_count": 69,
     "metadata": {},
     "output_type": "execute_result"
    }
   ],
   "source": [
    "bk.Close.corr(TCS.Close)"
   ]
  },
  {
   "cell_type": "code",
   "execution_count": 70,
   "metadata": {},
   "outputs": [
    {
     "data": {
      "text/plain": [
       "0     32685.85\n",
       "1     32266.85\n",
       "2     31474.10\n",
       "3     31598.55\n",
       "4     31559.05\n",
       "5     32265.90\n",
       "6     32231.90\n",
       "7     32354.95\n",
       "8     32282.80\n",
       "9     32053.35\n",
       "10    32048.85\n",
       "11    31843.55\n",
       "12    31300.65\n",
       "13    31162.60\n",
       "14    30917.60\n",
       "15    31211.35\n",
       "16    31448.15\n",
       "17    30994.90\n",
       "18    30883.05\n",
       "19    30978.65\n",
       "20    30768.40\n",
       "21    30937.30\n",
       "22    29873.40\n",
       "23    30032.15\n",
       "24    30718.45\n",
       "25    31050.35\n",
       "26    31332.85\n",
       "27    31240.40\n",
       "28    31109.85\n",
       "29    31383.30\n",
       "30    31566.90\n",
       "31    31231.35\n",
       "32    30902.10\n",
       "33    30776.35\n",
       "34    30581.40\n",
       "35    30856.40\n",
       "36    30938.70\n",
       "37    30423.00\n",
       "38    30479.60\n",
       "Name: Close, dtype: float64"
      ]
     },
     "execution_count": 70,
     "metadata": {},
     "output_type": "execute_result"
    }
   ],
   "source": [
    "bk.Close"
   ]
  },
  {
   "cell_type": "markdown",
   "metadata": {},
   "source": [
    "### DataFrame.kurt()\n",
    "\n",
    "This method returns unbiased kurtosis over the requested data set using Fisher's definition of kurtosis (where kurtosis of normal distribution = 0)."
   ]
  },
  {
   "cell_type": "code",
   "execution_count": 71,
   "metadata": {},
   "outputs": [
    {
     "data": {
      "text/plain": [
       "-0.0734113472961857"
      ]
     },
     "execution_count": 71,
     "metadata": {},
     "output_type": "execute_result"
    }
   ],
   "source": [
    "TCS.Close.kurt()"
   ]
  },
  {
   "cell_type": "markdown",
   "metadata": {},
   "source": [
    "### DataFrame.skew()\n",
    "\n",
    "This method unbiased skew over the requested data set.\n"
   ]
  },
  {
   "cell_type": "code",
   "execution_count": 72,
   "metadata": {},
   "outputs": [
    {
     "data": {
      "text/plain": [
       "0.7825599307592545"
      ]
     },
     "execution_count": 72,
     "metadata": {},
     "output_type": "execute_result"
    }
   ],
   "source": [
    "TCS.Close.skew()"
   ]
  },
  {
   "cell_type": "code",
   "execution_count": 78,
   "metadata": {},
   "outputs": [
    {
     "data": {
      "image/png": "[encoded data removed]",
      "text/plain": [
       "<Figure size 432x288 with 1 Axes>"
      ]
     },
     "metadata": {},
     "output_type": "display_data"
    }
   ],
   "source": [
    "TCS[['Close','Open']].plot()\n",
    "plt.show()"
   ]
  },
  {
   "cell_type": "code",
   "execution_count": 77,
   "metadata": {},
   "outputs": [
    {
     "data": {
      "text/plain": [
       "<matplotlib.axes._subplots.AxesSubplot at 0x1bff1be0ac8>"
      ]
     },
     "execution_count": 77,
     "metadata": {},
     "output_type": "execute_result"
    },
    {
     "data": {
      "image/png": "[encoded data removed]",
      "text/plain": [
       "<Figure size 432x288 with 1 Axes>"
      ]
     },
     "metadata": {},
     "output_type": "display_data"
    }
   ],
   "source": [
    "TCS.plot()"
   ]
  },
  {
   "cell_type": "code",
   "execution_count": null,
   "metadata": {},
   "outputs": [],
   "source": []
  }
 ],
 "metadata": {
  "kernelspec": {
   "display_name": "Python 3",
   "language": "python",
   "name": "python3"
  },
  "language_info": {
   "codemirror_mode": {
    "name": "ipython",
    "version": 3
   },
   "file_extension": ".py",
   "mimetype": "text/x-python",
   "name": "python",
   "nbconvert_exporter": "python",
   "pygments_lexer": "ipython3",
   "version": "3.7.6"
  }
 },
 "nbformat": 4,
 "nbformat_minor": 4
}
