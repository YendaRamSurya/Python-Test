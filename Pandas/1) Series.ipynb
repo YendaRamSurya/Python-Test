{
 "cells": [
  {
   "cell_type": "markdown",
   "metadata": {},
   "source": [
    "## Pandas\n",
    "\n",
    "### Data Preparation \n",
    "### Data Manipulation \n",
    "### Data Modelling \n",
    "### Data Analysis \n"
   ]
  },
  {
   "cell_type": "markdown",
   "metadata": {},
   "source": [
    "# Notebook Contents\n",
    "\n",
    "#####  <span style=\"color:green\">1. Why are we studying series? </span>\n",
    "##### <span style=\"color:green\">2. Series data structure</span>\n",
    "#####  <span style=\"color:green\">3. Methods or functions</span>\n",
    "##### <span style=\"color:green\">4. pandas.Series.apply()</span>"
   ]
  },
  {
   "cell_type": "markdown",
   "metadata": {},
   "source": [
    "We are studying series as it is a predecessor of learning data frames as series of data is DaraFrames. "
   ]
  },
  {
   "cell_type": "code",
   "execution_count": 2,
   "metadata": {
    "execution": {
     "iopub.execute_input": "2021-02-08T10:46:59.305470Z",
     "iopub.status.busy": "2021-02-08T10:46:59.305470Z",
     "iopub.status.idle": "2021-02-08T10:46:59.755374Z",
     "shell.execute_reply": "2021-02-08T10:46:59.754383Z",
     "shell.execute_reply.started": "2021-02-08T10:46:59.305470Z"
    }
   },
   "outputs": [
    {
     "name": "stdout",
     "output_type": "stream",
     "text": [
      "0    10\n",
      "1    20\n",
      "2    44\n",
      "3    52\n",
      "4    22\n",
      "5    36\n",
      "dtype: int64\n"
     ]
    },
    {
     "data": {
      "text/plain": [
       "pandas.core.series.Series"
      ]
     },
     "execution_count": 2,
     "metadata": {},
     "output_type": "execute_result"
    }
   ],
   "source": [
    "import pandas as pd\n",
    "import numpy as np\n",
    "\n",
    "my_series = pd.Series([10,20,44,52,22,36])\n",
    "\n",
    "print(my_series)\n",
    "type(my_series)"
   ]
  },
  {
   "cell_type": "code",
   "execution_count": 3,
   "metadata": {
    "execution": {
     "iopub.execute_input": "2021-02-08T10:46:59.756377Z",
     "iopub.status.busy": "2021-02-08T10:46:59.756377Z",
     "iopub.status.idle": "2021-02-08T10:46:59.770779Z",
     "shell.execute_reply": "2021-02-08T10:46:59.769777Z",
     "shell.execute_reply.started": "2021-02-08T10:46:59.756377Z"
    }
   },
   "outputs": [
    {
     "name": "stdout",
     "output_type": "stream",
     "text": [
      "0    10.2\n",
      "1    20.6\n",
      "2    44.0\n",
      "3    52.0\n",
      "4    22.0\n",
      "5    36.0\n",
      "dtype: float64\n"
     ]
    },
    {
     "data": {
      "text/plain": [
       "pandas.core.series.Series"
      ]
     },
     "execution_count": 3,
     "metadata": {},
     "output_type": "execute_result"
    }
   ],
   "source": [
    "my_series = pd.Series([10.2,20.6,44,52,22,36])\n",
    "\n",
    "print(my_series)\n",
    "type(my_series)"
   ]
  },
  {
   "cell_type": "markdown",
   "metadata": {},
   "source": [
    "You can see that it returns an indexed column and the data type of that column which is 'int' in this case.\n",
    "\n",
    "Series is capable of holding any data type. For example: integers, float, strings and so on. A series can contain multiple data types too."
   ]
  },
  {
   "cell_type": "code",
   "execution_count": 4,
   "metadata": {
    "execution": {
     "iopub.execute_input": "2021-02-08T10:47:01.011830Z",
     "iopub.status.busy": "2021-02-08T10:47:01.010829Z",
     "iopub.status.idle": "2021-02-08T10:47:01.030360Z",
     "shell.execute_reply": "2021-02-08T10:47:01.030360Z",
     "shell.execute_reply.started": "2021-02-08T10:47:01.011830Z"
    }
   },
   "outputs": [
    {
     "name": "stdout",
     "output_type": "stream",
     "text": [
      "0     Ram\n",
      "1    algo\n",
      "dtype: object\n"
     ]
    },
    {
     "data": {
      "text/plain": [
       "pandas.core.series.Series"
      ]
     },
     "execution_count": 4,
     "metadata": {},
     "output_type": "execute_result"
    }
   ],
   "source": [
    "my_series = pd.Series(['Ram','algo'])\n",
    "\n",
    "print(my_series)\n",
    "type(my_series)"
   ]
  },
  {
   "cell_type": "markdown",
   "metadata": {},
   "source": [
    "Every time when a srting is called object is created"
   ]
  },
  {
   "cell_type": "code",
   "execution_count": 5,
   "metadata": {
    "execution": {
     "iopub.execute_input": "2021-02-08T10:47:02.114845Z",
     "iopub.status.busy": "2021-02-08T10:47:02.114845Z",
     "iopub.status.idle": "2021-02-08T10:47:02.130384Z",
     "shell.execute_reply": "2021-02-08T10:47:02.130384Z",
     "shell.execute_reply.started": "2021-02-08T10:47:02.114845Z"
    }
   },
   "outputs": [
    {
     "data": {
      "text/plain": [
       "India      Narendra Modi\n",
       "USA         Donald Trump\n",
       "Japan         Shinzo Abe\n",
       "Russia    Vladimir Putin\n",
       "China          Xi Jinpin\n",
       "dtype: object"
      ]
     },
     "execution_count": 5,
     "metadata": {},
     "output_type": "execute_result"
    }
   ],
   "source": [
    "# Defining series objects with individual indices \n",
    "\n",
    "countries = ['India', 'USA', 'Japan', 'Russia', 'China']\n",
    "leaders = ['Narendra Modi', 'Donald Trump', 'Shinzo Abe', 'Vladimir Putin', 'Xi Jinpin']\n",
    "\"\"\"Index is defined over here \"\"\"\n",
    "S = pd.Series (leaders, countries,dtype = object) # Index is explicitly defined here \n",
    "S\n"
   ]
  },
  {
   "cell_type": "code",
   "execution_count": 6,
   "metadata": {
    "execution": {
     "iopub.execute_input": "2021-02-08T10:47:03.066931Z",
     "iopub.status.busy": "2021-02-08T10:47:03.066931Z",
     "iopub.status.idle": "2021-02-08T10:47:03.097447Z",
     "shell.execute_reply": "2021-02-08T10:47:03.097447Z",
     "shell.execute_reply.started": "2021-02-08T10:47:03.066931Z"
    }
   },
   "outputs": [
    {
     "name": "stdout",
     "output_type": "stream",
     "text": [
      "Alphabet    100\n",
      "IBM         250\n",
      "Tesla       300\n",
      "Infosys     500\n",
      "dtype: int64\n",
      "\n",
      "\n",
      "Alphabet    500\n",
      "IBM         400\n",
      "Tesla       110\n",
      "Infosys     700\n",
      "dtype: int64\n",
      "\n",
      "\n",
      "Alphabet     600\n",
      "IBM          650\n",
      "Tesla        410\n",
      "Infosys     1200\n",
      "dtype: int64\n"
     ]
    }
   ],
   "source": [
    "# Have a look at the series S1\n",
    "\n",
    "stocks_set1 = ['Alphabet', 'IBM', 'Tesla', 'Infosys']\n",
    "\n",
    "# Here, we are inserting data as a list in series constructor, but the argument of its index is passed as a pre-defined list\n",
    "\n",
    "S1 = pd.Series([100, 250, 300, 500], index = stocks_set1)\n",
    "print (S1)\n",
    "print (\"\\n\")\n",
    "\n",
    "# Now, have a look at the series S2\n",
    "\n",
    "stocks_set2 = ['Alphabet', 'IBM', 'Tesla', 'Infosys']\n",
    "\n",
    "# Here, we are inserting data as a list in series constructor, but the argument of its index is passed as a pre-defined list\n",
    "\n",
    "S2 = pd.Series([500, 400, 110, 700], index = stocks_set2)\n",
    "\n",
    "print (S2)\n",
    "print (\"\\n\")\n",
    "\n",
    "# We will add Series S1 and S2\n",
    "\n",
    "print (S1 + S2)"
   ]
  },
  {
   "cell_type": "markdown",
   "metadata": {},
   "source": [
    "# Adding lists that have different indexes  will create 'NaN' values\n",
    "\n",
    "1) <span style = color:Red>  \"if index is alphabatetical it is sorting\" <span>\n",
    "    \n",
    "    **NAN is NOT A NUMBER**"
   ]
  },
  {
   "cell_type": "code",
   "execution_count": 7,
   "metadata": {
    "execution": {
     "iopub.execute_input": "2021-02-08T10:47:06.352429Z",
     "iopub.status.busy": "2021-02-08T10:47:06.352429Z",
     "iopub.status.idle": "2021-02-08T10:47:06.370939Z",
     "shell.execute_reply": "2021-02-08T10:47:06.370939Z",
     "shell.execute_reply.started": "2021-02-08T10:47:06.352429Z"
    }
   },
   "outputs": [
    {
     "name": "stdout",
     "output_type": "stream",
     "text": [
      "Alphabet    100\n",
      "IBM         250\n",
      "Tesla       300\n",
      "Infosys     500\n",
      "dtype: int64\n",
      "\n",
      "\n",
      "Alphabet    500\n",
      "Facebook    700\n",
      "Tesla       110\n",
      "Infosys     700\n",
      "dtype: int64\n",
      "\n",
      "\n",
      "Alphabet     600.0\n",
      "Facebook       NaN\n",
      "IBM            NaN\n",
      "Infosys     1200.0\n",
      "Tesla        410.0\n",
      "dtype: float64\n"
     ]
    }
   ],
   "source": [
    "# Adding lists that have different indexes  will create 'NaN' values\n",
    "\n",
    "stocks_set1 = ['Alphabet', 'IBM', 'Tesla', 'Infosys']\n",
    "stocks_set2 = ['Alphabet', 'Facebook', 'Tesla', 'Infosys']\n",
    "\n",
    "S3 = pd.Series([100, 250, 300, 500], index = stocks_set1)\n",
    "S4 = pd.Series([500, 700, 110, 700], index = stocks_set2)\n",
    "\n",
    "\n",
    "print (S3)\n",
    "print(\"\\n\")\n",
    "\n",
    "print (S4)\n",
    "print(\"\\n\")\n",
    "\n",
    "print(S3+S4)"
   ]
  },
  {
   "cell_type": "markdown",
   "metadata": {},
   "source": [
    "## Methods or functions\n",
    "\n",
    "We will have a look at a few important methods or functions that can be applied on Series."
   ]
  },
  {
   "cell_type": "markdown",
   "metadata": {},
   "source": [
    "Series.index"
   ]
  },
  {
   "cell_type": "code",
   "execution_count": 32,
   "metadata": {},
   "outputs": [
    {
     "name": "stdout",
     "output_type": "stream",
     "text": [
      "RangeIndex(start=0, stop=5, step=1)\n",
      "Index(['Alphabet', 'IBM', 'Tesla', 'Infosys'], dtype='object')\n"
     ]
    }
   ],
   "source": [
    "My_Series = pd.Series ([10,20,30,40,50]) \n",
    "\n",
    "print (My_Series.index)\n",
    "print(S3.index)\n"
   ]
  },
  {
   "cell_type": "code",
   "execution_count": 35,
   "metadata": {},
   "outputs": [
    {
     "name": "stdout",
     "output_type": "stream",
     "text": [
      "[100 250 300 500]\n"
     ]
    },
    {
     "data": {
      "text/plain": [
       "Alphabet    100\n",
       "IBM         250\n",
       "Tesla       300\n",
       "Infosys     500\n",
       "dtype: int64"
      ]
     },
     "execution_count": 35,
     "metadata": {},
     "output_type": "execute_result"
    }
   ],
   "source": [
    "print(S3.values)\n",
    "\n",
    "S3.head()"
   ]
  },
  {
   "cell_type": "code",
   "execution_count": 36,
   "metadata": {},
   "outputs": [
    {
     "data": {
      "text/plain": [
       "Alphabet    False\n",
       "Facebook     True\n",
       "IBM          True\n",
       "Infosys     False\n",
       "Tesla       False\n",
       "dtype: bool"
      ]
     },
     "execution_count": 36,
     "metadata": {},
     "output_type": "execute_result"
    }
   ],
   "source": [
    "# Returns whether the values are null or not. If it is 'True' then the value for that index is a 'NaN value\n",
    "\n",
    "(S3 + S4).isnull()"
   ]
  },
  {
   "cell_type": "markdown",
   "metadata": {},
   "source": [
    "## DATA Manipulation \n",
    "\n",
    "- Using Drop and fill functions to avoid NAN in data "
   ]
  },
  {
   "cell_type": "code",
   "execution_count": 43,
   "metadata": {},
   "outputs": [
    {
     "data": {
      "text/plain": [
       "Alphabet     600.0\n",
       "Facebook       NaN\n",
       "IBM            NaN\n",
       "Infosys     1200.0\n",
       "Tesla        410.0\n",
       "dtype: float64"
      ]
     },
     "execution_count": 43,
     "metadata": {},
     "output_type": "execute_result"
    }
   ],
   "source": [
    "S5 = S3+S4\n",
    "\n",
    "S5.head()\n"
   ]
  },
  {
   "cell_type": "code",
   "execution_count": 50,
   "metadata": {},
   "outputs": [
    {
     "data": {
      "text/plain": [
       "Alphabet     600.0\n",
       "Infosys     1200.0\n",
       "Tesla        410.0\n",
       "dtype: float64"
      ]
     },
     "execution_count": 50,
     "metadata": {},
     "output_type": "execute_result"
    }
   ],
   "source": [
    "S5.dropna()"
   ]
  },
  {
   "cell_type": "code",
   "execution_count": 51,
   "metadata": {},
   "outputs": [
    {
     "data": {
      "text/plain": [
       "Alphabet     600.0\n",
       "Facebook       NaN\n",
       "IBM            NaN\n",
       "Infosys     1200.0\n",
       "Tesla        410.0\n",
       "dtype: float64"
      ]
     },
     "execution_count": 51,
     "metadata": {},
     "output_type": "execute_result"
    }
   ],
   "source": [
    "S5.head()"
   ]
  },
  {
   "cell_type": "code",
   "execution_count": 55,
   "metadata": {},
   "outputs": [
    {
     "data": {
      "text/plain": [
       "Alphabet     600.0\n",
       "Facebook     600.0\n",
       "IBM          600.0\n",
       "Infosys     1200.0\n",
       "Tesla        410.0\n",
       "dtype: float64"
      ]
     },
     "execution_count": 55,
     "metadata": {},
     "output_type": "execute_result"
    }
   ],
   "source": [
    "S5.fillna(method = \"ffill\")"
   ]
  },
  {
   "cell_type": "markdown",
   "metadata": {},
   "source": [
    "Signature:\n",
    "S5.fillna(\n",
    "    value=None,\n",
    "    method=None,\n",
    "    axis=None,\n",
    "    inplace=False,\n",
    "    limit=None,\n",
    "    downcast=None,\n",
    ") -> Union[ForwardRef('Series'), NoneType]\n",
    "\n",
    "value : scalar, dict, Series, or DataFrame\n",
    "    Value to use to fill holes (e.g. 0), alternately a\n",
    "    dict/Series/DataFrame of values specifying which value to use for\n",
    "    each index (for a Series) or column (for a DataFrame).  Values not\n",
    "    in the dict/Series/DataFrame will not be filled. This value cannot\n",
    "    be a list.\n",
    "method : {'backfill', 'bfill', 'pad', 'ffill', None}, default None\n",
    "    Method to use for filling holes in reindexed Series\n",
    "    pad / ffill: propagate last valid observation forward to next valid\n",
    "    backfill / bfill: use next valid observation to fill gap."
   ]
  },
  {
   "cell_type": "markdown",
   "metadata": {},
   "source": [
    "## pandas.Series.apply()\n",
    "\n",
    "If at all one wants to 'apply' any functions on a particular series, e.g. one wants to 'sine' of each value in the series, then it is possible in pandas.\n",
    "<br>\n",
    "<b>Series.apply (func)</b>\n",
    "<br>\n",
    "func = A Python function that will be applied to every single value of the series    "
   ]
  },
  {
   "cell_type": "code",
   "execution_count": 56,
   "metadata": {},
   "outputs": [
    {
     "data": {
      "text/plain": [
       "0    10\n",
       "1    20\n",
       "2    44\n",
       "3    52\n",
       "4    22\n",
       "dtype: int64"
      ]
     },
     "execution_count": 56,
     "metadata": {},
     "output_type": "execute_result"
    }
   ],
   "source": [
    "my_series.head()"
   ]
  },
  {
   "cell_type": "code",
   "execution_count": 62,
   "metadata": {},
   "outputs": [
    {
     "data": {
      "text/plain": [
       "0   -0.544021\n",
       "1    0.912945\n",
       "2    0.017702\n",
       "3    0.986628\n",
       "4   -0.008851\n",
       "5   -0.991779\n",
       "dtype: float64"
      ]
     },
     "execution_count": 62,
     "metadata": {},
     "output_type": "execute_result"
    }
   ],
   "source": [
    "my_series.apply(np.sin)"
   ]
  },
  {
   "cell_type": "code",
   "execution_count": null,
   "metadata": {},
   "outputs": [],
   "source": []
  }
 ],
 "metadata": {
  "kernelspec": {
   "display_name": "Python 3",
   "language": "python",
   "name": "python3"
  },
  "language_info": {
   "codemirror_mode": {
    "name": "ipython",
    "version": 3
   },
   "file_extension": ".py",
   "mimetype": "text/x-python",
   "name": "python",
   "nbconvert_exporter": "python",
   "pygments_lexer": "ipython3",
   "version": "3.7.6"
  }
 },
 "nbformat": 4,
 "nbformat_minor": 4
}
