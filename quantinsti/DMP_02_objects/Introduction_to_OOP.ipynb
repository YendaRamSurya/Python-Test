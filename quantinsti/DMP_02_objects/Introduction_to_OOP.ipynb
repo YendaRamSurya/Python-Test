{
 "cells": [
  {
   "cell_type": "markdown",
   "metadata": {},
   "source": [
    "# Introduction to Object oriented Programming (OOP)"
   ]
  },
  {
   "cell_type": "markdown",
   "metadata": {},
   "source": [
    "## Agenda for today's session"
   ]
  },
  {
   "cell_type": "markdown",
   "metadata": {},
   "source": [
    "- Why learn OOP?\n",
    "- Getting started with OOP\n",
    "    - ...\n",
    "- \\_\\_init\\_\\_\n",
    "- attributes\n",
    "- dunders\n",
    "- Inheritance\n",
    "- super keyword\n",
    "- methods\n",
    "- Example - DataFrame\n",
    "- Debugging\n",
    "- Figure out how?\n",
    "- References"
   ]
  },
  {
   "cell_type": "markdown",
   "metadata": {
    "ExecuteTime": {
     "end_time": "2019-08-02T17:37:41.696051Z",
     "start_time": "2019-08-02T17:37:41.679556Z"
    },
    "heading_collapsed": true
   },
   "source": [
    "## Why learn OOP?"
   ]
  },
  {
   "cell_type": "markdown",
   "metadata": {
    "hidden": true
   },
   "source": [
    "- Manage complexity\n",
    "- DRY (Don't Repeat Yourself)\n",
    "- Leverage existing code saves time.\n",
    "- More than half of all Python code avaiable on Github is object-oriented.\n",
    "- E.g. [Statsmodels](https://github.com/statsmodels/statsmodels/blob/master/statsmodels/base/model.py), [FFN](https://github.com/pmorissette/ffn/blob/master/ffn/core.py), [Quantpy](https://github.com/jsmidt/QuantPy/blob/master/quantpy/portfolio.py), [pyfin](https://github.com/opendoor-labs/pyfin/blob/master/pyfin/pyfin.py), [Quantitative](https://github.com/jeffrey-liang/quantitative/blob/master/quantitative/engine.py), [ARCH](https://github.com/bashtage/arch/blob/master/arch/utility/testing.py)"
   ]
  },
  {
   "cell_type": "markdown",
   "metadata": {
    "heading_collapsed": true
   },
   "source": [
    "## Getting started with OOP"
   ]
  },
  {
   "cell_type": "markdown",
   "metadata": {
    "hidden": true
   },
   "source": [
    "Python is an object-oriented language and classes form the basis for all data types."
   ]
  },
  {
   "cell_type": "markdown",
   "metadata": {
    "hidden": true
   },
   "source": [
    "__Python’s built-in classes:__ <br> \n",
    " - *int* class for integers\n",
    " - *float* class for floating-point values\n",
    " - *str* class for character strings\n",
    " - ..."
   ]
  },
  {
   "cell_type": "code",
   "execution_count": 1,
   "metadata": {
    "ExecuteTime": {
     "end_time": "2020-03-02T05:54:22.676687Z",
     "start_time": "2020-03-02T05:54:22.672291Z"
    },
    "execution": {
     "iopub.execute_input": "2020-06-02T12:35:15.291831Z",
     "iopub.status.busy": "2020-06-02T12:35:15.290831Z",
     "iopub.status.idle": "2020-06-02T12:35:15.297811Z",
     "shell.execute_reply": "2020-06-02T12:35:15.295817Z",
     "shell.execute_reply.started": "2020-06-02T12:35:15.291831Z"
    },
    "hidden": true
   },
   "outputs": [],
   "source": [
    "AAPL = 206.5"
   ]
  },
  {
   "cell_type": "markdown",
   "metadata": {
    "hidden": true
   },
   "source": [
    "The isinstance() function is used to determine if an instance belongs to a certain class."
   ]
  },
  {
   "cell_type": "code",
   "execution_count": 2,
   "metadata": {
    "ExecuteTime": {
     "end_time": "2020-03-02T05:54:22.689788Z",
     "start_time": "2020-03-02T05:54:22.681388Z"
    },
    "execution": {
     "iopub.execute_input": "2020-06-02T12:35:15.302797Z",
     "iopub.status.busy": "2020-06-02T12:35:15.302797Z",
     "iopub.status.idle": "2020-06-02T12:35:15.395549Z",
     "shell.execute_reply": "2020-06-02T12:35:15.394551Z",
     "shell.execute_reply.started": "2020-06-02T12:35:15.302797Z"
    },
    "hidden": true
   },
   "outputs": [
    {
     "data": {
      "text/plain": [
       "True"
      ]
     },
     "execution_count": 2,
     "metadata": {},
     "output_type": "execute_result"
    }
   ],
   "source": [
    "isinstance(AAPL, float)"
   ]
  },
  {
   "cell_type": "code",
   "execution_count": 3,
   "metadata": {
    "ExecuteTime": {
     "end_time": "2020-03-02T05:54:22.695187Z",
     "start_time": "2020-03-02T05:54:22.691543Z"
    },
    "execution": {
     "iopub.execute_input": "2020-06-02T12:35:15.397544Z",
     "iopub.status.busy": "2020-06-02T12:35:15.397544Z",
     "iopub.status.idle": "2020-06-02T12:35:15.495283Z",
     "shell.execute_reply": "2020-06-02T12:35:15.494286Z",
     "shell.execute_reply.started": "2020-06-02T12:35:15.397544Z"
    },
    "hidden": true
   },
   "outputs": [
    {
     "data": {
      "text/plain": [
       "True"
      ]
     },
     "execution_count": 3,
     "metadata": {},
     "output_type": "execute_result"
    }
   ],
   "source": [
    "isinstance(206.5, float)"
   ]
  },
  {
   "cell_type": "code",
   "execution_count": 4,
   "metadata": {
    "ExecuteTime": {
     "end_time": "2020-03-02T05:54:22.701076Z",
     "start_time": "2020-03-02T05:54:22.697417Z"
    },
    "execution": {
     "iopub.execute_input": "2020-06-02T12:35:15.499272Z",
     "iopub.status.busy": "2020-06-02T12:35:15.498274Z",
     "iopub.status.idle": "2020-06-02T12:35:15.617955Z",
     "shell.execute_reply": "2020-06-02T12:35:15.616957Z",
     "shell.execute_reply.started": "2020-06-02T12:35:15.499272Z"
    },
    "hidden": true
   },
   "outputs": [
    {
     "data": {
      "text/plain": [
       "False"
      ]
     },
     "execution_count": 4,
     "metadata": {},
     "output_type": "execute_result"
    }
   ],
   "source": [
    "isinstance(206, float)"
   ]
  },
  {
   "cell_type": "code",
   "execution_count": 5,
   "metadata": {
    "ExecuteTime": {
     "end_time": "2020-03-02T05:54:22.706449Z",
     "start_time": "2020-03-02T05:54:22.703028Z"
    },
    "execution": {
     "iopub.execute_input": "2020-06-02T12:35:15.619951Z",
     "iopub.status.busy": "2020-06-02T12:35:15.619951Z",
     "iopub.status.idle": "2020-06-02T12:35:15.772541Z",
     "shell.execute_reply": "2020-06-02T12:35:15.771544Z",
     "shell.execute_reply.started": "2020-06-02T12:35:15.619951Z"
    },
    "hidden": true
   },
   "outputs": [
    {
     "data": {
      "text/plain": [
       "True"
      ]
     },
     "execution_count": 5,
     "metadata": {},
     "output_type": "execute_result"
    }
   ],
   "source": [
    "isinstance(float, object)"
   ]
  },
  {
   "cell_type": "markdown",
   "metadata": {
    "ExecuteTime": {
     "end_time": "2019-05-19T18:15:13.165937Z",
     "start_time": "2019-05-19T18:15:13.163567Z"
    },
    "hidden": true
   },
   "source": [
    "### Object creation"
   ]
  },
  {
   "cell_type": "markdown",
   "metadata": {
    "hidden": true
   },
   "source": [
    "- Object-oriented Programming, or OOP for short, is a programming paradigm which provides a means of structuring programs so that properties and behaviors are bundled into individual objects.\n",
    "- Object refers to a particular instance of a class, where the object can be a combination of variables, functions, and data structures."
   ]
  },
  {
   "cell_type": "code",
   "execution_count": 6,
   "metadata": {
    "ExecuteTime": {
     "end_time": "2020-03-02T05:54:22.710971Z",
     "start_time": "2020-03-02T05:54:22.708171Z"
    },
    "execution": {
     "iopub.execute_input": "2020-06-02T12:35:15.774536Z",
     "iopub.status.busy": "2020-06-02T12:35:15.773538Z",
     "iopub.status.idle": "2020-06-02T12:35:15.885239Z",
     "shell.execute_reply": "2020-06-02T12:35:15.884242Z",
     "shell.execute_reply.started": "2020-06-02T12:35:15.774536Z"
    },
    "hidden": true
   },
   "outputs": [],
   "source": [
    "class MeanReversion:\n",
    "    pass"
   ]
  },
  {
   "cell_type": "code",
   "execution_count": 7,
   "metadata": {
    "ExecuteTime": {
     "end_time": "2020-03-02T05:54:22.715516Z",
     "start_time": "2020-03-02T05:54:22.713178Z"
    },
    "execution": {
     "iopub.execute_input": "2020-06-02T12:35:15.888231Z",
     "iopub.status.busy": "2020-06-02T12:35:15.887234Z",
     "iopub.status.idle": "2020-06-02T12:35:16.035837Z",
     "shell.execute_reply": "2020-06-02T12:35:16.034839Z",
     "shell.execute_reply.started": "2020-06-02T12:35:15.888231Z"
    },
    "hidden": true
   },
   "outputs": [],
   "source": [
    "strategy = MeanReversion()"
   ]
  },
  {
   "cell_type": "markdown",
   "metadata": {
    "hidden": true
   },
   "source": [
    "### Identification of attributes and methods"
   ]
  },
  {
   "cell_type": "markdown",
   "metadata": {
    "ExecuteTime": {
     "end_time": "2019-05-26T13:07:28.602009Z",
     "start_time": "2019-05-26T13:07:28.528155Z"
    },
    "hidden": true
   },
   "source": [
    "**Attributes** are the features of the objects or the variables used in a class whereas<br>\n",
    "**Methods** are the operations or activities performed by that object. These are defined as functions in the class.\n",
    "\n",
    "For example, if GOOGL is an object of class Security,\n",
    "\n",
    "price, volume, value are the attributes.\n",
    "\n",
    "buy(), hold(), short_sell(stop_loss) are the methods.\n",
    "\n",
    "Where no underscore => public attribute => allow user to change.\n",
    "\n",
    "single _ underscore => it is a intermittent variable, not used as a variable for complex uses.\n",
    "\n",
    "__ underscore =  private no authority is given"
   ]
  },
  {
   "cell_type": "code",
   "execution_count": 37,
   "metadata": {
    "ExecuteTime": {
     "end_time": "2020-03-02T05:54:22.721809Z",
     "start_time": "2020-03-02T05:54:22.717476Z"
    },
    "execution": {
     "iopub.execute_input": "2021-02-11T15:13:10.374608Z",
     "iopub.status.busy": "2021-02-11T15:13:10.374608Z",
     "iopub.status.idle": "2021-02-11T15:13:10.387613Z",
     "shell.execute_reply": "2021-02-11T15:13:10.386610Z",
     "shell.execute_reply.started": "2021-02-11T15:13:10.374608Z"
    },
    "hidden": true
   },
   "outputs": [],
   "source": [
    "class FinancialInstrument:\n",
    "    def __init__(self, price, volume):\n",
    "        self.price = price\n",
    "        self._volume = volume\n",
    "        self.__value = price * volume\n",
    "\n",
    "    def buy(self):\n",
    "        print(\"buying ...\")\n",
    "\n",
    "    def hold(self):\n",
    "        pass\n",
    "\n",
    "    def short_sell(self, stop_loss):\n",
    "        pass\n"
   ]
  },
  {
   "cell_type": "markdown",
   "metadata": {
    "hidden": true
   },
   "source": [
    "Note: <span style=\"color:blue\">Dunder</span> comes from the word phrase  <span style=\"color:blue\">**D**</span>ouble <span style=\"color:blue\">**under**</span>scores"
   ]
  },
  {
   "cell_type": "code",
   "execution_count": 38,
   "metadata": {
    "ExecuteTime": {
     "end_time": "2020-03-02T05:54:22.725939Z",
     "start_time": "2020-03-02T05:54:22.723502Z"
    },
    "execution": {
     "iopub.execute_input": "2021-02-11T15:13:12.321661Z",
     "iopub.status.busy": "2021-02-11T15:13:12.321661Z",
     "iopub.status.idle": "2021-02-11T15:13:12.331684Z",
     "shell.execute_reply": "2021-02-11T15:13:12.331684Z",
     "shell.execute_reply.started": "2021-02-11T15:13:12.321661Z"
    },
    "hidden": true
   },
   "outputs": [],
   "source": [
    "GOOGL = FinancialInstrument(1200, 100)"
   ]
  },
  {
   "cell_type": "code",
   "execution_count": 39,
   "metadata": {
    "ExecuteTime": {
     "end_time": "2020-03-02T05:54:22.731072Z",
     "start_time": "2020-03-02T05:54:22.727666Z"
    },
    "execution": {
     "iopub.execute_input": "2021-02-11T15:13:12.516727Z",
     "iopub.status.busy": "2021-02-11T15:13:12.516727Z",
     "iopub.status.idle": "2021-02-11T15:13:12.536732Z",
     "shell.execute_reply": "2021-02-11T15:13:12.535731Z",
     "shell.execute_reply.started": "2021-02-11T15:13:12.516727Z"
    },
    "hidden": true
   },
   "outputs": [
    {
     "data": {
      "text/plain": [
       "1200"
      ]
     },
     "execution_count": 39,
     "metadata": {},
     "output_type": "execute_result"
    }
   ],
   "source": [
    "GOOGL.price"
   ]
  },
  {
   "cell_type": "code",
   "execution_count": 40,
   "metadata": {
    "ExecuteTime": {
     "end_time": "2020-03-02T05:54:22.736284Z",
     "start_time": "2020-03-02T05:54:22.733424Z"
    },
    "execution": {
     "iopub.execute_input": "2021-02-11T15:13:12.737777Z",
     "iopub.status.busy": "2021-02-11T15:13:12.736782Z",
     "iopub.status.idle": "2021-02-11T15:13:12.744778Z",
     "shell.execute_reply": "2021-02-11T15:13:12.743791Z",
     "shell.execute_reply.started": "2021-02-11T15:13:12.737777Z"
    },
    "hidden": true
   },
   "outputs": [
    {
     "name": "stdout",
     "output_type": "stream",
     "text": [
      "buying ...\n"
     ]
    }
   ],
   "source": [
    "GOOGL.buy()"
   ]
  },
  {
   "cell_type": "code",
   "execution_count": 41,
   "metadata": {
    "ExecuteTime": {
     "end_time": "2020-03-02T05:54:22.741908Z",
     "start_time": "2020-03-02T05:54:22.738230Z"
    },
    "execution": {
     "iopub.execute_input": "2021-02-11T15:13:12.880813Z",
     "iopub.status.busy": "2021-02-11T15:13:12.880813Z",
     "iopub.status.idle": "2021-02-11T15:13:12.887817Z",
     "shell.execute_reply": "2021-02-11T15:13:12.887817Z",
     "shell.execute_reply.started": "2021-02-11T15:13:12.880813Z"
    },
    "hidden": true
   },
   "outputs": [
    {
     "data": {
      "text/plain": [
       "{'price': 1200, '_volume': 100, '_FinancialInstrument__value': 120000}"
      ]
     },
     "execution_count": 41,
     "metadata": {},
     "output_type": "execute_result"
    }
   ],
   "source": [
    "GOOGL.__dict__"
   ]
  },
  {
   "cell_type": "code",
   "execution_count": 42,
   "metadata": {
    "ExecuteTime": {
     "end_time": "2020-03-02T05:54:22.746937Z",
     "start_time": "2020-03-02T05:54:22.743485Z"
    },
    "execution": {
     "iopub.execute_input": "2021-02-11T15:13:13.615526Z",
     "iopub.status.busy": "2021-02-11T15:13:13.615526Z",
     "iopub.status.idle": "2021-02-11T15:13:13.628066Z",
     "shell.execute_reply": "2021-02-11T15:13:13.628066Z",
     "shell.execute_reply.started": "2021-02-11T15:13:13.615526Z"
    },
    "hidden": true
   },
   "outputs": [
    {
     "data": {
      "text/plain": [
       "{'price': 1200, '_volume': 100, '_FinancialInstrument__value': 120000}"
      ]
     },
     "execution_count": 42,
     "metadata": {},
     "output_type": "execute_result"
    }
   ],
   "source": [
    "vars(GOOGL)"
   ]
  },
  {
   "cell_type": "code",
   "execution_count": 43,
   "metadata": {
    "ExecuteTime": {
     "end_time": "2020-03-02T05:54:22.752407Z",
     "start_time": "2020-03-02T05:54:22.748670Z"
    },
    "execution": {
     "iopub.execute_input": "2021-02-11T15:13:14.384570Z",
     "iopub.status.busy": "2021-02-11T15:13:14.384570Z",
     "iopub.status.idle": "2021-02-11T15:13:14.394123Z",
     "shell.execute_reply": "2021-02-11T15:13:14.393583Z",
     "shell.execute_reply.started": "2021-02-11T15:13:14.384570Z"
    },
    "hidden": true
   },
   "outputs": [
    {
     "data": {
      "text/plain": [
       "mappingproxy({'__module__': '__main__',\n",
       "              '__init__': <function __main__.FinancialInstrument.__init__(self, price, volume)>,\n",
       "              'buy': <function __main__.FinancialInstrument.buy(self)>,\n",
       "              'hold': <function __main__.FinancialInstrument.hold(self)>,\n",
       "              'short_sell': <function __main__.FinancialInstrument.short_sell(self, stop_loss)>,\n",
       "              '__dict__': <attribute '__dict__' of 'FinancialInstrument' objects>,\n",
       "              '__weakref__': <attribute '__weakref__' of 'FinancialInstrument' objects>,\n",
       "              '__doc__': None})"
      ]
     },
     "execution_count": 43,
     "metadata": {},
     "output_type": "execute_result"
    }
   ],
   "source": [
    "vars(FinancialInstrument)"
   ]
  },
  {
   "cell_type": "code",
   "execution_count": 44,
   "metadata": {
    "ExecuteTime": {
     "end_time": "2020-03-02T05:54:22.757940Z",
     "start_time": "2020-03-02T05:54:22.754121Z"
    },
    "execution": {
     "iopub.execute_input": "2021-02-11T15:13:15.382041Z",
     "iopub.status.busy": "2021-02-11T15:13:15.382041Z",
     "iopub.status.idle": "2021-02-11T15:13:15.391318Z",
     "shell.execute_reply": "2021-02-11T15:13:15.390336Z",
     "shell.execute_reply.started": "2021-02-11T15:13:15.382041Z"
    },
    "hidden": true
   },
   "outputs": [
    {
     "data": {
      "text/plain": [
       "mappingproxy({'__module__': '__main__',\n",
       "              '__init__': <function __main__.FinancialInstrument.__init__(self, price, volume)>,\n",
       "              'buy': <function __main__.FinancialInstrument.buy(self)>,\n",
       "              'hold': <function __main__.FinancialInstrument.hold(self)>,\n",
       "              'short_sell': <function __main__.FinancialInstrument.short_sell(self, stop_loss)>,\n",
       "              '__dict__': <attribute '__dict__' of 'FinancialInstrument' objects>,\n",
       "              '__weakref__': <attribute '__weakref__' of 'FinancialInstrument' objects>,\n",
       "              '__doc__': None})"
      ]
     },
     "execution_count": 44,
     "metadata": {},
     "output_type": "execute_result"
    }
   ],
   "source": [
    "FinancialInstrument.__dict__"
   ]
  },
  {
   "cell_type": "code",
   "execution_count": 45,
   "metadata": {
    "ExecuteTime": {
     "end_time": "2020-03-02T05:54:22.841976Z",
     "start_time": "2020-03-02T05:54:22.759615Z"
    },
    "execution": {
     "iopub.execute_input": "2021-02-11T15:13:16.125892Z",
     "iopub.status.busy": "2021-02-11T15:13:16.125892Z",
     "iopub.status.idle": "2021-02-11T15:13:16.148889Z",
     "shell.execute_reply": "2021-02-11T15:13:16.147887Z",
     "shell.execute_reply.started": "2021-02-11T15:13:16.125892Z"
    },
    "hidden": true
   },
   "outputs": [
    {
     "ename": "AttributeError",
     "evalue": "'FinancialInstrument' object has no attribute '__value'",
     "output_type": "error",
     "traceback": [
      "\u001b[1;31m---------------------------------------------------------------------------\u001b[0m",
      "\u001b[1;31mAttributeError\u001b[0m                            Traceback (most recent call last)",
      "\u001b[1;32m<ipython-input-45-611544ee6e70>\u001b[0m in \u001b[0;36m<module>\u001b[1;34m\u001b[0m\n\u001b[1;32m----> 1\u001b[1;33m \u001b[0mGOOGL\u001b[0m\u001b[1;33m.\u001b[0m\u001b[0m__value\u001b[0m \u001b[1;31m# as it is read only\u001b[0m\u001b[1;33m\u001b[0m\u001b[1;33m\u001b[0m\u001b[0m\n\u001b[0m",
      "\u001b[1;31mAttributeError\u001b[0m: 'FinancialInstrument' object has no attribute '__value'"
     ]
    }
   ],
   "source": [
    "GOOGL.__value # as it is read only "
   ]
  },
  {
   "cell_type": "code",
   "execution_count": 48,
   "metadata": {
    "ExecuteTime": {
     "end_time": "2020-03-02T05:54:46.258272Z",
     "start_time": "2020-03-02T05:54:46.255713Z"
    },
    "execution": {
     "iopub.execute_input": "2021-02-11T15:13:51.949229Z",
     "iopub.status.busy": "2021-02-11T15:13:51.949229Z",
     "iopub.status.idle": "2021-02-11T15:13:51.962556Z",
     "shell.execute_reply": "2021-02-11T15:13:51.962556Z",
     "shell.execute_reply.started": "2021-02-11T15:13:51.949229Z"
    },
    "hidden": true
   },
   "outputs": [],
   "source": [
    "GOOGL.__value = 1200 * 10000"
   ]
  },
  {
   "cell_type": "code",
   "execution_count": 49,
   "metadata": {
    "ExecuteTime": {
     "end_time": "2020-03-02T05:54:47.185223Z",
     "start_time": "2020-03-02T05:54:47.181969Z"
    },
    "execution": {
     "iopub.execute_input": "2021-02-11T15:13:53.500614Z",
     "iopub.status.busy": "2021-02-11T15:13:53.500614Z",
     "iopub.status.idle": "2021-02-11T15:13:53.510117Z",
     "shell.execute_reply": "2021-02-11T15:13:53.509111Z",
     "shell.execute_reply.started": "2021-02-11T15:13:53.500614Z"
    },
    "hidden": true
   },
   "outputs": [
    {
     "data": {
      "text/plain": [
       "{'price': 1200,\n",
       " '_volume': 100,\n",
       " '_FinancialInstrument__value': 120000,\n",
       " '__value': 12000000}"
      ]
     },
     "execution_count": 49,
     "metadata": {},
     "output_type": "execute_result"
    }
   ],
   "source": [
    "GOOGL.__dict__"
   ]
  },
  {
   "cell_type": "code",
   "execution_count": 51,
   "metadata": {
    "ExecuteTime": {
     "end_time": "2020-03-02T05:54:51.485477Z",
     "start_time": "2020-03-02T05:54:51.479970Z"
    },
    "execution": {
     "iopub.execute_input": "2021-02-11T15:16:12.084597Z",
     "iopub.status.busy": "2021-02-11T15:16:12.084597Z",
     "iopub.status.idle": "2021-02-11T15:16:12.104377Z",
     "shell.execute_reply": "2021-02-11T15:16:12.103377Z",
     "shell.execute_reply.started": "2021-02-11T15:16:12.084597Z"
    },
    "hidden": true
   },
   "outputs": [
    {
     "data": {
      "text/plain": [
       "['buy', 'hold', 'short_sell']"
      ]
     },
     "execution_count": 51,
     "metadata": {},
     "output_type": "execute_result"
    }
   ],
   "source": [
    "object_methods = [method_name for method_name in dir(GOOGL)\n",
    "                  if callable(getattr(GOOGL, method_name)) and (not method_name.startswith(\"__\"))]\n",
    "object_methods\n"
   ]
  },
  {
   "cell_type": "markdown",
   "metadata": {
    "hidden": true
   },
   "source": [
    "### Methods vs Functions"
   ]
  },
  {
   "cell_type": "markdown",
   "metadata": {
    "ExecuteTime": {
     "end_time": "2019-05-28T18:08:37.243358Z",
     "start_time": "2019-05-28T18:08:37.239914Z"
    },
    "hidden": true
   },
   "source": [
    "We try to understand the difference between builtin **sorted function** AND **sort method of List class**"
   ]
  },
  {
   "cell_type": "code",
   "execution_count": 52,
   "metadata": {
    "ExecuteTime": {
     "end_time": "2020-03-02T05:54:55.177509Z",
     "start_time": "2020-03-02T05:54:55.174499Z"
    },
    "execution": {
     "iopub.execute_input": "2021-02-11T15:19:24.846302Z",
     "iopub.status.busy": "2021-02-11T15:19:24.846302Z",
     "iopub.status.idle": "2021-02-11T15:19:24.861620Z",
     "shell.execute_reply": "2021-02-11T15:19:24.861620Z",
     "shell.execute_reply.started": "2021-02-11T15:19:24.846302Z"
    },
    "hidden": true
   },
   "outputs": [],
   "source": [
    "from random import randint as ri\n",
    "lookback_days = [ri(1, 20) for i in range(5)]"
   ]
  },
  {
   "cell_type": "code",
   "execution_count": 53,
   "metadata": {
    "ExecuteTime": {
     "end_time": "2020-03-02T05:54:55.734940Z",
     "start_time": "2020-03-02T05:54:55.731321Z"
    },
    "execution": {
     "iopub.execute_input": "2021-02-11T15:19:42.065430Z",
     "iopub.status.busy": "2021-02-11T15:19:42.065430Z",
     "iopub.status.idle": "2021-02-11T15:19:42.072439Z",
     "shell.execute_reply": "2021-02-11T15:19:42.072439Z",
     "shell.execute_reply.started": "2021-02-11T15:19:42.065430Z"
    },
    "hidden": true
   },
   "outputs": [
    {
     "data": {
      "text/plain": [
       "[17, 13, 7, 19, 6]"
      ]
     },
     "execution_count": 53,
     "metadata": {},
     "output_type": "execute_result"
    }
   ],
   "source": [
    "lookback_days"
   ]
  },
  {
   "cell_type": "code",
   "execution_count": 54,
   "metadata": {
    "ExecuteTime": {
     "end_time": "2020-03-02T05:54:56.202629Z",
     "start_time": "2020-03-02T05:54:56.198421Z"
    },
    "execution": {
     "iopub.execute_input": "2021-02-11T15:19:55.695413Z",
     "iopub.status.busy": "2021-02-11T15:19:55.695413Z",
     "iopub.status.idle": "2021-02-11T15:19:55.714915Z",
     "shell.execute_reply": "2021-02-11T15:19:55.713914Z",
     "shell.execute_reply.started": "2021-02-11T15:19:55.695413Z"
    },
    "hidden": true
   },
   "outputs": [
    {
     "data": {
      "text/plain": [
       "[6, 7, 13, 17, 19]"
      ]
     },
     "execution_count": 54,
     "metadata": {},
     "output_type": "execute_result"
    }
   ],
   "source": [
    "sorted(lookback_days)  # Function"
   ]
  },
  {
   "cell_type": "markdown",
   "metadata": {
    "ExecuteTime": {
     "end_time": "2019-05-26T11:46:48.530696Z",
     "start_time": "2019-05-26T11:46:48.526745Z"
    },
    "hidden": true
   },
   "source": [
    "__Signature__: sorted(iterable[, key=None][, reverse=False])<br>\n",
    "keyword arguments: __key, reverse__"
   ]
  },
  {
   "cell_type": "code",
   "execution_count": 55,
   "metadata": {
    "ExecuteTime": {
     "end_time": "2020-03-02T05:54:57.447947Z",
     "start_time": "2020-03-02T05:54:57.424034Z"
    },
    "execution": {
     "iopub.execute_input": "2021-02-11T15:20:00.239872Z",
     "iopub.status.busy": "2021-02-11T15:20:00.239872Z",
     "iopub.status.idle": "2021-02-11T15:20:00.256371Z",
     "shell.execute_reply": "2021-02-11T15:20:00.256371Z",
     "shell.execute_reply.started": "2021-02-11T15:20:00.239872Z"
    },
    "hidden": true
   },
   "outputs": [
    {
     "data": {
      "text/plain": [
       "\u001b[1;31mSignature:\u001b[0m \u001b[0msorted\u001b[0m\u001b[1;33m(\u001b[0m\u001b[0miterable\u001b[0m\u001b[1;33m,\u001b[0m \u001b[1;33m/\u001b[0m\u001b[1;33m,\u001b[0m \u001b[1;33m*\u001b[0m\u001b[1;33m,\u001b[0m \u001b[0mkey\u001b[0m\u001b[1;33m=\u001b[0m\u001b[1;32mNone\u001b[0m\u001b[1;33m,\u001b[0m \u001b[0mreverse\u001b[0m\u001b[1;33m=\u001b[0m\u001b[1;32mFalse\u001b[0m\u001b[1;33m)\u001b[0m\u001b[1;33m\u001b[0m\u001b[1;33m\u001b[0m\u001b[0m\n",
       "\u001b[1;31mDocstring:\u001b[0m\n",
       "Return a new list containing all items from the iterable in ascending order.\n",
       "\n",
       "A custom key function can be supplied to customize the sort order, and the\n",
       "reverse flag can be set to request the result in descending order.\n",
       "\u001b[1;31mType:\u001b[0m      builtin_function_or_method\n"
      ]
     },
     "metadata": {},
     "output_type": "display_data"
    }
   ],
   "source": [
    "?sorted"
   ]
  },
  {
   "cell_type": "code",
   "execution_count": 56,
   "metadata": {
    "ExecuteTime": {
     "end_time": "2020-03-02T05:55:02.066532Z",
     "start_time": "2020-03-02T05:55:02.062772Z"
    },
    "execution": {
     "iopub.execute_input": "2021-02-11T15:20:13.401538Z",
     "iopub.status.busy": "2021-02-11T15:20:13.401538Z",
     "iopub.status.idle": "2021-02-11T15:20:13.418104Z",
     "shell.execute_reply": "2021-02-11T15:20:13.418104Z",
     "shell.execute_reply.started": "2021-02-11T15:20:13.401538Z"
    },
    "hidden": true
   },
   "outputs": [
    {
     "data": {
      "text/plain": [
       "[17, 13, 7, 19, 6]"
      ]
     },
     "execution_count": 56,
     "metadata": {},
     "output_type": "execute_result"
    }
   ],
   "source": [
    "lookback_days_copy = lookback_days.copy()\n",
    "lookback_days"
   ]
  },
  {
   "cell_type": "code",
   "execution_count": 57,
   "metadata": {
    "ExecuteTime": {
     "end_time": "2020-03-02T05:55:02.517590Z",
     "start_time": "2020-03-02T05:55:02.514613Z"
    },
    "execution": {
     "iopub.execute_input": "2021-02-11T15:20:15.502923Z",
     "iopub.status.busy": "2021-02-11T15:20:15.502923Z",
     "iopub.status.idle": "2021-02-11T15:20:15.512432Z",
     "shell.execute_reply": "2021-02-11T15:20:15.512432Z",
     "shell.execute_reply.started": "2021-02-11T15:20:15.502923Z"
    },
    "hidden": true
   },
   "outputs": [],
   "source": [
    "lookback_days.sort()  # method of class list"
   ]
  },
  {
   "cell_type": "code",
   "execution_count": 58,
   "metadata": {
    "ExecuteTime": {
     "end_time": "2020-03-02T05:55:02.943471Z",
     "start_time": "2020-03-02T05:55:02.939950Z"
    },
    "execution": {
     "iopub.execute_input": "2021-02-11T15:20:37.185233Z",
     "iopub.status.busy": "2021-02-11T15:20:37.185233Z",
     "iopub.status.idle": "2021-02-11T15:20:37.190792Z",
     "shell.execute_reply": "2021-02-11T15:20:37.190792Z",
     "shell.execute_reply.started": "2021-02-11T15:20:37.185233Z"
    },
    "hidden": true
   },
   "outputs": [
    {
     "data": {
      "text/plain": [
       "[6, 7, 13, 17, 19]"
      ]
     },
     "execution_count": 58,
     "metadata": {},
     "output_type": "execute_result"
    }
   ],
   "source": [
    "lookback_days"
   ]
  },
  {
   "cell_type": "code",
   "execution_count": 59,
   "metadata": {
    "ExecuteTime": {
     "end_time": "2020-03-02T05:55:03.209506Z",
     "start_time": "2020-03-02T05:55:03.206096Z"
    },
    "execution": {
     "iopub.execute_input": "2021-02-11T15:20:46.223299Z",
     "iopub.status.busy": "2021-02-11T15:20:46.223299Z",
     "iopub.status.idle": "2021-02-11T15:20:46.242849Z",
     "shell.execute_reply": "2021-02-11T15:20:46.241841Z",
     "shell.execute_reply.started": "2021-02-11T15:20:46.223299Z"
    },
    "hidden": true
   },
   "outputs": [
    {
     "data": {
      "text/plain": [
       "[17, 13, 7, 19, 6]"
      ]
     },
     "execution_count": 59,
     "metadata": {},
     "output_type": "execute_result"
    }
   ],
   "source": [
    "lookback_days_copy"
   ]
  },
  {
   "cell_type": "code",
   "execution_count": 60,
   "metadata": {
    "ExecuteTime": {
     "end_time": "2020-03-02T05:55:03.428435Z",
     "start_time": "2020-03-02T05:55:03.425591Z"
    },
    "execution": {
     "iopub.execute_input": "2021-02-11T15:20:52.168271Z",
     "iopub.status.busy": "2021-02-11T15:20:52.168271Z",
     "iopub.status.idle": "2021-02-11T15:20:52.180272Z",
     "shell.execute_reply": "2021-02-11T15:20:52.179271Z",
     "shell.execute_reply.started": "2021-02-11T15:20:52.168271Z"
    },
    "hidden": true
   },
   "outputs": [],
   "source": [
    "list.sort(lookback_days_copy)"
   ]
  },
  {
   "cell_type": "code",
   "execution_count": 61,
   "metadata": {
    "ExecuteTime": {
     "end_time": "2020-03-02T05:55:03.643881Z",
     "start_time": "2020-03-02T05:55:03.640357Z"
    },
    "execution": {
     "iopub.execute_input": "2021-02-11T15:21:06.106166Z",
     "iopub.status.busy": "2021-02-11T15:21:06.106166Z",
     "iopub.status.idle": "2021-02-11T15:21:06.112700Z",
     "shell.execute_reply": "2021-02-11T15:21:06.112169Z",
     "shell.execute_reply.started": "2021-02-11T15:21:06.106166Z"
    },
    "hidden": true
   },
   "outputs": [
    {
     "data": {
      "text/plain": [
       "[6, 7, 13, 17, 19]"
      ]
     },
     "execution_count": 61,
     "metadata": {},
     "output_type": "execute_result"
    }
   ],
   "source": [
    "lookback_days_copy"
   ]
  },
  {
   "cell_type": "markdown",
   "metadata": {
    "hidden": true
   },
   "source": [
    "### OOP vs Procedural programming\n",
    "    "
   ]
  },
  {
   "cell_type": "markdown",
   "metadata": {
    "ExecuteTime": {
     "end_time": "2019-05-28T18:51:21.000886Z",
     "start_time": "2019-05-28T18:51:20.997086Z"
    },
    "hidden": true
   },
   "source": [
    " - class encompasses methods. Hence class is superset of function. \n",
    " - Class supports inheritance\n",
    " - A class is a blueprint to create several examples. Analogous to user defined data structure. \n",
    " - A function is a mapping analogous to a dictionary in python"
   ]
  },
  {
   "cell_type": "code",
   "execution_count": 62,
   "metadata": {
    "ExecuteTime": {
     "end_time": "2020-03-02T05:55:05.480088Z",
     "start_time": "2020-03-02T05:55:05.477690Z"
    },
    "execution": {
     "iopub.execute_input": "2021-02-11T15:27:06.666904Z",
     "iopub.status.busy": "2021-02-11T15:27:06.666904Z",
     "iopub.status.idle": "2021-02-11T15:27:06.679410Z",
     "shell.execute_reply": "2021-02-11T15:27:06.679410Z",
     "shell.execute_reply.started": "2021-02-11T15:27:06.666904Z"
    },
    "hidden": true
   },
   "outputs": [],
   "source": [
    "class MomentumStrategy:\n",
    "     pass"
   ]
  },
  {
   "cell_type": "code",
   "execution_count": 63,
   "metadata": {
    "ExecuteTime": {
     "end_time": "2020-03-02T05:55:05.915731Z",
     "start_time": "2020-03-02T05:55:05.912417Z"
    },
    "execution": {
     "iopub.execute_input": "2021-02-11T15:27:08.559099Z",
     "iopub.status.busy": "2021-02-11T15:27:08.559099Z",
     "iopub.status.idle": "2021-02-11T15:27:08.565086Z",
     "shell.execute_reply": "2021-02-11T15:27:08.564087Z",
     "shell.execute_reply.started": "2021-02-11T15:27:08.559099Z"
    },
    "hidden": true
   },
   "outputs": [
    {
     "data": {
      "text/plain": [
       "1840308905544"
      ]
     },
     "execution_count": 63,
     "metadata": {},
     "output_type": "execute_result"
    }
   ],
   "source": [
    "strategy = MomentumStrategy()\n",
    "id(strategy)"
   ]
  },
  {
   "cell_type": "code",
   "execution_count": 64,
   "metadata": {
    "ExecuteTime": {
     "end_time": "2020-03-02T05:55:06.208045Z",
     "start_time": "2020-03-02T05:55:06.204359Z"
    },
    "execution": {
     "iopub.execute_input": "2021-02-11T15:27:15.079599Z",
     "iopub.status.busy": "2021-02-11T15:27:15.079599Z",
     "iopub.status.idle": "2021-02-11T15:27:15.093587Z",
     "shell.execute_reply": "2021-02-11T15:27:15.093587Z",
     "shell.execute_reply.started": "2021-02-11T15:27:15.079599Z"
    },
    "hidden": true
   },
   "outputs": [
    {
     "data": {
      "text/plain": [
       "1840308791880"
      ]
     },
     "execution_count": 64,
     "metadata": {},
     "output_type": "execute_result"
    }
   ],
   "source": [
    "strategy = MomentumStrategy()\n",
    "id(strategy)"
   ]
  },
  {
   "cell_type": "code",
   "execution_count": 65,
   "metadata": {
    "ExecuteTime": {
     "end_time": "2020-03-02T05:55:06.439150Z",
     "start_time": "2020-03-02T05:55:06.436451Z"
    },
    "execution": {
     "iopub.execute_input": "2021-02-11T15:27:28.488319Z",
     "iopub.status.busy": "2021-02-11T15:27:28.488319Z",
     "iopub.status.idle": "2021-02-11T15:27:28.499634Z",
     "shell.execute_reply": "2021-02-11T15:27:28.499634Z",
     "shell.execute_reply.started": "2021-02-11T15:27:28.488319Z"
    },
    "hidden": true
   },
   "outputs": [],
   "source": [
    "def PERatio(ticker): return 31 if ticker=='FB' else None"
   ]
  },
  {
   "cell_type": "code",
   "execution_count": 68,
   "metadata": {
    "ExecuteTime": {
     "end_time": "2020-03-02T05:55:06.667779Z",
     "start_time": "2020-03-02T05:55:06.664295Z"
    },
    "execution": {
     "iopub.execute_input": "2021-02-11T15:28:30.898044Z",
     "iopub.status.busy": "2021-02-11T15:28:30.898044Z",
     "iopub.status.idle": "2021-02-11T15:28:30.903550Z",
     "shell.execute_reply": "2021-02-11T15:28:30.903550Z",
     "shell.execute_reply.started": "2021-02-11T15:28:30.898044Z"
    },
    "hidden": true
   },
   "outputs": [
    {
     "data": {
      "text/plain": [
       "140713731990864"
      ]
     },
     "execution_count": 68,
     "metadata": {},
     "output_type": "execute_result"
    }
   ],
   "source": [
    "FB = PERatio('FB')\n",
    "id(FB)"
   ]
  },
  {
   "cell_type": "code",
   "execution_count": 69,
   "metadata": {
    "ExecuteTime": {
     "end_time": "2020-03-02T05:55:06.920388Z",
     "start_time": "2020-03-02T05:55:06.917039Z"
    },
    "execution": {
     "iopub.execute_input": "2021-02-11T15:28:31.803367Z",
     "iopub.status.busy": "2021-02-11T15:28:31.802365Z",
     "iopub.status.idle": "2021-02-11T15:28:31.821378Z",
     "shell.execute_reply": "2021-02-11T15:28:31.821378Z",
     "shell.execute_reply.started": "2021-02-11T15:28:31.803367Z"
    },
    "hidden": true
   },
   "outputs": [
    {
     "data": {
      "text/plain": [
       "140713731990864"
      ]
     },
     "execution_count": 69,
     "metadata": {},
     "output_type": "execute_result"
    }
   ],
   "source": [
    "FB = PERatio('FB')\n",
    "id(FB)"
   ]
  },
  {
   "cell_type": "code",
   "execution_count": 70,
   "metadata": {
    "ExecuteTime": {
     "end_time": "2020-03-02T05:55:08.001693Z",
     "start_time": "2020-03-02T05:55:07.998264Z"
    },
    "execution": {
     "iopub.execute_input": "2021-02-11T15:28:33.567834Z",
     "iopub.status.busy": "2021-02-11T15:28:33.567834Z",
     "iopub.status.idle": "2021-02-11T15:28:33.581182Z",
     "shell.execute_reply": "2021-02-11T15:28:33.580188Z",
     "shell.execute_reply.started": "2021-02-11T15:28:33.567834Z"
    },
    "hidden": true
   },
   "outputs": [
    {
     "data": {
      "text/plain": [
       "31"
      ]
     },
     "execution_count": 70,
     "metadata": {},
     "output_type": "execute_result"
    }
   ],
   "source": [
    "PERatio = {'FB':31}\n",
    "PERatio['FB']"
   ]
  },
  {
   "cell_type": "markdown",
   "metadata": {
    "ExecuteTime": {
     "end_time": "2019-05-18T07:03:38.916132Z",
     "start_time": "2019-05-18T07:03:38.912554Z"
    },
    "heading_collapsed": true
   },
   "source": [
    "## \\_\\_init\\_\\_"
   ]
  },
  {
   "cell_type": "code",
   "execution_count": 71,
   "metadata": {
    "ExecuteTime": {
     "end_time": "2020-03-02T05:55:11.195978Z",
     "start_time": "2020-03-02T05:55:11.192625Z"
    },
    "execution": {
     "iopub.execute_input": "2021-02-11T17:11:02.574082Z",
     "iopub.status.busy": "2021-02-11T17:11:02.574082Z",
     "iopub.status.idle": "2021-02-11T17:11:02.586104Z",
     "shell.execute_reply": "2021-02-11T17:11:02.585104Z",
     "shell.execute_reply.started": "2021-02-11T17:11:02.574082Z"
    },
    "hidden": true
   },
   "outputs": [],
   "source": [
    "class sample():\n",
    "    def __init__(self,a,b):\n",
    "        self.a = a\n",
    "        self.b = b\n",
    "    def another(self):\n",
    "        self.c = self.a + self.b"
   ]
  },
  {
   "cell_type": "code",
   "execution_count": 72,
   "metadata": {
    "ExecuteTime": {
     "end_time": "2020-03-02T05:55:12.036268Z",
     "start_time": "2020-03-02T05:55:12.033773Z"
    },
    "execution": {
     "iopub.execute_input": "2021-02-11T17:11:03.111738Z",
     "iopub.status.busy": "2021-02-11T17:11:03.111738Z",
     "iopub.status.idle": "2021-02-11T17:11:03.115746Z",
     "shell.execute_reply": "2021-02-11T17:11:03.115746Z",
     "shell.execute_reply.started": "2021-02-11T17:11:03.111738Z"
    },
    "hidden": true
   },
   "outputs": [],
   "source": [
    "s = sample(1,2)"
   ]
  },
  {
   "cell_type": "code",
   "execution_count": 73,
   "metadata": {
    "ExecuteTime": {
     "end_time": "2020-03-02T05:55:12.499360Z",
     "start_time": "2020-03-02T05:55:12.495906Z"
    },
    "execution": {
     "iopub.execute_input": "2021-02-11T17:11:03.933416Z",
     "iopub.status.busy": "2021-02-11T17:11:03.933416Z",
     "iopub.status.idle": "2021-02-11T17:11:03.939423Z",
     "shell.execute_reply": "2021-02-11T17:11:03.939423Z",
     "shell.execute_reply.started": "2021-02-11T17:11:03.933416Z"
    },
    "hidden": true
   },
   "outputs": [
    {
     "data": {
      "text/plain": [
       "{'a': 1, 'b': 2}"
      ]
     },
     "execution_count": 73,
     "metadata": {},
     "output_type": "execute_result"
    }
   ],
   "source": [
    "vars(s)"
   ]
  },
  {
   "cell_type": "code",
   "execution_count": 74,
   "metadata": {
    "ExecuteTime": {
     "end_time": "2020-03-02T05:55:12.794076Z",
     "start_time": "2020-03-02T05:55:12.791470Z"
    },
    "execution": {
     "iopub.execute_input": "2021-02-11T17:11:04.732211Z",
     "iopub.status.busy": "2021-02-11T17:11:04.732211Z",
     "iopub.status.idle": "2021-02-11T17:11:04.739215Z",
     "shell.execute_reply": "2021-02-11T17:11:04.738214Z",
     "shell.execute_reply.started": "2021-02-11T17:11:04.732211Z"
    },
    "hidden": true
   },
   "outputs": [],
   "source": [
    "s.another()"
   ]
  },
  {
   "cell_type": "code",
   "execution_count": 75,
   "metadata": {
    "ExecuteTime": {
     "end_time": "2020-03-02T05:55:13.714502Z",
     "start_time": "2020-03-02T05:55:13.710903Z"
    },
    "execution": {
     "iopub.execute_input": "2021-02-11T17:11:11.776450Z",
     "iopub.status.busy": "2021-02-11T17:11:11.776450Z",
     "iopub.status.idle": "2021-02-11T17:11:11.791968Z",
     "shell.execute_reply": "2021-02-11T17:11:11.791968Z",
     "shell.execute_reply.started": "2021-02-11T17:11:11.776450Z"
    },
    "hidden": true
   },
   "outputs": [
    {
     "data": {
      "text/plain": [
       "{'a': 1, 'b': 2, 'c': 3}"
      ]
     },
     "execution_count": 75,
     "metadata": {},
     "output_type": "execute_result"
    }
   ],
   "source": [
    "vars(s)"
   ]
  },
  {
   "cell_type": "markdown",
   "metadata": {
    "hidden": true
   },
   "source": [
    "\\_\\_init\\_\\_ is a special function which is invoked each time an object is created. It is commonly referred as constructor method of the class.\n",
    "\n",
    "Syntactically, __*self*__ identifies the instance upon which a method is invoked."
   ]
  },
  {
   "cell_type": "code",
   "execution_count": 76,
   "metadata": {
    "ExecuteTime": {
     "end_time": "2020-03-02T05:56:04.363435Z",
     "start_time": "2020-03-02T05:56:04.359446Z"
    },
    "execution": {
     "iopub.execute_input": "2021-02-11T17:11:59.829439Z",
     "iopub.status.busy": "2021-02-11T17:11:59.829439Z",
     "iopub.status.idle": "2021-02-11T17:11:59.842478Z",
     "shell.execute_reply": "2021-02-11T17:11:59.842478Z",
     "shell.execute_reply.started": "2021-02-11T17:11:59.829439Z"
    },
    "hidden": true
   },
   "outputs": [],
   "source": [
    "class FinancialInstrument(object):\n",
    "    def __init__(self, symbol, price):\n",
    "        self.symbol = symbol\n",
    "        self.__price = price  \n",
    "    def get_price(self):\n",
    "        return self.__price\n",
    "    def set_price(self, price):\n",
    "        self.__price = price\n",
    "        \n",
    "keyword_argument = {'symbol':'AAPL', 'price':100}\n",
    "s1 = FinancialInstrument(**keyword_argument)"
   ]
  },
  {
   "cell_type": "code",
   "execution_count": 77,
   "metadata": {
    "ExecuteTime": {
     "end_time": "2020-03-02T05:56:06.487304Z",
     "start_time": "2020-03-02T05:56:06.483772Z"
    },
    "execution": {
     "iopub.execute_input": "2021-02-11T17:12:01.385390Z",
     "iopub.status.busy": "2021-02-11T17:12:01.385390Z",
     "iopub.status.idle": "2021-02-11T17:12:01.400393Z",
     "shell.execute_reply": "2021-02-11T17:12:01.399398Z",
     "shell.execute_reply.started": "2021-02-11T17:12:01.385390Z"
    },
    "hidden": true
   },
   "outputs": [
    {
     "data": {
      "text/plain": [
       "'AAPL'"
      ]
     },
     "execution_count": 77,
     "metadata": {},
     "output_type": "execute_result"
    }
   ],
   "source": [
    "s1.symbol"
   ]
  },
  {
   "cell_type": "code",
   "execution_count": 78,
   "metadata": {
    "ExecuteTime": {
     "end_time": "2020-03-02T05:56:07.202040Z",
     "start_time": "2020-03-02T05:56:07.198583Z"
    },
    "execution": {
     "iopub.execute_input": "2021-02-11T17:12:04.777398Z",
     "iopub.status.busy": "2021-02-11T17:12:04.777398Z",
     "iopub.status.idle": "2021-02-11T17:12:04.782908Z",
     "shell.execute_reply": "2021-02-11T17:12:04.782908Z",
     "shell.execute_reply.started": "2021-02-11T17:12:04.777398Z"
    },
    "hidden": true
   },
   "outputs": [
    {
     "data": {
      "text/plain": [
       "{'symbol': 'AAPL', '_FinancialInstrument__price': 100}"
      ]
     },
     "execution_count": 78,
     "metadata": {},
     "output_type": "execute_result"
    }
   ],
   "source": [
    "s1.__dict__"
   ]
  },
  {
   "cell_type": "markdown",
   "metadata": {
    "heading_collapsed": true
   },
   "source": [
    "## Instance attributes vs Class attributes"
   ]
  },
  {
   "cell_type": "markdown",
   "metadata": {
    "hidden": true
   },
   "source": [
    "While instance attributes are specific to each object, class attributes are the same for all instances."
   ]
  },
  {
   "cell_type": "code",
   "execution_count": 79,
   "metadata": {
    "ExecuteTime": {
     "end_time": "2020-03-02T05:56:28.998913Z",
     "start_time": "2020-03-02T05:56:28.995996Z"
    },
    "execution": {
     "iopub.execute_input": "2021-02-11T17:13:00.954659Z",
     "iopub.status.busy": "2021-02-11T17:13:00.954659Z",
     "iopub.status.idle": "2021-02-11T17:13:00.959659Z",
     "shell.execute_reply": "2021-02-11T17:13:00.959659Z",
     "shell.execute_reply.started": "2021-02-11T17:13:00.954659Z"
    },
    "hidden": true
   },
   "outputs": [],
   "source": [
    "class FinancialInstrument(object):\n",
    "    n_instruments = 0 ## class attribute\n",
    "\n",
    "    def __init__(self, symbol):\n",
    "        self.symbol = symbol ## instance attribute\n",
    "        FinancialInstrument.n_instruments += 1"
   ]
  },
  {
   "cell_type": "code",
   "execution_count": 96,
   "metadata": {
    "ExecuteTime": {
     "end_time": "2020-03-02T05:56:29.572022Z",
     "start_time": "2020-03-02T05:56:29.568523Z"
    },
    "execution": {
     "iopub.execute_input": "2021-02-11T17:23:03.337590Z",
     "iopub.status.busy": "2021-02-11T17:23:03.337590Z",
     "iopub.status.idle": "2021-02-11T17:23:03.346097Z",
     "shell.execute_reply": "2021-02-11T17:23:03.345096Z",
     "shell.execute_reply.started": "2021-02-11T17:23:03.337590Z"
    },
    "hidden": true
   },
   "outputs": [
    {
     "data": {
      "text/plain": [
       "16"
      ]
     },
     "execution_count": 96,
     "metadata": {},
     "output_type": "execute_result"
    }
   ],
   "source": [
    "s1 = FinancialInstrument(\"AAPL\")\n",
    "s1.n_instruments"
   ]
  },
  {
   "cell_type": "code",
   "execution_count": 98,
   "metadata": {
    "ExecuteTime": {
     "end_time": "2020-03-02T05:56:30.839624Z",
     "start_time": "2020-03-02T05:56:30.836043Z"
    },
    "execution": {
     "iopub.execute_input": "2021-02-11T17:44:56.707100Z",
     "iopub.status.busy": "2021-02-11T17:44:56.707100Z",
     "iopub.status.idle": "2021-02-11T17:44:56.712686Z",
     "shell.execute_reply": "2021-02-11T17:44:56.712686Z",
     "shell.execute_reply.started": "2021-02-11T17:44:56.707100Z"
    },
    "hidden": true
   },
   "outputs": [
    {
     "data": {
      "text/plain": [
       "18"
      ]
     },
     "execution_count": 98,
     "metadata": {},
     "output_type": "execute_result"
    }
   ],
   "source": [
    "s2 = FinancialInstrument(\"GOOGL\")\n",
    "FinancialInstrument.n_instruments"
   ]
  },
  {
   "cell_type": "code",
   "execution_count": 99,
   "metadata": {
    "ExecuteTime": {
     "end_time": "2020-03-02T05:56:31.503541Z",
     "start_time": "2020-03-02T05:56:31.489279Z"
    },
    "execution": {
     "iopub.execute_input": "2021-02-11T17:45:06.466881Z",
     "iopub.status.busy": "2021-02-11T17:45:06.466881Z",
     "iopub.status.idle": "2021-02-11T17:45:06.503430Z",
     "shell.execute_reply": "2021-02-11T17:45:06.502431Z",
     "shell.execute_reply.started": "2021-02-11T17:45:06.466881Z"
    },
    "hidden": true
   },
   "outputs": [
    {
     "data": {
      "text/plain": [
       "['GOOGL', 'AAPL']"
      ]
     },
     "execution_count": 99,
     "metadata": {},
     "output_type": "execute_result"
    }
   ],
   "source": [
    "## List all objects of a class\n",
    "import gc\n",
    "[(obj.symbol) for obj in gc.get_objects() if isinstance(obj, FinancialInstrument)]"
   ]
  },
  {
   "cell_type": "markdown",
   "metadata": {
    "heading_collapsed": true
   },
   "source": [
    "## Special functions a.k.a dunders"
   ]
  },
  {
   "cell_type": "code",
   "execution_count": 103,
   "metadata": {
    "ExecuteTime": {
     "end_time": "2020-03-02T05:56:41.352316Z",
     "start_time": "2020-03-02T05:56:41.349975Z"
    },
    "execution": {
     "iopub.execute_input": "2021-02-11T17:53:29.857162Z",
     "iopub.status.busy": "2021-02-11T17:53:29.857162Z",
     "iopub.status.idle": "2021-02-11T17:53:29.872185Z",
     "shell.execute_reply": "2021-02-11T17:53:29.872185Z",
     "shell.execute_reply.started": "2021-02-11T17:53:29.857162Z"
    },
    "hidden": true
   },
   "outputs": [],
   "source": [
    "equity, debt = 2.2e6, 3.1e6"
   ]
  },
  {
   "cell_type": "code",
   "execution_count": 104,
   "metadata": {
    "ExecuteTime": {
     "end_time": "2020-03-02T05:56:41.854985Z",
     "start_time": "2020-03-02T05:56:41.850754Z"
    },
    "execution": {
     "iopub.execute_input": "2021-02-11T17:53:30.456314Z",
     "iopub.status.busy": "2021-02-11T17:53:30.456314Z",
     "iopub.status.idle": "2021-02-11T17:53:30.463822Z",
     "shell.execute_reply": "2021-02-11T17:53:30.463822Z",
     "shell.execute_reply.started": "2021-02-11T17:53:30.456314Z"
    },
    "hidden": true
   },
   "outputs": [
    {
     "data": {
      "text/plain": [
       "5300000.0"
      ]
     },
     "execution_count": 104,
     "metadata": {},
     "output_type": "execute_result"
    }
   ],
   "source": [
    "assets =  equity.__add__(debt)\n",
    "assets"
   ]
  },
  {
   "cell_type": "code",
   "execution_count": 105,
   "metadata": {
    "ExecuteTime": {
     "end_time": "2020-03-02T05:56:42.438688Z",
     "start_time": "2020-03-02T05:56:42.434738Z"
    },
    "execution": {
     "iopub.execute_input": "2021-02-11T17:53:31.451812Z",
     "iopub.status.busy": "2021-02-11T17:53:31.451812Z",
     "iopub.status.idle": "2021-02-11T17:53:31.472511Z",
     "shell.execute_reply": "2021-02-11T17:53:31.471509Z",
     "shell.execute_reply.started": "2021-02-11T17:53:31.451812Z"
    },
    "hidden": true
   },
   "outputs": [
    {
     "data": {
      "text/plain": [
       "'5300000.0'"
      ]
     },
     "execution_count": 105,
     "metadata": {},
     "output_type": "execute_result"
    }
   ],
   "source": [
    "assets.__str__()"
   ]
  },
  {
   "cell_type": "markdown",
   "metadata": {
    "heading_collapsed": true
   },
   "source": [
    "## Inheritance"
   ]
  },
  {
   "cell_type": "markdown",
   "metadata": {
    "hidden": true
   },
   "source": [
    "Inheritance is the process by which one class takes on the attributes and methods of another."
   ]
  },
  {
   "cell_type": "code",
   "execution_count": 106,
   "metadata": {
    "ExecuteTime": {
     "end_time": "2020-03-02T05:56:50.506427Z",
     "start_time": "2020-03-02T05:56:50.503352Z"
    },
    "execution": {
     "iopub.execute_input": "2021-02-11T18:15:17.835402Z",
     "iopub.status.busy": "2021-02-11T18:15:17.835402Z",
     "iopub.status.idle": "2021-02-11T18:15:17.838403Z",
     "shell.execute_reply": "2021-02-11T18:15:17.838403Z",
     "shell.execute_reply.started": "2021-02-11T18:15:17.835402Z"
    },
    "hidden": true
   },
   "outputs": [],
   "source": [
    "class TechnicalIndicator:\n",
    "    def Backtest(self):\n",
    "        print('Backtesting a technical indicator..')\n",
    "\n",
    "class BollingerBands(TechnicalIndicator):\n",
    "    def get_bands(self):\n",
    "        print('Getting bands..')"
   ]
  },
  {
   "cell_type": "code",
   "execution_count": 109,
   "metadata": {
    "ExecuteTime": {
     "end_time": "2020-03-02T05:56:51.202614Z",
     "start_time": "2020-03-02T05:56:51.199307Z"
    },
    "execution": {
     "iopub.execute_input": "2021-02-11T18:16:29.410159Z",
     "iopub.status.busy": "2021-02-11T18:16:29.410159Z",
     "iopub.status.idle": "2021-02-11T18:16:29.414161Z",
     "shell.execute_reply": "2021-02-11T18:16:29.413621Z",
     "shell.execute_reply.started": "2021-02-11T18:16:29.410159Z"
    },
    "hidden": true
   },
   "outputs": [
    {
     "name": "stdout",
     "output_type": "stream",
     "text": [
      "Getting bands..\n",
      "Backtesting a technical indicator..\n"
     ]
    }
   ],
   "source": [
    "indicator = BollingerBands()\n",
    "indicator.get_bands()\n",
    "indicator.Backtest()"
   ]
  },
  {
   "cell_type": "markdown",
   "metadata": {
    "hidden": true
   },
   "source": [
    "Child classes can also override attributes and behaviors from the parent class."
   ]
  },
  {
   "cell_type": "code",
   "execution_count": 110,
   "metadata": {
    "ExecuteTime": {
     "end_time": "2020-03-02T05:56:52.628043Z",
     "start_time": "2020-03-02T05:56:52.623740Z"
    },
    "execution": {
     "iopub.execute_input": "2021-02-11T18:16:31.425376Z",
     "iopub.status.busy": "2021-02-11T18:16:31.425376Z",
     "iopub.status.idle": "2021-02-11T18:16:31.435582Z",
     "shell.execute_reply": "2021-02-11T18:16:31.434581Z",
     "shell.execute_reply.started": "2021-02-11T18:16:31.425376Z"
    },
    "hidden": true
   },
   "outputs": [
    {
     "data": {
      "text/plain": [
       "(__main__.BollingerBands, __main__.TechnicalIndicator, object)"
      ]
     },
     "execution_count": 110,
     "metadata": {},
     "output_type": "execute_result"
    }
   ],
   "source": [
    "BollingerBands.__mro__"
   ]
  },
  {
   "cell_type": "code",
   "execution_count": 111,
   "metadata": {
    "ExecuteTime": {
     "end_time": "2020-03-02T05:56:53.251593Z",
     "start_time": "2020-03-02T05:56:53.248089Z"
    },
    "execution": {
     "iopub.execute_input": "2021-02-11T18:16:32.381427Z",
     "iopub.status.busy": "2021-02-11T18:16:32.381427Z",
     "iopub.status.idle": "2021-02-11T18:16:32.391435Z",
     "shell.execute_reply": "2021-02-11T18:16:32.391435Z",
     "shell.execute_reply.started": "2021-02-11T18:16:32.381427Z"
    },
    "hidden": true
   },
   "outputs": [],
   "source": [
    "class TechnicalIndicator:\n",
    "    def Backtest(self):\n",
    "        print('Backtesting a technical indicator..')\n",
    "\n",
    "class BollingerBands(TechnicalIndicator):\n",
    "    def get_bands(self):\n",
    "        print('Getting bands..')\n",
    "    def Backtest(self): ## Uncomment it later\n",
    "        print('Backtesting Bollinger Bands in a particular style..')\n"
   ]
  },
  {
   "cell_type": "code",
   "execution_count": 112,
   "metadata": {
    "ExecuteTime": {
     "end_time": "2020-03-02T05:56:54.159424Z",
     "start_time": "2020-03-02T05:56:54.156542Z"
    },
    "execution": {
     "iopub.execute_input": "2021-02-11T18:16:39.932750Z",
     "iopub.status.busy": "2021-02-11T18:16:39.932750Z",
     "iopub.status.idle": "2021-02-11T18:16:39.949906Z",
     "shell.execute_reply": "2021-02-11T18:16:39.949906Z",
     "shell.execute_reply.started": "2021-02-11T18:16:39.932750Z"
    },
    "hidden": true
   },
   "outputs": [
    {
     "name": "stdout",
     "output_type": "stream",
     "text": [
      "Backtesting a technical indicator..\n"
     ]
    }
   ],
   "source": [
    "indicator = TechnicalIndicator()\n",
    "indicator.Backtest()"
   ]
  },
  {
   "cell_type": "code",
   "execution_count": 113,
   "metadata": {
    "ExecuteTime": {
     "end_time": "2020-03-02T05:56:54.391548Z",
     "start_time": "2020-03-02T05:56:54.388420Z"
    },
    "execution": {
     "iopub.execute_input": "2021-02-11T18:16:44.184105Z",
     "iopub.status.busy": "2021-02-11T18:16:44.183105Z",
     "iopub.status.idle": "2021-02-11T18:16:44.192560Z",
     "shell.execute_reply": "2021-02-11T18:16:44.191574Z",
     "shell.execute_reply.started": "2021-02-11T18:16:44.184105Z"
    },
    "hidden": true
   },
   "outputs": [
    {
     "name": "stdout",
     "output_type": "stream",
     "text": [
      "Backtesting Bollinger Bands in a particular style..\n"
     ]
    }
   ],
   "source": [
    "indicator = BollingerBands()\n",
    "indicator.Backtest()"
   ]
  },
  {
   "cell_type": "code",
   "execution_count": 114,
   "metadata": {
    "ExecuteTime": {
     "end_time": "2020-03-02T05:56:54.729800Z",
     "start_time": "2020-03-02T05:56:54.726676Z"
    },
    "execution": {
     "iopub.execute_input": "2021-02-11T18:17:21.584134Z",
     "iopub.status.busy": "2021-02-11T18:17:21.584134Z",
     "iopub.status.idle": "2021-02-11T18:17:21.588135Z",
     "shell.execute_reply": "2021-02-11T18:17:21.588135Z",
     "shell.execute_reply.started": "2021-02-11T18:17:21.584134Z"
    },
    "hidden": true
   },
   "outputs": [
    {
     "name": "stdout",
     "output_type": "stream",
     "text": [
      "Backtesting Bollinger Bands in a particular style..\n"
     ]
    }
   ],
   "source": [
    "# Run after uncommenting\n",
    "indicator = BollingerBands()\n",
    "indicator.Backtest()"
   ]
  },
  {
   "cell_type": "code",
   "execution_count": 115,
   "metadata": {
    "ExecuteTime": {
     "end_time": "2020-03-02T05:56:55.268091Z",
     "start_time": "2020-03-02T05:56:55.264175Z"
    },
    "execution": {
     "iopub.execute_input": "2021-02-11T18:17:56.182071Z",
     "iopub.status.busy": "2021-02-11T18:17:56.182071Z",
     "iopub.status.idle": "2021-02-11T18:17:56.201579Z",
     "shell.execute_reply": "2021-02-11T18:17:56.200578Z",
     "shell.execute_reply.started": "2021-02-11T18:17:56.182071Z"
    },
    "hidden": true
   },
   "outputs": [
    {
     "data": {
      "text/plain": [
       "True"
      ]
     },
     "execution_count": 115,
     "metadata": {},
     "output_type": "execute_result"
    }
   ],
   "source": [
    "isinstance(indicator, BollingerBands)"
   ]
  },
  {
   "cell_type": "code",
   "execution_count": 116,
   "metadata": {
    "ExecuteTime": {
     "end_time": "2020-03-02T05:56:55.784700Z",
     "start_time": "2020-03-02T05:56:55.781186Z"
    },
    "execution": {
     "iopub.execute_input": "2021-02-11T18:17:56.888748Z",
     "iopub.status.busy": "2021-02-11T18:17:56.888748Z",
     "iopub.status.idle": "2021-02-11T18:17:56.898338Z",
     "shell.execute_reply": "2021-02-11T18:17:56.898338Z",
     "shell.execute_reply.started": "2021-02-11T18:17:56.888748Z"
    },
    "hidden": true
   },
   "outputs": [
    {
     "data": {
      "text/plain": [
       "True"
      ]
     },
     "execution_count": 116,
     "metadata": {},
     "output_type": "execute_result"
    }
   ],
   "source": [
    "isinstance(indicator, TechnicalIndicator)"
   ]
  },
  {
   "cell_type": "markdown",
   "metadata": {
    "heading_collapsed": true
   },
   "source": [
    "## super keyword"
   ]
  },
  {
   "cell_type": "markdown",
   "metadata": {
    "hidden": true
   },
   "source": [
    "super() gives access to methods in a superclass from the subclass that inherits from it."
   ]
  },
  {
   "cell_type": "markdown",
   "metadata": {
    "hidden": true
   },
   "source": [
    "### Example 1"
   ]
  },
  {
   "cell_type": "code",
   "execution_count": 117,
   "metadata": {
    "ExecuteTime": {
     "end_time": "2020-03-02T05:56:58.629324Z",
     "start_time": "2020-03-02T05:56:58.624016Z"
    },
    "execution": {
     "iopub.execute_input": "2021-02-11T18:18:12.837242Z",
     "iopub.status.busy": "2021-02-11T18:18:12.837242Z",
     "iopub.status.idle": "2021-02-11T18:18:12.843252Z",
     "shell.execute_reply": "2021-02-11T18:18:12.843252Z",
     "shell.execute_reply.started": "2021-02-11T18:18:12.837242Z"
    },
    "hidden": true
   },
   "outputs": [],
   "source": [
    "class Factor:\n",
    "    def __init__(self, factor_name):\n",
    "        print(factor_name, 'can be a predictor for S&P 500')\n",
    "\n",
    "class FundamentalFactor(Factor):\n",
    "    def __init__(self, factor_name):\n",
    "        print(f'{factor_name} is a fundamental factor')\n",
    "        super().__init__(factor_name)\n",
    "        \n",
    "class MacroeconomicFactor(Factor):\n",
    "    def __init__(self, factor_name):\n",
    "        print(f'{factor_name} is a macroeconomic factor')\n",
    "        super().__init__(factor_name)"
   ]
  },
  {
   "cell_type": "code",
   "execution_count": 118,
   "metadata": {
    "ExecuteTime": {
     "end_time": "2020-03-02T05:57:00.139547Z",
     "start_time": "2020-03-02T05:57:00.136708Z"
    },
    "execution": {
     "iopub.execute_input": "2021-02-11T18:24:44.128873Z",
     "iopub.status.busy": "2021-02-11T18:24:44.128873Z",
     "iopub.status.idle": "2021-02-11T18:24:44.141889Z",
     "shell.execute_reply": "2021-02-11T18:24:44.141889Z",
     "shell.execute_reply.started": "2021-02-11T18:24:44.128873Z"
    },
    "hidden": true
   },
   "outputs": [
    {
     "name": "stdout",
     "output_type": "stream",
     "text": [
      "MSCI USA PE Ratio is a fundamental factor\n",
      "MSCI USA PE Ratio can be a predictor for S&P 500\n"
     ]
    }
   ],
   "source": [
    "factor_1 = FundamentalFactor('MSCI USA PE Ratio')"
   ]
  },
  {
   "cell_type": "code",
   "execution_count": 119,
   "metadata": {
    "ExecuteTime": {
     "end_time": "2020-03-02T05:57:00.608432Z",
     "start_time": "2020-03-02T05:57:00.605066Z"
    },
    "execution": {
     "iopub.execute_input": "2021-02-11T18:24:53.258866Z",
     "iopub.status.busy": "2021-02-11T18:24:53.258866Z",
     "iopub.status.idle": "2021-02-11T18:24:53.270888Z",
     "shell.execute_reply": "2021-02-11T18:24:53.270888Z",
     "shell.execute_reply.started": "2021-02-11T18:24:53.258866Z"
    },
    "hidden": true
   },
   "outputs": [
    {
     "name": "stdout",
     "output_type": "stream",
     "text": [
      "CRUDE OIL is a macroeconomic factor\n",
      "CRUDE OIL can be a predictor for S&P 500\n"
     ]
    }
   ],
   "source": [
    "factor_2 = MacroeconomicFactor('CRUDE OIL')"
   ]
  },
  {
   "cell_type": "markdown",
   "metadata": {
    "hidden": true
   },
   "source": [
    "### Example 2"
   ]
  },
  {
   "cell_type": "code",
   "execution_count": 120,
   "metadata": {
    "ExecuteTime": {
     "end_time": "2020-03-02T05:57:02.293600Z",
     "start_time": "2020-03-02T05:57:02.290653Z"
    },
    "execution": {
     "iopub.execute_input": "2021-02-11T18:28:25.981646Z",
     "iopub.status.busy": "2021-02-11T18:28:25.981646Z",
     "iopub.status.idle": "2021-02-11T18:28:25.987692Z",
     "shell.execute_reply": "2021-02-11T18:28:25.987692Z",
     "shell.execute_reply.started": "2021-02-11T18:28:25.981646Z"
    },
    "hidden": true
   },
   "outputs": [],
   "source": [
    "class modified_dict(dict):\n",
    "    def __setitem__(self, key, value):\n",
    "        super().__setitem__(key, value * 2)"
   ]
  },
  {
   "cell_type": "code",
   "execution_count": 121,
   "metadata": {
    "ExecuteTime": {
     "end_time": "2020-03-02T05:57:04.148210Z",
     "start_time": "2020-03-02T05:57:04.144559Z"
    },
    "execution": {
     "iopub.execute_input": "2021-02-11T18:28:29.265640Z",
     "iopub.status.busy": "2021-02-11T18:28:29.265640Z",
     "iopub.status.idle": "2021-02-11T18:28:29.278194Z",
     "shell.execute_reply": "2021-02-11T18:28:29.278194Z",
     "shell.execute_reply.started": "2021-02-11T18:28:29.265640Z"
    },
    "hidden": true
   },
   "outputs": [
    {
     "data": {
      "text/plain": [
       "True"
      ]
     },
     "execution_count": 121,
     "metadata": {},
     "output_type": "execute_result"
    }
   ],
   "source": [
    "'__setitem__' in dir(dict)"
   ]
  },
  {
   "cell_type": "code",
   "execution_count": 122,
   "metadata": {
    "ExecuteTime": {
     "end_time": "2020-03-02T05:57:07.176848Z",
     "start_time": "2020-03-02T05:57:07.174469Z"
    },
    "execution": {
     "iopub.execute_input": "2021-02-11T18:28:32.212644Z",
     "iopub.status.busy": "2021-02-11T18:28:32.212644Z",
     "iopub.status.idle": "2021-02-11T18:28:32.225308Z",
     "shell.execute_reply": "2021-02-11T18:28:32.225308Z",
     "shell.execute_reply.started": "2021-02-11T18:28:32.212644Z"
    },
    "hidden": true
   },
   "outputs": [],
   "source": [
    "stocks_outstanding = dict()"
   ]
  },
  {
   "cell_type": "code",
   "execution_count": 123,
   "metadata": {
    "ExecuteTime": {
     "end_time": "2020-03-02T05:57:08.054595Z",
     "start_time": "2020-03-02T05:57:08.050794Z"
    },
    "execution": {
     "iopub.execute_input": "2021-02-11T18:29:00.873205Z",
     "iopub.status.busy": "2021-02-11T18:29:00.873205Z",
     "iopub.status.idle": "2021-02-11T18:29:00.884204Z",
     "shell.execute_reply": "2021-02-11T18:29:00.884204Z",
     "shell.execute_reply.started": "2021-02-11T18:29:00.873205Z"
    },
    "hidden": true
   },
   "outputs": [
    {
     "data": {
      "text/plain": [
       "{'2017-09-07': {'RIL': 30000000000}}"
      ]
     },
     "execution_count": 123,
     "metadata": {},
     "output_type": "execute_result"
    }
   ],
   "source": [
    "## Before stock split\n",
    "stocks_outstanding[\"2017-09-07\"] = dict()\n",
    "stocks_outstanding[\"2017-09-07\"][\"RIL\"] = 3_000_0000_000\n",
    "stocks_outstanding"
   ]
  },
  {
   "cell_type": "code",
   "execution_count": 124,
   "metadata": {
    "ExecuteTime": {
     "end_time": "2020-03-02T05:57:09.057474Z",
     "start_time": "2020-03-02T05:57:09.053232Z"
    },
    "execution": {
     "iopub.execute_input": "2021-02-11T18:29:16.142642Z",
     "iopub.status.busy": "2021-02-11T18:29:16.142642Z",
     "iopub.status.idle": "2021-02-11T18:29:16.160156Z",
     "shell.execute_reply": "2021-02-11T18:29:16.160156Z",
     "shell.execute_reply.started": "2021-02-11T18:29:16.142642Z"
    },
    "hidden": true
   },
   "outputs": [
    {
     "data": {
      "text/plain": [
       "{'2017-09-07': {'RIL': 30000000000}, '2017-09-08': {'RIL': 60000000000}}"
      ]
     },
     "execution_count": 124,
     "metadata": {},
     "output_type": "execute_result"
    }
   ],
   "source": [
    "## After stock split\n",
    "stocks_outstanding[\"2017-09-08\"] = modified_dict()\n",
    "stocks_outstanding[\"2017-09-08\"][\"RIL\"] = stocks_outstanding[\"2017-09-07\"][\"RIL\"]\n",
    "stocks_outstanding"
   ]
  },
  {
   "cell_type": "markdown",
   "metadata": {
    "ExecuteTime": {
     "end_time": "2019-05-17T10:13:20.150745Z",
     "start_time": "2019-05-17T10:13:20.148409Z"
    },
    "heading_collapsed": true
   },
   "source": [
    "## instance method vs class method vs static method"
   ]
  },
  {
   "cell_type": "markdown",
   "metadata": {
    "ExecuteTime": {
     "end_time": "2019-05-28T19:29:56.069000Z",
     "start_time": "2019-05-28T19:29:56.064807Z"
    },
    "hidden": true
   },
   "source": [
    " - **Instance Methods**: The most common method type. Able to access data and properties unique to each instance.\n",
    " - **Static Methods**: Cannot access anything else in the class. Totally self-contained code.\n",
    " - **Class Methods**: Can access limited methods in the class. Can modify class specific details.\n",
    " > the decorators are changing the behaviour of the code \n",
    " \n",
    "- *@property -> transforms the function into an attribute:*"
   ]
  },
  {
   "cell_type": "code",
   "execution_count": 127,
   "metadata": {
    "ExecuteTime": {
     "end_time": "2020-03-02T05:57:15.587129Z",
     "start_time": "2020-03-02T05:57:15.584322Z"
    },
    "execution": {
     "iopub.execute_input": "2021-02-11T18:40:52.845593Z",
     "iopub.status.busy": "2021-02-11T18:40:52.845593Z",
     "iopub.status.idle": "2021-02-11T18:40:52.857641Z",
     "shell.execute_reply": "2021-02-11T18:40:52.856628Z",
     "shell.execute_reply.started": "2021-02-11T18:40:52.845593Z"
    },
    "hidden": true
   },
   "outputs": [],
   "source": [
    "## Incorrect way to define a method in class\n",
    "class MachineLearningAlgo:\n",
    "    def training():\n",
    "        print('training model..')"
   ]
  },
  {
   "cell_type": "code",
   "execution_count": 128,
   "metadata": {
    "ExecuteTime": {
     "end_time": "2020-03-02T05:57:16.179934Z",
     "start_time": "2020-03-02T05:57:16.177102Z"
    },
    "execution": {
     "iopub.execute_input": "2021-02-11T18:40:53.713782Z",
     "iopub.status.busy": "2021-02-11T18:40:53.713782Z",
     "iopub.status.idle": "2021-02-11T18:40:53.727289Z",
     "shell.execute_reply": "2021-02-11T18:40:53.727289Z",
     "shell.execute_reply.started": "2021-02-11T18:40:53.713782Z"
    },
    "hidden": true
   },
   "outputs": [
    {
     "name": "stdout",
     "output_type": "stream",
     "text": [
      "training model..\n"
     ]
    }
   ],
   "source": [
    "MachineLearningAlgo.training()"
   ]
  },
  {
   "cell_type": "code",
   "execution_count": 129,
   "metadata": {
    "ExecuteTime": {
     "end_time": "2020-03-02T05:57:16.621143Z",
     "start_time": "2020-03-02T05:57:16.614771Z"
    },
    "execution": {
     "iopub.execute_input": "2021-02-11T18:41:07.249858Z",
     "iopub.status.busy": "2021-02-11T18:41:07.248849Z",
     "iopub.status.idle": "2021-02-11T18:41:07.258352Z",
     "shell.execute_reply": "2021-02-11T18:41:07.258352Z",
     "shell.execute_reply.started": "2021-02-11T18:41:07.249858Z"
    },
    "hidden": true
   },
   "outputs": [
    {
     "ename": "TypeError",
     "evalue": "training() takes 0 positional arguments but 1 was given",
     "output_type": "error",
     "traceback": [
      "\u001b[1;31m---------------------------------------------------------------------------\u001b[0m",
      "\u001b[1;31mTypeError\u001b[0m                                 Traceback (most recent call last)",
      "\u001b[1;32m<ipython-input-129-396aa01db2cf>\u001b[0m in \u001b[0;36m<module>\u001b[1;34m\u001b[0m\n\u001b[0;32m      1\u001b[0m \u001b[0mrandom_forest\u001b[0m \u001b[1;33m=\u001b[0m \u001b[0mMachineLearningAlgo\u001b[0m\u001b[1;33m(\u001b[0m\u001b[1;33m)\u001b[0m\u001b[1;33m\u001b[0m\u001b[1;33m\u001b[0m\u001b[0m\n\u001b[1;32m----> 2\u001b[1;33m \u001b[0mrandom_forest\u001b[0m\u001b[1;33m.\u001b[0m\u001b[0mtraining\u001b[0m\u001b[1;33m(\u001b[0m\u001b[1;33m)\u001b[0m\u001b[1;33m\u001b[0m\u001b[1;33m\u001b[0m\u001b[0m\n\u001b[0m",
      "\u001b[1;31mTypeError\u001b[0m: training() takes 0 positional arguments but 1 was given"
     ]
    }
   ],
   "source": [
    "random_forest = MachineLearningAlgo()\n",
    "random_forest.training()\n"
   ]
  },
  {
   "cell_type": "code",
   "execution_count": 130,
   "metadata": {
    "execution": {
     "iopub.execute_input": "2021-02-11T18:42:05.279792Z",
     "iopub.status.busy": "2021-02-11T18:42:05.278791Z",
     "iopub.status.idle": "2021-02-11T18:42:21.707770Z",
     "shell.execute_reply": "2021-02-11T18:42:21.707770Z",
     "shell.execute_reply.started": "2021-02-11T18:42:05.278791Z"
    }
   },
   "outputs": [
    {
     "name": "stdout",
     "output_type": "stream",
     "text": [
      "> \u001b[1;32m<ipython-input-129-396aa01db2cf>\u001b[0m(2)\u001b[0;36m<module>\u001b[1;34m()\u001b[0m\n",
      "\u001b[1;32m      1 \u001b[1;33m\u001b[0mrandom_forest\u001b[0m \u001b[1;33m=\u001b[0m \u001b[0mMachineLearningAlgo\u001b[0m\u001b[1;33m(\u001b[0m\u001b[1;33m)\u001b[0m\u001b[1;33m\u001b[0m\u001b[1;33m\u001b[0m\u001b[0m\n",
      "\u001b[0m\u001b[1;32m----> 2 \u001b[1;33m\u001b[0mrandom_forest\u001b[0m\u001b[1;33m.\u001b[0m\u001b[0mtraining\u001b[0m\u001b[1;33m(\u001b[0m\u001b[1;33m)\u001b[0m\u001b[1;33m\u001b[0m\u001b[1;33m\u001b[0m\u001b[0m\n",
      "\u001b[0m\n"
     ]
    },
    {
     "name": "stdin",
     "output_type": "stream",
     "text": [
      "ipdb>  quit()\n"
     ]
    }
   ],
   "source": [
    "%debug"
   ]
  },
  {
   "cell_type": "code",
   "execution_count": 131,
   "metadata": {
    "ExecuteTime": {
     "end_time": "2020-03-02T05:57:17.226329Z",
     "start_time": "2020-03-02T05:57:17.223573Z"
    },
    "execution": {
     "iopub.execute_input": "2021-02-11T18:43:28.300702Z",
     "iopub.status.busy": "2021-02-11T18:43:28.300702Z",
     "iopub.status.idle": "2021-02-11T18:43:28.304702Z",
     "shell.execute_reply": "2021-02-11T18:43:28.304702Z",
     "shell.execute_reply.started": "2021-02-11T18:43:28.300702Z"
    },
    "hidden": true
   },
   "outputs": [],
   "source": [
    "## Instance method\n",
    "class MachineLearningAlgo(object):\n",
    "    def training(self):\n",
    "        print('training model..')"
   ]
  },
  {
   "cell_type": "code",
   "execution_count": 132,
   "metadata": {
    "ExecuteTime": {
     "end_time": "2020-03-02T05:57:18.444361Z",
     "start_time": "2020-03-02T05:57:18.441650Z"
    },
    "execution": {
     "iopub.execute_input": "2021-02-11T18:43:29.637266Z",
     "iopub.status.busy": "2021-02-11T18:43:29.637266Z",
     "iopub.status.idle": "2021-02-11T18:43:29.647283Z",
     "shell.execute_reply": "2021-02-11T18:43:29.647283Z",
     "shell.execute_reply.started": "2021-02-11T18:43:29.637266Z"
    },
    "hidden": true
   },
   "outputs": [
    {
     "name": "stdout",
     "output_type": "stream",
     "text": [
      "training model..\n"
     ]
    }
   ],
   "source": [
    "random_forest = MachineLearningAlgo()\n",
    "random_forest.training()"
   ]
  },
  {
   "cell_type": "code",
   "execution_count": 133,
   "metadata": {
    "ExecuteTime": {
     "end_time": "2020-03-02T05:57:18.717402Z",
     "start_time": "2020-03-02T05:57:18.710200Z"
    },
    "execution": {
     "iopub.execute_input": "2021-02-11T18:43:34.718452Z",
     "iopub.status.busy": "2021-02-11T18:43:34.718452Z",
     "iopub.status.idle": "2021-02-11T18:43:34.736494Z",
     "shell.execute_reply": "2021-02-11T18:43:34.735496Z",
     "shell.execute_reply.started": "2021-02-11T18:43:34.718452Z"
    },
    "hidden": true
   },
   "outputs": [
    {
     "name": "stdout",
     "output_type": "stream",
     "text": [
      "training model..\n"
     ]
    }
   ],
   "source": [
    "MachineLearningAlgo.training(random_forest)"
   ]
  },
  {
   "cell_type": "markdown",
   "metadata": {
    "hidden": true
   },
   "source": [
    "Static methods are great for utility functions, which perform a task in isolation. They don’t need to (and cannot) access class data. "
   ]
  },
  {
   "cell_type": "code",
   "execution_count": 134,
   "metadata": {
    "ExecuteTime": {
     "end_time": "2020-03-02T05:57:20.132790Z",
     "start_time": "2020-03-02T05:57:20.130078Z"
    },
    "execution": {
     "iopub.execute_input": "2021-02-11T18:44:10.612352Z",
     "iopub.status.busy": "2021-02-11T18:44:10.611351Z",
     "iopub.status.idle": "2021-02-11T18:44:10.625599Z",
     "shell.execute_reply": "2021-02-11T18:44:10.624597Z",
     "shell.execute_reply.started": "2021-02-11T18:44:10.612352Z"
    },
    "hidden": true
   },
   "outputs": [],
   "source": [
    "## Static method\n",
    "class MachineLearningAlgo(object):\n",
    "    @staticmethod\n",
    "    def training():\n",
    "        print('training model..')"
   ]
  },
  {
   "cell_type": "code",
   "execution_count": 135,
   "metadata": {
    "ExecuteTime": {
     "end_time": "2020-03-02T05:57:21.801244Z",
     "start_time": "2020-03-02T05:57:21.798036Z"
    },
    "execution": {
     "iopub.execute_input": "2021-02-11T18:44:14.646325Z",
     "iopub.status.busy": "2021-02-11T18:44:14.645334Z",
     "iopub.status.idle": "2021-02-11T18:44:14.655785Z",
     "shell.execute_reply": "2021-02-11T18:44:14.654859Z",
     "shell.execute_reply.started": "2021-02-11T18:44:14.646325Z"
    },
    "hidden": true
   },
   "outputs": [
    {
     "name": "stdout",
     "output_type": "stream",
     "text": [
      "training model..\n"
     ]
    }
   ],
   "source": [
    "random_forest = MachineLearningAlgo()\n",
    "random_forest.training()"
   ]
  },
  {
   "cell_type": "code",
   "execution_count": 138,
   "metadata": {
    "ExecuteTime": {
     "end_time": "2020-03-02T05:57:22.415878Z",
     "start_time": "2020-03-02T05:57:22.412969Z"
    },
    "execution": {
     "iopub.execute_input": "2021-02-11T18:44:42.648299Z",
     "iopub.status.busy": "2021-02-11T18:44:42.647300Z",
     "iopub.status.idle": "2021-02-11T18:44:42.659305Z",
     "shell.execute_reply": "2021-02-11T18:44:42.658312Z",
     "shell.execute_reply.started": "2021-02-11T18:44:42.648299Z"
    },
    "hidden": true
   },
   "outputs": [
    {
     "ename": "TypeError",
     "evalue": "training() takes 0 positional arguments but 1 was given",
     "output_type": "error",
     "traceback": [
      "\u001b[1;31m---------------------------------------------------------------------------\u001b[0m",
      "\u001b[1;31mTypeError\u001b[0m                                 Traceback (most recent call last)",
      "\u001b[1;32m<ipython-input-138-5909775af264>\u001b[0m in \u001b[0;36m<module>\u001b[1;34m\u001b[0m\n\u001b[1;32m----> 1\u001b[1;33m \u001b[0mMachineLearningAlgo\u001b[0m\u001b[1;33m.\u001b[0m\u001b[0mtraining\u001b[0m\u001b[1;33m(\u001b[0m\u001b[0mrandom_forest\u001b[0m\u001b[1;33m)\u001b[0m\u001b[1;33m\u001b[0m\u001b[1;33m\u001b[0m\u001b[0m\n\u001b[0m",
      "\u001b[1;31mTypeError\u001b[0m: training() takes 0 positional arguments but 1 was given"
     ]
    }
   ],
   "source": [
    "MachineLearningAlgo.training(random_forest)"
   ]
  },
  {
   "cell_type": "code",
   "execution_count": 139,
   "metadata": {
    "ExecuteTime": {
     "end_time": "2020-03-02T05:57:23.010822Z",
     "start_time": "2020-03-02T05:57:23.007642Z"
    },
    "execution": {
     "iopub.execute_input": "2021-02-11T18:45:08.234595Z",
     "iopub.status.busy": "2021-02-11T18:45:08.234595Z",
     "iopub.status.idle": "2021-02-11T18:45:08.241153Z",
     "shell.execute_reply": "2021-02-11T18:45:08.239596Z",
     "shell.execute_reply.started": "2021-02-11T18:45:08.234595Z"
    },
    "hidden": true
   },
   "outputs": [],
   "source": [
    "## Another Static method - A Ridiculous example to achieve something simple via staticmethod \n",
    "class MachineLearningAlgo(object):\n",
    "    def __init__(self, test_train_split):\n",
    "        self.test_train_split = test_train_split\n",
    "    @staticmethod\n",
    "    def training(self):\n",
    "        print(self.test_train_split)"
   ]
  },
  {
   "cell_type": "code",
   "execution_count": 142,
   "metadata": {
    "ExecuteTime": {
     "end_time": "2020-03-02T05:57:24.114711Z",
     "start_time": "2020-03-02T05:57:24.111657Z"
    },
    "execution": {
     "iopub.execute_input": "2021-02-11T18:46:10.712530Z",
     "iopub.status.busy": "2021-02-11T18:46:10.712530Z",
     "iopub.status.idle": "2021-02-11T18:46:10.722035Z",
     "shell.execute_reply": "2021-02-11T18:46:10.722035Z",
     "shell.execute_reply.started": "2021-02-11T18:46:10.712530Z"
    },
    "hidden": true
   },
   "outputs": [
    {
     "name": "stdout",
     "output_type": "stream",
     "text": [
      "0.7\n"
     ]
    }
   ],
   "source": [
    "random_forest = MachineLearningAlgo(0.70)\n",
    "random_forest.training(random_forest)"
   ]
  },
  {
   "cell_type": "markdown",
   "metadata": {
    "hidden": true
   },
   "source": [
    "Class methods can manipulate the class itself, which is useful when you’re working on larger, more complex projects."
   ]
  },
  {
   "cell_type": "code",
   "execution_count": 143,
   "metadata": {
    "ExecuteTime": {
     "end_time": "2020-03-02T05:57:25.097500Z",
     "start_time": "2020-03-02T05:57:25.094812Z"
    },
    "execution": {
     "iopub.execute_input": "2021-02-11T18:48:07.356596Z",
     "iopub.status.busy": "2021-02-11T18:48:07.356596Z",
     "iopub.status.idle": "2021-02-11T18:48:07.366127Z",
     "shell.execute_reply": "2021-02-11T18:48:07.365127Z",
     "shell.execute_reply.started": "2021-02-11T18:48:07.356596Z"
    },
    "hidden": true
   },
   "outputs": [],
   "source": [
    "## Class method\n",
    "class MachineLearningAlgo(object):\n",
    "    @classmethod\n",
    "    def training(cls):\n",
    "        print('training model..')"
   ]
  },
  {
   "cell_type": "code",
   "execution_count": 144,
   "metadata": {
    "ExecuteTime": {
     "end_time": "2020-03-02T05:57:25.525807Z",
     "start_time": "2020-03-02T05:57:25.522774Z"
    },
    "execution": {
     "iopub.execute_input": "2021-02-11T18:48:17.382633Z",
     "iopub.status.busy": "2021-02-11T18:48:17.382633Z",
     "iopub.status.idle": "2021-02-11T18:48:17.398139Z",
     "shell.execute_reply": "2021-02-11T18:48:17.398139Z",
     "shell.execute_reply.started": "2021-02-11T18:48:17.382633Z"
    },
    "hidden": true
   },
   "outputs": [
    {
     "name": "stdout",
     "output_type": "stream",
     "text": [
      "training model..\n"
     ]
    }
   ],
   "source": [
    "random_forest = MachineLearningAlgo()\n",
    "random_forest.training()"
   ]
  },
  {
   "cell_type": "code",
   "execution_count": 145,
   "metadata": {
    "ExecuteTime": {
     "end_time": "2020-03-02T05:57:25.989987Z",
     "start_time": "2020-03-02T05:57:25.987193Z"
    },
    "execution": {
     "iopub.execute_input": "2021-02-11T18:48:30.277670Z",
     "iopub.status.busy": "2021-02-11T18:48:30.277670Z",
     "iopub.status.idle": "2021-02-11T18:48:30.293196Z",
     "shell.execute_reply": "2021-02-11T18:48:30.292195Z",
     "shell.execute_reply.started": "2021-02-11T18:48:30.277670Z"
    },
    "hidden": true
   },
   "outputs": [
    {
     "name": "stdout",
     "output_type": "stream",
     "text": [
      "training model..\n"
     ]
    }
   ],
   "source": [
    "MachineLearningAlgo.training()"
   ]
  },
  {
   "cell_type": "code",
   "execution_count": 147,
   "metadata": {
    "ExecuteTime": {
     "end_time": "2020-03-02T05:57:26.534812Z",
     "start_time": "2020-03-02T05:57:26.531413Z"
    },
    "execution": {
     "iopub.execute_input": "2021-02-11T18:53:19.228129Z",
     "iopub.status.busy": "2021-02-11T18:53:19.228129Z",
     "iopub.status.idle": "2021-02-11T18:53:19.242646Z",
     "shell.execute_reply": "2021-02-11T18:53:19.241643Z",
     "shell.execute_reply.started": "2021-02-11T18:53:19.228129Z"
    },
    "hidden": true
   },
   "outputs": [],
   "source": [
    "# class method vs static method\n",
    "class MachineLearningAlgo:\n",
    "    @classmethod\n",
    "    def training(*args):\n",
    "        return args\n",
    "\n",
    "    @staticmethod\n",
    "    def generate_random_samples(*args):\n",
    "        return args\n",
    "    "
   ]
  },
  {
   "cell_type": "code",
   "execution_count": 148,
   "metadata": {
    "ExecuteTime": {
     "end_time": "2020-03-02T05:57:27.452352Z",
     "start_time": "2020-03-02T05:57:27.449175Z"
    },
    "execution": {
     "iopub.execute_input": "2021-02-11T18:53:20.021760Z",
     "iopub.status.busy": "2021-02-11T18:53:20.021760Z",
     "iopub.status.idle": "2021-02-11T18:53:20.035695Z",
     "shell.execute_reply": "2021-02-11T18:53:20.035695Z",
     "shell.execute_reply.started": "2021-02-11T18:53:20.021760Z"
    },
    "hidden": true
   },
   "outputs": [
    {
     "data": {
      "text/plain": [
       "(__main__.MachineLearningAlgo,)"
      ]
     },
     "execution_count": 148,
     "metadata": {},
     "output_type": "execute_result"
    }
   ],
   "source": [
    "# class method\n",
    "MachineLearningAlgo.training()"
   ]
  },
  {
   "cell_type": "code",
   "execution_count": 149,
   "metadata": {
    "ExecuteTime": {
     "end_time": "2020-03-02T05:57:27.657282Z",
     "start_time": "2020-03-02T05:57:27.653082Z"
    },
    "execution": {
     "iopub.execute_input": "2021-02-11T18:53:31.565773Z",
     "iopub.status.busy": "2021-02-11T18:53:31.565773Z",
     "iopub.status.idle": "2021-02-11T18:53:31.579324Z",
     "shell.execute_reply": "2021-02-11T18:53:31.579324Z",
     "shell.execute_reply.started": "2021-02-11T18:53:31.565773Z"
    },
    "hidden": true
   },
   "outputs": [
    {
     "data": {
      "text/plain": [
       "(__main__.MachineLearningAlgo, 'train_data')"
      ]
     },
     "execution_count": 149,
     "metadata": {},
     "output_type": "execute_result"
    }
   ],
   "source": [
    "MachineLearningAlgo.training('train_data')"
   ]
  },
  {
   "cell_type": "code",
   "execution_count": 150,
   "metadata": {
    "ExecuteTime": {
     "end_time": "2020-03-02T05:57:27.874421Z",
     "start_time": "2020-03-02T05:57:27.870523Z"
    },
    "execution": {
     "iopub.execute_input": "2021-02-11T18:56:16.270716Z",
     "iopub.status.busy": "2021-02-11T18:56:16.270716Z",
     "iopub.status.idle": "2021-02-11T18:56:16.284235Z",
     "shell.execute_reply": "2021-02-11T18:56:16.284235Z",
     "shell.execute_reply.started": "2021-02-11T18:56:16.270716Z"
    },
    "hidden": true
   },
   "outputs": [
    {
     "data": {
      "text/plain": [
       "()"
      ]
     },
     "execution_count": 150,
     "metadata": {},
     "output_type": "execute_result"
    }
   ],
   "source": [
    "# static method\n",
    "MachineLearningAlgo.generate_random_samples()"
   ]
  },
  {
   "cell_type": "code",
   "execution_count": 151,
   "metadata": {
    "ExecuteTime": {
     "end_time": "2020-03-02T05:57:28.454890Z",
     "start_time": "2020-03-02T05:57:28.451337Z"
    },
    "execution": {
     "iopub.execute_input": "2021-02-11T18:56:39.989529Z",
     "iopub.status.busy": "2021-02-11T18:56:39.989529Z",
     "iopub.status.idle": "2021-02-11T18:56:40.003531Z",
     "shell.execute_reply": "2021-02-11T18:56:40.003531Z",
     "shell.execute_reply.started": "2021-02-11T18:56:39.989529Z"
    },
    "hidden": true
   },
   "outputs": [
    {
     "data": {
      "text/plain": [
       "('n_sample_size',)"
      ]
     },
     "execution_count": 151,
     "metadata": {},
     "output_type": "execute_result"
    }
   ],
   "source": [
    "MachineLearningAlgo.generate_random_samples('n_sample_size')"
   ]
  },
  {
   "cell_type": "markdown",
   "metadata": {
    "heading_collapsed": true
   },
   "source": [
    "## Example: DataFrame"
   ]
  },
  {
   "cell_type": "code",
   "execution_count": 1,
   "metadata": {
    "ExecuteTime": {
     "end_time": "2020-03-02T05:57:36.839646Z",
     "start_time": "2020-03-02T05:57:36.297285Z"
    },
    "execution": {
     "iopub.execute_input": "2021-02-12T04:48:50.110676Z",
     "iopub.status.busy": "2021-02-12T04:48:50.110676Z",
     "iopub.status.idle": "2021-02-12T04:48:51.600740Z",
     "shell.execute_reply": "2021-02-12T04:48:51.600740Z",
     "shell.execute_reply.started": "2021-02-12T04:48:50.110676Z"
    },
    "hidden": true
   },
   "outputs": [
    {
     "data": {
      "text/html": [
       "<div>\n",
       "<style scoped>\n",
       "    .dataframe tbody tr th:only-of-type {\n",
       "        vertical-align: middle;\n",
       "    }\n",
       "\n",
       "    .dataframe tbody tr th {\n",
       "        vertical-align: top;\n",
       "    }\n",
       "\n",
       "    .dataframe thead th {\n",
       "        text-align: right;\n",
       "    }\n",
       "</style>\n",
       "<table border=\"1\" class=\"dataframe\">\n",
       "  <thead>\n",
       "    <tr style=\"text-align: right;\">\n",
       "      <th></th>\n",
       "      <th>AAPL</th>\n",
       "      <th>GOOGL</th>\n",
       "      <th>AMZN</th>\n",
       "      <th>MSFT</th>\n",
       "      <th>FB</th>\n",
       "    </tr>\n",
       "  </thead>\n",
       "  <tbody>\n",
       "    <tr>\n",
       "      <th>2015</th>\n",
       "      <td>100.0</td>\n",
       "      <td>600.0</td>\n",
       "      <td>300.0</td>\n",
       "      <td>45.0</td>\n",
       "      <td>75.00</td>\n",
       "    </tr>\n",
       "    <tr>\n",
       "      <th>2016</th>\n",
       "      <td>125.0</td>\n",
       "      <td>750.0</td>\n",
       "      <td>675.0</td>\n",
       "      <td>67.5</td>\n",
       "      <td>106.25</td>\n",
       "    </tr>\n",
       "    <tr>\n",
       "      <th>2017</th>\n",
       "      <td>150.0</td>\n",
       "      <td>900.0</td>\n",
       "      <td>1050.0</td>\n",
       "      <td>90.0</td>\n",
       "      <td>137.50</td>\n",
       "    </tr>\n",
       "    <tr>\n",
       "      <th>2018</th>\n",
       "      <td>175.0</td>\n",
       "      <td>1050.0</td>\n",
       "      <td>1425.0</td>\n",
       "      <td>112.5</td>\n",
       "      <td>168.75</td>\n",
       "    </tr>\n",
       "    <tr>\n",
       "      <th>2019</th>\n",
       "      <td>200.0</td>\n",
       "      <td>1200.0</td>\n",
       "      <td>1800.0</td>\n",
       "      <td>135.0</td>\n",
       "      <td>200.00</td>\n",
       "    </tr>\n",
       "  </tbody>\n",
       "</table>\n",
       "</div>"
      ],
      "text/plain": [
       "       AAPL   GOOGL    AMZN   MSFT      FB\n",
       "2015  100.0   600.0   300.0   45.0   75.00\n",
       "2016  125.0   750.0   675.0   67.5  106.25\n",
       "2017  150.0   900.0  1050.0   90.0  137.50\n",
       "2018  175.0  1050.0  1425.0  112.5  168.75\n",
       "2019  200.0  1200.0  1800.0  135.0  200.00"
      ]
     },
     "execution_count": 1,
     "metadata": {},
     "output_type": "execute_result"
    }
   ],
   "source": [
    "import pandas as pd\n",
    "import numpy as np\n",
    "price = np.array([  np.linspace(100,200,5), \n",
    "                    np.linspace(600,1200,5), \n",
    "                    np.linspace(300,1800,5),\n",
    "                    np.linspace(45,135,5),\n",
    "                    np.linspace(75,200,5)])\n",
    "price = pd.DataFrame(price.T, columns=['AAPL','GOOGL','AMZN','MSFT','FB'], index = range(2015,2020))\n",
    "price"
   ]
  },
  {
   "cell_type": "code",
   "execution_count": 2,
   "metadata": {
    "ExecuteTime": {
     "end_time": "2020-03-02T05:57:36.845017Z",
     "start_time": "2020-03-02T05:57:36.841405Z"
    },
    "execution": {
     "iopub.execute_input": "2021-02-12T04:48:59.610441Z",
     "iopub.status.busy": "2021-02-12T04:48:59.610441Z",
     "iopub.status.idle": "2021-02-12T04:48:59.637025Z",
     "shell.execute_reply": "2021-02-12T04:48:59.636025Z",
     "shell.execute_reply.started": "2021-02-12T04:48:59.610441Z"
    },
    "hidden": true
   },
   "outputs": [
    {
     "data": {
      "text/plain": [
       "pandas.core.frame.DataFrame"
      ]
     },
     "execution_count": 2,
     "metadata": {},
     "output_type": "execute_result"
    }
   ],
   "source": [
    "type(price)"
   ]
  },
  {
   "cell_type": "code",
   "execution_count": 3,
   "metadata": {
    "ExecuteTime": {
     "end_time": "2020-03-02T05:57:36.850162Z",
     "start_time": "2020-03-02T05:57:36.846842Z"
    },
    "execution": {
     "iopub.execute_input": "2021-02-12T04:49:14.747262Z",
     "iopub.status.busy": "2021-02-12T04:49:14.747262Z",
     "iopub.status.idle": "2021-02-12T04:49:14.761664Z",
     "shell.execute_reply": "2021-02-12T04:49:14.760580Z",
     "shell.execute_reply.started": "2021-02-12T04:49:14.747262Z"
    },
    "hidden": true
   },
   "outputs": [
    {
     "data": {
      "text/plain": [
       "True"
      ]
     },
     "execution_count": 3,
     "metadata": {},
     "output_type": "execute_result"
    }
   ],
   "source": [
    "pd.DataFrame is pd.core.frame.DataFrame"
   ]
  },
  {
   "cell_type": "code",
   "execution_count": 4,
   "metadata": {
    "ExecuteTime": {
     "end_time": "2020-03-02T05:57:37.685425Z",
     "start_time": "2020-03-02T05:57:37.682277Z"
    },
    "execution": {
     "iopub.execute_input": "2021-02-12T04:49:20.138275Z",
     "iopub.status.busy": "2021-02-12T04:49:20.138275Z",
     "iopub.status.idle": "2021-02-12T04:49:20.151952Z",
     "shell.execute_reply": "2021-02-12T04:49:20.150950Z",
     "shell.execute_reply.started": "2021-02-12T04:49:20.138275Z"
    },
    "hidden": true
   },
   "outputs": [
    {
     "data": {
      "text/plain": [
       "(pandas.core.frame.DataFrame,\n",
       " pandas.core.generic.NDFrame,\n",
       " pandas.core.base.PandasObject,\n",
       " pandas.core.accessor.DirNamesMixin,\n",
       " pandas.core.base.SelectionMixin,\n",
       " pandas.core.indexing.IndexingMixin,\n",
       " pandas.core.arraylike.OpsMixin,\n",
       " object)"
      ]
     },
     "execution_count": 4,
     "metadata": {},
     "output_type": "execute_result"
    }
   ],
   "source": [
    "pd.core.frame.DataFrame.__mro__"
   ]
  },
  {
   "cell_type": "markdown",
   "metadata": {
    "ExecuteTime": {
     "end_time": "2019-05-26T17:01:10.576063Z",
     "start_time": "2019-05-26T17:01:10.550770Z"
    },
    "hidden": true
   },
   "source": [
    "https://github.com/pandas-dev/pandas/blob/master/pandas/core/frame.py\n",
    "\n",
    "https://github.com/pandas-dev/pandas/blob/master/pandas/core/base.py"
   ]
  },
  {
   "cell_type": "code",
   "execution_count": 156,
   "metadata": {
    "ExecuteTime": {
     "end_time": "2020-03-02T05:57:38.917303Z",
     "start_time": "2020-03-02T05:57:38.913978Z"
    },
    "execution": {
     "iopub.execute_input": "2021-02-11T18:57:43.133036Z",
     "iopub.status.busy": "2021-02-11T18:57:43.133036Z",
     "iopub.status.idle": "2021-02-11T18:57:43.139037Z",
     "shell.execute_reply": "2021-02-11T18:57:43.138048Z",
     "shell.execute_reply.started": "2021-02-11T18:57:43.133036Z"
    },
    "hidden": true
   },
   "outputs": [
    {
     "data": {
      "text/plain": [
       "[RangeIndex(start=2015, stop=2020, step=1),\n",
       " Index(['AAPL', 'GOOGL', 'AMZN', 'MSFT', 'FB'], dtype='object')]"
      ]
     },
     "execution_count": 156,
     "metadata": {},
     "output_type": "execute_result"
    }
   ],
   "source": [
    "price.axes"
   ]
  },
  {
   "cell_type": "code",
   "execution_count": 157,
   "metadata": {
    "ExecuteTime": {
     "end_time": "2020-03-02T05:57:39.767330Z",
     "start_time": "2020-03-02T05:57:39.763840Z"
    },
    "execution": {
     "iopub.execute_input": "2021-02-11T18:57:44.387006Z",
     "iopub.status.busy": "2021-02-11T18:57:44.387006Z",
     "iopub.status.idle": "2021-02-11T18:57:44.396078Z",
     "shell.execute_reply": "2021-02-11T18:57:44.395545Z",
     "shell.execute_reply.started": "2021-02-11T18:57:44.387006Z"
    },
    "hidden": true
   },
   "outputs": [
    {
     "data": {
      "text/plain": [
       "Index(['AAPL', 'GOOGL', 'AMZN', 'MSFT', 'FB'], dtype='object')"
      ]
     },
     "execution_count": 157,
     "metadata": {},
     "output_type": "execute_result"
    }
   ],
   "source": [
    "price.columns"
   ]
  },
  {
   "cell_type": "code",
   "execution_count": 158,
   "metadata": {
    "ExecuteTime": {
     "end_time": "2020-03-02T05:57:41.581216Z",
     "start_time": "2020-03-02T05:57:41.576085Z"
    },
    "execution": {
     "iopub.execute_input": "2021-02-11T18:57:48.252314Z",
     "iopub.status.busy": "2021-02-11T18:57:48.252314Z",
     "iopub.status.idle": "2021-02-11T18:57:48.267308Z",
     "shell.execute_reply": "2021-02-11T18:57:48.267308Z",
     "shell.execute_reply.started": "2021-02-11T18:57:48.252314Z"
    },
    "hidden": true
   },
   "outputs": [
    {
     "data": {
      "text/plain": [
       "AAPL      150.0\n",
       "GOOGL     900.0\n",
       "AMZN     1050.0\n",
       "MSFT       90.0\n",
       "FB        137.5\n",
       "dtype: float64"
      ]
     },
     "execution_count": 158,
     "metadata": {},
     "output_type": "execute_result"
    }
   ],
   "source": [
    "price.mean()"
   ]
  },
  {
   "cell_type": "code",
   "execution_count": 159,
   "metadata": {
    "ExecuteTime": {
     "end_time": "2020-03-02T05:57:41.888613Z",
     "start_time": "2020-03-02T05:57:41.883136Z"
    },
    "execution": {
     "iopub.execute_input": "2021-02-11T18:57:51.487423Z",
     "iopub.status.busy": "2021-02-11T18:57:51.487423Z",
     "iopub.status.idle": "2021-02-11T18:57:51.494312Z",
     "shell.execute_reply": "2021-02-11T18:57:51.493424Z",
     "shell.execute_reply.started": "2021-02-11T18:57:51.487423Z"
    },
    "hidden": true
   },
   "outputs": [
    {
     "data": {
      "text/plain": [
       "2015    224.00\n",
       "2016    344.75\n",
       "2017    465.50\n",
       "2018    586.25\n",
       "2019    707.00\n",
       "dtype: float64"
      ]
     },
     "execution_count": 159,
     "metadata": {},
     "output_type": "execute_result"
    }
   ],
   "source": [
    "price.mean(1)"
   ]
  },
  {
   "cell_type": "code",
   "execution_count": 160,
   "metadata": {
    "ExecuteTime": {
     "end_time": "2020-03-02T05:57:42.110603Z",
     "start_time": "2020-03-02T05:57:42.099551Z"
    },
    "execution": {
     "iopub.execute_input": "2021-02-11T18:57:54.917803Z",
     "iopub.status.busy": "2021-02-11T18:57:54.917803Z",
     "iopub.status.idle": "2021-02-11T18:57:54.942323Z",
     "shell.execute_reply": "2021-02-11T18:57:54.941321Z",
     "shell.execute_reply.started": "2021-02-11T18:57:54.917803Z"
    },
    "hidden": true
   },
   "outputs": [
    {
     "data": {
      "text/html": [
       "<div>\n",
       "<style scoped>\n",
       "    .dataframe tbody tr th:only-of-type {\n",
       "        vertical-align: middle;\n",
       "    }\n",
       "\n",
       "    .dataframe tbody tr th {\n",
       "        vertical-align: top;\n",
       "    }\n",
       "\n",
       "    .dataframe thead th {\n",
       "        text-align: right;\n",
       "    }\n",
       "</style>\n",
       "<table border=\"1\" class=\"dataframe\">\n",
       "  <thead>\n",
       "    <tr style=\"text-align: right;\">\n",
       "      <th></th>\n",
       "      <th>AAPL</th>\n",
       "      <th>GOOGL</th>\n",
       "      <th>AMZN</th>\n",
       "      <th>MSFT</th>\n",
       "      <th>FB</th>\n",
       "    </tr>\n",
       "  </thead>\n",
       "  <tbody>\n",
       "    <tr>\n",
       "      <th>2015</th>\n",
       "      <td>100.0</td>\n",
       "      <td>600.0</td>\n",
       "      <td>300.0</td>\n",
       "      <td>45.0</td>\n",
       "      <td>75.00</td>\n",
       "    </tr>\n",
       "    <tr>\n",
       "      <th>2016</th>\n",
       "      <td>225.0</td>\n",
       "      <td>1350.0</td>\n",
       "      <td>975.0</td>\n",
       "      <td>112.5</td>\n",
       "      <td>181.25</td>\n",
       "    </tr>\n",
       "    <tr>\n",
       "      <th>2017</th>\n",
       "      <td>375.0</td>\n",
       "      <td>2250.0</td>\n",
       "      <td>2025.0</td>\n",
       "      <td>202.5</td>\n",
       "      <td>318.75</td>\n",
       "    </tr>\n",
       "    <tr>\n",
       "      <th>2018</th>\n",
       "      <td>550.0</td>\n",
       "      <td>3300.0</td>\n",
       "      <td>3450.0</td>\n",
       "      <td>315.0</td>\n",
       "      <td>487.50</td>\n",
       "    </tr>\n",
       "    <tr>\n",
       "      <th>2019</th>\n",
       "      <td>750.0</td>\n",
       "      <td>4500.0</td>\n",
       "      <td>5250.0</td>\n",
       "      <td>450.0</td>\n",
       "      <td>687.50</td>\n",
       "    </tr>\n",
       "  </tbody>\n",
       "</table>\n",
       "</div>"
      ],
      "text/plain": [
       "       AAPL   GOOGL    AMZN   MSFT      FB\n",
       "2015  100.0   600.0   300.0   45.0   75.00\n",
       "2016  225.0  1350.0   975.0  112.5  181.25\n",
       "2017  375.0  2250.0  2025.0  202.5  318.75\n",
       "2018  550.0  3300.0  3450.0  315.0  487.50\n",
       "2019  750.0  4500.0  5250.0  450.0  687.50"
      ]
     },
     "execution_count": 160,
     "metadata": {},
     "output_type": "execute_result"
    }
   ],
   "source": [
    "price.cumsum()"
   ]
  },
  {
   "cell_type": "code",
   "execution_count": 161,
   "metadata": {
    "ExecuteTime": {
     "end_time": "2020-03-02T05:57:42.386124Z",
     "start_time": "2020-03-02T05:57:42.360326Z"
    },
    "execution": {
     "iopub.execute_input": "2021-02-11T18:58:02.006310Z",
     "iopub.status.busy": "2021-02-11T18:58:02.005318Z",
     "iopub.status.idle": "2021-02-11T18:58:02.043315Z",
     "shell.execute_reply": "2021-02-11T18:58:02.042322Z",
     "shell.execute_reply.started": "2021-02-11T18:58:02.006310Z"
    },
    "hidden": true
   },
   "outputs": [
    {
     "data": {
      "text/html": [
       "<div>\n",
       "<style scoped>\n",
       "    .dataframe tbody tr th:only-of-type {\n",
       "        vertical-align: middle;\n",
       "    }\n",
       "\n",
       "    .dataframe tbody tr th {\n",
       "        vertical-align: top;\n",
       "    }\n",
       "\n",
       "    .dataframe thead th {\n",
       "        text-align: right;\n",
       "    }\n",
       "</style>\n",
       "<table border=\"1\" class=\"dataframe\">\n",
       "  <thead>\n",
       "    <tr style=\"text-align: right;\">\n",
       "      <th></th>\n",
       "      <th>AAPL</th>\n",
       "      <th>GOOGL</th>\n",
       "      <th>AMZN</th>\n",
       "      <th>MSFT</th>\n",
       "      <th>FB</th>\n",
       "    </tr>\n",
       "  </thead>\n",
       "  <tbody>\n",
       "    <tr>\n",
       "      <th>2015</th>\n",
       "      <td>200.0</td>\n",
       "      <td>1200.0</td>\n",
       "      <td>600.0</td>\n",
       "      <td>90.0</td>\n",
       "      <td>150.0</td>\n",
       "    </tr>\n",
       "    <tr>\n",
       "      <th>2016</th>\n",
       "      <td>250.0</td>\n",
       "      <td>1500.0</td>\n",
       "      <td>1350.0</td>\n",
       "      <td>135.0</td>\n",
       "      <td>212.5</td>\n",
       "    </tr>\n",
       "    <tr>\n",
       "      <th>2017</th>\n",
       "      <td>300.0</td>\n",
       "      <td>1800.0</td>\n",
       "      <td>2100.0</td>\n",
       "      <td>180.0</td>\n",
       "      <td>275.0</td>\n",
       "    </tr>\n",
       "    <tr>\n",
       "      <th>2018</th>\n",
       "      <td>350.0</td>\n",
       "      <td>2100.0</td>\n",
       "      <td>2850.0</td>\n",
       "      <td>225.0</td>\n",
       "      <td>337.5</td>\n",
       "    </tr>\n",
       "    <tr>\n",
       "      <th>2019</th>\n",
       "      <td>400.0</td>\n",
       "      <td>2400.0</td>\n",
       "      <td>3600.0</td>\n",
       "      <td>270.0</td>\n",
       "      <td>400.0</td>\n",
       "    </tr>\n",
       "  </tbody>\n",
       "</table>\n",
       "</div>"
      ],
      "text/plain": [
       "       AAPL   GOOGL    AMZN   MSFT     FB\n",
       "2015  200.0  1200.0   600.0   90.0  150.0\n",
       "2016  250.0  1500.0  1350.0  135.0  212.5\n",
       "2017  300.0  1800.0  2100.0  180.0  275.0\n",
       "2018  350.0  2100.0  2850.0  225.0  337.5\n",
       "2019  400.0  2400.0  3600.0  270.0  400.0"
      ]
     },
     "execution_count": 161,
     "metadata": {},
     "output_type": "execute_result"
    }
   ],
   "source": [
    "price + price"
   ]
  },
  {
   "cell_type": "code",
   "execution_count": 162,
   "metadata": {
    "ExecuteTime": {
     "end_time": "2020-03-02T05:57:42.700911Z",
     "start_time": "2020-03-02T05:57:42.690653Z"
    },
    "execution": {
     "iopub.execute_input": "2021-02-11T18:58:03.495280Z",
     "iopub.status.busy": "2021-02-11T18:58:03.495280Z",
     "iopub.status.idle": "2021-02-11T18:58:03.506280Z",
     "shell.execute_reply": "2021-02-11T18:58:03.506280Z",
     "shell.execute_reply.started": "2021-02-11T18:58:03.495280Z"
    },
    "hidden": true
   },
   "outputs": [
    {
     "data": {
      "text/html": [
       "<div>\n",
       "<style scoped>\n",
       "    .dataframe tbody tr th:only-of-type {\n",
       "        vertical-align: middle;\n",
       "    }\n",
       "\n",
       "    .dataframe tbody tr th {\n",
       "        vertical-align: top;\n",
       "    }\n",
       "\n",
       "    .dataframe thead th {\n",
       "        text-align: right;\n",
       "    }\n",
       "</style>\n",
       "<table border=\"1\" class=\"dataframe\">\n",
       "  <thead>\n",
       "    <tr style=\"text-align: right;\">\n",
       "      <th></th>\n",
       "      <th>AAPL</th>\n",
       "      <th>GOOGL</th>\n",
       "      <th>AMZN</th>\n",
       "      <th>MSFT</th>\n",
       "      <th>FB</th>\n",
       "    </tr>\n",
       "  </thead>\n",
       "  <tbody>\n",
       "    <tr>\n",
       "      <th>2015</th>\n",
       "      <td>200.0</td>\n",
       "      <td>1200.0</td>\n",
       "      <td>600.0</td>\n",
       "      <td>90.0</td>\n",
       "      <td>150.0</td>\n",
       "    </tr>\n",
       "    <tr>\n",
       "      <th>2016</th>\n",
       "      <td>250.0</td>\n",
       "      <td>1500.0</td>\n",
       "      <td>1350.0</td>\n",
       "      <td>135.0</td>\n",
       "      <td>212.5</td>\n",
       "    </tr>\n",
       "    <tr>\n",
       "      <th>2017</th>\n",
       "      <td>300.0</td>\n",
       "      <td>1800.0</td>\n",
       "      <td>2100.0</td>\n",
       "      <td>180.0</td>\n",
       "      <td>275.0</td>\n",
       "    </tr>\n",
       "    <tr>\n",
       "      <th>2018</th>\n",
       "      <td>350.0</td>\n",
       "      <td>2100.0</td>\n",
       "      <td>2850.0</td>\n",
       "      <td>225.0</td>\n",
       "      <td>337.5</td>\n",
       "    </tr>\n",
       "    <tr>\n",
       "      <th>2019</th>\n",
       "      <td>400.0</td>\n",
       "      <td>2400.0</td>\n",
       "      <td>3600.0</td>\n",
       "      <td>270.0</td>\n",
       "      <td>400.0</td>\n",
       "    </tr>\n",
       "  </tbody>\n",
       "</table>\n",
       "</div>"
      ],
      "text/plain": [
       "       AAPL   GOOGL    AMZN   MSFT     FB\n",
       "2015  200.0  1200.0   600.0   90.0  150.0\n",
       "2016  250.0  1500.0  1350.0  135.0  212.5\n",
       "2017  300.0  1800.0  2100.0  180.0  275.0\n",
       "2018  350.0  2100.0  2850.0  225.0  337.5\n",
       "2019  400.0  2400.0  3600.0  270.0  400.0"
      ]
     },
     "execution_count": 162,
     "metadata": {},
     "output_type": "execute_result"
    }
   ],
   "source": [
    "price.__add__(price)"
   ]
  },
  {
   "cell_type": "code",
   "execution_count": 163,
   "metadata": {
    "ExecuteTime": {
     "end_time": "2020-03-02T05:57:43.178384Z",
     "start_time": "2020-03-02T05:57:43.166701Z"
    },
    "execution": {
     "iopub.execute_input": "2021-02-11T18:58:09.286794Z",
     "iopub.status.busy": "2021-02-11T18:58:09.286794Z",
     "iopub.status.idle": "2021-02-11T18:58:09.294794Z",
     "shell.execute_reply": "2021-02-11T18:58:09.294794Z",
     "shell.execute_reply.started": "2021-02-11T18:58:09.286794Z"
    },
    "hidden": true
   },
   "outputs": [
    {
     "data": {
      "text/html": [
       "<div>\n",
       "<style scoped>\n",
       "    .dataframe tbody tr th:only-of-type {\n",
       "        vertical-align: middle;\n",
       "    }\n",
       "\n",
       "    .dataframe tbody tr th {\n",
       "        vertical-align: top;\n",
       "    }\n",
       "\n",
       "    .dataframe thead th {\n",
       "        text-align: right;\n",
       "    }\n",
       "</style>\n",
       "<table border=\"1\" class=\"dataframe\">\n",
       "  <thead>\n",
       "    <tr style=\"text-align: right;\">\n",
       "      <th></th>\n",
       "      <th>AAPL</th>\n",
       "      <th>GOOGL</th>\n",
       "      <th>AMZN</th>\n",
       "      <th>MSFT</th>\n",
       "      <th>FB</th>\n",
       "    </tr>\n",
       "  </thead>\n",
       "  <tbody>\n",
       "    <tr>\n",
       "      <th>2015</th>\n",
       "      <td>200.0</td>\n",
       "      <td>1200.0</td>\n",
       "      <td>600.0</td>\n",
       "      <td>90.0</td>\n",
       "      <td>150.0</td>\n",
       "    </tr>\n",
       "    <tr>\n",
       "      <th>2016</th>\n",
       "      <td>250.0</td>\n",
       "      <td>1500.0</td>\n",
       "      <td>1350.0</td>\n",
       "      <td>135.0</td>\n",
       "      <td>212.5</td>\n",
       "    </tr>\n",
       "    <tr>\n",
       "      <th>2017</th>\n",
       "      <td>300.0</td>\n",
       "      <td>1800.0</td>\n",
       "      <td>2100.0</td>\n",
       "      <td>180.0</td>\n",
       "      <td>275.0</td>\n",
       "    </tr>\n",
       "    <tr>\n",
       "      <th>2018</th>\n",
       "      <td>350.0</td>\n",
       "      <td>2100.0</td>\n",
       "      <td>2850.0</td>\n",
       "      <td>225.0</td>\n",
       "      <td>337.5</td>\n",
       "    </tr>\n",
       "    <tr>\n",
       "      <th>2019</th>\n",
       "      <td>400.0</td>\n",
       "      <td>2400.0</td>\n",
       "      <td>3600.0</td>\n",
       "      <td>270.0</td>\n",
       "      <td>400.0</td>\n",
       "    </tr>\n",
       "  </tbody>\n",
       "</table>\n",
       "</div>"
      ],
      "text/plain": [
       "       AAPL   GOOGL    AMZN   MSFT     FB\n",
       "2015  200.0  1200.0   600.0   90.0  150.0\n",
       "2016  250.0  1500.0  1350.0  135.0  212.5\n",
       "2017  300.0  1800.0  2100.0  180.0  275.0\n",
       "2018  350.0  2100.0  2850.0  225.0  337.5\n",
       "2019  400.0  2400.0  3600.0  270.0  400.0"
      ]
     },
     "execution_count": 163,
     "metadata": {},
     "output_type": "execute_result"
    }
   ],
   "source": [
    "2 * price"
   ]
  },
  {
   "cell_type": "code",
   "execution_count": 164,
   "metadata": {
    "ExecuteTime": {
     "end_time": "2020-03-02T05:57:43.826357Z",
     "start_time": "2020-03-02T05:57:43.816016Z"
    },
    "execution": {
     "iopub.execute_input": "2021-02-11T18:58:18.222771Z",
     "iopub.status.busy": "2021-02-11T18:58:18.222771Z",
     "iopub.status.idle": "2021-02-11T18:58:18.247333Z",
     "shell.execute_reply": "2021-02-11T18:58:18.247333Z",
     "shell.execute_reply.started": "2021-02-11T18:58:18.222771Z"
    },
    "hidden": true
   },
   "outputs": [
    {
     "data": {
      "text/html": [
       "<div>\n",
       "<style scoped>\n",
       "    .dataframe tbody tr th:only-of-type {\n",
       "        vertical-align: middle;\n",
       "    }\n",
       "\n",
       "    .dataframe tbody tr th {\n",
       "        vertical-align: top;\n",
       "    }\n",
       "\n",
       "    .dataframe thead th {\n",
       "        text-align: right;\n",
       "    }\n",
       "</style>\n",
       "<table border=\"1\" class=\"dataframe\">\n",
       "  <thead>\n",
       "    <tr style=\"text-align: right;\">\n",
       "      <th></th>\n",
       "      <th>AAPL</th>\n",
       "      <th>GOOGL</th>\n",
       "      <th>AMZN</th>\n",
       "      <th>MSFT</th>\n",
       "      <th>FB</th>\n",
       "    </tr>\n",
       "  </thead>\n",
       "  <tbody>\n",
       "    <tr>\n",
       "      <th>2015</th>\n",
       "      <td>200.0</td>\n",
       "      <td>1200.0</td>\n",
       "      <td>600.0</td>\n",
       "      <td>90.0</td>\n",
       "      <td>150.0</td>\n",
       "    </tr>\n",
       "    <tr>\n",
       "      <th>2016</th>\n",
       "      <td>250.0</td>\n",
       "      <td>1500.0</td>\n",
       "      <td>1350.0</td>\n",
       "      <td>135.0</td>\n",
       "      <td>212.5</td>\n",
       "    </tr>\n",
       "    <tr>\n",
       "      <th>2017</th>\n",
       "      <td>300.0</td>\n",
       "      <td>1800.0</td>\n",
       "      <td>2100.0</td>\n",
       "      <td>180.0</td>\n",
       "      <td>275.0</td>\n",
       "    </tr>\n",
       "    <tr>\n",
       "      <th>2018</th>\n",
       "      <td>350.0</td>\n",
       "      <td>2100.0</td>\n",
       "      <td>2850.0</td>\n",
       "      <td>225.0</td>\n",
       "      <td>337.5</td>\n",
       "    </tr>\n",
       "    <tr>\n",
       "      <th>2019</th>\n",
       "      <td>400.0</td>\n",
       "      <td>2400.0</td>\n",
       "      <td>3600.0</td>\n",
       "      <td>270.0</td>\n",
       "      <td>400.0</td>\n",
       "    </tr>\n",
       "  </tbody>\n",
       "</table>\n",
       "</div>"
      ],
      "text/plain": [
       "       AAPL   GOOGL    AMZN   MSFT     FB\n",
       "2015  200.0  1200.0   600.0   90.0  150.0\n",
       "2016  250.0  1500.0  1350.0  135.0  212.5\n",
       "2017  300.0  1800.0  2100.0  180.0  275.0\n",
       "2018  350.0  2100.0  2850.0  225.0  337.5\n",
       "2019  400.0  2400.0  3600.0  270.0  400.0"
      ]
     },
     "execution_count": 164,
     "metadata": {},
     "output_type": "execute_result"
    }
   ],
   "source": [
    "price.__rmul__(2)"
   ]
  },
  {
   "cell_type": "code",
   "execution_count": 165,
   "metadata": {
    "ExecuteTime": {
     "end_time": "2020-03-02T05:57:44.273262Z",
     "start_time": "2020-03-02T05:57:44.267277Z"
    },
    "execution": {
     "iopub.execute_input": "2021-02-11T18:58:19.166518Z",
     "iopub.status.busy": "2021-02-11T18:58:19.166518Z",
     "iopub.status.idle": "2021-02-11T18:58:19.190525Z",
     "shell.execute_reply": "2021-02-11T18:58:19.189535Z",
     "shell.execute_reply.started": "2021-02-11T18:58:19.166518Z"
    },
    "hidden": true
   },
   "outputs": [
    {
     "data": {
      "text/plain": [
       "array([ 150. ,  900. , 1050. ,   90. ,  137.5])"
      ]
     },
     "execution_count": 165,
     "metadata": {},
     "output_type": "execute_result"
    }
   ],
   "source": [
    "np.median(price,0)"
   ]
  },
  {
   "cell_type": "code",
   "execution_count": 166,
   "metadata": {
    "ExecuteTime": {
     "end_time": "2020-03-02T05:57:45.192179Z",
     "start_time": "2020-03-02T05:57:45.184759Z"
    },
    "execution": {
     "iopub.execute_input": "2021-02-11T18:58:20.213280Z",
     "iopub.status.busy": "2021-02-11T18:58:20.213280Z",
     "iopub.status.idle": "2021-02-11T18:58:20.222278Z",
     "shell.execute_reply": "2021-02-11T18:58:20.222278Z",
     "shell.execute_reply.started": "2021-02-11T18:58:20.213280Z"
    },
    "hidden": true
   },
   "outputs": [
    {
     "data": {
      "text/plain": [
       "332"
      ]
     },
     "execution_count": 166,
     "metadata": {},
     "output_type": "execute_result"
    }
   ],
   "source": [
    "price.__sizeof__()  "
   ]
  },
  {
   "cell_type": "markdown",
   "metadata": {
    "heading_collapsed": true
   },
   "source": [
    "## Debugging"
   ]
  },
  {
   "cell_type": "code",
   "execution_count": null,
   "metadata": {
    "ExecuteTime": {
     "end_time": "2020-03-02T07:01:04.141386Z",
     "start_time": "2020-03-02T07:01:04.117649Z"
    },
    "execution": {
     "iopub.status.busy": "2020-06-02T12:35:17.819066Z",
     "iopub.status.idle": "2020-06-02T12:35:17.820063Z"
    },
    "hidden": true
   },
   "outputs": [],
   "source": [
    "import pandas as pd, numpy as np\n",
    "\n",
    "def alpha_detector(X_train, y_train):\n",
    "    some_step = X_train.max(0) - y_train\n",
    "    y_train = some_step + X_train\n",
    "    return None"
   ]
  },
  {
   "cell_type": "code",
   "execution_count": null,
   "metadata": {
    "ExecuteTime": {
     "end_time": "2020-03-02T07:01:05.235630Z",
     "start_time": "2020-03-02T07:01:05.210420Z"
    },
    "execution": {
     "iopub.status.busy": "2020-06-02T12:35:17.822059Z",
     "iopub.status.idle": "2020-06-02T12:35:17.823056Z"
    },
    "hidden": true
   },
   "outputs": [],
   "source": [
    "X_train = np.random.random((10,3))\n",
    "y_train = np.random.random((10,1))\n",
    "\n",
    "alpha_detector(X_train, y_train)"
   ]
  },
  {
   "cell_type": "markdown",
   "metadata": {
    "hidden": true
   },
   "source": [
    "Debugging is considered better than adding print statements"
   ]
  },
  {
   "cell_type": "code",
   "execution_count": null,
   "metadata": {
    "ExecuteTime": {
     "end_time": "2020-03-02T07:01:09.472269Z",
     "start_time": "2020-03-02T07:01:06.808063Z"
    },
    "execution": {
     "iopub.status.busy": "2020-06-02T12:35:17.825052Z",
     "iopub.status.idle": "2020-06-02T12:35:17.826063Z"
    },
    "hidden": true
   },
   "outputs": [],
   "source": [
    "%debug"
   ]
  },
  {
   "cell_type": "markdown",
   "metadata": {
    "heading_collapsed": true
   },
   "source": [
    "## Figure out how?"
   ]
  },
  {
   "cell_type": "code",
   "execution_count": 70,
   "metadata": {
    "ExecuteTime": {
     "end_time": "2020-03-02T07:01:27.888145Z",
     "start_time": "2020-03-02T07:01:27.863795Z"
    },
    "execution": {
     "iopub.execute_input": "2020-06-02T12:48:46.052820Z",
     "iopub.status.busy": "2020-06-02T12:48:46.052820Z",
     "iopub.status.idle": "2020-06-02T12:48:46.060799Z",
     "shell.execute_reply": "2020-06-02T12:48:46.059801Z",
     "shell.execute_reply.started": "2020-06-02T12:48:46.052820Z"
    },
    "hidden": true
   },
   "outputs": [],
   "source": [
    "class G:\n",
    "    def __init__(self,s):\n",
    "        self.s = s\n",
    "    def __getattr__(self,t):\n",
    "        return G(self.s+'.in')\n",
    "    def __rmatmul__(self, other):\n",
    "        return other+'#'+self.s\n",
    "\n",
    "algotrading, quantinsti = 'algotrading', G('quantinsti')"
   ]
  },
  {
   "cell_type": "code",
   "execution_count": 74,
   "metadata": {
    "ExecuteTime": {
     "end_time": "2020-03-02T07:01:28.484232Z",
     "start_time": "2020-03-02T07:01:28.459804Z"
    },
    "execution": {
     "iopub.execute_input": "2020-06-02T12:55:44.053115Z",
     "iopub.status.busy": "2020-06-02T12:55:44.053115Z",
     "iopub.status.idle": "2020-06-02T12:55:44.064086Z",
     "shell.execute_reply": "2020-06-02T12:55:44.063088Z",
     "shell.execute_reply.started": "2020-06-02T12:55:44.053115Z"
    },
    "hidden": true
   },
   "outputs": [
    {
     "name": "stdout",
     "output_type": "stream",
     "text": [
      "  algotrading@quantinsti.com \n",
      "  algotrading#quantinsti.in\n"
     ]
    },
    {
     "data": {
      "text/plain": [
       "\"'algotrading@quantinsti.com'\""
      ]
     },
     "execution_count": 74,
     "metadata": {},
     "output_type": "execute_result"
    }
   ],
   "source": [
    "string = \"algotrading@quantinsti.com\"\n",
    "print(\" \",string,\"\\n \",eval(string))\n",
    "repr(string)"
   ]
  },
  {
   "cell_type": "markdown",
   "metadata": {
    "heading_collapsed": true
   },
   "source": [
    "## References"
   ]
  },
  {
   "cell_type": "markdown",
   "metadata": {
    "hidden": true
   },
   "source": [
    " - http://hilpisch.com/py4fi_oop_epat.html\n",
    " - [Fluent Python by Luciano Ramalho](https://www.amazon.in/Fluent-Python-Luciano-Ramalho/dp/1491946008)\n",
    " - [Data Structures and Algorithms in Python by Michael T. Goodrich et al](https://www.amazon.in/Structures-Algorithms-Python-Michael-Goodrich/dp/1118290275)\n",
    " - https://realpython.com/"
   ]
  }
 ],
 "metadata": {
  "kernelspec": {
   "display_name": "Python 3",
   "language": "python",
   "name": "python3"
  },
  "language_info": {
   "codemirror_mode": {
    "name": "ipython",
    "version": 3
   },
   "file_extension": ".py",
   "mimetype": "text/x-python",
   "name": "python",
   "nbconvert_exporter": "python",
   "pygments_lexer": "ipython3",
   "version": "3.7.6"
  },
  "varInspector": {
   "cols": {
    "lenName": 16,
    "lenType": 16,
    "lenVar": 40
   },
   "kernels_config": {
    "python": {
     "delete_cmd_postfix": "",
     "delete_cmd_prefix": "del ",
     "library": "var_list.py",
     "varRefreshCmd": "print(var_dic_list())"
    },
    "r": {
     "delete_cmd_postfix": ") ",
     "delete_cmd_prefix": "rm(",
     "library": "var_list.r",
     "varRefreshCmd": "cat(var_dic_list()) "
    }
   },
   "types_to_exclude": [
    "module",
    "function",
    "builtin_function_or_method",
    "instance",
    "_Feature"
   ],
   "window_display": false
  }
 },
 "nbformat": 4,
 "nbformat_minor": 4
}
