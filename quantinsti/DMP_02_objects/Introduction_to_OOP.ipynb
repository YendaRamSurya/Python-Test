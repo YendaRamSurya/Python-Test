{
 "cells": [
  {
   "cell_type": "markdown",
   "metadata": {},
   "source": [
    "# Introduction to Object oriented Programming (OOP)"
   ]
  },
  {
   "cell_type": "markdown",
   "metadata": {},
   "source": [
    "## Agenda for today's session"
   ]
  },
  {
   "cell_type": "markdown",
   "metadata": {},
   "source": [
    "- Why learn OOP?\n",
    "- Getting started with OOP\n",
    "    - ...\n",
    "- \\_\\_init\\_\\_\n",
    "- attributes\n",
    "- dunders\n",
    "- Inheritance\n",
    "- super keyword\n",
    "- methods\n",
    "- Example - DataFrame\n",
    "- Debugging\n",
    "- Figure out how?\n",
    "- References"
   ]
  },
  {
   "cell_type": "markdown",
   "metadata": {
    "ExecuteTime": {
     "end_time": "2019-08-02T17:37:41.696051Z",
     "start_time": "2019-08-02T17:37:41.679556Z"
    },
    "heading_collapsed": true
   },
   "source": [
    "## Why learn OOP?"
   ]
  },
  {
   "cell_type": "markdown",
   "metadata": {
    "hidden": true
   },
   "source": [
    "- Manage complexity\n",
    "- DRY (Don't Repeat Yourself)\n",
    "- Leverage existing code saves time.\n",
    "- More than half of all Python code avaiable on Github is object-oriented.\n",
    "- E.g. [Statsmodels](https://github.com/statsmodels/statsmodels/blob/master/statsmodels/base/model.py), [FFN](https://github.com/pmorissette/ffn/blob/master/ffn/core.py), [Quantpy](https://github.com/jsmidt/QuantPy/blob/master/quantpy/portfolio.py), [pyfin](https://github.com/opendoor-labs/pyfin/blob/master/pyfin/pyfin.py), [Quantitative](https://github.com/jeffrey-liang/quantitative/blob/master/quantitative/engine.py), [ARCH](https://github.com/bashtage/arch/blob/master/arch/utility/testing.py)"
   ]
  },
  {
   "cell_type": "markdown",
   "metadata": {
    "heading_collapsed": true
   },
   "source": [
    "## Getting started with OOP"
   ]
  },
  {
   "cell_type": "markdown",
   "metadata": {
    "hidden": true
   },
   "source": [
    "Python is an object-oriented language and classes form the basis for all data types."
   ]
  },
  {
   "cell_type": "markdown",
   "metadata": {
    "hidden": true
   },
   "source": [
    "__Python’s built-in classes:__ <br> \n",
    " - *int* class for integers\n",
    " - *float* class for floating-point values\n",
    " - *str* class for character strings\n",
    " - ..."
   ]
  },
  {
   "cell_type": "code",
   "execution_count": 1,
   "metadata": {
    "ExecuteTime": {
     "end_time": "2020-03-02T05:54:22.676687Z",
     "start_time": "2020-03-02T05:54:22.672291Z"
    },
    "execution": {
     "iopub.execute_input": "2020-06-02T12:35:15.291831Z",
     "iopub.status.busy": "2020-06-02T12:35:15.290831Z",
     "iopub.status.idle": "2020-06-02T12:35:15.297811Z",
     "shell.execute_reply": "2020-06-02T12:35:15.295817Z",
     "shell.execute_reply.started": "2020-06-02T12:35:15.291831Z"
    },
    "hidden": true
   },
   "outputs": [],
   "source": [
    "AAPL = 206.5"
   ]
  },
  {
   "cell_type": "markdown",
   "metadata": {
    "hidden": true
   },
   "source": [
    "The isinstance() function is used to determine if an instance belongs to a certain class."
   ]
  },
  {
   "cell_type": "code",
   "execution_count": 2,
   "metadata": {
    "ExecuteTime": {
     "end_time": "2020-03-02T05:54:22.689788Z",
     "start_time": "2020-03-02T05:54:22.681388Z"
    },
    "execution": {
     "iopub.execute_input": "2020-06-02T12:35:15.302797Z",
     "iopub.status.busy": "2020-06-02T12:35:15.302797Z",
     "iopub.status.idle": "2020-06-02T12:35:15.395549Z",
     "shell.execute_reply": "2020-06-02T12:35:15.394551Z",
     "shell.execute_reply.started": "2020-06-02T12:35:15.302797Z"
    },
    "hidden": true
   },
   "outputs": [
    {
     "data": {
      "text/plain": [
       "True"
      ]
     },
     "execution_count": 2,
     "metadata": {},
     "output_type": "execute_result"
    }
   ],
   "source": [
    "isinstance(AAPL, float)"
   ]
  },
  {
   "cell_type": "code",
   "execution_count": 3,
   "metadata": {
    "ExecuteTime": {
     "end_time": "2020-03-02T05:54:22.695187Z",
     "start_time": "2020-03-02T05:54:22.691543Z"
    },
    "execution": {
     "iopub.execute_input": "2020-06-02T12:35:15.397544Z",
     "iopub.status.busy": "2020-06-02T12:35:15.397544Z",
     "iopub.status.idle": "2020-06-02T12:35:15.495283Z",
     "shell.execute_reply": "2020-06-02T12:35:15.494286Z",
     "shell.execute_reply.started": "2020-06-02T12:35:15.397544Z"
    },
    "hidden": true
   },
   "outputs": [
    {
     "data": {
      "text/plain": [
       "True"
      ]
     },
     "execution_count": 3,
     "metadata": {},
     "output_type": "execute_result"
    }
   ],
   "source": [
    "isinstance(206.5, float)"
   ]
  },
  {
   "cell_type": "code",
   "execution_count": 4,
   "metadata": {
    "ExecuteTime": {
     "end_time": "2020-03-02T05:54:22.701076Z",
     "start_time": "2020-03-02T05:54:22.697417Z"
    },
    "execution": {
     "iopub.execute_input": "2020-06-02T12:35:15.499272Z",
     "iopub.status.busy": "2020-06-02T12:35:15.498274Z",
     "iopub.status.idle": "2020-06-02T12:35:15.617955Z",
     "shell.execute_reply": "2020-06-02T12:35:15.616957Z",
     "shell.execute_reply.started": "2020-06-02T12:35:15.499272Z"
    },
    "hidden": true
   },
   "outputs": [
    {
     "data": {
      "text/plain": [
       "False"
      ]
     },
     "execution_count": 4,
     "metadata": {},
     "output_type": "execute_result"
    }
   ],
   "source": [
    "isinstance(206, float)"
   ]
  },
  {
   "cell_type": "code",
   "execution_count": 5,
   "metadata": {
    "ExecuteTime": {
     "end_time": "2020-03-02T05:54:22.706449Z",
     "start_time": "2020-03-02T05:54:22.703028Z"
    },
    "execution": {
     "iopub.execute_input": "2020-06-02T12:35:15.619951Z",
     "iopub.status.busy": "2020-06-02T12:35:15.619951Z",
     "iopub.status.idle": "2020-06-02T12:35:15.772541Z",
     "shell.execute_reply": "2020-06-02T12:35:15.771544Z",
     "shell.execute_reply.started": "2020-06-02T12:35:15.619951Z"
    },
    "hidden": true
   },
   "outputs": [
    {
     "data": {
      "text/plain": [
       "True"
      ]
     },
     "execution_count": 5,
     "metadata": {},
     "output_type": "execute_result"
    }
   ],
   "source": [
    "isinstance(float, object)"
   ]
  },
  {
   "cell_type": "markdown",
   "metadata": {
    "ExecuteTime": {
     "end_time": "2019-05-19T18:15:13.165937Z",
     "start_time": "2019-05-19T18:15:13.163567Z"
    },
    "hidden": true
   },
   "source": [
    "### Object creation"
   ]
  },
  {
   "cell_type": "markdown",
   "metadata": {
    "hidden": true
   },
   "source": [
    "- Object-oriented Programming, or OOP for short, is a programming paradigm which provides a means of structuring programs so that properties and behaviors are bundled into individual objects.\n",
    "- Object refers to a particular instance of a class, where the object can be a combination of variables, functions, and data structures."
   ]
  },
  {
   "cell_type": "code",
   "execution_count": 6,
   "metadata": {
    "ExecuteTime": {
     "end_time": "2020-03-02T05:54:22.710971Z",
     "start_time": "2020-03-02T05:54:22.708171Z"
    },
    "execution": {
     "iopub.execute_input": "2020-06-02T12:35:15.774536Z",
     "iopub.status.busy": "2020-06-02T12:35:15.773538Z",
     "iopub.status.idle": "2020-06-02T12:35:15.885239Z",
     "shell.execute_reply": "2020-06-02T12:35:15.884242Z",
     "shell.execute_reply.started": "2020-06-02T12:35:15.774536Z"
    },
    "hidden": true
   },
   "outputs": [],
   "source": [
    "class MeanReversion:\n",
    "    pass"
   ]
  },
  {
   "cell_type": "code",
   "execution_count": 7,
   "metadata": {
    "ExecuteTime": {
     "end_time": "2020-03-02T05:54:22.715516Z",
     "start_time": "2020-03-02T05:54:22.713178Z"
    },
    "execution": {
     "iopub.execute_input": "2020-06-02T12:35:15.888231Z",
     "iopub.status.busy": "2020-06-02T12:35:15.887234Z",
     "iopub.status.idle": "2020-06-02T12:35:16.035837Z",
     "shell.execute_reply": "2020-06-02T12:35:16.034839Z",
     "shell.execute_reply.started": "2020-06-02T12:35:15.888231Z"
    },
    "hidden": true
   },
   "outputs": [],
   "source": [
    "strategy = MeanReversion()"
   ]
  },
  {
   "cell_type": "markdown",
   "metadata": {
    "hidden": true
   },
   "source": [
    "### Identification of attributes and methods"
   ]
  },
  {
   "cell_type": "markdown",
   "metadata": {
    "ExecuteTime": {
     "end_time": "2019-05-26T13:07:28.602009Z",
     "start_time": "2019-05-26T13:07:28.528155Z"
    },
    "hidden": true
   },
   "source": [
    "**Attributes** are the features of the objects or the variables used in a class whereas<br>\n",
    "**Methods** are the operations or activities performed by that object. These are defined as functions in the class.\n",
    "\n",
    "For example, if GOOGL is an object of class Security,\n",
    "\n",
    "price, volume, value are the attributes.\n",
    "\n",
    "buy(), hold(), short_sell(stop_loss) are the methods."
   ]
  },
  {
   "cell_type": "code",
   "execution_count": 8,
   "metadata": {
    "ExecuteTime": {
     "end_time": "2020-03-02T05:54:22.721809Z",
     "start_time": "2020-03-02T05:54:22.717476Z"
    },
    "execution": {
     "iopub.execute_input": "2020-06-02T12:35:16.037831Z",
     "iopub.status.busy": "2020-06-02T12:35:16.037831Z",
     "iopub.status.idle": "2020-06-02T12:35:16.203390Z",
     "shell.execute_reply": "2020-06-02T12:35:16.202391Z",
     "shell.execute_reply.started": "2020-06-02T12:35:16.037831Z"
    },
    "hidden": true
   },
   "outputs": [],
   "source": [
    "class FinancialInstrument:\n",
    "    def __init__(self, price, volume):\n",
    "        self.price = price\n",
    "        self._volume = volume\n",
    "        self.__value = price * volume\n",
    "\n",
    "    def buy(self):\n",
    "        print(\"buying ...\")\n",
    "\n",
    "    def hold(self):\n",
    "        pass\n",
    "\n",
    "    def short_sell(self, stop_loss):\n",
    "        pass"
   ]
  },
  {
   "cell_type": "markdown",
   "metadata": {
    "hidden": true
   },
   "source": [
    "Note: <span style=\"color:blue\">Dunder</span> comes from the word phrase  <span style=\"color:blue\">**D**</span>ouble <span style=\"color:blue\">**under**</span>scores"
   ]
  },
  {
   "cell_type": "code",
   "execution_count": 9,
   "metadata": {
    "ExecuteTime": {
     "end_time": "2020-03-02T05:54:22.725939Z",
     "start_time": "2020-03-02T05:54:22.723502Z"
    },
    "execution": {
     "iopub.execute_input": "2020-06-02T12:35:16.206380Z",
     "iopub.status.busy": "2020-06-02T12:35:16.206380Z",
     "iopub.status.idle": "2020-06-02T12:35:16.313096Z",
     "shell.execute_reply": "2020-06-02T12:35:16.312097Z",
     "shell.execute_reply.started": "2020-06-02T12:35:16.206380Z"
    },
    "hidden": true
   },
   "outputs": [],
   "source": [
    "GOOGL = FinancialInstrument(1200, 100)"
   ]
  },
  {
   "cell_type": "code",
   "execution_count": 10,
   "metadata": {
    "ExecuteTime": {
     "end_time": "2020-03-02T05:54:22.731072Z",
     "start_time": "2020-03-02T05:54:22.727666Z"
    },
    "execution": {
     "iopub.execute_input": "2020-06-02T12:35:16.317085Z",
     "iopub.status.busy": "2020-06-02T12:35:16.317085Z",
     "iopub.status.idle": "2020-06-02T12:35:16.475664Z",
     "shell.execute_reply": "2020-06-02T12:35:16.474663Z",
     "shell.execute_reply.started": "2020-06-02T12:35:16.317085Z"
    },
    "hidden": true
   },
   "outputs": [
    {
     "data": {
      "text/plain": [
       "1200"
      ]
     },
     "execution_count": 10,
     "metadata": {},
     "output_type": "execute_result"
    }
   ],
   "source": [
    "GOOGL.price"
   ]
  },
  {
   "cell_type": "code",
   "execution_count": 11,
   "metadata": {
    "ExecuteTime": {
     "end_time": "2020-03-02T05:54:22.736284Z",
     "start_time": "2020-03-02T05:54:22.733424Z"
    },
    "execution": {
     "iopub.execute_input": "2020-06-02T12:35:16.477655Z",
     "iopub.status.busy": "2020-06-02T12:35:16.477655Z",
     "iopub.status.idle": "2020-06-02T12:35:16.624262Z",
     "shell.execute_reply": "2020-06-02T12:35:16.622268Z",
     "shell.execute_reply.started": "2020-06-02T12:35:16.477655Z"
    },
    "hidden": true
   },
   "outputs": [
    {
     "name": "stdout",
     "output_type": "stream",
     "text": [
      "buying ...\n"
     ]
    }
   ],
   "source": [
    "GOOGL.buy()"
   ]
  },
  {
   "cell_type": "code",
   "execution_count": 12,
   "metadata": {
    "ExecuteTime": {
     "end_time": "2020-03-02T05:54:22.741908Z",
     "start_time": "2020-03-02T05:54:22.738230Z"
    },
    "execution": {
     "iopub.execute_input": "2020-06-02T12:35:16.627254Z",
     "iopub.status.busy": "2020-06-02T12:35:16.627254Z",
     "iopub.status.idle": "2020-06-02T12:35:16.770870Z",
     "shell.execute_reply": "2020-06-02T12:35:16.769873Z",
     "shell.execute_reply.started": "2020-06-02T12:35:16.627254Z"
    },
    "hidden": true
   },
   "outputs": [
    {
     "data": {
      "text/plain": [
       "{'price': 1200, '_volume': 100, '_FinancialInstrument__value': 120000}"
      ]
     },
     "execution_count": 12,
     "metadata": {},
     "output_type": "execute_result"
    }
   ],
   "source": [
    "GOOGL.__dict__"
   ]
  },
  {
   "cell_type": "code",
   "execution_count": 13,
   "metadata": {
    "ExecuteTime": {
     "end_time": "2020-03-02T05:54:22.746937Z",
     "start_time": "2020-03-02T05:54:22.743485Z"
    },
    "execution": {
     "iopub.execute_input": "2020-06-02T12:35:16.772865Z",
     "iopub.status.busy": "2020-06-02T12:35:16.771867Z",
     "iopub.status.idle": "2020-06-02T12:35:16.937424Z",
     "shell.execute_reply": "2020-06-02T12:35:16.936428Z",
     "shell.execute_reply.started": "2020-06-02T12:35:16.772865Z"
    },
    "hidden": true
   },
   "outputs": [
    {
     "data": {
      "text/plain": [
       "{'price': 1200, '_volume': 100, '_FinancialInstrument__value': 120000}"
      ]
     },
     "execution_count": 13,
     "metadata": {},
     "output_type": "execute_result"
    }
   ],
   "source": [
    "vars(GOOGL)"
   ]
  },
  {
   "cell_type": "code",
   "execution_count": 14,
   "metadata": {
    "ExecuteTime": {
     "end_time": "2020-03-02T05:54:22.752407Z",
     "start_time": "2020-03-02T05:54:22.748670Z"
    },
    "execution": {
     "iopub.execute_input": "2020-06-02T12:35:16.939419Z",
     "iopub.status.busy": "2020-06-02T12:35:16.938422Z",
     "iopub.status.idle": "2020-06-02T12:35:17.103978Z",
     "shell.execute_reply": "2020-06-02T12:35:17.102983Z",
     "shell.execute_reply.started": "2020-06-02T12:35:16.939419Z"
    },
    "hidden": true
   },
   "outputs": [
    {
     "data": {
      "text/plain": [
       "mappingproxy({'__module__': '__main__',\n",
       "              '__init__': <function __main__.FinancialInstrument.__init__(self, price, volume)>,\n",
       "              'buy': <function __main__.FinancialInstrument.buy(self)>,\n",
       "              'hold': <function __main__.FinancialInstrument.hold(self)>,\n",
       "              'short_sell': <function __main__.FinancialInstrument.short_sell(self, stop_loss)>,\n",
       "              '__dict__': <attribute '__dict__' of 'FinancialInstrument' objects>,\n",
       "              '__weakref__': <attribute '__weakref__' of 'FinancialInstrument' objects>,\n",
       "              '__doc__': None})"
      ]
     },
     "execution_count": 14,
     "metadata": {},
     "output_type": "execute_result"
    }
   ],
   "source": [
    "vars(FinancialInstrument)"
   ]
  },
  {
   "cell_type": "code",
   "execution_count": 15,
   "metadata": {
    "ExecuteTime": {
     "end_time": "2020-03-02T05:54:22.757940Z",
     "start_time": "2020-03-02T05:54:22.754121Z"
    },
    "execution": {
     "iopub.execute_input": "2020-06-02T12:35:17.105974Z",
     "iopub.status.busy": "2020-06-02T12:35:17.105974Z",
     "iopub.status.idle": "2020-06-02T12:35:17.280509Z",
     "shell.execute_reply": "2020-06-02T12:35:17.279512Z",
     "shell.execute_reply.started": "2020-06-02T12:35:17.105974Z"
    },
    "hidden": true
   },
   "outputs": [
    {
     "data": {
      "text/plain": [
       "mappingproxy({'__module__': '__main__',\n",
       "              '__init__': <function __main__.FinancialInstrument.__init__(self, price, volume)>,\n",
       "              'buy': <function __main__.FinancialInstrument.buy(self)>,\n",
       "              'hold': <function __main__.FinancialInstrument.hold(self)>,\n",
       "              'short_sell': <function __main__.FinancialInstrument.short_sell(self, stop_loss)>,\n",
       "              '__dict__': <attribute '__dict__' of 'FinancialInstrument' objects>,\n",
       "              '__weakref__': <attribute '__weakref__' of 'FinancialInstrument' objects>,\n",
       "              '__doc__': None})"
      ]
     },
     "execution_count": 15,
     "metadata": {},
     "output_type": "execute_result"
    }
   ],
   "source": [
    "FinancialInstrument.__dict__"
   ]
  },
  {
   "cell_type": "code",
   "execution_count": 16,
   "metadata": {
    "ExecuteTime": {
     "end_time": "2020-03-02T05:54:22.841976Z",
     "start_time": "2020-03-02T05:54:22.759615Z"
    },
    "execution": {
     "iopub.execute_input": "2020-06-02T12:35:17.283499Z",
     "iopub.status.busy": "2020-06-02T12:35:17.282502Z",
     "iopub.status.idle": "2020-06-02T12:35:17.554776Z",
     "shell.execute_reply": "2020-06-02T12:35:17.548788Z",
     "shell.execute_reply.started": "2020-06-02T12:35:17.283499Z"
    },
    "hidden": true
   },
   "outputs": [
    {
     "ename": "AttributeError",
     "evalue": "'FinancialInstrument' object has no attribute '__value'",
     "output_type": "error",
     "traceback": [
      "\u001b[1;31m---------------------------------------------------------------------------\u001b[0m",
      "\u001b[1;31mAttributeError\u001b[0m                            Traceback (most recent call last)",
      "\u001b[1;32m<ipython-input-16-23aee2b5c81c>\u001b[0m in \u001b[0;36m<module>\u001b[1;34m\u001b[0m\n\u001b[1;32m----> 1\u001b[1;33m \u001b[0mGOOGL\u001b[0m\u001b[1;33m.\u001b[0m\u001b[0m__value\u001b[0m\u001b[1;33m\u001b[0m\u001b[1;33m\u001b[0m\u001b[0m\n\u001b[0m",
      "\u001b[1;31mAttributeError\u001b[0m: 'FinancialInstrument' object has no attribute '__value'"
     ]
    }
   ],
   "source": [
    "GOOGL.__value"
   ]
  },
  {
   "cell_type": "code",
   "execution_count": null,
   "metadata": {
    "ExecuteTime": {
     "end_time": "2020-03-02T05:54:46.258272Z",
     "start_time": "2020-03-02T05:54:46.255713Z"
    },
    "execution": {
     "iopub.status.busy": "2020-06-02T12:35:17.555773Z",
     "iopub.status.idle": "2020-06-02T12:35:17.556768Z"
    },
    "hidden": true
   },
   "outputs": [],
   "source": [
    "GOOGL.__value = 1200 * 100"
   ]
  },
  {
   "cell_type": "code",
   "execution_count": null,
   "metadata": {
    "ExecuteTime": {
     "end_time": "2020-03-02T05:54:47.185223Z",
     "start_time": "2020-03-02T05:54:47.181969Z"
    },
    "execution": {
     "iopub.status.busy": "2020-06-02T12:35:17.558763Z",
     "iopub.status.idle": "2020-06-02T12:35:17.559760Z"
    },
    "hidden": true
   },
   "outputs": [],
   "source": [
    "GOOGL.__dict__"
   ]
  },
  {
   "cell_type": "code",
   "execution_count": null,
   "metadata": {
    "ExecuteTime": {
     "end_time": "2020-03-02T05:54:51.485477Z",
     "start_time": "2020-03-02T05:54:51.479970Z"
    },
    "execution": {
     "iopub.status.busy": "2020-06-02T12:35:17.560760Z",
     "iopub.status.idle": "2020-06-02T12:35:17.561756Z"
    },
    "hidden": true
   },
   "outputs": [],
   "source": [
    "object_methods = [method_name for method_name in dir(GOOGL)\n",
    "                  if callable(getattr(GOOGL, method_name)) and (not method_name.startswith(\"__\"))]\n",
    "object_methods"
   ]
  },
  {
   "cell_type": "markdown",
   "metadata": {
    "hidden": true
   },
   "source": [
    "### Methods vs Functions"
   ]
  },
  {
   "cell_type": "markdown",
   "metadata": {
    "ExecuteTime": {
     "end_time": "2019-05-28T18:08:37.243358Z",
     "start_time": "2019-05-28T18:08:37.239914Z"
    },
    "hidden": true
   },
   "source": [
    "We try to understand the difference between builtin **sorted function** AND **sort method of List class**"
   ]
  },
  {
   "cell_type": "code",
   "execution_count": null,
   "metadata": {
    "ExecuteTime": {
     "end_time": "2020-03-02T05:54:55.177509Z",
     "start_time": "2020-03-02T05:54:55.174499Z"
    },
    "execution": {
     "iopub.status.busy": "2020-06-02T12:35:17.563750Z",
     "iopub.status.idle": "2020-06-02T12:35:17.564747Z"
    },
    "hidden": true
   },
   "outputs": [],
   "source": [
    "from random import randint as ri\n",
    "lookback_days = [ri(1, 20) for i in range(5)]"
   ]
  },
  {
   "cell_type": "code",
   "execution_count": null,
   "metadata": {
    "ExecuteTime": {
     "end_time": "2020-03-02T05:54:55.734940Z",
     "start_time": "2020-03-02T05:54:55.731321Z"
    },
    "execution": {
     "iopub.status.busy": "2020-06-02T12:35:17.566742Z",
     "iopub.status.idle": "2020-06-02T12:35:17.567739Z"
    },
    "hidden": true
   },
   "outputs": [],
   "source": [
    "lookback_days"
   ]
  },
  {
   "cell_type": "code",
   "execution_count": null,
   "metadata": {
    "ExecuteTime": {
     "end_time": "2020-03-02T05:54:56.202629Z",
     "start_time": "2020-03-02T05:54:56.198421Z"
    },
    "execution": {
     "iopub.status.busy": "2020-06-02T12:35:17.568736Z",
     "iopub.status.idle": "2020-06-02T12:35:17.569735Z"
    },
    "hidden": true
   },
   "outputs": [],
   "source": [
    "sorted(lookback_days)  # Function"
   ]
  },
  {
   "cell_type": "markdown",
   "metadata": {
    "ExecuteTime": {
     "end_time": "2019-05-26T11:46:48.530696Z",
     "start_time": "2019-05-26T11:46:48.526745Z"
    },
    "hidden": true
   },
   "source": [
    "__Signature__: sorted(iterable[, key=None][, reverse=False])<br>\n",
    "keyword arguments: __key, reverse__"
   ]
  },
  {
   "cell_type": "code",
   "execution_count": null,
   "metadata": {
    "ExecuteTime": {
     "end_time": "2020-03-02T05:54:57.447947Z",
     "start_time": "2020-03-02T05:54:57.424034Z"
    },
    "execution": {
     "iopub.status.busy": "2020-06-02T12:35:17.571728Z",
     "iopub.status.idle": "2020-06-02T12:35:17.574720Z"
    },
    "hidden": true
   },
   "outputs": [],
   "source": [
    "?sorted"
   ]
  },
  {
   "cell_type": "code",
   "execution_count": null,
   "metadata": {
    "ExecuteTime": {
     "end_time": "2020-03-02T05:55:02.066532Z",
     "start_time": "2020-03-02T05:55:02.062772Z"
    },
    "execution": {
     "iopub.status.busy": "2020-06-02T12:35:17.579706Z",
     "iopub.status.idle": "2020-06-02T12:35:17.581702Z"
    },
    "hidden": true
   },
   "outputs": [],
   "source": [
    "lookback_days_copy = lookback_days.copy()\n",
    "lookback_days"
   ]
  },
  {
   "cell_type": "code",
   "execution_count": null,
   "metadata": {
    "ExecuteTime": {
     "end_time": "2020-03-02T05:55:02.517590Z",
     "start_time": "2020-03-02T05:55:02.514613Z"
    },
    "execution": {
     "iopub.status.busy": "2020-06-02T12:35:17.584695Z",
     "iopub.status.idle": "2020-06-02T12:35:17.585692Z"
    },
    "hidden": true
   },
   "outputs": [],
   "source": [
    "lookback_days.sort()  # method of class list"
   ]
  },
  {
   "cell_type": "code",
   "execution_count": null,
   "metadata": {
    "ExecuteTime": {
     "end_time": "2020-03-02T05:55:02.943471Z",
     "start_time": "2020-03-02T05:55:02.939950Z"
    },
    "execution": {
     "iopub.status.busy": "2020-06-02T12:35:17.587686Z",
     "iopub.status.idle": "2020-06-02T12:35:17.588683Z"
    },
    "hidden": true
   },
   "outputs": [],
   "source": [
    "lookback_days"
   ]
  },
  {
   "cell_type": "code",
   "execution_count": null,
   "metadata": {
    "ExecuteTime": {
     "end_time": "2020-03-02T05:55:03.209506Z",
     "start_time": "2020-03-02T05:55:03.206096Z"
    },
    "execution": {
     "iopub.status.busy": "2020-06-02T12:35:17.590678Z",
     "iopub.status.idle": "2020-06-02T12:35:17.590678Z"
    },
    "hidden": true
   },
   "outputs": [],
   "source": [
    "lookback_days_copy"
   ]
  },
  {
   "cell_type": "code",
   "execution_count": null,
   "metadata": {
    "ExecuteTime": {
     "end_time": "2020-03-02T05:55:03.428435Z",
     "start_time": "2020-03-02T05:55:03.425591Z"
    },
    "execution": {
     "iopub.status.busy": "2020-06-02T12:35:17.592672Z",
     "iopub.status.idle": "2020-06-02T12:35:17.593670Z"
    },
    "hidden": true
   },
   "outputs": [],
   "source": [
    "list.sort(lookback_days_copy)"
   ]
  },
  {
   "cell_type": "code",
   "execution_count": null,
   "metadata": {
    "ExecuteTime": {
     "end_time": "2020-03-02T05:55:03.643881Z",
     "start_time": "2020-03-02T05:55:03.640357Z"
    },
    "execution": {
     "iopub.status.busy": "2020-06-02T12:35:17.596661Z",
     "iopub.status.idle": "2020-06-02T12:35:17.597659Z"
    },
    "hidden": true
   },
   "outputs": [],
   "source": [
    "lookback_days_copy"
   ]
  },
  {
   "cell_type": "markdown",
   "metadata": {
    "hidden": true
   },
   "source": [
    "### OOP vs Procedural programming\n",
    "    "
   ]
  },
  {
   "cell_type": "markdown",
   "metadata": {
    "ExecuteTime": {
     "end_time": "2019-05-28T18:51:21.000886Z",
     "start_time": "2019-05-28T18:51:20.997086Z"
    },
    "hidden": true
   },
   "source": [
    " - class encompasses methods. Hence class is superset of function. \n",
    " - Class supports inheritance\n",
    " - A class is a blueprint to create several examples. Analogous to user defined data structure. \n",
    " - A function is a mapping analogous to a dictionary in python"
   ]
  },
  {
   "cell_type": "code",
   "execution_count": null,
   "metadata": {
    "ExecuteTime": {
     "end_time": "2020-03-02T05:55:05.480088Z",
     "start_time": "2020-03-02T05:55:05.477690Z"
    },
    "execution": {
     "iopub.status.busy": "2020-06-02T12:35:17.599654Z",
     "iopub.status.idle": "2020-06-02T12:35:17.600651Z"
    },
    "hidden": true
   },
   "outputs": [],
   "source": [
    "class MomentumStrategy:\n",
    "     pass"
   ]
  },
  {
   "cell_type": "code",
   "execution_count": null,
   "metadata": {
    "ExecuteTime": {
     "end_time": "2020-03-02T05:55:05.915731Z",
     "start_time": "2020-03-02T05:55:05.912417Z"
    },
    "execution": {
     "iopub.status.busy": "2020-06-02T12:35:17.602645Z",
     "iopub.status.idle": "2020-06-02T12:35:17.603643Z"
    },
    "hidden": true
   },
   "outputs": [],
   "source": [
    "strategy = MomentumStrategy()\n",
    "id(strategy)"
   ]
  },
  {
   "cell_type": "code",
   "execution_count": null,
   "metadata": {
    "ExecuteTime": {
     "end_time": "2020-03-02T05:55:06.208045Z",
     "start_time": "2020-03-02T05:55:06.204359Z"
    },
    "execution": {
     "iopub.status.busy": "2020-06-02T12:35:17.605638Z",
     "iopub.status.idle": "2020-06-02T12:35:17.606636Z"
    },
    "hidden": true
   },
   "outputs": [],
   "source": [
    "strategy = MomentumStrategy()\n",
    "id(strategy)"
   ]
  },
  {
   "cell_type": "code",
   "execution_count": null,
   "metadata": {
    "ExecuteTime": {
     "end_time": "2020-03-02T05:55:06.439150Z",
     "start_time": "2020-03-02T05:55:06.436451Z"
    },
    "execution": {
     "iopub.status.busy": "2020-06-02T12:35:17.608629Z",
     "iopub.status.idle": "2020-06-02T12:35:17.609627Z"
    },
    "hidden": true
   },
   "outputs": [],
   "source": [
    "def PERatio(ticker): return 31 if ticker=='FB' else None"
   ]
  },
  {
   "cell_type": "code",
   "execution_count": null,
   "metadata": {
    "ExecuteTime": {
     "end_time": "2020-03-02T05:55:06.667779Z",
     "start_time": "2020-03-02T05:55:06.664295Z"
    },
    "execution": {
     "iopub.status.busy": "2020-06-02T12:35:17.611622Z",
     "iopub.status.idle": "2020-06-02T12:35:17.612618Z"
    },
    "hidden": true
   },
   "outputs": [],
   "source": [
    "FB = PERatio('FB')\n",
    "id(FB)"
   ]
  },
  {
   "cell_type": "code",
   "execution_count": null,
   "metadata": {
    "ExecuteTime": {
     "end_time": "2020-03-02T05:55:06.920388Z",
     "start_time": "2020-03-02T05:55:06.917039Z"
    },
    "execution": {
     "iopub.status.busy": "2020-06-02T12:35:17.614613Z",
     "iopub.status.idle": "2020-06-02T12:35:17.615610Z"
    },
    "hidden": true
   },
   "outputs": [],
   "source": [
    "FB = PERatio('FB')\n",
    "id(FB)"
   ]
  },
  {
   "cell_type": "code",
   "execution_count": null,
   "metadata": {
    "ExecuteTime": {
     "end_time": "2020-03-02T05:55:08.001693Z",
     "start_time": "2020-03-02T05:55:07.998264Z"
    },
    "execution": {
     "iopub.status.busy": "2020-06-02T12:35:17.616608Z",
     "iopub.status.idle": "2020-06-02T12:35:17.617606Z"
    },
    "hidden": true
   },
   "outputs": [],
   "source": [
    "PERatio = {'FB':31}\n",
    "PERatio['FB']"
   ]
  },
  {
   "cell_type": "markdown",
   "metadata": {
    "ExecuteTime": {
     "end_time": "2019-05-18T07:03:38.916132Z",
     "start_time": "2019-05-18T07:03:38.912554Z"
    },
    "heading_collapsed": true
   },
   "source": [
    "## \\_\\_init\\_\\_"
   ]
  },
  {
   "cell_type": "code",
   "execution_count": null,
   "metadata": {
    "ExecuteTime": {
     "end_time": "2020-03-02T05:55:11.195978Z",
     "start_time": "2020-03-02T05:55:11.192625Z"
    },
    "execution": {
     "iopub.status.busy": "2020-06-02T12:35:17.619600Z",
     "iopub.status.idle": "2020-06-02T12:35:17.620597Z"
    },
    "hidden": true
   },
   "outputs": [],
   "source": [
    "class sample():\n",
    "    def __init__(self,a,b):\n",
    "        self.a = a\n",
    "        self.b = b\n",
    "    def another(self):\n",
    "        self.c = self.a + self.b"
   ]
  },
  {
   "cell_type": "code",
   "execution_count": null,
   "metadata": {
    "ExecuteTime": {
     "end_time": "2020-03-02T05:55:12.036268Z",
     "start_time": "2020-03-02T05:55:12.033773Z"
    },
    "execution": {
     "iopub.status.busy": "2020-06-02T12:35:17.621594Z",
     "iopub.status.idle": "2020-06-02T12:35:17.622591Z"
    },
    "hidden": true
   },
   "outputs": [],
   "source": [
    "s = sample(1,2)"
   ]
  },
  {
   "cell_type": "code",
   "execution_count": null,
   "metadata": {
    "ExecuteTime": {
     "end_time": "2020-03-02T05:55:12.499360Z",
     "start_time": "2020-03-02T05:55:12.495906Z"
    },
    "execution": {
     "iopub.status.busy": "2020-06-02T12:35:17.624587Z",
     "iopub.status.idle": "2020-06-02T12:35:17.625584Z"
    },
    "hidden": true
   },
   "outputs": [],
   "source": [
    "vars(s)"
   ]
  },
  {
   "cell_type": "code",
   "execution_count": null,
   "metadata": {
    "ExecuteTime": {
     "end_time": "2020-03-02T05:55:12.794076Z",
     "start_time": "2020-03-02T05:55:12.791470Z"
    },
    "execution": {
     "iopub.status.busy": "2020-06-02T12:35:17.627579Z",
     "iopub.status.idle": "2020-06-02T12:35:17.628578Z"
    },
    "hidden": true
   },
   "outputs": [],
   "source": [
    "s.another()"
   ]
  },
  {
   "cell_type": "code",
   "execution_count": null,
   "metadata": {
    "ExecuteTime": {
     "end_time": "2020-03-02T05:55:13.714502Z",
     "start_time": "2020-03-02T05:55:13.710903Z"
    },
    "execution": {
     "iopub.status.busy": "2020-06-02T12:35:17.630575Z",
     "iopub.status.idle": "2020-06-02T12:35:17.630575Z"
    },
    "hidden": true
   },
   "outputs": [],
   "source": [
    "vars(s)"
   ]
  },
  {
   "cell_type": "markdown",
   "metadata": {
    "hidden": true
   },
   "source": [
    "\\_\\_init\\_\\_ is a special function which is invoked each time an object is created. It is commonly referred as constructor method of the class.\n",
    "\n",
    "Syntactically, __*self*__ identifies the instance upon which a method is invoked."
   ]
  },
  {
   "cell_type": "code",
   "execution_count": null,
   "metadata": {
    "ExecuteTime": {
     "end_time": "2020-03-02T05:56:04.363435Z",
     "start_time": "2020-03-02T05:56:04.359446Z"
    },
    "execution": {
     "iopub.status.busy": "2020-06-02T12:35:17.632565Z",
     "iopub.status.idle": "2020-06-02T12:35:17.633565Z"
    },
    "hidden": true
   },
   "outputs": [],
   "source": [
    "class FinancialInstrument(object):\n",
    "    def __init__(self, symbol, price):\n",
    "        self.symbol = symbol\n",
    "        self.__price = price  \n",
    "    def get_price(self):\n",
    "        return self.__price\n",
    "    def set_price(self, price):\n",
    "        self.__price = price\n",
    "        \n",
    "keyword_argument = {'symbol':'AAPL', 'price':100}\n",
    "s1 = FinancialInstrument(**keyword_argument)"
   ]
  },
  {
   "cell_type": "code",
   "execution_count": null,
   "metadata": {
    "ExecuteTime": {
     "end_time": "2020-03-02T05:56:06.487304Z",
     "start_time": "2020-03-02T05:56:06.483772Z"
    },
    "execution": {
     "iopub.status.busy": "2020-06-02T12:35:17.634560Z",
     "iopub.status.idle": "2020-06-02T12:35:17.635557Z"
    },
    "hidden": true
   },
   "outputs": [],
   "source": [
    "s1.symbol"
   ]
  },
  {
   "cell_type": "code",
   "execution_count": null,
   "metadata": {
    "ExecuteTime": {
     "end_time": "2020-03-02T05:56:07.202040Z",
     "start_time": "2020-03-02T05:56:07.198583Z"
    },
    "execution": {
     "iopub.status.busy": "2020-06-02T12:35:17.637552Z",
     "iopub.status.idle": "2020-06-02T12:35:17.637552Z"
    },
    "hidden": true
   },
   "outputs": [],
   "source": [
    "s1.__dict__"
   ]
  },
  {
   "cell_type": "markdown",
   "metadata": {
    "heading_collapsed": true
   },
   "source": [
    "## Instance attributes vs Class attributes"
   ]
  },
  {
   "cell_type": "markdown",
   "metadata": {
    "hidden": true
   },
   "source": [
    "While instance attributes are specific to each object, class attributes are the same for all instances."
   ]
  },
  {
   "cell_type": "code",
   "execution_count": null,
   "metadata": {
    "ExecuteTime": {
     "end_time": "2020-03-02T05:56:28.998913Z",
     "start_time": "2020-03-02T05:56:28.995996Z"
    },
    "execution": {
     "iopub.status.busy": "2020-06-02T12:35:17.639546Z",
     "iopub.status.idle": "2020-06-02T12:35:17.640544Z"
    },
    "hidden": true
   },
   "outputs": [],
   "source": [
    "class FinancialInstrument(object):\n",
    "    n_instruments = 0 ## class attribute\n",
    "\n",
    "    def __init__(self, symbol):\n",
    "        self.symbol = symbol ## instance attribute\n",
    "        FinancialInstrument.n_instruments += 1"
   ]
  },
  {
   "cell_type": "code",
   "execution_count": null,
   "metadata": {
    "ExecuteTime": {
     "end_time": "2020-03-02T05:56:29.572022Z",
     "start_time": "2020-03-02T05:56:29.568523Z"
    },
    "execution": {
     "iopub.status.busy": "2020-06-02T12:35:17.641541Z",
     "iopub.status.idle": "2020-06-02T12:35:17.642539Z"
    },
    "hidden": true
   },
   "outputs": [],
   "source": [
    "s1 = FinancialInstrument(\"AAPL\")\n",
    "s1.n_instruments"
   ]
  },
  {
   "cell_type": "code",
   "execution_count": null,
   "metadata": {
    "ExecuteTime": {
     "end_time": "2020-03-02T05:56:30.839624Z",
     "start_time": "2020-03-02T05:56:30.836043Z"
    },
    "execution": {
     "iopub.status.busy": "2020-06-02T12:35:17.643536Z",
     "iopub.status.idle": "2020-06-02T12:35:17.644533Z"
    },
    "hidden": true
   },
   "outputs": [],
   "source": [
    "s2 = FinancialInstrument(\"GOOGL\")\n",
    "FinancialInstrument.n_instruments"
   ]
  },
  {
   "cell_type": "code",
   "execution_count": null,
   "metadata": {
    "ExecuteTime": {
     "end_time": "2020-03-02T05:56:31.503541Z",
     "start_time": "2020-03-02T05:56:31.489279Z"
    },
    "execution": {
     "iopub.status.busy": "2020-06-02T12:35:17.646527Z",
     "iopub.status.idle": "2020-06-02T12:35:17.646527Z"
    },
    "hidden": true
   },
   "outputs": [],
   "source": [
    "## List all objects of a class\n",
    "import gc\n",
    "[(obj.symbol) for obj in gc.get_objects() if isinstance(obj, FinancialInstrument)]"
   ]
  },
  {
   "cell_type": "markdown",
   "metadata": {
    "heading_collapsed": true
   },
   "source": [
    "## Special functions a.k.a dunders"
   ]
  },
  {
   "cell_type": "code",
   "execution_count": null,
   "metadata": {
    "ExecuteTime": {
     "end_time": "2020-03-02T05:56:41.352316Z",
     "start_time": "2020-03-02T05:56:41.349975Z"
    },
    "execution": {
     "iopub.status.busy": "2020-06-02T12:35:17.648523Z",
     "iopub.status.idle": "2020-06-02T12:35:17.650518Z"
    },
    "hidden": true
   },
   "outputs": [],
   "source": [
    "equity, debt = 2.2e6, 3.1e6"
   ]
  },
  {
   "cell_type": "code",
   "execution_count": null,
   "metadata": {
    "ExecuteTime": {
     "end_time": "2020-03-02T05:56:41.854985Z",
     "start_time": "2020-03-02T05:56:41.850754Z"
    },
    "execution": {
     "iopub.status.busy": "2020-06-02T12:35:17.652512Z",
     "iopub.status.idle": "2020-06-02T12:35:17.652512Z"
    },
    "hidden": true
   },
   "outputs": [],
   "source": [
    "assets =  equity.__add__(debt)\n",
    "assets"
   ]
  },
  {
   "cell_type": "code",
   "execution_count": null,
   "metadata": {
    "ExecuteTime": {
     "end_time": "2020-03-02T05:56:42.438688Z",
     "start_time": "2020-03-02T05:56:42.434738Z"
    },
    "execution": {
     "iopub.status.busy": "2020-06-02T12:35:17.654506Z",
     "iopub.status.idle": "2020-06-02T12:35:17.655503Z"
    },
    "hidden": true
   },
   "outputs": [],
   "source": [
    "assets.__str__()"
   ]
  },
  {
   "cell_type": "markdown",
   "metadata": {
    "heading_collapsed": true
   },
   "source": [
    "## Inheritance"
   ]
  },
  {
   "cell_type": "markdown",
   "metadata": {
    "hidden": true
   },
   "source": [
    "Inheritance is the process by which one class takes on the attributes and methods of another."
   ]
  },
  {
   "cell_type": "code",
   "execution_count": null,
   "metadata": {
    "ExecuteTime": {
     "end_time": "2020-03-02T05:56:50.506427Z",
     "start_time": "2020-03-02T05:56:50.503352Z"
    },
    "execution": {
     "iopub.status.busy": "2020-06-02T12:35:17.657498Z",
     "iopub.status.idle": "2020-06-02T12:35:17.657498Z"
    },
    "hidden": true
   },
   "outputs": [],
   "source": [
    "class TechnicalIndicator:\n",
    "    def Backtest(self):\n",
    "        print('Backtesting a technical indicator..')\n",
    "\n",
    "class BollingerBands(TechnicalIndicator):\n",
    "    def get_bands(self):\n",
    "        print('Getting bands..')"
   ]
  },
  {
   "cell_type": "code",
   "execution_count": null,
   "metadata": {
    "ExecuteTime": {
     "end_time": "2020-03-02T05:56:51.202614Z",
     "start_time": "2020-03-02T05:56:51.199307Z"
    },
    "execution": {
     "iopub.status.busy": "2020-06-02T12:35:17.659493Z",
     "iopub.status.idle": "2020-06-02T12:35:17.660490Z"
    },
    "hidden": true
   },
   "outputs": [],
   "source": [
    "indicator = BollingerBands()\n",
    "indicator.get_bands()\n",
    "indicator.Backtest()"
   ]
  },
  {
   "cell_type": "markdown",
   "metadata": {
    "hidden": true
   },
   "source": [
    "Child classes can also override attributes and behaviors from the parent class."
   ]
  },
  {
   "cell_type": "code",
   "execution_count": null,
   "metadata": {
    "ExecuteTime": {
     "end_time": "2020-03-02T05:56:52.628043Z",
     "start_time": "2020-03-02T05:56:52.623740Z"
    },
    "execution": {
     "iopub.status.busy": "2020-06-02T12:35:17.662485Z",
     "iopub.status.idle": "2020-06-02T12:35:17.663484Z"
    },
    "hidden": true
   },
   "outputs": [],
   "source": [
    "BollingerBands.__mro__"
   ]
  },
  {
   "cell_type": "code",
   "execution_count": null,
   "metadata": {
    "ExecuteTime": {
     "end_time": "2020-03-02T05:56:53.251593Z",
     "start_time": "2020-03-02T05:56:53.248089Z"
    },
    "execution": {
     "iopub.status.busy": "2020-06-02T12:35:17.665477Z",
     "iopub.status.idle": "2020-06-02T12:35:17.666474Z"
    },
    "hidden": true
   },
   "outputs": [],
   "source": [
    "class TechnicalIndicator:\n",
    "    def Backtest(self):\n",
    "        print('Backtesting a technical indicator..')\n",
    "\n",
    "class BollingerBands(TechnicalIndicator):\n",
    "    def get_bands(self):\n",
    "        print('Getting bands..')\n",
    "    def Backtest(self): ## Uncomment it later\n",
    "        print('Backtesting Bollinger Bands in a particular style..')\n"
   ]
  },
  {
   "cell_type": "code",
   "execution_count": null,
   "metadata": {
    "ExecuteTime": {
     "end_time": "2020-03-02T05:56:54.159424Z",
     "start_time": "2020-03-02T05:56:54.156542Z"
    },
    "execution": {
     "iopub.status.busy": "2020-06-02T12:35:17.667472Z",
     "iopub.status.idle": "2020-06-02T12:35:17.668469Z"
    },
    "hidden": true
   },
   "outputs": [],
   "source": [
    "indicator = TechnicalIndicator()\n",
    "indicator.Backtest()"
   ]
  },
  {
   "cell_type": "code",
   "execution_count": null,
   "metadata": {
    "ExecuteTime": {
     "end_time": "2020-03-02T05:56:54.391548Z",
     "start_time": "2020-03-02T05:56:54.388420Z"
    },
    "execution": {
     "iopub.status.busy": "2020-06-02T12:35:17.670464Z",
     "iopub.status.idle": "2020-06-02T12:35:17.671461Z"
    },
    "hidden": true
   },
   "outputs": [],
   "source": [
    "indicator = BollingerBands()\n",
    "indicator.Backtest()"
   ]
  },
  {
   "cell_type": "code",
   "execution_count": null,
   "metadata": {
    "ExecuteTime": {
     "end_time": "2020-03-02T05:56:54.729800Z",
     "start_time": "2020-03-02T05:56:54.726676Z"
    },
    "execution": {
     "iopub.status.busy": "2020-06-02T12:35:17.673456Z",
     "iopub.status.idle": "2020-06-02T12:35:17.673456Z"
    },
    "hidden": true
   },
   "outputs": [],
   "source": [
    "# Run after uncommenting\n",
    "indicator = BollingerBands()\n",
    "indicator.Backtest()"
   ]
  },
  {
   "cell_type": "code",
   "execution_count": null,
   "metadata": {
    "ExecuteTime": {
     "end_time": "2020-03-02T05:56:55.268091Z",
     "start_time": "2020-03-02T05:56:55.264175Z"
    },
    "execution": {
     "iopub.status.busy": "2020-06-02T12:35:17.675450Z",
     "iopub.status.idle": "2020-06-02T12:35:17.676448Z"
    },
    "hidden": true
   },
   "outputs": [],
   "source": [
    "isinstance(indicator, BollingerBands)"
   ]
  },
  {
   "cell_type": "code",
   "execution_count": null,
   "metadata": {
    "ExecuteTime": {
     "end_time": "2020-03-02T05:56:55.784700Z",
     "start_time": "2020-03-02T05:56:55.781186Z"
    },
    "execution": {
     "iopub.status.busy": "2020-06-02T12:35:17.678443Z",
     "iopub.status.idle": "2020-06-02T12:35:17.678443Z"
    },
    "hidden": true
   },
   "outputs": [],
   "source": [
    "isinstance(indicator, TechnicalIndicator)"
   ]
  },
  {
   "cell_type": "markdown",
   "metadata": {
    "heading_collapsed": true
   },
   "source": [
    "## super keyword"
   ]
  },
  {
   "cell_type": "markdown",
   "metadata": {
    "hidden": true
   },
   "source": [
    "super() gives access to methods in a superclass from the subclass that inherits from it."
   ]
  },
  {
   "cell_type": "markdown",
   "metadata": {
    "hidden": true
   },
   "source": [
    "### Example 1"
   ]
  },
  {
   "cell_type": "code",
   "execution_count": 17,
   "metadata": {
    "ExecuteTime": {
     "end_time": "2020-03-02T05:56:58.629324Z",
     "start_time": "2020-03-02T05:56:58.624016Z"
    },
    "execution": {
     "iopub.execute_input": "2020-06-02T12:35:48.744680Z",
     "iopub.status.busy": "2020-06-02T12:35:48.743682Z",
     "iopub.status.idle": "2020-06-02T12:35:48.752658Z",
     "shell.execute_reply": "2020-06-02T12:35:48.751662Z",
     "shell.execute_reply.started": "2020-06-02T12:35:48.744680Z"
    },
    "hidden": true
   },
   "outputs": [],
   "source": [
    "class Factor:\n",
    "    def __init__(self, factor_name):\n",
    "        print(factor_name, 'can be a predictor for S&P 500')\n",
    "\n",
    "class FundamentalFactor(Factor):\n",
    "    def __init__(self, factor_name):\n",
    "        print(f'{factor_name} is a fundamental factor')\n",
    "        super().__init__(factor_name)\n",
    "        \n",
    "class MacroeconomicFactor(Factor):\n",
    "    def __init__(self, factor_name):\n",
    "        print(f'{factor_name} is a macroeconomic factor')\n",
    "        super().__init__(factor_name)"
   ]
  },
  {
   "cell_type": "code",
   "execution_count": 18,
   "metadata": {
    "ExecuteTime": {
     "end_time": "2020-03-02T05:57:00.139547Z",
     "start_time": "2020-03-02T05:57:00.136708Z"
    },
    "execution": {
     "iopub.execute_input": "2020-06-02T12:35:50.305504Z",
     "iopub.status.busy": "2020-06-02T12:35:50.305504Z",
     "iopub.status.idle": "2020-06-02T12:35:50.312486Z",
     "shell.execute_reply": "2020-06-02T12:35:50.311488Z",
     "shell.execute_reply.started": "2020-06-02T12:35:50.305504Z"
    },
    "hidden": true
   },
   "outputs": [
    {
     "name": "stdout",
     "output_type": "stream",
     "text": [
      "MSCI USA PE Ratio is a fundamental factor\n",
      "MSCI USA PE Ratio can be a predictor for S&P 500\n"
     ]
    }
   ],
   "source": [
    "factor_1 = FundamentalFactor('MSCI USA PE Ratio')"
   ]
  },
  {
   "cell_type": "code",
   "execution_count": 19,
   "metadata": {
    "ExecuteTime": {
     "end_time": "2020-03-02T05:57:00.608432Z",
     "start_time": "2020-03-02T05:57:00.605066Z"
    },
    "execution": {
     "iopub.execute_input": "2020-06-02T12:35:52.845711Z",
     "iopub.status.busy": "2020-06-02T12:35:52.845711Z",
     "iopub.status.idle": "2020-06-02T12:35:52.852690Z",
     "shell.execute_reply": "2020-06-02T12:35:52.851694Z",
     "shell.execute_reply.started": "2020-06-02T12:35:52.845711Z"
    },
    "hidden": true
   },
   "outputs": [
    {
     "name": "stdout",
     "output_type": "stream",
     "text": [
      "CRUDE OIL is a macroeconomic factor\n",
      "CRUDE OIL can be a predictor for S&P 500\n"
     ]
    }
   ],
   "source": [
    "factor_2 = MacroeconomicFactor('CRUDE OIL')"
   ]
  },
  {
   "cell_type": "markdown",
   "metadata": {
    "hidden": true
   },
   "source": [
    "### Example 2"
   ]
  },
  {
   "cell_type": "code",
   "execution_count": 20,
   "metadata": {
    "ExecuteTime": {
     "end_time": "2020-03-02T05:57:02.293600Z",
     "start_time": "2020-03-02T05:57:02.290653Z"
    },
    "execution": {
     "iopub.execute_input": "2020-06-02T12:35:55.347194Z",
     "iopub.status.busy": "2020-06-02T12:35:55.346191Z",
     "iopub.status.idle": "2020-06-02T12:35:55.353173Z",
     "shell.execute_reply": "2020-06-02T12:35:55.352180Z",
     "shell.execute_reply.started": "2020-06-02T12:35:55.347194Z"
    },
    "hidden": true
   },
   "outputs": [],
   "source": [
    "class modified_dict(dict):\n",
    "    def __setitem__(self, key, value):\n",
    "        super().__setitem__(key, value * 2)"
   ]
  },
  {
   "cell_type": "code",
   "execution_count": 21,
   "metadata": {
    "ExecuteTime": {
     "end_time": "2020-03-02T05:57:04.148210Z",
     "start_time": "2020-03-02T05:57:04.144559Z"
    },
    "execution": {
     "iopub.execute_input": "2020-06-02T12:36:04.007856Z",
     "iopub.status.busy": "2020-06-02T12:36:04.006857Z",
     "iopub.status.idle": "2020-06-02T12:36:04.017827Z",
     "shell.execute_reply": "2020-06-02T12:36:04.016832Z",
     "shell.execute_reply.started": "2020-06-02T12:36:04.007856Z"
    },
    "hidden": true
   },
   "outputs": [
    {
     "data": {
      "text/plain": [
       "True"
      ]
     },
     "execution_count": 21,
     "metadata": {},
     "output_type": "execute_result"
    }
   ],
   "source": [
    "'__setitem__' in dir(dict)"
   ]
  },
  {
   "cell_type": "code",
   "execution_count": 22,
   "metadata": {
    "ExecuteTime": {
     "end_time": "2020-03-02T05:57:07.176848Z",
     "start_time": "2020-03-02T05:57:07.174469Z"
    },
    "execution": {
     "iopub.execute_input": "2020-06-02T12:36:31.870749Z",
     "iopub.status.busy": "2020-06-02T12:36:31.869752Z",
     "iopub.status.idle": "2020-06-02T12:36:31.876732Z",
     "shell.execute_reply": "2020-06-02T12:36:31.874738Z",
     "shell.execute_reply.started": "2020-06-02T12:36:31.870749Z"
    },
    "hidden": true
   },
   "outputs": [],
   "source": [
    "stocks_outstanding = dict()"
   ]
  },
  {
   "cell_type": "code",
   "execution_count": 23,
   "metadata": {
    "ExecuteTime": {
     "end_time": "2020-03-02T05:57:08.054595Z",
     "start_time": "2020-03-02T05:57:08.050794Z"
    },
    "execution": {
     "iopub.execute_input": "2020-06-02T12:36:42.671591Z",
     "iopub.status.busy": "2020-06-02T12:36:42.671591Z",
     "iopub.status.idle": "2020-06-02T12:36:42.681564Z",
     "shell.execute_reply": "2020-06-02T12:36:42.680568Z",
     "shell.execute_reply.started": "2020-06-02T12:36:42.671591Z"
    },
    "hidden": true
   },
   "outputs": [
    {
     "data": {
      "text/plain": [
       "{'2017-09-07': {'RIL': 30000000000}}"
      ]
     },
     "execution_count": 23,
     "metadata": {},
     "output_type": "execute_result"
    }
   ],
   "source": [
    "## Before stock split\n",
    "stocks_outstanding[\"2017-09-07\"] = dict()\n",
    "stocks_outstanding[\"2017-09-07\"][\"RIL\"] = 3_000_0000_000\n",
    "stocks_outstanding"
   ]
  },
  {
   "cell_type": "code",
   "execution_count": 24,
   "metadata": {
    "ExecuteTime": {
     "end_time": "2020-03-02T05:57:09.057474Z",
     "start_time": "2020-03-02T05:57:09.053232Z"
    },
    "execution": {
     "iopub.execute_input": "2020-06-02T12:37:23.163923Z",
     "iopub.status.busy": "2020-06-02T12:37:23.162923Z",
     "iopub.status.idle": "2020-06-02T12:37:23.175888Z",
     "shell.execute_reply": "2020-06-02T12:37:23.173893Z",
     "shell.execute_reply.started": "2020-06-02T12:37:23.163923Z"
    },
    "hidden": true
   },
   "outputs": [
    {
     "data": {
      "text/plain": [
       "{'2017-09-07': {'RIL': 30000000000}, '2017-09-08': {'RIL': 60000000000}}"
      ]
     },
     "execution_count": 24,
     "metadata": {},
     "output_type": "execute_result"
    }
   ],
   "source": [
    "## After stock split\n",
    "stocks_outstanding[\"2017-09-08\"] = modified_dict()\n",
    "stocks_outstanding[\"2017-09-08\"][\"RIL\"] = stocks_outstanding[\"2017-09-07\"][\"RIL\"]\n",
    "stocks_outstanding"
   ]
  },
  {
   "cell_type": "markdown",
   "metadata": {
    "ExecuteTime": {
     "end_time": "2019-05-17T10:13:20.150745Z",
     "start_time": "2019-05-17T10:13:20.148409Z"
    },
    "heading_collapsed": true
   },
   "source": [
    "## instance method vs class method vs static method"
   ]
  },
  {
   "cell_type": "markdown",
   "metadata": {
    "ExecuteTime": {
     "end_time": "2019-05-28T19:29:56.069000Z",
     "start_time": "2019-05-28T19:29:56.064807Z"
    },
    "hidden": true
   },
   "source": [
    " - **Instance Methods**: The most common method type. Able to access data and properties unique to each instance.\n",
    " - **Static Methods**: Cannot access anything else in the class. Totally self-contained code.\n",
    " - **Class Methods**: Can access limited methods in the class. Can modify class specific details."
   ]
  },
  {
   "cell_type": "code",
   "execution_count": 25,
   "metadata": {
    "ExecuteTime": {
     "end_time": "2020-03-02T05:57:15.587129Z",
     "start_time": "2020-03-02T05:57:15.584322Z"
    },
    "execution": {
     "iopub.execute_input": "2020-06-02T12:39:54.969585Z",
     "iopub.status.busy": "2020-06-02T12:39:54.969585Z",
     "iopub.status.idle": "2020-06-02T12:39:54.976564Z",
     "shell.execute_reply": "2020-06-02T12:39:54.975570Z",
     "shell.execute_reply.started": "2020-06-02T12:39:54.969585Z"
    },
    "hidden": true
   },
   "outputs": [],
   "source": [
    "## Incorrect way to define a method in class\n",
    "class MachineLearningAlgo(object):\n",
    "    def training():\n",
    "        print('training model..')"
   ]
  },
  {
   "cell_type": "code",
   "execution_count": 26,
   "metadata": {
    "ExecuteTime": {
     "end_time": "2020-03-02T05:57:16.179934Z",
     "start_time": "2020-03-02T05:57:16.177102Z"
    },
    "execution": {
     "iopub.execute_input": "2020-06-02T12:39:58.015435Z",
     "iopub.status.busy": "2020-06-02T12:39:58.014437Z",
     "iopub.status.idle": "2020-06-02T12:39:58.021420Z",
     "shell.execute_reply": "2020-06-02T12:39:58.020423Z",
     "shell.execute_reply.started": "2020-06-02T12:39:58.015435Z"
    },
    "hidden": true
   },
   "outputs": [
    {
     "name": "stdout",
     "output_type": "stream",
     "text": [
      "training model..\n"
     ]
    }
   ],
   "source": [
    "MachineLearningAlgo.training()"
   ]
  },
  {
   "cell_type": "code",
   "execution_count": 28,
   "metadata": {
    "ExecuteTime": {
     "end_time": "2020-03-02T05:57:16.621143Z",
     "start_time": "2020-03-02T05:57:16.614771Z"
    },
    "collapsed": true,
    "execution": {
     "iopub.execute_input": "2020-06-02T12:40:44.026490Z",
     "iopub.status.busy": "2020-06-02T12:40:44.025505Z",
     "iopub.status.idle": "2020-06-02T12:40:44.039456Z",
     "shell.execute_reply": "2020-06-02T12:40:44.038460Z",
     "shell.execute_reply.started": "2020-06-02T12:40:44.026490Z"
    },
    "hidden": true,
    "jupyter": {
     "outputs_hidden": true
    }
   },
   "outputs": [
    {
     "ename": "TypeError",
     "evalue": "training() takes 0 positional arguments but 2 were given",
     "output_type": "error",
     "traceback": [
      "\u001b[1;31m---------------------------------------------------------------------------\u001b[0m",
      "\u001b[1;31mTypeError\u001b[0m                                 Traceback (most recent call last)",
      "\u001b[1;32m<ipython-input-28-87768a7c717b>\u001b[0m in \u001b[0;36m<module>\u001b[1;34m\u001b[0m\n\u001b[0;32m      1\u001b[0m \u001b[0mrandom_forest\u001b[0m \u001b[1;33m=\u001b[0m \u001b[0mMachineLearningAlgo\u001b[0m\u001b[1;33m(\u001b[0m\u001b[1;33m)\u001b[0m\u001b[1;33m\u001b[0m\u001b[1;33m\u001b[0m\u001b[0m\n\u001b[1;32m----> 2\u001b[1;33m \u001b[0mrandom_forest\u001b[0m\u001b[1;33m.\u001b[0m\u001b[0mtraining\u001b[0m\u001b[1;33m(\u001b[0m\u001b[0mrandom_forest\u001b[0m\u001b[1;33m)\u001b[0m\u001b[1;33m\u001b[0m\u001b[1;33m\u001b[0m\u001b[0m\n\u001b[0m",
      "\u001b[1;31mTypeError\u001b[0m: training() takes 0 positional arguments but 2 were given"
     ]
    }
   ],
   "source": [
    "random_forest = MachineLearningAlgo()\n",
    "random_forest.training)\n"
   ]
  },
  {
   "cell_type": "code",
   "execution_count": 29,
   "metadata": {
    "execution": {
     "iopub.execute_input": "2020-06-02T12:41:01.273760Z",
     "iopub.status.busy": "2020-06-02T12:41:01.273760Z",
     "iopub.status.idle": "2020-06-02T12:41:31.503176Z",
     "shell.execute_reply": "2020-06-02T12:41:31.502179Z",
     "shell.execute_reply.started": "2020-06-02T12:41:01.273760Z"
    }
   },
   "outputs": [
    {
     "name": "stdout",
     "output_type": "stream",
     "text": [
      "> \u001b[1;32m<ipython-input-28-87768a7c717b>\u001b[0m(2)\u001b[0;36m<module>\u001b[1;34m()\u001b[0m\n",
      "\u001b[1;32m      1 \u001b[1;33m\u001b[0mrandom_forest\u001b[0m \u001b[1;33m=\u001b[0m \u001b[0mMachineLearningAlgo\u001b[0m\u001b[1;33m(\u001b[0m\u001b[1;33m)\u001b[0m\u001b[1;33m\u001b[0m\u001b[1;33m\u001b[0m\u001b[0m\n",
      "\u001b[0m\u001b[1;32m----> 2 \u001b[1;33m\u001b[0mrandom_forest\u001b[0m\u001b[1;33m.\u001b[0m\u001b[0mtraining\u001b[0m\u001b[1;33m(\u001b[0m\u001b[0mrandom_forest\u001b[0m\u001b[1;33m)\u001b[0m\u001b[1;33m\u001b[0m\u001b[1;33m\u001b[0m\u001b[0m\n",
      "\u001b[0m\n"
     ]
    },
    {
     "name": "stdin",
     "output_type": "stream",
     "text": [
      "ipdb>  quit()\n"
     ]
    }
   ],
   "source": [
    "%debug"
   ]
  },
  {
   "cell_type": "code",
   "execution_count": 33,
   "metadata": {
    "ExecuteTime": {
     "end_time": "2020-03-02T05:57:17.226329Z",
     "start_time": "2020-03-02T05:57:17.223573Z"
    },
    "execution": {
     "iopub.execute_input": "2020-06-02T12:41:46.257872Z",
     "iopub.status.busy": "2020-06-02T12:41:46.257872Z",
     "iopub.status.idle": "2020-06-02T12:41:46.263857Z",
     "shell.execute_reply": "2020-06-02T12:41:46.262862Z",
     "shell.execute_reply.started": "2020-06-02T12:41:46.257872Z"
    },
    "hidden": true
   },
   "outputs": [],
   "source": [
    "## Instance method\n",
    "class MachineLearningAlgo(object):\n",
    "    def training(self):\n",
    "        print('training model..')"
   ]
  },
  {
   "cell_type": "code",
   "execution_count": 34,
   "metadata": {
    "ExecuteTime": {
     "end_time": "2020-03-02T05:57:18.444361Z",
     "start_time": "2020-03-02T05:57:18.441650Z"
    },
    "execution": {
     "iopub.execute_input": "2020-06-02T12:41:47.511612Z",
     "iopub.status.busy": "2020-06-02T12:41:47.511612Z",
     "iopub.status.idle": "2020-06-02T12:41:47.518590Z",
     "shell.execute_reply": "2020-06-02T12:41:47.517593Z",
     "shell.execute_reply.started": "2020-06-02T12:41:47.511612Z"
    },
    "hidden": true
   },
   "outputs": [
    {
     "name": "stdout",
     "output_type": "stream",
     "text": [
      "training model..\n"
     ]
    }
   ],
   "source": [
    "random_forest = MachineLearningAlgo()\n",
    "random_forest.training()"
   ]
  },
  {
   "cell_type": "code",
   "execution_count": 36,
   "metadata": {
    "ExecuteTime": {
     "end_time": "2020-03-02T05:57:18.717402Z",
     "start_time": "2020-03-02T05:57:18.710200Z"
    },
    "execution": {
     "iopub.execute_input": "2020-06-02T12:42:10.437692Z",
     "iopub.status.busy": "2020-06-02T12:42:10.437692Z",
     "iopub.status.idle": "2020-06-02T12:42:10.444670Z",
     "shell.execute_reply": "2020-06-02T12:42:10.443673Z",
     "shell.execute_reply.started": "2020-06-02T12:42:10.437692Z"
    },
    "hidden": true
   },
   "outputs": [
    {
     "name": "stdout",
     "output_type": "stream",
     "text": [
      "training model..\n"
     ]
    }
   ],
   "source": [
    "MachineLearningAlgo.training(random_forest)"
   ]
  },
  {
   "cell_type": "markdown",
   "metadata": {
    "hidden": true
   },
   "source": [
    "Static methods are great for utility functions, which perform a task in isolation. They don’t need to (and cannot) access class data. "
   ]
  },
  {
   "cell_type": "code",
   "execution_count": null,
   "metadata": {
    "ExecuteTime": {
     "end_time": "2020-03-02T05:57:20.132790Z",
     "start_time": "2020-03-02T05:57:20.130078Z"
    },
    "execution": {
     "iopub.status.busy": "2020-06-02T12:35:17.735291Z",
     "iopub.status.idle": "2020-06-02T12:35:17.736287Z"
    },
    "hidden": true
   },
   "outputs": [],
   "source": [
    "## Static method\n",
    "class MachineLearningAlgo(object):\n",
    "    @staticmethod\n",
    "    def training():\n",
    "        print('training model..')"
   ]
  },
  {
   "cell_type": "code",
   "execution_count": 37,
   "metadata": {
    "ExecuteTime": {
     "end_time": "2020-03-02T05:57:21.801244Z",
     "start_time": "2020-03-02T05:57:21.798036Z"
    },
    "execution": {
     "iopub.execute_input": "2020-06-02T12:42:27.450219Z",
     "iopub.status.busy": "2020-06-02T12:42:27.450219Z",
     "iopub.status.idle": "2020-06-02T12:42:27.456203Z",
     "shell.execute_reply": "2020-06-02T12:42:27.455207Z",
     "shell.execute_reply.started": "2020-06-02T12:42:27.450219Z"
    },
    "hidden": true
   },
   "outputs": [
    {
     "name": "stdout",
     "output_type": "stream",
     "text": [
      "training model..\n"
     ]
    }
   ],
   "source": [
    "random_forest = MachineLearningAlgo()\n",
    "random_forest.training()"
   ]
  },
  {
   "cell_type": "code",
   "execution_count": 39,
   "metadata": {
    "ExecuteTime": {
     "end_time": "2020-03-02T05:57:22.415878Z",
     "start_time": "2020-03-02T05:57:22.412969Z"
    },
    "execution": {
     "iopub.execute_input": "2020-06-02T12:42:53.190866Z",
     "iopub.status.busy": "2020-06-02T12:42:53.189869Z",
     "iopub.status.idle": "2020-06-02T12:42:53.196851Z",
     "shell.execute_reply": "2020-06-02T12:42:53.195852Z",
     "shell.execute_reply.started": "2020-06-02T12:42:53.190866Z"
    },
    "hidden": true
   },
   "outputs": [
    {
     "name": "stdout",
     "output_type": "stream",
     "text": [
      "training model..\n"
     ]
    }
   ],
   "source": [
    "MachineLearningAlgo.training(random_forest)"
   ]
  },
  {
   "cell_type": "code",
   "execution_count": 41,
   "metadata": {
    "ExecuteTime": {
     "end_time": "2020-03-02T05:57:23.010822Z",
     "start_time": "2020-03-02T05:57:23.007642Z"
    },
    "execution": {
     "iopub.execute_input": "2020-06-02T12:43:38.266649Z",
     "iopub.status.busy": "2020-06-02T12:43:38.266649Z",
     "iopub.status.idle": "2020-06-02T12:43:38.273628Z",
     "shell.execute_reply": "2020-06-02T12:43:38.272633Z",
     "shell.execute_reply.started": "2020-06-02T12:43:38.266649Z"
    },
    "hidden": true
   },
   "outputs": [],
   "source": [
    "## Another Static method - A Ridiculous example to achieve something simple via staticmethod \n",
    "class MachineLearningAlgo(object):\n",
    "    def __init__(self, test_train_split):\n",
    "        self.test_train_split = test_train_split\n",
    "    @staticmethod\n",
    "    def training(self):\n",
    "        print(self.test_train_split)"
   ]
  },
  {
   "cell_type": "code",
   "execution_count": 44,
   "metadata": {
    "ExecuteTime": {
     "end_time": "2020-03-02T05:57:24.114711Z",
     "start_time": "2020-03-02T05:57:24.111657Z"
    },
    "execution": {
     "iopub.execute_input": "2020-06-02T12:44:05.392469Z",
     "iopub.status.busy": "2020-06-02T12:44:05.391474Z",
     "iopub.status.idle": "2020-06-02T12:44:05.398453Z",
     "shell.execute_reply": "2020-06-02T12:44:05.397456Z",
     "shell.execute_reply.started": "2020-06-02T12:44:05.392469Z"
    },
    "hidden": true
   },
   "outputs": [
    {
     "name": "stdout",
     "output_type": "stream",
     "text": [
      "0.7\n"
     ]
    }
   ],
   "source": [
    "random_forest = MachineLearningAlgo(0.70)\n",
    "random_forest.training(random_forest)"
   ]
  },
  {
   "cell_type": "markdown",
   "metadata": {
    "hidden": true
   },
   "source": [
    "Class methods can manipulate the class itself, which is useful when you’re working on larger, more complex projects."
   ]
  },
  {
   "cell_type": "code",
   "execution_count": 46,
   "metadata": {
    "ExecuteTime": {
     "end_time": "2020-03-02T05:57:25.097500Z",
     "start_time": "2020-03-02T05:57:25.094812Z"
    },
    "execution": {
     "iopub.execute_input": "2020-06-02T12:45:06.191286Z",
     "iopub.status.busy": "2020-06-02T12:45:06.190287Z",
     "iopub.status.idle": "2020-06-02T12:45:06.197269Z",
     "shell.execute_reply": "2020-06-02T12:45:06.196272Z",
     "shell.execute_reply.started": "2020-06-02T12:45:06.191286Z"
    },
    "hidden": true
   },
   "outputs": [],
   "source": [
    "## Class method\n",
    "class MachineLearningAlgo(object):\n",
    "    @classmethod\n",
    "    def training(cls):\n",
    "        print('training model..')"
   ]
  },
  {
   "cell_type": "code",
   "execution_count": 47,
   "metadata": {
    "ExecuteTime": {
     "end_time": "2020-03-02T05:57:25.525807Z",
     "start_time": "2020-03-02T05:57:25.522774Z"
    },
    "execution": {
     "iopub.execute_input": "2020-06-02T12:45:07.027050Z",
     "iopub.status.busy": "2020-06-02T12:45:07.027050Z",
     "iopub.status.idle": "2020-06-02T12:45:07.034031Z",
     "shell.execute_reply": "2020-06-02T12:45:07.033034Z",
     "shell.execute_reply.started": "2020-06-02T12:45:07.027050Z"
    },
    "hidden": true
   },
   "outputs": [
    {
     "name": "stdout",
     "output_type": "stream",
     "text": [
      "training model..\n"
     ]
    }
   ],
   "source": [
    "random_forest = MachineLearningAlgo()\n",
    "random_forest.training()"
   ]
  },
  {
   "cell_type": "code",
   "execution_count": 48,
   "metadata": {
    "ExecuteTime": {
     "end_time": "2020-03-02T05:57:25.989987Z",
     "start_time": "2020-03-02T05:57:25.987193Z"
    },
    "execution": {
     "iopub.execute_input": "2020-06-02T12:45:13.698446Z",
     "iopub.status.busy": "2020-06-02T12:45:13.697447Z",
     "iopub.status.idle": "2020-06-02T12:45:13.703430Z",
     "shell.execute_reply": "2020-06-02T12:45:13.702436Z",
     "shell.execute_reply.started": "2020-06-02T12:45:13.698446Z"
    },
    "hidden": true
   },
   "outputs": [
    {
     "name": "stdout",
     "output_type": "stream",
     "text": [
      "training model..\n"
     ]
    }
   ],
   "source": [
    "MachineLearningAlgo.training()"
   ]
  },
  {
   "cell_type": "code",
   "execution_count": 49,
   "metadata": {
    "ExecuteTime": {
     "end_time": "2020-03-02T05:57:26.534812Z",
     "start_time": "2020-03-02T05:57:26.531413Z"
    },
    "execution": {
     "iopub.execute_input": "2020-06-02T12:45:25.527831Z",
     "iopub.status.busy": "2020-06-02T12:45:25.527831Z",
     "iopub.status.idle": "2020-06-02T12:45:25.534809Z",
     "shell.execute_reply": "2020-06-02T12:45:25.533812Z",
     "shell.execute_reply.started": "2020-06-02T12:45:25.527831Z"
    },
    "hidden": true
   },
   "outputs": [],
   "source": [
    "# class method vs static method\n",
    "class MachineLearningAlgo:\n",
    "    @classmethod\n",
    "    def training(*args):\n",
    "        return args\n",
    "\n",
    "    @staticmethod\n",
    "    def generate_random_samples(*args):\n",
    "        return args\n",
    "    "
   ]
  },
  {
   "cell_type": "code",
   "execution_count": 50,
   "metadata": {
    "ExecuteTime": {
     "end_time": "2020-03-02T05:57:27.452352Z",
     "start_time": "2020-03-02T05:57:27.449175Z"
    },
    "execution": {
     "iopub.execute_input": "2020-06-02T12:45:26.916115Z",
     "iopub.status.busy": "2020-06-02T12:45:26.916115Z",
     "iopub.status.idle": "2020-06-02T12:45:26.924092Z",
     "shell.execute_reply": "2020-06-02T12:45:26.923098Z",
     "shell.execute_reply.started": "2020-06-02T12:45:26.916115Z"
    },
    "hidden": true
   },
   "outputs": [
    {
     "data": {
      "text/plain": [
       "(__main__.MachineLearningAlgo,)"
      ]
     },
     "execution_count": 50,
     "metadata": {},
     "output_type": "execute_result"
    }
   ],
   "source": [
    "# class method\n",
    "MachineLearningAlgo.training()"
   ]
  },
  {
   "cell_type": "code",
   "execution_count": 51,
   "metadata": {
    "ExecuteTime": {
     "end_time": "2020-03-02T05:57:27.657282Z",
     "start_time": "2020-03-02T05:57:27.653082Z"
    },
    "execution": {
     "iopub.execute_input": "2020-06-02T12:45:44.189970Z",
     "iopub.status.busy": "2020-06-02T12:45:44.189970Z",
     "iopub.status.idle": "2020-06-02T12:45:44.197951Z",
     "shell.execute_reply": "2020-06-02T12:45:44.196951Z",
     "shell.execute_reply.started": "2020-06-02T12:45:44.189970Z"
    },
    "hidden": true
   },
   "outputs": [
    {
     "data": {
      "text/plain": [
       "(__main__.MachineLearningAlgo, 'train_data')"
      ]
     },
     "execution_count": 51,
     "metadata": {},
     "output_type": "execute_result"
    }
   ],
   "source": [
    "MachineLearningAlgo.training('train_data')"
   ]
  },
  {
   "cell_type": "code",
   "execution_count": 53,
   "metadata": {
    "ExecuteTime": {
     "end_time": "2020-03-02T05:57:27.874421Z",
     "start_time": "2020-03-02T05:57:27.870523Z"
    },
    "execution": {
     "iopub.execute_input": "2020-06-02T12:47:01.417064Z",
     "iopub.status.busy": "2020-06-02T12:47:01.416068Z",
     "iopub.status.idle": "2020-06-02T12:47:01.425044Z",
     "shell.execute_reply": "2020-06-02T12:47:01.424046Z",
     "shell.execute_reply.started": "2020-06-02T12:47:01.417064Z"
    },
    "hidden": true
   },
   "outputs": [
    {
     "data": {
      "text/plain": [
       "()"
      ]
     },
     "execution_count": 53,
     "metadata": {},
     "output_type": "execute_result"
    }
   ],
   "source": [
    "# static method\n",
    "MachineLearningAlgo.generate_random_samples()"
   ]
  },
  {
   "cell_type": "code",
   "execution_count": 54,
   "metadata": {
    "ExecuteTime": {
     "end_time": "2020-03-02T05:57:28.454890Z",
     "start_time": "2020-03-02T05:57:28.451337Z"
    },
    "execution": {
     "iopub.execute_input": "2020-06-02T12:47:05.883225Z",
     "iopub.status.busy": "2020-06-02T12:47:05.883225Z",
     "iopub.status.idle": "2020-06-02T12:47:05.890176Z",
     "shell.execute_reply": "2020-06-02T12:47:05.889180Z",
     "shell.execute_reply.started": "2020-06-02T12:47:05.883225Z"
    },
    "hidden": true
   },
   "outputs": [
    {
     "data": {
      "text/plain": [
       "('n_sample_size',)"
      ]
     },
     "execution_count": 54,
     "metadata": {},
     "output_type": "execute_result"
    }
   ],
   "source": [
    "MachineLearningAlgo.generate_random_samples('n_sample_size')"
   ]
  },
  {
   "cell_type": "markdown",
   "metadata": {
    "heading_collapsed": true
   },
   "source": [
    "## Example: DataFrame"
   ]
  },
  {
   "cell_type": "code",
   "execution_count": 55,
   "metadata": {
    "ExecuteTime": {
     "end_time": "2020-03-02T05:57:36.839646Z",
     "start_time": "2020-03-02T05:57:36.297285Z"
    },
    "execution": {
     "iopub.execute_input": "2020-06-02T12:47:08.770515Z",
     "iopub.status.busy": "2020-06-02T12:47:08.769519Z",
     "iopub.status.idle": "2020-06-02T12:47:09.422771Z",
     "shell.execute_reply": "2020-06-02T12:47:09.421802Z",
     "shell.execute_reply.started": "2020-06-02T12:47:08.770515Z"
    },
    "hidden": true
   },
   "outputs": [
    {
     "data": {
      "text/html": [
       "<div>\n",
       "<style scoped>\n",
       "    .dataframe tbody tr th:only-of-type {\n",
       "        vertical-align: middle;\n",
       "    }\n",
       "\n",
       "    .dataframe tbody tr th {\n",
       "        vertical-align: top;\n",
       "    }\n",
       "\n",
       "    .dataframe thead th {\n",
       "        text-align: right;\n",
       "    }\n",
       "</style>\n",
       "<table border=\"1\" class=\"dataframe\">\n",
       "  <thead>\n",
       "    <tr style=\"text-align: right;\">\n",
       "      <th></th>\n",
       "      <th>AAPL</th>\n",
       "      <th>GOOGL</th>\n",
       "      <th>AMZN</th>\n",
       "      <th>MSFT</th>\n",
       "      <th>FB</th>\n",
       "    </tr>\n",
       "  </thead>\n",
       "  <tbody>\n",
       "    <tr>\n",
       "      <th>2015</th>\n",
       "      <td>100.0</td>\n",
       "      <td>600.0</td>\n",
       "      <td>300.0</td>\n",
       "      <td>45.0</td>\n",
       "      <td>75.00</td>\n",
       "    </tr>\n",
       "    <tr>\n",
       "      <th>2016</th>\n",
       "      <td>125.0</td>\n",
       "      <td>750.0</td>\n",
       "      <td>675.0</td>\n",
       "      <td>67.5</td>\n",
       "      <td>106.25</td>\n",
       "    </tr>\n",
       "    <tr>\n",
       "      <th>2017</th>\n",
       "      <td>150.0</td>\n",
       "      <td>900.0</td>\n",
       "      <td>1050.0</td>\n",
       "      <td>90.0</td>\n",
       "      <td>137.50</td>\n",
       "    </tr>\n",
       "    <tr>\n",
       "      <th>2018</th>\n",
       "      <td>175.0</td>\n",
       "      <td>1050.0</td>\n",
       "      <td>1425.0</td>\n",
       "      <td>112.5</td>\n",
       "      <td>168.75</td>\n",
       "    </tr>\n",
       "    <tr>\n",
       "      <th>2019</th>\n",
       "      <td>200.0</td>\n",
       "      <td>1200.0</td>\n",
       "      <td>1800.0</td>\n",
       "      <td>135.0</td>\n",
       "      <td>200.00</td>\n",
       "    </tr>\n",
       "  </tbody>\n",
       "</table>\n",
       "</div>"
      ],
      "text/plain": [
       "       AAPL   GOOGL    AMZN   MSFT      FB\n",
       "2015  100.0   600.0   300.0   45.0   75.00\n",
       "2016  125.0   750.0   675.0   67.5  106.25\n",
       "2017  150.0   900.0  1050.0   90.0  137.50\n",
       "2018  175.0  1050.0  1425.0  112.5  168.75\n",
       "2019  200.0  1200.0  1800.0  135.0  200.00"
      ]
     },
     "execution_count": 55,
     "metadata": {},
     "output_type": "execute_result"
    }
   ],
   "source": [
    "import pandas as pd\n",
    "import numpy as np\n",
    "price = np.array([  np.linspace(100,200,5), \n",
    "                    np.linspace(600,1200,5), \n",
    "                    np.linspace(300,1800,5),\n",
    "                    np.linspace(45,135,5),\n",
    "                    np.linspace(75,200,5)])\n",
    "price = pd.DataFrame(price.T, columns=['AAPL','GOOGL','AMZN','MSFT','FB'], index = range(2015,2020))\n",
    "price"
   ]
  },
  {
   "cell_type": "code",
   "execution_count": 56,
   "metadata": {
    "ExecuteTime": {
     "end_time": "2020-03-02T05:57:36.845017Z",
     "start_time": "2020-03-02T05:57:36.841405Z"
    },
    "execution": {
     "iopub.execute_input": "2020-06-02T12:47:10.883036Z",
     "iopub.status.busy": "2020-06-02T12:47:10.882010Z",
     "iopub.status.idle": "2020-06-02T12:47:10.889987Z",
     "shell.execute_reply": "2020-06-02T12:47:10.888989Z",
     "shell.execute_reply.started": "2020-06-02T12:47:10.883036Z"
    },
    "hidden": true
   },
   "outputs": [
    {
     "data": {
      "text/plain": [
       "pandas.core.frame.DataFrame"
      ]
     },
     "execution_count": 56,
     "metadata": {},
     "output_type": "execute_result"
    }
   ],
   "source": [
    "type(price)"
   ]
  },
  {
   "cell_type": "code",
   "execution_count": 57,
   "metadata": {
    "ExecuteTime": {
     "end_time": "2020-03-02T05:57:36.850162Z",
     "start_time": "2020-03-02T05:57:36.846842Z"
    },
    "execution": {
     "iopub.execute_input": "2020-06-02T12:47:22.120588Z",
     "iopub.status.busy": "2020-06-02T12:47:22.119591Z",
     "iopub.status.idle": "2020-06-02T12:47:22.128567Z",
     "shell.execute_reply": "2020-06-02T12:47:22.127571Z",
     "shell.execute_reply.started": "2020-06-02T12:47:22.120588Z"
    },
    "hidden": true
   },
   "outputs": [
    {
     "data": {
      "text/plain": [
       "True"
      ]
     },
     "execution_count": 57,
     "metadata": {},
     "output_type": "execute_result"
    }
   ],
   "source": [
    "pd.DataFrame is pd.core.frame.DataFrame"
   ]
  },
  {
   "cell_type": "code",
   "execution_count": 58,
   "metadata": {
    "ExecuteTime": {
     "end_time": "2020-03-02T05:57:37.685425Z",
     "start_time": "2020-03-02T05:57:37.682277Z"
    },
    "execution": {
     "iopub.execute_input": "2020-06-02T12:47:22.860609Z",
     "iopub.status.busy": "2020-06-02T12:47:22.859611Z",
     "iopub.status.idle": "2020-06-02T12:47:22.867590Z",
     "shell.execute_reply": "2020-06-02T12:47:22.866593Z",
     "shell.execute_reply.started": "2020-06-02T12:47:22.860609Z"
    },
    "hidden": true
   },
   "outputs": [
    {
     "data": {
      "text/plain": [
       "(pandas.core.frame.DataFrame,\n",
       " pandas.core.generic.NDFrame,\n",
       " pandas.core.base.PandasObject,\n",
       " pandas.core.accessor.DirNamesMixin,\n",
       " pandas.core.base.SelectionMixin,\n",
       " pandas.core.indexing.IndexingMixin,\n",
       " object)"
      ]
     },
     "execution_count": 58,
     "metadata": {},
     "output_type": "execute_result"
    }
   ],
   "source": [
    "pd.core.frame.DataFrame.__mro__"
   ]
  },
  {
   "cell_type": "markdown",
   "metadata": {
    "ExecuteTime": {
     "end_time": "2019-05-26T17:01:10.576063Z",
     "start_time": "2019-05-26T17:01:10.550770Z"
    },
    "hidden": true
   },
   "source": [
    "https://github.com/pandas-dev/pandas/blob/master/pandas/core/frame.py\n",
    "\n",
    "https://github.com/pandas-dev/pandas/blob/master/pandas/core/base.py"
   ]
  },
  {
   "cell_type": "code",
   "execution_count": 59,
   "metadata": {
    "ExecuteTime": {
     "end_time": "2020-03-02T05:57:38.917303Z",
     "start_time": "2020-03-02T05:57:38.913978Z"
    },
    "execution": {
     "iopub.execute_input": "2020-06-02T12:47:24.681852Z",
     "iopub.status.busy": "2020-06-02T12:47:24.681852Z",
     "iopub.status.idle": "2020-06-02T12:47:24.689828Z",
     "shell.execute_reply": "2020-06-02T12:47:24.688829Z",
     "shell.execute_reply.started": "2020-06-02T12:47:24.681852Z"
    },
    "hidden": true
   },
   "outputs": [
    {
     "data": {
      "text/plain": [
       "[RangeIndex(start=2015, stop=2020, step=1),\n",
       " Index(['AAPL', 'GOOGL', 'AMZN', 'MSFT', 'FB'], dtype='object')]"
      ]
     },
     "execution_count": 59,
     "metadata": {},
     "output_type": "execute_result"
    }
   ],
   "source": [
    "price.axes"
   ]
  },
  {
   "cell_type": "code",
   "execution_count": 60,
   "metadata": {
    "ExecuteTime": {
     "end_time": "2020-03-02T05:57:39.767330Z",
     "start_time": "2020-03-02T05:57:39.763840Z"
    },
    "execution": {
     "iopub.execute_input": "2020-06-02T12:47:40.635282Z",
     "iopub.status.busy": "2020-06-02T12:47:40.635282Z",
     "iopub.status.idle": "2020-06-02T12:47:40.643257Z",
     "shell.execute_reply": "2020-06-02T12:47:40.642261Z",
     "shell.execute_reply.started": "2020-06-02T12:47:40.635282Z"
    },
    "hidden": true
   },
   "outputs": [
    {
     "data": {
      "text/plain": [
       "Index(['AAPL', 'GOOGL', 'AMZN', 'MSFT', 'FB'], dtype='object')"
      ]
     },
     "execution_count": 60,
     "metadata": {},
     "output_type": "execute_result"
    }
   ],
   "source": [
    "price.columns"
   ]
  },
  {
   "cell_type": "code",
   "execution_count": 61,
   "metadata": {
    "ExecuteTime": {
     "end_time": "2020-03-02T05:57:41.581216Z",
     "start_time": "2020-03-02T05:57:41.576085Z"
    },
    "execution": {
     "iopub.execute_input": "2020-06-02T12:47:46.159642Z",
     "iopub.status.busy": "2020-06-02T12:47:46.158644Z",
     "iopub.status.idle": "2020-06-02T12:47:46.168617Z",
     "shell.execute_reply": "2020-06-02T12:47:46.167618Z",
     "shell.execute_reply.started": "2020-06-02T12:47:46.159642Z"
    },
    "hidden": true
   },
   "outputs": [
    {
     "data": {
      "text/plain": [
       "AAPL      150.0\n",
       "GOOGL     900.0\n",
       "AMZN     1050.0\n",
       "MSFT       90.0\n",
       "FB        137.5\n",
       "dtype: float64"
      ]
     },
     "execution_count": 61,
     "metadata": {},
     "output_type": "execute_result"
    }
   ],
   "source": [
    "price.mean()"
   ]
  },
  {
   "cell_type": "code",
   "execution_count": 62,
   "metadata": {
    "ExecuteTime": {
     "end_time": "2020-03-02T05:57:41.888613Z",
     "start_time": "2020-03-02T05:57:41.883136Z"
    },
    "execution": {
     "iopub.execute_input": "2020-06-02T12:47:48.822596Z",
     "iopub.status.busy": "2020-06-02T12:47:48.821602Z",
     "iopub.status.idle": "2020-06-02T12:47:48.830576Z",
     "shell.execute_reply": "2020-06-02T12:47:48.829578Z",
     "shell.execute_reply.started": "2020-06-02T12:47:48.822596Z"
    },
    "hidden": true
   },
   "outputs": [
    {
     "data": {
      "text/plain": [
       "2015    224.00\n",
       "2016    344.75\n",
       "2017    465.50\n",
       "2018    586.25\n",
       "2019    707.00\n",
       "dtype: float64"
      ]
     },
     "execution_count": 62,
     "metadata": {},
     "output_type": "execute_result"
    }
   ],
   "source": [
    "price.mean(1)"
   ]
  },
  {
   "cell_type": "code",
   "execution_count": 63,
   "metadata": {
    "ExecuteTime": {
     "end_time": "2020-03-02T05:57:42.110603Z",
     "start_time": "2020-03-02T05:57:42.099551Z"
    },
    "execution": {
     "iopub.execute_input": "2020-06-02T12:47:49.488818Z",
     "iopub.status.busy": "2020-06-02T12:47:49.487820Z",
     "iopub.status.idle": "2020-06-02T12:47:49.507764Z",
     "shell.execute_reply": "2020-06-02T12:47:49.506769Z",
     "shell.execute_reply.started": "2020-06-02T12:47:49.488818Z"
    },
    "hidden": true
   },
   "outputs": [
    {
     "data": {
      "text/html": [
       "<div>\n",
       "<style scoped>\n",
       "    .dataframe tbody tr th:only-of-type {\n",
       "        vertical-align: middle;\n",
       "    }\n",
       "\n",
       "    .dataframe tbody tr th {\n",
       "        vertical-align: top;\n",
       "    }\n",
       "\n",
       "    .dataframe thead th {\n",
       "        text-align: right;\n",
       "    }\n",
       "</style>\n",
       "<table border=\"1\" class=\"dataframe\">\n",
       "  <thead>\n",
       "    <tr style=\"text-align: right;\">\n",
       "      <th></th>\n",
       "      <th>AAPL</th>\n",
       "      <th>GOOGL</th>\n",
       "      <th>AMZN</th>\n",
       "      <th>MSFT</th>\n",
       "      <th>FB</th>\n",
       "    </tr>\n",
       "  </thead>\n",
       "  <tbody>\n",
       "    <tr>\n",
       "      <th>2015</th>\n",
       "      <td>100.0</td>\n",
       "      <td>600.0</td>\n",
       "      <td>300.0</td>\n",
       "      <td>45.0</td>\n",
       "      <td>75.00</td>\n",
       "    </tr>\n",
       "    <tr>\n",
       "      <th>2016</th>\n",
       "      <td>225.0</td>\n",
       "      <td>1350.0</td>\n",
       "      <td>975.0</td>\n",
       "      <td>112.5</td>\n",
       "      <td>181.25</td>\n",
       "    </tr>\n",
       "    <tr>\n",
       "      <th>2017</th>\n",
       "      <td>375.0</td>\n",
       "      <td>2250.0</td>\n",
       "      <td>2025.0</td>\n",
       "      <td>202.5</td>\n",
       "      <td>318.75</td>\n",
       "    </tr>\n",
       "    <tr>\n",
       "      <th>2018</th>\n",
       "      <td>550.0</td>\n",
       "      <td>3300.0</td>\n",
       "      <td>3450.0</td>\n",
       "      <td>315.0</td>\n",
       "      <td>487.50</td>\n",
       "    </tr>\n",
       "    <tr>\n",
       "      <th>2019</th>\n",
       "      <td>750.0</td>\n",
       "      <td>4500.0</td>\n",
       "      <td>5250.0</td>\n",
       "      <td>450.0</td>\n",
       "      <td>687.50</td>\n",
       "    </tr>\n",
       "  </tbody>\n",
       "</table>\n",
       "</div>"
      ],
      "text/plain": [
       "       AAPL   GOOGL    AMZN   MSFT      FB\n",
       "2015  100.0   600.0   300.0   45.0   75.00\n",
       "2016  225.0  1350.0   975.0  112.5  181.25\n",
       "2017  375.0  2250.0  2025.0  202.5  318.75\n",
       "2018  550.0  3300.0  3450.0  315.0  487.50\n",
       "2019  750.0  4500.0  5250.0  450.0  687.50"
      ]
     },
     "execution_count": 63,
     "metadata": {},
     "output_type": "execute_result"
    }
   ],
   "source": [
    "price.cumsum()"
   ]
  },
  {
   "cell_type": "code",
   "execution_count": 64,
   "metadata": {
    "ExecuteTime": {
     "end_time": "2020-03-02T05:57:42.386124Z",
     "start_time": "2020-03-02T05:57:42.360326Z"
    },
    "execution": {
     "iopub.execute_input": "2020-06-02T12:47:50.380465Z",
     "iopub.status.busy": "2020-06-02T12:47:50.379435Z",
     "iopub.status.idle": "2020-06-02T12:47:50.413341Z",
     "shell.execute_reply": "2020-06-02T12:47:50.412343Z",
     "shell.execute_reply.started": "2020-06-02T12:47:50.380465Z"
    },
    "hidden": true
   },
   "outputs": [
    {
     "data": {
      "text/html": [
       "<div>\n",
       "<style scoped>\n",
       "    .dataframe tbody tr th:only-of-type {\n",
       "        vertical-align: middle;\n",
       "    }\n",
       "\n",
       "    .dataframe tbody tr th {\n",
       "        vertical-align: top;\n",
       "    }\n",
       "\n",
       "    .dataframe thead th {\n",
       "        text-align: right;\n",
       "    }\n",
       "</style>\n",
       "<table border=\"1\" class=\"dataframe\">\n",
       "  <thead>\n",
       "    <tr style=\"text-align: right;\">\n",
       "      <th></th>\n",
       "      <th>AAPL</th>\n",
       "      <th>GOOGL</th>\n",
       "      <th>AMZN</th>\n",
       "      <th>MSFT</th>\n",
       "      <th>FB</th>\n",
       "    </tr>\n",
       "  </thead>\n",
       "  <tbody>\n",
       "    <tr>\n",
       "      <th>2015</th>\n",
       "      <td>200.0</td>\n",
       "      <td>1200.0</td>\n",
       "      <td>600.0</td>\n",
       "      <td>90.0</td>\n",
       "      <td>150.0</td>\n",
       "    </tr>\n",
       "    <tr>\n",
       "      <th>2016</th>\n",
       "      <td>250.0</td>\n",
       "      <td>1500.0</td>\n",
       "      <td>1350.0</td>\n",
       "      <td>135.0</td>\n",
       "      <td>212.5</td>\n",
       "    </tr>\n",
       "    <tr>\n",
       "      <th>2017</th>\n",
       "      <td>300.0</td>\n",
       "      <td>1800.0</td>\n",
       "      <td>2100.0</td>\n",
       "      <td>180.0</td>\n",
       "      <td>275.0</td>\n",
       "    </tr>\n",
       "    <tr>\n",
       "      <th>2018</th>\n",
       "      <td>350.0</td>\n",
       "      <td>2100.0</td>\n",
       "      <td>2850.0</td>\n",
       "      <td>225.0</td>\n",
       "      <td>337.5</td>\n",
       "    </tr>\n",
       "    <tr>\n",
       "      <th>2019</th>\n",
       "      <td>400.0</td>\n",
       "      <td>2400.0</td>\n",
       "      <td>3600.0</td>\n",
       "      <td>270.0</td>\n",
       "      <td>400.0</td>\n",
       "    </tr>\n",
       "  </tbody>\n",
       "</table>\n",
       "</div>"
      ],
      "text/plain": [
       "       AAPL   GOOGL    AMZN   MSFT     FB\n",
       "2015  200.0  1200.0   600.0   90.0  150.0\n",
       "2016  250.0  1500.0  1350.0  135.0  212.5\n",
       "2017  300.0  1800.0  2100.0  180.0  275.0\n",
       "2018  350.0  2100.0  2850.0  225.0  337.5\n",
       "2019  400.0  2400.0  3600.0  270.0  400.0"
      ]
     },
     "execution_count": 64,
     "metadata": {},
     "output_type": "execute_result"
    }
   ],
   "source": [
    "price + price"
   ]
  },
  {
   "cell_type": "code",
   "execution_count": 65,
   "metadata": {
    "ExecuteTime": {
     "end_time": "2020-03-02T05:57:42.700911Z",
     "start_time": "2020-03-02T05:57:42.690653Z"
    },
    "execution": {
     "iopub.execute_input": "2020-06-02T12:47:54.620323Z",
     "iopub.status.busy": "2020-06-02T12:47:54.619324Z",
     "iopub.status.idle": "2020-06-02T12:47:54.637277Z",
     "shell.execute_reply": "2020-06-02T12:47:54.636281Z",
     "shell.execute_reply.started": "2020-06-02T12:47:54.620323Z"
    },
    "hidden": true
   },
   "outputs": [
    {
     "data": {
      "text/html": [
       "<div>\n",
       "<style scoped>\n",
       "    .dataframe tbody tr th:only-of-type {\n",
       "        vertical-align: middle;\n",
       "    }\n",
       "\n",
       "    .dataframe tbody tr th {\n",
       "        vertical-align: top;\n",
       "    }\n",
       "\n",
       "    .dataframe thead th {\n",
       "        text-align: right;\n",
       "    }\n",
       "</style>\n",
       "<table border=\"1\" class=\"dataframe\">\n",
       "  <thead>\n",
       "    <tr style=\"text-align: right;\">\n",
       "      <th></th>\n",
       "      <th>AAPL</th>\n",
       "      <th>GOOGL</th>\n",
       "      <th>AMZN</th>\n",
       "      <th>MSFT</th>\n",
       "      <th>FB</th>\n",
       "    </tr>\n",
       "  </thead>\n",
       "  <tbody>\n",
       "    <tr>\n",
       "      <th>2015</th>\n",
       "      <td>200.0</td>\n",
       "      <td>1200.0</td>\n",
       "      <td>600.0</td>\n",
       "      <td>90.0</td>\n",
       "      <td>150.0</td>\n",
       "    </tr>\n",
       "    <tr>\n",
       "      <th>2016</th>\n",
       "      <td>250.0</td>\n",
       "      <td>1500.0</td>\n",
       "      <td>1350.0</td>\n",
       "      <td>135.0</td>\n",
       "      <td>212.5</td>\n",
       "    </tr>\n",
       "    <tr>\n",
       "      <th>2017</th>\n",
       "      <td>300.0</td>\n",
       "      <td>1800.0</td>\n",
       "      <td>2100.0</td>\n",
       "      <td>180.0</td>\n",
       "      <td>275.0</td>\n",
       "    </tr>\n",
       "    <tr>\n",
       "      <th>2018</th>\n",
       "      <td>350.0</td>\n",
       "      <td>2100.0</td>\n",
       "      <td>2850.0</td>\n",
       "      <td>225.0</td>\n",
       "      <td>337.5</td>\n",
       "    </tr>\n",
       "    <tr>\n",
       "      <th>2019</th>\n",
       "      <td>400.0</td>\n",
       "      <td>2400.0</td>\n",
       "      <td>3600.0</td>\n",
       "      <td>270.0</td>\n",
       "      <td>400.0</td>\n",
       "    </tr>\n",
       "  </tbody>\n",
       "</table>\n",
       "</div>"
      ],
      "text/plain": [
       "       AAPL   GOOGL    AMZN   MSFT     FB\n",
       "2015  200.0  1200.0   600.0   90.0  150.0\n",
       "2016  250.0  1500.0  1350.0  135.0  212.5\n",
       "2017  300.0  1800.0  2100.0  180.0  275.0\n",
       "2018  350.0  2100.0  2850.0  225.0  337.5\n",
       "2019  400.0  2400.0  3600.0  270.0  400.0"
      ]
     },
     "execution_count": 65,
     "metadata": {},
     "output_type": "execute_result"
    }
   ],
   "source": [
    "price.__add__(price)"
   ]
  },
  {
   "cell_type": "code",
   "execution_count": 66,
   "metadata": {
    "ExecuteTime": {
     "end_time": "2020-03-02T05:57:43.178384Z",
     "start_time": "2020-03-02T05:57:43.166701Z"
    },
    "execution": {
     "iopub.execute_input": "2020-06-02T12:47:55.100040Z",
     "iopub.status.busy": "2020-06-02T12:47:55.100040Z",
     "iopub.status.idle": "2020-06-02T12:47:55.118988Z",
     "shell.execute_reply": "2020-06-02T12:47:55.117990Z",
     "shell.execute_reply.started": "2020-06-02T12:47:55.100040Z"
    },
    "hidden": true
   },
   "outputs": [
    {
     "data": {
      "text/html": [
       "<div>\n",
       "<style scoped>\n",
       "    .dataframe tbody tr th:only-of-type {\n",
       "        vertical-align: middle;\n",
       "    }\n",
       "\n",
       "    .dataframe tbody tr th {\n",
       "        vertical-align: top;\n",
       "    }\n",
       "\n",
       "    .dataframe thead th {\n",
       "        text-align: right;\n",
       "    }\n",
       "</style>\n",
       "<table border=\"1\" class=\"dataframe\">\n",
       "  <thead>\n",
       "    <tr style=\"text-align: right;\">\n",
       "      <th></th>\n",
       "      <th>AAPL</th>\n",
       "      <th>GOOGL</th>\n",
       "      <th>AMZN</th>\n",
       "      <th>MSFT</th>\n",
       "      <th>FB</th>\n",
       "    </tr>\n",
       "  </thead>\n",
       "  <tbody>\n",
       "    <tr>\n",
       "      <th>2015</th>\n",
       "      <td>200.0</td>\n",
       "      <td>1200.0</td>\n",
       "      <td>600.0</td>\n",
       "      <td>90.0</td>\n",
       "      <td>150.0</td>\n",
       "    </tr>\n",
       "    <tr>\n",
       "      <th>2016</th>\n",
       "      <td>250.0</td>\n",
       "      <td>1500.0</td>\n",
       "      <td>1350.0</td>\n",
       "      <td>135.0</td>\n",
       "      <td>212.5</td>\n",
       "    </tr>\n",
       "    <tr>\n",
       "      <th>2017</th>\n",
       "      <td>300.0</td>\n",
       "      <td>1800.0</td>\n",
       "      <td>2100.0</td>\n",
       "      <td>180.0</td>\n",
       "      <td>275.0</td>\n",
       "    </tr>\n",
       "    <tr>\n",
       "      <th>2018</th>\n",
       "      <td>350.0</td>\n",
       "      <td>2100.0</td>\n",
       "      <td>2850.0</td>\n",
       "      <td>225.0</td>\n",
       "      <td>337.5</td>\n",
       "    </tr>\n",
       "    <tr>\n",
       "      <th>2019</th>\n",
       "      <td>400.0</td>\n",
       "      <td>2400.0</td>\n",
       "      <td>3600.0</td>\n",
       "      <td>270.0</td>\n",
       "      <td>400.0</td>\n",
       "    </tr>\n",
       "  </tbody>\n",
       "</table>\n",
       "</div>"
      ],
      "text/plain": [
       "       AAPL   GOOGL    AMZN   MSFT     FB\n",
       "2015  200.0  1200.0   600.0   90.0  150.0\n",
       "2016  250.0  1500.0  1350.0  135.0  212.5\n",
       "2017  300.0  1800.0  2100.0  180.0  275.0\n",
       "2018  350.0  2100.0  2850.0  225.0  337.5\n",
       "2019  400.0  2400.0  3600.0  270.0  400.0"
      ]
     },
     "execution_count": 66,
     "metadata": {},
     "output_type": "execute_result"
    }
   ],
   "source": [
    "2 * price"
   ]
  },
  {
   "cell_type": "code",
   "execution_count": 67,
   "metadata": {
    "ExecuteTime": {
     "end_time": "2020-03-02T05:57:43.826357Z",
     "start_time": "2020-03-02T05:57:43.816016Z"
    },
    "execution": {
     "iopub.execute_input": "2020-06-02T12:47:55.584743Z",
     "iopub.status.busy": "2020-06-02T12:47:55.582751Z",
     "iopub.status.idle": "2020-06-02T12:47:55.603694Z",
     "shell.execute_reply": "2020-06-02T12:47:55.602693Z",
     "shell.execute_reply.started": "2020-06-02T12:47:55.584743Z"
    },
    "hidden": true
   },
   "outputs": [
    {
     "data": {
      "text/html": [
       "<div>\n",
       "<style scoped>\n",
       "    .dataframe tbody tr th:only-of-type {\n",
       "        vertical-align: middle;\n",
       "    }\n",
       "\n",
       "    .dataframe tbody tr th {\n",
       "        vertical-align: top;\n",
       "    }\n",
       "\n",
       "    .dataframe thead th {\n",
       "        text-align: right;\n",
       "    }\n",
       "</style>\n",
       "<table border=\"1\" class=\"dataframe\">\n",
       "  <thead>\n",
       "    <tr style=\"text-align: right;\">\n",
       "      <th></th>\n",
       "      <th>AAPL</th>\n",
       "      <th>GOOGL</th>\n",
       "      <th>AMZN</th>\n",
       "      <th>MSFT</th>\n",
       "      <th>FB</th>\n",
       "    </tr>\n",
       "  </thead>\n",
       "  <tbody>\n",
       "    <tr>\n",
       "      <th>2015</th>\n",
       "      <td>200.0</td>\n",
       "      <td>1200.0</td>\n",
       "      <td>600.0</td>\n",
       "      <td>90.0</td>\n",
       "      <td>150.0</td>\n",
       "    </tr>\n",
       "    <tr>\n",
       "      <th>2016</th>\n",
       "      <td>250.0</td>\n",
       "      <td>1500.0</td>\n",
       "      <td>1350.0</td>\n",
       "      <td>135.0</td>\n",
       "      <td>212.5</td>\n",
       "    </tr>\n",
       "    <tr>\n",
       "      <th>2017</th>\n",
       "      <td>300.0</td>\n",
       "      <td>1800.0</td>\n",
       "      <td>2100.0</td>\n",
       "      <td>180.0</td>\n",
       "      <td>275.0</td>\n",
       "    </tr>\n",
       "    <tr>\n",
       "      <th>2018</th>\n",
       "      <td>350.0</td>\n",
       "      <td>2100.0</td>\n",
       "      <td>2850.0</td>\n",
       "      <td>225.0</td>\n",
       "      <td>337.5</td>\n",
       "    </tr>\n",
       "    <tr>\n",
       "      <th>2019</th>\n",
       "      <td>400.0</td>\n",
       "      <td>2400.0</td>\n",
       "      <td>3600.0</td>\n",
       "      <td>270.0</td>\n",
       "      <td>400.0</td>\n",
       "    </tr>\n",
       "  </tbody>\n",
       "</table>\n",
       "</div>"
      ],
      "text/plain": [
       "       AAPL   GOOGL    AMZN   MSFT     FB\n",
       "2015  200.0  1200.0   600.0   90.0  150.0\n",
       "2016  250.0  1500.0  1350.0  135.0  212.5\n",
       "2017  300.0  1800.0  2100.0  180.0  275.0\n",
       "2018  350.0  2100.0  2850.0  225.0  337.5\n",
       "2019  400.0  2400.0  3600.0  270.0  400.0"
      ]
     },
     "execution_count": 67,
     "metadata": {},
     "output_type": "execute_result"
    }
   ],
   "source": [
    "price.__rmul__(2)"
   ]
  },
  {
   "cell_type": "code",
   "execution_count": 68,
   "metadata": {
    "ExecuteTime": {
     "end_time": "2020-03-02T05:57:44.273262Z",
     "start_time": "2020-03-02T05:57:44.267277Z"
    },
    "execution": {
     "iopub.execute_input": "2020-06-02T12:47:56.468382Z",
     "iopub.status.busy": "2020-06-02T12:47:56.467381Z",
     "iopub.status.idle": "2020-06-02T12:47:56.476356Z",
     "shell.execute_reply": "2020-06-02T12:47:56.475362Z",
     "shell.execute_reply.started": "2020-06-02T12:47:56.468382Z"
    },
    "hidden": true
   },
   "outputs": [
    {
     "data": {
      "text/plain": [
       "array([ 150. ,  900. , 1050. ,   90. ,  137.5])"
      ]
     },
     "execution_count": 68,
     "metadata": {},
     "output_type": "execute_result"
    }
   ],
   "source": [
    "np.median(price,0)"
   ]
  },
  {
   "cell_type": "code",
   "execution_count": 69,
   "metadata": {
    "ExecuteTime": {
     "end_time": "2020-03-02T05:57:45.192179Z",
     "start_time": "2020-03-02T05:57:45.184759Z"
    },
    "execution": {
     "iopub.execute_input": "2020-06-02T12:47:57.078749Z",
     "iopub.status.busy": "2020-06-02T12:47:57.077750Z",
     "iopub.status.idle": "2020-06-02T12:47:57.088721Z",
     "shell.execute_reply": "2020-06-02T12:47:57.087725Z",
     "shell.execute_reply.started": "2020-06-02T12:47:57.078749Z"
    },
    "hidden": true
   },
   "outputs": [
    {
     "data": {
      "text/plain": [
       "332"
      ]
     },
     "execution_count": 69,
     "metadata": {},
     "output_type": "execute_result"
    }
   ],
   "source": [
    "price.__sizeof__()  "
   ]
  },
  {
   "cell_type": "markdown",
   "metadata": {
    "heading_collapsed": true
   },
   "source": [
    "## Debugging"
   ]
  },
  {
   "cell_type": "code",
   "execution_count": null,
   "metadata": {
    "ExecuteTime": {
     "end_time": "2020-03-02T07:01:04.141386Z",
     "start_time": "2020-03-02T07:01:04.117649Z"
    },
    "execution": {
     "iopub.status.busy": "2020-06-02T12:35:17.819066Z",
     "iopub.status.idle": "2020-06-02T12:35:17.820063Z"
    },
    "hidden": true
   },
   "outputs": [],
   "source": [
    "import pandas as pd, numpy as np\n",
    "\n",
    "def alpha_detector(X_train, y_train):\n",
    "    some_step = X_train.max(0) - y_train\n",
    "    y_train = some_step + X_train\n",
    "    return None"
   ]
  },
  {
   "cell_type": "code",
   "execution_count": null,
   "metadata": {
    "ExecuteTime": {
     "end_time": "2020-03-02T07:01:05.235630Z",
     "start_time": "2020-03-02T07:01:05.210420Z"
    },
    "execution": {
     "iopub.status.busy": "2020-06-02T12:35:17.822059Z",
     "iopub.status.idle": "2020-06-02T12:35:17.823056Z"
    },
    "hidden": true
   },
   "outputs": [],
   "source": [
    "X_train = np.random.random((10,3))\n",
    "y_train = np.random.random((10,1))\n",
    "\n",
    "alpha_detector(X_train, y_train)"
   ]
  },
  {
   "cell_type": "markdown",
   "metadata": {
    "hidden": true
   },
   "source": [
    "Debugging is considered better than adding print statements"
   ]
  },
  {
   "cell_type": "code",
   "execution_count": null,
   "metadata": {
    "ExecuteTime": {
     "end_time": "2020-03-02T07:01:09.472269Z",
     "start_time": "2020-03-02T07:01:06.808063Z"
    },
    "execution": {
     "iopub.status.busy": "2020-06-02T12:35:17.825052Z",
     "iopub.status.idle": "2020-06-02T12:35:17.826063Z"
    },
    "hidden": true
   },
   "outputs": [],
   "source": [
    "%debug"
   ]
  },
  {
   "cell_type": "markdown",
   "metadata": {
    "heading_collapsed": true
   },
   "source": [
    "## Figure out how?"
   ]
  },
  {
   "cell_type": "code",
   "execution_count": 70,
   "metadata": {
    "ExecuteTime": {
     "end_time": "2020-03-02T07:01:27.888145Z",
     "start_time": "2020-03-02T07:01:27.863795Z"
    },
    "execution": {
     "iopub.execute_input": "2020-06-02T12:48:46.052820Z",
     "iopub.status.busy": "2020-06-02T12:48:46.052820Z",
     "iopub.status.idle": "2020-06-02T12:48:46.060799Z",
     "shell.execute_reply": "2020-06-02T12:48:46.059801Z",
     "shell.execute_reply.started": "2020-06-02T12:48:46.052820Z"
    },
    "hidden": true
   },
   "outputs": [],
   "source": [
    "class G:\n",
    "    def __init__(self,s):\n",
    "        self.s = s\n",
    "    def __getattr__(self,t):\n",
    "        return G(self.s+'.in')\n",
    "    def __rmatmul__(self, other):\n",
    "        return other+'#'+self.s\n",
    "\n",
    "algotrading, quantinsti = 'algotrading', G('quantinsti')"
   ]
  },
  {
   "cell_type": "code",
   "execution_count": 74,
   "metadata": {
    "ExecuteTime": {
     "end_time": "2020-03-02T07:01:28.484232Z",
     "start_time": "2020-03-02T07:01:28.459804Z"
    },
    "execution": {
     "iopub.execute_input": "2020-06-02T12:55:44.053115Z",
     "iopub.status.busy": "2020-06-02T12:55:44.053115Z",
     "iopub.status.idle": "2020-06-02T12:55:44.064086Z",
     "shell.execute_reply": "2020-06-02T12:55:44.063088Z",
     "shell.execute_reply.started": "2020-06-02T12:55:44.053115Z"
    },
    "hidden": true
   },
   "outputs": [
    {
     "name": "stdout",
     "output_type": "stream",
     "text": [
      "  algotrading@quantinsti.com \n",
      "  algotrading#quantinsti.in\n"
     ]
    },
    {
     "data": {
      "text/plain": [
       "\"'algotrading@quantinsti.com'\""
      ]
     },
     "execution_count": 74,
     "metadata": {},
     "output_type": "execute_result"
    }
   ],
   "source": [
    "string = \"algotrading@quantinsti.com\"\n",
    "print(\" \",string,\"\\n \",eval(string))\n",
    "repr(string)"
   ]
  },
  {
   "cell_type": "markdown",
   "metadata": {
    "heading_collapsed": true
   },
   "source": [
    "## References"
   ]
  },
  {
   "cell_type": "markdown",
   "metadata": {
    "hidden": true
   },
   "source": [
    " - http://hilpisch.com/py4fi_oop_epat.html\n",
    " - [Fluent Python by Luciano Ramalho](https://www.amazon.in/Fluent-Python-Luciano-Ramalho/dp/1491946008)\n",
    " - [Data Structures and Algorithms in Python by Michael T. Goodrich et al](https://www.amazon.in/Structures-Algorithms-Python-Michael-Goodrich/dp/1118290275)\n",
    " - https://realpython.com/"
   ]
  }
 ],
 "metadata": {
  "kernelspec": {
   "display_name": "Python 3",
   "language": "python",
   "name": "python3"
  },
  "language_info": {
   "codemirror_mode": {
    "name": "ipython",
    "version": 3
   },
   "file_extension": ".py",
   "mimetype": "text/x-python",
   "name": "python",
   "nbconvert_exporter": "python",
   "pygments_lexer": "ipython3",
   "version": "3.7.7"
  },
  "varInspector": {
   "cols": {
    "lenName": 16,
    "lenType": 16,
    "lenVar": 40
   },
   "kernels_config": {
    "python": {
     "delete_cmd_postfix": "",
     "delete_cmd_prefix": "del ",
     "library": "var_list.py",
     "varRefreshCmd": "print(var_dic_list())"
    },
    "r": {
     "delete_cmd_postfix": ") ",
     "delete_cmd_prefix": "rm(",
     "library": "var_list.r",
     "varRefreshCmd": "cat(var_dic_list()) "
    }
   },
   "types_to_exclude": [
    "module",
    "function",
    "builtin_function_or_method",
    "instance",
    "_Feature"
   ],
   "window_display": false
  }
 },
 "nbformat": 4,
 "nbformat_minor": 4
}
