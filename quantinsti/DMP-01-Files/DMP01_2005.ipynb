{
 "cells": [
  {
   "cell_type": "markdown",
   "metadata": {},
   "source": [
    "### Strategy Backtesting Using Python (DMP-1)\n",
    "#### Notebook Created on:  15 May 2020\n",
    "##### Last Update: 21 May 2020\n",
    "##### Author: Vivek Krishnamoorthy (with inputs from Mario Pisa Pena, Jay Parmar and Ashutosh Dave)"
   ]
  },
  {
   "cell_type": "markdown",
   "metadata": {},
   "source": [
    "### Today's Agenda\n",
    "\n",
    "\n",
    "- Step-wise approach to creating and testing trading strategies (slides)\n",
    "- Strategy 1A: Simple moving averages (on 5 minute data)\n",
    "- Strategy 1B: Exponential moving averages (on 5 minute data)\n",
    "- Strategy 2: Big moves on Mondays\n",
    "- Strategy 3: Moving average crossover (The “Hello World” of quant trading approaches)\n",
    "- Strategy 4: MACD (if time permits)\n",
    "- A glimpse at the `Pyfolio` tear-sheet\n",
    "- Automating the download of multiple stocks\n",
    "\n",
    "\n"
   ]
  },
  {
   "cell_type": "markdown",
   "metadata": {},
   "source": [
    "### Warming up - Basic applications of Moving Averages\n",
    "\n",
    "#### Strategy # 1A: Simple Moving Average *(Long only)*\n",
    "\n",
    "<div class=\"alert alert-info\"><strong>Step I: Coming up with a trading idea</strong>\n",
    "\n",
    "<br>We determine the 12-period simple moving average (referred to as 'SMA12') and compare it with the price at that time. We (subjectively) select 12 since SMA12 would be the average price over one hour.\n",
    "\n",
    "There are two conditions which we check.\n",
    "\n",
    "1. If the price is greater than the SMA12, we go long. We continue to stay invested until the sell condition is satisfied.\n",
    "\n",
    "2. When the price becomes less than the SMA12, we square off our long position.\n",
    "\n",
    "Our trading rules can be stated as\n",
    "\n",
    "* Buy when price > SMA12\n",
    "* Square off price < SMA12\n",
    "</div>"
   ]
  },
  {
   "cell_type": "code",
   "execution_count": null,
   "metadata": {},
   "outputs": [],
   "source": [
    "#################################################################\n",
    "################### Class Exercise 1 ############################\n",
    "############## Step II (downloading the data) ###################\n",
    "############## Step VII (contingency plan) ######################\n",
    "#################################################################\n",
    "\n",
    "# Import the required libraries with the usual shorthand notations where possible\n",
    "# Create a variable called end1 for the date 15th May 2020. Use the datetime library.\n",
    "# Create a variable start1 which is 50 days before end1\n",
    "# Use the yfinance library to download the data into a variable df for \"Nifty\" OHLCV data \n",
    "# between start1 and end1.\n",
    "# The data has to be at 5 minute intervals.\n",
    "# The download should be into a pandas DataFrame called df\n",
    "# Check the data type, the dimensions, the first few and last few rows of the pandas DataFrame\n",
    "# If above step looks fine, create a copy of df called df1a. (We will manipulate and work with the df1a DataFrame.)\n",
    "\n",
    "\n",
    "# **In case you do not have yfinance installed**, please use the attached csv file and import into pandas\n",
    "# Call the pandas DataFrame df\n",
    "# Check the data type, the dimensions, the first few and last few rows of df\n",
    "# Create a copy of df called df1a. (We will manipulate and work with the df1a DataFrame.)\n"
   ]
  },
  {
   "cell_type": "code",
   "execution_count": 1,
   "metadata": {
    "execution": {
     "iopub.execute_input": "2021-02-09T07:14:19.197886Z",
     "iopub.status.busy": "2021-02-09T07:14:19.197886Z",
     "iopub.status.idle": "2021-02-09T07:14:22.317323Z",
     "shell.execute_reply": "2021-02-09T07:14:22.317323Z",
     "shell.execute_reply.started": "2021-02-09T07:14:19.197886Z"
    }
   },
   "outputs": [],
   "source": [
    "import pandas as pd\n",
    "import numpy as np\n",
    "import datetime as dt\n",
    "import yfinance as yf\n",
    "import matplotlib.pyplot as plt\n",
    "import warnings\n",
    "%matplotlib inline \n",
    "warnings.filterwarnings('ignore')"
   ]
  },
  {
   "cell_type": "code",
   "execution_count": 2,
   "metadata": {
    "execution": {
     "iopub.execute_input": "2021-02-09T07:14:22.318333Z",
     "iopub.status.busy": "2021-02-09T07:14:22.318333Z",
     "iopub.status.idle": "2021-02-09T07:14:23.584693Z",
     "shell.execute_reply": "2021-02-09T07:14:23.584693Z",
     "shell.execute_reply.started": "2021-02-09T07:14:22.318333Z"
    }
   },
   "outputs": [
    {
     "name": "stdout",
     "output_type": "stream",
     "text": [
      "[*********************100%***********************]  1 of 1 completed\n"
     ]
    },
    {
     "data": {
      "text/html": [
       "<div>\n",
       "<style scoped>\n",
       "    .dataframe tbody tr th:only-of-type {\n",
       "        vertical-align: middle;\n",
       "    }\n",
       "\n",
       "    .dataframe tbody tr th {\n",
       "        vertical-align: top;\n",
       "    }\n",
       "\n",
       "    .dataframe thead th {\n",
       "        text-align: right;\n",
       "    }\n",
       "</style>\n",
       "<table border=\"1\" class=\"dataframe\">\n",
       "  <thead>\n",
       "    <tr style=\"text-align: right;\">\n",
       "      <th></th>\n",
       "      <th>Open</th>\n",
       "      <th>High</th>\n",
       "      <th>Low</th>\n",
       "      <th>Close</th>\n",
       "      <th>Adj Close</th>\n",
       "      <th>Volume</th>\n",
       "    </tr>\n",
       "    <tr>\n",
       "      <th>Datetime</th>\n",
       "      <th></th>\n",
       "      <th></th>\n",
       "      <th></th>\n",
       "      <th></th>\n",
       "      <th></th>\n",
       "      <th></th>\n",
       "    </tr>\n",
       "  </thead>\n",
       "  <tbody>\n",
       "    <tr>\n",
       "      <th>2020-12-21 09:15:00+05:30</th>\n",
       "      <td>2859.149902</td>\n",
       "      <td>2873.550049</td>\n",
       "      <td>2854.350098</td>\n",
       "      <td>2855.350098</td>\n",
       "      <td>2855.350098</td>\n",
       "      <td>0</td>\n",
       "    </tr>\n",
       "    <tr>\n",
       "      <th>2020-12-21 09:20:00+05:30</th>\n",
       "      <td>2854.399902</td>\n",
       "      <td>2854.949951</td>\n",
       "      <td>2843.850098</td>\n",
       "      <td>2843.850098</td>\n",
       "      <td>2843.850098</td>\n",
       "      <td>72090</td>\n",
       "    </tr>\n",
       "    <tr>\n",
       "      <th>2020-12-21 09:25:00+05:30</th>\n",
       "      <td>2843.600098</td>\n",
       "      <td>2848.750000</td>\n",
       "      <td>2841.300049</td>\n",
       "      <td>2845.399902</td>\n",
       "      <td>2845.399902</td>\n",
       "      <td>38060</td>\n",
       "    </tr>\n",
       "    <tr>\n",
       "      <th>2020-12-21 09:30:00+05:30</th>\n",
       "      <td>2845.149902</td>\n",
       "      <td>2859.699951</td>\n",
       "      <td>2845.149902</td>\n",
       "      <td>2853.000000</td>\n",
       "      <td>2853.000000</td>\n",
       "      <td>50398</td>\n",
       "    </tr>\n",
       "    <tr>\n",
       "      <th>2020-12-21 09:35:00+05:30</th>\n",
       "      <td>2853.699951</td>\n",
       "      <td>2856.699951</td>\n",
       "      <td>2850.399902</td>\n",
       "      <td>2855.350098</td>\n",
       "      <td>2855.350098</td>\n",
       "      <td>26079</td>\n",
       "    </tr>\n",
       "  </tbody>\n",
       "</table>\n",
       "</div>"
      ],
      "text/plain": [
       "                                  Open         High          Low        Close  \\\n",
       "Datetime                                                                        \n",
       "2020-12-21 09:15:00+05:30  2859.149902  2873.550049  2854.350098  2855.350098   \n",
       "2020-12-21 09:20:00+05:30  2854.399902  2854.949951  2843.850098  2843.850098   \n",
       "2020-12-21 09:25:00+05:30  2843.600098  2848.750000  2841.300049  2845.399902   \n",
       "2020-12-21 09:30:00+05:30  2845.149902  2859.699951  2845.149902  2853.000000   \n",
       "2020-12-21 09:35:00+05:30  2853.699951  2856.699951  2850.399902  2855.350098   \n",
       "\n",
       "                             Adj Close  Volume  \n",
       "Datetime                                        \n",
       "2020-12-21 09:15:00+05:30  2855.350098       0  \n",
       "2020-12-21 09:20:00+05:30  2843.850098   72090  \n",
       "2020-12-21 09:25:00+05:30  2845.399902   38060  \n",
       "2020-12-21 09:30:00+05:30  2853.000000   50398  \n",
       "2020-12-21 09:35:00+05:30  2855.350098   26079  "
      ]
     },
     "execution_count": 2,
     "metadata": {},
     "output_type": "execute_result"
    }
   ],
   "source": [
    "end = dt.datetime.now().date()\n",
    "\n",
    "start = end - dt.timedelta(days=50)\n",
    "\n",
    "df = yf.download('TCS.NS',start,end,interval= '5m')\n",
    "df.head()"
   ]
  },
  {
   "cell_type": "code",
   "execution_count": 27,
   "metadata": {
    "execution": {
     "iopub.execute_input": "2021-02-09T07:26:09.199492Z",
     "iopub.status.busy": "2021-02-09T07:26:09.199492Z",
     "iopub.status.idle": "2021-02-09T07:26:09.210481Z",
     "shell.execute_reply": "2021-02-09T07:26:09.210481Z",
     "shell.execute_reply.started": "2021-02-09T07:26:09.199492Z"
    },
    "scrolled": true
   },
   "outputs": [
    {
     "data": {
      "text/plain": [
       "True"
      ]
     },
     "execution_count": 27,
     "metadata": {},
     "output_type": "execute_result"
    }
   ],
   "source": [
    "import talib\n",
    "\"EMA\" in talib.get_functions()\n",
    "\n",
    "talib.EMA()"
   ]
  },
  {
   "cell_type": "code",
   "execution_count": 28,
   "metadata": {
    "execution": {
     "iopub.execute_input": "2021-02-09T07:27:12.892320Z",
     "iopub.status.busy": "2021-02-09T07:27:12.891313Z",
     "iopub.status.idle": "2021-02-09T07:27:12.897317Z",
     "shell.execute_reply": "2021-02-09T07:27:12.897317Z",
     "shell.execute_reply.started": "2021-02-09T07:27:12.892320Z"
    }
   },
   "outputs": [],
   "source": [
    "def Moving_average (small =int(), large = int(),dataframe=pd.DataFrame ):\n",
    "    \n",
    "    dataframe['small_sma '] = dataframe['Adj Close'].rolling(small).mean()\n",
    "    \n",
    "    dataframe['large_sma '] = dataframe['Adj Close'].rolling(large).mean()\n",
    "    \n",
    "    dataframe['ema']  = talib.EMA(dataframe['Adj Close'], small)\n",
    "    \n",
    "    return dataframe\n",
    "\n",
    "\n",
    "def strategy (dataframe=pd.DataFrame):\n",
    "    \n",
    "    dataframe['position'] =  np.where(dataframe['small_sma '] >dataframe['large_sma '], 1,0)\n",
    "    \n",
    "    dataframe['cc_returns']  = dataframe['Adj Close'].pct_change()\n",
    "    \n",
    "    dataframe['ss_returns'] =  dataframe['cc_returns'] * dataframe['position']\n",
    "    \n",
    "    return dataframe"
   ]
  },
  {
   "cell_type": "code",
   "execution_count": 31,
   "metadata": {
    "execution": {
     "iopub.execute_input": "2021-02-09T07:27:28.478028Z",
     "iopub.status.busy": "2021-02-09T07:27:28.477020Z",
     "iopub.status.idle": "2021-02-09T07:27:28.504525Z",
     "shell.execute_reply": "2021-02-09T07:27:28.503533Z",
     "shell.execute_reply.started": "2021-02-09T07:27:28.478028Z"
    }
   },
   "outputs": [
    {
     "data": {
      "text/html": [
       "<div>\n",
       "<style scoped>\n",
       "    .dataframe tbody tr th:only-of-type {\n",
       "        vertical-align: middle;\n",
       "    }\n",
       "\n",
       "    .dataframe tbody tr th {\n",
       "        vertical-align: top;\n",
       "    }\n",
       "\n",
       "    .dataframe thead th {\n",
       "        text-align: right;\n",
       "    }\n",
       "</style>\n",
       "<table border=\"1\" class=\"dataframe\">\n",
       "  <thead>\n",
       "    <tr style=\"text-align: right;\">\n",
       "      <th></th>\n",
       "      <th>Open</th>\n",
       "      <th>High</th>\n",
       "      <th>Low</th>\n",
       "      <th>Close</th>\n",
       "      <th>Adj Close</th>\n",
       "      <th>Volume</th>\n",
       "      <th>small_sma</th>\n",
       "      <th>large_sma</th>\n",
       "      <th>ema</th>\n",
       "      <th>position</th>\n",
       "      <th>cc_returns</th>\n",
       "      <th>ss_returns</th>\n",
       "    </tr>\n",
       "    <tr>\n",
       "      <th>Datetime</th>\n",
       "      <th></th>\n",
       "      <th></th>\n",
       "      <th></th>\n",
       "      <th></th>\n",
       "      <th></th>\n",
       "      <th></th>\n",
       "      <th></th>\n",
       "      <th></th>\n",
       "      <th></th>\n",
       "      <th></th>\n",
       "      <th></th>\n",
       "      <th></th>\n",
       "    </tr>\n",
       "  </thead>\n",
       "  <tbody>\n",
       "    <tr>\n",
       "      <th>2020-03-26 09:15:00+05:30</th>\n",
       "      <td>8451.000000</td>\n",
       "      <td>8457.650391</td>\n",
       "      <td>8338.400391</td>\n",
       "      <td>8339.349609</td>\n",
       "      <td>8339.349609</td>\n",
       "      <td>0</td>\n",
       "      <td>NaN</td>\n",
       "      <td>NaN</td>\n",
       "      <td>NaN</td>\n",
       "      <td>0</td>\n",
       "      <td>NaN</td>\n",
       "      <td>NaN</td>\n",
       "    </tr>\n",
       "    <tr>\n",
       "      <th>2020-03-26 09:20:00+05:30</th>\n",
       "      <td>8336.400391</td>\n",
       "      <td>8411.799805</td>\n",
       "      <td>8309.950195</td>\n",
       "      <td>8396.650391</td>\n",
       "      <td>8396.650391</td>\n",
       "      <td>0</td>\n",
       "      <td>NaN</td>\n",
       "      <td>NaN</td>\n",
       "      <td>NaN</td>\n",
       "      <td>0</td>\n",
       "      <td>0.006871</td>\n",
       "      <td>0.0</td>\n",
       "    </tr>\n",
       "    <tr>\n",
       "      <th>2020-03-26 09:25:00+05:30</th>\n",
       "      <td>8396.849609</td>\n",
       "      <td>8476.950195</td>\n",
       "      <td>8372.099609</td>\n",
       "      <td>8476.599609</td>\n",
       "      <td>8476.599609</td>\n",
       "      <td>0</td>\n",
       "      <td>NaN</td>\n",
       "      <td>NaN</td>\n",
       "      <td>NaN</td>\n",
       "      <td>0</td>\n",
       "      <td>0.009522</td>\n",
       "      <td>0.0</td>\n",
       "    </tr>\n",
       "    <tr>\n",
       "      <th>2020-03-26 09:30:00+05:30</th>\n",
       "      <td>8476.900391</td>\n",
       "      <td>8518.450195</td>\n",
       "      <td>8460.000000</td>\n",
       "      <td>8488.400391</td>\n",
       "      <td>8488.400391</td>\n",
       "      <td>0</td>\n",
       "      <td>NaN</td>\n",
       "      <td>NaN</td>\n",
       "      <td>NaN</td>\n",
       "      <td>0</td>\n",
       "      <td>0.001392</td>\n",
       "      <td>0.0</td>\n",
       "    </tr>\n",
       "    <tr>\n",
       "      <th>2020-03-26 09:35:00+05:30</th>\n",
       "      <td>8490.099609</td>\n",
       "      <td>8515.000000</td>\n",
       "      <td>8482.349609</td>\n",
       "      <td>8487.500000</td>\n",
       "      <td>8487.500000</td>\n",
       "      <td>0</td>\n",
       "      <td>8437.700000</td>\n",
       "      <td>NaN</td>\n",
       "      <td>8437.700000</td>\n",
       "      <td>0</td>\n",
       "      <td>-0.000106</td>\n",
       "      <td>-0.0</td>\n",
       "    </tr>\n",
       "    <tr>\n",
       "      <th>2020-03-26 09:40:00+05:30</th>\n",
       "      <td>8487.400391</td>\n",
       "      <td>8513.799805</td>\n",
       "      <td>8462.450195</td>\n",
       "      <td>8513.799805</td>\n",
       "      <td>8513.799805</td>\n",
       "      <td>0</td>\n",
       "      <td>8472.590039</td>\n",
       "      <td>NaN</td>\n",
       "      <td>8463.066602</td>\n",
       "      <td>0</td>\n",
       "      <td>0.003099</td>\n",
       "      <td>0.0</td>\n",
       "    </tr>\n",
       "    <tr>\n",
       "      <th>2020-03-26 09:45:00+05:30</th>\n",
       "      <td>8513.650391</td>\n",
       "      <td>8535.250000</td>\n",
       "      <td>8476.000000</td>\n",
       "      <td>8484.950195</td>\n",
       "      <td>8484.950195</td>\n",
       "      <td>0</td>\n",
       "      <td>8490.250000</td>\n",
       "      <td>NaN</td>\n",
       "      <td>8470.361133</td>\n",
       "      <td>0</td>\n",
       "      <td>-0.003389</td>\n",
       "      <td>-0.0</td>\n",
       "    </tr>\n",
       "    <tr>\n",
       "      <th>2020-03-26 09:50:00+05:30</th>\n",
       "      <td>8483.700195</td>\n",
       "      <td>8546.500000</td>\n",
       "      <td>8483.700195</td>\n",
       "      <td>8544.599609</td>\n",
       "      <td>8544.599609</td>\n",
       "      <td>0</td>\n",
       "      <td>8503.850000</td>\n",
       "      <td>NaN</td>\n",
       "      <td>8495.107292</td>\n",
       "      <td>0</td>\n",
       "      <td>0.007030</td>\n",
       "      <td>0.0</td>\n",
       "    </tr>\n",
       "    <tr>\n",
       "      <th>2020-03-26 09:55:00+05:30</th>\n",
       "      <td>8545.200195</td>\n",
       "      <td>8606.450195</td>\n",
       "      <td>8544.349609</td>\n",
       "      <td>8605.650391</td>\n",
       "      <td>8605.650391</td>\n",
       "      <td>0</td>\n",
       "      <td>8527.300000</td>\n",
       "      <td>NaN</td>\n",
       "      <td>8531.954991</td>\n",
       "      <td>0</td>\n",
       "      <td>0.007145</td>\n",
       "      <td>0.0</td>\n",
       "    </tr>\n",
       "    <tr>\n",
       "      <th>2020-03-26 10:00:00+05:30</th>\n",
       "      <td>8606.150391</td>\n",
       "      <td>8654.700195</td>\n",
       "      <td>8582.799805</td>\n",
       "      <td>8626.700195</td>\n",
       "      <td>8626.700195</td>\n",
       "      <td>0</td>\n",
       "      <td>8555.140039</td>\n",
       "      <td>NaN</td>\n",
       "      <td>8563.536726</td>\n",
       "      <td>0</td>\n",
       "      <td>0.002446</td>\n",
       "      <td>0.0</td>\n",
       "    </tr>\n",
       "  </tbody>\n",
       "</table>\n",
       "</div>"
      ],
      "text/plain": [
       "                                  Open         High          Low        Close  \\\n",
       "Datetime                                                                        \n",
       "2020-03-26 09:15:00+05:30  8451.000000  8457.650391  8338.400391  8339.349609   \n",
       "2020-03-26 09:20:00+05:30  8336.400391  8411.799805  8309.950195  8396.650391   \n",
       "2020-03-26 09:25:00+05:30  8396.849609  8476.950195  8372.099609  8476.599609   \n",
       "2020-03-26 09:30:00+05:30  8476.900391  8518.450195  8460.000000  8488.400391   \n",
       "2020-03-26 09:35:00+05:30  8490.099609  8515.000000  8482.349609  8487.500000   \n",
       "2020-03-26 09:40:00+05:30  8487.400391  8513.799805  8462.450195  8513.799805   \n",
       "2020-03-26 09:45:00+05:30  8513.650391  8535.250000  8476.000000  8484.950195   \n",
       "2020-03-26 09:50:00+05:30  8483.700195  8546.500000  8483.700195  8544.599609   \n",
       "2020-03-26 09:55:00+05:30  8545.200195  8606.450195  8544.349609  8605.650391   \n",
       "2020-03-26 10:00:00+05:30  8606.150391  8654.700195  8582.799805  8626.700195   \n",
       "\n",
       "                             Adj Close  Volume   small_sma   large_sma   \\\n",
       "Datetime                                                                  \n",
       "2020-03-26 09:15:00+05:30  8339.349609       0          NaN         NaN   \n",
       "2020-03-26 09:20:00+05:30  8396.650391       0          NaN         NaN   \n",
       "2020-03-26 09:25:00+05:30  8476.599609       0          NaN         NaN   \n",
       "2020-03-26 09:30:00+05:30  8488.400391       0          NaN         NaN   \n",
       "2020-03-26 09:35:00+05:30  8487.500000       0  8437.700000         NaN   \n",
       "2020-03-26 09:40:00+05:30  8513.799805       0  8472.590039         NaN   \n",
       "2020-03-26 09:45:00+05:30  8484.950195       0  8490.250000         NaN   \n",
       "2020-03-26 09:50:00+05:30  8544.599609       0  8503.850000         NaN   \n",
       "2020-03-26 09:55:00+05:30  8605.650391       0  8527.300000         NaN   \n",
       "2020-03-26 10:00:00+05:30  8626.700195       0  8555.140039         NaN   \n",
       "\n",
       "                                   ema  position  cc_returns  ss_returns  \n",
       "Datetime                                                                  \n",
       "2020-03-26 09:15:00+05:30          NaN         0         NaN         NaN  \n",
       "2020-03-26 09:20:00+05:30          NaN         0    0.006871         0.0  \n",
       "2020-03-26 09:25:00+05:30          NaN         0    0.009522         0.0  \n",
       "2020-03-26 09:30:00+05:30          NaN         0    0.001392         0.0  \n",
       "2020-03-26 09:35:00+05:30  8437.700000         0   -0.000106        -0.0  \n",
       "2020-03-26 09:40:00+05:30  8463.066602         0    0.003099         0.0  \n",
       "2020-03-26 09:45:00+05:30  8470.361133         0   -0.003389        -0.0  \n",
       "2020-03-26 09:50:00+05:30  8495.107292         0    0.007030         0.0  \n",
       "2020-03-26 09:55:00+05:30  8531.954991         0    0.007145         0.0  \n",
       "2020-03-26 10:00:00+05:30  8563.536726         0    0.002446         0.0  "
      ]
     },
     "execution_count": 31,
     "metadata": {},
     "output_type": "execute_result"
    }
   ],
   "source": [
    "Moving_average(5,30,df)\n",
    "\n",
    "df1 = df.copy() \n",
    "\n",
    "df1 = strategy(df1)\n",
    "\n",
    "df1.head(10)"
   ]
  },
  {
   "cell_type": "code",
   "execution_count": 5,
   "metadata": {
    "execution": {
     "iopub.execute_input": "2021-02-09T07:14:29.098415Z",
     "iopub.status.busy": "2021-02-09T07:14:29.097405Z",
     "iopub.status.idle": "2021-02-09T07:14:29.106411Z",
     "shell.execute_reply": "2021-02-09T07:14:29.106411Z",
     "shell.execute_reply.started": "2021-02-09T07:14:29.097405Z"
    }
   },
   "outputs": [
    {
     "data": {
      "text/plain": [
       "1    1425\n",
       "0    1125\n",
       "Name: position, dtype: int64"
      ]
     },
     "execution_count": 5,
     "metadata": {},
     "output_type": "execute_result"
    }
   ],
   "source": [
    "df1 = pd.DataFrame(df1,columns =['Open', 'High', 'Low', 'Close', 'Adj Close', 'Volume', 'small_sma ',\n",
    "       'large_sma ', 'cc_returns', 'position','ss_returns'] )\n",
    "\n",
    "df1['position'].value_counts()"
   ]
  },
  {
   "cell_type": "code",
   "execution_count": 6,
   "metadata": {
    "execution": {
     "iopub.execute_input": "2021-02-09T07:14:30.441404Z",
     "iopub.status.busy": "2021-02-09T07:14:30.441404Z",
     "iopub.status.idle": "2021-02-09T07:14:30.450941Z",
     "shell.execute_reply": "2021-02-09T07:14:30.449939Z",
     "shell.execute_reply.started": "2021-02-09T07:14:30.441404Z"
    }
   },
   "outputs": [
    {
     "name": "stdout",
     "output_type": "stream",
     "text": [
      "these are returns of the strategy 20.697876376828095\n"
     ]
    }
   ],
   "source": [
    "print(f\"these are returns of the strategy {((df1['ss_returns'] +1).cumprod()[-1] -1 ) *100}\")"
   ]
  },
  {
   "cell_type": "markdown",
   "metadata": {},
   "source": [
    "```python\n",
    "\n",
    "import pandas as pd\n",
    "import numpy as np\n",
    "import datetime as dt\n",
    "import yfinance as yf\n",
    "import matplotlib.pyplot as plt\n",
    "import warnings\n",
    "\n",
    "warnings.filterwarnings('ignore')\n",
    "\n",
    "\n",
    "end1 = datetime.date(2020, 5, 15)\n",
    "start1 = end1 - pd.Timedelta(days=50)\n",
    "\n",
    "df = yf.download(\"^NSEI\", start=start1, end=end1, interval=\"5m\" )\n",
    "print(type(df))\n",
    "print(df.shape)\n",
    "print(df.head())\n",
    "print(df.tail())\n",
    "\n",
    "# **ONLY** run the below lines if you have trouble with the library yfinance \n",
    "\n",
    "\n",
    "df = pd.read_csv(\"NSE_5min_interval.csv\", index_col=0, parse_dates=True)\n",
    "print(type(df))\n",
    "print(df.shape)\n",
    "print(df.head())\n",
    "print(df.tail())\n",
    "\n",
    "df1a = df.copy()\n",
    "\n",
    "```"
   ]
  },
  {
   "cell_type": "code",
   "execution_count": 7,
   "metadata": {
    "execution": {
     "iopub.execute_input": "2021-02-09T07:14:31.643118Z",
     "iopub.status.busy": "2021-02-09T07:14:31.643118Z",
     "iopub.status.idle": "2021-02-09T07:14:31.653646Z",
     "shell.execute_reply": "2021-02-09T07:14:31.652647Z",
     "shell.execute_reply.started": "2021-02-09T07:14:31.643118Z"
    }
   },
   "outputs": [],
   "source": [
    "#############################################################################\n",
    "###################### IGNORE THIS CELL #####################################\n",
    "#############################################################################\n",
    "\n",
    "# mydateparser = lambda x: pd.datetime.strptime(x, \"%Y-%m-%d %H:%M:%S%z\")\n",
    "# df1.to_csv(\"NSE_5min_interval.csv\")\n",
    "# df1 = pd.read_csv(\"NSE_5min_interval.csv\", index_col=0, parse_dates=True)\n",
    "# df1 = pd.read_csv(\"NSE_5min_interval.csv\", index_col=0, parse_dates=True, date_parser=mydateparser)"
   ]
  },
  {
   "cell_type": "code",
   "execution_count": 8,
   "metadata": {
    "execution": {
     "iopub.execute_input": "2021-02-09T07:14:32.082032Z",
     "iopub.status.busy": "2021-02-09T07:14:32.082032Z",
     "iopub.status.idle": "2021-02-09T07:14:32.099041Z",
     "shell.execute_reply": "2021-02-09T07:14:32.098032Z",
     "shell.execute_reply.started": "2021-02-09T07:14:32.082032Z"
    }
   },
   "outputs": [
    {
     "data": {
      "text/plain": [
       "\"IMPORTANT ASSUMPTION: Assume that when you get the signal to go long, you buy at the 'Close' price 5 minutes later\""
      ]
     },
     "execution_count": 8,
     "metadata": {},
     "output_type": "execute_result"
    }
   ],
   "source": [
    "################################################################\n",
    "################### Class Exercise 2 ###########################\n",
    "##### Step III (Calculate indicators, create rules, etc) #######\n",
    "##### Step IV (Program it stepwise and check periodically) #####\n",
    "################################################################\n",
    "\n",
    "\n",
    "# Plot the 'Open', 'High', 'Low', Close' prices for 12 May 2020\n",
    "# Delete the columns 'High', 'Low' and Volume' from df1a\n",
    "# Create a column called 'cc_returns' which shows returns between successive 'Close' prices\n",
    "# Create a variable called sma and assign it a value 12\n",
    "# Create a column called 'sma' which is the 12-period moving average of the 'Close' price\n",
    "# Create a column called 'position' which takes the value 1 when you go long (based on the given condition) and 0 otherwise\n",
    "'''IMPORTANT ASSUMPTION: Assume that when you get the signal to go long, you buy at the 'Close' price 5 minutes later'''\n",
    "# Make any required changes in 'position' accordingly\n",
    "# Check the number of 1s and 0s in 'position'. What does it tell you?"
   ]
  },
  {
   "cell_type": "code",
   "execution_count": 13,
   "metadata": {
    "execution": {
     "iopub.execute_input": "2021-02-09T07:16:04.805270Z",
     "iopub.status.busy": "2021-02-09T07:16:04.805270Z",
     "iopub.status.idle": "2021-02-09T07:16:04.857778Z",
     "shell.execute_reply": "2021-02-09T07:16:04.856790Z",
     "shell.execute_reply.started": "2021-02-09T07:16:04.805270Z"
    }
   },
   "outputs": [
    {
     "name": "stdout",
     "output_type": "stream",
     "text": [
      "<class 'pandas.core.frame.DataFrame'>\n",
      "(2242, 6)\n",
      "                                  Open         High          Low        Close  \\\n",
      "Datetime                                                                        \n",
      "2020-03-26 09:15:00+05:30  8451.000000  8457.650391  8338.400391  8339.349609   \n",
      "2020-03-26 09:20:00+05:30  8336.400391  8411.799805  8309.950195  8396.650391   \n",
      "2020-03-26 09:25:00+05:30  8396.849609  8476.950195  8372.099609  8476.599609   \n",
      "2020-03-26 09:30:00+05:30  8476.900391  8518.450195  8460.000000  8488.400391   \n",
      "2020-03-26 09:35:00+05:30  8490.099609  8515.000000  8482.349609  8487.500000   \n",
      "\n",
      "                             Adj Close  Volume  \n",
      "Datetime                                        \n",
      "2020-03-26 09:15:00+05:30  8339.349609       0  \n",
      "2020-03-26 09:20:00+05:30  8396.650391       0  \n",
      "2020-03-26 09:25:00+05:30  8476.599609       0  \n",
      "2020-03-26 09:30:00+05:30  8488.400391       0  \n",
      "2020-03-26 09:35:00+05:30  8487.500000       0  \n",
      "                                  Open         High          Low        Close  \\\n",
      "Datetime                                                                        \n",
      "2020-05-14 15:05:00+05:30  9152.250000  9152.500000  9146.500000  9149.400391   \n",
      "2020-05-14 15:10:00+05:30  9149.049805  9152.750000  9134.200195  9137.299805   \n",
      "2020-05-14 15:15:00+05:30  9136.799805  9140.450195  9132.000000  9139.950195   \n",
      "2020-05-14 15:20:00+05:30  9139.400391  9151.349609  9130.250000  9145.500000   \n",
      "2020-05-14 15:25:00+05:30  9145.650391  9151.400391  9142.950195  9150.200195   \n",
      "\n",
      "                             Adj Close  Volume  \n",
      "Datetime                                        \n",
      "2020-05-14 15:05:00+05:30  9149.400391       0  \n",
      "2020-05-14 15:10:00+05:30  9137.299805       0  \n",
      "2020-05-14 15:15:00+05:30  9139.950195       0  \n",
      "2020-05-14 15:20:00+05:30  9145.500000       0  \n",
      "2020-05-14 15:25:00+05:30  9150.200195       0  \n"
     ]
    },
    {
     "data": {
      "text/plain": [
       "Index(['Open', 'High', 'Low', 'Close', 'Adj Close', 'Volume'], dtype='object')"
      ]
     },
     "execution_count": 13,
     "metadata": {},
     "output_type": "execute_result"
    }
   ],
   "source": [
    "df = pd.read_csv(\"NSE_5min_interval.csv\", index_col=0, parse_dates=True)\n",
    "print(type(df))\n",
    "print(df.shape)\n",
    "print(df.head())\n",
    "print(df.tail())\n",
    "\n",
    "df1a = df.copy()\n",
    "df1a = df.copy()\n",
    "\n",
    "df1a.columns"
   ]
  },
  {
   "cell_type": "code",
   "execution_count": 10,
   "metadata": {
    "execution": {
     "iopub.execute_input": "2021-02-09T07:14:33.600502Z",
     "iopub.status.busy": "2021-02-09T07:14:33.600502Z",
     "iopub.status.idle": "2021-02-09T07:14:33.613996Z",
     "shell.execute_reply": "2021-02-09T07:14:33.613996Z",
     "shell.execute_reply.started": "2021-02-09T07:14:33.600502Z"
    }
   },
   "outputs": [],
   "source": [
    "import matplotlib"
   ]
  },
  {
   "cell_type": "code",
   "execution_count": 14,
   "metadata": {
    "execution": {
     "iopub.execute_input": "2021-02-09T07:16:25.880271Z",
     "iopub.status.busy": "2021-02-09T07:16:25.880271Z",
     "iopub.status.idle": "2021-02-09T07:16:26.164833Z",
     "shell.execute_reply": "2021-02-09T07:16:26.163852Z",
     "shell.execute_reply.started": "2021-02-09T07:16:25.880271Z"
    }
   },
   "outputs": [
    {
     "data": {
      "text/plain": [
       "<AxesSubplot:xlabel='Datetime'>"
      ]
     },
     "execution_count": 14,
     "metadata": {},
     "output_type": "execute_result"
    },
    {
     "data": {
      "image/png": "[encoded data removed]",
      "text/plain": [
       "<Figure size 432x288 with 1 Axes>"
      ]
     },
     "metadata": {
      "needs_background": "light"
     },
     "output_type": "display_data"
    },
    {
     "data": {
      "image/png": "[encoded data removed]",
      "text/plain": [
       "<Figure size 1008x648 with 1 Axes>"
      ]
     },
     "metadata": {
      "needs_background": "light"
     },
     "output_type": "display_data"
    }
   ],
   "source": [
    "df1a['Open'].plot()\n",
    "\n",
    "df1a.loc['12 May 2020', ['Open', 'High', 'Low', 'Close']].plot(grid=True, linewidth=1, figsize=(14, 9))"
   ]
  },
  {
   "cell_type": "code",
   "execution_count": 18,
   "metadata": {
    "execution": {
     "iopub.execute_input": "2021-02-09T07:17:31.743174Z",
     "iopub.status.busy": "2021-02-09T07:17:31.743174Z",
     "iopub.status.idle": "2021-02-09T07:17:31.761684Z",
     "shell.execute_reply": "2021-02-09T07:17:31.761684Z",
     "shell.execute_reply.started": "2021-02-09T07:17:31.743174Z"
    }
   },
   "outputs": [
    {
     "name": "stdout",
     "output_type": "stream",
     "text": [
      "                                  Open        Close    Adj Close  cc_returns  \\\n",
      "Datetime                                                                       \n",
      "2020-03-26 09:15:00+05:30  8451.000000  8339.349609  8339.349609         NaN   \n",
      "2020-03-26 09:20:00+05:30  8336.400391  8396.650391  8396.650391    0.006871   \n",
      "2020-03-26 09:25:00+05:30  8396.849609  8476.599609  8476.599609    0.009522   \n",
      "2020-03-26 09:30:00+05:30  8476.900391  8488.400391  8488.400391    0.001392   \n",
      "2020-03-26 09:35:00+05:30  8490.099609  8487.500000  8487.500000   -0.000106   \n",
      "\n",
      "                           sma  position  \n",
      "Datetime                                  \n",
      "2020-03-26 09:15:00+05:30  NaN       NaN  \n",
      "2020-03-26 09:20:00+05:30  NaN       0.0  \n",
      "2020-03-26 09:25:00+05:30  NaN       0.0  \n",
      "2020-03-26 09:30:00+05:30  NaN       0.0  \n",
      "2020-03-26 09:35:00+05:30  NaN       0.0  \n",
      "                                  Open        Close    Adj Close  cc_returns  \\\n",
      "Datetime                                                                       \n",
      "2020-05-14 15:05:00+05:30  9152.250000  9149.400391  9149.400391   -0.000049   \n",
      "2020-05-14 15:10:00+05:30  9149.049805  9137.299805  9137.299805   -0.001323   \n",
      "2020-05-14 15:15:00+05:30  9136.799805  9139.950195  9139.950195    0.000290   \n",
      "2020-05-14 15:20:00+05:30  9139.400391  9145.500000  9145.500000    0.000607   \n",
      "2020-05-14 15:25:00+05:30  9145.650391  9150.200195  9150.200195    0.000514   \n",
      "\n",
      "                                   sma  position  \n",
      "Datetime                                          \n",
      "2020-05-14 15:05:00+05:30  9149.166585       1.0  \n",
      "2020-05-14 15:10:00+05:30  9148.541585       1.0  \n",
      "2020-05-14 15:15:00+05:30  9147.887451       0.0  \n",
      "2020-05-14 15:20:00+05:30  9147.991618       0.0  \n",
      "2020-05-14 15:25:00+05:30  9149.866618       0.0  \n"
     ]
    }
   ],
   "source": [
    "# df1a.drop(columns=['High', 'Low', 'Volume'], inplace=True)\n",
    "df1a['cc_returns'] = df1a['Close'].pct_change()\n",
    "sma = 12\n",
    "df1a['sma'] = df1a['Close'].rolling(window=sma).mean()\n",
    "print(df1a.head())\n",
    "print(df1a.tail())"
   ]
  },
  {
   "cell_type": "code",
   "execution_count": 16,
   "metadata": {
    "execution": {
     "iopub.execute_input": "2021-02-09T07:17:10.324534Z",
     "iopub.status.busy": "2021-02-09T07:17:10.324534Z",
     "iopub.status.idle": "2021-02-09T07:17:10.350049Z",
     "shell.execute_reply": "2021-02-09T07:17:10.349067Z",
     "shell.execute_reply.started": "2021-02-09T07:17:10.324534Z"
    }
   },
   "outputs": [
    {
     "name": "stdout",
     "output_type": "stream",
     "text": [
      "                                  Open        Close    Adj Close  cc_returns  \\\n",
      "Datetime                                                                       \n",
      "2020-03-26 09:15:00+05:30  8451.000000  8339.349609  8339.349609         NaN   \n",
      "2020-03-26 09:20:00+05:30  8336.400391  8396.650391  8396.650391    0.006871   \n",
      "2020-03-26 09:25:00+05:30  8396.849609  8476.599609  8476.599609    0.009522   \n",
      "2020-03-26 09:30:00+05:30  8476.900391  8488.400391  8488.400391    0.001392   \n",
      "2020-03-26 09:35:00+05:30  8490.099609  8487.500000  8487.500000   -0.000106   \n",
      "\n",
      "                           sma  position  \n",
      "Datetime                                  \n",
      "2020-03-26 09:15:00+05:30  NaN       NaN  \n",
      "2020-03-26 09:20:00+05:30  NaN       0.0  \n",
      "2020-03-26 09:25:00+05:30  NaN       0.0  \n",
      "2020-03-26 09:30:00+05:30  NaN       0.0  \n",
      "2020-03-26 09:35:00+05:30  NaN       0.0  \n",
      "                                  Open        Close    Adj Close  cc_returns  \\\n",
      "Datetime                                                                       \n",
      "2020-05-14 15:05:00+05:30  9152.250000  9149.400391  9149.400391   -0.000049   \n",
      "2020-05-14 15:10:00+05:30  9149.049805  9137.299805  9137.299805   -0.001323   \n",
      "2020-05-14 15:15:00+05:30  9136.799805  9139.950195  9139.950195    0.000290   \n",
      "2020-05-14 15:20:00+05:30  9139.400391  9145.500000  9145.500000    0.000607   \n",
      "2020-05-14 15:25:00+05:30  9145.650391  9150.200195  9150.200195    0.000514   \n",
      "\n",
      "                                   sma  position  \n",
      "Datetime                                          \n",
      "2020-05-14 15:05:00+05:30  9149.166585       1.0  \n",
      "2020-05-14 15:10:00+05:30  9148.541585       1.0  \n",
      "2020-05-14 15:15:00+05:30  9147.887451       0.0  \n",
      "2020-05-14 15:20:00+05:30  9147.991618       0.0  \n",
      "2020-05-14 15:25:00+05:30  9149.866618       0.0  \n"
     ]
    }
   ],
   "source": [
    "df1a['position'] = np.where((df1a['Close'] > df1a['sma']), 1, 0)\n",
    "df1a['position'] = df1a['position'].shift(1)\n",
    "\n",
    "df1a['position'].value_counts()\n",
    "print(df1a.head())\n",
    "print(df1a.tail())"
   ]
  },
  {
   "cell_type": "code",
   "execution_count": null,
   "metadata": {},
   "outputs": [],
   "source": []
  },
  {
   "cell_type": "markdown",
   "metadata": {},
   "source": [
    "```python\n",
    "\n",
    "df1a.loc['12 May 2020', ['Open', 'High', 'Low', 'Close']].plot(grid=True, linewidth=1, figsize=(14, 9))\n",
    "df1a.drop(columns=['High', 'Low', 'Volume'], inplace=True)\n",
    "df1a['cc_returns'] = df1a['Close'].pct_change()\n",
    "sma = 12\n",
    "df1a['sma'] = df1a['Close'].rolling(window=sma).mean()\n",
    "print(df1a.head())\n",
    "print(df1a.tail())\n",
    "df1a['position'] = np.where((df1a['Close'] > df1a['sma']), 1, 0)\n",
    "df1a['position'] = df1a['position'].shift(1)\n",
    "\n",
    "df1a['position'].value_counts()\n",
    "print(df1a.head())\n",
    "print(df1a.tail())\n",
    "```"
   ]
  },
  {
   "cell_type": "code",
   "execution_count": null,
   "metadata": {},
   "outputs": [],
   "source": [
    "################################################################\n",
    "################### Class Exercise 3 ###########################\n",
    "##### Step III (Calculate indicators, create rules, etc) #######\n",
    "##### Step IV (Program it stepwise and check periodically) #####\n",
    "################################################################\n",
    "\n",
    "# Create a column called 'strategy_returns' which has the strategy returns over the backtesting period\n",
    "# Check the first few and last few rows of the data frame\n",
    "# Plot the returns for a buy-and-hold approach and the strategy we just created\n",
    "# What are the cumulative returns in each case at the end of the period?"
   ]
  },
  {
   "cell_type": "code",
   "execution_count": 19,
   "metadata": {
    "execution": {
     "iopub.execute_input": "2021-02-09T07:17:50.330343Z",
     "iopub.status.busy": "2021-02-09T07:17:50.329357Z",
     "iopub.status.idle": "2021-02-09T07:17:50.490379Z",
     "shell.execute_reply": "2021-02-09T07:17:50.489392Z",
     "shell.execute_reply.started": "2021-02-09T07:17:50.330343Z"
    }
   },
   "outputs": [
    {
     "name": "stdout",
     "output_type": "stream",
     "text": [
      "                                  Open        Close    Adj Close  cc_returns  \\\n",
      "Datetime                                                                       \n",
      "2020-03-26 09:15:00+05:30  8451.000000  8339.349609  8339.349609         NaN   \n",
      "2020-03-26 09:20:00+05:30  8336.400391  8396.650391  8396.650391    1.006871   \n",
      "2020-03-26 09:25:00+05:30  8396.849609  8476.599609  8476.599609    1.009522   \n",
      "2020-03-26 09:30:00+05:30  8476.900391  8488.400391  8488.400391    1.001392   \n",
      "2020-03-26 09:35:00+05:30  8490.099609  8487.500000  8487.500000    0.999894   \n",
      "\n",
      "                           sma  position  strategy_returns  \n",
      "Datetime                                                    \n",
      "2020-03-26 09:15:00+05:30  NaN       NaN               NaN  \n",
      "2020-03-26 09:20:00+05:30  NaN       0.0               1.0  \n",
      "2020-03-26 09:25:00+05:30  NaN       0.0               1.0  \n",
      "2020-03-26 09:30:00+05:30  NaN       0.0               1.0  \n",
      "2020-03-26 09:35:00+05:30  NaN       0.0               1.0  \n",
      "                                  Open        Close    Adj Close  cc_returns  \\\n",
      "Datetime                                                                       \n",
      "2020-05-14 15:05:00+05:30  9152.250000  9149.400391  9149.400391    0.999951   \n",
      "2020-05-14 15:10:00+05:30  9149.049805  9137.299805  9137.299805    0.998677   \n",
      "2020-05-14 15:15:00+05:30  9136.799805  9139.950195  9139.950195    1.000290   \n",
      "2020-05-14 15:20:00+05:30  9139.400391  9145.500000  9145.500000    1.000607   \n",
      "2020-05-14 15:25:00+05:30  9145.650391  9150.200195  9150.200195    1.000514   \n",
      "\n",
      "                                   sma  position  strategy_returns  \n",
      "Datetime                                                            \n",
      "2020-05-14 15:05:00+05:30  9149.166585       1.0          0.999951  \n",
      "2020-05-14 15:10:00+05:30  9148.541585       1.0          0.998677  \n",
      "2020-05-14 15:15:00+05:30  9147.887451       0.0          1.000000  \n",
      "2020-05-14 15:20:00+05:30  9147.991618       0.0          1.000000  \n",
      "2020-05-14 15:25:00+05:30  9149.866618       0.0          1.000000  \n",
      "Buy and hold returns:  1.1\n",
      "Strategy returns:  1.14\n"
     ]
    },
    {
     "data": {
      "image/png": "[encoded data removed]",
      "text/plain": [
       "<Figure size 648x360 with 1 Axes>"
      ]
     },
     "metadata": {
      "needs_background": "light"
     },
     "output_type": "display_data"
    }
   ],
   "source": [
    "df1a['strategy_returns'] = df1a['cc_returns'] * df1a['position']\n",
    "\n",
    "\n",
    "df1a['strategy_returns'] = 1 + df1a['strategy_returns']\n",
    "df1a['cc_returns'] = 1 + df1a['cc_returns']\n",
    "\n",
    "print(df1a.head())\n",
    "print(df1a.tail())\n",
    "\n",
    "df1a[['cc_returns', 'strategy_returns']].cumprod().plot(grid=True, figsize=(9, 5))\n",
    "\n",
    "print('Buy and hold returns: ', np.round(df1a['cc_returns'].cumprod()[-1], 2))\n",
    "print('Strategy returns: ', np.round(df1a['strategy_returns'].cumprod()[-1], 2))"
   ]
  },
  {
   "cell_type": "code",
   "execution_count": null,
   "metadata": {},
   "outputs": [],
   "source": []
  },
  {
   "cell_type": "code",
   "execution_count": null,
   "metadata": {},
   "outputs": [],
   "source": []
  },
  {
   "cell_type": "code",
   "execution_count": null,
   "metadata": {},
   "outputs": [],
   "source": []
  },
  {
   "cell_type": "markdown",
   "metadata": {},
   "source": [
    "```python\n",
    "\n",
    "df1a['strategy_returns'] = df1a['cc_returns'] * df1a['position']\n",
    "\n",
    "\n",
    "df1a['strategy_returns'] = 1 + df1a['strategy_returns']\n",
    "df1a['cc_returns'] = 1 + df1a['cc_returns']\n",
    "\n",
    "print(df1a.head())\n",
    "print(df1a.tail())\n",
    "\n",
    "df1a[['cc_returns', 'strategy_returns']].cumprod().plot(grid=True, figsize=(9, 5))\n",
    "\n",
    "print('Buy and hold returns: ', np.round(df1a['cc_returns'].cumprod()[-1], 2))\n",
    "print('Strategy returns: ', np.round(df1a['strategy_returns'].cumprod()[-1], 2))\n",
    "```\n"
   ]
  },
  {
   "cell_type": "markdown",
   "metadata": {},
   "source": [
    "#### Strategy # 1B: Exponential Moving Average *(Long only)*\n",
    "\n",
    "We compute the 12 period exponential moving average ('EMA12') and compare it with the price at that time. This is similar to the previous one, instead we use the EMA.\n",
    "\n",
    "When we calculate the SMA for `n` periods, the same weight is applied to each of the past `n` prices. In EMA, on the other hand, we apply different weights to each past price. Higher weights are assigned to the more recent ones. All modern finance libraries directly calculate it for us. EMA reacts faster to price action than SMA."
   ]
  },
  {
   "cell_type": "code",
   "execution_count": null,
   "metadata": {},
   "outputs": [],
   "source": [
    "#############################################################\n",
    "################## Class Exercise 4 #########################\n",
    "#############################################################\n",
    "\n",
    "# Create a copy of df called df1b. (We will manipulate and work with the df1a DataFrame.)\n",
    "# Create a variable called ema and assign it a value 12\n",
    "# Create a column called 'ema' which is the 12-period moving average of the 'Close' price\n",
    "# Create a column called 'cc_returns' which shows returns between successive 'Close' prices\n",
    "# Create a column called 'position' which takes the value 1 when you go long (based on the given condition) and 0 otherwise\n",
    "## IMPORTANT ASSUMPTION: Assume that when you get the indication to go long, you buy at the close price 5 minutes later\n",
    "# Make any required changes in 'position' accordingly\n",
    "# Check the number of 1s and 0s in 'position'. What does it tell you?\n",
    "# Create a column called 'strategy_returns' which has the strategy returns over the backtesting period\n",
    "# Check the first few and last few rows of the data frame\n",
    "# Plot the returns for a buy-and-hold approach and the strategy we just created\n",
    "# What are the cumulative returns in each case at the end of the period?\n"
   ]
  },
  {
   "cell_type": "code",
   "execution_count": 20,
   "metadata": {
    "execution": {
     "iopub.execute_input": "2021-02-09T07:20:12.152615Z",
     "iopub.status.busy": "2021-02-09T07:20:12.152615Z",
     "iopub.status.idle": "2021-02-09T07:20:12.180135Z",
     "shell.execute_reply": "2021-02-09T07:20:12.180135Z",
     "shell.execute_reply.started": "2021-02-09T07:20:12.152615Z"
    }
   },
   "outputs": [
    {
     "name": "stdout",
     "output_type": "stream",
     "text": [
      "                                  Open         High          Low        Close  \\\n",
      "Datetime                                                                        \n",
      "2020-03-26 09:15:00+05:30  8451.000000  8457.650391  8338.400391  8339.349609   \n",
      "2020-03-26 09:20:00+05:30  8336.400391  8411.799805  8309.950195  8396.650391   \n",
      "2020-03-26 09:25:00+05:30  8396.849609  8476.950195  8372.099609  8476.599609   \n",
      "2020-03-26 09:30:00+05:30  8476.900391  8518.450195  8460.000000  8488.400391   \n",
      "2020-03-26 09:35:00+05:30  8490.099609  8515.000000  8482.349609  8487.500000   \n",
      "\n",
      "                             Adj Close  Volume  cc_returns          ema  \n",
      "Datetime                                                                 \n",
      "2020-03-26 09:15:00+05:30  8339.349609       0         NaN  8339.349609  \n",
      "2020-03-26 09:20:00+05:30  8396.650391       0    0.006871  8348.165114  \n",
      "2020-03-26 09:25:00+05:30  8476.599609       0    0.009522  8367.924267  \n",
      "2020-03-26 09:30:00+05:30  8488.400391       0    0.001392  8386.459055  \n",
      "2020-03-26 09:35:00+05:30  8487.500000       0   -0.000106  8402.003816  \n",
      "                                  Open         High          Low        Close  \\\n",
      "Datetime                                                                        \n",
      "2020-05-14 15:05:00+05:30  9152.250000  9152.500000  9146.500000  9149.400391   \n",
      "2020-05-14 15:10:00+05:30  9149.049805  9152.750000  9134.200195  9137.299805   \n",
      "2020-05-14 15:15:00+05:30  9136.799805  9140.450195  9132.000000  9139.950195   \n",
      "2020-05-14 15:20:00+05:30  9139.400391  9151.349609  9130.250000  9145.500000   \n",
      "2020-05-14 15:25:00+05:30  9145.650391  9151.400391  9142.950195  9150.200195   \n",
      "\n",
      "                             Adj Close  Volume  cc_returns          ema  \n",
      "Datetime                                                                 \n",
      "2020-05-14 15:05:00+05:30  9149.400391       0   -0.000049  9156.300861  \n",
      "2020-05-14 15:10:00+05:30  9137.299805       0   -0.001323  9153.377621  \n",
      "2020-05-14 15:15:00+05:30  9139.950195       0    0.000290  9151.311863  \n",
      "2020-05-14 15:20:00+05:30  9145.500000       0    0.000607  9150.417731  \n",
      "2020-05-14 15:25:00+05:30  9150.200195       0    0.000514  9150.384264  \n"
     ]
    }
   ],
   "source": [
    "df1b = df.copy()\n",
    "\n",
    "df1b['cc_returns'] = df1b['Close'].pct_change()\n",
    "ema = 12\n",
    "df1b['ema'] = df1b['Close'].ewm(span=ema, adjust=False).mean()\n",
    "print(df1b.head())\n",
    "print(df1b.tail())\n",
    "df1b['position'] = np.where((df1b['Close'] > df1b['ema']), 1, 0)\n",
    "df1b['position'] = df1b['position'].shift(1)\n",
    "\n"
   ]
  },
  {
   "cell_type": "code",
   "execution_count": null,
   "metadata": {},
   "outputs": [],
   "source": []
  },
  {
   "cell_type": "code",
   "execution_count": null,
   "metadata": {},
   "outputs": [],
   "source": []
  },
  {
   "cell_type": "code",
   "execution_count": null,
   "metadata": {},
   "outputs": [],
   "source": []
  },
  {
   "cell_type": "markdown",
   "metadata": {},
   "source": [
    "```python\n",
    "\n",
    "df1b = df.copy()\n",
    "\n",
    "df1b['cc_returns'] = df1b['Close'].pct_change()\n",
    "ema = 12\n",
    "df1b['ema'] = df1b['Close'].ewm(span=ema, adjust=False).mean()\n",
    "print(df1b.head())\n",
    "print(df1b.tail())\n",
    "df1b['position'] = np.where((df1b['Close'] > df1b['ema']), 1, 0)\n",
    "df1b['position'] = df1b['position'].shift(1)\n",
    "\n",
    "df1b['position'].value_counts()\n",
    "print(df1b.head())\n",
    "print(df1b.tail())\n",
    "\n",
    "df1b['strategy_returns'] = df1b['cc_returns'] * df1b['position']\n",
    "\n",
    "\n",
    "df1b['strategy_returns'] = 1 + df1b['strategy_returns']\n",
    "df1b['cc_returns'] = 1 + df1b['cc_returns']\n",
    "\n",
    "print(df1b.head())\n",
    "print(df1b.tail())\n",
    "\n",
    "df1b[['cc_returns', 'strategy_returns']].cumprod().plot(grid=True, figsize=(9, 5))\n",
    "\n",
    "print('Buy and hold returns: ', np.round(df1b['cc_returns'].cumprod()[-1], 2))\n",
    "print('Strategy returns: ', np.round(df1b['strategy_returns'].cumprod()[-1], 2))\n",
    "\n",
    "```"
   ]
  },
  {
   "cell_type": "markdown",
   "metadata": {},
   "source": [
    "<div class=\"alert alert-danger\" style=\"margin: 10px\"><strong>Note:</strong> All home exercises in the Notebook are for self-study.</div>"
   ]
  },
  {
   "cell_type": "code",
   "execution_count": null,
   "metadata": {},
   "outputs": [],
   "source": [
    "#############################################################\n",
    "################## Home Exercise 1 ##########################\n",
    "#############################################################\n",
    "\n",
    "# Read about simple and exponential moving averages. Pay special attention to \n",
    "# cases where SMA is preferred over EMA or vice-versa."
   ]
  },
  {
   "cell_type": "markdown",
   "metadata": {},
   "source": [
    "#### Strategy # 2: Big moves on Mondays *(Long only)*\n",
    "\n",
    "The [strategy](http://www.quantifiedstrategies.com/big-moves-on-mondays-update/) suggests that we go long on the S&P 500 on a Monday and close out our position on the Friday that week based on certain conditions. We assume that positions can be taken only in periods when markets are open on Monday and Friday in a week and the Friday in the previous week.\n",
    "\n",
    "We calculate the following indicators and backtest the conditions shown below:\n",
    "\n",
    "1. Calculate the 25-day average of `relative_range = (High - Low) / Close` and call it `rel_range_ma`.\n",
    "2. The Monday `Close` must be lower than the previous Friday `Close` by at least 0.25 times of `rel_range_ma`. \n",
    "3. Create a variable `ibs = (Close - Low) / (High - Low)`. It must be lower than 0.3.\n",
    "4. If conditions in 2, 3 and 4 are met, go long on Monday `Close`.\n",
    "5. Square off your position on Friday `Close`."
   ]
  },
  {
   "cell_type": "code",
   "execution_count": null,
   "metadata": {},
   "outputs": [],
   "source": [
    "#############################################################\n",
    "################## Class Exercise 5 #########################\n",
    "########## Step V (Writing comments in the code) ############\n",
    "########## Step VI (Fragmenting code into parts) ############\n",
    "#############################################################\n",
    "\n",
    "\n",
    "# Create a function called 'download_daily_data' where you use yfinance to automatically download\n",
    "# daily data based on three input arguments - ticker, the start date and the end date. \n",
    "\n",
    "# Create a function called 'compute_daily_returns' where you calculate the log daily returns based on 'Close' prices.\n",
    "# You pass the pandas DataFrame as an argument to the function.\n",
    "\n",
    "# Create three variables 'ticker2', 'end2', and 'start2'. Initialize 'ticker' to be \"SPY\", 'end2' to be today, and\n",
    "# 'start2' to be the day 15 years in the past (from today).\n",
    "\n",
    "# Use 'download_daily_data' to download SPY prices for the last 15 years into df.\n",
    "# Create a copy of df called df2. We will work with df2 for the rest of the strategy.\n",
    "# Use 'compute_daily_returns' to calculate daily returns of SPY into df2\n",
    "\n"
   ]
  },
  {
   "cell_type": "code",
   "execution_count": 32,
   "metadata": {
    "execution": {
     "iopub.execute_input": "2021-02-09T07:37:00.480635Z",
     "iopub.status.busy": "2021-02-09T07:37:00.479635Z",
     "iopub.status.idle": "2021-02-09T07:37:00.496189Z",
     "shell.execute_reply": "2021-02-09T07:37:00.496189Z",
     "shell.execute_reply.started": "2021-02-09T07:37:00.480635Z"
    }
   },
   "outputs": [],
   "source": [
    "def download_daily_data(ticker, start, end):\n",
    "    \"\"\" \n",
    "    The function downloads daily market data to a pandas DataFrame \n",
    "    using the 'yfinance' API between the dates specified.\n",
    "    \"\"\"\n",
    "    data = yf.download(ticker, start, end)\n",
    "\n",
    "    return data\n",
    "\n",
    "def compute_daily_returns(data):\n",
    "    \"\"\" \n",
    "    The function computes daily log returns based on the Close prices in the pandas DataFrame\n",
    "    and stores it in a column  called 'cc_returns'.\n",
    "    \"\"\"\n",
    "    data['cc_returns'] = np.log(data['Close'] / data['Close'].shift(1))\n",
    "\n",
    "    return data"
   ]
  },
  {
   "cell_type": "code",
   "execution_count": 33,
   "metadata": {
    "execution": {
     "iopub.execute_input": "2021-02-09T07:37:07.296363Z",
     "iopub.status.busy": "2021-02-09T07:37:07.295366Z",
     "iopub.status.idle": "2021-02-09T07:37:08.529592Z",
     "shell.execute_reply": "2021-02-09T07:37:08.528605Z",
     "shell.execute_reply.started": "2021-02-09T07:37:07.296363Z"
    }
   },
   "outputs": [
    {
     "name": "stdout",
     "output_type": "stream",
     "text": [
      "[*********************100%***********************]  1 of 1 completed\n"
     ]
    },
    {
     "data": {
      "text/html": [
       "<div>\n",
       "<style scoped>\n",
       "    .dataframe tbody tr th:only-of-type {\n",
       "        vertical-align: middle;\n",
       "    }\n",
       "\n",
       "    .dataframe tbody tr th {\n",
       "        vertical-align: top;\n",
       "    }\n",
       "\n",
       "    .dataframe thead th {\n",
       "        text-align: right;\n",
       "    }\n",
       "</style>\n",
       "<table border=\"1\" class=\"dataframe\">\n",
       "  <thead>\n",
       "    <tr style=\"text-align: right;\">\n",
       "      <th></th>\n",
       "      <th>Open</th>\n",
       "      <th>High</th>\n",
       "      <th>Low</th>\n",
       "      <th>Close</th>\n",
       "      <th>Adj Close</th>\n",
       "      <th>Volume</th>\n",
       "      <th>cc_returns</th>\n",
       "    </tr>\n",
       "    <tr>\n",
       "      <th>Date</th>\n",
       "      <th></th>\n",
       "      <th></th>\n",
       "      <th></th>\n",
       "      <th></th>\n",
       "      <th></th>\n",
       "      <th></th>\n",
       "      <th></th>\n",
       "    </tr>\n",
       "  </thead>\n",
       "  <tbody>\n",
       "    <tr>\n",
       "      <th>2021-02-02</th>\n",
       "      <td>379.649994</td>\n",
       "      <td>383.220001</td>\n",
       "      <td>376.320007</td>\n",
       "      <td>381.549988</td>\n",
       "      <td>381.549988</td>\n",
       "      <td>64450700</td>\n",
       "      <td>0.014041</td>\n",
       "    </tr>\n",
       "    <tr>\n",
       "      <th>2021-02-03</th>\n",
       "      <td>382.440002</td>\n",
       "      <td>383.700012</td>\n",
       "      <td>380.480011</td>\n",
       "      <td>381.850006</td>\n",
       "      <td>381.850006</td>\n",
       "      <td>52427100</td>\n",
       "      <td>0.000786</td>\n",
       "    </tr>\n",
       "    <tr>\n",
       "      <th>2021-02-04</th>\n",
       "      <td>382.959991</td>\n",
       "      <td>386.239990</td>\n",
       "      <td>381.970001</td>\n",
       "      <td>386.190002</td>\n",
       "      <td>386.190002</td>\n",
       "      <td>47142600</td>\n",
       "      <td>0.011302</td>\n",
       "    </tr>\n",
       "    <tr>\n",
       "      <th>2021-02-05</th>\n",
       "      <td>388.200012</td>\n",
       "      <td>388.470001</td>\n",
       "      <td>386.140015</td>\n",
       "      <td>387.709991</td>\n",
       "      <td>387.709991</td>\n",
       "      <td>48620300</td>\n",
       "      <td>0.003928</td>\n",
       "    </tr>\n",
       "    <tr>\n",
       "      <th>2021-02-08</th>\n",
       "      <td>389.269989</td>\n",
       "      <td>390.559998</td>\n",
       "      <td>388.350006</td>\n",
       "      <td>390.510010</td>\n",
       "      <td>390.510010</td>\n",
       "      <td>37995200</td>\n",
       "      <td>0.007196</td>\n",
       "    </tr>\n",
       "  </tbody>\n",
       "</table>\n",
       "</div>"
      ],
      "text/plain": [
       "                  Open        High         Low       Close   Adj Close  \\\n",
       "Date                                                                     \n",
       "2021-02-02  379.649994  383.220001  376.320007  381.549988  381.549988   \n",
       "2021-02-03  382.440002  383.700012  380.480011  381.850006  381.850006   \n",
       "2021-02-04  382.959991  386.239990  381.970001  386.190002  386.190002   \n",
       "2021-02-05  388.200012  388.470001  386.140015  387.709991  387.709991   \n",
       "2021-02-08  389.269989  390.559998  388.350006  390.510010  390.510010   \n",
       "\n",
       "              Volume  cc_returns  \n",
       "Date                              \n",
       "2021-02-02  64450700    0.014041  \n",
       "2021-02-03  52427100    0.000786  \n",
       "2021-02-04  47142600    0.011302  \n",
       "2021-02-05  48620300    0.003928  \n",
       "2021-02-08  37995200    0.007196  "
      ]
     },
     "execution_count": 33,
     "metadata": {},
     "output_type": "execute_result"
    }
   ],
   "source": [
    "ticker2 = \"SPY\"\n",
    "end2 = dt.datetime.now().date()\n",
    "start2 = end - pd.Timedelta(days=365*15)\n",
    "\n",
    "df = download_daily_data(ticker=ticker2, start=start2, end=end2)\n",
    "df.head()\n",
    "df.tail()\n",
    "\n",
    "df2 = df.copy()\n",
    "df2 = compute_daily_returns(data=df2)\n",
    "\n",
    "df2.head()\n",
    "df2.tail()"
   ]
  },
  {
   "cell_type": "code",
   "execution_count": null,
   "metadata": {},
   "outputs": [],
   "source": []
  },
  {
   "cell_type": "code",
   "execution_count": null,
   "metadata": {},
   "outputs": [],
   "source": []
  },
  {
   "cell_type": "markdown",
   "metadata": {},
   "source": [
    "```python\n",
    "\n",
    "def download_daily_data(ticker, start, end):\n",
    "    \"\"\" \n",
    "    The function downloads daily market data to a pandas DataFrame \n",
    "    using the 'yfinance' API between the dates specified.\n",
    "    \"\"\"\n",
    "    data = yf.download(ticker, start, end)\n",
    "    \n",
    "    return data\n",
    "\n",
    "def compute_daily_returns(data):\n",
    "    \"\"\" \n",
    "    The function computes daily log returns based on the Close prices in the pandas DataFrame\n",
    "    and stores it in a column  called 'cc_returns'.\n",
    "    \"\"\"\n",
    "    data['cc_returns'] = np.log(data['Close'] / data['Close'].shift(1))\n",
    "    \n",
    "    return data\n",
    "\n",
    "ticker2 = \"SPY\"\n",
    "end2 = dt.datetime.now().date()\n",
    "start2 = end - pd.Timedelta(days=365*15)\n",
    "\n",
    "df = download_daily_data(ticker=ticker2, start=start2, end=end2)\n",
    "df.head()\n",
    "df.tail()\n",
    "\n",
    "df2 = df.copy()\n",
    "df2 = compute_daily_returns(data=df2)\n",
    "\n",
    "df2.head()\n",
    "df2.tail()\n",
    "```"
   ]
  },
  {
   "cell_type": "code",
   "execution_count": null,
   "metadata": {},
   "outputs": [],
   "source": [
    "#############################################################\n",
    "################## Class Exercise 6 #########################\n",
    "########## Step V (Writing comments in the code) ############\n",
    "########## Step VI (Fragmenting code into parts) ############\n",
    "#############################################################\n",
    "\n",
    "# Create a function called 'compute_indicators' where you add additional columns 'day', 'prev_day', \n",
    "# 'four_days_after', 'relative_range', 'rel_range_ma', and 'ibs' to df2 and compute them.\n",
    "\n",
    "# Create a function called 'backtest_strategy' where you work with df2 from the previous step. You can add additional \n",
    "# columns 'condition1', 'condition2', 'condition3' and use them to calculate strategy returns.\n",
    "\n",
    "# Create a function called 'show_backtesting_results' where you use df2 and \n",
    "# print the strategy returns and buy-and-hold returns.\n",
    "# The functions also plots the strategy returns, buy-and-hold returns and the positions over time.\n",
    "\n",
    "# Now run all of the functions one after the other."
   ]
  },
  {
   "cell_type": "code",
   "execution_count": 34,
   "metadata": {
    "execution": {
     "iopub.execute_input": "2021-02-09T07:40:53.038951Z",
     "iopub.status.busy": "2021-02-09T07:40:53.038951Z",
     "iopub.status.idle": "2021-02-09T07:40:53.050470Z",
     "shell.execute_reply": "2021-02-09T07:40:53.049469Z",
     "shell.execute_reply.started": "2021-02-09T07:40:53.038951Z"
    }
   },
   "outputs": [],
   "source": [
    "def compute_indicators(data):\n",
    "    \"\"\"\n",
    "    The function creates additional columns to an OHLC pandas DataFrame\n",
    "    required to backtest the \"Big Moves on Mondays\" trading strategy.\n",
    "    \"\"\"\n",
    "    # Columns created to check condition 1\n",
    "    data['day'] = data.index.day_name()\n",
    "    data['prev_day'] = data['day'].shift(1)\n",
    "    data['four_days_after'] = data['day'].shift(-4)\n",
    "\n",
    "    # Columns created to check condition 2\n",
    "    data['relative_range'] = (data['High'] - data['Low']) / data['Close']\n",
    "    data['rel_range_ma'] = data['relative_range'].rolling(window=25).mean()\n",
    "\n",
    "    # Column created to check condition 3\n",
    "    data['ibs'] = (data['Close'] - data['Low']) / (data['High'] - data['Low'])\n",
    "\n",
    "    return data"
   ]
  },
  {
   "cell_type": "code",
   "execution_count": null,
   "metadata": {},
   "outputs": [],
   "source": [
    "def backtest_strategy(data):\n",
    "    \"\"\"\n",
    "    The function creates additional columns to the pandas DataFrame for checking conditions\n",
    "    to backtest the \"Big Moves on Mondays\" trading strategy. \n",
    "    It then computes the strategy returns.\n",
    "    IMPORTANT: To be run ONLY after the function compute_indicators.\n",
    "    \"\"\"\n",
    "    data['condition1'] = np.where((data['day'] == 'Monday') \n",
    "                            & (data['prev_day'] == 'Friday') \n",
    "                            & (data['four_days_after'] == 'Friday'), \n",
    "                            1, 0)\n",
    "\n",
    "    data['condition2'] = np.where((1 - data['Close'] / data['Close'].shift(1))\n",
    "                                  >= 0.25 * data['rel_range_ma'], 1, 0)\n",
    "\n",
    "    data['condition3'] = np.where(data['ibs'] < 0.3, 1, 0)\n",
    "\n",
    "    data['signal'] = np.where((data['condition1']==1) \n",
    "                        & (data['condition2']==1) \n",
    "                        & (data['condition3']==1), \n",
    "                        1, 0)\n",
    "\n",
    "    # The below two statements ensures that we can directly calculate strategy returns by multiplying the \n",
    "    # columns 'position' and 'cc_returns'\n",
    "    data['signal'] = data['signal'].shift(1)\n",
    "\n",
    "    data['position'] = data['signal'].replace(to_replace=0, method='ffill', limit=3)\n",
    "\n",
    "    data['strategy_returns'] = data['cc_returns'] * data['position']\n",
    "\n",
    "    return data"
   ]
  },
  {
   "cell_type": "code",
   "execution_count": null,
   "metadata": {},
   "outputs": [],
   "source": [
    "def show_backtesting_results(data):\n",
    "    \"\"\"\n",
    "    The function displays the cumulative returns from the trading strategy and a buy-and-hold strategy. \n",
    "    It also plots a chart showing both returns and position over time.\n",
    "    IMPORTANT: To be run ONLY after the function backtest_strategy.\n",
    "    \"\"\"\n",
    "    print('Buy and hold returns: ', np.round(data['cc_returns'].cumsum()[-1], 2))\n",
    "    print('Strategy returns: ', np.round(data['strategy_returns'].cumsum()[-1], 2))\n",
    "\n",
    "    data[['cc_returns', 'strategy_returns']] = data[['cc_returns', 'strategy_returns']].cumsum()\n",
    "    data[['cc_returns', 'strategy_returns', 'position']].plot(\n",
    "        secondary_y='position', grid=True, figsize=(12, 8))\n"
   ]
  },
  {
   "cell_type": "code",
   "execution_count": 49,
   "metadata": {
    "execution": {
     "iopub.execute_input": "2021-02-09T07:48:38.522570Z",
     "iopub.status.busy": "2021-02-09T07:48:38.522570Z",
     "iopub.status.idle": "2021-02-09T07:48:38.542907Z",
     "shell.execute_reply": "2021-02-09T07:48:38.541925Z",
     "shell.execute_reply.started": "2021-02-09T07:48:38.522570Z"
    }
   },
   "outputs": [
    {
     "data": {
      "text/plain": [
       "pandas._libs.tslibs.timestamps.Timestamp"
      ]
     },
     "execution_count": 49,
     "metadata": {},
     "output_type": "execute_result"
    }
   ],
   "source": [
    "df1b.index[4].day_name()\n",
    "type(df1b.index[4])"
   ]
  },
  {
   "cell_type": "code",
   "execution_count": 64,
   "metadata": {
    "execution": {
     "iopub.execute_input": "2021-02-09T07:57:08.747061Z",
     "iopub.status.busy": "2021-02-09T07:57:08.747061Z",
     "iopub.status.idle": "2021-02-09T07:57:08.758605Z",
     "shell.execute_reply": "2021-02-09T07:57:08.758605Z",
     "shell.execute_reply.started": "2021-02-09T07:57:08.747061Z"
    }
   },
   "outputs": [
    {
     "data": {
      "text/plain": [
       "DatetimeIndex(['2020-12-27', '2021-01-03', '2021-01-10', '2021-01-17',\n",
       "               '2021-01-24', '2021-01-31', '2021-02-07'],\n",
       "              dtype='datetime64[ns]', freq='W-SUN')"
      ]
     },
     "execution_count": 64,
     "metadata": {},
     "output_type": "execute_result"
    }
   ],
   "source": [
    "pd.date_range(start =start ,end=end,freq='w')"
   ]
  },
  {
   "cell_type": "markdown",
   "metadata": {},
   "source": [
    "```python\n",
    "\n",
    "def compute_indicators(data):\n",
    "    \"\"\"\n",
    "    The function creates additional columns to an OHLC pandas DataFrame\n",
    "    required to backtest the \"Big Moves on Mondays\" trading strategy.\n",
    "    \"\"\"\n",
    "    # Columns created to check condition 1\n",
    "    data['day'] = data.index.day_name()\n",
    "    data['prev_day'] = data['day'].shift(1)\n",
    "    data['four_days_after'] = data['day'].shift(-4)\n",
    "    \n",
    "    # Columns created to check condition 2\n",
    "    data['relative_range'] = (data['High'] - data['Low']) / data['Close']\n",
    "    data['rel_range_ma'] = data['relative_range'].rolling(window=25).mean()\n",
    "    \n",
    "    # Column created to check condition 3\n",
    "    data['ibs'] = (data['Close'] - data['Low']) / (data['High'] - data['Low'])\n",
    "    \n",
    "    return data\n",
    "\n",
    "def backtest_strategy(data):\n",
    "    \"\"\"\n",
    "    The function creates additional columns to the pandas DataFrame for checking conditions\n",
    "    to backtest the \"Big Moves on Mondays\" trading strategy. \n",
    "    It then computes the strategy returns.\n",
    "    IMPORTANT: To be run ONLY after the function compute_indicators.\n",
    "    \"\"\"\n",
    "    data['condition1'] = np.where((data['day'] == 'Monday') \n",
    "                            & (data['prev_day'] == 'Friday') \n",
    "                            & (data['four_days_after'] == 'Friday'), \n",
    "                            1, 0)\n",
    "    \n",
    "    data['condition2'] = np.where((1 - data['Close'] / data['Close'].shift(1))\n",
    "                                  >= 0.25 * data['rel_range_ma'], 1, 0)\n",
    "    \n",
    "    data['condition3'] = np.where(data['ibs'] < 0.3, 1, 0)\n",
    "    \n",
    "    data['signal'] = np.where((data['condition1']==1) \n",
    "                        & (data['condition2']==1) \n",
    "                        & (data['condition3']==1), \n",
    "                        1, 0)\n",
    "    \n",
    "    # The below two statements ensures that we can directly calculate strategy returns by multiplying the \n",
    "    # columns 'position' and 'cc_returns'\n",
    "    data['signal'] = data['signal'].shift(1)\n",
    "    \n",
    "    data['position'] = data['signal'].replace(to_replace=0, method='ffill', limit=3)\n",
    "    \n",
    "    data['strategy_returns'] = data['cc_returns'] * data['position']\n",
    "    \n",
    "    return data\n",
    "\n",
    "\n",
    "def show_backtesting_results(data):\n",
    "    \"\"\"\n",
    "    The function displays the cumulative returns from the trading strategy and a buy-and-hold strategy. \n",
    "    It also plots a chart showing both returns and position over time.\n",
    "    IMPORTANT: To be run ONLY after the function backtest_strategy.\n",
    "    \"\"\"\n",
    "    print('Buy and hold returns: ', np.round(data['cc_returns'].cumsum()[-1], 2))\n",
    "    print('Strategy returns: ', np.round(data['strategy_returns'].cumsum()[-1], 2))\n",
    "    \n",
    "    data[['cc_returns', 'strategy_returns']] = data[['cc_returns', 'strategy_returns']].cumsum()\n",
    "    data[['cc_returns', 'strategy_returns', 'position']].plot(\n",
    "        secondary_y='position', grid=True, figsize=(12, 8))\n",
    "\n",
    "   \n",
    "df = download_daily_data(ticker2, start2, end2)\n",
    "df2 = df.copy()\n",
    "\n",
    "df2 = compute_daily_returns(df2)\n",
    "df2 = compute_indicators(df2)\n",
    "df2 = backtest_strategy(df2)\n",
    "show_backtesting_results(df2)\n",
    "```"
   ]
  },
  {
   "cell_type": "code",
   "execution_count": null,
   "metadata": {},
   "outputs": [],
   "source": [
    "#############################################################################\n",
    "###################### IGNORE THIS CELL #####################################\n",
    "#############################################################################\n",
    "\n",
    "# df2['signal'].value_counts()\n",
    "# df2['position'].value_counts()\n",
    "\n",
    "# df2[['cc_returns', 'strategy_returns', 'signal']].plot(\n",
    "#         secondary_y='signal', grid=True, figsize=(12, 8))"
   ]
  },
  {
   "cell_type": "markdown",
   "metadata": {},
   "source": [
    "### Noteworthy points\n",
    "\n",
    "- We have followed the [**modular programming**](https://en.wikipedia.org/wiki/Modular_programming) approach here. To wit: We break a large task into smaller tasks (i.e. functions) to increase readability and make it easier to incorporate changes or detect errors. \n",
    "- Any model we build is only as good as its assumptions. So carefully observe what implicit AND explicit assumptions you're making.\n",
    "- **Ignoring market friction:** We have not taken into account transaction costs, slippage, taxes, etc. Remember that whatever results we get are a highly optimistic presentation of what would actually result.\n",
    "- **Look-ahead bias:** We decide on the trade based on Monday's close price. Then, we trade at that price itself. This is perfectly fine when we are hitting our straps with programming and backtesting. However, in real life, you would have to trade at a price AFTER the close. We have implicitly assumed that we can look into the future and get a trade at the close price. As we sharpen our strategy before launching it in live markets, we should factor this in and make suitable modifications.\n",
    "- The code and approach that we follow here is specifically for working with historical data. It CANNOT be directly deployed in the live markets. Changes would need to be made. That's a subject for a different day. But you should be cognizant of this.\n",
    "- You can read more about backtesting [here](https://blog.quantinsti.com/backtesting/) or in Ernie Chan's book on Algorithmic Trading (Chapter 1) at your leisure."
   ]
  },
  {
   "cell_type": "markdown",
   "metadata": {},
   "source": [
    "#### Strategy # 3: The Moving Average Crossover Strategy *(Long-short)*\n",
    "\n",
    "We have two SMA filters viz. the shorter lookback period SMA (henceforth referred to as  'SMA50') and the longer lookback period SMA (henceforth referred to as 'SMA200'). We go long on Tata Steel *at the first instance* when the SMA50 exceeds the SMA200. Similarly, we go short on it, *at the first instance* when the SMA200 exceeds the SMA50.\n",
    "\n",
    "Our trading rules can be stated as\n",
    "\n",
    "* Go long when SMA50 > SMA200 on a given day and SMA50 < SMA200 on the previous day\n",
    "* Go short when SMA50 < SMA200 on a given day and SMA50 > SMA200 on the previous day"
   ]
  },
  {
   "cell_type": "code",
   "execution_count": null,
   "metadata": {},
   "outputs": [],
   "source": [
    "#################################################################\n",
    "################### Class Exercise 7 ############################\n",
    "#################################################################\n",
    "\n",
    "# Create a variable called end3 for today. Use the datetime library.\n",
    "# Create a variable start3 which is 10 years before end3\n",
    "# Use the yfinance library to download daily data into a variable df for \"TATASTEEL.NS\" \n",
    "# between start3 and end3.\n",
    "# The download should be into a pandas DataFrame called df\n",
    "# Check the data type, the dimensions, the first few and last few rows of the pandas DataFrame\n",
    "# If above step looks fine, create a copy of df called df3. (We will manipulate and work with the df3 DataFrame.)\n",
    "\n",
    "\n",
    "# **In case you do not have yfinance installed**, please use the attached csv file and import into pandas\n",
    "# You can name the pandas DataFrame 'df'\n",
    "# Check the data type, the dimensions, the first few and last few rows of 'df'\n",
    "# Create a copy of df called df3. (We will manipulate and work with the df3 DataFrame.)\n"
   ]
  },
  {
   "cell_type": "markdown",
   "metadata": {},
   "source": [
    "```python\n",
    "\n",
    "ticker3 = \"TATASTEEL.NS\"\n",
    "end3 = dt.datetime.today()\n",
    "start3 = end3 - pd.Timedelta(days=365*10)\n",
    "\n",
    "df = yf.download(ticker3, start3, end3)\n",
    "print(type(df))\n",
    "print(df.shape)\n",
    "print(df.head())\n",
    "print(df.tail())\n",
    "\n",
    "df3 = df.copy()\n",
    "\n",
    "\n",
    "# **ONLY** run the below lines if you have trouble with the library yfinance \n",
    "\n",
    "\n",
    "df = pd.read_csv(\"TATASTEEL.NS.csv\", index_col=0, parse_dates=True)\n",
    "print(type(df))\n",
    "print(df.shape)\n",
    "print(df.head())\n",
    "print(df.tail())\n",
    "\n",
    "df3 = df.copy()\n",
    "```"
   ]
  },
  {
   "cell_type": "code",
   "execution_count": null,
   "metadata": {},
   "outputs": [],
   "source": [
    "#############################################################################\n",
    "###################### IGNORE THIS CELL #####################################\n",
    "#############################################################################\n",
    "\n",
    "# mydateparser = lambda x: pd.datetime.strptime(x, \"%d-%m-%Y\")\n",
    "# df.to_csv(\"TATASTEEL.NS.csv\")\n",
    "# df = pd.read_csv(\"TATASTEEL.NS.csv\", index_col=0, parse_dates=True)\n",
    "# df = pd.read_csv(\"TATASTEEL.NS.csv\", index_col=0, parse_dates=True, date_parser=mydateparser)"
   ]
  },
  {
   "cell_type": "code",
   "execution_count": null,
   "metadata": {},
   "outputs": [],
   "source": [
    "############################################################################\n",
    "######################### Class Exercise 8 #################################\n",
    "############################################################################\n",
    "\n",
    "# Create variables m=50 and n=200 for the shorter and longer lookback period respectively\n",
    "# Create columns called 'sma50' and 'sma200' which are the moving averages based on the 'Adj Close' price\n",
    "# Plot the 'sma50, 'sma200' and the 'Adj Close' for the data set\n",
    "# Create columns 'sma50_prev_day' and 'sma200_prev_day' which are the moving averages shifted for the previous day\n",
    "# Also periodically check df3 to see that each column is getting populated correctly."
   ]
  },
  {
   "cell_type": "markdown",
   "metadata": {},
   "source": [
    "```python\n",
    "\n",
    "m = 50 # defining the shorter lookback period\n",
    "n = 200 # defining the longer lookback period\n",
    "\n",
    "df3['sma50'] = df3['Adj Close'].rolling(window=m, center=False).mean()\n",
    "df3['sma200'] = df3['Adj Close'].rolling(window=n, center=False).mean()\n",
    "\n",
    "df3[['Adj Close', 'sma50', 'sma200']].plot(grid=True, linewidth=0.5, figsize=(12, 8))\n",
    "\n",
    "df3['sma50_prev_day'] = df3['sma50'].shift(1)\n",
    "df3['sma200_prev_day'] = df3['sma200'].shift(1)\n",
    "\n",
    "df3.head()\n",
    "df3.tail()\n",
    "df3.shape\n",
    "```"
   ]
  },
  {
   "cell_type": "code",
   "execution_count": null,
   "metadata": {},
   "outputs": [],
   "source": []
  },
  {
   "cell_type": "code",
   "execution_count": null,
   "metadata": {},
   "outputs": [],
   "source": [
    "############################################################################\n",
    "######################### Class Exercise 9 #################################\n",
    "############################################################################\n",
    "\n",
    "# Create a column called 'signal' which takes values 0, +1, and -1 for no trade that day,\n",
    "#  buy that day and sell that day respectively. You can use the np.where routine.\n",
    "# Use the magic command %timeit to check how long it takes to execute it\n",
    "# Check the first few and last few rows of the data frame\n",
    "# Check the # of signals of each that you got\n",
    "# Use the .apply() method to create two columns 'buy_price' and 'sell_price'. The columns \n",
    "# should give you the 'Adj Close' price when the respective buy or sell conditions are met. Record the price\n",
    "# as positive when it's a buy and negative when it's a sell\n",
    "# Use the magic command %timeit to check how long it takes to execute it\n",
    "# Compare the time taken between the two.\n",
    "'''IMPORTANT ASSUMPTION: We are trading at Close on the day when either our buy or sell condition is met. Lookahead \n",
    "bias is baked into our model. To begin with, while we learn, we can live with this. As we gradually rev up our \n",
    "programming skills we will relax our simplifying assumptions.'''\n",
    "# Create a column called 'trade_price' which combines the data from 'buy_price' and 'sell_price'. Forward fill,\n",
    "# all the zeroes with the previous non-zero prices\n",
    "# Create a column called 'position' which takes the value 1 when you are long, -1 when you are short\n",
    "# and 0 otherwise"
   ]
  },
  {
   "cell_type": "markdown",
   "metadata": {},
   "source": [
    "```python\n",
    "\n",
    "%%timeit\n",
    "\n",
    "df3['signal'] = np.where((df3['sma50'] > df3['sma200']) \n",
    "                        & (df3['sma50_prev_day'] < df3['sma200_prev_day']), 1, 0)\n",
    "df3['signal'] = np.where((df3['sma50'] < df3['sma200']) \n",
    "                        & (df3['sma50_prev_day'] > df3['sma200_prev_day']), -1, df3['signal'])\n",
    "\n",
    "df3['signal'].value_counts()\n",
    "\n",
    "\n",
    "%%timeit\n",
    "\n",
    "df3['buy_price'] = df3.apply(lambda x : x['Adj Close'] if x['sma50'] > x['sma200'] \n",
    "                        and x['sma50_prev_day'] < x['sma200_prev_day'] else 0, axis=1)\n",
    "\n",
    "df3['sell_price'] = df3.apply(lambda y : -y['Adj Close'] if y['sma50'] < y['sma200'] \n",
    "                        and y['sma50_prev_day'] > y['sma200_prev_day'] else 0, axis=1)\n",
    "\n",
    "df3['trade_price'] = df3['buy_price'] + df3['sell_price']\n",
    "df3['trade_price']=df3['trade_price'].replace(to_replace=0, method='ffill')\n",
    "\n",
    "df3['position'] = df3['signal'].replace(to_replace=0, method='ffill')\n",
    "```"
   ]
  },
  {
   "cell_type": "code",
   "execution_count": null,
   "metadata": {},
   "outputs": [],
   "source": [
    "pd.DataFrame.replace()"
   ]
  },
  {
   "cell_type": "code",
   "execution_count": null,
   "metadata": {},
   "outputs": [],
   "source": []
  },
  {
   "cell_type": "code",
   "execution_count": null,
   "metadata": {},
   "outputs": [],
   "source": []
  },
  {
   "cell_type": "code",
   "execution_count": null,
   "metadata": {},
   "outputs": [],
   "source": []
  },
  {
   "cell_type": "code",
   "execution_count": null,
   "metadata": {},
   "outputs": [],
   "source": [
    "############################################################################\n",
    "######################### Class Exercise 10 ################################\n",
    "############################################################################\n",
    "\n",
    "# Plot the positions over time.\n",
    "# Plot the strategy returns, and buy-and-hold returns.\n",
    "# Display the strategy returns and buy-and-hold returns."
   ]
  },
  {
   "cell_type": "markdown",
   "metadata": {},
   "source": [
    "```python\n",
    "\n",
    "# Alternate way to plot graphs\n",
    "plt.figure(figsize=(10, 5))\n",
    "plt.plot(df3['position'])\n",
    "plt.title(\"Long and Short positions\")\n",
    "plt.xlabel('Time')\n",
    "plt.tight_layout()\n",
    "plt.show()\n",
    "\n",
    "df3['bnh_returns'] = np.log(df3['Adj Close'] / df3['Adj Close'].shift(1))\n",
    "df3['strategy_returns'] = df3['bnh_returns'] * df3['position'].shift(1)\n",
    "\n",
    "df3[['bnh_returns', 'strategy_returns']].cumsum().plot(grid=True, figsize=(12, 8))\n",
    "\n",
    "print('Buy and hold returns: ', np.round(df3['bnh_returns'].cumsum()[-1], 2))\n",
    "print('Strategy returns: ', np.round(df3['strategy_returns'].cumsum()[-1], 2))\n",
    "```"
   ]
  },
  {
   "cell_type": "code",
   "execution_count": null,
   "metadata": {
    "scrolled": true
   },
   "outputs": [],
   "source": []
  },
  {
   "cell_type": "code",
   "execution_count": null,
   "metadata": {},
   "outputs": [],
   "source": []
  },
  {
   "cell_type": "code",
   "execution_count": null,
   "metadata": {},
   "outputs": [],
   "source": []
  },
  {
   "cell_type": "code",
   "execution_count": null,
   "metadata": {},
   "outputs": [],
   "source": []
  },
  {
   "cell_type": "markdown",
   "metadata": {},
   "source": [
    "#### [Strategy 4: MACD (Moving Average Convergence Divergence)](https://blog.quantinsti.com/python-trading/#Creating%20a%20sample%20trading%20strategy%20and%20backtesting%20in%20Python) *(Long-short)*\n",
    "\n",
    "It is a simple and effective trend-following indicator.\n",
    "\n",
    "The strategy uses:\n",
    "- `MACD = 26 day EMA of 'Close' - 12 day EMA of 'Close'`, and\n",
    "- `signal = 9 day EMA of MACD`\n",
    "\n",
    "The trading signals are generated using `MACD` and `signal`.\n",
    "\n",
    "- When `MACD` crosses above `signal`, we go long on the underlying security\n",
    "- When `MACD` crosses below `signal`, then we go short on it"
   ]
  },
  {
   "cell_type": "code",
   "execution_count": null,
   "metadata": {},
   "outputs": [],
   "source": [
    "#############################################################\n",
    "################## Home Exercise 2 ##########################\n",
    "#############################################################\n",
    "\n",
    "# Read the article (shared above). \n",
    "# If possible, try writing the code to backtest the strategy yourself \n",
    "# You can check with the code below.\n",
    "# Inspect it carefully so as to understand each line."
   ]
  },
  {
   "cell_type": "markdown",
   "metadata": {},
   "source": [
    "```python\n",
    "\n",
    "ticker4 = \"FB\"\n",
    "end4 = dt.datetime.today()\n",
    "start4 = end4 - pd.Timedelta(days=365*5)\n",
    "\n",
    "df = yf.download(ticker4, start4, end4)\n",
    "\n",
    "df.shape\n",
    "df.head()\n",
    "df.tail()\n",
    "\n",
    "df4 = df.copy()\n",
    "\n",
    "df4['ema26'] = df4['Close'].ewm(span=26, adjust=False).mean()\n",
    "df4['ema12'] = df4['Close'].ewm(span=12, adjust=False).mean()\n",
    "df4['MACD'] = df4['ema12'] - df4['ema26']\n",
    "\n",
    "df4['signal'] = df4['MACD'].ewm(span=9, adjust=False).mean()\n",
    "\n",
    "df4[['signal', 'MACD', 'Close']].plot(figsize=(12, 8), grid=True, secondary_y='Close')\n",
    "\n",
    "df4['position'] = np.where(df4['MACD'] > df4['signal'], 1, -1)\n",
    "df4['position'] = df4['position'].shift(1)\n",
    "\n",
    "df4['cc_returns'] = df4['Close'].pct_change()\n",
    "df4['strategy_returns'] = df4['cc_returns'] * df4['position']\n",
    "\n",
    "df4['cumulative_returns'] = (1 + df4['strategy_returns']).cumprod() - 1\n",
    "\n",
    "df4['cumulative_returns'].plot(figsize=(12, 8), grid=True)\n",
    "\n",
    "df4[['cumulative_returns', 'position']].plot(figsize=(12, 8), secondary_y='position', grid=True)\n",
    "\n",
    "```"
   ]
  },
  {
   "cell_type": "markdown",
   "metadata": {},
   "source": [
    "#### A glimpse of [`Pyfolio`](https://pypi.org/project/pyfolio/)\n",
    "\n",
    "From the documentation:\n",
    "\n",
    "> `Pyfolio` is a Python library for the performance and risk analysis of financial portfolios. At its core, is a so-called **tear sheet** that consists of various individual plots that provide a comprehensive performance overview of a portfolio.\n",
    "\n",
    "> Pyfolio analyzes a backtest and provides a wealth of performance statistics commonly used by professional fund managers including annual/monthly returns, return quantiles, rolling beta/Sharpe ratios, portfolio turnover, and more.\n",
    "\n"
   ]
  },
  {
   "cell_type": "markdown",
   "metadata": {},
   "source": [
    "```python\n",
    "\n",
    "import pyfolio as pf\n",
    "pf.create_simple_tear_sheet(df4['strategy_returns'], benchmark_rets=None)\n",
    "pf.create_full_tear_sheet(df4['cc_returns'])\n",
    "```"
   ]
  },
  {
   "cell_type": "markdown",
   "metadata": {},
   "source": [
    "#### Automating the download of multiple stocks\n",
    "\n",
    "We can download data for stocks in multiple ways using APIs provided by data vendors.\n",
    "Data vendors provide the the data in different formats and the methods used to download it and munge it, vary. I've adapted the approach from [here](https://gist.github.com/CNuge).\n",
    "\n",
    "Please ensure that your `pandas-datareader` is installed and working.\n",
    "\n",
    "The `futures` module in the library `concurrent` provides a high level API to perform parallel tasks. This works like a charm when you have a lot of data to download since it can happen in parallel.\n",
    "\n",
    "```python\n",
    "\n",
    "import pandas as pd\n",
    "import pandas_datareader.data as web\n",
    "import numpy as np\n",
    "import datetime\n",
    "import matplotlib.pyplot as plt\n",
    "from concurrent import futures\n",
    "```"
   ]
  },
  {
   "cell_type": "markdown",
   "metadata": {},
   "source": [
    "```python\n",
    "\n",
    "def download_stocks(stock):\n",
    "    try:\n",
    "        print('Trying to retrieve the %s symbol...\\n' % (stock))\n",
    "        stock_df = web.DataReader(stock, 'yahoo', start, end)\n",
    "        stock_df['Name'] = stock\n",
    "        output_name = stock + '.csv'\n",
    "        list_stocks.append(output_name)\n",
    "        stock_df.to_csv(output_name)\n",
    "        print('Symbol %s downloaded OK.\\n' % (stock))\n",
    "    except:\n",
    "        bad_tickers.append(stock)\n",
    "        print('Problems downloading the %s symbol.\\n' % (stock))\n",
    "        \n",
    "stocksList = ['MSFT', 'AAPL', 'IBM', 'DELL', 'HP', \n",
    "              'TSLA', 'AMZN', 'AIG', 'STJ', 'WMT', \n",
    "              'LVLT', 'SBUX', 'CL', 'NKE', 'FOSL', \n",
    "              'MMM', 'DOW', 'NFLX', 'CVS', 'D' ]\n",
    "list_stocks = []\n",
    "\n",
    "### Keeping track of failed ticker download queries\n",
    "bad_tickers = []\n",
    "\n",
    "end = datetime.datetime.now().date()\n",
    "start = end - pd.Timedelta(days = 365 * 10)\n",
    "\n",
    "# We use the concurrent.futures module's ThreadPoolExecutor \n",
    "# to speed up the downloads by doing them in parallel rather than serially\n",
    "    \n",
    "### Set the maximum thread number\n",
    "max_workers = 50\n",
    "\n",
    "workers = min(max_workers, len(stocksList)) \n",
    "### In case a smaller number of stocks than threads was passed in\n",
    "with futures.ThreadPoolExecutor(workers) as executor:\n",
    "    res = executor.map(download_stocks, stocksList)\n",
    "### map allows multiple calls to the given function. It passes each of the items in stocksList (any \n",
    "### iterable) to the function. Here, it can happen concurrently because of the ThreadPoolExecutor()\n",
    "### subClass\n",
    "```"
   ]
  },
  {
   "cell_type": "code",
   "execution_count": null,
   "metadata": {},
   "outputs": [],
   "source": []
  },
  {
   "cell_type": "code",
   "execution_count": null,
   "metadata": {},
   "outputs": [],
   "source": []
  },
  {
   "cell_type": "code",
   "execution_count": null,
   "metadata": {},
   "outputs": [],
   "source": []
  },
  {
   "cell_type": "code",
   "execution_count": null,
   "metadata": {},
   "outputs": [],
   "source": []
  }
 ],
 "metadata": {
  "kernelspec": {
   "display_name": "Python 3",
   "language": "python",
   "name": "python3"
  },
  "language_info": {
   "codemirror_mode": {
    "name": "ipython",
    "version": 3
   },
   "file_extension": ".py",
   "mimetype": "text/x-python",
   "name": "python",
   "nbconvert_exporter": "python",
   "pygments_lexer": "ipython3",
   "version": "3.7.9"
  }
 },
 "nbformat": 4,
 "nbformat_minor": 4
}
