{
 "cells": [
  {
   "cell_type": "markdown",
   "metadata": {},
   "source": [
    "### **Following notebook is created for quick revision of Epat course**\n"
   ]
  },
  {
   "cell_type": "markdown",
   "metadata": {},
   "source": [
    "- Financial Markets\n",
    "\n",
    "cash |Equity Stock| Debt based bonds | FX Instruments spot\n",
    "-----|------|------------------|--------------------\n",
    "Derivatives|Equity Futures| Fixed Income Swaps | Currency Swaps\n",
    "\n",
    "---\n",
    "\n",
    "financial asset of one entity to other entity as International accounting standards is considered as an Financial Asset\n",
    "\n",
    "- Types of stocks \n",
    "    - common stocks - can vote and dividends \n",
    "    - preferred stocks - cannot vote and dividends before share holders\n",
    "- Types of markets \n",
    "    - primary markets - IPO process and funds to company \n",
    "    - secondary markets - instruments are traded among holders\n",
    "    \n",
    "- Process of IPO - With the help of an underwriter’s company will be bought and sold to investors where company will also go through regulations and stuff \n",
    "\n",
    "\n",
    "- Financial Intermediaries\n",
    "    - Brokers\n",
    "    - clearing members\n",
    "    - central security depositories \n",
    "    - regulators\n",
    "    - exchange \n",
    "    \n",
    "1) Exchange \n",
    "- They make sure that primary and secondary market needs are addressed \n",
    "-  raising capital, Ensure fair pricing of securities, Transaction safety, Liquidity, Indices, Necessary measures to protect investors\n",
    "\n",
    "2) Brokers\n",
    "- terminal, order placement, risk checking, Leverage, advisory services, Portfolio management tools, different market access\n",
    "- different commission-based services \n",
    "\n",
    "3) Central Security Depositories\n",
    "\n",
    "- holds securities of account holders in digital or physical form\n",
    "- brokers, banks, clearing members etc. \n",
    "\n",
    "4) Clearing members: \n",
    "- Makes sure that the transactions and done, debit and creditors receive the fund else an auction is triggered \n",
    "- works with NSD, clears and reconciliation of trades and risk management\n",
    "\n",
    "5) Regulators \n",
    "\n",
    "- Who regulates financial entity Bankers regulating banks, example: SEBI\n",
    "\n",
    "Indices - Global, National, Sectoral, Asset\n",
    "Global are MCSI and S&P 100\n",
    "National - S&P 500 and Nifty\n",
    "sectoral are - Nifty energy and nifty bank\n",
    "Asset are stock commodity \n",
    "\n",
    "Link all country major exchanges and commodity and currency major exchanges \n",
    "\n",
    "- Market participants - **Investors the other are traders**\n",
    "- speculators, arbitrageurs - FtoF, Ctof, Correlation, Pure arbitrage - Exchange,hedger \n",
    "- instituotional and retailers "
   ]
  },
  {
   "cell_type": "markdown",
   "metadata": {
    "execution": {
     "iopub.execute_input": "2020-12-27T11:05:45.233192Z",
     "iopub.status.busy": "2020-12-27T11:05:45.232192Z",
     "iopub.status.idle": "2020-12-27T11:05:45.246195Z",
     "shell.execute_reply": "2020-12-27T11:05:45.245194Z",
     "shell.execute_reply.started": "2020-12-27T11:05:45.233192Z"
    }
   },
   "source": [
    "- Types of Financial markets\n",
    "    - Based on Product = Stock commmodity and cuyrrency markets \n",
    "    - Based on place of trading = Over the counter and exchange traded fund "
   ]
  },
  {
   "cell_type": "markdown",
   "metadata": {},
   "source": [
    "## Statistics \n"
   ]
  },
  {
   "cell_type": "markdown",
   "metadata": {},
   "source": [
    "lot of data hence statistics, This is applied in many domains \n",
    "\n",
    "There are two types:\n",
    "\n",
    "- Descriptive - this is to summarise, organise and present the data \n",
    "\n",
    "- Inferential - this is to make inference from a population.\n",
    "\n",
    "There are two data types:\n",
    "\n",
    "- Qualitative - can be a group or non numerical values \n",
    "- Quantitative - contious set of numbers , discrete set of numbers\n",
    "\n",
    "Frequency distribution of data - \n",
    "1) Line chart 2) Pie chart 3) Bar chark 4) Histogram = frequency of distribution of continous data set.\n",
    "\n"
   ]
  },
  {
   "cell_type": "markdown",
   "metadata": {},
   "source": [
    "TO summarize we need to find the central tendency and dispersion \n",
    "\n",
    "1. Mean \n",
    "\n",
    "2. Meadian \n",
    "\n",
    "3. Mode\n",
    "\n",
    "4. SD - $ sqrt( sigma(ni -mean) / (n-1)) $ \n",
    "\n",
    "5. Variance \n",
    "\n",
    "6. Range "
   ]
  },
  {
   "cell_type": "markdown",
   "metadata": {
    "execution": {
     "iopub.execute_input": "2020-12-31T10:40:23.892762Z",
     "iopub.status.busy": "2020-12-31T10:40:23.892762Z",
     "iopub.status.idle": "2020-12-31T10:40:23.903299Z",
     "shell.execute_reply": "2020-12-31T10:40:23.903299Z",
     "shell.execute_reply.started": "2020-12-31T10:40:23.892762Z"
    }
   },
   "source": [
    "### Probability\n",
    "\n",
    "Union - event occuring in atleast one of A and B \n",
    "\n",
    "Intersection - Event occurring in both A and B \n",
    "\n",
    "independant = an event is not dependant of the other event and mutually exclusive = both cannot occur at the same time \n",
    "\n",
    "conditional probability \n",
    "\n",
    "OR - independant = AB = BA just ADD | Combination | Getting a 4 in first and second toss\n",
    "\n",
    "And - Dependant = AB != BA and Multiply | permutation \n",
    "\n",
    "Conditional probability \n",
    "\n",
    "Bayes Theorem \n",
    "\n",
    "### Probability Distribution of Random Variable "
   ]
  },
  {
   "cell_type": "markdown",
   "metadata": {},
   "source": [
    "Value obtained after an Experiment is called random variable \n",
    "\n",
    "RV is two types:\n",
    "\n",
    "- Discrete random variable.\n",
    "\n",
    "- Continous random variable.\n",
    "\n",
    "- PMF where Y axis is Probability and x axis is the eventy \n",
    "\n",
    "- PDF where Y axis is density = Probability per unit length and x is the event and area gives rise to Probability.\n"
   ]
  },
  {
   "cell_type": "markdown",
   "metadata": {},
   "source": [
    "### Statistical distribution\n",
    "\n",
    "- Normal\n",
    "\n",
    "- T Normal distribution \n",
    "\n",
    "- Log normal \n",
    "\n",
    "- Exponential"
   ]
  },
  {
   "cell_type": "markdown",
   "metadata": {},
   "source": [
    "### Normal Distribution\n",
    "---"
   ]
  },
  {
   "cell_type": "code",
   "execution_count": 15,
   "metadata": {
    "execution": {
     "iopub.execute_input": "2021-01-01T12:27:55.557143Z",
     "iopub.status.busy": "2021-01-01T12:27:55.557143Z",
     "iopub.status.idle": "2021-01-01T12:27:55.748830Z",
     "shell.execute_reply": "2021-01-01T12:27:55.748830Z",
     "shell.execute_reply.started": "2021-01-01T12:27:55.557143Z"
    }
   },
   "outputs": [],
   "source": [
    "from selenium import webdriver "
   ]
  },
  {
   "cell_type": "code",
   "execution_count": 19,
   "metadata": {
    "execution": {
     "iopub.execute_input": "2021-01-01T12:33:27.569213Z",
     "iopub.status.busy": "2021-01-01T12:33:27.569213Z",
     "iopub.status.idle": "2021-01-01T12:33:27.587931Z",
     "shell.execute_reply": "2021-01-01T12:33:27.586399Z",
     "shell.execute_reply.started": "2021-01-01T12:33:27.569213Z"
    }
   },
   "outputs": [
    {
     "ename": "TypeError",
     "evalue": "'module' object is not callable",
     "output_type": "error",
     "traceback": [
      "\u001b[1;31m---------------------------------------------------------------------------\u001b[0m",
      "\u001b[1;31mTypeError\u001b[0m                                 Traceback (most recent call last)",
      "\u001b[1;32m<ipython-input-19-5d970f286a51>\u001b[0m in \u001b[0;36m<module>\u001b[1;34m\u001b[0m\n\u001b[0;32m      2\u001b[0m \u001b[1;33m\u001b[0m\u001b[0m\n\u001b[0;32m      3\u001b[0m \u001b[1;33m\u001b[0m\u001b[0m\n\u001b[1;32m----> 4\u001b[1;33m \u001b[0mdriver\u001b[0m \u001b[1;33m=\u001b[0m \u001b[0mwebdriver\u001b[0m\u001b[1;33m.\u001b[0m\u001b[0medge\u001b[0m\u001b[1;33m(\u001b[0m\u001b[0mexecutable_path\u001b[0m \u001b[1;33m=\u001b[0m \u001b[1;34m\"D:\\software\\edgedriver_win64\"\u001b[0m\u001b[1;33m)\u001b[0m\u001b[1;33m\u001b[0m\u001b[1;33m\u001b[0m\u001b[0m\n\u001b[0m",
      "\u001b[1;31mTypeError\u001b[0m: 'module' object is not callable"
     ]
    }
   ],
   "source": [
    "#help(selenium)\n",
    "\n",
    "\n",
    "driver = webdriver.edge(executable_path = \"D:\\software\\edgedriver_win64\")"
   ]
  },
  {
   "cell_type": "markdown",
   "metadata": {},
   "source": []
  },
  {
   "cell_type": "markdown",
   "metadata": {},
   "source": []
  },
  {
   "cell_type": "markdown",
   "metadata": {},
   "source": []
  }
 ],
 "metadata": {
  "kernelspec": {
   "display_name": "Python 3",
   "language": "python",
   "name": "python3"
  },
  "language_info": {
   "codemirror_mode": {
    "name": "ipython",
    "version": 3
   },
   "file_extension": ".py",
   "mimetype": "text/x-python",
   "name": "python",
   "nbconvert_exporter": "python",
   "pygments_lexer": "ipython3",
   "version": "3.7.6"
  }
 },
 "nbformat": 4,
 "nbformat_minor": 4
}
