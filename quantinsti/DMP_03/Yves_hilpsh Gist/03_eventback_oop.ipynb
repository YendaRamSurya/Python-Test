{
 "cells": [
  {
   "cell_type": "markdown",
   "metadata": {},
   "source": [
    "<img src=\"http://certificate.tpq.io/tpq_logo.png\" alt=\"The Python Quants\" width=\"35%\" align=\"right\" border=\"0\"><br>"
   ]
  },
  {
   "cell_type": "markdown",
   "metadata": {},
   "source": [
    "# EPAT Session 2"
   ]
  },
  {
   "cell_type": "markdown",
   "metadata": {},
   "source": [
    "**Executive Program in Algorithmic Trading**\n",
    "\n",
    "**_OOP & Event-Based Backtesting_**\n",
    "\n",
    "Prof. Dr. Yves J. Hilpisch | The Python Quants GmbH | http://tpq.io"
   ]
  },
  {
   "cell_type": "markdown",
   "metadata": {},
   "source": [
    "<a href=\"http://shop.oreilly.com/product/0636920269861.do\" target=\"_blank\"><img src=\"https://hilpisch.com/aiif_cover.png\" width=\"300px\" align=\"left\" border=\"1px\"></a>"
   ]
  },
  {
   "cell_type": "markdown",
   "metadata": {},
   "source": [
    "## Basic Imports"
   ]
  },
  {
   "cell_type": "code",
   "execution_count": null,
   "metadata": {},
   "outputs": [],
   "source": [
    "import time\n",
    "import numpy as np\n",
    "import pandas as pd\n",
    "from pylab import plt\n",
    "plt.style.use('seaborn')\n",
    "pd.set_option('mode.chained_assignment', None)"
   ]
  },
  {
   "cell_type": "markdown",
   "metadata": {},
   "source": [
    "## OOP"
   ]
  },
  {
   "cell_type": "code",
   "execution_count": null,
   "metadata": {},
   "outputs": [],
   "source": [
    "pd.__version__  # package"
   ]
  },
  {
   "cell_type": "code",
   "execution_count": null,
   "metadata": {},
   "outputs": [],
   "source": [
    "pd.DataFrame  # class from the package"
   ]
  },
  {
   "cell_type": "code",
   "execution_count": null,
   "metadata": {},
   "outputs": [],
   "source": [
    "df = pd.DataFrame()  # instance of the class"
   ]
  },
  {
   "cell_type": "code",
   "execution_count": null,
   "metadata": {},
   "outputs": [],
   "source": [
    "type(df)  # type of object"
   ]
  },
  {
   "cell_type": "markdown",
   "metadata": {},
   "source": [
    "## Reading Financial Data"
   ]
  },
  {
   "cell_type": "code",
   "execution_count": null,
   "metadata": {},
   "outputs": [],
   "source": [
    "url = 'http://hilpisch.com/aiif_eikon_eod_data.csv'  # EOD data\n",
    "# url = 'http://hilpisch.com/aiif_eikon_id_data.csv'  # intraday data"
   ]
  },
  {
   "cell_type": "code",
   "execution_count": null,
   "metadata": {},
   "outputs": [],
   "source": [
    "raw = pd.read_csv(url, index_col=0, parse_dates=True).dropna()"
   ]
  },
  {
   "cell_type": "code",
   "execution_count": null,
   "metadata": {},
   "outputs": [],
   "source": [
    "class FinancialData:\n",
    "    url = 'http://hilpisch.com/aiif_eikon_eod_data.csv'\n",
    "    def __init__(self, symbol):  # called during instantiation\n",
    "        self.symbol = symbol  # instance attribute\n",
    "        self.prepare_data()  # calls the method\n",
    "    def prepare_data(self):  # instance method\n",
    "        self.raw = pd.read_csv(self.url, index_col=0,\n",
    "                               parse_dates=True).dropna()\n",
    "        self.data = pd.DataFrame(self.raw[self.symbol])\n",
    "        self.data['r'] = np.log(self.data / self.data.shift(1))\n",
    "    def plot_data(self, cols=None):\n",
    "        if cols is None:\n",
    "            cols = [self.symbol]\n",
    "        self.data[cols].plot(figsize=(10, 6))"
   ]
  },
  {
   "cell_type": "markdown",
   "metadata": {},
   "source": [
    "## Event-Based View/Approach"
   ]
  },
  {
   "cell_type": "code",
   "execution_count": null,
   "metadata": {},
   "outputs": [],
   "source": [
    "for bar in range(10):\n",
    "    print(bar, raw.index[bar], raw['EUR='].iloc[bar])\n",
    "    time.sleep(1)"
   ]
  },
  {
   "cell_type": "markdown",
   "metadata": {},
   "source": [
    "## Event-Based Backtesting (Base Class)"
   ]
  },
  {
   "cell_type": "code",
   "execution_count": null,
   "metadata": {},
   "outputs": [],
   "source": [
    "class BacktestingBase(FinancialData):\n",
    "    def __init__(self, symbol, amount, verbose=True):\n",
    "        super(BacktestingBase, self).__init__(symbol)\n",
    "        self.initial_balance = amount\n",
    "        self.current_balance = amount\n",
    "        self.verbose=verbose\n",
    "        self.units = 0\n",
    "        self.trades = 0\n",
    "    def get_date_price(self, bar):\n",
    "        date = str(self.data.index[bar])[:10]\n",
    "        price = self.data[self.symbol].iloc[bar]\n",
    "        return date, price\n",
    "    def print_current_balance(self, bar):\n",
    "        date, price = self.get_date_price(bar)\n",
    "        print(f'{date} | current balance = {self.current_balance:.2f}')\n",
    "    def print_net_wealth(self, bar):\n",
    "        date, price = self.get_date_price(bar)\n",
    "        net_wealth = self.current_balance + self.units * price\n",
    "        print(f'{date} | net wealth = {net_wealth:.2f}')\n",
    "    def place_buy_order(self, bar, units=None, amount=None):\n",
    "        date, price = self.get_date_price(bar)\n",
    "        if units is None:\n",
    "            units = int(amount / price)\n",
    "        self.current_balance -= units * price\n",
    "        self.units += units\n",
    "        if self.verbose:\n",
    "            print(f'{date} | buy  {units} units for {price}')\n",
    "            self.print_current_balance(bar)\n",
    "            self.print_net_wealth(bar)\n",
    "        self.trades += 1\n",
    "    def place_sell_order(self, bar, units=None, amount=None):\n",
    "        date, price = self.get_date_price(bar)\n",
    "        if units is None:\n",
    "            units = int(amount / price)\n",
    "        self.current_balance += units * price\n",
    "        self.units -= units\n",
    "        if self.verbose:\n",
    "            print(f'{date} | sell {units} units for {price}')\n",
    "            self.print_current_balance(bar)\n",
    "            self.print_net_wealth(bar)\n",
    "        self.trades += 1\n",
    "    def close_out(self, bar):\n",
    "        date, price = self.get_date_price(bar)\n",
    "        self.current_balance += self.units * price\n",
    "        print(55 * '=')\n",
    "        print(f'*** CLOSING OUT FINAL POSITION ***')\n",
    "        print(55 * '=')\n",
    "        print(f'{date} | closing out {self.units} for {price}')\n",
    "        self.units = 0\n",
    "        self.trades += 1\n",
    "        aperf = self.current_balance - self.initial_balance\n",
    "        rperf = aperf / self.initial_balance * 100\n",
    "        self.print_current_balance(bar)\n",
    "        self.print_net_wealth(bar)\n",
    "        print(f'{date} | # of trades = {self.trades}')\n",
    "        print(f'{date} | aperf = {aperf:.2f} | rperf = {rperf:.3f}[%]')\n",
    "        print(55 * '=')"
   ]
  },
  {
   "cell_type": "code",
   "execution_count": null,
   "metadata": {},
   "outputs": [],
   "source": [
    "bb = BacktestingBase('EUR=', 10000, verbose=True)"
   ]
  },
  {
   "cell_type": "code",
   "execution_count": null,
   "metadata": {},
   "outputs": [],
   "source": [
    "bb.get_date_price(100)"
   ]
  },
  {
   "cell_type": "code",
   "execution_count": null,
   "metadata": {},
   "outputs": [],
   "source": [
    "bb.print_current_balance(100)"
   ]
  },
  {
   "cell_type": "code",
   "execution_count": null,
   "metadata": {},
   "outputs": [],
   "source": [
    "bb.place_buy_order(100, units=1000)"
   ]
  },
  {
   "cell_type": "code",
   "execution_count": null,
   "metadata": {},
   "outputs": [],
   "source": [
    "bb.place_buy_order(200, amount=2500)"
   ]
  },
  {
   "cell_type": "code",
   "execution_count": null,
   "metadata": {},
   "outputs": [],
   "source": [
    "bb.place_sell_order(500, units=500)"
   ]
  },
  {
   "cell_type": "code",
   "execution_count": null,
   "metadata": {},
   "outputs": [],
   "source": [
    "bb.units"
   ]
  },
  {
   "cell_type": "code",
   "execution_count": null,
   "metadata": {},
   "outputs": [],
   "source": [
    "bb.close_out(1000)"
   ]
  },
  {
   "cell_type": "markdown",
   "metadata": {},
   "source": [
    "## Event-Based Backtesting (SMA Strategy)"
   ]
  },
  {
   "cell_type": "code",
   "execution_count": null,
   "metadata": {},
   "outputs": [],
   "source": [
    "class SMABacktesterEvent(BacktestingBase):\n",
    "    def prepare_statistics(self):\n",
    "        self.data['SMA1'] = self.data[self.symbol].rolling(self.SMA1).mean()\n",
    "        self.data['SMA2'] = self.data[self.symbol].rolling(self.SMA2).mean()\n",
    "    def run_strategy(self, SMA1, SMA2):\n",
    "        self.trades = 0\n",
    "        self.position = 0\n",
    "        self.SMA1 = SMA1\n",
    "        self.SMA2 = SMA2\n",
    "        self.prepare_statistics()\n",
    "        print(55 * '=')\n",
    "        print(f'RUN BACKTEST | {self.symbol} | SMA1={self.SMA1} | SMA2={self.SMA2}')\n",
    "        print(55 * '=')\n",
    "        for bar in range(self.SMA2, len(self.data)):\n",
    "            if self.position in [0, -1]:\n",
    "                if self.data['SMA1'].iloc[bar] > self.data['SMA2'].iloc[bar]:\n",
    "                    # place a buy order --> go long\n",
    "                    self.place_buy_order(bar, units=(1 - self.position) * 5000)\n",
    "                    self.position = 1\n",
    "            elif self.position in [0, 1]:\n",
    "                if self.data['SMA1'].iloc[bar] < self.data['SMA2'].iloc[bar]:\n",
    "                    # place a sell order --> go short\n",
    "                    self.place_sell_order(bar, units=(1 + self.position) * 5000)\n",
    "                    self.position = -1\n",
    "        self.close_out(bar)"
   ]
  },
  {
   "cell_type": "code",
   "execution_count": null,
   "metadata": {},
   "outputs": [],
   "source": [
    "sma = SMABacktesterEvent('EUR=', 10000)"
   ]
  },
  {
   "cell_type": "code",
   "execution_count": null,
   "metadata": {},
   "outputs": [],
   "source": [
    "sma.run_strategy(42, 252)\n"
   ]
  },
  {
   "cell_type": "code",
   "execution_count": 9,
   "metadata": {
    "execution": {
     "iopub.execute_input": "2021-02-18T17:48:16.600317Z",
     "iopub.status.busy": "2021-02-18T17:48:16.600317Z",
     "iopub.status.idle": "2021-02-18T17:48:16.607844Z",
     "shell.execute_reply": "2021-02-18T17:48:16.607844Z",
     "shell.execute_reply.started": "2021-02-18T17:48:16.600317Z"
    }
   },
   "outputs": [
    {
     "name": "stdout",
     "output_type": "stream",
     "text": [
      "bullshit\n"
     ]
    }
   ],
   "source": [
    "class MyClass:\n",
    "    \"\"\"A simple example class\"\"\"\n",
    "    i = 12345\n",
    "    @classmethod\n",
    "    def f(cls):\n",
    "        return 'hello world'\n",
    "    @property\n",
    "    def name(self):\n",
    "        print('bullshit')\n",
    "shit = MyClass()\n",
    "shit.name"
   ]
  },
  {
   "cell_type": "markdown",
   "metadata": {},
   "source": [
    "<img src=\"http://certificate.tpq.io/tpq_logo.png\" alt=\"The Python Quants\" width=\"35%\" align=\"right\" border=\"0\"><br>"
   ]
  }
 ],
 "metadata": {
  "kernelspec": {
   "display_name": "Python 3",
   "language": "python",
   "name": "python3"
  },
  "language_info": {
   "codemirror_mode": {
    "name": "ipython",
    "version": 3
   },
   "file_extension": ".py",
   "mimetype": "text/x-python",
   "name": "python",
   "nbconvert_exporter": "python",
   "pygments_lexer": "ipython3",
   "version": "3.7.9"
  }
 },
 "nbformat": 4,
 "nbformat_minor": 4
}
