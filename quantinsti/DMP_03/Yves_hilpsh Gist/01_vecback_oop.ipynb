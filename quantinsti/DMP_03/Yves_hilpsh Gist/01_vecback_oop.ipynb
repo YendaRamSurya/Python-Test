{
 "cells": [
  {
   "cell_type": "markdown",
   "metadata": {},
   "source": [
    "<img src=\"http://certificate.tpq.io/tpq_logo.png\" alt=\"The Python Quants\" width=\"35%\" align=\"right\" border=\"0\"><br>"
   ]
  },
  {
   "cell_type": "markdown",
   "metadata": {},
   "source": [
    "# EPAT Session 1"
   ]
  },
  {
   "cell_type": "markdown",
   "metadata": {},
   "source": [
    "**Executive Program in Algorithmic Trading**\n",
    "\n",
    "**_Vectorized Backtesting_**\n",
    "\n",
    "Prof. Dr. Yves J. Hilpisch | The Python Quants GmbH | http://tpq.io"
   ]
  },
  {
   "cell_type": "markdown",
   "metadata": {},
   "source": [
    "<a href=\"http://shop.oreilly.com/product/0636920269861.do\" target=\"_blank\"><img src=\"https://hilpisch.com/aiif_cover.png\" width=\"300px\" align=\"left\" border=\"1px\"></a>"
   ]
  },
  {
   "cell_type": "markdown",
   "metadata": {},
   "source": [
    "## Basic Imports"
   ]
  },
  {
   "cell_type": "code",
   "execution_count": 1,
   "metadata": {
    "execution": {
     "iopub.execute_input": "2021-02-18T14:11:40.599533Z",
     "iopub.status.busy": "2021-02-18T14:11:40.599533Z",
     "iopub.status.idle": "2021-02-18T14:11:41.363740Z",
     "shell.execute_reply": "2021-02-18T14:11:41.363740Z",
     "shell.execute_reply.started": "2021-02-18T14:11:40.599533Z"
    }
   },
   "outputs": [],
   "source": [
    "import numpy as np\n",
    "import pandas as pd\n",
    "from pylab import plt\n",
    "plt.style.use('seaborn')\n",
    "pd.set_option('mode.chained_assignment', None)"
   ]
  },
  {
   "cell_type": "markdown",
   "metadata": {},
   "source": [
    "## Reading Financial Data"
   ]
  },
  {
   "cell_type": "code",
   "execution_count": 2,
   "metadata": {
    "execution": {
     "iopub.execute_input": "2021-02-18T14:11:41.701817Z",
     "iopub.status.busy": "2021-02-18T14:11:41.701817Z",
     "iopub.status.idle": "2021-02-18T14:11:41.708382Z",
     "shell.execute_reply": "2021-02-18T14:11:41.707819Z",
     "shell.execute_reply.started": "2021-02-18T14:11:41.701817Z"
    }
   },
   "outputs": [],
   "source": [
    "#url = 'http://hilpisch.com/aiif_eikon_eod_data.csv'  # EOD data\n",
    "url = 'http://hilpisch.com/aiif_eikon_id_data.csv'  # intraday data"
   ]
  },
  {
   "cell_type": "code",
   "execution_count": 3,
   "metadata": {
    "execution": {
     "iopub.execute_input": "2021-02-18T14:11:43.523416Z",
     "iopub.status.busy": "2021-02-18T14:11:43.523416Z",
     "iopub.status.idle": "2021-02-18T14:11:45.356680Z",
     "shell.execute_reply": "2021-02-18T14:11:45.355673Z",
     "shell.execute_reply.started": "2021-02-18T14:11:43.523416Z"
    }
   },
   "outputs": [],
   "source": [
    "raw = pd.read_csv(url, index_col=0, parse_dates=True).dropna()"
   ]
  },
  {
   "cell_type": "code",
   "execution_count": 4,
   "metadata": {
    "execution": {
     "iopub.execute_input": "2021-02-18T14:11:45.357678Z",
     "iopub.status.busy": "2021-02-18T14:11:45.357678Z",
     "iopub.status.idle": "2021-02-18T14:11:45.371666Z",
     "shell.execute_reply": "2021-02-18T14:11:45.370667Z",
     "shell.execute_reply.started": "2021-02-18T14:11:45.357678Z"
    }
   },
   "outputs": [
    {
     "name": "stdout",
     "output_type": "stream",
     "text": [
      "<class 'pandas.core.frame.DataFrame'>\n",
      "DatetimeIndex: 1686 entries, 2019-03-01 15:00:00 to 2019-12-31 22:00:00\n",
      "Data columns (total 12 columns):\n",
      " #   Column  Non-Null Count  Dtype  \n",
      "---  ------  --------------  -----  \n",
      " 0   AAPL.O  1686 non-null   float64\n",
      " 1   MSFT.O  1686 non-null   float64\n",
      " 2   INTC.O  1686 non-null   float64\n",
      " 3   AMZN.O  1686 non-null   float64\n",
      " 4   GS.N    1686 non-null   float64\n",
      " 5   SPY     1686 non-null   float64\n",
      " 6   .SPX    1686 non-null   float64\n",
      " 7   .VIX    1686 non-null   float64\n",
      " 8   EUR=    1686 non-null   float64\n",
      " 9   XAU=    1686 non-null   float64\n",
      " 10  GDX     1686 non-null   float64\n",
      " 11  GLD     1686 non-null   float64\n",
      "dtypes: float64(12)\n",
      "memory usage: 171.2 KB\n"
     ]
    }
   ],
   "source": [
    "raw.info()"
   ]
  },
  {
   "cell_type": "code",
   "execution_count": 6,
   "metadata": {
    "execution": {
     "iopub.execute_input": "2021-02-18T11:12:26.587806Z",
     "iopub.status.busy": "2021-02-18T11:12:26.587806Z",
     "iopub.status.idle": "2021-02-18T11:12:26.610811Z",
     "shell.execute_reply": "2021-02-18T11:12:26.610811Z",
     "shell.execute_reply.started": "2021-02-18T11:12:26.587806Z"
    }
   },
   "outputs": [
    {
     "data": {
      "text/html": [
       "<div>\n",
       "<style scoped>\n",
       "    .dataframe tbody tr th:only-of-type {\n",
       "        vertical-align: middle;\n",
       "    }\n",
       "\n",
       "    .dataframe tbody tr th {\n",
       "        vertical-align: top;\n",
       "    }\n",
       "\n",
       "    .dataframe thead th {\n",
       "        text-align: right;\n",
       "    }\n",
       "</style>\n",
       "<table border=\"1\" class=\"dataframe\">\n",
       "  <thead>\n",
       "    <tr style=\"text-align: right;\">\n",
       "      <th></th>\n",
       "      <th>AAPL.O</th>\n",
       "      <th>MSFT.O</th>\n",
       "      <th>INTC.O</th>\n",
       "      <th>AMZN.O</th>\n",
       "      <th>GS.N</th>\n",
       "      <th>SPY</th>\n",
       "      <th>.SPX</th>\n",
       "      <th>.VIX</th>\n",
       "      <th>EUR=</th>\n",
       "      <th>XAU=</th>\n",
       "      <th>GDX</th>\n",
       "      <th>GLD</th>\n",
       "    </tr>\n",
       "    <tr>\n",
       "      <th>Date</th>\n",
       "      <th></th>\n",
       "      <th></th>\n",
       "      <th></th>\n",
       "      <th></th>\n",
       "      <th></th>\n",
       "      <th></th>\n",
       "      <th></th>\n",
       "      <th></th>\n",
       "      <th></th>\n",
       "      <th></th>\n",
       "      <th></th>\n",
       "      <th></th>\n",
       "    </tr>\n",
       "  </thead>\n",
       "  <tbody>\n",
       "    <tr>\n",
       "      <th>2019-03-01 15:00:00</th>\n",
       "      <td>174.2200</td>\n",
       "      <td>112.4800</td>\n",
       "      <td>53.64</td>\n",
       "      <td>1657.7300</td>\n",
       "      <td>200.69</td>\n",
       "      <td>280.7900</td>\n",
       "      <td>2807.02</td>\n",
       "      <td>14.11</td>\n",
       "      <td>1.1395</td>\n",
       "      <td>1308.3781</td>\n",
       "      <td>22.135</td>\n",
       "      <td>123.6200</td>\n",
       "    </tr>\n",
       "    <tr>\n",
       "      <th>2019-03-01 16:00:00</th>\n",
       "      <td>173.6850</td>\n",
       "      <td>112.0800</td>\n",
       "      <td>53.29</td>\n",
       "      <td>1659.4348</td>\n",
       "      <td>198.79</td>\n",
       "      <td>279.8200</td>\n",
       "      <td>2797.22</td>\n",
       "      <td>14.33</td>\n",
       "      <td>1.1384</td>\n",
       "      <td>1305.4611</td>\n",
       "      <td>22.160</td>\n",
       "      <td>123.3200</td>\n",
       "    </tr>\n",
       "    <tr>\n",
       "      <th>2019-03-01 17:00:00</th>\n",
       "      <td>173.3390</td>\n",
       "      <td>111.8300</td>\n",
       "      <td>52.94</td>\n",
       "      <td>1656.0000</td>\n",
       "      <td>197.68</td>\n",
       "      <td>279.1000</td>\n",
       "      <td>2789.84</td>\n",
       "      <td>14.61</td>\n",
       "      <td>1.1373</td>\n",
       "      <td>1301.2491</td>\n",
       "      <td>22.005</td>\n",
       "      <td>122.9348</td>\n",
       "    </tr>\n",
       "    <tr>\n",
       "      <th>2019-03-01 18:00:00</th>\n",
       "      <td>174.1901</td>\n",
       "      <td>112.3699</td>\n",
       "      <td>53.14</td>\n",
       "      <td>1662.3301</td>\n",
       "      <td>198.63</td>\n",
       "      <td>279.6800</td>\n",
       "      <td>2795.84</td>\n",
       "      <td>14.16</td>\n",
       "      <td>1.1364</td>\n",
       "      <td>1298.6105</td>\n",
       "      <td>21.925</td>\n",
       "      <td>122.6600</td>\n",
       "    </tr>\n",
       "    <tr>\n",
       "      <th>2019-03-01 19:00:00</th>\n",
       "      <td>174.5150</td>\n",
       "      <td>112.4500</td>\n",
       "      <td>53.08</td>\n",
       "      <td>1669.1700</td>\n",
       "      <td>197.96</td>\n",
       "      <td>279.7385</td>\n",
       "      <td>2796.37</td>\n",
       "      <td>13.91</td>\n",
       "      <td>1.1363</td>\n",
       "      <td>1296.2953</td>\n",
       "      <td>21.840</td>\n",
       "      <td>122.4650</td>\n",
       "    </tr>\n",
       "  </tbody>\n",
       "</table>\n",
       "</div>"
      ],
      "text/plain": [
       "                       AAPL.O    MSFT.O  INTC.O     AMZN.O    GS.N       SPY  \\\n",
       "Date                                                                           \n",
       "2019-03-01 15:00:00  174.2200  112.4800   53.64  1657.7300  200.69  280.7900   \n",
       "2019-03-01 16:00:00  173.6850  112.0800   53.29  1659.4348  198.79  279.8200   \n",
       "2019-03-01 17:00:00  173.3390  111.8300   52.94  1656.0000  197.68  279.1000   \n",
       "2019-03-01 18:00:00  174.1901  112.3699   53.14  1662.3301  198.63  279.6800   \n",
       "2019-03-01 19:00:00  174.5150  112.4500   53.08  1669.1700  197.96  279.7385   \n",
       "\n",
       "                        .SPX   .VIX    EUR=       XAU=     GDX       GLD  \n",
       "Date                                                                      \n",
       "2019-03-01 15:00:00  2807.02  14.11  1.1395  1308.3781  22.135  123.6200  \n",
       "2019-03-01 16:00:00  2797.22  14.33  1.1384  1305.4611  22.160  123.3200  \n",
       "2019-03-01 17:00:00  2789.84  14.61  1.1373  1301.2491  22.005  122.9348  \n",
       "2019-03-01 18:00:00  2795.84  14.16  1.1364  1298.6105  21.925  122.6600  \n",
       "2019-03-01 19:00:00  2796.37  13.91  1.1363  1296.2953  21.840  122.4650  "
      ]
     },
     "execution_count": 6,
     "metadata": {},
     "output_type": "execute_result"
    }
   ],
   "source": [
    "raw.head()"
   ]
  },
  {
   "cell_type": "code",
   "execution_count": 6,
   "metadata": {
    "execution": {
     "iopub.execute_input": "2021-02-18T07:48:42.998532Z",
     "iopub.status.busy": "2021-02-18T07:48:42.998532Z",
     "iopub.status.idle": "2021-02-18T07:48:43.020104Z",
     "shell.execute_reply": "2021-02-18T07:48:43.020104Z",
     "shell.execute_reply.started": "2021-02-18T07:48:42.998532Z"
    }
   },
   "outputs": [
    {
     "data": {
      "text/html": [
       "<div>\n",
       "<style scoped>\n",
       "    .dataframe tbody tr th:only-of-type {\n",
       "        vertical-align: middle;\n",
       "    }\n",
       "\n",
       "    .dataframe tbody tr th {\n",
       "        vertical-align: top;\n",
       "    }\n",
       "\n",
       "    .dataframe thead th {\n",
       "        text-align: right;\n",
       "    }\n",
       "</style>\n",
       "<table border=\"1\" class=\"dataframe\">\n",
       "  <thead>\n",
       "    <tr style=\"text-align: right;\">\n",
       "      <th></th>\n",
       "      <th>AAPL.O</th>\n",
       "      <th>MSFT.O</th>\n",
       "      <th>INTC.O</th>\n",
       "      <th>AMZN.O</th>\n",
       "      <th>GS.N</th>\n",
       "      <th>SPY</th>\n",
       "      <th>.SPX</th>\n",
       "      <th>.VIX</th>\n",
       "      <th>EUR=</th>\n",
       "      <th>XAU=</th>\n",
       "      <th>GDX</th>\n",
       "      <th>GLD</th>\n",
       "    </tr>\n",
       "    <tr>\n",
       "      <th>Date</th>\n",
       "      <th></th>\n",
       "      <th></th>\n",
       "      <th></th>\n",
       "      <th></th>\n",
       "      <th></th>\n",
       "      <th></th>\n",
       "      <th></th>\n",
       "      <th></th>\n",
       "      <th></th>\n",
       "      <th></th>\n",
       "      <th></th>\n",
       "      <th></th>\n",
       "    </tr>\n",
       "  </thead>\n",
       "  <tbody>\n",
       "    <tr>\n",
       "      <th>2019-12-31 18:00:00</th>\n",
       "      <td>292.0401</td>\n",
       "      <td>156.9050</td>\n",
       "      <td>59.620</td>\n",
       "      <td>1843.5250</td>\n",
       "      <td>229.20</td>\n",
       "      <td>320.67</td>\n",
       "      <td>3217.01</td>\n",
       "      <td>15.13</td>\n",
       "      <td>1.1227</td>\n",
       "      <td>1522.4597</td>\n",
       "      <td>29.465</td>\n",
       "      <td>143.42</td>\n",
       "    </tr>\n",
       "    <tr>\n",
       "      <th>2019-12-31 19:00:00</th>\n",
       "      <td>292.2057</td>\n",
       "      <td>156.9926</td>\n",
       "      <td>59.590</td>\n",
       "      <td>1845.2499</td>\n",
       "      <td>229.26</td>\n",
       "      <td>320.92</td>\n",
       "      <td>3219.38</td>\n",
       "      <td>14.33</td>\n",
       "      <td>1.1222</td>\n",
       "      <td>1520.1300</td>\n",
       "      <td>29.420</td>\n",
       "      <td>143.18</td>\n",
       "    </tr>\n",
       "    <tr>\n",
       "      <th>2019-12-31 20:00:00</th>\n",
       "      <td>292.3600</td>\n",
       "      <td>157.2845</td>\n",
       "      <td>59.575</td>\n",
       "      <td>1845.2200</td>\n",
       "      <td>228.92</td>\n",
       "      <td>320.94</td>\n",
       "      <td>3219.75</td>\n",
       "      <td>14.16</td>\n",
       "      <td>1.1215</td>\n",
       "      <td>1519.6451</td>\n",
       "      <td>29.400</td>\n",
       "      <td>143.12</td>\n",
       "    </tr>\n",
       "    <tr>\n",
       "      <th>2019-12-31 21:00:00</th>\n",
       "      <td>293.3700</td>\n",
       "      <td>157.4900</td>\n",
       "      <td>59.820</td>\n",
       "      <td>1846.9500</td>\n",
       "      <td>229.89</td>\n",
       "      <td>321.89</td>\n",
       "      <td>3230.56</td>\n",
       "      <td>13.92</td>\n",
       "      <td>1.1216</td>\n",
       "      <td>1517.3600</td>\n",
       "      <td>29.290</td>\n",
       "      <td>142.93</td>\n",
       "    </tr>\n",
       "    <tr>\n",
       "      <th>2019-12-31 22:00:00</th>\n",
       "      <td>293.8200</td>\n",
       "      <td>157.9000</td>\n",
       "      <td>59.990</td>\n",
       "      <td>1850.2000</td>\n",
       "      <td>229.93</td>\n",
       "      <td>322.39</td>\n",
       "      <td>3230.78</td>\n",
       "      <td>13.78</td>\n",
       "      <td>1.1210</td>\n",
       "      <td>1517.0100</td>\n",
       "      <td>29.300</td>\n",
       "      <td>142.90</td>\n",
       "    </tr>\n",
       "  </tbody>\n",
       "</table>\n",
       "</div>"
      ],
      "text/plain": [
       "                       AAPL.O    MSFT.O  INTC.O     AMZN.O    GS.N     SPY  \\\n",
       "Date                                                                         \n",
       "2019-12-31 18:00:00  292.0401  156.9050  59.620  1843.5250  229.20  320.67   \n",
       "2019-12-31 19:00:00  292.2057  156.9926  59.590  1845.2499  229.26  320.92   \n",
       "2019-12-31 20:00:00  292.3600  157.2845  59.575  1845.2200  228.92  320.94   \n",
       "2019-12-31 21:00:00  293.3700  157.4900  59.820  1846.9500  229.89  321.89   \n",
       "2019-12-31 22:00:00  293.8200  157.9000  59.990  1850.2000  229.93  322.39   \n",
       "\n",
       "                        .SPX   .VIX    EUR=       XAU=     GDX     GLD  \n",
       "Date                                                                    \n",
       "2019-12-31 18:00:00  3217.01  15.13  1.1227  1522.4597  29.465  143.42  \n",
       "2019-12-31 19:00:00  3219.38  14.33  1.1222  1520.1300  29.420  143.18  \n",
       "2019-12-31 20:00:00  3219.75  14.16  1.1215  1519.6451  29.400  143.12  \n",
       "2019-12-31 21:00:00  3230.56  13.92  1.1216  1517.3600  29.290  142.93  \n",
       "2019-12-31 22:00:00  3230.78  13.78  1.1210  1517.0100  29.300  142.90  "
      ]
     },
     "execution_count": 6,
     "metadata": {},
     "output_type": "execute_result"
    }
   ],
   "source": [
    "raw.tail()"
   ]
  },
  {
   "cell_type": "code",
   "execution_count": 7,
   "metadata": {
    "execution": {
     "iopub.execute_input": "2021-02-18T07:48:44.228391Z",
     "iopub.status.busy": "2021-02-18T07:48:44.227392Z",
     "iopub.status.idle": "2021-02-18T07:48:44.603341Z",
     "shell.execute_reply": "2021-02-18T07:48:44.602339Z",
     "shell.execute_reply.started": "2021-02-18T07:48:44.228391Z"
    }
   },
   "outputs": [
    {
     "data": {
      "image/png": "[encoded data removed]",
      "text/plain": [
       "<Figure size 720x432 with 1 Axes>"
      ]
     },
     "metadata": {},
     "output_type": "display_data"
    }
   ],
   "source": [
    "(raw / raw.iloc[0]).plot(figsize=(10, 6));"
   ]
  },
  {
   "cell_type": "markdown",
   "metadata": {},
   "source": [
    "## Efficient Markets"
   ]
  },
  {
   "cell_type": "code",
   "execution_count": 5,
   "metadata": {
    "execution": {
     "iopub.execute_input": "2021-02-18T14:11:51.423134Z",
     "iopub.status.busy": "2021-02-18T14:11:51.423134Z",
     "iopub.status.idle": "2021-02-18T14:11:51.434139Z",
     "shell.execute_reply": "2021-02-18T14:11:51.434139Z",
     "shell.execute_reply.started": "2021-02-18T14:11:51.423134Z"
    }
   },
   "outputs": [],
   "source": [
    "sym = 'AAPL.O'\n",
    "# sym = 'EUR='"
   ]
  },
  {
   "cell_type": "code",
   "execution_count": 6,
   "metadata": {
    "execution": {
     "iopub.execute_input": "2021-02-18T14:11:51.790782Z",
     "iopub.status.busy": "2021-02-18T14:11:51.790782Z",
     "iopub.status.idle": "2021-02-18T14:11:51.800293Z",
     "shell.execute_reply": "2021-02-18T14:11:51.799306Z",
     "shell.execute_reply.started": "2021-02-18T14:11:51.790782Z"
    }
   },
   "outputs": [],
   "source": [
    "data = pd.DataFrame(raw[sym])"
   ]
  },
  {
   "cell_type": "code",
   "execution_count": 21,
   "metadata": {
    "execution": {
     "iopub.execute_input": "2021-02-18T10:48:18.821990Z",
     "iopub.status.busy": "2021-02-18T10:48:18.821990Z",
     "iopub.status.idle": "2021-02-18T10:48:19.009556Z",
     "shell.execute_reply": "2021-02-18T10:48:19.008552Z",
     "shell.execute_reply.started": "2021-02-18T10:48:18.821990Z"
    }
   },
   "outputs": [
    {
     "data": {
      "image/png": "[encoded data removed]",
      "text/plain": [
       "<Figure size 720x432 with 1 Axes>"
      ]
     },
     "metadata": {},
     "output_type": "display_data"
    }
   ],
   "source": [
    "data.plot(figsize=(10, 6));"
   ]
  },
  {
   "cell_type": "code",
   "execution_count": 11,
   "metadata": {
    "execution": {
     "iopub.execute_input": "2021-02-18T14:13:43.507725Z",
     "iopub.status.busy": "2021-02-18T14:13:43.507725Z",
     "iopub.status.idle": "2021-02-18T14:13:43.526370Z",
     "shell.execute_reply": "2021-02-18T14:13:43.526370Z",
     "shell.execute_reply.started": "2021-02-18T14:13:43.507725Z"
    }
   },
   "outputs": [],
   "source": [
    "lags = 10\n",
    "cols = list()\n",
    "for lag in range(1, lags + 1):\n",
    "    col = f'lag_{lag}'\n",
    "    data[col] = data[sym].shift(lag)\n",
    "    cols.append(col)"
   ]
  },
  {
   "cell_type": "code",
   "execution_count": 12,
   "metadata": {
    "execution": {
     "iopub.execute_input": "2021-02-18T14:13:44.376112Z",
     "iopub.status.busy": "2021-02-18T14:13:44.375111Z",
     "iopub.status.idle": "2021-02-18T14:13:44.392216Z",
     "shell.execute_reply": "2021-02-18T14:13:44.392216Z",
     "shell.execute_reply.started": "2021-02-18T14:13:44.376112Z"
    }
   },
   "outputs": [
    {
     "data": {
      "text/plain": [
       "['lag_1',\n",
       " 'lag_2',\n",
       " 'lag_3',\n",
       " 'lag_4',\n",
       " 'lag_5',\n",
       " 'lag_6',\n",
       " 'lag_7',\n",
       " 'lag_8',\n",
       " 'lag_9',\n",
       " 'lag_10']"
      ]
     },
     "execution_count": 12,
     "metadata": {},
     "output_type": "execute_result"
    }
   ],
   "source": [
    "cols"
   ]
  },
  {
   "cell_type": "code",
   "execution_count": 13,
   "metadata": {
    "execution": {
     "iopub.execute_input": "2021-02-18T14:13:46.128767Z",
     "iopub.status.busy": "2021-02-18T14:13:46.127767Z",
     "iopub.status.idle": "2021-02-18T14:13:46.147779Z",
     "shell.execute_reply": "2021-02-18T14:13:46.146777Z",
     "shell.execute_reply.started": "2021-02-18T14:13:46.128767Z"
    }
   },
   "outputs": [
    {
     "data": {
      "text/html": [
       "<div>\n",
       "<style scoped>\n",
       "    .dataframe tbody tr th:only-of-type {\n",
       "        vertical-align: middle;\n",
       "    }\n",
       "\n",
       "    .dataframe tbody tr th {\n",
       "        vertical-align: top;\n",
       "    }\n",
       "\n",
       "    .dataframe thead th {\n",
       "        text-align: right;\n",
       "    }\n",
       "</style>\n",
       "<table border=\"1\" class=\"dataframe\">\n",
       "  <thead>\n",
       "    <tr style=\"text-align: right;\">\n",
       "      <th></th>\n",
       "      <th>AAPL.O</th>\n",
       "      <th>lag_1</th>\n",
       "      <th>lag_2</th>\n",
       "      <th>lag_3</th>\n",
       "      <th>lag_4</th>\n",
       "      <th>lag_5</th>\n",
       "      <th>lag_6</th>\n",
       "      <th>lag_7</th>\n",
       "      <th>lag_8</th>\n",
       "      <th>lag_9</th>\n",
       "      <th>lag_10</th>\n",
       "    </tr>\n",
       "    <tr>\n",
       "      <th>Date</th>\n",
       "      <th></th>\n",
       "      <th></th>\n",
       "      <th></th>\n",
       "      <th></th>\n",
       "      <th></th>\n",
       "      <th></th>\n",
       "      <th></th>\n",
       "      <th></th>\n",
       "      <th></th>\n",
       "      <th></th>\n",
       "      <th></th>\n",
       "    </tr>\n",
       "  </thead>\n",
       "  <tbody>\n",
       "    <tr>\n",
       "      <th>2019-03-01 15:00:00</th>\n",
       "      <td>174.2200</td>\n",
       "      <td>NaN</td>\n",
       "      <td>NaN</td>\n",
       "      <td>NaN</td>\n",
       "      <td>NaN</td>\n",
       "      <td>NaN</td>\n",
       "      <td>NaN</td>\n",
       "      <td>NaN</td>\n",
       "      <td>NaN</td>\n",
       "      <td>NaN</td>\n",
       "      <td>NaN</td>\n",
       "    </tr>\n",
       "    <tr>\n",
       "      <th>2019-03-01 16:00:00</th>\n",
       "      <td>173.6850</td>\n",
       "      <td>174.2200</td>\n",
       "      <td>NaN</td>\n",
       "      <td>NaN</td>\n",
       "      <td>NaN</td>\n",
       "      <td>NaN</td>\n",
       "      <td>NaN</td>\n",
       "      <td>NaN</td>\n",
       "      <td>NaN</td>\n",
       "      <td>NaN</td>\n",
       "      <td>NaN</td>\n",
       "    </tr>\n",
       "    <tr>\n",
       "      <th>2019-03-01 17:00:00</th>\n",
       "      <td>173.3390</td>\n",
       "      <td>173.6850</td>\n",
       "      <td>174.2200</td>\n",
       "      <td>NaN</td>\n",
       "      <td>NaN</td>\n",
       "      <td>NaN</td>\n",
       "      <td>NaN</td>\n",
       "      <td>NaN</td>\n",
       "      <td>NaN</td>\n",
       "      <td>NaN</td>\n",
       "      <td>NaN</td>\n",
       "    </tr>\n",
       "    <tr>\n",
       "      <th>2019-03-01 18:00:00</th>\n",
       "      <td>174.1901</td>\n",
       "      <td>173.3390</td>\n",
       "      <td>173.6850</td>\n",
       "      <td>174.2200</td>\n",
       "      <td>NaN</td>\n",
       "      <td>NaN</td>\n",
       "      <td>NaN</td>\n",
       "      <td>NaN</td>\n",
       "      <td>NaN</td>\n",
       "      <td>NaN</td>\n",
       "      <td>NaN</td>\n",
       "    </tr>\n",
       "    <tr>\n",
       "      <th>2019-03-01 19:00:00</th>\n",
       "      <td>174.5150</td>\n",
       "      <td>174.1901</td>\n",
       "      <td>173.3390</td>\n",
       "      <td>173.6850</td>\n",
       "      <td>174.2200</td>\n",
       "      <td>NaN</td>\n",
       "      <td>NaN</td>\n",
       "      <td>NaN</td>\n",
       "      <td>NaN</td>\n",
       "      <td>NaN</td>\n",
       "      <td>NaN</td>\n",
       "    </tr>\n",
       "    <tr>\n",
       "      <th>2019-03-01 20:00:00</th>\n",
       "      <td>174.9775</td>\n",
       "      <td>174.5150</td>\n",
       "      <td>174.1901</td>\n",
       "      <td>173.3390</td>\n",
       "      <td>173.6850</td>\n",
       "      <td>174.220</td>\n",
       "      <td>NaN</td>\n",
       "      <td>NaN</td>\n",
       "      <td>NaN</td>\n",
       "      <td>NaN</td>\n",
       "      <td>NaN</td>\n",
       "    </tr>\n",
       "    <tr>\n",
       "      <th>2019-03-01 21:00:00</th>\n",
       "      <td>174.9700</td>\n",
       "      <td>174.9775</td>\n",
       "      <td>174.5150</td>\n",
       "      <td>174.1901</td>\n",
       "      <td>173.3390</td>\n",
       "      <td>173.685</td>\n",
       "      <td>174.220</td>\n",
       "      <td>NaN</td>\n",
       "      <td>NaN</td>\n",
       "      <td>NaN</td>\n",
       "      <td>NaN</td>\n",
       "    </tr>\n",
       "    <tr>\n",
       "      <th>2019-03-01 22:00:00</th>\n",
       "      <td>175.0200</td>\n",
       "      <td>174.9700</td>\n",
       "      <td>174.9775</td>\n",
       "      <td>174.5150</td>\n",
       "      <td>174.1901</td>\n",
       "      <td>173.339</td>\n",
       "      <td>173.685</td>\n",
       "      <td>174.22</td>\n",
       "      <td>NaN</td>\n",
       "      <td>NaN</td>\n",
       "      <td>NaN</td>\n",
       "    </tr>\n",
       "  </tbody>\n",
       "</table>\n",
       "</div>"
      ],
      "text/plain": [
       "                       AAPL.O     lag_1     lag_2     lag_3     lag_4  \\\n",
       "Date                                                                    \n",
       "2019-03-01 15:00:00  174.2200       NaN       NaN       NaN       NaN   \n",
       "2019-03-01 16:00:00  173.6850  174.2200       NaN       NaN       NaN   \n",
       "2019-03-01 17:00:00  173.3390  173.6850  174.2200       NaN       NaN   \n",
       "2019-03-01 18:00:00  174.1901  173.3390  173.6850  174.2200       NaN   \n",
       "2019-03-01 19:00:00  174.5150  174.1901  173.3390  173.6850  174.2200   \n",
       "2019-03-01 20:00:00  174.9775  174.5150  174.1901  173.3390  173.6850   \n",
       "2019-03-01 21:00:00  174.9700  174.9775  174.5150  174.1901  173.3390   \n",
       "2019-03-01 22:00:00  175.0200  174.9700  174.9775  174.5150  174.1901   \n",
       "\n",
       "                       lag_5    lag_6   lag_7  lag_8  lag_9  lag_10  \n",
       "Date                                                                 \n",
       "2019-03-01 15:00:00      NaN      NaN     NaN    NaN    NaN     NaN  \n",
       "2019-03-01 16:00:00      NaN      NaN     NaN    NaN    NaN     NaN  \n",
       "2019-03-01 17:00:00      NaN      NaN     NaN    NaN    NaN     NaN  \n",
       "2019-03-01 18:00:00      NaN      NaN     NaN    NaN    NaN     NaN  \n",
       "2019-03-01 19:00:00      NaN      NaN     NaN    NaN    NaN     NaN  \n",
       "2019-03-01 20:00:00  174.220      NaN     NaN    NaN    NaN     NaN  \n",
       "2019-03-01 21:00:00  173.685  174.220     NaN    NaN    NaN     NaN  \n",
       "2019-03-01 22:00:00  173.339  173.685  174.22    NaN    NaN     NaN  "
      ]
     },
     "execution_count": 13,
     "metadata": {},
     "output_type": "execute_result"
    }
   ],
   "source": [
    "data.head(8)"
   ]
  },
  {
   "cell_type": "code",
   "execution_count": 14,
   "metadata": {
    "execution": {
     "iopub.execute_input": "2021-02-18T07:49:17.833818Z",
     "iopub.status.busy": "2021-02-18T07:49:17.832822Z",
     "iopub.status.idle": "2021-02-18T07:49:17.844820Z",
     "shell.execute_reply": "2021-02-18T07:49:17.844820Z",
     "shell.execute_reply.started": "2021-02-18T07:49:17.833818Z"
    }
   },
   "outputs": [],
   "source": [
    "data.dropna(inplace=True)"
   ]
  },
  {
   "cell_type": "code",
   "execution_count": 15,
   "metadata": {
    "execution": {
     "iopub.execute_input": "2021-02-18T07:49:24.856245Z",
     "iopub.status.busy": "2021-02-18T07:49:24.856245Z",
     "iopub.status.idle": "2021-02-18T07:49:24.910757Z",
     "shell.execute_reply": "2021-02-18T07:49:24.910757Z",
     "shell.execute_reply.started": "2021-02-18T07:49:24.856245Z"
    }
   },
   "outputs": [],
   "source": [
    "reg = np.linalg.lstsq(data[cols], data[sym], rcond=-1)[0]"
   ]
  },
  {
   "cell_type": "code",
   "execution_count": 16,
   "metadata": {
    "execution": {
     "iopub.execute_input": "2021-02-18T07:49:26.505023Z",
     "iopub.status.busy": "2021-02-18T07:49:26.505023Z",
     "iopub.status.idle": "2021-02-18T07:49:26.620551Z",
     "shell.execute_reply": "2021-02-18T07:49:26.619562Z",
     "shell.execute_reply.started": "2021-02-18T07:49:26.505023Z"
    }
   },
   "outputs": [
    {
     "data": {
      "text/plain": [
       "<BarContainer object of 10 artists>"
      ]
     },
     "execution_count": 16,
     "metadata": {},
     "output_type": "execute_result"
    },
    {
     "data": {
      "image/png": "[encoded data removed]",
      "text/plain": [
       "<Figure size 576x396 with 1 Axes>"
      ]
     },
     "metadata": {},
     "output_type": "display_data"
    }
   ],
   "source": [
    "plt.bar(np.arange(len(reg))+1,reg)"
   ]
  },
  {
   "cell_type": "code",
   "execution_count": 17,
   "metadata": {
    "execution": {
     "iopub.execute_input": "2021-02-18T07:49:41.494307Z",
     "iopub.status.busy": "2021-02-18T07:49:41.494307Z",
     "iopub.status.idle": "2021-02-18T07:49:41.588813Z",
     "shell.execute_reply": "2021-02-18T07:49:41.587826Z",
     "shell.execute_reply.started": "2021-02-18T07:49:41.494307Z"
    }
   },
   "outputs": [
    {
     "data": {
      "image/png": "[encoded data removed]",
      "text/plain": [
       "<Figure size 576x396 with 1 Axes>"
      ]
     },
     "metadata": {},
     "output_type": "display_data"
    }
   ],
   "source": [
    "plt.bar(np.arange(len(reg)) + 1, reg);"
   ]
  },
  {
   "cell_type": "markdown",
   "metadata": {},
   "source": [
    "\n",
    "\n",
    "### <span style =\"color:green\">Intresting to observe that the last price is the best price to predict the next price for both hourly and daily price</span>"
   ]
  },
  {
   "cell_type": "markdown",
   "metadata": {},
   "source": [
    "```diff\n",
    "- text in red\n",
    "+ text in green\n",
    "! text in orange\n",
    "# text in gray\n",
    "@@ text in purple (and bold)@@\n",
    "```"
   ]
  },
  {
   "cell_type": "markdown",
   "metadata": {},
   "source": [
    "## Simple Trading Strategy"
   ]
  },
  {
   "cell_type": "code",
   "execution_count": 24,
   "metadata": {
    "execution": {
     "iopub.execute_input": "2021-02-18T10:48:35.421994Z",
     "iopub.status.busy": "2021-02-18T10:48:35.421994Z",
     "iopub.status.idle": "2021-02-18T10:48:35.439009Z",
     "shell.execute_reply": "2021-02-18T10:48:35.438016Z",
     "shell.execute_reply.started": "2021-02-18T10:48:35.421994Z"
    }
   },
   "outputs": [],
   "source": [
    "sym = 'EUR='"
   ]
  },
  {
   "cell_type": "code",
   "execution_count": 25,
   "metadata": {
    "execution": {
     "iopub.execute_input": "2021-02-18T10:48:36.003139Z",
     "iopub.status.busy": "2021-02-18T10:48:36.003139Z",
     "iopub.status.idle": "2021-02-18T10:48:36.019666Z",
     "shell.execute_reply": "2021-02-18T10:48:36.019666Z",
     "shell.execute_reply.started": "2021-02-18T10:48:36.003139Z"
    }
   },
   "outputs": [],
   "source": [
    "data = pd.DataFrame(raw[sym])"
   ]
  },
  {
   "cell_type": "code",
   "execution_count": 26,
   "metadata": {
    "execution": {
     "iopub.execute_input": "2021-02-18T10:48:38.643781Z",
     "iopub.status.busy": "2021-02-18T10:48:38.643781Z",
     "iopub.status.idle": "2021-02-18T10:48:38.804332Z",
     "shell.execute_reply": "2021-02-18T10:48:38.804332Z",
     "shell.execute_reply.started": "2021-02-18T10:48:38.643781Z"
    }
   },
   "outputs": [
    {
     "data": {
      "image/png": "[encoded data removed]",
      "text/plain": [
       "<Figure size 720x432 with 1 Axes>"
      ]
     },
     "metadata": {},
     "output_type": "display_data"
    }
   ],
   "source": [
    "data.plot(figsize=(10, 6));"
   ]
  },
  {
   "cell_type": "code",
   "execution_count": 27,
   "metadata": {
    "execution": {
     "iopub.execute_input": "2021-02-18T10:48:49.634010Z",
     "iopub.status.busy": "2021-02-18T10:48:49.633000Z",
     "iopub.status.idle": "2021-02-18T10:48:49.655555Z",
     "shell.execute_reply": "2021-02-18T10:48:49.654553Z",
     "shell.execute_reply.started": "2021-02-18T10:48:49.634010Z"
    }
   },
   "outputs": [],
   "source": [
    "data['SMA1'] = data[sym].rolling(42).mean()"
   ]
  },
  {
   "cell_type": "code",
   "execution_count": 28,
   "metadata": {
    "execution": {
     "iopub.execute_input": "2021-02-18T10:48:50.532821Z",
     "iopub.status.busy": "2021-02-18T10:48:50.531809Z",
     "iopub.status.idle": "2021-02-18T10:48:50.539812Z",
     "shell.execute_reply": "2021-02-18T10:48:50.539812Z",
     "shell.execute_reply.started": "2021-02-18T10:48:50.532821Z"
    }
   },
   "outputs": [],
   "source": [
    "data['SMA2'] = data[sym].rolling(252).mean()"
   ]
  },
  {
   "cell_type": "code",
   "execution_count": 29,
   "metadata": {
    "execution": {
     "iopub.execute_input": "2021-02-18T10:48:54.446004Z",
     "iopub.status.busy": "2021-02-18T10:48:54.446004Z",
     "iopub.status.idle": "2021-02-18T10:48:54.652563Z",
     "shell.execute_reply": "2021-02-18T10:48:54.651565Z",
     "shell.execute_reply.started": "2021-02-18T10:48:54.446004Z"
    }
   },
   "outputs": [
    {
     "data": {
      "image/png": "[encoded data removed]",
      "text/plain": [
       "<Figure size 720x432 with 1 Axes>"
      ]
     },
     "metadata": {},
     "output_type": "display_data"
    }
   ],
   "source": [
    "data.plot(figsize=(10, 6));"
   ]
  },
  {
   "cell_type": "code",
   "execution_count": 30,
   "metadata": {
    "execution": {
     "iopub.execute_input": "2021-02-18T10:49:07.315136Z",
     "iopub.status.busy": "2021-02-18T10:49:07.315136Z",
     "iopub.status.idle": "2021-02-18T10:49:07.333669Z",
     "shell.execute_reply": "2021-02-18T10:49:07.332666Z",
     "shell.execute_reply.started": "2021-02-18T10:49:07.315136Z"
    }
   },
   "outputs": [],
   "source": [
    "data.dropna(inplace=True)"
   ]
  },
  {
   "cell_type": "code",
   "execution_count": 31,
   "metadata": {
    "execution": {
     "iopub.execute_input": "2021-02-18T10:49:23.335993Z",
     "iopub.status.busy": "2021-02-18T10:49:23.335993Z",
     "iopub.status.idle": "2021-02-18T10:49:23.352498Z",
     "shell.execute_reply": "2021-02-18T10:49:23.351495Z",
     "shell.execute_reply.started": "2021-02-18T10:49:23.335993Z"
    }
   },
   "outputs": [],
   "source": [
    "# data['p'] = np.where(data['SMA1'] > data['SMA2'], 'long', 'short')\n",
    "data['p'] = np.where(data['SMA1'] > data['SMA2'], 1, -1)"
   ]
  },
  {
   "cell_type": "code",
   "execution_count": 32,
   "metadata": {
    "execution": {
     "iopub.execute_input": "2021-02-18T10:49:29.914107Z",
     "iopub.status.busy": "2021-02-18T10:49:29.914107Z",
     "iopub.status.idle": "2021-02-18T10:49:29.925650Z",
     "shell.execute_reply": "2021-02-18T10:49:29.925650Z",
     "shell.execute_reply.started": "2021-02-18T10:49:29.914107Z"
    }
   },
   "outputs": [
    {
     "data": {
      "text/html": [
       "<div>\n",
       "<style scoped>\n",
       "    .dataframe tbody tr th:only-of-type {\n",
       "        vertical-align: middle;\n",
       "    }\n",
       "\n",
       "    .dataframe tbody tr th {\n",
       "        vertical-align: top;\n",
       "    }\n",
       "\n",
       "    .dataframe thead th {\n",
       "        text-align: right;\n",
       "    }\n",
       "</style>\n",
       "<table border=\"1\" class=\"dataframe\">\n",
       "  <thead>\n",
       "    <tr style=\"text-align: right;\">\n",
       "      <th></th>\n",
       "      <th>EUR=</th>\n",
       "      <th>SMA1</th>\n",
       "      <th>SMA2</th>\n",
       "      <th>p</th>\n",
       "    </tr>\n",
       "    <tr>\n",
       "      <th>Date</th>\n",
       "      <th></th>\n",
       "      <th></th>\n",
       "      <th></th>\n",
       "      <th></th>\n",
       "    </tr>\n",
       "  </thead>\n",
       "  <tbody>\n",
       "    <tr>\n",
       "      <th>2019-04-15 17:00:00</th>\n",
       "      <td>1.1306</td>\n",
       "      <td>1.127517</td>\n",
       "      <td>1.128060</td>\n",
       "      <td>-1</td>\n",
       "    </tr>\n",
       "    <tr>\n",
       "      <th>2019-04-15 18:00:00</th>\n",
       "      <td>1.1302</td>\n",
       "      <td>1.127614</td>\n",
       "      <td>1.128023</td>\n",
       "      <td>-1</td>\n",
       "    </tr>\n",
       "    <tr>\n",
       "      <th>2019-04-15 19:00:00</th>\n",
       "      <td>1.1302</td>\n",
       "      <td>1.127702</td>\n",
       "      <td>1.127991</td>\n",
       "      <td>-1</td>\n",
       "    </tr>\n",
       "    <tr>\n",
       "      <th>2019-04-15 20:00:00</th>\n",
       "      <td>1.1306</td>\n",
       "      <td>1.127805</td>\n",
       "      <td>1.127964</td>\n",
       "      <td>-1</td>\n",
       "    </tr>\n",
       "    <tr>\n",
       "      <th>2019-04-15 21:00:00</th>\n",
       "      <td>1.1306</td>\n",
       "      <td>1.127914</td>\n",
       "      <td>1.127941</td>\n",
       "      <td>-1</td>\n",
       "    </tr>\n",
       "    <tr>\n",
       "      <th>...</th>\n",
       "      <td>...</td>\n",
       "      <td>...</td>\n",
       "      <td>...</td>\n",
       "      <td>...</td>\n",
       "    </tr>\n",
       "    <tr>\n",
       "      <th>2019-12-31 18:00:00</th>\n",
       "      <td>1.1227</td>\n",
       "      <td>1.114067</td>\n",
       "      <td>1.108348</td>\n",
       "      <td>1</td>\n",
       "    </tr>\n",
       "    <tr>\n",
       "      <th>2019-12-31 19:00:00</th>\n",
       "      <td>1.1222</td>\n",
       "      <td>1.114410</td>\n",
       "      <td>1.108435</td>\n",
       "      <td>1</td>\n",
       "    </tr>\n",
       "    <tr>\n",
       "      <th>2019-12-31 20:00:00</th>\n",
       "      <td>1.1215</td>\n",
       "      <td>1.114719</td>\n",
       "      <td>1.108522</td>\n",
       "      <td>1</td>\n",
       "    </tr>\n",
       "    <tr>\n",
       "      <th>2019-12-31 21:00:00</th>\n",
       "      <td>1.1216</td>\n",
       "      <td>1.115026</td>\n",
       "      <td>1.108606</td>\n",
       "      <td>1</td>\n",
       "    </tr>\n",
       "    <tr>\n",
       "      <th>2019-12-31 22:00:00</th>\n",
       "      <td>1.1210</td>\n",
       "      <td>1.115314</td>\n",
       "      <td>1.108689</td>\n",
       "      <td>1</td>\n",
       "    </tr>\n",
       "  </tbody>\n",
       "</table>\n",
       "<p>1435 rows × 4 columns</p>\n",
       "</div>"
      ],
      "text/plain": [
       "                       EUR=      SMA1      SMA2  p\n",
       "Date                                              \n",
       "2019-04-15 17:00:00  1.1306  1.127517  1.128060 -1\n",
       "2019-04-15 18:00:00  1.1302  1.127614  1.128023 -1\n",
       "2019-04-15 19:00:00  1.1302  1.127702  1.127991 -1\n",
       "2019-04-15 20:00:00  1.1306  1.127805  1.127964 -1\n",
       "2019-04-15 21:00:00  1.1306  1.127914  1.127941 -1\n",
       "...                     ...       ...       ... ..\n",
       "2019-12-31 18:00:00  1.1227  1.114067  1.108348  1\n",
       "2019-12-31 19:00:00  1.1222  1.114410  1.108435  1\n",
       "2019-12-31 20:00:00  1.1215  1.114719  1.108522  1\n",
       "2019-12-31 21:00:00  1.1216  1.115026  1.108606  1\n",
       "2019-12-31 22:00:00  1.1210  1.115314  1.108689  1\n",
       "\n",
       "[1435 rows x 4 columns]"
      ]
     },
     "execution_count": 32,
     "metadata": {},
     "output_type": "execute_result"
    }
   ],
   "source": [
    "data"
   ]
  },
  {
   "cell_type": "code",
   "execution_count": 33,
   "metadata": {
    "execution": {
     "iopub.execute_input": "2021-02-18T10:49:56.933170Z",
     "iopub.status.busy": "2021-02-18T10:49:56.933170Z",
     "iopub.status.idle": "2021-02-18T10:49:57.182740Z",
     "shell.execute_reply": "2021-02-18T10:49:57.182740Z",
     "shell.execute_reply.started": "2021-02-18T10:49:56.933170Z"
    }
   },
   "outputs": [
    {
     "data": {
      "image/png": "[encoded data removed]",
      "text/plain": [
       "<Figure size 720x432 with 2 Axes>"
      ]
     },
     "metadata": {},
     "output_type": "display_data"
    }
   ],
   "source": [
    "data.plot(secondary_y='p', figsize=(10, 6));"
   ]
  },
  {
   "cell_type": "markdown",
   "metadata": {},
   "source": [
    "## Vectorized Backtesting"
   ]
  },
  {
   "cell_type": "code",
   "execution_count": 45,
   "metadata": {
    "execution": {
     "iopub.execute_input": "2021-02-18T10:57:29.346969Z",
     "iopub.status.busy": "2021-02-18T10:57:29.346969Z",
     "iopub.status.idle": "2021-02-18T10:57:29.364461Z",
     "shell.execute_reply": "2021-02-18T10:57:29.363458Z",
     "shell.execute_reply.started": "2021-02-18T10:57:29.346969Z"
    }
   },
   "outputs": [],
   "source": [
    "data['r'] = np.log(data[sym] / data[sym].shift(1))"
   ]
  },
  {
   "cell_type": "code",
   "execution_count": 46,
   "metadata": {
    "execution": {
     "iopub.execute_input": "2021-02-18T10:57:29.921180Z",
     "iopub.status.busy": "2021-02-18T10:57:29.921180Z",
     "iopub.status.idle": "2021-02-18T10:57:29.937305Z",
     "shell.execute_reply": "2021-02-18T10:57:29.936304Z",
     "shell.execute_reply.started": "2021-02-18T10:57:29.921180Z"
    }
   },
   "outputs": [],
   "source": [
    "data['r_'] = -1 * data['r']  # negative market returns"
   ]
  },
  {
   "cell_type": "code",
   "execution_count": 47,
   "metadata": {
    "execution": {
     "iopub.execute_input": "2021-02-18T10:57:30.686112Z",
     "iopub.status.busy": "2021-02-18T10:57:30.686112Z",
     "iopub.status.idle": "2021-02-18T10:57:30.688112Z",
     "shell.execute_reply": "2021-02-18T10:57:30.688112Z",
     "shell.execute_reply.started": "2021-02-18T10:57:30.686112Z"
    }
   },
   "outputs": [],
   "source": [
    "# np.random.choice?"
   ]
  },
  {
   "cell_type": "code",
   "execution_count": 48,
   "metadata": {
    "execution": {
     "iopub.execute_input": "2021-02-18T10:57:32.992627Z",
     "iopub.status.busy": "2021-02-18T10:57:32.991627Z",
     "iopub.status.idle": "2021-02-18T10:57:33.004392Z",
     "shell.execute_reply": "2021-02-18T10:57:33.004392Z",
     "shell.execute_reply.started": "2021-02-18T10:57:32.992627Z"
    }
   },
   "outputs": [],
   "source": [
    "data['rn'] = np.random.choice([1, -1], size=len(data)) * data['r']"
   ]
  },
  {
   "cell_type": "code",
   "execution_count": 49,
   "metadata": {
    "execution": {
     "iopub.execute_input": "2021-02-18T10:57:33.413486Z",
     "iopub.status.busy": "2021-02-18T10:57:33.413486Z",
     "iopub.status.idle": "2021-02-18T10:57:33.429629Z",
     "shell.execute_reply": "2021-02-18T10:57:33.429629Z",
     "shell.execute_reply.started": "2021-02-18T10:57:33.413486Z"
    }
   },
   "outputs": [],
   "source": [
    "data['s'] = data['r'] * data['p'].shift(1)"
   ]
  },
  {
   "cell_type": "code",
   "execution_count": 50,
   "metadata": {
    "execution": {
     "iopub.execute_input": "2021-02-18T10:57:34.951975Z",
     "iopub.status.busy": "2021-02-18T10:57:34.950974Z",
     "iopub.status.idle": "2021-02-18T10:57:34.971485Z",
     "shell.execute_reply": "2021-02-18T10:57:34.971485Z",
     "shell.execute_reply.started": "2021-02-18T10:57:34.951975Z"
    }
   },
   "outputs": [
    {
     "data": {
      "text/html": [
       "<div>\n",
       "<style scoped>\n",
       "    .dataframe tbody tr th:only-of-type {\n",
       "        vertical-align: middle;\n",
       "    }\n",
       "\n",
       "    .dataframe tbody tr th {\n",
       "        vertical-align: top;\n",
       "    }\n",
       "\n",
       "    .dataframe thead th {\n",
       "        text-align: right;\n",
       "    }\n",
       "</style>\n",
       "<table border=\"1\" class=\"dataframe\">\n",
       "  <thead>\n",
       "    <tr style=\"text-align: right;\">\n",
       "      <th></th>\n",
       "      <th>EUR=</th>\n",
       "      <th>SMA1</th>\n",
       "      <th>SMA2</th>\n",
       "      <th>p</th>\n",
       "      <th>r</th>\n",
       "      <th>r_</th>\n",
       "      <th>rn</th>\n",
       "      <th>s</th>\n",
       "    </tr>\n",
       "    <tr>\n",
       "      <th>Date</th>\n",
       "      <th></th>\n",
       "      <th></th>\n",
       "      <th></th>\n",
       "      <th></th>\n",
       "      <th></th>\n",
       "      <th></th>\n",
       "      <th></th>\n",
       "      <th></th>\n",
       "    </tr>\n",
       "  </thead>\n",
       "  <tbody>\n",
       "    <tr>\n",
       "      <th>2019-04-15 17:00:00</th>\n",
       "      <td>1.1306</td>\n",
       "      <td>1.127517</td>\n",
       "      <td>1.128060</td>\n",
       "      <td>-1</td>\n",
       "      <td>NaN</td>\n",
       "      <td>NaN</td>\n",
       "      <td>NaN</td>\n",
       "      <td>NaN</td>\n",
       "    </tr>\n",
       "    <tr>\n",
       "      <th>2019-04-15 18:00:00</th>\n",
       "      <td>1.1302</td>\n",
       "      <td>1.127614</td>\n",
       "      <td>1.128023</td>\n",
       "      <td>-1</td>\n",
       "      <td>-0.000354</td>\n",
       "      <td>0.000354</td>\n",
       "      <td>-0.000354</td>\n",
       "      <td>0.000354</td>\n",
       "    </tr>\n",
       "    <tr>\n",
       "      <th>2019-04-15 19:00:00</th>\n",
       "      <td>1.1302</td>\n",
       "      <td>1.127702</td>\n",
       "      <td>1.127991</td>\n",
       "      <td>-1</td>\n",
       "      <td>0.000000</td>\n",
       "      <td>-0.000000</td>\n",
       "      <td>-0.000000</td>\n",
       "      <td>-0.000000</td>\n",
       "    </tr>\n",
       "    <tr>\n",
       "      <th>2019-04-15 20:00:00</th>\n",
       "      <td>1.1306</td>\n",
       "      <td>1.127805</td>\n",
       "      <td>1.127964</td>\n",
       "      <td>-1</td>\n",
       "      <td>0.000354</td>\n",
       "      <td>-0.000354</td>\n",
       "      <td>-0.000354</td>\n",
       "      <td>-0.000354</td>\n",
       "    </tr>\n",
       "    <tr>\n",
       "      <th>2019-04-15 21:00:00</th>\n",
       "      <td>1.1306</td>\n",
       "      <td>1.127914</td>\n",
       "      <td>1.127941</td>\n",
       "      <td>-1</td>\n",
       "      <td>0.000000</td>\n",
       "      <td>-0.000000</td>\n",
       "      <td>-0.000000</td>\n",
       "      <td>-0.000000</td>\n",
       "    </tr>\n",
       "    <tr>\n",
       "      <th>...</th>\n",
       "      <td>...</td>\n",
       "      <td>...</td>\n",
       "      <td>...</td>\n",
       "      <td>...</td>\n",
       "      <td>...</td>\n",
       "      <td>...</td>\n",
       "      <td>...</td>\n",
       "      <td>...</td>\n",
       "    </tr>\n",
       "    <tr>\n",
       "      <th>2019-12-31 18:00:00</th>\n",
       "      <td>1.1227</td>\n",
       "      <td>1.114067</td>\n",
       "      <td>1.108348</td>\n",
       "      <td>1</td>\n",
       "      <td>0.000178</td>\n",
       "      <td>-0.000178</td>\n",
       "      <td>0.000178</td>\n",
       "      <td>0.000178</td>\n",
       "    </tr>\n",
       "    <tr>\n",
       "      <th>2019-12-31 19:00:00</th>\n",
       "      <td>1.1222</td>\n",
       "      <td>1.114410</td>\n",
       "      <td>1.108435</td>\n",
       "      <td>1</td>\n",
       "      <td>-0.000445</td>\n",
       "      <td>0.000445</td>\n",
       "      <td>0.000445</td>\n",
       "      <td>-0.000445</td>\n",
       "    </tr>\n",
       "    <tr>\n",
       "      <th>2019-12-31 20:00:00</th>\n",
       "      <td>1.1215</td>\n",
       "      <td>1.114719</td>\n",
       "      <td>1.108522</td>\n",
       "      <td>1</td>\n",
       "      <td>-0.000624</td>\n",
       "      <td>0.000624</td>\n",
       "      <td>0.000624</td>\n",
       "      <td>-0.000624</td>\n",
       "    </tr>\n",
       "    <tr>\n",
       "      <th>2019-12-31 21:00:00</th>\n",
       "      <td>1.1216</td>\n",
       "      <td>1.115026</td>\n",
       "      <td>1.108606</td>\n",
       "      <td>1</td>\n",
       "      <td>0.000089</td>\n",
       "      <td>-0.000089</td>\n",
       "      <td>0.000089</td>\n",
       "      <td>0.000089</td>\n",
       "    </tr>\n",
       "    <tr>\n",
       "      <th>2019-12-31 22:00:00</th>\n",
       "      <td>1.1210</td>\n",
       "      <td>1.115314</td>\n",
       "      <td>1.108689</td>\n",
       "      <td>1</td>\n",
       "      <td>-0.000535</td>\n",
       "      <td>0.000535</td>\n",
       "      <td>-0.000535</td>\n",
       "      <td>-0.000535</td>\n",
       "    </tr>\n",
       "  </tbody>\n",
       "</table>\n",
       "<p>1435 rows × 8 columns</p>\n",
       "</div>"
      ],
      "text/plain": [
       "                       EUR=      SMA1      SMA2  p         r        r_  \\\n",
       "Date                                                                     \n",
       "2019-04-15 17:00:00  1.1306  1.127517  1.128060 -1       NaN       NaN   \n",
       "2019-04-15 18:00:00  1.1302  1.127614  1.128023 -1 -0.000354  0.000354   \n",
       "2019-04-15 19:00:00  1.1302  1.127702  1.127991 -1  0.000000 -0.000000   \n",
       "2019-04-15 20:00:00  1.1306  1.127805  1.127964 -1  0.000354 -0.000354   \n",
       "2019-04-15 21:00:00  1.1306  1.127914  1.127941 -1  0.000000 -0.000000   \n",
       "...                     ...       ...       ... ..       ...       ...   \n",
       "2019-12-31 18:00:00  1.1227  1.114067  1.108348  1  0.000178 -0.000178   \n",
       "2019-12-31 19:00:00  1.1222  1.114410  1.108435  1 -0.000445  0.000445   \n",
       "2019-12-31 20:00:00  1.1215  1.114719  1.108522  1 -0.000624  0.000624   \n",
       "2019-12-31 21:00:00  1.1216  1.115026  1.108606  1  0.000089 -0.000089   \n",
       "2019-12-31 22:00:00  1.1210  1.115314  1.108689  1 -0.000535  0.000535   \n",
       "\n",
       "                           rn         s  \n",
       "Date                                     \n",
       "2019-04-15 17:00:00       NaN       NaN  \n",
       "2019-04-15 18:00:00 -0.000354  0.000354  \n",
       "2019-04-15 19:00:00 -0.000000 -0.000000  \n",
       "2019-04-15 20:00:00 -0.000354 -0.000354  \n",
       "2019-04-15 21:00:00 -0.000000 -0.000000  \n",
       "...                       ...       ...  \n",
       "2019-12-31 18:00:00  0.000178  0.000178  \n",
       "2019-12-31 19:00:00  0.000445 -0.000445  \n",
       "2019-12-31 20:00:00  0.000624 -0.000624  \n",
       "2019-12-31 21:00:00  0.000089  0.000089  \n",
       "2019-12-31 22:00:00 -0.000535 -0.000535  \n",
       "\n",
       "[1435 rows x 8 columns]"
      ]
     },
     "execution_count": 50,
     "metadata": {},
     "output_type": "execute_result"
    }
   ],
   "source": [
    "data"
   ]
  },
  {
   "cell_type": "code",
   "execution_count": 51,
   "metadata": {
    "execution": {
     "iopub.execute_input": "2021-02-18T10:57:38.735874Z",
     "iopub.status.busy": "2021-02-18T10:57:38.735874Z",
     "iopub.status.idle": "2021-02-18T10:57:38.750416Z",
     "shell.execute_reply": "2021-02-18T10:57:38.750416Z",
     "shell.execute_reply.started": "2021-02-18T10:57:38.735874Z"
    }
   },
   "outputs": [
    {
     "data": {
      "text/plain": [
       "r    -0.008527\n",
       "r_    0.008527\n",
       "rn   -0.041879\n",
       "s     0.024443\n",
       "dtype: float64"
      ]
     },
     "execution_count": 51,
     "metadata": {},
     "output_type": "execute_result"
    }
   ],
   "source": [
    "data[['r', 'r_', 'rn', 's']].sum()  # sum of log returns"
   ]
  },
  {
   "cell_type": "code",
   "execution_count": 60,
   "metadata": {
    "execution": {
     "iopub.execute_input": "2021-02-18T11:04:57.471420Z",
     "iopub.status.busy": "2021-02-18T11:04:57.470420Z",
     "iopub.status.idle": "2021-02-18T11:04:57.482936Z",
     "shell.execute_reply": "2021-02-18T11:04:57.482936Z",
     "shell.execute_reply.started": "2021-02-18T11:04:57.471420Z"
    }
   },
   "outputs": [
    {
     "data": {
      "text/plain": [
       "r     0.991509\n",
       "r_    1.008564\n",
       "rn    0.958986\n",
       "s     1.024744\n",
       "dtype: float64"
      ]
     },
     "execution_count": 60,
     "metadata": {},
     "output_type": "execute_result"
    }
   ],
   "source": [
    "#pd.DataFrame().agg()\n",
    "data[['r','r_', 'rn', 's']].sum().agg(func = np.exp,axis =0)  # gross performance"
   ]
  },
  {
   "cell_type": "code",
   "execution_count": 61,
   "metadata": {
    "execution": {
     "iopub.execute_input": "2021-02-18T11:04:58.112153Z",
     "iopub.status.busy": "2021-02-18T11:04:58.112153Z",
     "iopub.status.idle": "2021-02-18T11:04:58.127660Z",
     "shell.execute_reply": "2021-02-18T11:04:58.127660Z",
     "shell.execute_reply.started": "2021-02-18T11:04:58.112153Z"
    }
   },
   "outputs": [
    {
     "data": {
      "text/plain": [
       "r    -0.008491\n",
       "r_    0.008564\n",
       "rn   -0.041014\n",
       "s     0.024744\n",
       "dtype: float64"
      ]
     },
     "execution_count": 61,
     "metadata": {},
     "output_type": "execute_result"
    }
   ],
   "source": [
    "data[['r', 'r_', 'rn', 's']].sum().apply(np.exp) - 1  # net performance"
   ]
  },
  {
   "cell_type": "code",
   "execution_count": 62,
   "metadata": {
    "execution": {
     "iopub.execute_input": "2021-02-18T11:05:00.901941Z",
     "iopub.status.busy": "2021-02-18T11:05:00.901941Z",
     "iopub.status.idle": "2021-02-18T11:05:01.098828Z",
     "shell.execute_reply": "2021-02-18T11:05:01.098828Z",
     "shell.execute_reply.started": "2021-02-18T11:05:00.901941Z"
    }
   },
   "outputs": [
    {
     "data": {
      "image/png": "[encoded data removed]",
      "text/plain": [
       "<Figure size 720x432 with 1 Axes>"
      ]
     },
     "metadata": {},
     "output_type": "display_data"
    }
   ],
   "source": [
    "data[['r', 'r_', 'rn', 's']].cumsum(\n",
    "        ).apply(np.exp).plot(figsize=(10, 6));  # gross performance over time"
   ]
  },
  {
   "cell_type": "markdown",
   "metadata": {},
   "source": [
    "## Advanced Trading Strategy"
   ]
  },
  {
   "cell_type": "markdown",
   "metadata": {},
   "source": [
    "### Data Preprocessing"
   ]
  },
  {
   "cell_type": "code",
   "execution_count": 5,
   "metadata": {
    "execution": {
     "iopub.execute_input": "2021-02-18T11:22:35.271024Z",
     "iopub.status.busy": "2021-02-18T11:22:35.271024Z",
     "iopub.status.idle": "2021-02-18T11:22:35.285540Z",
     "shell.execute_reply": "2021-02-18T11:22:35.285540Z",
     "shell.execute_reply.started": "2021-02-18T11:22:35.271024Z"
    }
   },
   "outputs": [],
   "source": [
    "sym = 'EUR='"
   ]
  },
  {
   "cell_type": "code",
   "execution_count": 6,
   "metadata": {
    "execution": {
     "iopub.execute_input": "2021-02-18T11:22:37.090637Z",
     "iopub.status.busy": "2021-02-18T11:22:37.090637Z",
     "iopub.status.idle": "2021-02-18T11:22:37.097639Z",
     "shell.execute_reply": "2021-02-18T11:22:37.097639Z",
     "shell.execute_reply.started": "2021-02-18T11:22:37.090637Z"
    }
   },
   "outputs": [],
   "source": [
    "data = pd.DataFrame(raw[sym])"
   ]
  },
  {
   "cell_type": "code",
   "execution_count": 7,
   "metadata": {
    "execution": {
     "iopub.execute_input": "2021-02-18T11:22:38.168257Z",
     "iopub.status.busy": "2021-02-18T11:22:38.168257Z",
     "iopub.status.idle": "2021-02-18T11:22:38.180796Z",
     "shell.execute_reply": "2021-02-18T11:22:38.180796Z",
     "shell.execute_reply.started": "2021-02-18T11:22:38.168257Z"
    }
   },
   "outputs": [],
   "source": [
    "data['r'] = np.log(data[sym] / data[sym].shift(1))"
   ]
  },
  {
   "cell_type": "code",
   "execution_count": 8,
   "metadata": {
    "execution": {
     "iopub.execute_input": "2021-02-18T11:22:40.540244Z",
     "iopub.status.busy": "2021-02-18T11:22:40.540244Z",
     "iopub.status.idle": "2021-02-18T11:22:40.556797Z",
     "shell.execute_reply": "2021-02-18T11:22:40.556797Z",
     "shell.execute_reply.started": "2021-02-18T11:22:40.540244Z"
    }
   },
   "outputs": [],
   "source": [
    "data.dropna(inplace=True)"
   ]
  },
  {
   "cell_type": "code",
   "execution_count": 9,
   "metadata": {
    "execution": {
     "iopub.execute_input": "2021-02-18T11:22:45.953430Z",
     "iopub.status.busy": "2021-02-18T11:22:45.953430Z",
     "iopub.status.idle": "2021-02-18T11:22:45.967938Z",
     "shell.execute_reply": "2021-02-18T11:22:45.967938Z",
     "shell.execute_reply.started": "2021-02-18T11:22:45.953430Z"
    }
   },
   "outputs": [],
   "source": [
    "data['d'] = np.sign(data['r'])\n",
    "data['d'] = data['d'].astype(int)"
   ]
  },
  {
   "cell_type": "code",
   "execution_count": 11,
   "metadata": {
    "execution": {
     "iopub.execute_input": "2021-02-18T11:22:57.288578Z",
     "iopub.status.busy": "2021-02-18T11:22:57.287575Z",
     "iopub.status.idle": "2021-02-18T11:22:57.308114Z",
     "shell.execute_reply": "2021-02-18T11:22:57.308114Z",
     "shell.execute_reply.started": "2021-02-18T11:22:57.288578Z"
    }
   },
   "outputs": [
    {
     "data": {
      "text/html": [
       "<div>\n",
       "<style scoped>\n",
       "    .dataframe tbody tr th:only-of-type {\n",
       "        vertical-align: middle;\n",
       "    }\n",
       "\n",
       "    .dataframe tbody tr th {\n",
       "        vertical-align: top;\n",
       "    }\n",
       "\n",
       "    .dataframe thead th {\n",
       "        text-align: right;\n",
       "    }\n",
       "</style>\n",
       "<table border=\"1\" class=\"dataframe\">\n",
       "  <thead>\n",
       "    <tr style=\"text-align: right;\">\n",
       "      <th></th>\n",
       "      <th>EUR=</th>\n",
       "      <th>r</th>\n",
       "      <th>d</th>\n",
       "    </tr>\n",
       "    <tr>\n",
       "      <th>Date</th>\n",
       "      <th></th>\n",
       "      <th></th>\n",
       "      <th></th>\n",
       "    </tr>\n",
       "  </thead>\n",
       "  <tbody>\n",
       "    <tr>\n",
       "      <th>2019-03-01 16:00:00</th>\n",
       "      <td>1.1384</td>\n",
       "      <td>-0.000966</td>\n",
       "      <td>-1</td>\n",
       "    </tr>\n",
       "    <tr>\n",
       "      <th>2019-03-01 17:00:00</th>\n",
       "      <td>1.1373</td>\n",
       "      <td>-0.000967</td>\n",
       "      <td>-1</td>\n",
       "    </tr>\n",
       "    <tr>\n",
       "      <th>2019-03-01 18:00:00</th>\n",
       "      <td>1.1364</td>\n",
       "      <td>-0.000792</td>\n",
       "      <td>-1</td>\n",
       "    </tr>\n",
       "    <tr>\n",
       "      <th>2019-03-01 19:00:00</th>\n",
       "      <td>1.1363</td>\n",
       "      <td>-0.000088</td>\n",
       "      <td>-1</td>\n",
       "    </tr>\n",
       "    <tr>\n",
       "      <th>2019-03-01 20:00:00</th>\n",
       "      <td>1.1357</td>\n",
       "      <td>-0.000528</td>\n",
       "      <td>-1</td>\n",
       "    </tr>\n",
       "    <tr>\n",
       "      <th>...</th>\n",
       "      <td>...</td>\n",
       "      <td>...</td>\n",
       "      <td>...</td>\n",
       "    </tr>\n",
       "    <tr>\n",
       "      <th>2019-12-31 18:00:00</th>\n",
       "      <td>1.1227</td>\n",
       "      <td>0.000178</td>\n",
       "      <td>1</td>\n",
       "    </tr>\n",
       "    <tr>\n",
       "      <th>2019-12-31 19:00:00</th>\n",
       "      <td>1.1222</td>\n",
       "      <td>-0.000445</td>\n",
       "      <td>-1</td>\n",
       "    </tr>\n",
       "    <tr>\n",
       "      <th>2019-12-31 20:00:00</th>\n",
       "      <td>1.1215</td>\n",
       "      <td>-0.000624</td>\n",
       "      <td>-1</td>\n",
       "    </tr>\n",
       "    <tr>\n",
       "      <th>2019-12-31 21:00:00</th>\n",
       "      <td>1.1216</td>\n",
       "      <td>0.000089</td>\n",
       "      <td>1</td>\n",
       "    </tr>\n",
       "    <tr>\n",
       "      <th>2019-12-31 22:00:00</th>\n",
       "      <td>1.1210</td>\n",
       "      <td>-0.000535</td>\n",
       "      <td>-1</td>\n",
       "    </tr>\n",
       "  </tbody>\n",
       "</table>\n",
       "<p>1685 rows × 3 columns</p>\n",
       "</div>"
      ],
      "text/plain": [
       "                       EUR=         r  d\n",
       "Date                                    \n",
       "2019-03-01 16:00:00  1.1384 -0.000966 -1\n",
       "2019-03-01 17:00:00  1.1373 -0.000967 -1\n",
       "2019-03-01 18:00:00  1.1364 -0.000792 -1\n",
       "2019-03-01 19:00:00  1.1363 -0.000088 -1\n",
       "2019-03-01 20:00:00  1.1357 -0.000528 -1\n",
       "...                     ...       ... ..\n",
       "2019-12-31 18:00:00  1.1227  0.000178  1\n",
       "2019-12-31 19:00:00  1.1222 -0.000445 -1\n",
       "2019-12-31 20:00:00  1.1215 -0.000624 -1\n",
       "2019-12-31 21:00:00  1.1216  0.000089  1\n",
       "2019-12-31 22:00:00  1.1210 -0.000535 -1\n",
       "\n",
       "[1685 rows x 3 columns]"
      ]
     },
     "execution_count": 11,
     "metadata": {},
     "output_type": "execute_result"
    }
   ],
   "source": [
    "data"
   ]
  },
  {
   "cell_type": "code",
   "execution_count": 12,
   "metadata": {
    "execution": {
     "iopub.execute_input": "2021-02-18T11:23:05.529324Z",
     "iopub.status.busy": "2021-02-18T11:23:05.529324Z",
     "iopub.status.idle": "2021-02-18T11:23:05.545860Z",
     "shell.execute_reply": "2021-02-18T11:23:05.545860Z",
     "shell.execute_reply.started": "2021-02-18T11:23:05.529324Z"
    }
   },
   "outputs": [],
   "source": [
    "data['r_norm'] = (data['r'] - data['r'].mean()) / data['r'].std()"
   ]
  },
  {
   "cell_type": "code",
   "execution_count": 10,
   "metadata": {
    "execution": {
     "iopub.execute_input": "2021-02-18T14:13:28.238733Z",
     "iopub.status.busy": "2021-02-18T14:13:28.238733Z",
     "iopub.status.idle": "2021-02-18T14:13:28.345764Z",
     "shell.execute_reply": "2021-02-18T14:13:28.344767Z",
     "shell.execute_reply.started": "2021-02-18T14:13:28.238733Z"
    }
   },
   "outputs": [
    {
     "ename": "KeyError",
     "evalue": "'d'",
     "output_type": "error",
     "traceback": [
      "\u001b[1;31m---------------------------------------------------------------------------\u001b[0m",
      "\u001b[1;31mKeyError\u001b[0m                                  Traceback (most recent call last)",
      "\u001b[1;32m~\\Anaconda3\\lib\\site-packages\\pandas\\core\\indexes\\base.py\u001b[0m in \u001b[0;36mget_loc\u001b[1;34m(self, key, method, tolerance)\u001b[0m\n\u001b[0;32m   3079\u001b[0m             \u001b[1;32mtry\u001b[0m\u001b[1;33m:\u001b[0m\u001b[1;33m\u001b[0m\u001b[1;33m\u001b[0m\u001b[0m\n\u001b[1;32m-> 3080\u001b[1;33m                 \u001b[1;32mreturn\u001b[0m \u001b[0mself\u001b[0m\u001b[1;33m.\u001b[0m\u001b[0m_engine\u001b[0m\u001b[1;33m.\u001b[0m\u001b[0mget_loc\u001b[0m\u001b[1;33m(\u001b[0m\u001b[0mcasted_key\u001b[0m\u001b[1;33m)\u001b[0m\u001b[1;33m\u001b[0m\u001b[1;33m\u001b[0m\u001b[0m\n\u001b[0m\u001b[0;32m   3081\u001b[0m             \u001b[1;32mexcept\u001b[0m \u001b[0mKeyError\u001b[0m \u001b[1;32mas\u001b[0m \u001b[0merr\u001b[0m\u001b[1;33m:\u001b[0m\u001b[1;33m\u001b[0m\u001b[1;33m\u001b[0m\u001b[0m\n",
      "\u001b[1;32mpandas\\_libs\\index.pyx\u001b[0m in \u001b[0;36mpandas._libs.index.IndexEngine.get_loc\u001b[1;34m()\u001b[0m\n",
      "\u001b[1;32mpandas\\_libs\\index.pyx\u001b[0m in \u001b[0;36mpandas._libs.index.IndexEngine.get_loc\u001b[1;34m()\u001b[0m\n",
      "\u001b[1;32mpandas\\_libs\\hashtable_class_helper.pxi\u001b[0m in \u001b[0;36mpandas._libs.hashtable.PyObjectHashTable.get_item\u001b[1;34m()\u001b[0m\n",
      "\u001b[1;32mpandas\\_libs\\hashtable_class_helper.pxi\u001b[0m in \u001b[0;36mpandas._libs.hashtable.PyObjectHashTable.get_item\u001b[1;34m()\u001b[0m\n",
      "\u001b[1;31mKeyError\u001b[0m: 'd'",
      "\nThe above exception was the direct cause of the following exception:\n",
      "\u001b[1;31mKeyError\u001b[0m                                  Traceback (most recent call last)",
      "\u001b[1;32m<ipython-input-10-31fee0ad150b>\u001b[0m in \u001b[0;36m<module>\u001b[1;34m\u001b[0m\n\u001b[0;32m      3\u001b[0m \u001b[1;32mfor\u001b[0m \u001b[0mlag\u001b[0m \u001b[1;32min\u001b[0m \u001b[0mrange\u001b[0m\u001b[1;33m(\u001b[0m\u001b[1;36m1\u001b[0m\u001b[1;33m,\u001b[0m \u001b[0mlags\u001b[0m \u001b[1;33m+\u001b[0m \u001b[1;36m1\u001b[0m\u001b[1;33m)\u001b[0m\u001b[1;33m:\u001b[0m\u001b[1;33m\u001b[0m\u001b[1;33m\u001b[0m\u001b[0m\n\u001b[0;32m      4\u001b[0m     \u001b[0mcol\u001b[0m \u001b[1;33m=\u001b[0m \u001b[1;34mf'lag_{lag}'\u001b[0m\u001b[1;33m\u001b[0m\u001b[1;33m\u001b[0m\u001b[0m\n\u001b[1;32m----> 5\u001b[1;33m     \u001b[0mdata\u001b[0m\u001b[1;33m[\u001b[0m\u001b[0mcol\u001b[0m\u001b[1;33m]\u001b[0m \u001b[1;33m=\u001b[0m \u001b[0mdata\u001b[0m\u001b[1;33m[\u001b[0m\u001b[1;34m'd'\u001b[0m\u001b[1;33m]\u001b[0m\u001b[1;33m.\u001b[0m\u001b[0mshift\u001b[0m\u001b[1;33m(\u001b[0m\u001b[0mlag\u001b[0m\u001b[1;33m)\u001b[0m\u001b[1;33m\u001b[0m\u001b[1;33m\u001b[0m\u001b[0m\n\u001b[0m\u001b[0;32m      6\u001b[0m     \u001b[0mcols\u001b[0m\u001b[1;33m.\u001b[0m\u001b[0mappend\u001b[0m\u001b[1;33m(\u001b[0m\u001b[0mcol\u001b[0m\u001b[1;33m)\u001b[0m\u001b[1;33m\u001b[0m\u001b[1;33m\u001b[0m\u001b[0m\n\u001b[0;32m      7\u001b[0m \u001b[0mdata\u001b[0m\u001b[1;33m.\u001b[0m\u001b[0mdropna\u001b[0m\u001b[1;33m(\u001b[0m\u001b[0minplace\u001b[0m\u001b[1;33m=\u001b[0m\u001b[1;32mTrue\u001b[0m\u001b[1;33m)\u001b[0m\u001b[1;33m\u001b[0m\u001b[1;33m\u001b[0m\u001b[0m\n",
      "\u001b[1;32m~\\Anaconda3\\lib\\site-packages\\pandas\\core\\frame.py\u001b[0m in \u001b[0;36m__getitem__\u001b[1;34m(self, key)\u001b[0m\n\u001b[0;32m   3022\u001b[0m             \u001b[1;32mif\u001b[0m \u001b[0mself\u001b[0m\u001b[1;33m.\u001b[0m\u001b[0mcolumns\u001b[0m\u001b[1;33m.\u001b[0m\u001b[0mnlevels\u001b[0m \u001b[1;33m>\u001b[0m \u001b[1;36m1\u001b[0m\u001b[1;33m:\u001b[0m\u001b[1;33m\u001b[0m\u001b[1;33m\u001b[0m\u001b[0m\n\u001b[0;32m   3023\u001b[0m                 \u001b[1;32mreturn\u001b[0m \u001b[0mself\u001b[0m\u001b[1;33m.\u001b[0m\u001b[0m_getitem_multilevel\u001b[0m\u001b[1;33m(\u001b[0m\u001b[0mkey\u001b[0m\u001b[1;33m)\u001b[0m\u001b[1;33m\u001b[0m\u001b[1;33m\u001b[0m\u001b[0m\n\u001b[1;32m-> 3024\u001b[1;33m             \u001b[0mindexer\u001b[0m \u001b[1;33m=\u001b[0m \u001b[0mself\u001b[0m\u001b[1;33m.\u001b[0m\u001b[0mcolumns\u001b[0m\u001b[1;33m.\u001b[0m\u001b[0mget_loc\u001b[0m\u001b[1;33m(\u001b[0m\u001b[0mkey\u001b[0m\u001b[1;33m)\u001b[0m\u001b[1;33m\u001b[0m\u001b[1;33m\u001b[0m\u001b[0m\n\u001b[0m\u001b[0;32m   3025\u001b[0m             \u001b[1;32mif\u001b[0m \u001b[0mis_integer\u001b[0m\u001b[1;33m(\u001b[0m\u001b[0mindexer\u001b[0m\u001b[1;33m)\u001b[0m\u001b[1;33m:\u001b[0m\u001b[1;33m\u001b[0m\u001b[1;33m\u001b[0m\u001b[0m\n\u001b[0;32m   3026\u001b[0m                 \u001b[0mindexer\u001b[0m \u001b[1;33m=\u001b[0m \u001b[1;33m[\u001b[0m\u001b[0mindexer\u001b[0m\u001b[1;33m]\u001b[0m\u001b[1;33m\u001b[0m\u001b[1;33m\u001b[0m\u001b[0m\n",
      "\u001b[1;32m~\\Anaconda3\\lib\\site-packages\\pandas\\core\\indexes\\base.py\u001b[0m in \u001b[0;36mget_loc\u001b[1;34m(self, key, method, tolerance)\u001b[0m\n\u001b[0;32m   3080\u001b[0m                 \u001b[1;32mreturn\u001b[0m \u001b[0mself\u001b[0m\u001b[1;33m.\u001b[0m\u001b[0m_engine\u001b[0m\u001b[1;33m.\u001b[0m\u001b[0mget_loc\u001b[0m\u001b[1;33m(\u001b[0m\u001b[0mcasted_key\u001b[0m\u001b[1;33m)\u001b[0m\u001b[1;33m\u001b[0m\u001b[1;33m\u001b[0m\u001b[0m\n\u001b[0;32m   3081\u001b[0m             \u001b[1;32mexcept\u001b[0m \u001b[0mKeyError\u001b[0m \u001b[1;32mas\u001b[0m \u001b[0merr\u001b[0m\u001b[1;33m:\u001b[0m\u001b[1;33m\u001b[0m\u001b[1;33m\u001b[0m\u001b[0m\n\u001b[1;32m-> 3082\u001b[1;33m                 \u001b[1;32mraise\u001b[0m \u001b[0mKeyError\u001b[0m\u001b[1;33m(\u001b[0m\u001b[0mkey\u001b[0m\u001b[1;33m)\u001b[0m \u001b[1;32mfrom\u001b[0m \u001b[0merr\u001b[0m\u001b[1;33m\u001b[0m\u001b[1;33m\u001b[0m\u001b[0m\n\u001b[0m\u001b[0;32m   3083\u001b[0m \u001b[1;33m\u001b[0m\u001b[0m\n\u001b[0;32m   3084\u001b[0m         \u001b[1;32mif\u001b[0m \u001b[0mtolerance\u001b[0m \u001b[1;32mis\u001b[0m \u001b[1;32mnot\u001b[0m \u001b[1;32mNone\u001b[0m\u001b[1;33m:\u001b[0m\u001b[1;33m\u001b[0m\u001b[1;33m\u001b[0m\u001b[0m\n",
      "\u001b[1;31mKeyError\u001b[0m: 'd'"
     ]
    }
   ],
   "source": [
    "lags = 10\n",
    "cols = list()\n",
    "for lag in range(1, lags + 1):\n",
    "    col = f'lag_{lag}'\n",
    "    data[col] = data['d'].shift(lag)\n",
    "    cols.append(col)\n",
    "data.dropna(inplace=True)\n",
    "# data[cols] = data[cols].astype(int)"
   ]
  },
  {
   "cell_type": "code",
   "execution_count": 52,
   "metadata": {
    "execution": {
     "iopub.execute_input": "2021-02-18T11:47:30.541104Z",
     "iopub.status.busy": "2021-02-18T11:47:30.541104Z",
     "iopub.status.idle": "2021-02-18T11:47:30.550612Z",
     "shell.execute_reply": "2021-02-18T11:47:30.550612Z",
     "shell.execute_reply.started": "2021-02-18T11:47:30.541104Z"
    }
   },
   "outputs": [],
   "source": [
    "# 2 ** lags"
   ]
  },
  {
   "cell_type": "code",
   "execution_count": 53,
   "metadata": {
    "execution": {
     "iopub.execute_input": "2021-02-18T11:47:32.693107Z",
     "iopub.status.busy": "2021-02-18T11:47:32.692090Z",
     "iopub.status.idle": "2021-02-18T11:47:32.723607Z",
     "shell.execute_reply": "2021-02-18T11:47:32.723607Z",
     "shell.execute_reply.started": "2021-02-18T11:47:32.693107Z"
    }
   },
   "outputs": [
    {
     "data": {
      "text/html": [
       "<div>\n",
       "<style scoped>\n",
       "    .dataframe tbody tr th:only-of-type {\n",
       "        vertical-align: middle;\n",
       "    }\n",
       "\n",
       "    .dataframe tbody tr th {\n",
       "        vertical-align: top;\n",
       "    }\n",
       "\n",
       "    .dataframe thead th {\n",
       "        text-align: right;\n",
       "    }\n",
       "</style>\n",
       "<table border=\"1\" class=\"dataframe\">\n",
       "  <thead>\n",
       "    <tr style=\"text-align: right;\">\n",
       "      <th></th>\n",
       "      <th>EUR=</th>\n",
       "      <th>r</th>\n",
       "      <th>d</th>\n",
       "      <th>r_norm</th>\n",
       "      <th>lag_1</th>\n",
       "      <th>lag_2</th>\n",
       "      <th>lag_3</th>\n",
       "      <th>lag_4</th>\n",
       "      <th>lag_5</th>\n",
       "      <th>p</th>\n",
       "      <th>s</th>\n",
       "      <th>r_</th>\n",
       "      <th>rn</th>\n",
       "      <th>lag_6</th>\n",
       "      <th>lag_7</th>\n",
       "      <th>lag_8</th>\n",
       "      <th>lag_9</th>\n",
       "      <th>lag_10</th>\n",
       "    </tr>\n",
       "    <tr>\n",
       "      <th>Date</th>\n",
       "      <th></th>\n",
       "      <th></th>\n",
       "      <th></th>\n",
       "      <th></th>\n",
       "      <th></th>\n",
       "      <th></th>\n",
       "      <th></th>\n",
       "      <th></th>\n",
       "      <th></th>\n",
       "      <th></th>\n",
       "      <th></th>\n",
       "      <th></th>\n",
       "      <th></th>\n",
       "      <th></th>\n",
       "      <th></th>\n",
       "      <th></th>\n",
       "      <th></th>\n",
       "      <th></th>\n",
       "    </tr>\n",
       "  </thead>\n",
       "  <tbody>\n",
       "    <tr>\n",
       "      <th>2019-03-05 15:00:00</th>\n",
       "      <td>1.1326</td>\n",
       "      <td>-0.001059</td>\n",
       "      <td>-1</td>\n",
       "      <td>-0.980213</td>\n",
       "      <td>-1.0</td>\n",
       "      <td>1.0</td>\n",
       "      <td>1.0</td>\n",
       "      <td>-1.0</td>\n",
       "      <td>1.0</td>\n",
       "      <td>-1</td>\n",
       "      <td>0.001059</td>\n",
       "      <td>0.001059</td>\n",
       "      <td>-0.001059</td>\n",
       "      <td>1.0</td>\n",
       "      <td>-1.0</td>\n",
       "      <td>-1.0</td>\n",
       "      <td>1.0</td>\n",
       "      <td>1.0</td>\n",
       "    </tr>\n",
       "    <tr>\n",
       "      <th>2019-03-05 16:00:00</th>\n",
       "      <td>1.1306</td>\n",
       "      <td>-0.001767</td>\n",
       "      <td>-1</td>\n",
       "      <td>-1.642070</td>\n",
       "      <td>-1.0</td>\n",
       "      <td>-1.0</td>\n",
       "      <td>1.0</td>\n",
       "      <td>1.0</td>\n",
       "      <td>-1.0</td>\n",
       "      <td>1</td>\n",
       "      <td>-0.001767</td>\n",
       "      <td>0.001767</td>\n",
       "      <td>-0.001767</td>\n",
       "      <td>1.0</td>\n",
       "      <td>1.0</td>\n",
       "      <td>-1.0</td>\n",
       "      <td>-1.0</td>\n",
       "      <td>1.0</td>\n",
       "    </tr>\n",
       "    <tr>\n",
       "      <th>2019-03-05 17:00:00</th>\n",
       "      <td>1.1297</td>\n",
       "      <td>-0.000796</td>\n",
       "      <td>-1</td>\n",
       "      <td>-0.734893</td>\n",
       "      <td>-1.0</td>\n",
       "      <td>-1.0</td>\n",
       "      <td>-1.0</td>\n",
       "      <td>1.0</td>\n",
       "      <td>1.0</td>\n",
       "      <td>1</td>\n",
       "      <td>-0.000796</td>\n",
       "      <td>0.000796</td>\n",
       "      <td>-0.000796</td>\n",
       "      <td>-1.0</td>\n",
       "      <td>1.0</td>\n",
       "      <td>1.0</td>\n",
       "      <td>-1.0</td>\n",
       "      <td>-1.0</td>\n",
       "    </tr>\n",
       "    <tr>\n",
       "      <th>2019-03-05 18:00:00</th>\n",
       "      <td>1.1297</td>\n",
       "      <td>0.000000</td>\n",
       "      <td>0</td>\n",
       "      <td>0.009075</td>\n",
       "      <td>-1.0</td>\n",
       "      <td>-1.0</td>\n",
       "      <td>-1.0</td>\n",
       "      <td>-1.0</td>\n",
       "      <td>1.0</td>\n",
       "      <td>1</td>\n",
       "      <td>0.000000</td>\n",
       "      <td>-0.000000</td>\n",
       "      <td>-0.000000</td>\n",
       "      <td>1.0</td>\n",
       "      <td>-1.0</td>\n",
       "      <td>1.0</td>\n",
       "      <td>1.0</td>\n",
       "      <td>-1.0</td>\n",
       "    </tr>\n",
       "    <tr>\n",
       "      <th>2019-03-05 19:00:00</th>\n",
       "      <td>1.1305</td>\n",
       "      <td>0.000708</td>\n",
       "      <td>1</td>\n",
       "      <td>0.670410</td>\n",
       "      <td>0.0</td>\n",
       "      <td>-1.0</td>\n",
       "      <td>-1.0</td>\n",
       "      <td>-1.0</td>\n",
       "      <td>-1.0</td>\n",
       "      <td>1</td>\n",
       "      <td>0.000708</td>\n",
       "      <td>-0.000708</td>\n",
       "      <td>0.000708</td>\n",
       "      <td>1.0</td>\n",
       "      <td>1.0</td>\n",
       "      <td>-1.0</td>\n",
       "      <td>1.0</td>\n",
       "      <td>1.0</td>\n",
       "    </tr>\n",
       "    <tr>\n",
       "      <th>...</th>\n",
       "      <td>...</td>\n",
       "      <td>...</td>\n",
       "      <td>...</td>\n",
       "      <td>...</td>\n",
       "      <td>...</td>\n",
       "      <td>...</td>\n",
       "      <td>...</td>\n",
       "      <td>...</td>\n",
       "      <td>...</td>\n",
       "      <td>...</td>\n",
       "      <td>...</td>\n",
       "      <td>...</td>\n",
       "      <td>...</td>\n",
       "      <td>...</td>\n",
       "      <td>...</td>\n",
       "      <td>...</td>\n",
       "      <td>...</td>\n",
       "      <td>...</td>\n",
       "    </tr>\n",
       "    <tr>\n",
       "      <th>2019-12-31 18:00:00</th>\n",
       "      <td>1.1227</td>\n",
       "      <td>0.000178</td>\n",
       "      <td>1</td>\n",
       "      <td>0.175513</td>\n",
       "      <td>1.0</td>\n",
       "      <td>1.0</td>\n",
       "      <td>1.0</td>\n",
       "      <td>1.0</td>\n",
       "      <td>-1.0</td>\n",
       "      <td>-1</td>\n",
       "      <td>-0.000178</td>\n",
       "      <td>-0.000178</td>\n",
       "      <td>0.000178</td>\n",
       "      <td>-1.0</td>\n",
       "      <td>-1.0</td>\n",
       "      <td>-1.0</td>\n",
       "      <td>1.0</td>\n",
       "      <td>-1.0</td>\n",
       "    </tr>\n",
       "    <tr>\n",
       "      <th>2019-12-31 19:00:00</th>\n",
       "      <td>1.1222</td>\n",
       "      <td>-0.000445</td>\n",
       "      <td>-1</td>\n",
       "      <td>-0.407076</td>\n",
       "      <td>1.0</td>\n",
       "      <td>1.0</td>\n",
       "      <td>1.0</td>\n",
       "      <td>1.0</td>\n",
       "      <td>1.0</td>\n",
       "      <td>-1</td>\n",
       "      <td>0.000445</td>\n",
       "      <td>0.000445</td>\n",
       "      <td>-0.000445</td>\n",
       "      <td>-1.0</td>\n",
       "      <td>-1.0</td>\n",
       "      <td>-1.0</td>\n",
       "      <td>-1.0</td>\n",
       "      <td>1.0</td>\n",
       "    </tr>\n",
       "    <tr>\n",
       "      <th>2019-12-31 20:00:00</th>\n",
       "      <td>1.1215</td>\n",
       "      <td>-0.000624</td>\n",
       "      <td>-1</td>\n",
       "      <td>-0.573848</td>\n",
       "      <td>-1.0</td>\n",
       "      <td>1.0</td>\n",
       "      <td>1.0</td>\n",
       "      <td>1.0</td>\n",
       "      <td>1.0</td>\n",
       "      <td>-1</td>\n",
       "      <td>0.000624</td>\n",
       "      <td>0.000624</td>\n",
       "      <td>-0.000624</td>\n",
       "      <td>1.0</td>\n",
       "      <td>-1.0</td>\n",
       "      <td>-1.0</td>\n",
       "      <td>-1.0</td>\n",
       "      <td>-1.0</td>\n",
       "    </tr>\n",
       "    <tr>\n",
       "      <th>2019-12-31 21:00:00</th>\n",
       "      <td>1.1216</td>\n",
       "      <td>0.000089</td>\n",
       "      <td>1</td>\n",
       "      <td>0.092372</td>\n",
       "      <td>-1.0</td>\n",
       "      <td>-1.0</td>\n",
       "      <td>1.0</td>\n",
       "      <td>1.0</td>\n",
       "      <td>1.0</td>\n",
       "      <td>1</td>\n",
       "      <td>0.000089</td>\n",
       "      <td>-0.000089</td>\n",
       "      <td>-0.000089</td>\n",
       "      <td>1.0</td>\n",
       "      <td>1.0</td>\n",
       "      <td>-1.0</td>\n",
       "      <td>-1.0</td>\n",
       "      <td>-1.0</td>\n",
       "    </tr>\n",
       "    <tr>\n",
       "      <th>2019-12-31 22:00:00</th>\n",
       "      <td>1.1210</td>\n",
       "      <td>-0.000535</td>\n",
       "      <td>-1</td>\n",
       "      <td>-0.490818</td>\n",
       "      <td>1.0</td>\n",
       "      <td>-1.0</td>\n",
       "      <td>-1.0</td>\n",
       "      <td>1.0</td>\n",
       "      <td>1.0</td>\n",
       "      <td>-1</td>\n",
       "      <td>0.000535</td>\n",
       "      <td>0.000535</td>\n",
       "      <td>-0.000535</td>\n",
       "      <td>1.0</td>\n",
       "      <td>1.0</td>\n",
       "      <td>1.0</td>\n",
       "      <td>-1.0</td>\n",
       "      <td>-1.0</td>\n",
       "    </tr>\n",
       "  </tbody>\n",
       "</table>\n",
       "<p>1670 rows × 18 columns</p>\n",
       "</div>"
      ],
      "text/plain": [
       "                       EUR=         r  d    r_norm  lag_1  lag_2  lag_3  \\\n",
       "Date                                                                      \n",
       "2019-03-05 15:00:00  1.1326 -0.001059 -1 -0.980213   -1.0    1.0    1.0   \n",
       "2019-03-05 16:00:00  1.1306 -0.001767 -1 -1.642070   -1.0   -1.0    1.0   \n",
       "2019-03-05 17:00:00  1.1297 -0.000796 -1 -0.734893   -1.0   -1.0   -1.0   \n",
       "2019-03-05 18:00:00  1.1297  0.000000  0  0.009075   -1.0   -1.0   -1.0   \n",
       "2019-03-05 19:00:00  1.1305  0.000708  1  0.670410    0.0   -1.0   -1.0   \n",
       "...                     ...       ... ..       ...    ...    ...    ...   \n",
       "2019-12-31 18:00:00  1.1227  0.000178  1  0.175513    1.0    1.0    1.0   \n",
       "2019-12-31 19:00:00  1.1222 -0.000445 -1 -0.407076    1.0    1.0    1.0   \n",
       "2019-12-31 20:00:00  1.1215 -0.000624 -1 -0.573848   -1.0    1.0    1.0   \n",
       "2019-12-31 21:00:00  1.1216  0.000089  1  0.092372   -1.0   -1.0    1.0   \n",
       "2019-12-31 22:00:00  1.1210 -0.000535 -1 -0.490818    1.0   -1.0   -1.0   \n",
       "\n",
       "                     lag_4  lag_5  p         s        r_        rn  lag_6  \\\n",
       "Date                                                                        \n",
       "2019-03-05 15:00:00   -1.0    1.0 -1  0.001059  0.001059 -0.001059    1.0   \n",
       "2019-03-05 16:00:00    1.0   -1.0  1 -0.001767  0.001767 -0.001767    1.0   \n",
       "2019-03-05 17:00:00    1.0    1.0  1 -0.000796  0.000796 -0.000796   -1.0   \n",
       "2019-03-05 18:00:00   -1.0    1.0  1  0.000000 -0.000000 -0.000000    1.0   \n",
       "2019-03-05 19:00:00   -1.0   -1.0  1  0.000708 -0.000708  0.000708    1.0   \n",
       "...                    ...    ... ..       ...       ...       ...    ...   \n",
       "2019-12-31 18:00:00    1.0   -1.0 -1 -0.000178 -0.000178  0.000178   -1.0   \n",
       "2019-12-31 19:00:00    1.0    1.0 -1  0.000445  0.000445 -0.000445   -1.0   \n",
       "2019-12-31 20:00:00    1.0    1.0 -1  0.000624  0.000624 -0.000624    1.0   \n",
       "2019-12-31 21:00:00    1.0    1.0  1  0.000089 -0.000089 -0.000089    1.0   \n",
       "2019-12-31 22:00:00    1.0    1.0 -1  0.000535  0.000535 -0.000535    1.0   \n",
       "\n",
       "                     lag_7  lag_8  lag_9  lag_10  \n",
       "Date                                              \n",
       "2019-03-05 15:00:00   -1.0   -1.0    1.0     1.0  \n",
       "2019-03-05 16:00:00    1.0   -1.0   -1.0     1.0  \n",
       "2019-03-05 17:00:00    1.0    1.0   -1.0    -1.0  \n",
       "2019-03-05 18:00:00   -1.0    1.0    1.0    -1.0  \n",
       "2019-03-05 19:00:00    1.0   -1.0    1.0     1.0  \n",
       "...                    ...    ...    ...     ...  \n",
       "2019-12-31 18:00:00   -1.0   -1.0    1.0    -1.0  \n",
       "2019-12-31 19:00:00   -1.0   -1.0   -1.0     1.0  \n",
       "2019-12-31 20:00:00   -1.0   -1.0   -1.0    -1.0  \n",
       "2019-12-31 21:00:00    1.0   -1.0   -1.0    -1.0  \n",
       "2019-12-31 22:00:00    1.0    1.0   -1.0    -1.0  \n",
       "\n",
       "[1670 rows x 18 columns]"
      ]
     },
     "execution_count": 53,
     "metadata": {},
     "output_type": "execute_result"
    }
   ],
   "source": [
    "data"
   ]
  },
  {
   "cell_type": "markdown",
   "metadata": {},
   "source": [
    "### Model Fitting (In-Sample)"
   ]
  },
  {
   "cell_type": "code",
   "execution_count": 54,
   "metadata": {
    "execution": {
     "iopub.execute_input": "2021-02-18T11:47:41.768313Z",
     "iopub.status.busy": "2021-02-18T11:47:41.768313Z",
     "iopub.status.idle": "2021-02-18T11:47:41.773315Z",
     "shell.execute_reply": "2021-02-18T11:47:41.773315Z",
     "shell.execute_reply.started": "2021-02-18T11:47:41.768313Z"
    }
   },
   "outputs": [],
   "source": [
    "from sklearn.naive_bayes import GaussianNB\n",
    "from sklearn.linear_model import LogisticRegression\n",
    "from sklearn.neural_network import MLPClassifier"
   ]
  },
  {
   "cell_type": "code",
   "execution_count": 55,
   "metadata": {
    "execution": {
     "iopub.execute_input": "2021-02-18T11:47:43.406092Z",
     "iopub.status.busy": "2021-02-18T11:47:43.406092Z",
     "iopub.status.idle": "2021-02-18T11:47:43.424621Z",
     "shell.execute_reply": "2021-02-18T11:47:43.424621Z",
     "shell.execute_reply.started": "2021-02-18T11:47:43.406092Z"
    }
   },
   "outputs": [
    {
     "data": {
      "text/plain": [
       "GaussianNB()"
      ]
     },
     "execution_count": 55,
     "metadata": {},
     "output_type": "execute_result"
    }
   ],
   "source": [
    "model = GaussianNB()\n",
    "model"
   ]
  },
  {
   "cell_type": "code",
   "execution_count": 40,
   "metadata": {
    "execution": {
     "iopub.execute_input": "2021-02-18T11:46:16.506617Z",
     "iopub.status.busy": "2021-02-18T11:46:16.506617Z",
     "iopub.status.idle": "2021-02-18T11:46:16.512666Z",
     "shell.execute_reply": "2021-02-18T11:46:16.512666Z",
     "shell.execute_reply.started": "2021-02-18T11:46:16.506617Z"
    }
   },
   "outputs": [
    {
     "data": {
      "text/plain": [
       "LogisticRegression()"
      ]
     },
     "execution_count": 40,
     "metadata": {},
     "output_type": "execute_result"
    }
   ],
   "source": [
    "model = LogisticRegression()\n",
    "model"
   ]
  },
  {
   "cell_type": "code",
   "execution_count": 76,
   "metadata": {
    "execution": {
     "iopub.execute_input": "2021-02-18T12:00:13.410518Z",
     "iopub.status.busy": "2021-02-18T12:00:13.409518Z",
     "iopub.status.idle": "2021-02-18T12:00:13.418600Z",
     "shell.execute_reply": "2021-02-18T12:00:13.417742Z",
     "shell.execute_reply.started": "2021-02-18T12:00:13.410518Z"
    }
   },
   "outputs": [
    {
     "data": {
      "text/plain": [
       "MLPClassifier(hidden_layer_sizes=[32], max_iter=500, shuffle=False)"
      ]
     },
     "execution_count": 76,
     "metadata": {},
     "output_type": "execute_result"
    }
   ],
   "source": [
    "model = MLPClassifier(hidden_layer_sizes=[32], shuffle=False, max_iter=500)\n",
    "model"
   ]
  },
  {
   "cell_type": "code",
   "execution_count": 77,
   "metadata": {
    "execution": {
     "iopub.execute_input": "2021-02-18T12:00:14.725198Z",
     "iopub.status.busy": "2021-02-18T12:00:14.725198Z",
     "iopub.status.idle": "2021-02-18T12:00:17.092317Z",
     "shell.execute_reply": "2021-02-18T12:00:17.091313Z",
     "shell.execute_reply.started": "2021-02-18T12:00:14.725198Z"
    }
   },
   "outputs": [
    {
     "name": "stderr",
     "output_type": "stream",
     "text": [
      "C:\\Users\\ramsu\\Anaconda3\\lib\\site-packages\\sklearn\\neural_network\\_multilayer_perceptron.py:585: ConvergenceWarning: Stochastic Optimizer: Maximum iterations (500) reached and the optimization hasn't converged yet.\n",
      "  % self.max_iter, ConvergenceWarning)\n"
     ]
    },
    {
     "data": {
      "text/plain": [
       "MLPClassifier(hidden_layer_sizes=[32], max_iter=500, shuffle=False)"
      ]
     },
     "execution_count": 77,
     "metadata": {},
     "output_type": "execute_result"
    }
   ],
   "source": [
    "model.fit(data[cols], data['d'])"
   ]
  },
  {
   "cell_type": "markdown",
   "metadata": {},
   "source": [
    "### Vectorized Backtesting (In-Sample)"
   ]
  },
  {
   "cell_type": "code",
   "execution_count": 78,
   "metadata": {
    "execution": {
     "iopub.execute_input": "2021-02-18T12:00:19.592106Z",
     "iopub.status.busy": "2021-02-18T12:00:19.592106Z",
     "iopub.status.idle": "2021-02-18T12:00:19.612617Z",
     "shell.execute_reply": "2021-02-18T12:00:19.612617Z",
     "shell.execute_reply.started": "2021-02-18T12:00:19.592106Z"
    }
   },
   "outputs": [],
   "source": [
    "data['p'] = model.predict(data[cols])"
   ]
  },
  {
   "cell_type": "code",
   "execution_count": 79,
   "metadata": {
    "execution": {
     "iopub.execute_input": "2021-02-18T12:00:20.364119Z",
     "iopub.status.busy": "2021-02-18T12:00:20.363116Z",
     "iopub.status.idle": "2021-02-18T12:00:20.373525Z",
     "shell.execute_reply": "2021-02-18T12:00:20.373525Z",
     "shell.execute_reply.started": "2021-02-18T12:00:20.364119Z"
    }
   },
   "outputs": [
    {
     "data": {
      "text/plain": [
       "array([-1,  0,  1])"
      ]
     },
     "execution_count": 79,
     "metadata": {},
     "output_type": "execute_result"
    }
   ],
   "source": [
    "model.classes_"
   ]
  },
  {
   "cell_type": "code",
   "execution_count": 80,
   "metadata": {
    "execution": {
     "iopub.execute_input": "2021-02-18T12:00:21.057676Z",
     "iopub.status.busy": "2021-02-18T12:00:21.057676Z",
     "iopub.status.idle": "2021-02-18T12:00:21.070207Z",
     "shell.execute_reply": "2021-02-18T12:00:21.069206Z",
     "shell.execute_reply.started": "2021-02-18T12:00:21.057676Z"
    }
   },
   "outputs": [
    {
     "data": {
      "text/plain": [
       "array([[0.55435189, 0.02118156, 0.42446656],\n",
       "       [0.38262951, 0.05570469, 0.5616658 ],\n",
       "       [0.69671194, 0.0464934 , 0.25679466],\n",
       "       ...,\n",
       "       [0.26841625, 0.10407549, 0.62750826],\n",
       "       [0.23559079, 0.06715517, 0.69725405],\n",
       "       [0.62476753, 0.02558157, 0.3496509 ]])"
      ]
     },
     "execution_count": 80,
     "metadata": {},
     "output_type": "execute_result"
    }
   ],
   "source": [
    "model.predict_proba(data[cols])"
   ]
  },
  {
   "cell_type": "code",
   "execution_count": 81,
   "metadata": {
    "execution": {
     "iopub.execute_input": "2021-02-18T12:00:26.992456Z",
     "iopub.status.busy": "2021-02-18T12:00:26.992456Z",
     "iopub.status.idle": "2021-02-18T12:00:27.016965Z",
     "shell.execute_reply": "2021-02-18T12:00:27.016965Z",
     "shell.execute_reply.started": "2021-02-18T12:00:26.992456Z"
    }
   },
   "outputs": [
    {
     "data": {
      "text/html": [
       "<div>\n",
       "<style scoped>\n",
       "    .dataframe tbody tr th:only-of-type {\n",
       "        vertical-align: middle;\n",
       "    }\n",
       "\n",
       "    .dataframe tbody tr th {\n",
       "        vertical-align: top;\n",
       "    }\n",
       "\n",
       "    .dataframe thead th {\n",
       "        text-align: right;\n",
       "    }\n",
       "</style>\n",
       "<table border=\"1\" class=\"dataframe\">\n",
       "  <thead>\n",
       "    <tr style=\"text-align: right;\">\n",
       "      <th></th>\n",
       "      <th>EUR=</th>\n",
       "      <th>r</th>\n",
       "      <th>d</th>\n",
       "      <th>r_norm</th>\n",
       "      <th>lag_1</th>\n",
       "      <th>lag_2</th>\n",
       "      <th>lag_3</th>\n",
       "      <th>lag_4</th>\n",
       "      <th>lag_5</th>\n",
       "      <th>p</th>\n",
       "      <th>s</th>\n",
       "      <th>r_</th>\n",
       "      <th>rn</th>\n",
       "      <th>lag_6</th>\n",
       "      <th>lag_7</th>\n",
       "      <th>lag_8</th>\n",
       "      <th>lag_9</th>\n",
       "      <th>lag_10</th>\n",
       "    </tr>\n",
       "    <tr>\n",
       "      <th>Date</th>\n",
       "      <th></th>\n",
       "      <th></th>\n",
       "      <th></th>\n",
       "      <th></th>\n",
       "      <th></th>\n",
       "      <th></th>\n",
       "      <th></th>\n",
       "      <th></th>\n",
       "      <th></th>\n",
       "      <th></th>\n",
       "      <th></th>\n",
       "      <th></th>\n",
       "      <th></th>\n",
       "      <th></th>\n",
       "      <th></th>\n",
       "      <th></th>\n",
       "      <th></th>\n",
       "      <th></th>\n",
       "    </tr>\n",
       "  </thead>\n",
       "  <tbody>\n",
       "    <tr>\n",
       "      <th>2019-12-31 18:00:00</th>\n",
       "      <td>1.1227</td>\n",
       "      <td>0.000178</td>\n",
       "      <td>1</td>\n",
       "      <td>0.175513</td>\n",
       "      <td>1.0</td>\n",
       "      <td>1.0</td>\n",
       "      <td>1.0</td>\n",
       "      <td>1.0</td>\n",
       "      <td>-1.0</td>\n",
       "      <td>1</td>\n",
       "      <td>-0.000178</td>\n",
       "      <td>-0.000178</td>\n",
       "      <td>0.000178</td>\n",
       "      <td>-1.0</td>\n",
       "      <td>-1.0</td>\n",
       "      <td>-1.0</td>\n",
       "      <td>1.0</td>\n",
       "      <td>-1.0</td>\n",
       "    </tr>\n",
       "    <tr>\n",
       "      <th>2019-12-31 19:00:00</th>\n",
       "      <td>1.1222</td>\n",
       "      <td>-0.000445</td>\n",
       "      <td>-1</td>\n",
       "      <td>-0.407076</td>\n",
       "      <td>1.0</td>\n",
       "      <td>1.0</td>\n",
       "      <td>1.0</td>\n",
       "      <td>1.0</td>\n",
       "      <td>1.0</td>\n",
       "      <td>-1</td>\n",
       "      <td>0.000445</td>\n",
       "      <td>0.000445</td>\n",
       "      <td>0.000445</td>\n",
       "      <td>-1.0</td>\n",
       "      <td>-1.0</td>\n",
       "      <td>-1.0</td>\n",
       "      <td>-1.0</td>\n",
       "      <td>1.0</td>\n",
       "    </tr>\n",
       "    <tr>\n",
       "      <th>2019-12-31 20:00:00</th>\n",
       "      <td>1.1215</td>\n",
       "      <td>-0.000624</td>\n",
       "      <td>-1</td>\n",
       "      <td>-0.573848</td>\n",
       "      <td>-1.0</td>\n",
       "      <td>1.0</td>\n",
       "      <td>1.0</td>\n",
       "      <td>1.0</td>\n",
       "      <td>1.0</td>\n",
       "      <td>1</td>\n",
       "      <td>0.000624</td>\n",
       "      <td>0.000624</td>\n",
       "      <td>0.000624</td>\n",
       "      <td>1.0</td>\n",
       "      <td>-1.0</td>\n",
       "      <td>-1.0</td>\n",
       "      <td>-1.0</td>\n",
       "      <td>-1.0</td>\n",
       "    </tr>\n",
       "    <tr>\n",
       "      <th>2019-12-31 21:00:00</th>\n",
       "      <td>1.1216</td>\n",
       "      <td>0.000089</td>\n",
       "      <td>1</td>\n",
       "      <td>0.092372</td>\n",
       "      <td>-1.0</td>\n",
       "      <td>-1.0</td>\n",
       "      <td>1.0</td>\n",
       "      <td>1.0</td>\n",
       "      <td>1.0</td>\n",
       "      <td>1</td>\n",
       "      <td>-0.000089</td>\n",
       "      <td>-0.000089</td>\n",
       "      <td>-0.000089</td>\n",
       "      <td>1.0</td>\n",
       "      <td>1.0</td>\n",
       "      <td>-1.0</td>\n",
       "      <td>-1.0</td>\n",
       "      <td>-1.0</td>\n",
       "    </tr>\n",
       "    <tr>\n",
       "      <th>2019-12-31 22:00:00</th>\n",
       "      <td>1.1210</td>\n",
       "      <td>-0.000535</td>\n",
       "      <td>-1</td>\n",
       "      <td>-0.490818</td>\n",
       "      <td>1.0</td>\n",
       "      <td>-1.0</td>\n",
       "      <td>-1.0</td>\n",
       "      <td>1.0</td>\n",
       "      <td>1.0</td>\n",
       "      <td>-1</td>\n",
       "      <td>0.000535</td>\n",
       "      <td>0.000535</td>\n",
       "      <td>0.000535</td>\n",
       "      <td>1.0</td>\n",
       "      <td>1.0</td>\n",
       "      <td>1.0</td>\n",
       "      <td>-1.0</td>\n",
       "      <td>-1.0</td>\n",
       "    </tr>\n",
       "  </tbody>\n",
       "</table>\n",
       "</div>"
      ],
      "text/plain": [
       "                       EUR=         r  d    r_norm  lag_1  lag_2  lag_3  \\\n",
       "Date                                                                      \n",
       "2019-12-31 18:00:00  1.1227  0.000178  1  0.175513    1.0    1.0    1.0   \n",
       "2019-12-31 19:00:00  1.1222 -0.000445 -1 -0.407076    1.0    1.0    1.0   \n",
       "2019-12-31 20:00:00  1.1215 -0.000624 -1 -0.573848   -1.0    1.0    1.0   \n",
       "2019-12-31 21:00:00  1.1216  0.000089  1  0.092372   -1.0   -1.0    1.0   \n",
       "2019-12-31 22:00:00  1.1210 -0.000535 -1 -0.490818    1.0   -1.0   -1.0   \n",
       "\n",
       "                     lag_4  lag_5  p         s        r_        rn  lag_6  \\\n",
       "Date                                                                        \n",
       "2019-12-31 18:00:00    1.0   -1.0  1 -0.000178 -0.000178  0.000178   -1.0   \n",
       "2019-12-31 19:00:00    1.0    1.0 -1  0.000445  0.000445  0.000445   -1.0   \n",
       "2019-12-31 20:00:00    1.0    1.0  1  0.000624  0.000624  0.000624    1.0   \n",
       "2019-12-31 21:00:00    1.0    1.0  1 -0.000089 -0.000089 -0.000089    1.0   \n",
       "2019-12-31 22:00:00    1.0    1.0 -1  0.000535  0.000535  0.000535    1.0   \n",
       "\n",
       "                     lag_7  lag_8  lag_9  lag_10  \n",
       "Date                                              \n",
       "2019-12-31 18:00:00   -1.0   -1.0    1.0    -1.0  \n",
       "2019-12-31 19:00:00   -1.0   -1.0   -1.0     1.0  \n",
       "2019-12-31 20:00:00   -1.0   -1.0   -1.0    -1.0  \n",
       "2019-12-31 21:00:00    1.0   -1.0   -1.0    -1.0  \n",
       "2019-12-31 22:00:00    1.0    1.0   -1.0    -1.0  "
      ]
     },
     "execution_count": 81,
     "metadata": {},
     "output_type": "execute_result"
    }
   ],
   "source": [
    "data.tail()"
   ]
  },
  {
   "cell_type": "code",
   "execution_count": 82,
   "metadata": {
    "execution": {
     "iopub.execute_input": "2021-02-18T12:00:29.855072Z",
     "iopub.status.busy": "2021-02-18T12:00:29.854063Z",
     "iopub.status.idle": "2021-02-18T12:00:29.860073Z",
     "shell.execute_reply": "2021-02-18T12:00:29.860073Z",
     "shell.execute_reply.started": "2021-02-18T12:00:29.855072Z"
    }
   },
   "outputs": [],
   "source": [
    "data['s'] = data['p'] * data['r']"
   ]
  },
  {
   "cell_type": "code",
   "execution_count": 83,
   "metadata": {
    "execution": {
     "iopub.execute_input": "2021-02-18T12:00:30.403447Z",
     "iopub.status.busy": "2021-02-18T12:00:30.403447Z",
     "iopub.status.idle": "2021-02-18T12:00:30.414954Z",
     "shell.execute_reply": "2021-02-18T12:00:30.414954Z",
     "shell.execute_reply.started": "2021-02-18T12:00:30.403447Z"
    }
   },
   "outputs": [],
   "source": [
    "data['r_'] = -1 * data['r']  # negative market returns"
   ]
  },
  {
   "cell_type": "code",
   "execution_count": 84,
   "metadata": {
    "execution": {
     "iopub.execute_input": "2021-02-18T12:00:31.424699Z",
     "iopub.status.busy": "2021-02-18T12:00:31.424699Z",
     "iopub.status.idle": "2021-02-18T12:00:31.443703Z",
     "shell.execute_reply": "2021-02-18T12:00:31.442702Z",
     "shell.execute_reply.started": "2021-02-18T12:00:31.424699Z"
    }
   },
   "outputs": [],
   "source": [
    "data['rn'] = np.random.choice([1, -1], size=len(data)) * data['r']  # random strategy returns"
   ]
  },
  {
   "cell_type": "code",
   "execution_count": 85,
   "metadata": {
    "execution": {
     "iopub.execute_input": "2021-02-18T12:00:33.343278Z",
     "iopub.status.busy": "2021-02-18T12:00:33.342276Z",
     "iopub.status.idle": "2021-02-18T12:00:33.361802Z",
     "shell.execute_reply": "2021-02-18T12:00:33.360816Z",
     "shell.execute_reply.started": "2021-02-18T12:00:33.343278Z"
    }
   },
   "outputs": [
    {
     "data": {
      "text/plain": [
       "r     0.988711\n",
       "r_    1.011418\n",
       "rn    1.020119\n",
       "s     1.381833\n",
       "dtype: float64"
      ]
     },
     "execution_count": 85,
     "metadata": {},
     "output_type": "execute_result"
    }
   ],
   "source": [
    "data[['r','r_', 'rn', 's']].sum().apply(np.exp)  # gross performance"
   ]
  },
  {
   "cell_type": "code",
   "execution_count": 65,
   "metadata": {
    "execution": {
     "iopub.execute_input": "2021-02-18T11:48:07.769677Z",
     "iopub.status.busy": "2021-02-18T11:48:07.768666Z",
     "iopub.status.idle": "2021-02-18T11:48:07.959226Z",
     "shell.execute_reply": "2021-02-18T11:48:07.958237Z",
     "shell.execute_reply.started": "2021-02-18T11:48:07.769677Z"
    }
   },
   "outputs": [
    {
     "data": {
      "image/png": "[encoded data removed]",
      "text/plain": [
       "<Figure size 720x432 with 1 Axes>"
      ]
     },
     "metadata": {},
     "output_type": "display_data"
    }
   ],
   "source": [
    "data[['r', 's']].cumsum(\n",
    "        ).apply(np.exp).plot(figsize=(10, 6));  # gross performance over time"
   ]
  },
  {
   "cell_type": "code",
   "execution_count": 86,
   "metadata": {
    "execution": {
     "iopub.execute_input": "2021-02-18T12:00:47.766809Z",
     "iopub.status.busy": "2021-02-18T12:00:47.766809Z",
     "iopub.status.idle": "2021-02-18T12:00:47.983951Z",
     "shell.execute_reply": "2021-02-18T12:00:47.983951Z",
     "shell.execute_reply.started": "2021-02-18T12:00:47.766809Z"
    }
   },
   "outputs": [
    {
     "data": {
      "image/png": "[encoded data removed]",
      "text/plain": [
       "<Figure size 720x432 with 1 Axes>"
      ]
     },
     "metadata": {},
     "output_type": "display_data"
    }
   ],
   "source": [
    "data[['r', 'r_', 'rn', 's']].cumsum(\n",
    "        ).apply(np.exp).plot(figsize=(10, 6));  # gross performance over time"
   ]
  },
  {
   "cell_type": "markdown",
   "metadata": {},
   "source": [
    "### Train-Test Split"
   ]
  },
  {
   "cell_type": "code",
   "execution_count": 87,
   "metadata": {
    "execution": {
     "iopub.execute_input": "2021-02-18T12:00:51.364693Z",
     "iopub.status.busy": "2021-02-18T12:00:51.364693Z",
     "iopub.status.idle": "2021-02-18T12:00:51.369694Z",
     "shell.execute_reply": "2021-02-18T12:00:51.369694Z",
     "shell.execute_reply.started": "2021-02-18T12:00:51.364693Z"
    }
   },
   "outputs": [],
   "source": [
    "split = int(len(data) * 0.7)"
   ]
  },
  {
   "cell_type": "code",
   "execution_count": 88,
   "metadata": {
    "execution": {
     "iopub.execute_input": "2021-02-18T12:00:51.848903Z",
     "iopub.status.busy": "2021-02-18T12:00:51.848903Z",
     "iopub.status.idle": "2021-02-18T12:00:51.862005Z",
     "shell.execute_reply": "2021-02-18T12:00:51.861005Z",
     "shell.execute_reply.started": "2021-02-18T12:00:51.848903Z"
    }
   },
   "outputs": [],
   "source": [
    "train = data.iloc[:split].copy()"
   ]
  },
  {
   "cell_type": "code",
   "execution_count": 89,
   "metadata": {
    "execution": {
     "iopub.execute_input": "2021-02-18T12:00:52.480694Z",
     "iopub.status.busy": "2021-02-18T12:00:52.480694Z",
     "iopub.status.idle": "2021-02-18T12:00:52.495257Z",
     "shell.execute_reply": "2021-02-18T12:00:52.495257Z",
     "shell.execute_reply.started": "2021-02-18T12:00:52.480694Z"
    }
   },
   "outputs": [],
   "source": [
    "test = data.iloc[split:].copy()"
   ]
  },
  {
   "cell_type": "markdown",
   "metadata": {},
   "source": [
    "### Training (In-Sample)"
   ]
  },
  {
   "cell_type": "code",
   "execution_count": 90,
   "metadata": {
    "execution": {
     "iopub.execute_input": "2021-02-18T12:00:55.407713Z",
     "iopub.status.busy": "2021-02-18T12:00:55.407713Z",
     "iopub.status.idle": "2021-02-18T12:00:56.997892Z",
     "shell.execute_reply": "2021-02-18T12:00:56.997892Z",
     "shell.execute_reply.started": "2021-02-18T12:00:55.407713Z"
    }
   },
   "outputs": [
    {
     "name": "stderr",
     "output_type": "stream",
     "text": [
      "C:\\Users\\ramsu\\Anaconda3\\lib\\site-packages\\sklearn\\neural_network\\_multilayer_perceptron.py:585: ConvergenceWarning: Stochastic Optimizer: Maximum iterations (500) reached and the optimization hasn't converged yet.\n",
      "  % self.max_iter, ConvergenceWarning)\n"
     ]
    },
    {
     "data": {
      "text/plain": [
       "MLPClassifier(hidden_layer_sizes=[32], max_iter=500, shuffle=False)"
      ]
     },
     "execution_count": 90,
     "metadata": {},
     "output_type": "execute_result"
    }
   ],
   "source": [
    "model.fit(train[cols], train['d'])"
   ]
  },
  {
   "cell_type": "code",
   "execution_count": 91,
   "metadata": {
    "execution": {
     "iopub.execute_input": "2021-02-18T12:00:59.348841Z",
     "iopub.status.busy": "2021-02-18T12:00:59.348841Z",
     "iopub.status.idle": "2021-02-18T12:00:59.368368Z",
     "shell.execute_reply": "2021-02-18T12:00:59.368368Z",
     "shell.execute_reply.started": "2021-02-18T12:00:59.348841Z"
    }
   },
   "outputs": [],
   "source": [
    "train['p'] = model.predict(train[cols])"
   ]
  },
  {
   "cell_type": "code",
   "execution_count": 92,
   "metadata": {
    "execution": {
     "iopub.execute_input": "2021-02-18T12:01:00.636312Z",
     "iopub.status.busy": "2021-02-18T12:01:00.635326Z",
     "iopub.status.idle": "2021-02-18T12:01:00.642847Z",
     "shell.execute_reply": "2021-02-18T12:01:00.642323Z",
     "shell.execute_reply.started": "2021-02-18T12:01:00.636312Z"
    }
   },
   "outputs": [],
   "source": [
    "train['s'] = train['p'] * train['r']"
   ]
  },
  {
   "cell_type": "code",
   "execution_count": 93,
   "metadata": {
    "execution": {
     "iopub.execute_input": "2021-02-18T12:01:05.632820Z",
     "iopub.status.busy": "2021-02-18T12:01:05.632820Z",
     "iopub.status.idle": "2021-02-18T12:01:05.788363Z",
     "shell.execute_reply": "2021-02-18T12:01:05.788363Z",
     "shell.execute_reply.started": "2021-02-18T12:01:05.632820Z"
    }
   },
   "outputs": [
    {
     "data": {
      "image/png": "[encoded data removed]",
      "text/plain": [
       "<Figure size 720x432 with 1 Axes>"
      ]
     },
     "metadata": {},
     "output_type": "display_data"
    }
   ],
   "source": [
    "train[['r', 's']].cumsum(\n",
    "        ).apply(np.exp).plot(figsize=(10, 6));  # gross performance over time"
   ]
  },
  {
   "cell_type": "markdown",
   "metadata": {},
   "source": [
    "### Testing (Out-of-Sample)"
   ]
  },
  {
   "cell_type": "code",
   "execution_count": 94,
   "metadata": {
    "execution": {
     "iopub.execute_input": "2021-02-18T12:01:19.495160Z",
     "iopub.status.busy": "2021-02-18T12:01:19.494148Z",
     "iopub.status.idle": "2021-02-18T12:01:19.506653Z",
     "shell.execute_reply": "2021-02-18T12:01:19.505652Z",
     "shell.execute_reply.started": "2021-02-18T12:01:19.495160Z"
    }
   },
   "outputs": [],
   "source": [
    "test['p'] = model.predict(test[cols])"
   ]
  },
  {
   "cell_type": "code",
   "execution_count": 95,
   "metadata": {
    "execution": {
     "iopub.execute_input": "2021-02-18T12:01:21.806105Z",
     "iopub.status.busy": "2021-02-18T12:01:21.805102Z",
     "iopub.status.idle": "2021-02-18T12:01:21.821194Z",
     "shell.execute_reply": "2021-02-18T12:01:21.820199Z",
     "shell.execute_reply.started": "2021-02-18T12:01:21.806105Z"
    }
   },
   "outputs": [],
   "source": [
    "test['s'] = test['p'] * test['r']"
   ]
  },
  {
   "cell_type": "code",
   "execution_count": 96,
   "metadata": {
    "execution": {
     "iopub.execute_input": "2021-02-18T12:01:22.411331Z",
     "iopub.status.busy": "2021-02-18T12:01:22.411331Z",
     "iopub.status.idle": "2021-02-18T12:01:22.597912Z",
     "shell.execute_reply": "2021-02-18T12:01:22.597912Z",
     "shell.execute_reply.started": "2021-02-18T12:01:22.411331Z"
    }
   },
   "outputs": [
    {
     "data": {
      "image/png": "[encoded data removed]",
      "text/plain": [
       "<Figure size 720x432 with 1 Axes>"
      ]
     },
     "metadata": {},
     "output_type": "display_data"
    }
   ],
   "source": [
    "test[['r', 's']].cumsum(\n",
    "        ).apply(np.exp).plot(figsize=(10, 6));  # gross performance over time"
   ]
  },
  {
   "cell_type": "markdown",
   "metadata": {},
   "source": [
    "## Object-Oriented Implementation"
   ]
  },
  {
   "cell_type": "code",
   "execution_count": 7,
   "metadata": {
    "execution": {
     "iopub.execute_input": "2021-02-18T14:12:00.060820Z",
     "iopub.status.busy": "2021-02-18T14:12:00.060820Z",
     "iopub.status.idle": "2021-02-18T14:12:00.073506Z",
     "shell.execute_reply": "2021-02-18T14:12:00.071529Z",
     "shell.execute_reply.started": "2021-02-18T14:12:00.060820Z"
    }
   },
   "outputs": [
    {
     "data": {
      "text/plain": [
       "pandas.core.frame.DataFrame"
      ]
     },
     "execution_count": 7,
     "metadata": {},
     "output_type": "execute_result"
    }
   ],
   "source": [
    "type(data)"
   ]
  },
  {
   "cell_type": "code",
   "execution_count": 14,
   "metadata": {
    "execution": {
     "iopub.execute_input": "2021-02-18T14:14:03.761710Z",
     "iopub.status.busy": "2021-02-18T14:14:03.761710Z",
     "iopub.status.idle": "2021-02-18T14:14:03.790222Z",
     "shell.execute_reply": "2021-02-18T14:14:03.790222Z",
     "shell.execute_reply.started": "2021-02-18T14:14:03.761710Z"
    }
   },
   "outputs": [
    {
     "data": {
      "text/html": [
       "<div>\n",
       "<style scoped>\n",
       "    .dataframe tbody tr th:only-of-type {\n",
       "        vertical-align: middle;\n",
       "    }\n",
       "\n",
       "    .dataframe tbody tr th {\n",
       "        vertical-align: top;\n",
       "    }\n",
       "\n",
       "    .dataframe thead th {\n",
       "        text-align: right;\n",
       "    }\n",
       "</style>\n",
       "<table border=\"1\" class=\"dataframe\">\n",
       "  <thead>\n",
       "    <tr style=\"text-align: right;\">\n",
       "      <th></th>\n",
       "      <th>AAPL.O</th>\n",
       "      <th>lag_1</th>\n",
       "      <th>lag_2</th>\n",
       "      <th>lag_3</th>\n",
       "      <th>lag_4</th>\n",
       "      <th>lag_5</th>\n",
       "      <th>lag_6</th>\n",
       "      <th>lag_7</th>\n",
       "      <th>lag_8</th>\n",
       "      <th>lag_9</th>\n",
       "      <th>lag_10</th>\n",
       "    </tr>\n",
       "  </thead>\n",
       "  <tbody>\n",
       "    <tr>\n",
       "      <th>AAPL.O</th>\n",
       "      <td>1.000000</td>\n",
       "      <td>0.999259</td>\n",
       "      <td>0.998507</td>\n",
       "      <td>0.997713</td>\n",
       "      <td>0.996940</td>\n",
       "      <td>0.996205</td>\n",
       "      <td>0.995460</td>\n",
       "      <td>0.994765</td>\n",
       "      <td>0.994025</td>\n",
       "      <td>0.993294</td>\n",
       "      <td>0.992515</td>\n",
       "    </tr>\n",
       "    <tr>\n",
       "      <th>lag_1</th>\n",
       "      <td>0.999259</td>\n",
       "      <td>1.000000</td>\n",
       "      <td>0.999256</td>\n",
       "      <td>0.998502</td>\n",
       "      <td>0.997704</td>\n",
       "      <td>0.996929</td>\n",
       "      <td>0.996191</td>\n",
       "      <td>0.995443</td>\n",
       "      <td>0.994745</td>\n",
       "      <td>0.994002</td>\n",
       "      <td>0.993268</td>\n",
       "    </tr>\n",
       "    <tr>\n",
       "      <th>lag_2</th>\n",
       "      <td>0.998507</td>\n",
       "      <td>0.999256</td>\n",
       "      <td>1.000000</td>\n",
       "      <td>0.999254</td>\n",
       "      <td>0.998496</td>\n",
       "      <td>0.997696</td>\n",
       "      <td>0.996917</td>\n",
       "      <td>0.996177</td>\n",
       "      <td>0.995426</td>\n",
       "      <td>0.994725</td>\n",
       "      <td>0.993979</td>\n",
       "    </tr>\n",
       "    <tr>\n",
       "      <th>lag_3</th>\n",
       "      <td>0.997713</td>\n",
       "      <td>0.998502</td>\n",
       "      <td>0.999254</td>\n",
       "      <td>1.000000</td>\n",
       "      <td>0.999251</td>\n",
       "      <td>0.998490</td>\n",
       "      <td>0.997687</td>\n",
       "      <td>0.996906</td>\n",
       "      <td>0.996163</td>\n",
       "      <td>0.995408</td>\n",
       "      <td>0.994704</td>\n",
       "    </tr>\n",
       "    <tr>\n",
       "      <th>lag_4</th>\n",
       "      <td>0.996940</td>\n",
       "      <td>0.997704</td>\n",
       "      <td>0.998496</td>\n",
       "      <td>0.999251</td>\n",
       "      <td>1.000000</td>\n",
       "      <td>0.999248</td>\n",
       "      <td>0.998485</td>\n",
       "      <td>0.997678</td>\n",
       "      <td>0.996894</td>\n",
       "      <td>0.996148</td>\n",
       "      <td>0.995391</td>\n",
       "    </tr>\n",
       "    <tr>\n",
       "      <th>lag_5</th>\n",
       "      <td>0.996205</td>\n",
       "      <td>0.996929</td>\n",
       "      <td>0.997696</td>\n",
       "      <td>0.998490</td>\n",
       "      <td>0.999248</td>\n",
       "      <td>1.000000</td>\n",
       "      <td>0.999245</td>\n",
       "      <td>0.998479</td>\n",
       "      <td>0.997669</td>\n",
       "      <td>0.996882</td>\n",
       "      <td>0.996134</td>\n",
       "    </tr>\n",
       "    <tr>\n",
       "      <th>lag_6</th>\n",
       "      <td>0.995460</td>\n",
       "      <td>0.996191</td>\n",
       "      <td>0.996917</td>\n",
       "      <td>0.997687</td>\n",
       "      <td>0.998485</td>\n",
       "      <td>0.999245</td>\n",
       "      <td>1.000000</td>\n",
       "      <td>0.999243</td>\n",
       "      <td>0.998473</td>\n",
       "      <td>0.997661</td>\n",
       "      <td>0.996870</td>\n",
       "    </tr>\n",
       "    <tr>\n",
       "      <th>lag_7</th>\n",
       "      <td>0.994765</td>\n",
       "      <td>0.995443</td>\n",
       "      <td>0.996177</td>\n",
       "      <td>0.996906</td>\n",
       "      <td>0.997678</td>\n",
       "      <td>0.998479</td>\n",
       "      <td>0.999243</td>\n",
       "      <td>1.000000</td>\n",
       "      <td>0.999240</td>\n",
       "      <td>0.998468</td>\n",
       "      <td>0.997652</td>\n",
       "    </tr>\n",
       "    <tr>\n",
       "      <th>lag_8</th>\n",
       "      <td>0.994025</td>\n",
       "      <td>0.994745</td>\n",
       "      <td>0.995426</td>\n",
       "      <td>0.996163</td>\n",
       "      <td>0.996894</td>\n",
       "      <td>0.997669</td>\n",
       "      <td>0.998473</td>\n",
       "      <td>0.999240</td>\n",
       "      <td>1.000000</td>\n",
       "      <td>0.999238</td>\n",
       "      <td>0.998462</td>\n",
       "    </tr>\n",
       "    <tr>\n",
       "      <th>lag_9</th>\n",
       "      <td>0.993294</td>\n",
       "      <td>0.994002</td>\n",
       "      <td>0.994725</td>\n",
       "      <td>0.995408</td>\n",
       "      <td>0.996148</td>\n",
       "      <td>0.996882</td>\n",
       "      <td>0.997661</td>\n",
       "      <td>0.998468</td>\n",
       "      <td>0.999238</td>\n",
       "      <td>1.000000</td>\n",
       "      <td>0.999235</td>\n",
       "    </tr>\n",
       "    <tr>\n",
       "      <th>lag_10</th>\n",
       "      <td>0.992515</td>\n",
       "      <td>0.993268</td>\n",
       "      <td>0.993979</td>\n",
       "      <td>0.994704</td>\n",
       "      <td>0.995391</td>\n",
       "      <td>0.996134</td>\n",
       "      <td>0.996870</td>\n",
       "      <td>0.997652</td>\n",
       "      <td>0.998462</td>\n",
       "      <td>0.999235</td>\n",
       "      <td>1.000000</td>\n",
       "    </tr>\n",
       "  </tbody>\n",
       "</table>\n",
       "</div>"
      ],
      "text/plain": [
       "          AAPL.O     lag_1     lag_2     lag_3     lag_4     lag_5     lag_6  \\\n",
       "AAPL.O  1.000000  0.999259  0.998507  0.997713  0.996940  0.996205  0.995460   \n",
       "lag_1   0.999259  1.000000  0.999256  0.998502  0.997704  0.996929  0.996191   \n",
       "lag_2   0.998507  0.999256  1.000000  0.999254  0.998496  0.997696  0.996917   \n",
       "lag_3   0.997713  0.998502  0.999254  1.000000  0.999251  0.998490  0.997687   \n",
       "lag_4   0.996940  0.997704  0.998496  0.999251  1.000000  0.999248  0.998485   \n",
       "lag_5   0.996205  0.996929  0.997696  0.998490  0.999248  1.000000  0.999245   \n",
       "lag_6   0.995460  0.996191  0.996917  0.997687  0.998485  0.999245  1.000000   \n",
       "lag_7   0.994765  0.995443  0.996177  0.996906  0.997678  0.998479  0.999243   \n",
       "lag_8   0.994025  0.994745  0.995426  0.996163  0.996894  0.997669  0.998473   \n",
       "lag_9   0.993294  0.994002  0.994725  0.995408  0.996148  0.996882  0.997661   \n",
       "lag_10  0.992515  0.993268  0.993979  0.994704  0.995391  0.996134  0.996870   \n",
       "\n",
       "           lag_7     lag_8     lag_9    lag_10  \n",
       "AAPL.O  0.994765  0.994025  0.993294  0.992515  \n",
       "lag_1   0.995443  0.994745  0.994002  0.993268  \n",
       "lag_2   0.996177  0.995426  0.994725  0.993979  \n",
       "lag_3   0.996906  0.996163  0.995408  0.994704  \n",
       "lag_4   0.997678  0.996894  0.996148  0.995391  \n",
       "lag_5   0.998479  0.997669  0.996882  0.996134  \n",
       "lag_6   0.999243  0.998473  0.997661  0.996870  \n",
       "lag_7   1.000000  0.999240  0.998468  0.997652  \n",
       "lag_8   0.999240  1.000000  0.999238  0.998462  \n",
       "lag_9   0.998468  0.999238  1.000000  0.999235  \n",
       "lag_10  0.997652  0.998462  0.999235  1.000000  "
      ]
     },
     "execution_count": 14,
     "metadata": {},
     "output_type": "execute_result"
    }
   ],
   "source": [
    "data.corr()"
   ]
  },
  {
   "cell_type": "code",
   "execution_count": null,
   "metadata": {},
   "outputs": [],
   "source": [
    "data.columns  # instance attribute"
   ]
  },
  {
   "cell_type": "code",
   "execution_count": null,
   "metadata": {},
   "outputs": [],
   "source": [
    "data[['lag_1', 'lag_2', 'lag_3']].corr()  # method"
   ]
  },
  {
   "cell_type": "code",
   "execution_count": null,
   "metadata": {},
   "outputs": [],
   "source": [
    "class MyClass:\n",
    "    pass"
   ]
  },
  {
   "cell_type": "code",
   "execution_count": null,
   "metadata": {},
   "outputs": [],
   "source": [
    "mc = MyClass()"
   ]
  },
  {
   "cell_type": "code",
   "execution_count": null,
   "metadata": {},
   "outputs": [],
   "source": [
    "type(MyClass)"
   ]
  },
  {
   "cell_type": "code",
   "execution_count": null,
   "metadata": {},
   "outputs": [],
   "source": [
    "type(mc)"
   ]
  },
  {
   "cell_type": "code",
   "execution_count": null,
   "metadata": {},
   "outputs": [],
   "source": [
    "mc.data_attribute = 'This is an attribute.'"
   ]
  },
  {
   "cell_type": "code",
   "execution_count": null,
   "metadata": {},
   "outputs": [],
   "source": [
    "mc.data_attribute"
   ]
  },
  {
   "cell_type": "code",
   "execution_count": null,
   "metadata": {},
   "outputs": [],
   "source": [
    "mc.data = data"
   ]
  },
  {
   "cell_type": "markdown",
   "metadata": {},
   "source": [
    "### Financial Data Class"
   ]
  },
  {
   "cell_type": "code",
   "execution_count": null,
   "metadata": {},
   "outputs": [],
   "source": [
    "class FinancialData:\n",
    "    url = 'http://hilpisch.com/aiif_eikon_eod_data.csv'\n",
    "    def __init__(self, symbol):  # called during instantiation\n",
    "        self.symbol = symbol  # instance attribute\n",
    "        self.prepare_data()  # calls the method\n",
    "    def prepare_data(self):  # instance method\n",
    "        self.raw = pd.read_csv(self.url, index_col=0,\n",
    "                               parse_dates=True).dropna()\n",
    "        self.data = pd.DataFrame(self.raw[self.symbol])\n",
    "        self.data['r'] = np.log(self.data / self.data.shift(1))\n",
    "    def plot_data(self, cols=None):\n",
    "        if cols is None:\n",
    "            cols = [self.symbol]\n",
    "        self.data[cols].plot(figsize=(10, 6))"
   ]
  },
  {
   "cell_type": "code",
   "execution_count": null,
   "metadata": {},
   "outputs": [],
   "source": [
    "fd = FinancialData('EUR=')  # instantiation of an object"
   ]
  },
  {
   "cell_type": "code",
   "execution_count": null,
   "metadata": {},
   "outputs": [],
   "source": [
    "fd.url  # class attribute"
   ]
  },
  {
   "cell_type": "code",
   "execution_count": null,
   "metadata": {},
   "outputs": [],
   "source": [
    "fd.symbol  # instance attribute"
   ]
  },
  {
   "cell_type": "code",
   "execution_count": null,
   "metadata": {},
   "outputs": [],
   "source": [
    "# fd.prepare_data()  # instance method"
   ]
  },
  {
   "cell_type": "code",
   "execution_count": null,
   "metadata": {},
   "outputs": [],
   "source": [
    "fd.data.info()"
   ]
  },
  {
   "cell_type": "code",
   "execution_count": null,
   "metadata": {},
   "outputs": [],
   "source": [
    "fd.plot_data()"
   ]
  },
  {
   "cell_type": "markdown",
   "metadata": {},
   "source": [
    "### Vectorized Backtesting Class"
   ]
  },
  {
   "cell_type": "code",
   "execution_count": null,
   "metadata": {},
   "outputs": [],
   "source": [
    "class SMABacktester(FinancialData):\n",
    "    def prepare_statistics(self):\n",
    "        self.data['SMA1'] = self.data[self.symbol].rolling(self.SMA1).mean()\n",
    "        self.data['SMA2'] = self.data[self.symbol].rolling(self.SMA2).mean()\n",
    "    def run_strategy(self, SMA1, SMA2):\n",
    "        self.SMA1 = SMA1\n",
    "        self.SMA2 = SMA2\n",
    "        self.prepare_statistics()\n",
    "        self.data['p'] = np.where(self.data['SMA1'] > self.data['SMA2'], 1, -1)\n",
    "        self.data['s'] = self.data['p'].shift(1) * self.data['r']\n",
    "        self.results = self.data.iloc[self.SMA2:].copy()\n",
    "        res = self.results[['r', 's']].sum().apply(np.exp)\n",
    "        return res\n",
    "    def optimize_parameters(self, SMA1_range, SMA2_range):\n",
    "        # simple brute force optimizations\n",
    "        # might e.g. to add annualized returns for\n",
    "        # better comparison\n",
    "        self.ores = pd.DataFrame()\n",
    "        for SMA1 in SMA1_range:\n",
    "            for SMA2 in SMA2_range:\n",
    "                res = self.run_strategy(SMA1, SMA2)\n",
    "                self.ores = self.ores.append(pd.DataFrame(\n",
    "                            {'SMA1': SMA1, 'SMA2': SMA2,\n",
    "                             'BENCH': res['r'], 'STRAT': res['s'],\n",
    "                            'OUTPERF': res['s'] - res['r']}, index=[0,]),\n",
    "                             ignore_index=True)\n",
    "        self.ores = self.ores.sort_values('STRAT', ascending=False)\n",
    "        return self.ores.iloc[0]\n",
    "    def plot_results(self):\n",
    "        self.results[['r', 's']].cumsum().apply(np.exp).plot(figsize=(10, 6),\n",
    "            title=f'{self.symbol} | SMA1={self.SMA1} | SMA2={self.SMA2}')"
   ]
  },
  {
   "cell_type": "code",
   "execution_count": null,
   "metadata": {},
   "outputs": [],
   "source": [
    "sma = SMABacktester('GLD')"
   ]
  },
  {
   "cell_type": "code",
   "execution_count": null,
   "metadata": {},
   "outputs": [],
   "source": [
    "sma.run_strategy(SMA1=42, SMA2=252)"
   ]
  },
  {
   "cell_type": "code",
   "execution_count": null,
   "metadata": {},
   "outputs": [],
   "source": [
    "sma.plot_results()"
   ]
  },
  {
   "cell_type": "code",
   "execution_count": null,
   "metadata": {},
   "outputs": [],
   "source": [
    "# BEWARE OF DATA SNOOPING & OVERFITTING THROUGHOUT!!\n",
    "sma.optimize_parameters(SMA1_range=[10, 20, 30, 40],\n",
    "                        SMA2_range=[150, 200, 250, 300])"
   ]
  },
  {
   "cell_type": "code",
   "execution_count": null,
   "metadata": {},
   "outputs": [],
   "source": [
    "%%time\n",
    "opt = sma.optimize_parameters(SMA1_range=range(15, 60, 2),\n",
    "                        SMA2_range=range(150, 301, 5))\n",
    "opt"
   ]
  },
  {
   "cell_type": "code",
   "execution_count": null,
   "metadata": {},
   "outputs": [],
   "source": [
    "sma.ores.head()"
   ]
  },
  {
   "cell_type": "code",
   "execution_count": null,
   "metadata": {},
   "outputs": [],
   "source": [
    "sma.run_strategy(int(opt['SMA1']), int(opt['SMA2']))"
   ]
  },
  {
   "cell_type": "code",
   "execution_count": null,
   "metadata": {},
   "outputs": [],
   "source": [
    "sma.plot_results()"
   ]
  },
  {
   "cell_type": "code",
   "execution_count": null,
   "metadata": {},
   "outputs": [],
   "source": [
    "# sma.results[['r', 's']].cumsum().apply(np.exp).plot(figsize=(10, 6),\n",
    "#            title=f'{sma.symbol} | SMA1={sma.SMA1} | SMA2={sma.SMA2}');"
   ]
  },
  {
   "cell_type": "code",
   "execution_count": null,
   "metadata": {},
   "outputs": [],
   "source": [
    "sma.data.head()"
   ]
  },
  {
   "cell_type": "code",
   "execution_count": null,
   "metadata": {},
   "outputs": [],
   "source": [
    "sma.data.tail()"
   ]
  },
  {
   "cell_type": "code",
   "execution_count": null,
   "metadata": {},
   "outputs": [],
   "source": [
    "sma.plot_data(cols=[sma.symbol, 'SMA1', 'SMA2'])"
   ]
  },
  {
   "cell_type": "code",
   "execution_count": null,
   "metadata": {},
   "outputs": [],
   "source": [
    "sma.data[sma.SMA2 - 3:].head(6)"
   ]
  },
  {
   "cell_type": "code",
   "execution_count": null,
   "metadata": {},
   "outputs": [],
   "source": [
    "sma.results.head()"
   ]
  },
  {
   "cell_type": "code",
   "execution_count": null,
   "metadata": {},
   "outputs": [],
   "source": [
    "%%time\n",
    "results = {}\n",
    "# BEWARE OF DATA SNOOPING & OVERFITTING THROUGHOUT!!\n",
    "for symbol in ['AAPL.O', 'EUR=', 'GLD']:\n",
    "    sma = SMABacktester(symbol)\n",
    "    opt = sma.optimize_parameters(SMA1_range=range(15, 60, 2),\n",
    "                            SMA2_range=range(150, 301, 10))\n",
    "    results[symbol] = opt"
   ]
  },
  {
   "cell_type": "code",
   "execution_count": null,
   "metadata": {},
   "outputs": [],
   "source": [
    "for symbol in results.keys():\n",
    "    print(symbol)\n",
    "    print(results[symbol])\n",
    "    print('\\n')"
   ]
  },
  {
   "cell_type": "markdown",
   "metadata": {},
   "source": [
    "<img src=\"http://certificate.tpq.io/tpq_logo.png\" alt=\"The Python Quants\" width=\"35%\" align=\"right\" border=\"0\"><br>"
   ]
  }
 ],
 "metadata": {
  "kernelspec": {
   "display_name": "Python 3",
   "language": "python",
   "name": "python3"
  },
  "language_info": {
   "codemirror_mode": {
    "name": "ipython",
    "version": 3
   },
   "file_extension": ".py",
   "mimetype": "text/x-python",
   "name": "python",
   "nbconvert_exporter": "python",
   "pygments_lexer": "ipython3",
   "version": "3.7.9"
  }
 },
 "nbformat": 4,
 "nbformat_minor": 4
}
