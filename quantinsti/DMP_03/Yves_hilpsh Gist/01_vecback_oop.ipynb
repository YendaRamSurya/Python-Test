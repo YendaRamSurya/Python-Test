{
 "cells": [
  {
   "cell_type": "markdown",
   "metadata": {},
   "source": [
    "<img src=\"http://certificate.tpq.io/tpq_logo.png\" alt=\"The Python Quants\" width=\"35%\" align=\"right\" border=\"0\"><br>"
   ]
  },
  {
   "cell_type": "markdown",
   "metadata": {},
   "source": [
    "# EPAT Session 1"
   ]
  },
  {
   "cell_type": "markdown",
   "metadata": {},
   "source": [
    "**Executive Program in Algorithmic Trading**\n",
    "\n",
    "**_Vectorized Backtesting_**\n",
    "\n",
    "Prof. Dr. Yves J. Hilpisch | The Python Quants GmbH | http://tpq.io"
   ]
  },
  {
   "cell_type": "markdown",
   "metadata": {},
   "source": [
    "<a href=\"http://shop.oreilly.com/product/0636920269861.do\" target=\"_blank\"><img src=\"https://hilpisch.com/aiif_cover.png\" width=\"300px\" align=\"left\" border=\"1px\"></a>"
   ]
  },
  {
   "cell_type": "markdown",
   "metadata": {},
   "source": [
    "## Basic Imports"
   ]
  },
  {
   "cell_type": "code",
   "execution_count": 1,
   "metadata": {},
   "outputs": [],
   "source": [
    "import numpy as np\n",
    "import pandas as pd\n",
    "from pylab import plt\n",
    "plt.style.use('seaborn')\n",
    "pd.set_option('mode.chained_assignment', None)"
   ]
  },
  {
   "cell_type": "markdown",
   "metadata": {},
   "source": [
    "## Reading Financial Data"
   ]
  },
  {
   "cell_type": "code",
   "execution_count": 2,
   "metadata": {},
   "outputs": [],
   "source": [
    "url = 'http://hilpisch.com/aiif_eikon_eod_data.csv'  # EOD data\n",
    "# url = 'http://hilpisch.com/aiif_eikon_id_data.csv'  # intraday data"
   ]
  },
  {
   "cell_type": "code",
   "execution_count": 3,
   "metadata": {},
   "outputs": [],
   "source": [
    "raw = pd.read_csv(url, index_col=0, parse_dates=True).dropna()"
   ]
  },
  {
   "cell_type": "code",
   "execution_count": 4,
   "metadata": {},
   "outputs": [
    {
     "name": "stdout",
     "output_type": "stream",
     "text": [
      "<class 'pandas.core.frame.DataFrame'>\n",
      "DatetimeIndex: 2516 entries, 2010-01-04 to 2019-12-31\n",
      "Data columns (total 12 columns):\n",
      " #   Column  Non-Null Count  Dtype  \n",
      "---  ------  --------------  -----  \n",
      " 0   AAPL.O  2516 non-null   float64\n",
      " 1   MSFT.O  2516 non-null   float64\n",
      " 2   INTC.O  2516 non-null   float64\n",
      " 3   AMZN.O  2516 non-null   float64\n",
      " 4   GS.N    2516 non-null   float64\n",
      " 5   SPY     2516 non-null   float64\n",
      " 6   .SPX    2516 non-null   float64\n",
      " 7   .VIX    2516 non-null   float64\n",
      " 8   EUR=    2516 non-null   float64\n",
      " 9   XAU=    2516 non-null   float64\n",
      " 10  GDX     2516 non-null   float64\n",
      " 11  GLD     2516 non-null   float64\n",
      "dtypes: float64(12)\n",
      "memory usage: 255.5 KB\n"
     ]
    }
   ],
   "source": [
    "raw.info()"
   ]
  },
  {
   "cell_type": "code",
   "execution_count": 5,
   "metadata": {},
   "outputs": [
    {
     "data": {
      "text/html": [
       "<div>\n",
       "<style scoped>\n",
       "    .dataframe tbody tr th:only-of-type {\n",
       "        vertical-align: middle;\n",
       "    }\n",
       "\n",
       "    .dataframe tbody tr th {\n",
       "        vertical-align: top;\n",
       "    }\n",
       "\n",
       "    .dataframe thead th {\n",
       "        text-align: right;\n",
       "    }\n",
       "</style>\n",
       "<table border=\"1\" class=\"dataframe\">\n",
       "  <thead>\n",
       "    <tr style=\"text-align: right;\">\n",
       "      <th></th>\n",
       "      <th>AAPL.O</th>\n",
       "      <th>MSFT.O</th>\n",
       "      <th>INTC.O</th>\n",
       "      <th>AMZN.O</th>\n",
       "      <th>GS.N</th>\n",
       "      <th>SPY</th>\n",
       "      <th>.SPX</th>\n",
       "      <th>.VIX</th>\n",
       "      <th>EUR=</th>\n",
       "      <th>XAU=</th>\n",
       "      <th>GDX</th>\n",
       "      <th>GLD</th>\n",
       "    </tr>\n",
       "    <tr>\n",
       "      <th>Date</th>\n",
       "      <th></th>\n",
       "      <th></th>\n",
       "      <th></th>\n",
       "      <th></th>\n",
       "      <th></th>\n",
       "      <th></th>\n",
       "      <th></th>\n",
       "      <th></th>\n",
       "      <th></th>\n",
       "      <th></th>\n",
       "      <th></th>\n",
       "      <th></th>\n",
       "    </tr>\n",
       "  </thead>\n",
       "  <tbody>\n",
       "    <tr>\n",
       "      <th>2010-01-04</th>\n",
       "      <td>30.572827</td>\n",
       "      <td>30.950</td>\n",
       "      <td>20.88</td>\n",
       "      <td>133.90</td>\n",
       "      <td>173.08</td>\n",
       "      <td>113.33</td>\n",
       "      <td>1132.99</td>\n",
       "      <td>20.04</td>\n",
       "      <td>1.4411</td>\n",
       "      <td>1120.00</td>\n",
       "      <td>47.71</td>\n",
       "      <td>109.80</td>\n",
       "    </tr>\n",
       "    <tr>\n",
       "      <th>2010-01-05</th>\n",
       "      <td>30.625684</td>\n",
       "      <td>30.960</td>\n",
       "      <td>20.87</td>\n",
       "      <td>134.69</td>\n",
       "      <td>176.14</td>\n",
       "      <td>113.63</td>\n",
       "      <td>1136.52</td>\n",
       "      <td>19.35</td>\n",
       "      <td>1.4368</td>\n",
       "      <td>1118.65</td>\n",
       "      <td>48.17</td>\n",
       "      <td>109.70</td>\n",
       "    </tr>\n",
       "    <tr>\n",
       "      <th>2010-01-06</th>\n",
       "      <td>30.138541</td>\n",
       "      <td>30.770</td>\n",
       "      <td>20.80</td>\n",
       "      <td>132.25</td>\n",
       "      <td>174.26</td>\n",
       "      <td>113.71</td>\n",
       "      <td>1137.14</td>\n",
       "      <td>19.16</td>\n",
       "      <td>1.4412</td>\n",
       "      <td>1138.50</td>\n",
       "      <td>49.34</td>\n",
       "      <td>111.51</td>\n",
       "    </tr>\n",
       "    <tr>\n",
       "      <th>2010-01-07</th>\n",
       "      <td>30.082827</td>\n",
       "      <td>30.452</td>\n",
       "      <td>20.60</td>\n",
       "      <td>130.00</td>\n",
       "      <td>177.67</td>\n",
       "      <td>114.19</td>\n",
       "      <td>1141.69</td>\n",
       "      <td>19.06</td>\n",
       "      <td>1.4318</td>\n",
       "      <td>1131.90</td>\n",
       "      <td>49.10</td>\n",
       "      <td>110.82</td>\n",
       "    </tr>\n",
       "    <tr>\n",
       "      <th>2010-01-08</th>\n",
       "      <td>30.282827</td>\n",
       "      <td>30.660</td>\n",
       "      <td>20.83</td>\n",
       "      <td>133.52</td>\n",
       "      <td>174.31</td>\n",
       "      <td>114.57</td>\n",
       "      <td>1144.98</td>\n",
       "      <td>18.13</td>\n",
       "      <td>1.4412</td>\n",
       "      <td>1136.10</td>\n",
       "      <td>49.84</td>\n",
       "      <td>111.37</td>\n",
       "    </tr>\n",
       "  </tbody>\n",
       "</table>\n",
       "</div>"
      ],
      "text/plain": [
       "               AAPL.O  MSFT.O  INTC.O  AMZN.O    GS.N     SPY     .SPX   .VIX  \\\n",
       "Date                                                                            \n",
       "2010-01-04  30.572827  30.950   20.88  133.90  173.08  113.33  1132.99  20.04   \n",
       "2010-01-05  30.625684  30.960   20.87  134.69  176.14  113.63  1136.52  19.35   \n",
       "2010-01-06  30.138541  30.770   20.80  132.25  174.26  113.71  1137.14  19.16   \n",
       "2010-01-07  30.082827  30.452   20.60  130.00  177.67  114.19  1141.69  19.06   \n",
       "2010-01-08  30.282827  30.660   20.83  133.52  174.31  114.57  1144.98  18.13   \n",
       "\n",
       "              EUR=     XAU=    GDX     GLD  \n",
       "Date                                        \n",
       "2010-01-04  1.4411  1120.00  47.71  109.80  \n",
       "2010-01-05  1.4368  1118.65  48.17  109.70  \n",
       "2010-01-06  1.4412  1138.50  49.34  111.51  \n",
       "2010-01-07  1.4318  1131.90  49.10  110.82  \n",
       "2010-01-08  1.4412  1136.10  49.84  111.37  "
      ]
     },
     "execution_count": 5,
     "metadata": {},
     "output_type": "execute_result"
    }
   ],
   "source": [
    "raw.head()"
   ]
  },
  {
   "cell_type": "code",
   "execution_count": 6,
   "metadata": {},
   "outputs": [
    {
     "data": {
      "text/html": [
       "<div>\n",
       "<style scoped>\n",
       "    .dataframe tbody tr th:only-of-type {\n",
       "        vertical-align: middle;\n",
       "    }\n",
       "\n",
       "    .dataframe tbody tr th {\n",
       "        vertical-align: top;\n",
       "    }\n",
       "\n",
       "    .dataframe thead th {\n",
       "        text-align: right;\n",
       "    }\n",
       "</style>\n",
       "<table border=\"1\" class=\"dataframe\">\n",
       "  <thead>\n",
       "    <tr style=\"text-align: right;\">\n",
       "      <th></th>\n",
       "      <th>AAPL.O</th>\n",
       "      <th>MSFT.O</th>\n",
       "      <th>INTC.O</th>\n",
       "      <th>AMZN.O</th>\n",
       "      <th>GS.N</th>\n",
       "      <th>SPY</th>\n",
       "      <th>.SPX</th>\n",
       "      <th>.VIX</th>\n",
       "      <th>EUR=</th>\n",
       "      <th>XAU=</th>\n",
       "      <th>GDX</th>\n",
       "      <th>GLD</th>\n",
       "    </tr>\n",
       "    <tr>\n",
       "      <th>Date</th>\n",
       "      <th></th>\n",
       "      <th></th>\n",
       "      <th></th>\n",
       "      <th></th>\n",
       "      <th></th>\n",
       "      <th></th>\n",
       "      <th></th>\n",
       "      <th></th>\n",
       "      <th></th>\n",
       "      <th></th>\n",
       "      <th></th>\n",
       "      <th></th>\n",
       "    </tr>\n",
       "  </thead>\n",
       "  <tbody>\n",
       "    <tr>\n",
       "      <th>2019-12-24</th>\n",
       "      <td>284.27</td>\n",
       "      <td>157.38</td>\n",
       "      <td>59.41</td>\n",
       "      <td>1789.21</td>\n",
       "      <td>229.91</td>\n",
       "      <td>321.23</td>\n",
       "      <td>3223.38</td>\n",
       "      <td>12.67</td>\n",
       "      <td>1.1087</td>\n",
       "      <td>1498.8100</td>\n",
       "      <td>28.66</td>\n",
       "      <td>141.27</td>\n",
       "    </tr>\n",
       "    <tr>\n",
       "      <th>2019-12-26</th>\n",
       "      <td>289.91</td>\n",
       "      <td>158.67</td>\n",
       "      <td>59.82</td>\n",
       "      <td>1868.77</td>\n",
       "      <td>231.21</td>\n",
       "      <td>322.94</td>\n",
       "      <td>3239.91</td>\n",
       "      <td>12.65</td>\n",
       "      <td>1.1096</td>\n",
       "      <td>1511.2979</td>\n",
       "      <td>29.08</td>\n",
       "      <td>142.38</td>\n",
       "    </tr>\n",
       "    <tr>\n",
       "      <th>2019-12-27</th>\n",
       "      <td>289.80</td>\n",
       "      <td>158.96</td>\n",
       "      <td>60.08</td>\n",
       "      <td>1869.80</td>\n",
       "      <td>230.66</td>\n",
       "      <td>322.86</td>\n",
       "      <td>3240.02</td>\n",
       "      <td>13.43</td>\n",
       "      <td>1.1175</td>\n",
       "      <td>1510.4167</td>\n",
       "      <td>28.87</td>\n",
       "      <td>142.33</td>\n",
       "    </tr>\n",
       "    <tr>\n",
       "      <th>2019-12-30</th>\n",
       "      <td>291.52</td>\n",
       "      <td>157.59</td>\n",
       "      <td>59.62</td>\n",
       "      <td>1846.89</td>\n",
       "      <td>229.80</td>\n",
       "      <td>321.08</td>\n",
       "      <td>3221.29</td>\n",
       "      <td>14.82</td>\n",
       "      <td>1.1197</td>\n",
       "      <td>1515.1230</td>\n",
       "      <td>29.49</td>\n",
       "      <td>142.63</td>\n",
       "    </tr>\n",
       "    <tr>\n",
       "      <th>2019-12-31</th>\n",
       "      <td>293.65</td>\n",
       "      <td>157.70</td>\n",
       "      <td>59.85</td>\n",
       "      <td>1847.84</td>\n",
       "      <td>229.93</td>\n",
       "      <td>321.86</td>\n",
       "      <td>3230.78</td>\n",
       "      <td>13.78</td>\n",
       "      <td>1.1210</td>\n",
       "      <td>1517.0100</td>\n",
       "      <td>29.28</td>\n",
       "      <td>142.90</td>\n",
       "    </tr>\n",
       "  </tbody>\n",
       "</table>\n",
       "</div>"
      ],
      "text/plain": [
       "            AAPL.O  MSFT.O  INTC.O   AMZN.O    GS.N     SPY     .SPX   .VIX  \\\n",
       "Date                                                                          \n",
       "2019-12-24  284.27  157.38   59.41  1789.21  229.91  321.23  3223.38  12.67   \n",
       "2019-12-26  289.91  158.67   59.82  1868.77  231.21  322.94  3239.91  12.65   \n",
       "2019-12-27  289.80  158.96   60.08  1869.80  230.66  322.86  3240.02  13.43   \n",
       "2019-12-30  291.52  157.59   59.62  1846.89  229.80  321.08  3221.29  14.82   \n",
       "2019-12-31  293.65  157.70   59.85  1847.84  229.93  321.86  3230.78  13.78   \n",
       "\n",
       "              EUR=       XAU=    GDX     GLD  \n",
       "Date                                          \n",
       "2019-12-24  1.1087  1498.8100  28.66  141.27  \n",
       "2019-12-26  1.1096  1511.2979  29.08  142.38  \n",
       "2019-12-27  1.1175  1510.4167  28.87  142.33  \n",
       "2019-12-30  1.1197  1515.1230  29.49  142.63  \n",
       "2019-12-31  1.1210  1517.0100  29.28  142.90  "
      ]
     },
     "execution_count": 6,
     "metadata": {},
     "output_type": "execute_result"
    }
   ],
   "source": [
    "raw.tail()"
   ]
  },
  {
   "cell_type": "code",
   "execution_count": 7,
   "metadata": {},
   "outputs": [
    {
     "data": {
      "image/png": "[encoded data removed]",
      "text/plain": [
       "<Figure size 720x432 with 1 Axes>"
      ]
     },
     "metadata": {},
     "output_type": "display_data"
    }
   ],
   "source": [
    "(raw / raw.iloc[0]).plot(figsize=(10, 6));"
   ]
  },
  {
   "cell_type": "markdown",
   "metadata": {},
   "source": [
    "## Efficient Markets"
   ]
  },
  {
   "cell_type": "code",
   "execution_count": 12,
   "metadata": {},
   "outputs": [],
   "source": [
    "sym = 'AAPL.O'\n",
    "# sym = 'EUR='"
   ]
  },
  {
   "cell_type": "code",
   "execution_count": 10,
   "metadata": {},
   "outputs": [],
   "source": [
    "data = pd.DataFrame(raw[sym])"
   ]
  },
  {
   "cell_type": "code",
   "execution_count": 11,
   "metadata": {},
   "outputs": [
    {
     "data": {
      "image/png": "[encoded data removed]",
      "text/plain": [
       "<Figure size 720x432 with 1 Axes>"
      ]
     },
     "metadata": {},
     "output_type": "display_data"
    }
   ],
   "source": [
    "data.plot(figsize=(10, 6));"
   ]
  },
  {
   "cell_type": "code",
   "execution_count": 14,
   "metadata": {},
   "outputs": [],
   "source": [
    "lags = 10\n",
    "cols = list()\n",
    "for lag in range(1, lags + 1):\n",
    "    col = f'lag_{lag}'\n",
    "    data[col] = data[sym].shift(lag)\n",
    "    cols.append(col)"
   ]
  },
  {
   "cell_type": "code",
   "execution_count": 15,
   "metadata": {},
   "outputs": [
    {
     "data": {
      "text/plain": [
       "['lag_1',\n",
       " 'lag_2',\n",
       " 'lag_3',\n",
       " 'lag_4',\n",
       " 'lag_5',\n",
       " 'lag_6',\n",
       " 'lag_7',\n",
       " 'lag_8',\n",
       " 'lag_9',\n",
       " 'lag_10']"
      ]
     },
     "execution_count": 15,
     "metadata": {},
     "output_type": "execute_result"
    }
   ],
   "source": [
    "cols"
   ]
  },
  {
   "cell_type": "code",
   "execution_count": 16,
   "metadata": {},
   "outputs": [
    {
     "data": {
      "text/html": [
       "<div>\n",
       "<style scoped>\n",
       "    .dataframe tbody tr th:only-of-type {\n",
       "        vertical-align: middle;\n",
       "    }\n",
       "\n",
       "    .dataframe tbody tr th {\n",
       "        vertical-align: top;\n",
       "    }\n",
       "\n",
       "    .dataframe thead th {\n",
       "        text-align: right;\n",
       "    }\n",
       "</style>\n",
       "<table border=\"1\" class=\"dataframe\">\n",
       "  <thead>\n",
       "    <tr style=\"text-align: right;\">\n",
       "      <th></th>\n",
       "      <th>AAPL.O</th>\n",
       "      <th>lag_1</th>\n",
       "      <th>lag_2</th>\n",
       "      <th>lag_3</th>\n",
       "      <th>lag_4</th>\n",
       "      <th>lag_5</th>\n",
       "      <th>lag_6</th>\n",
       "      <th>lag_7</th>\n",
       "      <th>lag_8</th>\n",
       "      <th>lag_9</th>\n",
       "      <th>lag_10</th>\n",
       "    </tr>\n",
       "    <tr>\n",
       "      <th>Date</th>\n",
       "      <th></th>\n",
       "      <th></th>\n",
       "      <th></th>\n",
       "      <th></th>\n",
       "      <th></th>\n",
       "      <th></th>\n",
       "      <th></th>\n",
       "      <th></th>\n",
       "      <th></th>\n",
       "      <th></th>\n",
       "      <th></th>\n",
       "    </tr>\n",
       "  </thead>\n",
       "  <tbody>\n",
       "    <tr>\n",
       "      <th>2010-01-04</th>\n",
       "      <td>30.572827</td>\n",
       "      <td>NaN</td>\n",
       "      <td>NaN</td>\n",
       "      <td>NaN</td>\n",
       "      <td>NaN</td>\n",
       "      <td>NaN</td>\n",
       "      <td>NaN</td>\n",
       "      <td>NaN</td>\n",
       "      <td>NaN</td>\n",
       "      <td>NaN</td>\n",
       "      <td>NaN</td>\n",
       "    </tr>\n",
       "    <tr>\n",
       "      <th>2010-01-05</th>\n",
       "      <td>30.625684</td>\n",
       "      <td>30.572827</td>\n",
       "      <td>NaN</td>\n",
       "      <td>NaN</td>\n",
       "      <td>NaN</td>\n",
       "      <td>NaN</td>\n",
       "      <td>NaN</td>\n",
       "      <td>NaN</td>\n",
       "      <td>NaN</td>\n",
       "      <td>NaN</td>\n",
       "      <td>NaN</td>\n",
       "    </tr>\n",
       "    <tr>\n",
       "      <th>2010-01-06</th>\n",
       "      <td>30.138541</td>\n",
       "      <td>30.625684</td>\n",
       "      <td>30.572827</td>\n",
       "      <td>NaN</td>\n",
       "      <td>NaN</td>\n",
       "      <td>NaN</td>\n",
       "      <td>NaN</td>\n",
       "      <td>NaN</td>\n",
       "      <td>NaN</td>\n",
       "      <td>NaN</td>\n",
       "      <td>NaN</td>\n",
       "    </tr>\n",
       "    <tr>\n",
       "      <th>2010-01-07</th>\n",
       "      <td>30.082827</td>\n",
       "      <td>30.138541</td>\n",
       "      <td>30.625684</td>\n",
       "      <td>30.572827</td>\n",
       "      <td>NaN</td>\n",
       "      <td>NaN</td>\n",
       "      <td>NaN</td>\n",
       "      <td>NaN</td>\n",
       "      <td>NaN</td>\n",
       "      <td>NaN</td>\n",
       "      <td>NaN</td>\n",
       "    </tr>\n",
       "    <tr>\n",
       "      <th>2010-01-08</th>\n",
       "      <td>30.282827</td>\n",
       "      <td>30.082827</td>\n",
       "      <td>30.138541</td>\n",
       "      <td>30.625684</td>\n",
       "      <td>30.572827</td>\n",
       "      <td>NaN</td>\n",
       "      <td>NaN</td>\n",
       "      <td>NaN</td>\n",
       "      <td>NaN</td>\n",
       "      <td>NaN</td>\n",
       "      <td>NaN</td>\n",
       "    </tr>\n",
       "    <tr>\n",
       "      <th>2010-01-11</th>\n",
       "      <td>30.015684</td>\n",
       "      <td>30.282827</td>\n",
       "      <td>30.082827</td>\n",
       "      <td>30.138541</td>\n",
       "      <td>30.625684</td>\n",
       "      <td>30.572827</td>\n",
       "      <td>NaN</td>\n",
       "      <td>NaN</td>\n",
       "      <td>NaN</td>\n",
       "      <td>NaN</td>\n",
       "      <td>NaN</td>\n",
       "    </tr>\n",
       "    <tr>\n",
       "      <th>2010-01-12</th>\n",
       "      <td>29.674256</td>\n",
       "      <td>30.015684</td>\n",
       "      <td>30.282827</td>\n",
       "      <td>30.082827</td>\n",
       "      <td>30.138541</td>\n",
       "      <td>30.625684</td>\n",
       "      <td>30.572827</td>\n",
       "      <td>NaN</td>\n",
       "      <td>NaN</td>\n",
       "      <td>NaN</td>\n",
       "      <td>NaN</td>\n",
       "    </tr>\n",
       "    <tr>\n",
       "      <th>2010-01-13</th>\n",
       "      <td>30.092827</td>\n",
       "      <td>29.674256</td>\n",
       "      <td>30.015684</td>\n",
       "      <td>30.282827</td>\n",
       "      <td>30.082827</td>\n",
       "      <td>30.138541</td>\n",
       "      <td>30.625684</td>\n",
       "      <td>30.572827</td>\n",
       "      <td>NaN</td>\n",
       "      <td>NaN</td>\n",
       "      <td>NaN</td>\n",
       "    </tr>\n",
       "  </tbody>\n",
       "</table>\n",
       "</div>"
      ],
      "text/plain": [
       "               AAPL.O      lag_1      lag_2      lag_3      lag_4      lag_5  \\\n",
       "Date                                                                           \n",
       "2010-01-04  30.572827        NaN        NaN        NaN        NaN        NaN   \n",
       "2010-01-05  30.625684  30.572827        NaN        NaN        NaN        NaN   \n",
       "2010-01-06  30.138541  30.625684  30.572827        NaN        NaN        NaN   \n",
       "2010-01-07  30.082827  30.138541  30.625684  30.572827        NaN        NaN   \n",
       "2010-01-08  30.282827  30.082827  30.138541  30.625684  30.572827        NaN   \n",
       "2010-01-11  30.015684  30.282827  30.082827  30.138541  30.625684  30.572827   \n",
       "2010-01-12  29.674256  30.015684  30.282827  30.082827  30.138541  30.625684   \n",
       "2010-01-13  30.092827  29.674256  30.015684  30.282827  30.082827  30.138541   \n",
       "\n",
       "                lag_6      lag_7  lag_8  lag_9  lag_10  \n",
       "Date                                                    \n",
       "2010-01-04        NaN        NaN    NaN    NaN     NaN  \n",
       "2010-01-05        NaN        NaN    NaN    NaN     NaN  \n",
       "2010-01-06        NaN        NaN    NaN    NaN     NaN  \n",
       "2010-01-07        NaN        NaN    NaN    NaN     NaN  \n",
       "2010-01-08        NaN        NaN    NaN    NaN     NaN  \n",
       "2010-01-11        NaN        NaN    NaN    NaN     NaN  \n",
       "2010-01-12  30.572827        NaN    NaN    NaN     NaN  \n",
       "2010-01-13  30.625684  30.572827    NaN    NaN     NaN  "
      ]
     },
     "execution_count": 16,
     "metadata": {},
     "output_type": "execute_result"
    }
   ],
   "source": [
    "data.head(8)"
   ]
  },
  {
   "cell_type": "code",
   "execution_count": 17,
   "metadata": {},
   "outputs": [],
   "source": [
    "data.dropna(inplace=True)"
   ]
  },
  {
   "cell_type": "code",
   "execution_count": 22,
   "metadata": {},
   "outputs": [
    {
     "data": {
      "text/plain": [
       "(10,)"
      ]
     },
     "execution_count": 22,
     "metadata": {},
     "output_type": "execute_result"
    }
   ],
   "source": [
    "reg = np.linalg.lstsq(data[cols], data[sym], rcond=-1)[0]"
   ]
  },
  {
   "cell_type": "code",
   "execution_count": 25,
   "metadata": {},
   "outputs": [
    {
     "data": {
      "text/plain": [
       "<BarContainer object of 10 artists>"
      ]
     },
     "execution_count": 25,
     "metadata": {},
     "output_type": "execute_result"
    },
    {
     "data": {
      "image/png": "[encoded data removed]",
      "text/plain": [
       "<Figure size 576x396 with 1 Axes>"
      ]
     },
     "metadata": {},
     "output_type": "display_data"
    }
   ],
   "source": [
    "plt.bar(np.arange(len(reg))+1,reg)"
   ]
  },
  {
   "cell_type": "code",
   "execution_count": 26,
   "metadata": {},
   "outputs": [
    {
     "data": {
      "image/png": "[encoded data removed]",
      "text/plain": [
       "<Figure size 576x396 with 1 Axes>"
      ]
     },
     "metadata": {},
     "output_type": "display_data"
    }
   ],
   "source": [
    "plt.bar(np.arange(len(reg)) + 1, reg);"
   ]
  },
  {
   "cell_type": "markdown",
   "metadata": {},
   "source": [
    "## Simple Trading Strategy"
   ]
  },
  {
   "cell_type": "code",
   "execution_count": 27,
   "metadata": {},
   "outputs": [],
   "source": [
    "sym = 'EUR='"
   ]
  },
  {
   "cell_type": "code",
   "execution_count": 28,
   "metadata": {},
   "outputs": [],
   "source": [
    "data = pd.DataFrame(raw[sym])"
   ]
  },
  {
   "cell_type": "code",
   "execution_count": 29,
   "metadata": {},
   "outputs": [
    {
     "data": {
      "image/png": "[encoded data removed]",
      "text/plain": [
       "<Figure size 720x432 with 1 Axes>"
      ]
     },
     "metadata": {},
     "output_type": "display_data"
    }
   ],
   "source": [
    "data.plot(figsize=(10, 6));"
   ]
  },
  {
   "cell_type": "code",
   "execution_count": 30,
   "metadata": {},
   "outputs": [],
   "source": [
    "data['SMA1'] = data[sym].rolling(42).mean()"
   ]
  },
  {
   "cell_type": "code",
   "execution_count": 31,
   "metadata": {},
   "outputs": [],
   "source": [
    "data['SMA2'] = data[sym].rolling(252).mean()"
   ]
  },
  {
   "cell_type": "code",
   "execution_count": 32,
   "metadata": {},
   "outputs": [
    {
     "data": {
      "image/png": "[encoded data removed]",
      "text/plain": [
       "<Figure size 720x432 with 1 Axes>"
      ]
     },
     "metadata": {},
     "output_type": "display_data"
    }
   ],
   "source": [
    "data.plot(figsize=(10, 6));"
   ]
  },
  {
   "cell_type": "code",
   "execution_count": 33,
   "metadata": {},
   "outputs": [],
   "source": [
    "data.dropna(inplace=True)"
   ]
  },
  {
   "cell_type": "code",
   "execution_count": 34,
   "metadata": {},
   "outputs": [],
   "source": [
    "# data['p'] = np.where(data['SMA1'] > data['SMA2'], 'long', 'short')\n",
    "data['p'] = np.where(data['SMA1'] > data['SMA2'], 1, -1)"
   ]
  },
  {
   "cell_type": "code",
   "execution_count": 35,
   "metadata": {},
   "outputs": [
    {
     "data": {
      "text/html": [
       "<div>\n",
       "<style scoped>\n",
       "    .dataframe tbody tr th:only-of-type {\n",
       "        vertical-align: middle;\n",
       "    }\n",
       "\n",
       "    .dataframe tbody tr th {\n",
       "        vertical-align: top;\n",
       "    }\n",
       "\n",
       "    .dataframe thead th {\n",
       "        text-align: right;\n",
       "    }\n",
       "</style>\n",
       "<table border=\"1\" class=\"dataframe\">\n",
       "  <thead>\n",
       "    <tr style=\"text-align: right;\">\n",
       "      <th></th>\n",
       "      <th>EUR=</th>\n",
       "      <th>SMA1</th>\n",
       "      <th>SMA2</th>\n",
       "      <th>p</th>\n",
       "    </tr>\n",
       "    <tr>\n",
       "      <th>Date</th>\n",
       "      <th></th>\n",
       "      <th></th>\n",
       "      <th></th>\n",
       "      <th></th>\n",
       "    </tr>\n",
       "  </thead>\n",
       "  <tbody>\n",
       "    <tr>\n",
       "      <th>2010-12-31</th>\n",
       "      <td>1.3377</td>\n",
       "      <td>1.342579</td>\n",
       "      <td>1.326218</td>\n",
       "      <td>1</td>\n",
       "    </tr>\n",
       "    <tr>\n",
       "      <th>2011-01-03</th>\n",
       "      <td>1.3351</td>\n",
       "      <td>1.340945</td>\n",
       "      <td>1.325798</td>\n",
       "      <td>1</td>\n",
       "    </tr>\n",
       "    <tr>\n",
       "      <th>2011-01-04</th>\n",
       "      <td>1.3301</td>\n",
       "      <td>1.338940</td>\n",
       "      <td>1.325374</td>\n",
       "      <td>1</td>\n",
       "    </tr>\n",
       "    <tr>\n",
       "      <th>2011-01-05</th>\n",
       "      <td>1.3151</td>\n",
       "      <td>1.336448</td>\n",
       "      <td>1.324874</td>\n",
       "      <td>1</td>\n",
       "    </tr>\n",
       "    <tr>\n",
       "      <th>2011-01-06</th>\n",
       "      <td>1.3001</td>\n",
       "      <td>1.333995</td>\n",
       "      <td>1.324351</td>\n",
       "      <td>1</td>\n",
       "    </tr>\n",
       "    <tr>\n",
       "      <th>...</th>\n",
       "      <td>...</td>\n",
       "      <td>...</td>\n",
       "      <td>...</td>\n",
       "      <td>...</td>\n",
       "    </tr>\n",
       "    <tr>\n",
       "      <th>2019-12-24</th>\n",
       "      <td>1.1087</td>\n",
       "      <td>1.107698</td>\n",
       "      <td>1.119630</td>\n",
       "      <td>-1</td>\n",
       "    </tr>\n",
       "    <tr>\n",
       "      <th>2019-12-26</th>\n",
       "      <td>1.1096</td>\n",
       "      <td>1.107740</td>\n",
       "      <td>1.119529</td>\n",
       "      <td>-1</td>\n",
       "    </tr>\n",
       "    <tr>\n",
       "      <th>2019-12-27</th>\n",
       "      <td>1.1175</td>\n",
       "      <td>1.107924</td>\n",
       "      <td>1.119428</td>\n",
       "      <td>-1</td>\n",
       "    </tr>\n",
       "    <tr>\n",
       "      <th>2019-12-30</th>\n",
       "      <td>1.1197</td>\n",
       "      <td>1.108131</td>\n",
       "      <td>1.119333</td>\n",
       "      <td>-1</td>\n",
       "    </tr>\n",
       "    <tr>\n",
       "      <th>2019-12-31</th>\n",
       "      <td>1.1210</td>\n",
       "      <td>1.108279</td>\n",
       "      <td>1.119231</td>\n",
       "      <td>-1</td>\n",
       "    </tr>\n",
       "  </tbody>\n",
       "</table>\n",
       "<p>2265 rows × 4 columns</p>\n",
       "</div>"
      ],
      "text/plain": [
       "              EUR=      SMA1      SMA2  p\n",
       "Date                                     \n",
       "2010-12-31  1.3377  1.342579  1.326218  1\n",
       "2011-01-03  1.3351  1.340945  1.325798  1\n",
       "2011-01-04  1.3301  1.338940  1.325374  1\n",
       "2011-01-05  1.3151  1.336448  1.324874  1\n",
       "2011-01-06  1.3001  1.333995  1.324351  1\n",
       "...            ...       ...       ... ..\n",
       "2019-12-24  1.1087  1.107698  1.119630 -1\n",
       "2019-12-26  1.1096  1.107740  1.119529 -1\n",
       "2019-12-27  1.1175  1.107924  1.119428 -1\n",
       "2019-12-30  1.1197  1.108131  1.119333 -1\n",
       "2019-12-31  1.1210  1.108279  1.119231 -1\n",
       "\n",
       "[2265 rows x 4 columns]"
      ]
     },
     "execution_count": 35,
     "metadata": {},
     "output_type": "execute_result"
    }
   ],
   "source": [
    "data"
   ]
  },
  {
   "cell_type": "code",
   "execution_count": 36,
   "metadata": {},
   "outputs": [
    {
     "data": {
      "image/png": "[encoded data removed]",
      "text/plain": [
       "<Figure size 720x432 with 2 Axes>"
      ]
     },
     "metadata": {},
     "output_type": "display_data"
    }
   ],
   "source": [
    "data.plot(secondary_y='p', figsize=(10, 6));"
   ]
  },
  {
   "cell_type": "markdown",
   "metadata": {},
   "source": [
    "## Vectorized Backtesting"
   ]
  },
  {
   "cell_type": "code",
   "execution_count": 39,
   "metadata": {},
   "outputs": [],
   "source": [
    "data['r'] = np.log(data[sym] / data[sym].shift(1))"
   ]
  },
  {
   "cell_type": "code",
   "execution_count": 40,
   "metadata": {},
   "outputs": [],
   "source": [
    "data['r_'] = -1 * data['r']  # negative market returns"
   ]
  },
  {
   "cell_type": "code",
   "execution_count": 41,
   "metadata": {},
   "outputs": [],
   "source": [
    "# np.random.choice?"
   ]
  },
  {
   "cell_type": "code",
   "execution_count": 42,
   "metadata": {},
   "outputs": [],
   "source": [
    "data['rn'] = np.random.choice([1, -1], size=len(data)) * data['r']"
   ]
  },
  {
   "cell_type": "code",
   "execution_count": 43,
   "metadata": {},
   "outputs": [],
   "source": [
    "data['s'] = data['r'] * data['p'].shift(1)"
   ]
  },
  {
   "cell_type": "code",
   "execution_count": 44,
   "metadata": {},
   "outputs": [
    {
     "data": {
      "text/html": [
       "<div>\n",
       "<style scoped>\n",
       "    .dataframe tbody tr th:only-of-type {\n",
       "        vertical-align: middle;\n",
       "    }\n",
       "\n",
       "    .dataframe tbody tr th {\n",
       "        vertical-align: top;\n",
       "    }\n",
       "\n",
       "    .dataframe thead th {\n",
       "        text-align: right;\n",
       "    }\n",
       "</style>\n",
       "<table border=\"1\" class=\"dataframe\">\n",
       "  <thead>\n",
       "    <tr style=\"text-align: right;\">\n",
       "      <th></th>\n",
       "      <th>EUR=</th>\n",
       "      <th>SMA1</th>\n",
       "      <th>SMA2</th>\n",
       "      <th>p</th>\n",
       "      <th>r</th>\n",
       "      <th>r_</th>\n",
       "      <th>rn</th>\n",
       "      <th>s</th>\n",
       "    </tr>\n",
       "    <tr>\n",
       "      <th>Date</th>\n",
       "      <th></th>\n",
       "      <th></th>\n",
       "      <th></th>\n",
       "      <th></th>\n",
       "      <th></th>\n",
       "      <th></th>\n",
       "      <th></th>\n",
       "      <th></th>\n",
       "    </tr>\n",
       "  </thead>\n",
       "  <tbody>\n",
       "    <tr>\n",
       "      <th>2010-12-31</th>\n",
       "      <td>1.3377</td>\n",
       "      <td>1.342579</td>\n",
       "      <td>1.326218</td>\n",
       "      <td>1</td>\n",
       "      <td>NaN</td>\n",
       "      <td>NaN</td>\n",
       "      <td>NaN</td>\n",
       "      <td>NaN</td>\n",
       "    </tr>\n",
       "    <tr>\n",
       "      <th>2011-01-03</th>\n",
       "      <td>1.3351</td>\n",
       "      <td>1.340945</td>\n",
       "      <td>1.325798</td>\n",
       "      <td>1</td>\n",
       "      <td>-0.001946</td>\n",
       "      <td>0.001946</td>\n",
       "      <td>-0.001946</td>\n",
       "      <td>-0.001946</td>\n",
       "    </tr>\n",
       "    <tr>\n",
       "      <th>2011-01-04</th>\n",
       "      <td>1.3301</td>\n",
       "      <td>1.338940</td>\n",
       "      <td>1.325374</td>\n",
       "      <td>1</td>\n",
       "      <td>-0.003752</td>\n",
       "      <td>0.003752</td>\n",
       "      <td>-0.003752</td>\n",
       "      <td>-0.003752</td>\n",
       "    </tr>\n",
       "    <tr>\n",
       "      <th>2011-01-05</th>\n",
       "      <td>1.3151</td>\n",
       "      <td>1.336448</td>\n",
       "      <td>1.324874</td>\n",
       "      <td>1</td>\n",
       "      <td>-0.011341</td>\n",
       "      <td>0.011341</td>\n",
       "      <td>-0.011341</td>\n",
       "      <td>-0.011341</td>\n",
       "    </tr>\n",
       "    <tr>\n",
       "      <th>2011-01-06</th>\n",
       "      <td>1.3001</td>\n",
       "      <td>1.333995</td>\n",
       "      <td>1.324351</td>\n",
       "      <td>1</td>\n",
       "      <td>-0.011472</td>\n",
       "      <td>0.011472</td>\n",
       "      <td>-0.011472</td>\n",
       "      <td>-0.011472</td>\n",
       "    </tr>\n",
       "    <tr>\n",
       "      <th>...</th>\n",
       "      <td>...</td>\n",
       "      <td>...</td>\n",
       "      <td>...</td>\n",
       "      <td>...</td>\n",
       "      <td>...</td>\n",
       "      <td>...</td>\n",
       "      <td>...</td>\n",
       "      <td>...</td>\n",
       "    </tr>\n",
       "    <tr>\n",
       "      <th>2019-12-24</th>\n",
       "      <td>1.1087</td>\n",
       "      <td>1.107698</td>\n",
       "      <td>1.119630</td>\n",
       "      <td>-1</td>\n",
       "      <td>0.000090</td>\n",
       "      <td>-0.000090</td>\n",
       "      <td>0.000090</td>\n",
       "      <td>-0.000090</td>\n",
       "    </tr>\n",
       "    <tr>\n",
       "      <th>2019-12-26</th>\n",
       "      <td>1.1096</td>\n",
       "      <td>1.107740</td>\n",
       "      <td>1.119529</td>\n",
       "      <td>-1</td>\n",
       "      <td>0.000811</td>\n",
       "      <td>-0.000811</td>\n",
       "      <td>-0.000811</td>\n",
       "      <td>-0.000811</td>\n",
       "    </tr>\n",
       "    <tr>\n",
       "      <th>2019-12-27</th>\n",
       "      <td>1.1175</td>\n",
       "      <td>1.107924</td>\n",
       "      <td>1.119428</td>\n",
       "      <td>-1</td>\n",
       "      <td>0.007094</td>\n",
       "      <td>-0.007094</td>\n",
       "      <td>-0.007094</td>\n",
       "      <td>-0.007094</td>\n",
       "    </tr>\n",
       "    <tr>\n",
       "      <th>2019-12-30</th>\n",
       "      <td>1.1197</td>\n",
       "      <td>1.108131</td>\n",
       "      <td>1.119333</td>\n",
       "      <td>-1</td>\n",
       "      <td>0.001967</td>\n",
       "      <td>-0.001967</td>\n",
       "      <td>0.001967</td>\n",
       "      <td>-0.001967</td>\n",
       "    </tr>\n",
       "    <tr>\n",
       "      <th>2019-12-31</th>\n",
       "      <td>1.1210</td>\n",
       "      <td>1.108279</td>\n",
       "      <td>1.119231</td>\n",
       "      <td>-1</td>\n",
       "      <td>0.001160</td>\n",
       "      <td>-0.001160</td>\n",
       "      <td>-0.001160</td>\n",
       "      <td>-0.001160</td>\n",
       "    </tr>\n",
       "  </tbody>\n",
       "</table>\n",
       "<p>2265 rows × 8 columns</p>\n",
       "</div>"
      ],
      "text/plain": [
       "              EUR=      SMA1      SMA2  p         r        r_        rn  \\\n",
       "Date                                                                      \n",
       "2010-12-31  1.3377  1.342579  1.326218  1       NaN       NaN       NaN   \n",
       "2011-01-03  1.3351  1.340945  1.325798  1 -0.001946  0.001946 -0.001946   \n",
       "2011-01-04  1.3301  1.338940  1.325374  1 -0.003752  0.003752 -0.003752   \n",
       "2011-01-05  1.3151  1.336448  1.324874  1 -0.011341  0.011341 -0.011341   \n",
       "2011-01-06  1.3001  1.333995  1.324351  1 -0.011472  0.011472 -0.011472   \n",
       "...            ...       ...       ... ..       ...       ...       ...   \n",
       "2019-12-24  1.1087  1.107698  1.119630 -1  0.000090 -0.000090  0.000090   \n",
       "2019-12-26  1.1096  1.107740  1.119529 -1  0.000811 -0.000811 -0.000811   \n",
       "2019-12-27  1.1175  1.107924  1.119428 -1  0.007094 -0.007094 -0.007094   \n",
       "2019-12-30  1.1197  1.108131  1.119333 -1  0.001967 -0.001967  0.001967   \n",
       "2019-12-31  1.1210  1.108279  1.119231 -1  0.001160 -0.001160 -0.001160   \n",
       "\n",
       "                   s  \n",
       "Date                  \n",
       "2010-12-31       NaN  \n",
       "2011-01-03 -0.001946  \n",
       "2011-01-04 -0.003752  \n",
       "2011-01-05 -0.011341  \n",
       "2011-01-06 -0.011472  \n",
       "...              ...  \n",
       "2019-12-24 -0.000090  \n",
       "2019-12-26 -0.000811  \n",
       "2019-12-27 -0.007094  \n",
       "2019-12-30 -0.001967  \n",
       "2019-12-31 -0.001160  \n",
       "\n",
       "[2265 rows x 8 columns]"
      ]
     },
     "execution_count": 44,
     "metadata": {},
     "output_type": "execute_result"
    }
   ],
   "source": [
    "data"
   ]
  },
  {
   "cell_type": "code",
   "execution_count": 45,
   "metadata": {},
   "outputs": [
    {
     "data": {
      "text/plain": [
       "r    -0.176731\n",
       "r_    0.176731\n",
       "rn   -0.272094\n",
       "s     0.253121\n",
       "dtype: float64"
      ]
     },
     "execution_count": 45,
     "metadata": {},
     "output_type": "execute_result"
    }
   ],
   "source": [
    "data[['r', 'r_', 'rn', 's']].sum()  # sum of log returns"
   ]
  },
  {
   "cell_type": "code",
   "execution_count": 46,
   "metadata": {},
   "outputs": [
    {
     "data": {
      "text/plain": [
       "r     0.838006\n",
       "r_    1.193310\n",
       "rn    0.761783\n",
       "s     1.288039\n",
       "dtype: float64"
      ]
     },
     "execution_count": 46,
     "metadata": {},
     "output_type": "execute_result"
    }
   ],
   "source": [
    "data[['r','r_', 'rn', 's']].sum().apply(np.exp)  # gross performance"
   ]
  },
  {
   "cell_type": "code",
   "execution_count": 47,
   "metadata": {},
   "outputs": [
    {
     "data": {
      "text/plain": [
       "r    -0.161994\n",
       "r_    0.193310\n",
       "rn   -0.238217\n",
       "s     0.288039\n",
       "dtype: float64"
      ]
     },
     "execution_count": 47,
     "metadata": {},
     "output_type": "execute_result"
    }
   ],
   "source": [
    "data[['r', 'r_', 'rn', 's']].sum().apply(np.exp) - 1  # net performance"
   ]
  },
  {
   "cell_type": "code",
   "execution_count": 48,
   "metadata": {},
   "outputs": [
    {
     "data": {
      "image/png": "[encoded data removed]",
      "text/plain": [
       "<Figure size 720x432 with 1 Axes>"
      ]
     },
     "metadata": {},
     "output_type": "display_data"
    }
   ],
   "source": [
    "data[['r', 'r_', 'rn', 's']].cumsum(\n",
    "        ).apply(np.exp).plot(figsize=(10, 6));  # gross performance over time"
   ]
  },
  {
   "cell_type": "markdown",
   "metadata": {},
   "source": [
    "## Advanced Trading Strategy"
   ]
  },
  {
   "cell_type": "markdown",
   "metadata": {},
   "source": [
    "### Data Preprocessing"
   ]
  },
  {
   "cell_type": "code",
   "execution_count": null,
   "metadata": {},
   "outputs": [],
   "source": [
    "sym = 'EUR='"
   ]
  },
  {
   "cell_type": "code",
   "execution_count": null,
   "metadata": {},
   "outputs": [],
   "source": [
    "data = pd.DataFrame(raw[sym])"
   ]
  },
  {
   "cell_type": "code",
   "execution_count": null,
   "metadata": {},
   "outputs": [],
   "source": [
    "data['r'] = np.log(data[sym] / data[sym].shift(1))"
   ]
  },
  {
   "cell_type": "code",
   "execution_count": null,
   "metadata": {},
   "outputs": [],
   "source": [
    "data.dropna(inplace=True)"
   ]
  },
  {
   "cell_type": "code",
   "execution_count": null,
   "metadata": {},
   "outputs": [],
   "source": [
    "data['d'] = np.sign(data['r'])\n",
    "data['d'] = data['d'].astype(int)"
   ]
  },
  {
   "cell_type": "code",
   "execution_count": null,
   "metadata": {},
   "outputs": [],
   "source": [
    "data"
   ]
  },
  {
   "cell_type": "code",
   "execution_count": null,
   "metadata": {},
   "outputs": [],
   "source": [
    "data['r_norm'] = (data['r'] - data['r'].mean()) / data['r'].std()"
   ]
  },
  {
   "cell_type": "code",
   "execution_count": null,
   "metadata": {},
   "outputs": [],
   "source": [
    "lags = 5\n",
    "cols = list()\n",
    "for lag in range(1, lags + 1):\n",
    "    col = f'lag_{lag}'\n",
    "    data[col] = data['r_norm'].shift(lag)\n",
    "    cols.append(col)\n",
    "data.dropna(inplace=True)\n",
    "# data[cols] = data[cols].astype(int)"
   ]
  },
  {
   "cell_type": "code",
   "execution_count": null,
   "metadata": {},
   "outputs": [],
   "source": [
    "# 2 ** lags"
   ]
  },
  {
   "cell_type": "code",
   "execution_count": null,
   "metadata": {},
   "outputs": [],
   "source": [
    "data"
   ]
  },
  {
   "cell_type": "markdown",
   "metadata": {},
   "source": [
    "### Model Fitting (In-Sample)"
   ]
  },
  {
   "cell_type": "code",
   "execution_count": null,
   "metadata": {},
   "outputs": [],
   "source": [
    "from sklearn.naive_bayes import GaussianNB\n",
    "from sklearn.linear_model import LogisticRegression\n",
    "from sklearn.neural_network import MLPClassifier"
   ]
  },
  {
   "cell_type": "code",
   "execution_count": null,
   "metadata": {},
   "outputs": [],
   "source": [
    "model = GaussianNB()\n",
    "model"
   ]
  },
  {
   "cell_type": "code",
   "execution_count": null,
   "metadata": {},
   "outputs": [],
   "source": [
    "model = LogisticRegression()\n",
    "model"
   ]
  },
  {
   "cell_type": "code",
   "execution_count": null,
   "metadata": {},
   "outputs": [],
   "source": [
    "model = MLPClassifier(hidden_layer_sizes=[32], shuffle=False, max_iter=500)\n",
    "model"
   ]
  },
  {
   "cell_type": "code",
   "execution_count": null,
   "metadata": {},
   "outputs": [],
   "source": [
    "model.fit(data[cols], data['d'])"
   ]
  },
  {
   "cell_type": "markdown",
   "metadata": {},
   "source": [
    "### Vectorized Backtesting (In-Sample)"
   ]
  },
  {
   "cell_type": "code",
   "execution_count": null,
   "metadata": {},
   "outputs": [],
   "source": [
    "data['p'] = model.predict(data[cols])"
   ]
  },
  {
   "cell_type": "code",
   "execution_count": null,
   "metadata": {},
   "outputs": [],
   "source": [
    "model.classes_"
   ]
  },
  {
   "cell_type": "code",
   "execution_count": null,
   "metadata": {},
   "outputs": [],
   "source": [
    "model.predict_proba(data[cols])"
   ]
  },
  {
   "cell_type": "code",
   "execution_count": null,
   "metadata": {},
   "outputs": [],
   "source": [
    "data.tail()"
   ]
  },
  {
   "cell_type": "code",
   "execution_count": null,
   "metadata": {},
   "outputs": [],
   "source": [
    "data['s'] = data['p'] * data['r']"
   ]
  },
  {
   "cell_type": "code",
   "execution_count": null,
   "metadata": {},
   "outputs": [],
   "source": [
    "data['r_'] = -1 * data['r']  # negative market returns"
   ]
  },
  {
   "cell_type": "code",
   "execution_count": null,
   "metadata": {},
   "outputs": [],
   "source": [
    "data['rn'] = np.random.choice([1, -1], size=len(data)) * data['r']  # random strategy returns"
   ]
  },
  {
   "cell_type": "code",
   "execution_count": null,
   "metadata": {},
   "outputs": [],
   "source": [
    "data[['r','r_', 'rn', 's']].sum().apply(np.exp)  # gross performance"
   ]
  },
  {
   "cell_type": "code",
   "execution_count": null,
   "metadata": {},
   "outputs": [],
   "source": [
    "data[['r', 's']].cumsum(\n",
    "        ).apply(np.exp).plot(figsize=(10, 6));  # gross performance over time"
   ]
  },
  {
   "cell_type": "code",
   "execution_count": null,
   "metadata": {},
   "outputs": [],
   "source": [
    "data[['r', 'r_', 'rn', 's']].cumsum(\n",
    "        ).apply(np.exp).plot(figsize=(10, 6));  # gross performance over time"
   ]
  },
  {
   "cell_type": "markdown",
   "metadata": {},
   "source": [
    "### Train-Test Split"
   ]
  },
  {
   "cell_type": "code",
   "execution_count": null,
   "metadata": {},
   "outputs": [],
   "source": [
    "split = int(len(data) * 0.7)"
   ]
  },
  {
   "cell_type": "code",
   "execution_count": null,
   "metadata": {},
   "outputs": [],
   "source": [
    "train = data.iloc[:split].copy()"
   ]
  },
  {
   "cell_type": "code",
   "execution_count": null,
   "metadata": {},
   "outputs": [],
   "source": [
    "test = data.iloc[split:].copy()"
   ]
  },
  {
   "cell_type": "markdown",
   "metadata": {},
   "source": [
    "### Training (In-Sample)"
   ]
  },
  {
   "cell_type": "code",
   "execution_count": null,
   "metadata": {},
   "outputs": [],
   "source": [
    "model.fit(train[cols], train['d'])"
   ]
  },
  {
   "cell_type": "code",
   "execution_count": null,
   "metadata": {},
   "outputs": [],
   "source": [
    "train['p'] = model.predict(train[cols])"
   ]
  },
  {
   "cell_type": "code",
   "execution_count": null,
   "metadata": {},
   "outputs": [],
   "source": [
    "train['s'] = train['p'] * train['r']"
   ]
  },
  {
   "cell_type": "code",
   "execution_count": null,
   "metadata": {},
   "outputs": [],
   "source": [
    "train[['r', 's']].cumsum(\n",
    "        ).apply(np.exp).plot(figsize=(10, 6));  # gross performance over time"
   ]
  },
  {
   "cell_type": "markdown",
   "metadata": {},
   "source": [
    "### Testing (Out-of-Sample)"
   ]
  },
  {
   "cell_type": "code",
   "execution_count": null,
   "metadata": {},
   "outputs": [],
   "source": [
    "test['p'] = model.predict(test[cols])"
   ]
  },
  {
   "cell_type": "code",
   "execution_count": null,
   "metadata": {},
   "outputs": [],
   "source": [
    "test['s'] = test['p'] * test['r']"
   ]
  },
  {
   "cell_type": "code",
   "execution_count": null,
   "metadata": {},
   "outputs": [],
   "source": [
    "test[['r', 's']].cumsum(\n",
    "        ).apply(np.exp).plot(figsize=(10, 6));  # gross performance over time"
   ]
  },
  {
   "cell_type": "markdown",
   "metadata": {},
   "source": [
    "## Object-Oriented Implementation"
   ]
  },
  {
   "cell_type": "code",
   "execution_count": null,
   "metadata": {},
   "outputs": [],
   "source": [
    "type(data)"
   ]
  },
  {
   "cell_type": "code",
   "execution_count": null,
   "metadata": {},
   "outputs": [],
   "source": [
    "data.columns  # instance attribute"
   ]
  },
  {
   "cell_type": "code",
   "execution_count": null,
   "metadata": {},
   "outputs": [],
   "source": [
    "data[['lag_1', 'lag_2', 'lag_3']].corr()  # method"
   ]
  },
  {
   "cell_type": "code",
   "execution_count": null,
   "metadata": {},
   "outputs": [],
   "source": [
    "class MyClass:\n",
    "    pass"
   ]
  },
  {
   "cell_type": "code",
   "execution_count": null,
   "metadata": {},
   "outputs": [],
   "source": [
    "mc = MyClass()"
   ]
  },
  {
   "cell_type": "code",
   "execution_count": null,
   "metadata": {},
   "outputs": [],
   "source": [
    "type(MyClass)"
   ]
  },
  {
   "cell_type": "code",
   "execution_count": null,
   "metadata": {},
   "outputs": [],
   "source": [
    "type(mc)"
   ]
  },
  {
   "cell_type": "code",
   "execution_count": null,
   "metadata": {},
   "outputs": [],
   "source": [
    "mc.data_attribute = 'This is an attribute.'"
   ]
  },
  {
   "cell_type": "code",
   "execution_count": null,
   "metadata": {},
   "outputs": [],
   "source": [
    "mc.data_attribute"
   ]
  },
  {
   "cell_type": "code",
   "execution_count": null,
   "metadata": {},
   "outputs": [],
   "source": [
    "mc.data = data"
   ]
  },
  {
   "cell_type": "markdown",
   "metadata": {},
   "source": [
    "### Financial Data Class"
   ]
  },
  {
   "cell_type": "code",
   "execution_count": null,
   "metadata": {},
   "outputs": [],
   "source": [
    "class FinancialData:\n",
    "    url = 'http://hilpisch.com/aiif_eikon_eod_data.csv'\n",
    "    def __init__(self, symbol):  # called during instantiation\n",
    "        self.symbol = symbol  # instance attribute\n",
    "        self.prepare_data()  # calls the method\n",
    "    def prepare_data(self):  # instance method\n",
    "        self.raw = pd.read_csv(self.url, index_col=0,\n",
    "                               parse_dates=True).dropna()\n",
    "        self.data = pd.DataFrame(self.raw[self.symbol])\n",
    "        self.data['r'] = np.log(self.data / self.data.shift(1))\n",
    "    def plot_data(self, cols=None):\n",
    "        if cols is None:\n",
    "            cols = [self.symbol]\n",
    "        self.data[cols].plot(figsize=(10, 6))"
   ]
  },
  {
   "cell_type": "code",
   "execution_count": null,
   "metadata": {},
   "outputs": [],
   "source": [
    "fd = FinancialData('EUR=')  # instantiation of an object"
   ]
  },
  {
   "cell_type": "code",
   "execution_count": null,
   "metadata": {},
   "outputs": [],
   "source": [
    "fd.url  # class attribute"
   ]
  },
  {
   "cell_type": "code",
   "execution_count": null,
   "metadata": {},
   "outputs": [],
   "source": [
    "fd.symbol  # instance attribute"
   ]
  },
  {
   "cell_type": "code",
   "execution_count": null,
   "metadata": {},
   "outputs": [],
   "source": [
    "# fd.prepare_data()  # instance method"
   ]
  },
  {
   "cell_type": "code",
   "execution_count": null,
   "metadata": {},
   "outputs": [],
   "source": [
    "fd.data.info()"
   ]
  },
  {
   "cell_type": "code",
   "execution_count": null,
   "metadata": {},
   "outputs": [],
   "source": [
    "fd.plot_data()"
   ]
  },
  {
   "cell_type": "markdown",
   "metadata": {},
   "source": [
    "### Vectorized Backtesting Class"
   ]
  },
  {
   "cell_type": "code",
   "execution_count": null,
   "metadata": {},
   "outputs": [],
   "source": [
    "class SMABacktester(FinancialData):\n",
    "    def prepare_statistics(self):\n",
    "        self.data['SMA1'] = self.data[self.symbol].rolling(self.SMA1).mean()\n",
    "        self.data['SMA2'] = self.data[self.symbol].rolling(self.SMA2).mean()\n",
    "    def run_strategy(self, SMA1, SMA2):\n",
    "        self.SMA1 = SMA1\n",
    "        self.SMA2 = SMA2\n",
    "        self.prepare_statistics()\n",
    "        self.data['p'] = np.where(self.data['SMA1'] > self.data['SMA2'], 1, -1)\n",
    "        self.data['s'] = self.data['p'].shift(1) * self.data['r']\n",
    "        self.results = self.data.iloc[self.SMA2:].copy()\n",
    "        res = self.results[['r', 's']].sum().apply(np.exp)\n",
    "        return res\n",
    "    def optimize_parameters(self, SMA1_range, SMA2_range):\n",
    "        # simple brute force optimizations\n",
    "        # might e.g. to add annualized returns for\n",
    "        # better comparison\n",
    "        self.ores = pd.DataFrame()\n",
    "        for SMA1 in SMA1_range:\n",
    "            for SMA2 in SMA2_range:\n",
    "                res = self.run_strategy(SMA1, SMA2)\n",
    "                self.ores = self.ores.append(pd.DataFrame(\n",
    "                            {'SMA1': SMA1, 'SMA2': SMA2,\n",
    "                             'BENCH': res['r'], 'STRAT': res['s'],\n",
    "                            'OUTPERF': res['s'] - res['r']}, index=[0,]),\n",
    "                             ignore_index=True)\n",
    "        self.ores = self.ores.sort_values('STRAT', ascending=False)\n",
    "        return self.ores.iloc[0]\n",
    "    def plot_results(self):\n",
    "        self.results[['r', 's']].cumsum().apply(np.exp).plot(figsize=(10, 6),\n",
    "            title=f'{self.symbol} | SMA1={self.SMA1} | SMA2={self.SMA2}')"
   ]
  },
  {
   "cell_type": "code",
   "execution_count": null,
   "metadata": {},
   "outputs": [],
   "source": [
    "sma = SMABacktester('GLD')"
   ]
  },
  {
   "cell_type": "code",
   "execution_count": null,
   "metadata": {},
   "outputs": [],
   "source": [
    "sma.run_strategy(SMA1=42, SMA2=252)"
   ]
  },
  {
   "cell_type": "code",
   "execution_count": null,
   "metadata": {},
   "outputs": [],
   "source": [
    "sma.plot_results()"
   ]
  },
  {
   "cell_type": "code",
   "execution_count": null,
   "metadata": {},
   "outputs": [],
   "source": [
    "# BEWARE OF DATA SNOOPING & OVERFITTING THROUGHOUT!!\n",
    "sma.optimize_parameters(SMA1_range=[10, 20, 30, 40],\n",
    "                        SMA2_range=[150, 200, 250, 300])"
   ]
  },
  {
   "cell_type": "code",
   "execution_count": null,
   "metadata": {},
   "outputs": [],
   "source": [
    "%%time\n",
    "opt = sma.optimize_parameters(SMA1_range=range(15, 60, 2),\n",
    "                        SMA2_range=range(150, 301, 5))\n",
    "opt"
   ]
  },
  {
   "cell_type": "code",
   "execution_count": null,
   "metadata": {},
   "outputs": [],
   "source": [
    "sma.ores.head()"
   ]
  },
  {
   "cell_type": "code",
   "execution_count": null,
   "metadata": {},
   "outputs": [],
   "source": [
    "sma.run_strategy(int(opt['SMA1']), int(opt['SMA2']))"
   ]
  },
  {
   "cell_type": "code",
   "execution_count": null,
   "metadata": {},
   "outputs": [],
   "source": [
    "sma.plot_results()"
   ]
  },
  {
   "cell_type": "code",
   "execution_count": null,
   "metadata": {},
   "outputs": [],
   "source": [
    "# sma.results[['r', 's']].cumsum().apply(np.exp).plot(figsize=(10, 6),\n",
    "#            title=f'{sma.symbol} | SMA1={sma.SMA1} | SMA2={sma.SMA2}');"
   ]
  },
  {
   "cell_type": "code",
   "execution_count": null,
   "metadata": {},
   "outputs": [],
   "source": [
    "sma.data.head()"
   ]
  },
  {
   "cell_type": "code",
   "execution_count": null,
   "metadata": {},
   "outputs": [],
   "source": [
    "sma.data.tail()"
   ]
  },
  {
   "cell_type": "code",
   "execution_count": null,
   "metadata": {},
   "outputs": [],
   "source": [
    "sma.plot_data(cols=[sma.symbol, 'SMA1', 'SMA2'])"
   ]
  },
  {
   "cell_type": "code",
   "execution_count": null,
   "metadata": {},
   "outputs": [],
   "source": [
    "sma.data[sma.SMA2 - 3:].head(6)"
   ]
  },
  {
   "cell_type": "code",
   "execution_count": null,
   "metadata": {},
   "outputs": [],
   "source": [
    "sma.results.head()"
   ]
  },
  {
   "cell_type": "code",
   "execution_count": null,
   "metadata": {},
   "outputs": [],
   "source": [
    "%%time\n",
    "results = {}\n",
    "# BEWARE OF DATA SNOOPING & OVERFITTING THROUGHOUT!!\n",
    "for symbol in ['AAPL.O', 'EUR=', 'GLD']:\n",
    "    sma = SMABacktester(symbol)\n",
    "    opt = sma.optimize_parameters(SMA1_range=range(15, 60, 2),\n",
    "                            SMA2_range=range(150, 301, 10))\n",
    "    results[symbol] = opt"
   ]
  },
  {
   "cell_type": "code",
   "execution_count": null,
   "metadata": {},
   "outputs": [],
   "source": [
    "for symbol in results.keys():\n",
    "    print(symbol)\n",
    "    print(results[symbol])\n",
    "    print('\\n')"
   ]
  },
  {
   "cell_type": "markdown",
   "metadata": {},
   "source": [
    "<img src=\"http://certificate.tpq.io/tpq_logo.png\" alt=\"The Python Quants\" width=\"35%\" align=\"right\" border=\"0\"><br>"
   ]
  }
 ],
 "metadata": {
  "kernelspec": {
   "display_name": "Python 3",
   "language": "python",
   "name": "python3"
  },
  "language_info": {
   "codemirror_mode": {
    "name": "ipython",
    "version": 3
   },
   "file_extension": ".py",
   "mimetype": "text/x-python",
   "name": "python",
   "nbconvert_exporter": "python",
   "pygments_lexer": "ipython3",
   "version": "3.7.6"
  }
 },
 "nbformat": 4,
 "nbformat_minor": 4
}
